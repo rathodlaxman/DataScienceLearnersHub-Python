{
    "metadata": {
        "kernelspec": {
            "name": "python3",
            "display_name": "Python 3",
            "language": "python"
        },
        "language_info": {
            "name": "python",
            "version": "3.10.9",
            "mimetype": "text/x-python",
            "codemirror_mode": {
                "name": "ipython",
                "version": 3
            },
            "pygments_lexer": "ipython3",
            "nbconvert_exporter": "python",
            "file_extension": ".py"
        }
    },
    "nbformat_minor": 2,
    "nbformat": 4,
    "cells": [
        {
            "cell_type": "markdown",
            "source": [
                "# **`Data Science Learners Hub`**\n",
                "\n",
                "**Module : Python**\n",
                "\n",
                "**email** : [datasciencelearnershub@gmail.com](mailto:datasciencelearnershub@gmail.com)"
            ],
            "metadata": {
                "azdata_cell_guid": "c537ecf2-4b5f-4867-8df8-4e18ddaa7b5a"
            },
            "attachments": {}
        },
        {
            "cell_type": "markdown",
            "source": [
                "### **`# Exploring 'Set' Data Type in Python`**"
            ],
            "metadata": {
                "azdata_cell_guid": "4ddb3760-0f96-491d-a2f7-c7dfdcfe6e14"
            },
            "attachments": {}
        },
        {
            "cell_type": "markdown",
            "source": [
                "### 1. Introduction\n",
                "\n",
                "A **set** in Python is an unordered collection of unique elements. It's similar to a list or tuple, but it doesn't allow duplicate elements. Sets are commonly used to perform mathematical set operations like union, intersection, difference, etc. Sets are enclosed in curly braces `{ }`\n",
                "\n",
                "### 2. Why Learn This Topic\n",
                "\n",
                "Sets are crucial in Python for various reasons, and they play a significant role in SQL when dealing with databases. In SQL, we often use the `UNION`, `INTERSECT`, and `EXCEPT` operations, which are similar to set operations. Understanding sets in Python can make it easier to work with data and perform operations efficiently.\n",
                "\n",
                "### 3. Real-world Scenario\n",
                "\n",
                "Imagine you have a list of products, and you want to find the unique items across different categories. A set would be perfect for this scenario, giving you a collection of distinct products.\n",
                "\n",
                "\n",
                "### 4. Practical Applications\n",
                "* `Removing Duplicates`: Use sets to quickly remove duplicate elements from a list or string.\n",
                "* `Membership Testing`: Check if an element exists in a set, useful in scenarios like checking for unique usernames.\n",
                "* `Mathematical Operations`: Perform operations like union, intersection, and difference for data analysis.\n",
                "* Finding common or unique items in data sets.\n",
                "* Implementing algorithms like finding the most frequent elements.\n",
                "* Representing relationships between entities (e.g., social networks).\n",
                ""
            ],
            "metadata": {
                "azdata_cell_guid": "c1537f50-c525-4a89-9dcf-0cb6ce2ff2b8"
            },
            "attachments": {}
        },
        {
            "cell_type": "markdown",
            "source": [
                "### 5. Set Methods Summary\n",
                "\n",
                "| Method                      | Syntax                                           | Return Type | In-place or Copy | Input Parameters       | One-liner Explanation                           | Peculiarities/Considerations                          |\n",
                "|-----------------------------|--------------------------------------------------|-------------|------------------|-------------------------|-------------------------------------------------|------------------------------------------------------|\n",
                "| Creating                    | my_set = {1, 2, 3}                               | Set         | Copy             | Elements                | Initialize a set                                  |                                                      |\n",
                "| Adding Elements             | my_set.add(element)                              | None        | In-place         | Element                 | Add an element to the set                        | If the element already exists, it won't be added      |\n",
                "| Removing Elements           | my_set.remove(element)                           | None        | In-place         | Element                 | Remove an element from the set                   | Raises KeyError if the element is not present         |\n",
                "| Removing Elements (Safe)    | my_set.discard(element)                          | None        | In-place         | Element                 | Remove an element safely from the set           | Won't raise an error if the element is not present    |\n",
                "| Removing Arbitrary Element | my_set.pop()                                     | Element     | In-place         | None                    | Remove and return an arbitrary element          | Raises KeyError if the set is empty                  |\n",
                "| Clearing the Set            | my_set.clear()                                   | None        | In-place         | None                    | Remove all elements from the set                |                                                      |\n",
                "| Checking for Membership     | element in my_set                               | bool        | Copy             | Element                 | Check if an element is in the set               |                                                      |\n",
                "| Getting Set Size            | len(my_set)                                     | int         | Copy             | None                    | Get the number of elements in the set          |                                                      |\n",
                "| Copying the Set             | my_set_copy = my_set.copy()                      | Set         | Copy             | None                    | Create a shallow copy of the set               |                                                      |\n",
                "| Set Union                   | union_set = set1.union(set2)                    | Set         | Copy             | Another set (set2)      | Get the union of two sets                       |                                                      |\n",
                "| Set Intersection            | intersection_set = set1.intersection(set2)      | Set         | Copy             | Another set (set2)      | Get the intersection of two sets                |                                                      |\n",
                "| Set Difference              | difference_set = set1.difference(set2)          | Set         | Copy             | Another set (set2)      | Get the difference between two sets             |                                                      |\n",
                "| Set Symmetric Difference    | symmetric_diff_set = set1.symmetric_difference(set2) | Set    | Copy             | Another set (set2)      | Get the symmetric difference of two sets       |                                                      |\n",
                "| Set Update                  | set1.update(set2)                               | None        | In-place         | Another set (set2)      | Update set1 with elements from set2            |                                                      |\n",
                "| Set Intersection Update     | set1.intersection_update(set2)                 | None        | In-place         | Another set (set2)      | Update set1 with the intersection of two sets  |                                                      |\n",
                "| Set Difference Update       | set1.difference_update(set2)                   | None        | In-place         | Another set (set2)      | Update set1 with the difference of two sets    |                                                      |\n",
                "| Set Symmetric Diff Update   | set1.symmetric_difference_update(set2)         | None        | In-place         | Another set (set2)      | Update set1 with the symmetric diff. of sets  |                                                      |\n",
                "| Checking Subset             | is_subset = set1.issubset(set2)                 | bool        | Copy             | Another set (set2)      | Check if set1 is a subset of set2              |                                                      |\n",
                "| Checking Superset           | is_superset = set1.issuperset(set2)             | bool        | Copy             | Another set (set2)      | Check if set1 is a superset of set2            |                                                      |\n",
                ""
            ],
            "metadata": {
                "azdata_cell_guid": "eccfcecc-3e1a-468c-991d-618eb3074821"
            },
            "attachments": {}
        },
        {
            "cell_type": "markdown",
            "source": [
                "### 5. Syntax and Example\n",
                "\n",
                "#### Creating a Set:\n",
                "```python\n",
                "my_set = {1, 2, 3, 4, 5}\n",
                "```\n",
                "\n",
                "#### Set Operations:\n",
                "```python\n",
                "set1 = {1, 2, 3}\n",
                "set2 = {3, 4, 5}\n",
                "\n",
                "# Union\n",
                "union_set = set1.union(set2)  # {1, 2, 3, 4, 5}\n",
                "\n",
                "# Intersection\n",
                "intersection_set = set1.intersection(set2)  # {3}\n",
                "\n",
                "# Difference\n",
                "difference_set = set1.difference(set2)  # {1, 2}\n",
                "```\n",
                "\n",
                "### 6. Set Methods\n",
                "\n",
                "#### Adding Elements:\n",
                "```python\n",
                "my_set.add(6)      # Add an element\n",
                "my_set.update({7, 8})  # Update with another set\n",
                "```\n",
                "\n",
                "#### Removing Elements:\n",
                "```python\n",
                "my_set.remove(3)   # Remove an element\n",
                "my_set.discard(4)   # Discard an element without raising an error if it's not present\n",
                "my_set.pop()        # Remove and return an arbitrary element\n",
                "```\n",
                ""
            ],
            "metadata": {
                "azdata_cell_guid": "640e4986-31e9-4a5b-be76-096595166af2"
            },
            "attachments": {}
        },
        {
            "cell_type": "markdown",
            "source": [
                "### 6. Peculiarities and Considerations\n",
                "\n",
                "* `Unordered`: Elements don't have a specific order.\n",
                "* `Unique`: No duplicate elements allowed.\n",
                "* `Mutable`: Can be modified after creation.\n",
                "* `Not hashable`: Cannot be used as dictionary keys.\n",
                "\n",
                "### 7. Common Mistakes\n",
                "\n",
                "- Forgetting that sets are unordered and do not support indexing.\n",
                "- Attempting to access elements using indices, which is not allowed in sets.\n",
                "* `Trying to create sets with mutable elements`: Sets can only contain immutable types like numbers, strings, and tuples.\n",
                "* `Assuming sets are ordered`: Use a list or tuple if order matters.\n",
                "* `Modifying elements inside a set`: Sets store references to elements, so modifying them outside the set affects the set as well.\n",
                "\n",
                ""
            ],
            "metadata": {
                "azdata_cell_guid": "aef9b206-a23b-46de-bdd3-e2ef563d2f09"
            },
            "attachments": {}
        },
        {
            "cell_type": "markdown",
            "source": [
                "### 7. Hands-On Experience\n",
                "\n",
                "#### `PART - I`"
            ],
            "metadata": {
                "azdata_cell_guid": "d52a2c5d-455b-4ef1-8167-f9fe6a4404b3"
            },
            "attachments": {}
        },
        {
            "cell_type": "markdown",
            "source": [
                "#### Question 1:"
            ],
            "metadata": {
                "azdata_cell_guid": "29304c3b-8dfe-4fb3-a69c-a8071a8df5cb"
            },
            "attachments": {}
        },
        {
            "cell_type": "code",
            "source": [
                "# Find the common elements between two sets\n",
                "set1 = {1, 2, 3, 4}\n",
                "set2 = {3, 4, 5, 6}\n",
                "common_elements = set1.intersection(set2)\n",
                "print(common_elements)\n",
                "# Output: {3, 4}"
            ],
            "metadata": {
                "azdata_cell_guid": "7c5082a0-0a51-433e-9179-6fea70dbcbd3",
                "language": "python"
            },
            "outputs": [
                {
                    "output_type": "stream",
                    "name": "stdout",
                    "text": "{3, 4}\n"
                }
            ],
            "execution_count": 1
        },
        {
            "cell_type": "markdown",
            "source": [
                "#### Question 2:"
            ],
            "metadata": {
                "language": "python",
                "azdata_cell_guid": "5640dbf0-bb3c-4fa4-acf9-92dcd7f2b2d9"
            },
            "attachments": {}
        },
        {
            "cell_type": "code",
            "source": [
                "# Remove duplicates from a list\n",
                "my_list = [1, 2, 2, 3, 4, 4, 5]\n",
                "unique_elements = set(my_list)\n",
                "print(list(unique_elements))\n",
                "# Output: [1, 2, 3, 4, 5]"
            ],
            "metadata": {
                "language": "python",
                "azdata_cell_guid": "8f419276-7d42-4812-82f2-04485da2af91"
            },
            "outputs": [
                {
                    "output_type": "stream",
                    "name": "stdout",
                    "text": "[1, 2, 3, 4, 5]\n"
                }
            ],
            "execution_count": 2
        },
        {
            "cell_type": "markdown",
            "source": [
                "#### Question 3:"
            ],
            "metadata": {
                "language": "python",
                "azdata_cell_guid": "a1cb5e86-b1ab-45cf-8b02-99158f719dce"
            },
            "attachments": {}
        },
        {
            "cell_type": "code",
            "source": [
                "# Check if two sets are disjoint\n",
                "set1 = {1, 2, 3}\n",
                "set2 = {4, 5, 6}\n",
                "are_disjoint = set1.isdisjoint(set2)\n",
                "print(are_disjoint)\n",
                "# Output: True"
            ],
            "metadata": {
                "language": "python",
                "azdata_cell_guid": "75ee383d-bae5-4663-b2fa-ae7d2055af13"
            },
            "outputs": [
                {
                    "output_type": "stream",
                    "name": "stdout",
                    "text": "True\n"
                }
            ],
            "execution_count": 3
        },
        {
            "cell_type": "markdown",
            "source": [
                "#### Explanation:\n",
                "\n",
                "Two sets are considered disjoint if they have no common elements, meaning the intersection of the sets is an empty set. In mathematical terms, two sets A and B are disjoint if \\(A ⋂ B = \\{\\}\\), where `⋂` represents the intersection operation.\n",
                "\n",
                "For example:\n",
                "- Set \\(A = \\{1, 2, 3\\}\\)\n",
                "- Set \\(B = \\{4, 5, 6\\}\\)\n",
                "\n",
                "In this case, sets A and B are disjoint because their intersection is an empty set (\\(A ⋂ B = \\{\\}\\)). There are no elements that exist in both sets.\n",
                "\n",
                "In Python, you can check if two sets are disjoint using the `isdisjoint()` method. Here's an example:\n",
                "\n",
                "```python\n",
                "set1 = {1, 2, 3}\n",
                "set2 = {4, 5, 6}\n",
                "\n",
                "if set1.isdisjoint(set2):\n",
                "    print(\"Sets are disjoint.\")\n",
                "else:\n",
                "    print(\"Sets have common elements.\")\n",
                "```\n",
                "\n",
                "In the example, the `isdisjoint()` method returns `True` because set1 and set2 have no common elements, making them disjoint."
            ],
            "metadata": {
                "language": "python",
                "azdata_cell_guid": "213d6a67-dd9e-4a16-b7a8-e91266b59003"
            },
            "attachments": {}
        },
        {
            "cell_type": "markdown",
            "source": [
                "#### Question 4:"
            ],
            "metadata": {
                "language": "python",
                "azdata_cell_guid": "914fd5e0-75da-4e31-96fb-1808bc970acd"
            },
            "attachments": {}
        },
        {
            "cell_type": "code",
            "source": [
                "# Perform a symmetric difference operation on sets\n",
                "set1 = {1, 2, 3, 4}\n",
                "set2 = {3, 4, 5, 6}\n",
                "symmetric_difference = set1.symmetric_difference(set2)\n",
                "print(symmetric_difference)\n",
                "# Output: {1, 2, 5, 6}"
            ],
            "metadata": {
                "language": "python",
                "azdata_cell_guid": "f9b51fe6-fd90-4889-9faa-c6096a07f2a8"
            },
            "outputs": [
                {
                    "output_type": "stream",
                    "name": "stdout",
                    "text": "{1, 2, 5, 6}\n"
                }
            ],
            "execution_count": 4
        },
        {
            "cell_type": "markdown",
            "source": [
                "#### Explanation:\n",
                "\n",
                "The `symmetric_difference()` method returns a new set containing elements that are in either of the sets, but not in both. In other words, it returns the set of elements that are unique to each set."
            ],
            "metadata": {
                "language": "python",
                "azdata_cell_guid": "ef225381-c6e1-44c6-a645-63f195fc1899"
            },
            "attachments": {}
        },
        {
            "cell_type": "markdown",
            "source": [
                "#### `PART - II`"
            ],
            "metadata": {
                "language": "python",
                "azdata_cell_guid": "598a7978-d2b8-42ea-bb63-46456e377e05"
            },
            "attachments": {}
        },
        {
            "cell_type": "markdown",
            "source": [
                "#### Question 1:\n",
                "Write a Python program to remove the common elements between two sets and display the result."
            ],
            "metadata": {
                "language": "python",
                "azdata_cell_guid": "91395913-ea37-47f8-9b19-1bd0c773642e"
            },
            "attachments": {}
        },
        {
            "cell_type": "code",
            "source": [
                "set1 = {1, 2, 3, 4}\n",
                "set2 = {3, 4, 5, 6}\n",
                "result_set = set1.symmetric_difference(set2)\n",
                "print(result_set)\n",
                "# Output: {1, 2, 5, 6}"
            ],
            "metadata": {
                "language": "python",
                "azdata_cell_guid": "fb8327e4-0506-4430-ab7b-2b654810e692"
            },
            "outputs": [
                {
                    "output_type": "stream",
                    "name": "stdout",
                    "text": "{1, 2, 5, 6}\n"
                }
            ],
            "execution_count": 5
        },
        {
            "cell_type": "markdown",
            "source": [
                "#### Question 2:\n",
                "Create a function that takes two sets as parameters and returns a new set containing only the elements common to both sets."
            ],
            "metadata": {
                "language": "python",
                "azdata_cell_guid": "6abc19a5-73ae-4fe0-88fd-4407ac488b9e"
            },
            "attachments": {}
        },
        {
            "cell_type": "code",
            "source": [
                "def common_elements(set1, set2):\n",
                "    return set1.intersection(set2)\n",
                "\n",
                "set1 = {1, 2, 3, 4}\n",
                "set2 = {3, 4, 5, 6}\n",
                "result_set = common_elements(set1, set2)\n",
                "print(result_set)\n",
                "# Output: {3, 4}"
            ],
            "metadata": {
                "language": "python",
                "azdata_cell_guid": "306a90c9-07fb-48b9-8c04-ef0b91913ed8"
            },
            "outputs": [
                {
                    "output_type": "stream",
                    "name": "stdout",
                    "text": "{3, 4}\n"
                }
            ],
            "execution_count": 6
        },
        {
            "cell_type": "markdown",
            "source": [
                "#### Question 3:\n",
                "Write a Python program to find the union of three sets."
            ],
            "metadata": {
                "language": "python",
                "azdata_cell_guid": "0a20198b-2e09-4cba-89aa-d22568ee81f4"
            },
            "attachments": {}
        },
        {
            "cell_type": "code",
            "source": [
                "set1 = {1, 2, 3}\n",
                "set2 = {3, 4, 5}\n",
                "set3 = {5, 6, 7}\n",
                "union_set = set1.union(set2, set3)\n",
                "print(union_set)\n",
                "# Output: {1, 2, 3, 4, 5, 6, 7}"
            ],
            "metadata": {
                "language": "python",
                "azdata_cell_guid": "22a432c6-9d5b-4b99-b74a-75c30faccbb1"
            },
            "outputs": [
                {
                    "output_type": "stream",
                    "name": "stdout",
                    "text": "{1, 2, 3, 4, 5, 6, 7}\n"
                }
            ],
            "execution_count": 7
        },
        {
            "cell_type": "markdown",
            "source": [
                "#### Question 4:\n",
                "Create a function to check if a given set is a proper subset of another set."
            ],
            "metadata": {
                "language": "python",
                "azdata_cell_guid": "cbf1fd2b-fc80-4165-9c0c-d49ae051c159"
            },
            "attachments": {}
        },
        {
            "cell_type": "code",
            "source": [
                "def is_proper_subset(set1, set2):\n",
                "    return set1.issubset(set2) and set1 != set2\n",
                "\n",
                "set1 = {1, 2}\n",
                "set2 = {1, 2, 3, 4}\n",
                "result = is_proper_subset(set1, set2)\n",
                "print(result)\n",
                "# Output: True"
            ],
            "metadata": {
                "language": "python",
                "azdata_cell_guid": "45ac552d-d909-4d83-a1a6-eea715e21854"
            },
            "outputs": [
                {
                    "output_type": "stream",
                    "name": "stdout",
                    "text": "True\n"
                }
            ],
            "execution_count": 8
        },
        {
            "cell_type": "markdown",
            "source": [
                "#### Question 5:\n",
                "Write a Python program to find the difference between two sets."
            ],
            "metadata": {
                "language": "python",
                "azdata_cell_guid": "b8565f9b-bc0e-41a2-bde4-26786ce5c009"
            },
            "attachments": {}
        },
        {
            "cell_type": "code",
            "source": [
                "set1 = {1, 2, 3, 4}\n",
                "set2 = {3, 4, 5, 6}\n",
                "difference_set = set1.difference(set2)\n",
                "print(difference_set)\n",
                "# Output: {1, 2}"
            ],
            "metadata": {
                "language": "python",
                "azdata_cell_guid": "b4864e2c-7036-4918-9fe1-030ff01c7239"
            },
            "outputs": [
                {
                    "output_type": "stream",
                    "name": "stdout",
                    "text": "{1, 2}\n"
                }
            ],
            "execution_count": 9
        },
        {
            "cell_type": "markdown",
            "source": [
                "#### Question 6:\n",
                "Create a function that removes all occurrences of a specific element from a set."
            ],
            "metadata": {
                "language": "python",
                "azdata_cell_guid": "5b9d0c5c-ba9a-4005-b51d-593004ae3ea8"
            },
            "attachments": {}
        },
        {
            "cell_type": "code",
            "source": [
                "def remove_element(my_set, element):\n",
                "    my_set.discard(element)\n",
                "    return my_set\n",
                "\n",
                "original_set = {1, 2, 3, 4, 1, 2}\n",
                "result_set = remove_element(original_set, 2)\n",
                "print(result_set)\n",
                "# Output: {1, 3, 4}"
            ],
            "metadata": {
                "language": "python",
                "azdata_cell_guid": "130d2581-9c58-41c5-bba3-3272973adc60"
            },
            "outputs": [
                {
                    "output_type": "stream",
                    "name": "stdout",
                    "text": "{1, 3, 4}\n"
                }
            ],
            "execution_count": 10
        },
        {
            "cell_type": "markdown",
            "source": [
                "#### Question 7:\n",
                "Write a Python program to find the intersection of multiple sets."
            ],
            "metadata": {
                "language": "python",
                "azdata_cell_guid": "d9c338f6-8342-49d8-b017-504af9da1ca6"
            },
            "attachments": {}
        },
        {
            "cell_type": "code",
            "source": [
                "set1 = {1, 2, 3}\n",
                "set2 = {2, 3, 4}\n",
                "set3 = {3, 4, 5}\n",
                "intersection_set = set.intersection(set1, set2, set3)\n",
                "print(intersection_set)\n",
                "# Output: {3}"
            ],
            "metadata": {
                "language": "python",
                "azdata_cell_guid": "6747f948-fce6-47c5-8d62-e61155d6eb73"
            },
            "outputs": [
                {
                    "output_type": "stream",
                    "name": "stdout",
                    "text": "{3}\n"
                }
            ],
            "execution_count": 11
        },
        {
            "cell_type": "markdown",
            "source": [
                "#### Question 8:\n",
                "Create a function that checks if two sets are disjoint."
            ],
            "metadata": {
                "language": "python",
                "azdata_cell_guid": "f8c31b8a-fddc-45c1-80e7-3702286ab6b3"
            },
            "attachments": {}
        },
        {
            "cell_type": "code",
            "source": [
                "def are_disjoint(set1, set2):\n",
                "    return set1.isdisjoint(set2)\n",
                "\n",
                "set1 = {1, 2, 3}\n",
                "set2 = {4, 5, 6}\n",
                "result = are_disjoint(set1, set2)\n",
                "print(result)\n",
                "# Output: True"
            ],
            "metadata": {
                "language": "python",
                "azdata_cell_guid": "039e13cc-c11f-40a8-9340-49eb333e429c"
            },
            "outputs": [
                {
                    "output_type": "stream",
                    "name": "stdout",
                    "text": "True\n"
                }
            ],
            "execution_count": 12
        },
        {
            "cell_type": "markdown",
            "source": [
                "#### Question 9:\n",
                "Write a Python program to perform a symmetric difference operation on sets."
            ],
            "metadata": {
                "language": "python",
                "azdata_cell_guid": "05cd297d-0288-4276-a98c-55e4de3843eb"
            },
            "attachments": {}
        },
        {
            "cell_type": "code",
            "source": [
                "set1 = {1, 2, 3, 4}\n",
                "set2 = {3, 4, 5, 6}\n",
                "symmetric_difference = set1.symmetric_difference(set2)\n",
                "print(symmetric_difference)\n",
                "# Output: {1, 2, 5, 6}"
            ],
            "metadata": {
                "language": "python",
                "azdata_cell_guid": "28e8365f-cb8d-47b8-9466-8ad0f2548791"
            },
            "outputs": [
                {
                    "output_type": "stream",
                    "name": "stdout",
                    "text": "{1, 2, 5, 6}\n"
                }
            ],
            "execution_count": 13
        },
        {
            "cell_type": "markdown",
            "source": [
                "#### Question 10:\n",
                "Create a function to check if a set is a superset of another set."
            ],
            "metadata": {
                "language": "python",
                "azdata_cell_guid": "d6c0e8b4-29a7-4bfd-adfe-671f19a87704"
            },
            "attachments": {}
        },
        {
            "cell_type": "code",
            "source": [
                "def is_superset(set1, set2):\n",
                "    return set1.issuperset(set2)\n",
                "\n",
                "set1 = {1, 2, 3, 4}\n",
                "set2 = {2, 3}\n",
                "result = is_superset(set1, set2)\n",
                "print(result)\n",
                "# Output: True"
            ],
            "metadata": {
                "language": "python",
                "azdata_cell_guid": "b1931507-1fb0-40b1-8442-405d3cb958d5"
            },
            "outputs": [
                {
                    "output_type": "stream",
                    "name": "stdout",
                    "text": "True\n"
                }
            ],
            "execution_count": 14
        },
        {
            "cell_type": "markdown",
            "source": [
                "#### Question 11:\n",
                "Write a Python program to find the Cartesian product of two sets."
            ],
            "metadata": {
                "language": "python",
                "azdata_cell_guid": "8b69f194-edce-417e-a70e-b8cea61b8a12"
            },
            "attachments": {}
        },
        {
            "cell_type": "code",
            "source": [
                "from itertools import product\n",
                "\n",
                "set1 = {1, 2}\n",
                "set2 = {'a', 'b'}\n",
                "cartesian_product = set(product(set1, set2))\n",
                "print(cartesian_product)\n",
                "# Output: {(1, 'a'), (2, 'a'), (1, 'b'), (2, 'b')}"
            ],
            "metadata": {
                "language": "python",
                "azdata_cell_guid": "74566b03-7776-4d6c-ac88-373f51e29ca8"
            },
            "outputs": [
                {
                    "output_type": "stream",
                    "name": "stdout",
                    "text": "{(2, 'a'), (2, 'b'), (1, 'a'), (1, 'b')}\n"
                }
            ],
            "execution_count": 15
        },
        {
            "cell_type": "markdown",
            "source": [
                "#### Question 12:\n",
                "Create a function that returns the power set (all subsets) of a given set."
            ],
            "metadata": {
                "language": "python",
                "azdata_cell_guid": "fa4a691a-84dd-47ad-a3ef-e33092472f5c"
            },
            "attachments": {}
        },
        {
            "cell_type": "code",
            "source": [
                "from itertools import chain, combinations\n",
                "\n",
                "def power_set(my_set):\n",
                "    return list(chain.from_iterable(combinations(my_set, r) for r in range(len(my_set)+1)))\n",
                "\n",
                "original_set = {1, 2, 3}\n",
                "result_power_set = power_set(original_set)\n",
                "print(result_power_set)\n",
                "# Output: [(), (1,), (2,), (3,), (1, 2), (1, 3), (2, 3), (1, 2, 3)]"
            ],
            "metadata": {
                "language": "python",
                "azdata_cell_guid": "626f27fc-eb2a-42b3-8ff6-9142818498ce"
            },
            "outputs": [
                {
                    "output_type": "stream",
                    "name": "stdout",
                    "text": "[(), (1,), (2,), (3,), (1, 2), (1, 3), (2, 3), (1, 2, 3)]\n"
                }
            ],
            "execution_count": 16
        },
        {
            "cell_type": "markdown",
            "source": [
                "#### Explanation:\n",
                "\n",
                "\n",
                "1. Import necessary modules:\n",
                "   ```python\n",
                "   from itertools import chain, combinations\n",
                "   ```\n",
                "   - The `itertools` module is used to work with iterators and generators.\n",
                "   - Specifically, `chain` and `combinations` functions are imported.\n",
                "\n",
                "2. Define the `power_set` function:\n",
                "   ```python\n",
                "   def power_set(my_set):\n",
                "       return list(chain.from_iterable(combinations(my_set, r) for r in range(len(my_set)+1)))\n",
                "   ```\n",
                "   - The function takes a set `my_set` as an argument.\n",
                "   - It uses a generator expression to create all combinations of the set for each length `r` ranging from 0 to the length of the set.\n",
                "   - The `chain.from_iterable` function is used to flatten the resulting list of tuples into a single list.\n",
                "   - The final result is a list containing all subsets of the given set, including the empty set and the set itself.\n",
                "\n",
                "3. Define the original set and call the function:\n",
                "   ```python\n",
                "   original_set = {1, 2, 3}\n",
                "   result_power_set = power_set(original_set)\n",
                "   ```\n",
                "\n",
                "4. Print the result:\n",
                "   ```python\n",
                "   print(result_power_set)\n",
                "   ```\n",
                "   - The output will be:\n",
                "     ```\n",
                "     [(), (1,), (2,), (3,), (1, 2), (1, 3), (2, 3), (1, 2, 3)]\n",
                "     ```\n",
                "     This output represents all possible subsets (including the empty set and the original set) of the given set `{1, 2, 3}`.\n",
                "\n",
                "The power set is a mathematical concept that refers to the set of all subsets of a set. The code efficiently generates the power set using combinations from the itertools module."
            ],
            "metadata": {
                "language": "python",
                "azdata_cell_guid": "30bcd70e-b681-4731-9589-c0e94d867d43"
            },
            "attachments": {}
        },
        {
            "cell_type": "markdown",
            "source": [
                "#### Question 13:\n",
                "Write a Python program to remove duplicate elements from a list that is stored as a set."
            ],
            "metadata": {
                "language": "python",
                "azdata_cell_guid": "8eb2e64c-4ee9-4151-88dc-d5254fc59d0e"
            },
            "attachments": {}
        },
        {
            "cell_type": "code",
            "source": [
                "my_list = [1, 2, 3, 2, 4, 5, 1]\n",
                "unique_elements = list(set(my_list))\n",
                "print(unique_elements)\n",
                "# Output: [1, 2, 3, 4, 5]"
            ],
            "metadata": {
                "language": "python",
                "azdata_cell_guid": "a079c3b8-be61-48a6-b0af-844153dfe8fd"
            },
            "outputs": [
                {
                    "output_type": "stream",
                    "name": "stdout",
                    "text": "[1, 2, 3, 4, 5]\n"
                }
            ],
            "execution_count": 17
        },
        {
            "cell_type": "markdown",
            "source": [
                "#### Question 14:\n",
                "Create a function that checks if a set is a frozen set."
            ],
            "metadata": {
                "language": "python",
                "azdata_cell_guid": "d6ff1f5b-8e28-4074-8b60-82c28119ea0e"
            },
            "attachments": {}
        },
        {
            "cell_type": "code",
            "source": [
                "def is_frozen_set(my_set):\n",
                "    return isinstance(my_set, frozenset)\n",
                "\n",
                "frozen_set_example = frozenset({1, 2, 3})\n",
                "result = is_frozen_set(frozen_set_example)\n",
                "print(result)\n",
                "# Output: True"
            ],
            "metadata": {
                "language": "python",
                "azdata_cell_guid": "c9d37bfc-caa1-4151-a34e-c3d8c11a58d4"
            },
            "outputs": [
                {
                    "output_type": "stream",
                    "name": "stdout",
                    "text": "True\n"
                }
            ],
            "execution_count": 18
        },
        {
            "cell_type": "markdown",
            "source": [
                "#### Explanation:\n",
                "\n",
                "\n",
                "1. Define the `is_frozen_set` function:\n",
                "   ```python\n",
                "   def is_frozen_set(my_set):\n",
                "       return isinstance(my_set, frozenset)\n",
                "   ```\n",
                "   - The function takes a single argument `my_set`.\n",
                "   - It uses the `isinstance` function to check if `my_set` is an instance of the `frozenset` class.\n",
                "   - The function returns `True` if it's a frozen set and `False` otherwise.\n",
                "\n",
                "2. Create an example of a frozen set:\n",
                "   ```python\n",
                "   frozen_set_example = frozenset({1, 2, 3})\n",
                "   ```\n",
                "   - `frozenset({1, 2, 3})` creates a frozen set with elements 1, 2, and 3.\n",
                "\n",
                "3. Call the `is_frozen_set` function with the frozen set:\n",
                "   ```python\n",
                "   result = is_frozen_set(frozen_set_example)\n",
                "   ```\n",
                "\n",
                "4. Print the result:\n",
                "   ```python\n",
                "   print(result)\n",
                "   ```\n",
                "   - The output will be:\n",
                "     ```\n",
                "     True\n",
                "     ```\n",
                "     This indicates that the provided set (`frozen_set_example`) is indeed a frozen set.\n",
                "\n",
                "A frozen set in Python is an immutable version of a set, and it is created using the `frozenset` constructor. The `is_frozen_set` function checks if a given set is a frozen set by using the `isinstance` function."
            ],
            "metadata": {
                "language": "python",
                "azdata_cell_guid": "5822e1d1-0bf6-44ee-9618-c44fa6a1203e"
            },
            "attachments": {}
        },
        {
            "cell_type": "markdown",
            "source": [
                "#### Question 15:\n",
                "Write a Python program to find the largest and smallest elements in a set."
            ],
            "metadata": {
                "azdata_cell_guid": "408bf010-8f7a-4b70-a076-1899f4cab132"
            },
            "attachments": {}
        },
        {
            "cell_type": "code",
            "source": [
                "my_set = {10, 5, 3, 8, 15}\n",
                "largest_element = max(my_set)\n",
                "smallest_element = min(my_set)\n",
                "print(f\"Largest Element: {largest_element}, Smallest Element: {smallest_element}\")\n",
                "# Output: Largest Element: 15, Smallest Element: 3"
            ],
            "metadata": {
                "azdata_cell_guid": "fc91524f-3f31-400f-95f1-9e9a9ae1fed3",
                "language": "python"
            },
            "outputs": [
                {
                    "output_type": "stream",
                    "name": "stdout",
                    "text": "Largest Element: 15, Smallest Element: 3\n"
                }
            ],
            "execution_count": 19
        },
        {
            "cell_type": "markdown",
            "source": [
                "#### `PART - III`"
            ],
            "metadata": {
                "language": "python",
                "azdata_cell_guid": "84acdf95-77d4-4a60-9d52-7a9d936569f0"
            },
            "attachments": {}
        },
        {
            "cell_type": "markdown",
            "source": [
                "#### Question 1:\n",
                "Finding Unique Words: Given a text file, write a Python program to find the number of unique words it contains."
            ],
            "metadata": {
                "language": "python",
                "azdata_cell_guid": "0969942b-b577-4340-b460-53fbb41639e0"
            },
            "attachments": {}
        },
        {
            "cell_type": "code",
            "source": [
                "def unique_words(filename):\n",
                "  with open(filename, 'r') as f:\n",
                "    words = set(f.read().lower().split())\n",
                "  return len(words)\n",
                "\n",
                "#Note : Dont forget to create \"my_text.txt\" file\n",
                "unique_words(\"my_text.txt\")  # Returns the number of unique words in the file\n",
                ""
            ],
            "metadata": {
                "language": "python",
                "azdata_cell_guid": "e58afbd5-2250-464d-bd78-99474f49e8eb"
            },
            "outputs": [
                {
                    "output_type": "execute_result",
                    "execution_count": 21,
                    "data": {
                        "text/plain": "25"
                    },
                    "metadata": {}
                }
            ],
            "execution_count": 21
        },
        {
            "cell_type": "markdown",
            "source": [
                "#### Question 2:\n",
                "Common Interests: You have two sets representing the hobbies of Mary and John. Write a program to find all the hobbies they share."
            ],
            "metadata": {
                "language": "python",
                "azdata_cell_guid": "f7c0e1aa-e4ac-4c81-aea8-babfdeef9a0c"
            },
            "attachments": {}
        },
        {
            "cell_type": "code",
            "source": [
                "mary_hobbies = {\"reading\", \"painting\", \"cooking\"}\n",
                "john_hobbies = {\"hiking\", \"cooking\", \"photography\"}\n",
                "\n",
                "shared_hobbies = mary_hobbies.intersection(john_hobbies)\n",
                "print(f\"Shared hobbies: {shared_hobbies}\") # Prints \"cooking\"\n",
                ""
            ],
            "metadata": {
                "language": "python",
                "azdata_cell_guid": "8d802bd2-1de7-4513-bd69-8b0dc19bc980"
            },
            "outputs": [
                {
                    "output_type": "stream",
                    "name": "stdout",
                    "text": "Shared hobbies: {'cooking'}\n"
                }
            ],
            "execution_count": 22
        },
        {
            "cell_type": "markdown",
            "source": [
                "#### Question 3:\n",
                "Duplicate Movie Titles: You have a list of movie titles from different years. Write a program to find all titles that appear more than once, regardless of year."
            ],
            "metadata": {
                "language": "python",
                "azdata_cell_guid": "256d66fc-7ef6-48f2-bc93-3b500c22696f"
            },
            "attachments": {}
        },
        {
            "cell_type": "code",
            "source": [
                "movie_titles = [\n",
                "  (\"The Godfather\", 1972),\n",
                "  (\"The Shining\", 1980),\n",
                "  (\"The Godfather Part II\", 1974),\n",
                "  (\"Star Wars\", 1977),\n",
                "  (\"Star Wars: Episode V - The Empire Strikes Back\", 1980),\n",
                "]\n",
                "\n",
                "seen_titles = set()\n",
                "duplicates = set()\n",
                "for title, year in movie_titles:\n",
                "  if title in seen_titles:\n",
                "    duplicates.add(title)\n",
                "  else:\n",
                "    seen_titles.add(title)\n",
                "\n",
                "print(f\"Duplicate titles: {duplicates}\") # Prints \"The Godfather\"\n",
                ""
            ],
            "metadata": {
                "language": "python",
                "azdata_cell_guid": "09992501-0271-4baf-a99f-2c56a2129cba"
            },
            "outputs": [
                {
                    "output_type": "stream",
                    "name": "stdout",
                    "text": "Duplicate titles: set()\n"
                }
            ],
            "execution_count": 23
        },
        {
            "cell_type": "markdown",
            "source": [
                "#### Question 4:\n",
                "Restaurant Recommender: You have a set of cuisines liked by a user and a list of restaurants offering different cuisines. Write a program to recommend restaurants based on the user's preferences."
            ],
            "metadata": {
                "language": "python",
                "azdata_cell_guid": "0b93a02f-1ec9-46dd-b362-1800c995965b"
            },
            "attachments": {}
        },
        {
            "cell_type": "code",
            "source": [
                "user_cuisines = {\"Italian\", \"Thai\"}\n",
                "restaurants = [\n",
                "  (\"La Cucina\", \"Italian\"),\n",
                "  (\"Spice of Asia\", \"Thai\"),\n",
                "  (\"Taco Fiesta\", \"Mexican\"),\n",
                "]\n",
                "\n",
                "recommended_restaurants = {restaurant[0] for restaurant in restaurants if restaurant[1] in user_cuisines}\n",
                "print(f\"Recommended restaurants: {recommended_restaurants}\") # Prints \"La Cucina\", \"Spice of Asia\"\n",
                ""
            ],
            "metadata": {
                "language": "python",
                "azdata_cell_guid": "09c529d6-a60a-4487-8494-94f2d545c890"
            },
            "outputs": [
                {
                    "output_type": "stream",
                    "name": "stdout",
                    "text": "Recommended restaurants: {'Spice of Asia', 'La Cucina'}\n"
                }
            ],
            "execution_count": 24
        },
        {
            "cell_type": "markdown",
            "source": [
                "#### Question 5:\n",
                "Missing Numbers: You have a set containing consecutive numbers except for one missing number. Write a program to find the missing number."
            ],
            "metadata": {
                "language": "python",
                "azdata_cell_guid": "c79518f8-2914-4ed1-9983-6dfacae47ff4"
            },
            "attachments": {}
        },
        {
            "cell_type": "code",
            "source": [
                "numbers = set(range(1, 11))\n",
                "numbers.remove(5)\n",
                "\n",
                "missing_number = sum(range(1, 11)) - sum(numbers)\n",
                "print(f\"Missing number: {missing_number}\") # Prints 5\n",
                ""
            ],
            "metadata": {
                "language": "python",
                "azdata_cell_guid": "84f2b7ee-14e2-4ff8-815b-4cb9f8f9e4d9"
            },
            "outputs": [
                {
                    "output_type": "stream",
                    "name": "stdout",
                    "text": "Missing number: 5\n"
                }
            ],
            "execution_count": 25
        },
        {
            "cell_type": "markdown",
            "source": [
                "#### Question 6:\n",
                "Anagram Detector: Write a program to efficiently check if two words are anagrams (contain the same letters in different orders)."
            ],
            "metadata": {
                "language": "python",
                "azdata_cell_guid": "6ee73824-f74b-42ea-9f72-79e52da23549"
            },
            "attachments": {}
        },
        {
            "cell_type": "code",
            "source": [
                "def is_anagram(word1, word2):\n",
                "  word1_set = set(word1.lower())\n",
                "  word2_set = set(word2.lower())\n",
                "  return word1_set == word2_set\n",
                "\n",
                "is_anagram(\"silent\", \"listen\") # Returns True\n",
                "is_anagram(\"apple\", \"grape\") # Returns False\n",
                ""
            ],
            "metadata": {
                "language": "python",
                "azdata_cell_guid": "040cc5d0-e37e-4b3d-acf5-8b8775df0561"
            },
            "outputs": [
                {
                    "output_type": "execute_result",
                    "execution_count": 26,
                    "data": {
                        "text/plain": "False"
                    },
                    "metadata": {}
                }
            ],
            "execution_count": 26
        },
        {
            "cell_type": "markdown",
            "source": [
                "### Homework Assignment on Sets in Python\n",
                "\n",
                "#### Question 1:\n",
                "Write a Python program to create an empty set.\n",
                "\n",
                "#### Question 2:\n",
                "Create a function that checks if two sets are disjoint.\n",
                "\n",
                "#### Question 3:\n",
                "Write a Python program to find the union of two sets.\n",
                "\n",
                "#### Question 4:\n",
                "Create a function that returns the symmetric difference of two sets.\n",
                "\n",
                "#### Question 5:\n",
                "Write a Python program to remove elements from a set that are common to both sets.\n",
                "\n",
                "#### Question 6:\n",
                "Create a function that calculates the Jaccard similarity coefficient between two sets.\n",
                "\n",
                "#### Question 7:\n",
                "Write a Python program to find the intersection of multiple sets.\n",
                "\n",
                "#### Question 8:\n",
                "Create a function that generates a power set of a given set.\n",
                "\n",
                "#### Question 9:\n",
                "Write a Python program to perform a set operation on a list of sets.\n",
                "\n",
                "#### Question 10:\n",
                "Create a function that checks if a set is a subset of another set.\n",
                "\n",
                "Feel free to assign these questions to your students for their homework."
            ],
            "metadata": {
                "language": "python",
                "azdata_cell_guid": "fc1d2867-154b-4a96-803f-e5540a65bff4"
            },
            "attachments": {}
        },
        {
            "cell_type": "markdown",
            "source": [
                "### 9. Interesting Facts\n",
                "\n",
                "- `Mathematical Roots`: Sets in Python are inspired by mathematical sets, making them a powerful tool for mathematical operations in programming.\n",
                "- Sets are implemented using hash tables, making membership tests extremely efficient.\n",
                "- The `frozenset` data type is an immutable version of a set."
            ],
            "metadata": {
                "language": "python",
                "azdata_cell_guid": "846064ea-2728-4a71-a886-96b6d1851fa7"
            },
            "attachments": {}
        }
    ]
}