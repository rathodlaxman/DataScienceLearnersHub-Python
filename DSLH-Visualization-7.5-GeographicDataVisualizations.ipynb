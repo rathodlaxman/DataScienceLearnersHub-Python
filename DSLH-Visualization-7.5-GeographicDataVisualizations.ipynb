{
    "metadata": {
        "kernelspec": {
            "name": "python3",
            "display_name": "Python 3",
            "language": "python"
        },
        "language_info": {
            "name": "python",
            "version": "3.10.9",
            "mimetype": "text/x-python",
            "codemirror_mode": {
                "name": "ipython",
                "version": 3
            },
            "pygments_lexer": "ipython3",
            "nbconvert_exporter": "python",
            "file_extension": ".py"
        }
    },
    "nbformat_minor": 2,
    "nbformat": 4,
    "cells": [
        {
            "cell_type": "markdown",
            "source": [
                "# **`Data Science Learners Hub`**\n",
                "\n",
                "**Module : Python**\n",
                "\n",
                "**email** : [datasciencelearnershub@gmail.com](mailto:datasciencelearnershub@gmail.com)"
            ],
            "metadata": {
                "azdata_cell_guid": "f309ae61-58cb-43f4-935e-6c2acf2bbc86"
            },
            "attachments": {}
        },
        {
            "cell_type": "markdown",
            "source": [
                "## **`#5: Geographic Data Visualization`**\n",
                "\n",
                "13. **Geospatial Data Visualization with Folium**\n",
                "    - Introduction to Folium for interactive maps\n",
                "    - Adding markers, popups, and choropleth maps\n",
                "\n",
                "14. **3D Plots with Matplotlib and Plotly**\n",
                "    - Creating 3D scatter plots and surface plots\n",
                "    - Visualizing 3D data with Matplotlib and Plotly\n",
                "\n",
                "15. **Final Project and Recap**\n",
                "    - Integration of learned concepts into a final project\n",
                "    - Review and recap of key concepts"
            ],
            "metadata": {
                "azdata_cell_guid": "0af49fac-59fe-4124-9637-f608e28c8600",
                "language": ""
            },
            "attachments": {}
        },
        {
            "cell_type": "markdown",
            "source": [
                "### **`13. Introduction to Geospatial Data Visualization with Folium`**\n",
                "\n",
                "#### Overview:\n",
                "\n",
                "Folium is a powerful Python library for creating interactive maps. Leveraging the capabilities of Leaflet.js, Folium allows users to generate maps with markers, popups, and choropleths. It's a valuable tool for visualizing geospatial data.\n",
                "\n",
                "#### Installing Folium:\n",
                "\n",
                "```bash\n",
                "pip install folium\n",
                "```\n",
                ""
            ],
            "metadata": {
                "azdata_cell_guid": "5746bf73-79e7-4a85-b7d9-266a7c4c2d5c"
            },
            "attachments": {}
        },
        {
            "cell_type": "code",
            "source": [
                "pip install folium"
            ],
            "metadata": {
                "azdata_cell_guid": "4aafbf0a-898a-495d-b56f-db77148b4996",
                "language": "python"
            },
            "outputs": [
                {
                    "output_type": "stream",
                    "name": "stdout",
                    "text": "Collecting folium\r\n"
                },
                {
                    "output_type": "stream",
                    "name": "stdout",
                    "text": "  Downloading folium-0.15.1-py2.py3-none-any.whl (97 kB)\r\n\u001b[?25l     \u001b[90m━━━━━━━━━━━━━━━━━━━━━━━━━━━━━━━━━━━━━━━━\u001b[0m \u001b[32m0.0/97.0 kB\u001b[0m \u001b[31m?\u001b[0m eta \u001b[36m-:--:--\u001b[0m"
                },
                {
                    "output_type": "stream",
                    "name": "stdout",
                    "text": "\r\u001b[2K     \u001b[91m━━━━━━━━━━━━\u001b[0m\u001b[91m╸\u001b[0m\u001b[90m━━━━━━━━━━━━━━━━━━━━━━━━━━━\u001b[0m \u001b[32m30.7/97.0 kB\u001b[0m \u001b[31m1.5 MB/s\u001b[0m eta \u001b[36m0:00:01\u001b[0m"
                },
                {
                    "output_type": "stream",
                    "name": "stdout",
                    "text": "\r\u001b[2K     \u001b[91m━━━━━━━━━━━━\u001b[0m\u001b[91m╸\u001b[0m\u001b[90m━━━━━━━━━━━━━━━━━━━━━━━━━━━\u001b[0m \u001b[32m30.7/97.0 kB\u001b[0m \u001b[31m1.5 MB/s\u001b[0m eta \u001b[36m0:00:01\u001b[0m\r\u001b[2K     \u001b[91m━━━━━━━━━━━━━━━━━━━━━━━━━━━━━━━━\u001b[0m\u001b[91m╸\u001b[0m\u001b[90m━━━━━━\u001b[0m \u001b[32m81.9/97.0 kB\u001b[0m \u001b[31m760.2 kB/s\u001b[0m eta \u001b[36m0:00:01\u001b[0m"
                },
                {
                    "output_type": "stream",
                    "name": "stdout",
                    "text": "\r\u001b[2K     \u001b[90m━━━━━━━━━━━━━━━━━━━━━━━━━━━━━━━━━━━━━━━\u001b[0m \u001b[32m97.0/97.0 kB\u001b[0m \u001b[31m777.5 kB/s\u001b[0m eta \u001b[36m0:00:00\u001b[0m\r\n\u001b[?25h"
                },
                {
                    "output_type": "stream",
                    "name": "stdout",
                    "text": "Collecting xyzservices\r\n"
                },
                {
                    "output_type": "stream",
                    "name": "stdout",
                    "text": "  Downloading xyzservices-2023.10.1-py3-none-any.whl (56 kB)\r\n\u001b[?25l     \u001b[90m━━━━━━━━━━━━━━━━━━━━━━━━━━━━━━━━━━━━━━━━\u001b[0m \u001b[32m0.0/56.3 kB\u001b[0m \u001b[31m?\u001b[0m eta \u001b[36m-:--:--\u001b[0m\r\u001b[2K     \u001b[90m━━━━━━━━━━━━━━━━━━━━━━━━━━━━━━━━━━━━━━━━\u001b[0m \u001b[32m56.3/56.3 kB\u001b[0m \u001b[31m3.8 MB/s\u001b[0m eta \u001b[36m0:00:00\u001b[0m\r\n\u001b[?25h"
                },
                {
                    "output_type": "stream",
                    "name": "stdout",
                    "text": "Requirement already satisfied: requests in /Users/laxman/anaconda3/lib/python3.10/site-packages (from folium) (2.31.0)\r\nRequirement already satisfied: numpy in /Users/laxman/anaconda3/lib/python3.10/site-packages (from folium) (1.23.5)\r\nRequirement already satisfied: jinja2>=2.9 in /Users/laxman/anaconda3/lib/python3.10/site-packages (from folium) (3.1.2)\r\n"
                },
                {
                    "output_type": "stream",
                    "name": "stdout",
                    "text": "Collecting branca>=0.6.0\r\n"
                },
                {
                    "output_type": "stream",
                    "name": "stdout",
                    "text": "  Downloading branca-0.7.0-py3-none-any.whl (25 kB)\r\n"
                },
                {
                    "output_type": "stream",
                    "name": "stdout",
                    "text": "Requirement already satisfied: MarkupSafe>=2.0 in /Users/laxman/anaconda3/lib/python3.10/site-packages (from jinja2>=2.9->folium) (2.1.1)\r\nRequirement already satisfied: urllib3<3,>=1.21.1 in /Users/laxman/anaconda3/lib/python3.10/site-packages (from requests->folium) (1.26.14)\r\nRequirement already satisfied: certifi>=2017.4.17 in /Users/laxman/anaconda3/lib/python3.10/site-packages (from requests->folium) (2023.7.22)\r\nRequirement already satisfied: charset-normalizer<4,>=2 in /Users/laxman/anaconda3/lib/python3.10/site-packages (from requests->folium) (2.0.4)\r\nRequirement already satisfied: idna<4,>=2.5 in /Users/laxman/anaconda3/lib/python3.10/site-packages (from requests->folium) (2.10)\r\n"
                },
                {
                    "output_type": "stream",
                    "name": "stdout",
                    "text": "Installing collected packages: xyzservices, branca, folium\r\n"
                },
                {
                    "output_type": "stream",
                    "name": "stdout",
                    "text": "Successfully installed branca-0.7.0 folium-0.15.1 xyzservices-2023.10.1\r\n"
                },
                {
                    "output_type": "stream",
                    "name": "stdout",
                    "text": "Note: you may need to restart the kernel to use updated packages.\n"
                }
            ],
            "execution_count": 1
        },
        {
            "cell_type": "markdown",
            "source": [
                "#### Creating Interactive Maps:"
            ],
            "metadata": {
                "azdata_cell_guid": "808c7d42-d41d-423d-bc22-8dab73c03936"
            },
            "attachments": {}
        },
        {
            "cell_type": "code",
            "source": [
                "import folium\n",
                "\n",
                "# Create a base map centered at a specific location\n",
                "map_center = [37.7749, -122.4194]  # San Francisco\n",
                "my_map = folium.Map(location=map_center, zoom_start=12)\n",
                "\n",
                "# Display the map\n",
                "my_map\n",
                "\n",
                "#NOTE : If not getting output than open in Jupyter Notebook and\n",
                "# Navigate to File->Trust Notebook"
            ],
            "metadata": {
                "azdata_cell_guid": "4923029a-c695-45c4-b01e-503e5a3ce0c6",
                "language": "python",
                "tags": []
            },
            "outputs": [
                {
                    "data": {
                        "text/plain": "<folium.folium.Map at 0x103c236a0>",
                        "text/html": "<div style=\"width:100%;\"><div style=\"position:relative;width:100%;height:0;padding-bottom:60%;\"><span style=\"color:#565656\">Make this Notebook Trusted to load map: File -> Trust Notebook</span><iframe srcdoc=\"&lt;!DOCTYPE html&gt;\n&lt;html&gt;\n&lt;head&gt;\n    \n    &lt;meta http-equiv=&quot;content-type&quot; content=&quot;text/html; charset=UTF-8&quot; /&gt;\n    \n        &lt;script&gt;\n            L_NO_TOUCH = false;\n            L_DISABLE_3D = false;\n        &lt;/script&gt;\n    \n    &lt;style&gt;html, body {width: 100%;height: 100%;margin: 0;padding: 0;}&lt;/style&gt;\n    &lt;style&gt;#map {position:absolute;top:0;bottom:0;right:0;left:0;}&lt;/style&gt;\n    &lt;script src=&quot;https://cdn.jsdelivr.net/npm/leaflet@1.9.3/dist/leaflet.js&quot;&gt;&lt;/script&gt;\n    &lt;script src=&quot;https://code.jquery.com/jquery-3.7.1.min.js&quot;&gt;&lt;/script&gt;\n    &lt;script src=&quot;https://cdn.jsdelivr.net/npm/bootstrap@5.2.2/dist/js/bootstrap.bundle.min.js&quot;&gt;&lt;/script&gt;\n    &lt;script src=&quot;https://cdnjs.cloudflare.com/ajax/libs/Leaflet.awesome-markers/2.0.2/leaflet.awesome-markers.js&quot;&gt;&lt;/script&gt;\n    &lt;link rel=&quot;stylesheet&quot; href=&quot;https://cdn.jsdelivr.net/npm/leaflet@1.9.3/dist/leaflet.css&quot;/&gt;\n    &lt;link rel=&quot;stylesheet&quot; href=&quot;https://cdn.jsdelivr.net/npm/bootstrap@5.2.2/dist/css/bootstrap.min.css&quot;/&gt;\n    &lt;link rel=&quot;stylesheet&quot; href=&quot;https://netdna.bootstrapcdn.com/bootstrap/3.0.0/css/bootstrap.min.css&quot;/&gt;\n    &lt;link rel=&quot;stylesheet&quot; href=&quot;https://cdn.jsdelivr.net/npm/@fortawesome/fontawesome-free@6.2.0/css/all.min.css&quot;/&gt;\n    &lt;link rel=&quot;stylesheet&quot; href=&quot;https://cdnjs.cloudflare.com/ajax/libs/Leaflet.awesome-markers/2.0.2/leaflet.awesome-markers.css&quot;/&gt;\n    &lt;link rel=&quot;stylesheet&quot; href=&quot;https://cdn.jsdelivr.net/gh/python-visualization/folium/folium/templates/leaflet.awesome.rotate.min.css&quot;/&gt;\n    \n            &lt;meta name=&quot;viewport&quot; content=&quot;width=device-width,\n                initial-scale=1.0, maximum-scale=1.0, user-scalable=no&quot; /&gt;\n            &lt;style&gt;\n                #map_7562a0ec6e48ab88dcd57002e50dc519 {\n                    position: relative;\n                    width: 100.0%;\n                    height: 100.0%;\n                    left: 0.0%;\n                    top: 0.0%;\n                }\n                .leaflet-container { font-size: 1rem; }\n            &lt;/style&gt;\n        \n&lt;/head&gt;\n&lt;body&gt;\n    \n    \n            &lt;div class=&quot;folium-map&quot; id=&quot;map_7562a0ec6e48ab88dcd57002e50dc519&quot; &gt;&lt;/div&gt;\n        \n&lt;/body&gt;\n&lt;script&gt;\n    \n    \n            var map_7562a0ec6e48ab88dcd57002e50dc519 = L.map(\n                &quot;map_7562a0ec6e48ab88dcd57002e50dc519&quot;,\n                {\n                    center: [37.7749, -122.4194],\n                    crs: L.CRS.EPSG3857,\n                    zoom: 12,\n                    zoomControl: true,\n                    preferCanvas: false,\n                }\n            );\n\n            \n\n        \n    \n            var tile_layer_930b2e472b1984fc8df85c7f40e36856 = L.tileLayer(\n                &quot;https://tile.openstreetmap.org/{z}/{x}/{y}.png&quot;,\n                {&quot;attribution&quot;: &quot;\\u0026copy; \\u003ca href=\\&quot;https://www.openstreetmap.org/copyright\\&quot;\\u003eOpenStreetMap\\u003c/a\\u003e contributors&quot;, &quot;detectRetina&quot;: false, &quot;maxNativeZoom&quot;: 19, &quot;maxZoom&quot;: 19, &quot;minZoom&quot;: 0, &quot;noWrap&quot;: false, &quot;opacity&quot;: 1, &quot;subdomains&quot;: &quot;abc&quot;, &quot;tms&quot;: false}\n            );\n        \n    \n            tile_layer_930b2e472b1984fc8df85c7f40e36856.addTo(map_7562a0ec6e48ab88dcd57002e50dc519);\n        \n&lt;/script&gt;\n&lt;/html&gt;\" style=\"position:absolute;width:100%;height:100%;left:0;top:0;border:none !important;\" allowfullscreen webkitallowfullscreen mozallowfullscreen></iframe></div></div>"
                    },
                    "metadata": {},
                    "execution_count": 1,
                    "output_type": "execute_result"
                }
            ],
            "execution_count": 1
        },
        {
            "cell_type": "markdown",
            "source": [
                "#### Adding Markers:"
            ],
            "metadata": {
                "language": "python",
                "azdata_cell_guid": "edead24e-fd87-46e0-ad9c-a3d32c51fdd5"
            },
            "attachments": {}
        },
        {
            "cell_type": "code",
            "source": [
                "# Adding markers with popups\n",
                "folium.Marker(location=[37.7749, -122.4194], popup='San Francisco').add_to(my_map)\n",
                "folium.Marker(location=[34.0522, -118.2437], popup='Los Angeles').add_to(my_map)\n",
                "\n",
                "# Display the map with markers\n",
                "my_map"
            ],
            "metadata": {
                "language": "python",
                "azdata_cell_guid": "b67f3a33-6cfc-44c9-b438-aa27bd0ad943"
            },
            "outputs": [
                {
                    "data": {
                        "text/plain": "<folium.folium.Map at 0x103c236a0>",
                        "text/html": "<div style=\"width:100%;\"><div style=\"position:relative;width:100%;height:0;padding-bottom:60%;\"><span style=\"color:#565656\">Make this Notebook Trusted to load map: File -> Trust Notebook</span><iframe srcdoc=\"&lt;!DOCTYPE html&gt;\n&lt;html&gt;\n&lt;head&gt;\n    \n    &lt;meta http-equiv=&quot;content-type&quot; content=&quot;text/html; charset=UTF-8&quot; /&gt;\n    \n        &lt;script&gt;\n            L_NO_TOUCH = false;\n            L_DISABLE_3D = false;\n        &lt;/script&gt;\n    \n    &lt;style&gt;html, body {width: 100%;height: 100%;margin: 0;padding: 0;}&lt;/style&gt;\n    &lt;style&gt;#map {position:absolute;top:0;bottom:0;right:0;left:0;}&lt;/style&gt;\n    &lt;script src=&quot;https://cdn.jsdelivr.net/npm/leaflet@1.9.3/dist/leaflet.js&quot;&gt;&lt;/script&gt;\n    &lt;script src=&quot;https://code.jquery.com/jquery-3.7.1.min.js&quot;&gt;&lt;/script&gt;\n    &lt;script src=&quot;https://cdn.jsdelivr.net/npm/bootstrap@5.2.2/dist/js/bootstrap.bundle.min.js&quot;&gt;&lt;/script&gt;\n    &lt;script src=&quot;https://cdnjs.cloudflare.com/ajax/libs/Leaflet.awesome-markers/2.0.2/leaflet.awesome-markers.js&quot;&gt;&lt;/script&gt;\n    &lt;link rel=&quot;stylesheet&quot; href=&quot;https://cdn.jsdelivr.net/npm/leaflet@1.9.3/dist/leaflet.css&quot;/&gt;\n    &lt;link rel=&quot;stylesheet&quot; href=&quot;https://cdn.jsdelivr.net/npm/bootstrap@5.2.2/dist/css/bootstrap.min.css&quot;/&gt;\n    &lt;link rel=&quot;stylesheet&quot; href=&quot;https://netdna.bootstrapcdn.com/bootstrap/3.0.0/css/bootstrap.min.css&quot;/&gt;\n    &lt;link rel=&quot;stylesheet&quot; href=&quot;https://cdn.jsdelivr.net/npm/@fortawesome/fontawesome-free@6.2.0/css/all.min.css&quot;/&gt;\n    &lt;link rel=&quot;stylesheet&quot; href=&quot;https://cdnjs.cloudflare.com/ajax/libs/Leaflet.awesome-markers/2.0.2/leaflet.awesome-markers.css&quot;/&gt;\n    &lt;link rel=&quot;stylesheet&quot; href=&quot;https://cdn.jsdelivr.net/gh/python-visualization/folium/folium/templates/leaflet.awesome.rotate.min.css&quot;/&gt;\n    \n            &lt;meta name=&quot;viewport&quot; content=&quot;width=device-width,\n                initial-scale=1.0, maximum-scale=1.0, user-scalable=no&quot; /&gt;\n            &lt;style&gt;\n                #map_7562a0ec6e48ab88dcd57002e50dc519 {\n                    position: relative;\n                    width: 100.0%;\n                    height: 100.0%;\n                    left: 0.0%;\n                    top: 0.0%;\n                }\n                .leaflet-container { font-size: 1rem; }\n            &lt;/style&gt;\n        \n&lt;/head&gt;\n&lt;body&gt;\n    \n    \n            &lt;div class=&quot;folium-map&quot; id=&quot;map_7562a0ec6e48ab88dcd57002e50dc519&quot; &gt;&lt;/div&gt;\n        \n&lt;/body&gt;\n&lt;script&gt;\n    \n    \n            var map_7562a0ec6e48ab88dcd57002e50dc519 = L.map(\n                &quot;map_7562a0ec6e48ab88dcd57002e50dc519&quot;,\n                {\n                    center: [37.7749, -122.4194],\n                    crs: L.CRS.EPSG3857,\n                    zoom: 12,\n                    zoomControl: true,\n                    preferCanvas: false,\n                }\n            );\n\n            \n\n        \n    \n            var tile_layer_930b2e472b1984fc8df85c7f40e36856 = L.tileLayer(\n                &quot;https://tile.openstreetmap.org/{z}/{x}/{y}.png&quot;,\n                {&quot;attribution&quot;: &quot;\\u0026copy; \\u003ca href=\\&quot;https://www.openstreetmap.org/copyright\\&quot;\\u003eOpenStreetMap\\u003c/a\\u003e contributors&quot;, &quot;detectRetina&quot;: false, &quot;maxNativeZoom&quot;: 19, &quot;maxZoom&quot;: 19, &quot;minZoom&quot;: 0, &quot;noWrap&quot;: false, &quot;opacity&quot;: 1, &quot;subdomains&quot;: &quot;abc&quot;, &quot;tms&quot;: false}\n            );\n        \n    \n            tile_layer_930b2e472b1984fc8df85c7f40e36856.addTo(map_7562a0ec6e48ab88dcd57002e50dc519);\n        \n    \n            tile_layer_930b2e472b1984fc8df85c7f40e36856.addTo(map_7562a0ec6e48ab88dcd57002e50dc519);\n        \n    \n            var marker_718eea9ff3723ae332b6fddb13d7ebd6 = L.marker(\n                [37.7749, -122.4194],\n                {}\n            ).addTo(map_7562a0ec6e48ab88dcd57002e50dc519);\n        \n    \n        var popup_88a0e8066d98bd9a4ebf59eba0b9b78b = L.popup({&quot;maxWidth&quot;: &quot;100%&quot;});\n\n        \n            \n                var html_9b4e839cb736119d13d8880cdfc8382d = $(`&lt;div id=&quot;html_9b4e839cb736119d13d8880cdfc8382d&quot; style=&quot;width: 100.0%; height: 100.0%;&quot;&gt;San Francisco&lt;/div&gt;`)[0];\n                popup_88a0e8066d98bd9a4ebf59eba0b9b78b.setContent(html_9b4e839cb736119d13d8880cdfc8382d);\n            \n        \n\n        marker_718eea9ff3723ae332b6fddb13d7ebd6.bindPopup(popup_88a0e8066d98bd9a4ebf59eba0b9b78b)\n        ;\n\n        \n    \n    \n            var marker_cdd651339052eb202c9a7b30bc5da29a = L.marker(\n                [34.0522, -118.2437],\n                {}\n            ).addTo(map_7562a0ec6e48ab88dcd57002e50dc519);\n        \n    \n        var popup_809321d1809fbe8453b0bbc3ffdd83b7 = L.popup({&quot;maxWidth&quot;: &quot;100%&quot;});\n\n        \n            \n                var html_91a481149a0c92d6399a0c0de7e8d601 = $(`&lt;div id=&quot;html_91a481149a0c92d6399a0c0de7e8d601&quot; style=&quot;width: 100.0%; height: 100.0%;&quot;&gt;Los Angeles&lt;/div&gt;`)[0];\n                popup_809321d1809fbe8453b0bbc3ffdd83b7.setContent(html_91a481149a0c92d6399a0c0de7e8d601);\n            \n        \n\n        marker_cdd651339052eb202c9a7b30bc5da29a.bindPopup(popup_809321d1809fbe8453b0bbc3ffdd83b7)\n        ;\n\n        \n    \n&lt;/script&gt;\n&lt;/html&gt;\" style=\"position:absolute;width:100%;height:100%;left:0;top:0;border:none !important;\" allowfullscreen webkitallowfullscreen mozallowfullscreen></iframe></div></div>"
                    },
                    "metadata": {},
                    "execution_count": 2,
                    "output_type": "execute_result"
                }
            ],
            "execution_count": 2
        },
        {
            "cell_type": "markdown",
            "source": [
                "#### Choropleth Maps:"
            ],
            "metadata": {
                "language": "python",
                "azdata_cell_guid": "49905ee5-9574-4d31-b4db-3b95a90a743f"
            },
            "attachments": {}
        },
        {
            "cell_type": "code",
            "source": [
                "# Note : if u execute u will get error. Rectify when learning this topic\n",
                "\n",
                "import pandas as pd\n",
                "\n",
                "# Example data\n",
                "data = {'City': ['San Francisco', 'Los Angeles'],\n",
                "        'Population': [884363, 3979576]}\n",
                "\n",
                "city_data = pd.DataFrame(data)\n",
                "\n",
                "# Create a choropleth map\n",
                "folium.Choropleth(\n",
                "    geo_data='california.geojson',  # GeoJSON file for California boundaries\n",
                "    data=city_data,\n",
                "    columns=['City', 'Population'],\n",
                "    key_on='feature.properties.name',  # GeoJSON key for matching data\n",
                "    fill_color='YlGn',  # Color scale\n",
                "    fill_opacity=0.7,\n",
                "    line_opacity=0.2,\n",
                "    legend_name='Population',\n",
                ").add_to(my_map)\n",
                "\n",
                "# Display the map with choropleth\n",
                "my_map"
            ],
            "metadata": {
                "language": "python",
                "azdata_cell_guid": "10babbc6-cd96-4fb8-bfd8-8243d95a7a2c"
            },
            "outputs": [],
            "execution_count": null
        },
        {
            "cell_type": "markdown",
            "source": [
                "#### Explanation:\n",
                "\n",
                "1. **Creating a Base Map:**\n",
                "   - A base map is created using `folium.Map()`. You can specify the center and initial zoom level.\n",
                "\n",
                "2. **Adding Markers:**\n",
                "   - Markers are added using `folium.Marker()`. You can customize the location and popup information for each marker.\n",
                "\n",
                "3. **Choropleth Maps:**\n",
                "   - For choropleth maps, a GeoJSON file (e.g., `california.geojson`) defining boundaries is used.\n",
                "   - `folium.Choropleth()` is employed to overlay the choropleth on the base map, associating data with geographical regions.\n",
                "\n",
                "4. **Running the Code:**\n",
                "   - Save the code in a file (e.g., `map_visualization.py`).\n",
                "   - Open a terminal, navigate to the directory, and run: `python map_visualization.py`.\n",
                "\n",
                "These examples provide a starting point for creating interactive maps using Folium, allowing you to visualize geographical data with markers and choropleths."
            ],
            "metadata": {
                "azdata_cell_guid": "46d8a98c-2beb-4457-8e87-04713ec2179c"
            },
            "attachments": {}
        },
        {
            "cell_type": "markdown",
            "source": [
                "### **`14. 3D Scatter Plots and Surface Plots with Matplotlib:`**\n",
                "\n",
                "#### Introduction:\n",
                "Matplotlib provides tools to create 3D plots, allowing you to visualize data in three dimensions. This is particularly useful when dealing with datasets that involve three variables. We'll explore the creation of 3D scatter plots and surface plots.\n",
                "\n",
                "#### 3D Scatter Plot:"
            ],
            "metadata": {
                "azdata_cell_guid": "43234caa-1905-40be-83e6-e64911d13435"
            },
            "attachments": {}
        },
        {
            "cell_type": "code",
            "source": [
                "import matplotlib.pyplot as plt\n",
                "from mpl_toolkits.mplot3d import Axes3D\n",
                "import numpy as np\n",
                "\n",
                "# Generate random 3D data\n",
                "np.random.seed(42)\n",
                "data_points = 100\n",
                "x = np.random.rand(data_points)\n",
                "y = np.random.rand(data_points)\n",
                "z = np.random.rand(data_points)\n",
                "\n",
                "# Create a 3D scatter plot\n",
                "fig = plt.figure(figsize=(8, 6))\n",
                "ax = fig.add_subplot(111, projection='3d')\n",
                "ax.scatter(x, y, z, c='blue', marker='o')\n",
                "\n",
                "ax.set_xlabel('X-axis')\n",
                "ax.set_ylabel('Y-axis')\n",
                "ax.set_zlabel('Z-axis')\n",
                "ax.set_title('3D Scatter Plot')\n",
                "plt.show()"
            ],
            "metadata": {
                "azdata_cell_guid": "176da7b8-eda3-48be-8cdf-9100e1a29112",
                "language": "python"
            },
            "outputs": [
                {
                    "data": {
                        "text/plain": "<Figure size 576x432 with 1 Axes>",
                        "image/png": "[encoded data removed]"
                    },
                    "metadata": {
                        "needs_background": "light"
                    },
                    "output_type": "display_data"
                }
            ],
            "execution_count": 4
        },
        {
            "cell_type": "markdown",
            "source": [
                "#### 3D Surface Plot:"
            ],
            "metadata": {
                "azdata_cell_guid": "ff933b1c-6026-4ff5-b77e-474d69ad643e"
            },
            "attachments": {}
        },
        {
            "cell_type": "code",
            "source": [
                "# Generate 3D surface data\n",
                "x = np.linspace(-5, 5, 50)\n",
                "y = np.linspace(-5, 5, 50)\n",
                "x, y = np.meshgrid(x, y)\n",
                "z = np.sin(np.sqrt(x**2 + y**2))\n",
                "\n",
                "# Create a 3D surface plot\n",
                "fig = plt.figure(figsize=(8, 6))\n",
                "ax = fig.add_subplot(111, projection='3d')\n",
                "ax.plot_surface(x, y, z, cmap='viridis')\n",
                "\n",
                "ax.set_xlabel('X-axis')\n",
                "ax.set_ylabel('Y-axis')\n",
                "ax.set_zlabel('Z-axis')\n",
                "ax.set_title('3D Surface Plot')\n",
                "plt.show()"
            ],
            "metadata": {
                "azdata_cell_guid": "bafe2ffd-1678-4945-a237-9f7051871a31",
                "language": "python"
            },
            "outputs": [
                {
                    "data": {
                        "text/plain": "<Figure size 576x432 with 1 Axes>",
                        "image/png": "[encoded data removed]"
                    },
                    "metadata": {
                        "needs_background": "light"
                    },
                    "output_type": "display_data"
                }
            ],
            "execution_count": 5
        },
        {
            "cell_type": "markdown",
            "source": [
                "### 3D Data Visualization with Plotly:\n",
                "\n",
                "#### Introduction:\n",
                "Plotly is a powerful library for interactive and dynamic visualizations. It offers robust support for creating 3D plots with enhanced interactivity.\n",
                "\n",
                "#### 3D Scatter Plot with Plotly:"
            ],
            "metadata": {
                "language": "python",
                "azdata_cell_guid": "1d2c63a0-28c8-4695-9b93-7d07563875fc"
            },
            "attachments": {}
        },
        {
            "cell_type": "code",
            "source": [
                "import plotly.express as px\n",
                "import numpy as np\n",
                "\n",
                "# Generate random 3D data\n",
                "np.random.seed(42)\n",
                "data_points = 100\n",
                "x = np.random.rand(data_points)\n",
                "y = np.random.rand(data_points)\n",
                "z = np.random.rand(data_points)\n",
                "\n",
                "# Create a 3D scatter plot with Plotly\n",
                "fig = px.scatter_3d(x=x, y=y, z=z, title='3D Scatter Plot with Plotly')\n",
                "fig.show()\n",
                ""
            ],
            "metadata": {
                "language": "python",
                "azdata_cell_guid": "6b04de1f-23cd-4a4d-a20b-14df5eb6315a"
            },
            "outputs": [
                {
                    "data": {
                        "application/vnd.plotly.v1+json": {
                            "data": [
                                {
                                    "hovertemplate": "x=%{x}<br>y=%{y}<br>z=%{z}<extra></extra>",
                                    "legendgroup": "",
                                    "marker": {
                                        "color": "#636efa",
                                        "symbol": "circle"
                                    },
                                    "mode": "markers",
                                    "name": "",
                                    "scene": "scene",
                                    "showlegend": false,
                                    "x": [
                                        0.3745401188473625,
                                        0.9507143064099162,
                                        0.7319939418114051,
                                        0.5986584841970366,
                                        0.15601864044243652,
                                        0.15599452033620265,
                                        0.05808361216819946,
                                        0.8661761457749352,
                                        0.6011150117432088,
                                        0.7080725777960455,
                                        0.020584494295802447,
                                        0.9699098521619943,
                                        0.8324426408004217,
                                        0.21233911067827616,
                                        0.18182496720710062,
                                        0.18340450985343382,
                                        0.3042422429595377,
                                        0.5247564316322378,
                                        0.43194501864211576,
                                        0.2912291401980419,
                                        0.6118528947223795,
                                        0.13949386065204183,
                                        0.29214464853521815,
                                        0.3663618432936917,
                                        0.45606998421703593,
                                        0.7851759613930136,
                                        0.19967378215835974,
                                        0.5142344384136116,
                                        0.5924145688620425,
                                        0.046450412719997725,
                                        0.6075448519014384,
                                        0.17052412368729153,
                                        0.06505159298527952,
                                        0.9488855372533332,
                                        0.9656320330745594,
                                        0.8083973481164611,
                                        0.3046137691733707,
                                        0.09767211400638387,
                                        0.6842330265121569,
                                        0.4401524937396013,
                                        0.12203823484477883,
                                        0.4951769101112702,
                                        0.034388521115218396,
                                        0.9093204020787821,
                                        0.2587799816000169,
                                        0.662522284353982,
                                        0.31171107608941095,
                                        0.5200680211778108,
                                        0.5467102793432796,
                                        0.18485445552552704,
                                        0.9695846277645586,
                                        0.7751328233611146,
                                        0.9394989415641891,
                                        0.8948273504276488,
                                        0.5978999788110851,
                                        0.9218742350231168,
                                        0.0884925020519195,
                                        0.1959828624191452,
                                        0.045227288910538066,
                                        0.32533033076326434,
                                        0.388677289689482,
                                        0.2713490317738959,
                                        0.8287375091519293,
                                        0.3567533266935893,
                                        0.28093450968738076,
                                        0.5426960831582485,
                                        0.14092422497476265,
                                        0.8021969807540397,
                                        0.07455064367977082,
                                        0.9868869366005173,
                                        0.7722447692966574,
                                        0.1987156815341724,
                                        0.005522117123602399,
                                        0.8154614284548342,
                                        0.7068573438476171,
                                        0.7290071680409873,
                                        0.7712703466859457,
                                        0.07404465173409036,
                                        0.3584657285442726,
                                        0.11586905952512971,
                                        0.8631034258755935,
                                        0.6232981268275579,
                                        0.3308980248526492,
                                        0.06355835028602363,
                                        0.3109823217156622,
                                        0.32518332202674705,
                                        0.7296061783380641,
                                        0.6375574713552131,
                                        0.8872127425763265,
                                        0.4722149251619493,
                                        0.1195942459383017,
                                        0.713244787222995,
                                        0.7607850486168974,
                                        0.5612771975694962,
                                        0.770967179954561,
                                        0.49379559636439074,
                                        0.5227328293819941,
                                        0.42754101835854963,
                                        0.02541912674409519,
                                        0.10789142699330445
                                    ],
                                    "y": [
                                        0.03142918568673425,
                                        0.6364104112637804,
                                        0.3143559810763267,
                                        0.5085706911647028,
                                        0.907566473926093,
                                        0.24929222914887494,
                                        0.41038292303562973,
                                        0.7555511385430487,
                                        0.22879816549162246,
                                        0.07697990982879299,
                                        0.289751452913768,
                                        0.16122128725400442,
                                        0.9296976523425731,
                                        0.808120379564417,
                                        0.6334037565104235,
                                        0.8714605901877177,
                                        0.8036720768991145,
                                        0.18657005888603584,
                                        0.8925589984899778,
                                        0.5393422419156507,
                                        0.8074401551640625,
                                        0.8960912999234932,
                                        0.3180034749718639,
                                        0.11005192452767676,
                                        0.22793516254194168,
                                        0.4271077886262563,
                                        0.8180147659224931,
                                        0.8607305832563434,
                                        0.006952130531190703,
                                        0.5107473025775657,
                                        0.417411003148779,
                                        0.22210781047073025,
                                        0.1198653673336828,
                                        0.33761517140362796,
                                        0.9429097039125192,
                                        0.32320293202075523,
                                        0.5187906217433661,
                                        0.7030189588951778,
                                        0.363629602379294,
                                        0.9717820827209607,
                                        0.9624472949421112,
                                        0.25178229582536416,
                                        0.49724850589238545,
                                        0.30087830981676966,
                                        0.2848404943774676,
                                        0.036886947354532795,
                                        0.6095643339798968,
                                        0.5026790232288615,
                                        0.05147875124998935,
                                        0.27864646423661144,
                                        0.9082658859666537,
                                        0.23956189066697242,
                                        0.1448948720912231,
                                        0.489452760277563,
                                        0.9856504541106007,
                                        0.2420552715115004,
                                        0.6721355474058786,
                                        0.7616196153287176,
                                        0.23763754399239967,
                                        0.7282163486118596,
                                        0.3677831327192532,
                                        0.6323058305935795,
                                        0.6335297107608947,
                                        0.5357746840747585,
                                        0.0902897700544083,
                                        0.835302495589238,
                                        0.32078006497173583,
                                        0.18651851039985423,
                                        0.040775141554763916,
                                        0.5908929431882418,
                                        0.6775643618422824,
                                        0.016587828927856152,
                                        0.512093058299281,
                                        0.22649577519793795,
                                        0.6451727904094499,
                                        0.17436642900499144,
                                        0.690937738102466,
                                        0.3867353463005374,
                                        0.9367299887367345,
                                        0.13752094414599325,
                                        0.3410663510502585,
                                        0.11347352124058907,
                                        0.9246936182785628,
                                        0.877339353380981,
                                        0.2579416277151556,
                                        0.659984046034179,
                                        0.8172222002012158,
                                        0.5552008115994623,
                                        0.5296505783560065,
                                        0.24185229090045168,
                                        0.09310276780589921,
                                        0.8972157579533268,
                                        0.9004180571633305,
                                        0.6331014572732679,
                                        0.3390297910487007,
                                        0.3492095746126609,
                                        0.7259556788702394,
                                        0.8971102599525771,
                                        0.8870864242651173,
                                        0.7798755458576239
                                    ],
                                    "z": [
                                        0.6420316461542878,
                                        0.08413996499504883,
                                        0.16162871409461377,
                                        0.8985541885270792,
                                        0.6064290596595899,
                                        0.009197051616629648,
                                        0.1014715428660321,
                                        0.6635017691080558,
                                        0.005061583846218687,
                                        0.16080805141749865,
                                        0.5487337893665861,
                                        0.6918951976926933,
                                        0.6519612595026005,
                                        0.22426930946055978,
                                        0.7121792213475359,
                                        0.23724908749680007,
                                        0.3253996981592677,
                                        0.7464914051180241,
                                        0.6496328990472147,
                                        0.8492234104941779,
                                        0.6576128923003434,
                                        0.5683086033354716,
                                        0.09367476782809248,
                                        0.3677158030594335,
                                        0.26520236768172545,
                                        0.24398964337908358,
                                        0.9730105547524456,
                                        0.3930977246667604,
                                        0.8920465551771133,
                                        0.6311386259972629,
                                        0.7948113035416484,
                                        0.5026370931051921,
                                        0.5769038846263591,
                                        0.4925176938188639,
                                        0.1952429877980445,
                                        0.7224521152615053,
                                        0.2807723624408558,
                                        0.02431596643145384,
                                        0.6454722959071678,
                                        0.17711067940704894,
                                        0.9404585843529143,
                                        0.9539285770025874,
                                        0.9148643902204485,
                                        0.3701587002554444,
                                        0.015456616528867428,
                                        0.9283185625877254,
                                        0.42818414831731433,
                                        0.9666548190436696,
                                        0.9636199770892528,
                                        0.8530094554673601,
                                        0.2944488920695857,
                                        0.38509772860192526,
                                        0.8511366715168569,
                                        0.31692200515627766,
                                        0.1694927466860925,
                                        0.5568012624583502,
                                        0.936154774160781,
                                        0.696029796674973,
                                        0.570061170089365,
                                        0.09717649377076854,
                                        0.6150072266991697,
                                        0.9900538501042633,
                                        0.14008401523652403,
                                        0.5183296523637367,
                                        0.8773730719279554,
                                        0.7407686177542044,
                                        0.697015740995268,
                                        0.7024840839871093,
                                        0.35949115121975517,
                                        0.29359184426449336,
                                        0.8093611554785136,
                                        0.8101133946791808,
                                        0.8670723185801037,
                                        0.9132405525564713,
                                        0.5113423988609378,
                                        0.5015162946871996,
                                        0.7982951789667752,
                                        0.6499639307777652,
                                        0.7019668772577033,
                                        0.795792669436101,
                                        0.8900053418175663,
                                        0.3379951568515358,
                                        0.375582952639944,
                                        0.093981939840869,
                                        0.578280140996174,
                                        0.035942273796742086,
                                        0.46559801813246016,
                                        0.5426446347075766,
                                        0.2865412521282844,
                                        0.5908332605690108,
                                        0.03050024993904943,
                                        0.03734818874921442,
                                        0.8226005606596583,
                                        0.3601906414112629,
                                        0.12706051265188478,
                                        0.5222432600548044,
                                        0.7699935530986108,
                                        0.21582102749684318,
                                        0.6228904758190003,
                                        0.085347464993768
                                    ],
                                    "type": "scatter3d"
                                }
                            ],
                            "layout": {
                                "template": {
                                    "data": {
                                        "histogram2dcontour": [
                                            {
                                                "type": "histogram2dcontour",
                                                "colorbar": {
                                                    "outlinewidth": 0,
                                                    "ticks": ""
                                                },
                                                "colorscale": [
                                                    [
                                                        0,
                                                        "#0d0887"
                                                    ],
                                                    [
                                                        0.1111111111111111,
                                                        "#46039f"
                                                    ],
                                                    [
                                                        0.2222222222222222,
                                                        "#7201a8"
                                                    ],
                                                    [
                                                        0.3333333333333333,
                                                        "#9c179e"
                                                    ],
                                                    [
                                                        0.4444444444444444,
                                                        "#bd3786"
                                                    ],
                                                    [
                                                        0.5555555555555556,
                                                        "#d8576b"
                                                    ],
                                                    [
                                                        0.6666666666666666,
                                                        "#ed7953"
                                                    ],
                                                    [
                                                        0.7777777777777778,
                                                        "#fb9f3a"
                                                    ],
                                                    [
                                                        0.8888888888888888,
                                                        "#fdca26"
                                                    ],
                                                    [
                                                        1,
                                                        "#f0f921"
                                                    ]
                                                ]
                                            }
                                        ],
                                        "choropleth": [
                                            {
                                                "type": "choropleth",
                                                "colorbar": {
                                                    "outlinewidth": 0,
                                                    "ticks": ""
                                                }
                                            }
                                        ],
                                        "histogram2d": [
                                            {
                                                "type": "histogram2d",
                                                "colorbar": {
                                                    "outlinewidth": 0,
                                                    "ticks": ""
                                                },
                                                "colorscale": [
                                                    [
                                                        0,
                                                        "#0d0887"
                                                    ],
                                                    [
                                                        0.1111111111111111,
                                                        "#46039f"
                                                    ],
                                                    [
                                                        0.2222222222222222,
                                                        "#7201a8"
                                                    ],
                                                    [
                                                        0.3333333333333333,
                                                        "#9c179e"
                                                    ],
                                                    [
                                                        0.4444444444444444,
                                                        "#bd3786"
                                                    ],
                                                    [
                                                        0.5555555555555556,
                                                        "#d8576b"
                                                    ],
                                                    [
                                                        0.6666666666666666,
                                                        "#ed7953"
                                                    ],
                                                    [
                                                        0.7777777777777778,
                                                        "#fb9f3a"
                                                    ],
                                                    [
                                                        0.8888888888888888,
                                                        "#fdca26"
                                                    ],
                                                    [
                                                        1,
                                                        "#f0f921"
                                                    ]
                                                ]
                                            }
                                        ],
                                        "heatmap": [
                                            {
                                                "type": "heatmap",
                                                "colorbar": {
                                                    "outlinewidth": 0,
                                                    "ticks": ""
                                                },
                                                "colorscale": [
                                                    [
                                                        0,
                                                        "#0d0887"
                                                    ],
                                                    [
                                                        0.1111111111111111,
                                                        "#46039f"
                                                    ],
                                                    [
                                                        0.2222222222222222,
                                                        "#7201a8"
                                                    ],
                                                    [
                                                        0.3333333333333333,
                                                        "#9c179e"
                                                    ],
                                                    [
                                                        0.4444444444444444,
                                                        "#bd3786"
                                                    ],
                                                    [
                                                        0.5555555555555556,
                                                        "#d8576b"
                                                    ],
                                                    [
                                                        0.6666666666666666,
                                                        "#ed7953"
                                                    ],
                                                    [
                                                        0.7777777777777778,
                                                        "#fb9f3a"
                                                    ],
                                                    [
                                                        0.8888888888888888,
                                                        "#fdca26"
                                                    ],
                                                    [
                                                        1,
                                                        "#f0f921"
                                                    ]
                                                ]
                                            }
                                        ],
                                        "heatmapgl": [
                                            {
                                                "type": "heatmapgl",
                                                "colorbar": {
                                                    "outlinewidth": 0,
                                                    "ticks": ""
                                                },
                                                "colorscale": [
                                                    [
                                                        0,
                                                        "#0d0887"
                                                    ],
                                                    [
                                                        0.1111111111111111,
                                                        "#46039f"
                                                    ],
                                                    [
                                                        0.2222222222222222,
                                                        "#7201a8"
                                                    ],
                                                    [
                                                        0.3333333333333333,
                                                        "#9c179e"
                                                    ],
                                                    [
                                                        0.4444444444444444,
                                                        "#bd3786"
                                                    ],
                                                    [
                                                        0.5555555555555556,
                                                        "#d8576b"
                                                    ],
                                                    [
                                                        0.6666666666666666,
                                                        "#ed7953"
                                                    ],
                                                    [
                                                        0.7777777777777778,
                                                        "#fb9f3a"
                                                    ],
                                                    [
                                                        0.8888888888888888,
                                                        "#fdca26"
                                                    ],
                                                    [
                                                        1,
                                                        "#f0f921"
                                                    ]
                                                ]
                                            }
                                        ],
                                        "contourcarpet": [
                                            {
                                                "type": "contourcarpet",
                                                "colorbar": {
                                                    "outlinewidth": 0,
                                                    "ticks": ""
                                                }
                                            }
                                        ],
                                        "contour": [
                                            {
                                                "type": "contour",
                                                "colorbar": {
                                                    "outlinewidth": 0,
                                                    "ticks": ""
                                                },
                                                "colorscale": [
                                                    [
                                                        0,
                                                        "#0d0887"
                                                    ],
                                                    [
                                                        0.1111111111111111,
                                                        "#46039f"
                                                    ],
                                                    [
                                                        0.2222222222222222,
                                                        "#7201a8"
                                                    ],
                                                    [
                                                        0.3333333333333333,
                                                        "#9c179e"
                                                    ],
                                                    [
                                                        0.4444444444444444,
                                                        "#bd3786"
                                                    ],
                                                    [
                                                        0.5555555555555556,
                                                        "#d8576b"
                                                    ],
                                                    [
                                                        0.6666666666666666,
                                                        "#ed7953"
                                                    ],
                                                    [
                                                        0.7777777777777778,
                                                        "#fb9f3a"
                                                    ],
                                                    [
                                                        0.8888888888888888,
                                                        "#fdca26"
                                                    ],
                                                    [
                                                        1,
                                                        "#f0f921"
                                                    ]
                                                ]
                                            }
                                        ],
                                        "surface": [
                                            {
                                                "type": "surface",
                                                "colorbar": {
                                                    "outlinewidth": 0,
                                                    "ticks": ""
                                                },
                                                "colorscale": [
                                                    [
                                                        0,
                                                        "#0d0887"
                                                    ],
                                                    [
                                                        0.1111111111111111,
                                                        "#46039f"
                                                    ],
                                                    [
                                                        0.2222222222222222,
                                                        "#7201a8"
                                                    ],
                                                    [
                                                        0.3333333333333333,
                                                        "#9c179e"
                                                    ],
                                                    [
                                                        0.4444444444444444,
                                                        "#bd3786"
                                                    ],
                                                    [
                                                        0.5555555555555556,
                                                        "#d8576b"
                                                    ],
                                                    [
                                                        0.6666666666666666,
                                                        "#ed7953"
                                                    ],
                                                    [
                                                        0.7777777777777778,
                                                        "#fb9f3a"
                                                    ],
                                                    [
                                                        0.8888888888888888,
                                                        "#fdca26"
                                                    ],
                                                    [
                                                        1,
                                                        "#f0f921"
                                                    ]
                                                ]
                                            }
                                        ],
                                        "mesh3d": [
                                            {
                                                "type": "mesh3d",
                                                "colorbar": {
                                                    "outlinewidth": 0,
                                                    "ticks": ""
                                                }
                                            }
                                        ],
                                        "scatter": [
                                            {
                                                "fillpattern": {
                                                    "fillmode": "overlay",
                                                    "size": 10,
                                                    "solidity": 0.2
                                                },
                                                "type": "scatter"
                                            }
                                        ],
                                        "parcoords": [
                                            {
                                                "type": "parcoords",
                                                "line": {
                                                    "colorbar": {
                                                        "outlinewidth": 0,
                                                        "ticks": ""
                                                    }
                                                }
                                            }
                                        ],
                                        "scatterpolargl": [
                                            {
                                                "type": "scatterpolargl",
                                                "marker": {
                                                    "colorbar": {
                                                        "outlinewidth": 0,
                                                        "ticks": ""
                                                    }
                                                }
                                            }
                                        ],
                                        "bar": [
                                            {
                                                "error_x": {
                                                    "color": "#2a3f5f"
                                                },
                                                "error_y": {
                                                    "color": "#2a3f5f"
                                                },
                                                "marker": {
                                                    "line": {
                                                        "color": "#E5ECF6",
                                                        "width": 0.5
                                                    },
                                                    "pattern": {
                                                        "fillmode": "overlay",
                                                        "size": 10,
                                                        "solidity": 0.2
                                                    }
                                                },
                                                "type": "bar"
                                            }
                                        ],
                                        "scattergeo": [
                                            {
                                                "type": "scattergeo",
                                                "marker": {
                                                    "colorbar": {
                                                        "outlinewidth": 0,
                                                        "ticks": ""
                                                    }
                                                }
                                            }
                                        ],
                                        "scatterpolar": [
                                            {
                                                "type": "scatterpolar",
                                                "marker": {
                                                    "colorbar": {
                                                        "outlinewidth": 0,
                                                        "ticks": ""
                                                    }
                                                }
                                            }
                                        ],
                                        "histogram": [
                                            {
                                                "marker": {
                                                    "pattern": {
                                                        "fillmode": "overlay",
                                                        "size": 10,
                                                        "solidity": 0.2
                                                    }
                                                },
                                                "type": "histogram"
                                            }
                                        ],
                                        "scattergl": [
                                            {
                                                "type": "scattergl",
                                                "marker": {
                                                    "colorbar": {
                                                        "outlinewidth": 0,
                                                        "ticks": ""
                                                    }
                                                }
                                            }
                                        ],
                                        "scatter3d": [
                                            {
                                                "type": "scatter3d",
                                                "line": {
                                                    "colorbar": {
                                                        "outlinewidth": 0,
                                                        "ticks": ""
                                                    }
                                                },
                                                "marker": {
                                                    "colorbar": {
                                                        "outlinewidth": 0,
                                                        "ticks": ""
                                                    }
                                                }
                                            }
                                        ],
                                        "scattermapbox": [
                                            {
                                                "type": "scattermapbox",
                                                "marker": {
                                                    "colorbar": {
                                                        "outlinewidth": 0,
                                                        "ticks": ""
                                                    }
                                                }
                                            }
                                        ],
                                        "scatterternary": [
                                            {
                                                "type": "scatterternary",
                                                "marker": {
                                                    "colorbar": {
                                                        "outlinewidth": 0,
                                                        "ticks": ""
                                                    }
                                                }
                                            }
                                        ],
                                        "scattercarpet": [
                                            {
                                                "type": "scattercarpet",
                                                "marker": {
                                                    "colorbar": {
                                                        "outlinewidth": 0,
                                                        "ticks": ""
                                                    }
                                                }
                                            }
                                        ],
                                        "carpet": [
                                            {
                                                "aaxis": {
                                                    "endlinecolor": "#2a3f5f",
                                                    "gridcolor": "white",
                                                    "linecolor": "white",
                                                    "minorgridcolor": "white",
                                                    "startlinecolor": "#2a3f5f"
                                                },
                                                "baxis": {
                                                    "endlinecolor": "#2a3f5f",
                                                    "gridcolor": "white",
                                                    "linecolor": "white",
                                                    "minorgridcolor": "white",
                                                    "startlinecolor": "#2a3f5f"
                                                },
                                                "type": "carpet"
                                            }
                                        ],
                                        "table": [
                                            {
                                                "cells": {
                                                    "fill": {
                                                        "color": "#EBF0F8"
                                                    },
                                                    "line": {
                                                        "color": "white"
                                                    }
                                                },
                                                "header": {
                                                    "fill": {
                                                        "color": "#C8D4E3"
                                                    },
                                                    "line": {
                                                        "color": "white"
                                                    }
                                                },
                                                "type": "table"
                                            }
                                        ],
                                        "barpolar": [
                                            {
                                                "marker": {
                                                    "line": {
                                                        "color": "#E5ECF6",
                                                        "width": 0.5
                                                    },
                                                    "pattern": {
                                                        "fillmode": "overlay",
                                                        "size": 10,
                                                        "solidity": 0.2
                                                    }
                                                },
                                                "type": "barpolar"
                                            }
                                        ],
                                        "pie": [
                                            {
                                                "automargin": true,
                                                "type": "pie"
                                            }
                                        ]
                                    },
                                    "layout": {
                                        "autotypenumbers": "strict",
                                        "colorway": [
                                            "#636efa",
                                            "#EF553B",
                                            "#00cc96",
                                            "#ab63fa",
                                            "#FFA15A",
                                            "#19d3f3",
                                            "#FF6692",
                                            "#B6E880",
                                            "#FF97FF",
                                            "#FECB52"
                                        ],
                                        "font": {
                                            "color": "#2a3f5f"
                                        },
                                        "hovermode": "closest",
                                        "hoverlabel": {
                                            "align": "left"
                                        },
                                        "paper_bgcolor": "white",
                                        "plot_bgcolor": "#E5ECF6",
                                        "polar": {
                                            "bgcolor": "#E5ECF6",
                                            "angularaxis": {
                                                "gridcolor": "white",
                                                "linecolor": "white",
                                                "ticks": ""
                                            },
                                            "radialaxis": {
                                                "gridcolor": "white",
                                                "linecolor": "white",
                                                "ticks": ""
                                            }
                                        },
                                        "ternary": {
                                            "bgcolor": "#E5ECF6",
                                            "aaxis": {
                                                "gridcolor": "white",
                                                "linecolor": "white",
                                                "ticks": ""
                                            },
                                            "baxis": {
                                                "gridcolor": "white",
                                                "linecolor": "white",
                                                "ticks": ""
                                            },
                                            "caxis": {
                                                "gridcolor": "white",
                                                "linecolor": "white",
                                                "ticks": ""
                                            }
                                        },
                                        "coloraxis": {
                                            "colorbar": {
                                                "outlinewidth": 0,
                                                "ticks": ""
                                            }
                                        },
                                        "colorscale": {
                                            "sequential": [
                                                [
                                                    0,
                                                    "#0d0887"
                                                ],
                                                [
                                                    0.1111111111111111,
                                                    "#46039f"
                                                ],
                                                [
                                                    0.2222222222222222,
                                                    "#7201a8"
                                                ],
                                                [
                                                    0.3333333333333333,
                                                    "#9c179e"
                                                ],
                                                [
                                                    0.4444444444444444,
                                                    "#bd3786"
                                                ],
                                                [
                                                    0.5555555555555556,
                                                    "#d8576b"
                                                ],
                                                [
                                                    0.6666666666666666,
                                                    "#ed7953"
                                                ],
                                                [
                                                    0.7777777777777778,
                                                    "#fb9f3a"
                                                ],
                                                [
                                                    0.8888888888888888,
                                                    "#fdca26"
                                                ],
                                                [
                                                    1,
                                                    "#f0f921"
                                                ]
                                            ],
                                            "sequentialminus": [
                                                [
                                                    0,
                                                    "#0d0887"
                                                ],
                                                [
                                                    0.1111111111111111,
                                                    "#46039f"
                                                ],
                                                [
                                                    0.2222222222222222,
                                                    "#7201a8"
                                                ],
                                                [
                                                    0.3333333333333333,
                                                    "#9c179e"
                                                ],
                                                [
                                                    0.4444444444444444,
                                                    "#bd3786"
                                                ],
                                                [
                                                    0.5555555555555556,
                                                    "#d8576b"
                                                ],
                                                [
                                                    0.6666666666666666,
                                                    "#ed7953"
                                                ],
                                                [
                                                    0.7777777777777778,
                                                    "#fb9f3a"
                                                ],
                                                [
                                                    0.8888888888888888,
                                                    "#fdca26"
                                                ],
                                                [
                                                    1,
                                                    "#f0f921"
                                                ]
                                            ],
                                            "diverging": [
                                                [
                                                    0,
                                                    "#8e0152"
                                                ],
                                                [
                                                    0.1,
                                                    "#c51b7d"
                                                ],
                                                [
                                                    0.2,
                                                    "#de77ae"
                                                ],
                                                [
                                                    0.3,
                                                    "#f1b6da"
                                                ],
                                                [
                                                    0.4,
                                                    "#fde0ef"
                                                ],
                                                [
                                                    0.5,
                                                    "#f7f7f7"
                                                ],
                                                [
                                                    0.6,
                                                    "#e6f5d0"
                                                ],
                                                [
                                                    0.7,
                                                    "#b8e186"
                                                ],
                                                [
                                                    0.8,
                                                    "#7fbc41"
                                                ],
                                                [
                                                    0.9,
                                                    "#4d9221"
                                                ],
                                                [
                                                    1,
                                                    "#276419"
                                                ]
                                            ]
                                        },
                                        "xaxis": {
                                            "gridcolor": "white",
                                            "linecolor": "white",
                                            "ticks": "",
                                            "title": {
                                                "standoff": 15
                                            },
                                            "zerolinecolor": "white",
                                            "automargin": true,
                                            "zerolinewidth": 2
                                        },
                                        "yaxis": {
                                            "gridcolor": "white",
                                            "linecolor": "white",
                                            "ticks": "",
                                            "title": {
                                                "standoff": 15
                                            },
                                            "zerolinecolor": "white",
                                            "automargin": true,
                                            "zerolinewidth": 2
                                        },
                                        "scene": {
                                            "xaxis": {
                                                "backgroundcolor": "#E5ECF6",
                                                "gridcolor": "white",
                                                "linecolor": "white",
                                                "showbackground": true,
                                                "ticks": "",
                                                "zerolinecolor": "white",
                                                "gridwidth": 2
                                            },
                                            "yaxis": {
                                                "backgroundcolor": "#E5ECF6",
                                                "gridcolor": "white",
                                                "linecolor": "white",
                                                "showbackground": true,
                                                "ticks": "",
                                                "zerolinecolor": "white",
                                                "gridwidth": 2
                                            },
                                            "zaxis": {
                                                "backgroundcolor": "#E5ECF6",
                                                "gridcolor": "white",
                                                "linecolor": "white",
                                                "showbackground": true,
                                                "ticks": "",
                                                "zerolinecolor": "white",
                                                "gridwidth": 2
                                            }
                                        },
                                        "shapedefaults": {
                                            "line": {
                                                "color": "#2a3f5f"
                                            }
                                        },
                                        "annotationdefaults": {
                                            "arrowcolor": "#2a3f5f",
                                            "arrowhead": 0,
                                            "arrowwidth": 1
                                        },
                                        "geo": {
                                            "bgcolor": "white",
                                            "landcolor": "#E5ECF6",
                                            "subunitcolor": "white",
                                            "showland": true,
                                            "showlakes": true,
                                            "lakecolor": "white"
                                        },
                                        "title": {
                                            "x": 0.05
                                        },
                                        "mapbox": {
                                            "style": "light"
                                        }
                                    }
                                },
                                "scene": {
                                    "domain": {
                                        "x": [
                                            0,
                                            1
                                        ],
                                        "y": [
                                            0,
                                            1
                                        ]
                                    },
                                    "xaxis": {
                                        "title": {
                                            "text": "x"
                                        }
                                    },
                                    "yaxis": {
                                        "title": {
                                            "text": "y"
                                        }
                                    },
                                    "zaxis": {
                                        "title": {
                                            "text": "z"
                                        }
                                    }
                                },
                                "legend": {
                                    "tracegroupgap": 0
                                },
                                "title": {
                                    "text": "3D Scatter Plot with Plotly"
                                }
                            },
                            "config": {
                                "plotlyServerURL": "https://plot.ly"
                            }
                        }
                    },
                    "metadata": {},
                    "output_type": "display_data"
                }
            ],
            "execution_count": 7
        },
        {
            "cell_type": "markdown",
            "source": [
                "#### 3D Surface Plot with Plotly:"
            ],
            "metadata": {
                "azdata_cell_guid": "1f7e743f-80a7-428c-b4e3-adbc4cc2441d"
            },
            "attachments": {}
        },
        {
            "cell_type": "code",
            "source": [
                "import plotly.express as px\n",
                "import numpy as np\n",
                "\n",
                "# Generate random 3D data\n",
                "np.random.seed(42)\n",
                "data_points = 100\n",
                "x = np.random.rand(data_points)\n",
                "y = np.random.rand(data_points)\n",
                "z = np.random.rand(data_points)\n",
                "\n",
                "# Create a 3D surface plot with Plotly\n",
                "fig = px.scatter_3d(x=x, y=y, z=z, title='3D Surface Plot with Plotly')\n",
                "fig.show()\n",
                ""
            ],
            "metadata": {
                "language": "python",
                "azdata_cell_guid": "5e661b1f-def6-41a2-8f67-3d9b996ccb5d"
            },
            "outputs": [
                {
                    "data": {
                        "application/vnd.plotly.v1+json": {
                            "data": [
                                {
                                    "hovertemplate": "x=%{x}<br>y=%{y}<br>z=%{z}<extra></extra>",
                                    "legendgroup": "",
                                    "marker": {
                                        "color": "#636efa",
                                        "symbol": "circle"
                                    },
                                    "mode": "markers",
                                    "name": "",
                                    "scene": "scene",
                                    "showlegend": false,
                                    "x": [
                                        0.3745401188473625,
                                        0.9507143064099162,
                                        0.7319939418114051,
                                        0.5986584841970366,
                                        0.15601864044243652,
                                        0.15599452033620265,
                                        0.05808361216819946,
                                        0.8661761457749352,
                                        0.6011150117432088,
                                        0.7080725777960455,
                                        0.020584494295802447,
                                        0.9699098521619943,
                                        0.8324426408004217,
                                        0.21233911067827616,
                                        0.18182496720710062,
                                        0.18340450985343382,
                                        0.3042422429595377,
                                        0.5247564316322378,
                                        0.43194501864211576,
                                        0.2912291401980419,
                                        0.6118528947223795,
                                        0.13949386065204183,
                                        0.29214464853521815,
                                        0.3663618432936917,
                                        0.45606998421703593,
                                        0.7851759613930136,
                                        0.19967378215835974,
                                        0.5142344384136116,
                                        0.5924145688620425,
                                        0.046450412719997725,
                                        0.6075448519014384,
                                        0.17052412368729153,
                                        0.06505159298527952,
                                        0.9488855372533332,
                                        0.9656320330745594,
                                        0.8083973481164611,
                                        0.3046137691733707,
                                        0.09767211400638387,
                                        0.6842330265121569,
                                        0.4401524937396013,
                                        0.12203823484477883,
                                        0.4951769101112702,
                                        0.034388521115218396,
                                        0.9093204020787821,
                                        0.2587799816000169,
                                        0.662522284353982,
                                        0.31171107608941095,
                                        0.5200680211778108,
                                        0.5467102793432796,
                                        0.18485445552552704,
                                        0.9695846277645586,
                                        0.7751328233611146,
                                        0.9394989415641891,
                                        0.8948273504276488,
                                        0.5978999788110851,
                                        0.9218742350231168,
                                        0.0884925020519195,
                                        0.1959828624191452,
                                        0.045227288910538066,
                                        0.32533033076326434,
                                        0.388677289689482,
                                        0.2713490317738959,
                                        0.8287375091519293,
                                        0.3567533266935893,
                                        0.28093450968738076,
                                        0.5426960831582485,
                                        0.14092422497476265,
                                        0.8021969807540397,
                                        0.07455064367977082,
                                        0.9868869366005173,
                                        0.7722447692966574,
                                        0.1987156815341724,
                                        0.005522117123602399,
                                        0.8154614284548342,
                                        0.7068573438476171,
                                        0.7290071680409873,
                                        0.7712703466859457,
                                        0.07404465173409036,
                                        0.3584657285442726,
                                        0.11586905952512971,
                                        0.8631034258755935,
                                        0.6232981268275579,
                                        0.3308980248526492,
                                        0.06355835028602363,
                                        0.3109823217156622,
                                        0.32518332202674705,
                                        0.7296061783380641,
                                        0.6375574713552131,
                                        0.8872127425763265,
                                        0.4722149251619493,
                                        0.1195942459383017,
                                        0.713244787222995,
                                        0.7607850486168974,
                                        0.5612771975694962,
                                        0.770967179954561,
                                        0.49379559636439074,
                                        0.5227328293819941,
                                        0.42754101835854963,
                                        0.02541912674409519,
                                        0.10789142699330445
                                    ],
                                    "y": [
                                        0.03142918568673425,
                                        0.6364104112637804,
                                        0.3143559810763267,
                                        0.5085706911647028,
                                        0.907566473926093,
                                        0.24929222914887494,
                                        0.41038292303562973,
                                        0.7555511385430487,
                                        0.22879816549162246,
                                        0.07697990982879299,
                                        0.289751452913768,
                                        0.16122128725400442,
                                        0.9296976523425731,
                                        0.808120379564417,
                                        0.6334037565104235,
                                        0.8714605901877177,
                                        0.8036720768991145,
                                        0.18657005888603584,
                                        0.8925589984899778,
                                        0.5393422419156507,
                                        0.8074401551640625,
                                        0.8960912999234932,
                                        0.3180034749718639,
                                        0.11005192452767676,
                                        0.22793516254194168,
                                        0.4271077886262563,
                                        0.8180147659224931,
                                        0.8607305832563434,
                                        0.006952130531190703,
                                        0.5107473025775657,
                                        0.417411003148779,
                                        0.22210781047073025,
                                        0.1198653673336828,
                                        0.33761517140362796,
                                        0.9429097039125192,
                                        0.32320293202075523,
                                        0.5187906217433661,
                                        0.7030189588951778,
                                        0.363629602379294,
                                        0.9717820827209607,
                                        0.9624472949421112,
                                        0.25178229582536416,
                                        0.49724850589238545,
                                        0.30087830981676966,
                                        0.2848404943774676,
                                        0.036886947354532795,
                                        0.6095643339798968,
                                        0.5026790232288615,
                                        0.05147875124998935,
                                        0.27864646423661144,
                                        0.9082658859666537,
                                        0.23956189066697242,
                                        0.1448948720912231,
                                        0.489452760277563,
                                        0.9856504541106007,
                                        0.2420552715115004,
                                        0.6721355474058786,
                                        0.7616196153287176,
                                        0.23763754399239967,
                                        0.7282163486118596,
                                        0.3677831327192532,
                                        0.6323058305935795,
                                        0.6335297107608947,
                                        0.5357746840747585,
                                        0.0902897700544083,
                                        0.835302495589238,
                                        0.32078006497173583,
                                        0.18651851039985423,
                                        0.040775141554763916,
                                        0.5908929431882418,
                                        0.6775643618422824,
                                        0.016587828927856152,
                                        0.512093058299281,
                                        0.22649577519793795,
                                        0.6451727904094499,
                                        0.17436642900499144,
                                        0.690937738102466,
                                        0.3867353463005374,
                                        0.9367299887367345,
                                        0.13752094414599325,
                                        0.3410663510502585,
                                        0.11347352124058907,
                                        0.9246936182785628,
                                        0.877339353380981,
                                        0.2579416277151556,
                                        0.659984046034179,
                                        0.8172222002012158,
                                        0.5552008115994623,
                                        0.5296505783560065,
                                        0.24185229090045168,
                                        0.09310276780589921,
                                        0.8972157579533268,
                                        0.9004180571633305,
                                        0.6331014572732679,
                                        0.3390297910487007,
                                        0.3492095746126609,
                                        0.7259556788702394,
                                        0.8971102599525771,
                                        0.8870864242651173,
                                        0.7798755458576239
                                    ],
                                    "z": [
                                        0.6420316461542878,
                                        0.08413996499504883,
                                        0.16162871409461377,
                                        0.8985541885270792,
                                        0.6064290596595899,
                                        0.009197051616629648,
                                        0.1014715428660321,
                                        0.6635017691080558,
                                        0.005061583846218687,
                                        0.16080805141749865,
                                        0.5487337893665861,
                                        0.6918951976926933,
                                        0.6519612595026005,
                                        0.22426930946055978,
                                        0.7121792213475359,
                                        0.23724908749680007,
                                        0.3253996981592677,
                                        0.7464914051180241,
                                        0.6496328990472147,
                                        0.8492234104941779,
                                        0.6576128923003434,
                                        0.5683086033354716,
                                        0.09367476782809248,
                                        0.3677158030594335,
                                        0.26520236768172545,
                                        0.24398964337908358,
                                        0.9730105547524456,
                                        0.3930977246667604,
                                        0.8920465551771133,
                                        0.6311386259972629,
                                        0.7948113035416484,
                                        0.5026370931051921,
                                        0.5769038846263591,
                                        0.4925176938188639,
                                        0.1952429877980445,
                                        0.7224521152615053,
                                        0.2807723624408558,
                                        0.02431596643145384,
                                        0.6454722959071678,
                                        0.17711067940704894,
                                        0.9404585843529143,
                                        0.9539285770025874,
                                        0.9148643902204485,
                                        0.3701587002554444,
                                        0.015456616528867428,
                                        0.9283185625877254,
                                        0.42818414831731433,
                                        0.9666548190436696,
                                        0.9636199770892528,
                                        0.8530094554673601,
                                        0.2944488920695857,
                                        0.38509772860192526,
                                        0.8511366715168569,
                                        0.31692200515627766,
                                        0.1694927466860925,
                                        0.5568012624583502,
                                        0.936154774160781,
                                        0.696029796674973,
                                        0.570061170089365,
                                        0.09717649377076854,
                                        0.6150072266991697,
                                        0.9900538501042633,
                                        0.14008401523652403,
                                        0.5183296523637367,
                                        0.8773730719279554,
                                        0.7407686177542044,
                                        0.697015740995268,
                                        0.7024840839871093,
                                        0.35949115121975517,
                                        0.29359184426449336,
                                        0.8093611554785136,
                                        0.8101133946791808,
                                        0.8670723185801037,
                                        0.9132405525564713,
                                        0.5113423988609378,
                                        0.5015162946871996,
                                        0.7982951789667752,
                                        0.6499639307777652,
                                        0.7019668772577033,
                                        0.795792669436101,
                                        0.8900053418175663,
                                        0.3379951568515358,
                                        0.375582952639944,
                                        0.093981939840869,
                                        0.578280140996174,
                                        0.035942273796742086,
                                        0.46559801813246016,
                                        0.5426446347075766,
                                        0.2865412521282844,
                                        0.5908332605690108,
                                        0.03050024993904943,
                                        0.03734818874921442,
                                        0.8226005606596583,
                                        0.3601906414112629,
                                        0.12706051265188478,
                                        0.5222432600548044,
                                        0.7699935530986108,
                                        0.21582102749684318,
                                        0.6228904758190003,
                                        0.085347464993768
                                    ],
                                    "type": "scatter3d"
                                }
                            ],
                            "layout": {
                                "template": {
                                    "data": {
                                        "histogram2dcontour": [
                                            {
                                                "type": "histogram2dcontour",
                                                "colorbar": {
                                                    "outlinewidth": 0,
                                                    "ticks": ""
                                                },
                                                "colorscale": [
                                                    [
                                                        0,
                                                        "#0d0887"
                                                    ],
                                                    [
                                                        0.1111111111111111,
                                                        "#46039f"
                                                    ],
                                                    [
                                                        0.2222222222222222,
                                                        "#7201a8"
                                                    ],
                                                    [
                                                        0.3333333333333333,
                                                        "#9c179e"
                                                    ],
                                                    [
                                                        0.4444444444444444,
                                                        "#bd3786"
                                                    ],
                                                    [
                                                        0.5555555555555556,
                                                        "#d8576b"
                                                    ],
                                                    [
                                                        0.6666666666666666,
                                                        "#ed7953"
                                                    ],
                                                    [
                                                        0.7777777777777778,
                                                        "#fb9f3a"
                                                    ],
                                                    [
                                                        0.8888888888888888,
                                                        "#fdca26"
                                                    ],
                                                    [
                                                        1,
                                                        "#f0f921"
                                                    ]
                                                ]
                                            }
                                        ],
                                        "choropleth": [
                                            {
                                                "type": "choropleth",
                                                "colorbar": {
                                                    "outlinewidth": 0,
                                                    "ticks": ""
                                                }
                                            }
                                        ],
                                        "histogram2d": [
                                            {
                                                "type": "histogram2d",
                                                "colorbar": {
                                                    "outlinewidth": 0,
                                                    "ticks": ""
                                                },
                                                "colorscale": [
                                                    [
                                                        0,
                                                        "#0d0887"
                                                    ],
                                                    [
                                                        0.1111111111111111,
                                                        "#46039f"
                                                    ],
                                                    [
                                                        0.2222222222222222,
                                                        "#7201a8"
                                                    ],
                                                    [
                                                        0.3333333333333333,
                                                        "#9c179e"
                                                    ],
                                                    [
                                                        0.4444444444444444,
                                                        "#bd3786"
                                                    ],
                                                    [
                                                        0.5555555555555556,
                                                        "#d8576b"
                                                    ],
                                                    [
                                                        0.6666666666666666,
                                                        "#ed7953"
                                                    ],
                                                    [
                                                        0.7777777777777778,
                                                        "#fb9f3a"
                                                    ],
                                                    [
                                                        0.8888888888888888,
                                                        "#fdca26"
                                                    ],
                                                    [
                                                        1,
                                                        "#f0f921"
                                                    ]
                                                ]
                                            }
                                        ],
                                        "heatmap": [
                                            {
                                                "type": "heatmap",
                                                "colorbar": {
                                                    "outlinewidth": 0,
                                                    "ticks": ""
                                                },
                                                "colorscale": [
                                                    [
                                                        0,
                                                        "#0d0887"
                                                    ],
                                                    [
                                                        0.1111111111111111,
                                                        "#46039f"
                                                    ],
                                                    [
                                                        0.2222222222222222,
                                                        "#7201a8"
                                                    ],
                                                    [
                                                        0.3333333333333333,
                                                        "#9c179e"
                                                    ],
                                                    [
                                                        0.4444444444444444,
                                                        "#bd3786"
                                                    ],
                                                    [
                                                        0.5555555555555556,
                                                        "#d8576b"
                                                    ],
                                                    [
                                                        0.6666666666666666,
                                                        "#ed7953"
                                                    ],
                                                    [
                                                        0.7777777777777778,
                                                        "#fb9f3a"
                                                    ],
                                                    [
                                                        0.8888888888888888,
                                                        "#fdca26"
                                                    ],
                                                    [
                                                        1,
                                                        "#f0f921"
                                                    ]
                                                ]
                                            }
                                        ],
                                        "heatmapgl": [
                                            {
                                                "type": "heatmapgl",
                                                "colorbar": {
                                                    "outlinewidth": 0,
                                                    "ticks": ""
                                                },
                                                "colorscale": [
                                                    [
                                                        0,
                                                        "#0d0887"
                                                    ],
                                                    [
                                                        0.1111111111111111,
                                                        "#46039f"
                                                    ],
                                                    [
                                                        0.2222222222222222,
                                                        "#7201a8"
                                                    ],
                                                    [
                                                        0.3333333333333333,
                                                        "#9c179e"
                                                    ],
                                                    [
                                                        0.4444444444444444,
                                                        "#bd3786"
                                                    ],
                                                    [
                                                        0.5555555555555556,
                                                        "#d8576b"
                                                    ],
                                                    [
                                                        0.6666666666666666,
                                                        "#ed7953"
                                                    ],
                                                    [
                                                        0.7777777777777778,
                                                        "#fb9f3a"
                                                    ],
                                                    [
                                                        0.8888888888888888,
                                                        "#fdca26"
                                                    ],
                                                    [
                                                        1,
                                                        "#f0f921"
                                                    ]
                                                ]
                                            }
                                        ],
                                        "contourcarpet": [
                                            {
                                                "type": "contourcarpet",
                                                "colorbar": {
                                                    "outlinewidth": 0,
                                                    "ticks": ""
                                                }
                                            }
                                        ],
                                        "contour": [
                                            {
                                                "type": "contour",
                                                "colorbar": {
                                                    "outlinewidth": 0,
                                                    "ticks": ""
                                                },
                                                "colorscale": [
                                                    [
                                                        0,
                                                        "#0d0887"
                                                    ],
                                                    [
                                                        0.1111111111111111,
                                                        "#46039f"
                                                    ],
                                                    [
                                                        0.2222222222222222,
                                                        "#7201a8"
                                                    ],
                                                    [
                                                        0.3333333333333333,
                                                        "#9c179e"
                                                    ],
                                                    [
                                                        0.4444444444444444,
                                                        "#bd3786"
                                                    ],
                                                    [
                                                        0.5555555555555556,
                                                        "#d8576b"
                                                    ],
                                                    [
                                                        0.6666666666666666,
                                                        "#ed7953"
                                                    ],
                                                    [
                                                        0.7777777777777778,
                                                        "#fb9f3a"
                                                    ],
                                                    [
                                                        0.8888888888888888,
                                                        "#fdca26"
                                                    ],
                                                    [
                                                        1,
                                                        "#f0f921"
                                                    ]
                                                ]
                                            }
                                        ],
                                        "surface": [
                                            {
                                                "type": "surface",
                                                "colorbar": {
                                                    "outlinewidth": 0,
                                                    "ticks": ""
                                                },
                                                "colorscale": [
                                                    [
                                                        0,
                                                        "#0d0887"
                                                    ],
                                                    [
                                                        0.1111111111111111,
                                                        "#46039f"
                                                    ],
                                                    [
                                                        0.2222222222222222,
                                                        "#7201a8"
                                                    ],
                                                    [
                                                        0.3333333333333333,
                                                        "#9c179e"
                                                    ],
                                                    [
                                                        0.4444444444444444,
                                                        "#bd3786"
                                                    ],
                                                    [
                                                        0.5555555555555556,
                                                        "#d8576b"
                                                    ],
                                                    [
                                                        0.6666666666666666,
                                                        "#ed7953"
                                                    ],
                                                    [
                                                        0.7777777777777778,
                                                        "#fb9f3a"
                                                    ],
                                                    [
                                                        0.8888888888888888,
                                                        "#fdca26"
                                                    ],
                                                    [
                                                        1,
                                                        "#f0f921"
                                                    ]
                                                ]
                                            }
                                        ],
                                        "mesh3d": [
                                            {
                                                "type": "mesh3d",
                                                "colorbar": {
                                                    "outlinewidth": 0,
                                                    "ticks": ""
                                                }
                                            }
                                        ],
                                        "scatter": [
                                            {
                                                "fillpattern": {
                                                    "fillmode": "overlay",
                                                    "size": 10,
                                                    "solidity": 0.2
                                                },
                                                "type": "scatter"
                                            }
                                        ],
                                        "parcoords": [
                                            {
                                                "type": "parcoords",
                                                "line": {
                                                    "colorbar": {
                                                        "outlinewidth": 0,
                                                        "ticks": ""
                                                    }
                                                }
                                            }
                                        ],
                                        "scatterpolargl": [
                                            {
                                                "type": "scatterpolargl",
                                                "marker": {
                                                    "colorbar": {
                                                        "outlinewidth": 0,
                                                        "ticks": ""
                                                    }
                                                }
                                            }
                                        ],
                                        "bar": [
                                            {
                                                "error_x": {
                                                    "color": "#2a3f5f"
                                                },
                                                "error_y": {
                                                    "color": "#2a3f5f"
                                                },
                                                "marker": {
                                                    "line": {
                                                        "color": "#E5ECF6",
                                                        "width": 0.5
                                                    },
                                                    "pattern": {
                                                        "fillmode": "overlay",
                                                        "size": 10,
                                                        "solidity": 0.2
                                                    }
                                                },
                                                "type": "bar"
                                            }
                                        ],
                                        "scattergeo": [
                                            {
                                                "type": "scattergeo",
                                                "marker": {
                                                    "colorbar": {
                                                        "outlinewidth": 0,
                                                        "ticks": ""
                                                    }
                                                }
                                            }
                                        ],
                                        "scatterpolar": [
                                            {
                                                "type": "scatterpolar",
                                                "marker": {
                                                    "colorbar": {
                                                        "outlinewidth": 0,
                                                        "ticks": ""
                                                    }
                                                }
                                            }
                                        ],
                                        "histogram": [
                                            {
                                                "marker": {
                                                    "pattern": {
                                                        "fillmode": "overlay",
                                                        "size": 10,
                                                        "solidity": 0.2
                                                    }
                                                },
                                                "type": "histogram"
                                            }
                                        ],
                                        "scattergl": [
                                            {
                                                "type": "scattergl",
                                                "marker": {
                                                    "colorbar": {
                                                        "outlinewidth": 0,
                                                        "ticks": ""
                                                    }
                                                }
                                            }
                                        ],
                                        "scatter3d": [
                                            {
                                                "type": "scatter3d",
                                                "line": {
                                                    "colorbar": {
                                                        "outlinewidth": 0,
                                                        "ticks": ""
                                                    }
                                                },
                                                "marker": {
                                                    "colorbar": {
                                                        "outlinewidth": 0,
                                                        "ticks": ""
                                                    }
                                                }
                                            }
                                        ],
                                        "scattermapbox": [
                                            {
                                                "type": "scattermapbox",
                                                "marker": {
                                                    "colorbar": {
                                                        "outlinewidth": 0,
                                                        "ticks": ""
                                                    }
                                                }
                                            }
                                        ],
                                        "scatterternary": [
                                            {
                                                "type": "scatterternary",
                                                "marker": {
                                                    "colorbar": {
                                                        "outlinewidth": 0,
                                                        "ticks": ""
                                                    }
                                                }
                                            }
                                        ],
                                        "scattercarpet": [
                                            {
                                                "type": "scattercarpet",
                                                "marker": {
                                                    "colorbar": {
                                                        "outlinewidth": 0,
                                                        "ticks": ""
                                                    }
                                                }
                                            }
                                        ],
                                        "carpet": [
                                            {
                                                "aaxis": {
                                                    "endlinecolor": "#2a3f5f",
                                                    "gridcolor": "white",
                                                    "linecolor": "white",
                                                    "minorgridcolor": "white",
                                                    "startlinecolor": "#2a3f5f"
                                                },
                                                "baxis": {
                                                    "endlinecolor": "#2a3f5f",
                                                    "gridcolor": "white",
                                                    "linecolor": "white",
                                                    "minorgridcolor": "white",
                                                    "startlinecolor": "#2a3f5f"
                                                },
                                                "type": "carpet"
                                            }
                                        ],
                                        "table": [
                                            {
                                                "cells": {
                                                    "fill": {
                                                        "color": "#EBF0F8"
                                                    },
                                                    "line": {
                                                        "color": "white"
                                                    }
                                                },
                                                "header": {
                                                    "fill": {
                                                        "color": "#C8D4E3"
                                                    },
                                                    "line": {
                                                        "color": "white"
                                                    }
                                                },
                                                "type": "table"
                                            }
                                        ],
                                        "barpolar": [
                                            {
                                                "marker": {
                                                    "line": {
                                                        "color": "#E5ECF6",
                                                        "width": 0.5
                                                    },
                                                    "pattern": {
                                                        "fillmode": "overlay",
                                                        "size": 10,
                                                        "solidity": 0.2
                                                    }
                                                },
                                                "type": "barpolar"
                                            }
                                        ],
                                        "pie": [
                                            {
                                                "automargin": true,
                                                "type": "pie"
                                            }
                                        ]
                                    },
                                    "layout": {
                                        "autotypenumbers": "strict",
                                        "colorway": [
                                            "#636efa",
                                            "#EF553B",
                                            "#00cc96",
                                            "#ab63fa",
                                            "#FFA15A",
                                            "#19d3f3",
                                            "#FF6692",
                                            "#B6E880",
                                            "#FF97FF",
                                            "#FECB52"
                                        ],
                                        "font": {
                                            "color": "#2a3f5f"
                                        },
                                        "hovermode": "closest",
                                        "hoverlabel": {
                                            "align": "left"
                                        },
                                        "paper_bgcolor": "white",
                                        "plot_bgcolor": "#E5ECF6",
                                        "polar": {
                                            "bgcolor": "#E5ECF6",
                                            "angularaxis": {
                                                "gridcolor": "white",
                                                "linecolor": "white",
                                                "ticks": ""
                                            },
                                            "radialaxis": {
                                                "gridcolor": "white",
                                                "linecolor": "white",
                                                "ticks": ""
                                            }
                                        },
                                        "ternary": {
                                            "bgcolor": "#E5ECF6",
                                            "aaxis": {
                                                "gridcolor": "white",
                                                "linecolor": "white",
                                                "ticks": ""
                                            },
                                            "baxis": {
                                                "gridcolor": "white",
                                                "linecolor": "white",
                                                "ticks": ""
                                            },
                                            "caxis": {
                                                "gridcolor": "white",
                                                "linecolor": "white",
                                                "ticks": ""
                                            }
                                        },
                                        "coloraxis": {
                                            "colorbar": {
                                                "outlinewidth": 0,
                                                "ticks": ""
                                            }
                                        },
                                        "colorscale": {
                                            "sequential": [
                                                [
                                                    0,
                                                    "#0d0887"
                                                ],
                                                [
                                                    0.1111111111111111,
                                                    "#46039f"
                                                ],
                                                [
                                                    0.2222222222222222,
                                                    "#7201a8"
                                                ],
                                                [
                                                    0.3333333333333333,
                                                    "#9c179e"
                                                ],
                                                [
                                                    0.4444444444444444,
                                                    "#bd3786"
                                                ],
                                                [
                                                    0.5555555555555556,
                                                    "#d8576b"
                                                ],
                                                [
                                                    0.6666666666666666,
                                                    "#ed7953"
                                                ],
                                                [
                                                    0.7777777777777778,
                                                    "#fb9f3a"
                                                ],
                                                [
                                                    0.8888888888888888,
                                                    "#fdca26"
                                                ],
                                                [
                                                    1,
                                                    "#f0f921"
                                                ]
                                            ],
                                            "sequentialminus": [
                                                [
                                                    0,
                                                    "#0d0887"
                                                ],
                                                [
                                                    0.1111111111111111,
                                                    "#46039f"
                                                ],
                                                [
                                                    0.2222222222222222,
                                                    "#7201a8"
                                                ],
                                                [
                                                    0.3333333333333333,
                                                    "#9c179e"
                                                ],
                                                [
                                                    0.4444444444444444,
                                                    "#bd3786"
                                                ],
                                                [
                                                    0.5555555555555556,
                                                    "#d8576b"
                                                ],
                                                [
                                                    0.6666666666666666,
                                                    "#ed7953"
                                                ],
                                                [
                                                    0.7777777777777778,
                                                    "#fb9f3a"
                                                ],
                                                [
                                                    0.8888888888888888,
                                                    "#fdca26"
                                                ],
                                                [
                                                    1,
                                                    "#f0f921"
                                                ]
                                            ],
                                            "diverging": [
                                                [
                                                    0,
                                                    "#8e0152"
                                                ],
                                                [
                                                    0.1,
                                                    "#c51b7d"
                                                ],
                                                [
                                                    0.2,
                                                    "#de77ae"
                                                ],
                                                [
                                                    0.3,
                                                    "#f1b6da"
                                                ],
                                                [
                                                    0.4,
                                                    "#fde0ef"
                                                ],
                                                [
                                                    0.5,
                                                    "#f7f7f7"
                                                ],
                                                [
                                                    0.6,
                                                    "#e6f5d0"
                                                ],
                                                [
                                                    0.7,
                                                    "#b8e186"
                                                ],
                                                [
                                                    0.8,
                                                    "#7fbc41"
                                                ],
                                                [
                                                    0.9,
                                                    "#4d9221"
                                                ],
                                                [
                                                    1,
                                                    "#276419"
                                                ]
                                            ]
                                        },
                                        "xaxis": {
                                            "gridcolor": "white",
                                            "linecolor": "white",
                                            "ticks": "",
                                            "title": {
                                                "standoff": 15
                                            },
                                            "zerolinecolor": "white",
                                            "automargin": true,
                                            "zerolinewidth": 2
                                        },
                                        "yaxis": {
                                            "gridcolor": "white",
                                            "linecolor": "white",
                                            "ticks": "",
                                            "title": {
                                                "standoff": 15
                                            },
                                            "zerolinecolor": "white",
                                            "automargin": true,
                                            "zerolinewidth": 2
                                        },
                                        "scene": {
                                            "xaxis": {
                                                "backgroundcolor": "#E5ECF6",
                                                "gridcolor": "white",
                                                "linecolor": "white",
                                                "showbackground": true,
                                                "ticks": "",
                                                "zerolinecolor": "white",
                                                "gridwidth": 2
                                            },
                                            "yaxis": {
                                                "backgroundcolor": "#E5ECF6",
                                                "gridcolor": "white",
                                                "linecolor": "white",
                                                "showbackground": true,
                                                "ticks": "",
                                                "zerolinecolor": "white",
                                                "gridwidth": 2
                                            },
                                            "zaxis": {
                                                "backgroundcolor": "#E5ECF6",
                                                "gridcolor": "white",
                                                "linecolor": "white",
                                                "showbackground": true,
                                                "ticks": "",
                                                "zerolinecolor": "white",
                                                "gridwidth": 2
                                            }
                                        },
                                        "shapedefaults": {
                                            "line": {
                                                "color": "#2a3f5f"
                                            }
                                        },
                                        "annotationdefaults": {
                                            "arrowcolor": "#2a3f5f",
                                            "arrowhead": 0,
                                            "arrowwidth": 1
                                        },
                                        "geo": {
                                            "bgcolor": "white",
                                            "landcolor": "#E5ECF6",
                                            "subunitcolor": "white",
                                            "showland": true,
                                            "showlakes": true,
                                            "lakecolor": "white"
                                        },
                                        "title": {
                                            "x": 0.05
                                        },
                                        "mapbox": {
                                            "style": "light"
                                        }
                                    }
                                },
                                "scene": {
                                    "domain": {
                                        "x": [
                                            0,
                                            1
                                        ],
                                        "y": [
                                            0,
                                            1
                                        ]
                                    },
                                    "xaxis": {
                                        "title": {
                                            "text": "x"
                                        }
                                    },
                                    "yaxis": {
                                        "title": {
                                            "text": "y"
                                        }
                                    },
                                    "zaxis": {
                                        "title": {
                                            "text": "z"
                                        }
                                    }
                                },
                                "legend": {
                                    "tracegroupgap": 0
                                },
                                "title": {
                                    "text": "3D Surface Plot with Plotly"
                                }
                            },
                            "config": {
                                "plotlyServerURL": "https://plot.ly"
                            }
                        }
                    },
                    "metadata": {},
                    "output_type": "display_data"
                }
            ],
            "execution_count": 9
        },
        {
            "cell_type": "markdown",
            "source": [
                "These examples showcase how to create 3D plots both with Matplotlib and Plotly, offering different levels of interactivity and customization."
            ],
            "metadata": {
                "language": "python",
                "azdata_cell_guid": "16aa823d-de0a-411e-9481-7d63f9b7e690"
            },
            "attachments": {}
        },
        {
            "cell_type": "markdown",
            "source": [
                "### **`15. Final Project: Data Visualization Showcase`**\n",
                "\n",
                "#### Introduction\n",
                "\n",
                "Congratulations on reaching the final project! This is your opportunity to bring together all the skills you've acquired throughout the course. The project involves creating a data visualization showcase using a dataset of your choice. The goal is to demonstrate your proficiency in various visualization techniques, tools, and libraries.\n",
                "\n",
                "#### Project Steps\n",
                "\n",
                "#### 1. Dataset Selection\n",
                "\n",
                "Choose a dataset that interests you. It could be related to your field of study, a personal hobby, or any area you find intriguing. Ensure the dataset has a mix of categorical and numerical variables.\n",
                "\n",
                "#### 2. Data Exploration\n",
                "\n",
                "Before diving into visualization, conduct exploratory data analysis (EDA). Understand the structure of your dataset, check for missing values, and perform basic statistical analysis.\n",
                "\n",
                "#### 3. Visualization Techniques\n",
                "\n",
                "Apply a variety of visualization techniques to convey meaningful insights:\n",
                "\n",
                "- **Basic Plots (Matplotlib/Seaborn):** Use line plots, scatter plots, and bar charts for an initial exploration.\n",
                "  \n",
                "- **Advanced Plots (Matplotlib/Seaborn):** Experiment with histograms, box plots, and heatmap visualizations.\n",
                "\n",
                "- **Interactive Plots (Plotly):** Create interactive visualizations such as line charts, scatter plots, and 3D plots.\n",
                "\n",
                "- **Geospatial Visualization (Folium):** If applicable to your dataset, incorporate geospatial visualizations.\n",
                "\n",
                "#### 4. Storytelling\n",
                "\n",
                "Build a narrative around your visualizations. Clearly communicate the story your data tells. Use titles, labels, and annotations effectively.\n",
                "\n",
                "#### 5. Dashboard Creation (Dash/Plotly)\n",
                "\n",
                "For an extra challenge, consider creating an interactive dashboard using Dash. Dash allows you to build web-based dashboards with interactive plots and components.\n",
                "\n",
                "#### Recap: Key Concepts\n",
                "\n",
                "Let's recap the key concepts covered in the course:\n",
                "\n",
                "1. **Matplotlib and Seaborn:**\n",
                "   - Creating basic and advanced plots.\n",
                "   - Customizing plot aesthetics.\n",
                "   - Combining multiple plots (subplots).\n",
                "   - Adjusting subplot layouts.\n",
                "\n",
                "2. **Plotly:**\n",
                "   - Creating interactive plots.\n",
                "   - Building 3D plots.\n",
                "   - Utilizing Dash for dashboards.\n",
                "\n",
                "3. **Folium:**\n",
                "   - Creating interactive maps.\n",
                "   - Adding markers and popups.\n",
                "   - Creating choropleth maps.\n",
                "\n",
                "4. **Project Management:**\n",
                "   - Selecting appropriate visualization techniques for different scenarios.\n",
                "   - Conducting exploratory data analysis.\n",
                "   - Storytelling through visualizations.\n",
                "\n",
                "#### Conclusion\n",
                "\n",
                "This final project is a culmination of your journey in data visualization. It not only showcases your technical skills but also your ability to tell compelling stories through data. Remember to document your process, and most importantly, enjoy the creative aspect of data visualization!\n",
                "\n",
                ""
            ],
            "metadata": {
                "azdata_cell_guid": "1bfa7ed6-f43f-47f9-9553-a25640b292d0"
            },
            "attachments": {}
        }
    ]
}