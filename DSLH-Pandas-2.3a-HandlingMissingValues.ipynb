{
    "metadata": {
        "kernelspec": {
            "name": "python3",
            "display_name": "Python 3",
            "language": "python"
        },
        "language_info": {
            "name": "python",
            "version": "3.10.9",
            "mimetype": "text/x-python",
            "codemirror_mode": {
                "name": "ipython",
                "version": 3
            },
            "pygments_lexer": "ipython3",
            "nbconvert_exporter": "python",
            "file_extension": ".py"
        }
    },
    "nbformat_minor": 2,
    "nbformat": 4,
    "cells": [
        {
            "cell_type": "markdown",
            "source": [
                "# **`Data Science Learners Hub`**\n",
                "\n",
                "**Module : Python**\n",
                "\n",
                "**email** : [datasciencelearnershub@gmail.com](mailto:datasciencelearnershub@gmail.com)"
            ],
            "metadata": {
                "azdata_cell_guid": "6fc5eb55-ee6a-4c91-99a1-acef920be7c2"
            },
            "attachments": {}
        },
        {
            "cell_type": "markdown",
            "source": [
                "## **`#2: DataFrames in Depth`**\n",
                "4. **Creating DataFrames**\n",
                "   - From lists, dictionaries, and arrays\n",
                "   - Reading data from CSV, Excel, and other formats\n",
                "\n",
                "5. **Basic DataFrame Operations**\n",
                "   - Inspecting the DataFrame\n",
                "   - Indexing and selecting data\n",
                "   - Descriptive statistics\n",
                "\n",
                "6. **Data Cleaning and Handling Missing Data**\n",
                "   - Handling missing values\n",
                "   - Dropping or filling missing values\n",
                "   - Removing duplicates"
            ],
            "metadata": {
                "azdata_cell_guid": "699290d5-ff42-4dc8-9c76-a8f58cac2c9f"
            },
            "attachments": {}
        },
        {
            "cell_type": "markdown",
            "source": [
                "#### **`Handling Missing Values`**"
            ],
            "metadata": {
                "azdata_cell_guid": "fc25a077-752d-48e1-891d-d899b32a3003"
            },
            "attachments": {}
        },
        {
            "cell_type": "markdown",
            "source": [
                "#### 1\\. Importance of Identifying and Handling Missing Values in a DataFrame:\n",
                "\n",
                "Missing values, represented as NaN (Not a Number) in Pandas, are a common occurrence in real-world datasets. Properly identifying and handling missing values is crucial for meaningful and accurate data analysis. Ignoring missing values can lead to biased results and incorrect interpretations. Here's why handling missing values is important:\n",
                "\n",
                "1. **Data Accuracy:** Missing values can distort summary statistics, such as mean and standard deviation, leading to inaccurate insights about the dataset.\n",
                "    \n",
                "2. **Model Performance:** If missing values are not addressed, they can adversely impact machine learning models, causing biased predictions and reduced model performance.\n",
                "    \n",
                "3. **Data Visualization:** Visualizations may not accurately represent the distribution of data when missing values are present, affecting the interpretation of results.\n",
                "    \n",
                "4. **Statistical Analyses:** Many statistical analyses and tests assume complete data. Missing values can compromise the validity of statistical results and significance testing."
            ],
            "metadata": {
                "azdata_cell_guid": "4b325695-69c1-4466-9d03-7708c19ac21a"
            },
            "attachments": {}
        },
        {
            "cell_type": "markdown",
            "source": [
                "#### 2. Methods for Handling Missing Values:\n",
                ""
            ],
            "metadata": {
                "azdata_cell_guid": "6e67254e-b3c2-44c8-97be-058c2fe617cf"
            },
            "attachments": {}
        },
        {
            "cell_type": "markdown",
            "source": [
                "1. **Identifying Missing Values:**\n",
                "   - **`isna()` and `notna()`:**\n",
                "     ```python\n",
                "     # Check for missing values\n",
                "     df.isna()  # Returns a DataFrame of the same shape with True for missing values\n",
                "     df.notna()  # Returns the opposite of isna()\n",
                "     ```"
            ],
            "metadata": {
                "azdata_cell_guid": "23e80b2d-f624-47a4-aa70-87ddb327cc75"
            },
            "attachments": {}
        },
        {
            "cell_type": "code",
            "source": [
                "import pandas as pd\n",
                "import numpy as np\n",
                "\n",
                "# Creating a DataFrame with missing values\n",
                "data = {\n",
                "    'A': [1, 2, np.nan, 4, 5, 6, 7],\n",
                "    'B': [5, np.nan, 7, 8, np.nan, 10, 11],\n",
                "    'C': [9, 10, 11, np.nan, 13, 14, 15],\n",
                "    'D': [14, np.nan, 16, 17, 18, np.nan, 20],\n",
                "}\n",
                "\n",
                "# Adding more rows to the DataFrame\n",
                "for i in range(5):\n",
                "    data['A'].append(np.nan)\n",
                "    data['B'].append(np.random.randint(1, 100))  # Random integers as additional values\n",
                "    data['C'].append(np.random.choice(['apple', 'banana', 'orange']))  # Random strings as additional values\n",
                "    data['D'].append(np.random.uniform(0, 1))  # Random floats as additional values\n",
                "\n",
                "df = pd.DataFrame(data)\n",
                "\n",
                "# Display the DataFrame\n",
                "print(\"Original DataFrame:\")\n",
                "print(df)\n",
                "\n",
                "# Check for missing values\n",
                "missing_values = df.isna()\n",
                "not_missing_values = df.notna()\n",
                "\n",
                "# Display the DataFrames with True for missing values\n",
                "print(\"\\nDataFrame with True for Missing Values:\")\n",
                "print(missing_values)\n",
                "\n",
                "# Display the opposite DataFrame (True for non-missing values)\n",
                "print(\"\\nDataFrame with True for Non-Missing Values:\")\n",
                "print(not_missing_values)\n",
                ""
            ],
            "metadata": {
                "azdata_cell_guid": "addc4ea6-c888-4b69-bbb6-a2118a6b1f37",
                "language": "python"
            },
            "outputs": [
                {
                    "name": "stdout",
                    "text": "Original DataFrame:\n      A     B       C          D\n0   1.0   5.0       9  14.000000\n1   2.0   NaN      10        NaN\n2   NaN   7.0      11  16.000000\n3   4.0   8.0     NaN  17.000000\n4   5.0   NaN      13  18.000000\n5   6.0  10.0      14        NaN\n6   7.0  11.0      15  20.000000\n7   NaN  44.0  orange   0.137091\n8   NaN  89.0   apple   0.391259\n9   NaN  53.0   apple   0.164750\n10  NaN   4.0   apple   0.223547\n11  NaN  74.0  banana   0.464314\n\nDataFrame with True for Missing Values:\n        A      B      C      D\n0   False  False  False  False\n1   False   True  False   True\n2    True  False  False  False\n3   False  False   True  False\n4   False   True  False  False\n5   False  False  False   True\n6   False  False  False  False\n7    True  False  False  False\n8    True  False  False  False\n9    True  False  False  False\n10   True  False  False  False\n11   True  False  False  False\n\nDataFrame with True for Non-Missing Values:\n        A      B      C      D\n0    True   True   True   True\n1    True  False   True  False\n2   False   True   True   True\n3    True   True  False   True\n4    True  False   True   True\n5    True   True   True  False\n6    True   True   True   True\n7   False   True   True   True\n8   False   True   True   True\n9   False   True   True   True\n10  False   True   True   True\n11  False   True   True   True\n",
                    "output_type": "stream"
                }
            ],
            "execution_count": 1
        },
        {
            "cell_type": "markdown",
            "source": [
                "#### Explanation:\n",
                "\n",
                "- `df.isna()`: Returns a DataFrame of the same shape as df with True for missing values and False for non-missing values.\n",
                "- `df.notna()`: Returns the opposite DataFrame, with True for non-missing values and False for missing values."
            ],
            "metadata": {
                "azdata_cell_guid": "119e5616-30f8-4f89-9233-a98e55de2673"
            },
            "attachments": {}
        },
        {
            "cell_type": "markdown",
            "source": [
                "2. **Handling Missing Values:**\n",
                "\n",
                "**a.`fillna()`:**\n",
                "\n",
                "     ```python\n",
                "     # Fill missing values with a specified value or a calculated value\n",
                "     df.fillna(value)  # Fill with a constant value\n",
                "     df.fillna(df.mean())  # Fill with the mean of each column\n",
                "     ```"
            ],
            "metadata": {
                "azdata_cell_guid": "571d61ff-463a-4371-9c34-f4477ed6db41"
            },
            "attachments": {}
        },
        {
            "cell_type": "code",
            "source": [
                "import pandas as pd\n",
                "import numpy as np\n",
                "\n",
                "# Create a DataFrame with missing values\n",
                "data = {'A': [1, 2, np.nan, 4, 5],\n",
                "        'B': [5, np.nan, 7, 8, np.nan],\n",
                "        'C': [9, 10, np.nan, 12, 13]}\n",
                "\n",
                "df = pd.DataFrame(data)\n",
                "\n",
                "# Example 1: Fill missing values with a specified constant value\n",
                "filled_with_constant = df.fillna(0)\n",
                "print(\"Filled with Constant:\")\n",
                "print(filled_with_constant)\n",
                "\n",
                "# Example 2: Fill missing values with the mean of each column\n",
                "filled_with_mean = df.fillna(df.mean())\n",
                "print(\"\\nFilled with Mean:\")\n",
                "print(filled_with_mean)\n",
                ""
            ],
            "metadata": {
                "azdata_cell_guid": "e049405e-af32-4864-b729-cf7b2d2a5b8b",
                "language": "python"
            },
            "outputs": [
                {
                    "name": "stdout",
                    "text": "Filled with Constant:\n     A    B     C\n0  1.0  5.0   9.0\n1  2.0  0.0  10.0\n2  0.0  7.0   0.0\n3  4.0  8.0  12.0\n4  5.0  0.0  13.0\n\nFilled with Mean:\n     A         B     C\n0  1.0  5.000000   9.0\n1  2.0  6.666667  10.0\n2  3.0  7.000000  11.0\n3  4.0  8.000000  12.0\n4  5.0  6.666667  13.0\n",
                    "output_type": "stream"
                }
            ],
            "execution_count": 4
        },
        {
            "cell_type": "markdown",
            "source": [
                "#### Explanation:\n",
                "\n",
                "- `df.fillna(0)`: This fills missing values in the DataFrame with the constant value 0.\n",
                "- `df.fillna(df.mean())`: This fills missing values in the DataFrame with the mean of each column. The mean() function calculates the mean for each column, and missing values are replaced with the respective column mean."
            ],
            "metadata": {
                "language": "python",
                "azdata_cell_guid": "92daaea6-424b-47be-9f88-0bc794fd2b2f"
            },
            "attachments": {}
        },
        {
            "cell_type": "markdown",
            "source": [
                "**b. `Dropping Missing Values:`**\n",
                "\n",
                "     ```python\n",
                "     # Drop rows or columns containing missing values\n",
                "     df.dropna()  # Drop rows with any missing values\n",
                "     df.dropna(axis=1)  # Drop columns with any missing values\n",
                "     ```"
            ],
            "metadata": {
                "azdata_cell_guid": "98d5fb8e-62dc-431a-955e-e1687eac7bc8"
            },
            "attachments": {}
        },
        {
            "cell_type": "code",
            "source": [
                "import pandas as pd\n",
                "import numpy as np\n",
                "\n",
                "# Create a DataFrame with missing values\n",
                "data = {\n",
                "    'A': [1, 2, np.nan, 4, 5, 6, 7],\n",
                "    'B': [5, np.nan, 7, 8, np.nan, 10, 11],\n",
                "    'C': [9, 10, 11, np.nan, 13, 14, 15],\n",
                "    'D': [14, np.nan, 16, 17, 18, np.nan, 20],\n",
                "}\n",
                "\n",
                "df = pd.DataFrame(data)\n",
                "\n",
                "# Display the original DataFrame\n",
                "print(\"Original DataFrame:\")\n",
                "print(df)\n",
                "\n",
                "# Example 1: Drop rows with any missing values\n",
                "df_dropped_rows = df.dropna()\n",
                "print(\"\\nDataFrame after Dropping Rows with Any Missing Values:\")\n",
                "print(df_dropped_rows)\n",
                "\n",
                "# Example 2: Drop columns with any missing values\n",
                "df_dropped_columns = df.dropna(axis=1)\n",
                "print(\"\\nDataFrame after Dropping Columns with Any Missing Values:\")\n",
                "print(df_dropped_columns)\n",
                ""
            ],
            "metadata": {
                "azdata_cell_guid": "06ef65ba-8ba4-48a6-bfc1-96e5816fab06",
                "language": "python"
            },
            "outputs": [
                {
                    "name": "stdout",
                    "text": "Original DataFrame:\n     A     B     C     D\n0  1.0   5.0   9.0  14.0\n1  2.0   NaN  10.0   NaN\n2  NaN   7.0  11.0  16.0\n3  4.0   8.0   NaN  17.0\n4  5.0   NaN  13.0  18.0\n5  6.0  10.0  14.0   NaN\n6  7.0  11.0  15.0  20.0\n\nDataFrame after Dropping Rows with Any Missing Values:\n     A     B     C     D\n0  1.0   5.0   9.0  14.0\n6  7.0  11.0  15.0  20.0\n\nDataFrame after Dropping Columns with Any Missing Values:\nEmpty DataFrame\nColumns: []\nIndex: [0, 1, 2, 3, 4, 5, 6]\n",
                    "output_type": "stream"
                }
            ],
            "execution_count": 5
        },
        {
            "cell_type": "markdown",
            "source": [
                "####    Explanation:\n",
                "\n",
                "- `df.dropna()`: This method drops rows containing any missing values.\n",
                "- `df.dropna(axis=1)`: This method drops columns containing any missing values."
            ],
            "metadata": {
                "azdata_cell_guid": "7f9d2329-7b9c-49f5-be34-ecdb7362272e"
            },
            "attachments": {}
        },
        {
            "cell_type": "markdown",
            "source": [
                "**c. `Interpolation`:**\n",
                "\n",
                "     ```python\n",
                "     # Interpolate missing values using various methods (linear, polynomial, etc.)\n",
                "     df.interpolate()\n",
                "     ```"
            ],
            "metadata": {
                "azdata_cell_guid": "cf3b94a0-09f7-40cf-ba00-a3152331cea1"
            },
            "attachments": {}
        },
        {
            "cell_type": "code",
            "source": [
                "import pandas as pd\n",
                "import numpy as np\n",
                "\n",
                "# Create a DataFrame with missing values\n",
                "data = {\n",
                "    'A': [1, 2, np.nan, 4, 5, 6, 7],\n",
                "    'B': [5, np.nan, 7, 8, np.nan, 10, 11],\n",
                "    'C': [9, 10, 11, np.nan, 13, 14, 15],\n",
                "    'D': [14, np.nan, 16, 17, 18, np.nan, 20],\n",
                "}\n",
                "\n",
                "df = pd.DataFrame(data)\n",
                "\n",
                "# Display the original DataFrame\n",
                "print(\"Original DataFrame:\")\n",
                "print(df)\n",
                "\n",
                "# Example: Interpolate missing values using default linear interpolation\n",
                "df_interpolated_linear = df.interpolate()\n",
                "print(\"\\nDataFrame after Linear Interpolation:\")\n",
                "print(df_interpolated_linear)\n",
                ""
            ],
            "metadata": {
                "azdata_cell_guid": "f2cf7700-7457-44cc-af53-bcf776d52c44",
                "language": "python"
            },
            "outputs": [
                {
                    "name": "stdout",
                    "text": "Original DataFrame:\n     A     B     C     D\n0  1.0   5.0   9.0  14.0\n1  2.0   NaN  10.0   NaN\n2  NaN   7.0  11.0  16.0\n3  4.0   8.0   NaN  17.0\n4  5.0   NaN  13.0  18.0\n5  6.0  10.0  14.0   NaN\n6  7.0  11.0  15.0  20.0\n\nDataFrame after Linear Interpolation:\n     A     B     C     D\n0  1.0   5.0   9.0  14.0\n1  2.0   6.0  10.0  15.0\n2  3.0   7.0  11.0  16.0\n3  4.0   8.0  12.0  17.0\n4  5.0   9.0  13.0  18.0\n5  6.0  10.0  14.0  19.0\n6  7.0  11.0  15.0  20.0\n",
                    "output_type": "stream"
                }
            ],
            "execution_count": 8
        },
        {
            "cell_type": "markdown",
            "source": [
                "#### Explanation:\n",
                "\n",
                "- `df.interpolate()`: This method performs linear interpolation by default, filling in missing values using a linear interpolation strategy.\n",
                "- You can run this code to observe the effect of linear interpolation on missing values in the original DataFrame. The interpolate() method also supports various interpolation methods, and you can specify them using the method parameter (e.g., method='polynomial'). Adjust the parameters based on your specific data and interpolation requirements."
            ],
            "metadata": {
                "azdata_cell_guid": "8823d1e7-7bf6-4ec6-9096-6d0134b59e66"
            },
            "attachments": {}
        },
        {
            "cell_type": "markdown",
            "source": [
                "#### 3. Considerations and Best Practices:\n",
                "\n",
                "- **Context Matters:** The method chosen to handle missing values depends on the nature of the data and the reason for missingness. Consider the context before applying a specific strategy.\n",
                "\n",
                "- **Impact on Analysis:** Understand how the chosen method might impact your analysis. For example, filling missing values with the mean could introduce bias if missingness is not random.\n",
                "\n",
                "- **Visualization:** Visualize the distribution of missing values using tools like heatmaps to better understand patterns of missingness.\n",
                "\n",
                "- **Documentation:** Clearly document the chosen strategy for handling missing values in your analysis to ensure transparency and reproducibility.\n",
                "\n",
                "#### Conclusion:\n",
                "\n",
                "Properly handling missing values is a critical step in the data cleaning process. It ensures the integrity of analyses and models, leading to more reliable and accurate results. Familiarizing yourself with Pandas methods like `isna()`, `notna()`, and `fillna()` empowers you to make informed decisions when dealing with missing data in your DataFrame."
            ],
            "metadata": {
                "azdata_cell_guid": "41378eeb-2a52-47f4-8d6c-21066d569ac9"
            },
            "attachments": {}
        },
        {
            "cell_type": "markdown",
            "source": [
                "#### 4. Example:\n",
                "Consider a scenario where we have a DataFrame containing information about students' exam scores in different subjects. The dataset has missing values that need to be handled, and we'll demonstrate the use of `isna()`, `notna()`, and `fillna()` to address these missing values."
            ],
            "metadata": {
                "azdata_cell_guid": "d00563bb-7817-4d46-b4f2-1e499dd085e8"
            },
            "attachments": {}
        },
        {
            "cell_type": "code",
            "source": [
                "import pandas as pd\n",
                "import numpy as np\n",
                "\n",
                "# Sample student exam data with missing values\n",
                "exam_data = {\n",
                "    'StudentID': [1, 2, 3, 4, 5],\n",
                "    'Math_Score': [85, np.nan, 78, 92, 88],\n",
                "    'English_Score': [75, 85, np.nan, 88, 92],\n",
                "    'Physics_Score': [90, 78, 85, np.nan, 94],\n",
                "    'Chemistry_Score': [82, 88, 90, 76, np.nan],\n",
                "}\n",
                "\n",
                "# Creating a DataFrame from the exam data\n",
                "df_exams = pd.DataFrame(exam_data)\n",
                "\n",
                "# Displaying the original DataFrame\n",
                "print(\"Original DataFrame:\")\n",
                "print(df_exams)\n",
                "\n",
                "# Identifying missing values\n",
                "missing_values = df_exams.isna()\n",
                "print(\"\\nMissing Values:\")\n",
                "print(missing_values)\n",
                "\n",
                "# Filling missing values with the mean of each column\n",
                "mean_filled_df = df_exams.fillna(df_exams.mean())\n",
                "\n",
                "# Displaying the DataFrame after handling missing values\n",
                "print(\"\\nDataFrame after Filling Missing Values with Mean:\")\n",
                "print(mean_filled_df)\n",
                ""
            ],
            "metadata": {
                "azdata_cell_guid": "27bf6056-71db-4469-b7af-60cd446a26ca",
                "language": "python"
            },
            "outputs": [
                {
                    "name": "stdout",
                    "text": "Original DataFrame:\n   StudentID  Math_Score  English_Score  Physics_Score  Chemistry_Score\n0          1        85.0           75.0           90.0             82.0\n1          2         NaN           85.0           78.0             88.0\n2          3        78.0            NaN           85.0             90.0\n3          4        92.0           88.0            NaN             76.0\n4          5        88.0           92.0           94.0              NaN\n\nMissing Values:\n   StudentID  Math_Score  English_Score  Physics_Score  Chemistry_Score\n0      False       False          False          False            False\n1      False        True          False          False            False\n2      False       False           True          False            False\n3      False       False          False           True            False\n4      False       False          False          False             True\n\nDataFrame after Filling Missing Values with Mean:\n   StudentID  Math_Score  English_Score  Physics_Score  Chemistry_Score\n0          1       85.00           75.0          90.00             82.0\n1          2       85.75           85.0          78.00             88.0\n2          3       78.00           85.0          85.00             90.0\n3          4       92.00           88.0          86.75             76.0\n4          5       88.00           92.0          94.00             84.0\n",
                    "output_type": "stream"
                }
            ],
            "execution_count": 9
        },
        {
            "cell_type": "markdown",
            "source": [
                "#### Explanation:\n",
                "\n",
                "1. **Identifying Missing Values:**\n",
                "   - We use `isna()` to create a DataFrame of the same shape as the original, with `True` values where missing values are present.\n",
                "\n",
                "2. **Handling Missing Values:**\n",
                "   - We use `fillna()` to fill missing values with the mean of each column.\n",
                "\n",
                "3. **Result:**\n",
                "   - The final DataFrame (`mean_filled_df`) has missing values filled with the mean of each respective column.\n",
                "\n",
                "This example showcases the importance of identifying and handling missing values and demonstrates a practical approach using Pandas methods. Adjust the code based on your specific dataset and requirements."
            ],
            "metadata": {
                "azdata_cell_guid": "182e0733-49f4-4eb2-a52e-f006ac40fb58"
            },
            "attachments": {}
        },
        {
            "cell_type": "markdown",
            "source": [
                "#### 5. Real-world Scenario:\n",
                "Consider a scenario where you have a dataset containing information about customer orders in an e-commerce platform. The dataset includes order IDs, product names, quantities, prices, and shipping dates. Due to various reasons such as system glitches or customer actions, some data is missing. Let's explore how to identify and handle missing values in this context."
            ],
            "metadata": {
                "azdata_cell_guid": "04270446-151e-4f21-b7da-540573e769c4"
            },
            "attachments": {}
        },
        {
            "cell_type": "code",
            "source": [
                "import pandas as pd\n",
                "import numpy as np\n",
                "\n",
                "# Sample e-commerce order data with missing values\n",
                "order_data = {\n",
                "    'OrderID': [101, 102, np.nan, 104, 105],\n",
                "    'Product': ['Laptop', 'Smartphone', 'Tablet', np.nan, 'Camera'],\n",
                "    'Quantity': [2, 1, np.nan, 2, 1],\n",
                "    'Price': [1200, 800, 300, np.nan, 700],\n",
                "    'Shipping_Date': ['2022-01-01', '2022-01-02', np.nan, '2022-01-03', '2022-01-03'],\n",
                "}\n",
                "\n",
                "# Creating a DataFrame from the order data\n",
                "df_orders = pd.DataFrame(order_data)\n",
                "\n",
                "# Displaying the original DataFrame\n",
                "print(\"Original Order DataFrame:\")\n",
                "print(df_orders)\n",
                "\n",
                "# Identifying missing values\n",
                "missing_values = df_orders.isna()\n",
                "print(\"\\nMissing Values:\")\n",
                "print(missing_values)\n",
                "\n",
                "# Handling missing values by dropping rows with missing OrderID and filling Price and Shipping_Date\n",
                "df_orders_cleaned = df_orders.dropna(subset=['OrderID']).fillna({'Price': df_orders['Price'].mean(), 'Shipping_Date': '2022-01-01'})\n",
                "\n",
                "# Displaying the DataFrame after handling missing values\n",
                "print(\"\\nDataFrame after Handling Missing Values:\")\n",
                "print(df_orders_cleaned)\n",
                ""
            ],
            "metadata": {
                "azdata_cell_guid": "531fb516-d31d-4f91-a3b5-b7108ce97262",
                "language": "python"
            },
            "outputs": [
                {
                    "name": "stdout",
                    "text": "Original Order DataFrame:\n   OrderID     Product  Quantity   Price Shipping_Date\n0    101.0      Laptop       2.0  1200.0    2022-01-01\n1    102.0  Smartphone       1.0   800.0    2022-01-02\n2      NaN      Tablet       NaN   300.0           NaN\n3    104.0         NaN       2.0     NaN    2022-01-03\n4    105.0      Camera       1.0   700.0    2022-01-03\n\nMissing Values:\n   OrderID  Product  Quantity  Price  Shipping_Date\n0    False    False     False  False          False\n1    False    False     False  False          False\n2     True    False      True  False           True\n3    False     True     False   True          False\n4    False    False     False  False          False\n\nDataFrame after Handling Missing Values:\n   OrderID     Product  Quantity   Price Shipping_Date\n0    101.0      Laptop       2.0  1200.0    2022-01-01\n1    102.0  Smartphone       1.0   800.0    2022-01-02\n3    104.0         NaN       2.0   750.0    2022-01-03\n4    105.0      Camera       1.0   700.0    2022-01-03\n",
                    "output_type": "stream"
                }
            ],
            "execution_count": 10
        },
        {
            "cell_type": "markdown",
            "source": [
                "#### Explanation:\n",
                "\n",
                "This code is handling missing values in a DataFrame called `df_orders` using a combination of dropping rows with missing 'OrderID' values and filling missing values in the 'Price' and 'Shipping_Date' columns.\n",
                "\n",
                "Let's break down the code:\n",
                "\n",
                "```python\n",
                "# Handling missing values by dropping rows with missing OrderID\n",
                "# and filling Price and Shipping_Date\n",
                "df_orders_cleaned = df_orders.dropna(subset=['OrderID']).fillna({'Price': df_orders['Price'].mean(), 'Shipping_Date': '2022-01-01'})\n",
                "```\n",
                "\n",
                "1. **`df_orders.dropna(subset=['OrderID'])`**:\n",
                "   - This part drops rows where the 'OrderID' column has missing values (`NaN`).\n",
                "\n",
                "2. **`.fillna({'Price': df_orders['Price'].mean(), 'Shipping_Date': '2022-01-01'})`**:\n",
                "   - After dropping rows with missing 'OrderID', this part fills any remaining missing values.\n",
                "   - For the 'Price' column, it fills missing values with the mean of the existing 'Price' values using `df_orders['Price'].mean()`.\n",
                "   - For the 'Shipping_Date' column, it fills missing values with the constant value '2022-01-01'.\n",
                "\n",
                "So, the resulting DataFrame (`df_orders_cleaned`) will have rows with missing 'OrderID' values removed, and any remaining missing values in 'Price' will be filled with the mean of existing 'Price' values, while missing values in 'Shipping_Date' will be filled with the constant date '2022-01-01'."
            ],
            "metadata": {
                "azdata_cell_guid": "2cb3ba23-d3a1-4472-bc79-86e8c3ec7c40"
            },
            "attachments": {}
        },
        {
            "cell_type": "markdown",
            "source": [
                "#### 6. Considerations or Peculiarities:\n",
                "\n",
                "- **Reasons for Missingness:**\n",
                "  - Understand the reasons for missing values. In this example, missing OrderID might be due to a system error, missing Product might be due to a new product without details, and missing Price and Shipping_Date might be due to incomplete data.\n",
                "\n",
                "- **Impact on Analysis:**\n",
                "  - Consider how missing values might impact your analysis. Dropping rows or filling missing values should align with the analysis goals.\n",
                "\n",
                "- **Domain Knowledge:**\n",
                "  - Domain knowledge is crucial for deciding how to handle missing values appropriately. For example, filling a missing Price with the mean might not be suitable if prices vary significantly.\n",
                "\n",
                "#### 7. Common Mistakes:\n",
                "\n",
                "- **Ignoring Missing Values:**\n",
                "  - Ignoring missing values without assessing their impact on analyses can lead to biased results.\n",
                "\n",
                "- **Unintended Dropping:**\n",
                "  - Unintentionally dropping rows or columns without considering the reasons for missingness may result in data loss and incomplete analyses.\n",
                "\n",
                "- **Inconsistent Handling:**\n",
                "  - Inconsistently handling missing values across different columns or datasets can introduce inconsistencies in your analysis.\n",
                "\n",
                "Handling missing values requires careful consideration and should be aligned with the overall data analysis goals. It's essential to understand the dataset's context and choose appropriate strategies based on the nature of the missing data.\n",
                ""
            ],
            "metadata": {
                "azdata_cell_guid": "05e5322b-22f7-4c11-9c54-b27f4244815e"
            },
            "attachments": {}
        }
    ]
}