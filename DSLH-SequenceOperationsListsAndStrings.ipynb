{
    "metadata": {
        "kernelspec": {
            "name": "python3",
            "display_name": "Python 3",
            "language": "python"
        },
        "language_info": {
            "name": "python",
            "version": "3.10.9",
            "mimetype": "text/x-python",
            "codemirror_mode": {
                "name": "ipython",
                "version": 3
            },
            "pygments_lexer": "ipython3",
            "nbconvert_exporter": "python",
            "file_extension": ".py"
        }
    },
    "nbformat_minor": 2,
    "nbformat": 4,
    "cells": [
        {
            "cell_type": "markdown",
            "source": [
                "# **Data Science Learners Hub - Python**\n",
                "\n",
                "**Module : Python**\n",
                "\n",
                "**Topic :** <span style=\"font-size: 12px; caret-color: rgb(31, 31, 31); white-space-collapse: preserve; background-color: rgb(255, 255, 255);\">Sequence Operations (Lists and Strings)</span>\n",
                "\n",
                "**email** : [datasciencelearnershub@gmail.com](https://github.com/rathodlaxman/DataScienceLearnersHub/blob/50de48da0c8f7145a545dd9942457c8b9cfc8fc5//mailto:datasciencelearnershub@gmail.com)"
            ],
            "metadata": {
                "azdata_cell_guid": "96c9c66d-b0f2-43c5-a3f8-6aa4ce948a4f"
            },
            "attachments": {}
        },
        {
            "cell_type": "markdown",
            "source": [
                "## **# Sequence Operations (Lists and Strings)**"
            ],
            "metadata": {
                "azdata_cell_guid": "c8a867fe-8aaf-48d9-8c83-b20ddf644329"
            },
            "attachments": {}
        },
        {
            "cell_type": "markdown",
            "source": [
                "### 1. What are Sequence Operations (Lists and Strings) in Python?\n",
                "\n",
                "Sequence operations in Python refer to a set of operations that can be performed on sequences, particularly lists and strings. Sequences are ordered collections of items where each item is assigned a unique index.\n",
                "\n",
                "### 2. Why do we Require Sequence Operations (Lists and Strings) in Programming Languages?\n",
                "\n",
                "- **Manipulation:** Sequence operations allow manipulation, modification, and extraction of elements from lists and strings.\n",
                "\n",
                "- **Flexibility:** These operations provide flexibility in working with ordered collections, facilitating common tasks in programming.\n",
                "\n",
                "### 3. What Happens When a Sequence Operations (Lists and Strings) is Executed/Interpreted?\n",
                "\n",
                "- **Execution:** When a sequence operation is executed, the Python interpreter performs the specified operation on the given sequence, modifying or extracting elements as needed.\n",
                ""
            ],
            "metadata": {
                "azdata_cell_guid": "facfa2b2-4b2c-4b22-ab58-d1eef3ab36a2"
            },
            "attachments": {}
        },
        {
            "cell_type": "markdown",
            "source": [
                "### 4. Sequence Operations for Lists and Strings:\n",
                "\n",
                "#### a. Concatenation (`+`)\n",
                "\n",
                "- Concatenates two sequences, creating a new sequence containing all elements of the original sequences.\n",
                "\n",
                "#### Syntax:\n",
                "```python\n",
                "result_sequence = sequence1 + sequence2\n",
                "```\n",
                "\n",
                "#### Examples:"
            ],
            "metadata": {
                "azdata_cell_guid": "3de25fa1-9e0a-4db3-bce8-230aa3306fbc"
            },
            "attachments": {}
        },
        {
            "cell_type": "code",
            "source": [
                "# Lists\n",
                "list1 = [1, 2, 3]\n",
                "list2 = [4, 5, 6]\n",
                "concatenated_list = list1 + list2  # Result: [1, 2, 3, 4, 5, 6]\n",
                "print(concatenated_list)"
            ],
            "metadata": {
                "azdata_cell_guid": "a00cc537-1412-4a85-85cf-21f2db3fe962",
                "language": "python"
            },
            "outputs": [
                {
                    "name": "stdout",
                    "text": "[1, 2, 3, 4, 5, 6]\n",
                    "output_type": "stream"
                }
            ],
            "execution_count": 1
        },
        {
            "cell_type": "code",
            "source": [
                "# Strings\n",
                "string1 = \"Hello\"\n",
                "string2 = \" World\"\n",
                "concatenated_string = string1 + string2  # Result: Hello World\n",
                "print(concatenated_string)"
            ],
            "metadata": {
                "language": "python",
                "azdata_cell_guid": "afa6d3b0-833f-4bdc-b9b9-6282fd425481"
            },
            "outputs": [
                {
                    "name": "stdout",
                    "text": "Hello World\n",
                    "output_type": "stream"
                }
            ],
            "execution_count": 2
        },
        {
            "cell_type": "markdown",
            "source": [
                "#### b. Repetition (`*`)\n",
                "\n",
                "Repeats a sequence by concatenating it with itself multiple times.\n",
                "\n",
                "#### Syntax:\n",
                "```python\n",
                "result_sequence = sequence * n\n",
                "```\n",
                "\n",
                "#### Examples:"
            ],
            "metadata": {
                "language": "python",
                "azdata_cell_guid": "ce04659a-a720-472f-9d7c-62a3560aaefd"
            },
            "attachments": {}
        },
        {
            "cell_type": "code",
            "source": [
                "# Lists\n",
                "my_list = [1, 2, 3]\n",
                "repeated_list = my_list * 3  # Result: [1, 2, 3, 1, 2, 3, 1, 2, 3]\n",
                "print(repeated_list)"
            ],
            "metadata": {
                "language": "python",
                "azdata_cell_guid": "d8687899-d693-41e1-bcc6-64c46920305f"
            },
            "outputs": [
                {
                    "name": "stdout",
                    "text": "[1, 2, 3, 1, 2, 3, 1, 2, 3]\n",
                    "output_type": "stream"
                }
            ],
            "execution_count": 3
        },
        {
            "cell_type": "code",
            "source": [
                "# Strings\n",
                "my_string = \"Python\"\n",
                "repeated_string = my_string * 2  # Result: PythonPython\n",
                "print(repeated_string)"
            ],
            "metadata": {
                "language": "python",
                "azdata_cell_guid": "3ecf977b-84af-4ec0-aba0-eab1275f9732"
            },
            "outputs": [
                {
                    "name": "stdout",
                    "text": "PythonPython\n",
                    "output_type": "stream"
                }
            ],
            "execution_count": 4
        },
        {
            "cell_type": "markdown",
            "source": [
                "#### d. Indexing (`[]`)\n",
                "\n",
                "Accesses a specific element at a given index in the sequence.\n",
                "\n",
                "#### Syntax:\n",
                "```python\n",
                "item = sequence[index]\n",
                "```\n",
                "\n",
                "#### Examples:"
            ],
            "metadata": {
                "language": "python",
                "azdata_cell_guid": "967154b1-a4eb-4a12-9b00-6463e9c289e5"
            },
            "attachments": {}
        },
        {
            "cell_type": "code",
            "source": [
                "# Lists\n",
                "my_list = [10, 20, 30]\n",
                "element = my_list[1]  # Result: 20\n",
                "print(element)"
            ],
            "metadata": {
                "language": "python",
                "azdata_cell_guid": "b81a86e9-a8c3-4420-92ef-88d2717af5c6"
            },
            "outputs": [
                {
                    "name": "stdout",
                    "text": "20\n",
                    "output_type": "stream"
                }
            ],
            "execution_count": 5
        },
        {
            "cell_type": "code",
            "source": [
                "# Strings\n",
                "my_string = \"Python\"\n",
                "character = my_string[2]  # Result: t\n",
                "print(character)"
            ],
            "metadata": {
                "language": "python",
                "azdata_cell_guid": "6ebb427b-161d-4060-b2a5-628dabdbe417"
            },
            "outputs": [
                {
                    "name": "stdout",
                    "text": "t\n",
                    "output_type": "stream"
                }
            ],
            "execution_count": 6
        },
        {
            "cell_type": "markdown",
            "source": [
                "#### e. Negative Indexing\n",
                "\n",
                "Accesses elements from the end of the sequence using negative indices.\n",
                "\n",
                "#### Syntax:\n",
                "```python\n",
                "item = sequence[-index]\n",
                "```\n",
                "\n",
                "#### Examples:"
            ],
            "metadata": {
                "language": "python",
                "azdata_cell_guid": "da8b158f-20e0-4d91-b89c-637f184e74ea"
            },
            "attachments": {}
        },
        {
            "cell_type": "code",
            "source": [
                "# Lists\n",
                "my_list = [10, 20, 30]\n",
                "last_element = my_list[-1]  # Result: 30\n",
                "print(last_element)"
            ],
            "metadata": {
                "language": "python",
                "azdata_cell_guid": "12b8113a-43eb-4680-b3d8-67a09e4b3c13"
            },
            "outputs": [
                {
                    "name": "stdout",
                    "text": "30\n",
                    "output_type": "stream"
                }
            ],
            "execution_count": 7
        },
        {
            "cell_type": "code",
            "source": [
                "# Strings\n",
                "my_string = \"Python\"\n",
                "last_character = my_string[-1]  # Result: n\n",
                "print(last_character)"
            ],
            "metadata": {
                "language": "python",
                "azdata_cell_guid": "52512a9e-d664-4324-9a94-5b972bdd7628"
            },
            "outputs": [
                {
                    "name": "stdout",
                    "text": "n\n",
                    "output_type": "stream"
                }
            ],
            "execution_count": 8
        },
        {
            "cell_type": "markdown",
            "source": [
                "#### f. Slicing (`[:]`)\n",
                "\n",
                "Extracts a subsequence from the original sequence.\n",
                "\n",
                "#### Syntax:\n",
                "```python\n",
                "subsequence = sequence[start:end]\n",
                "```\n",
                "\n",
                "#### Examples:"
            ],
            "metadata": {
                "language": "python",
                "azdata_cell_guid": "8f3a6bfe-e835-45cd-b938-b172d78c3f57"
            },
            "attachments": {}
        },
        {
            "cell_type": "code",
            "source": [
                "# Lists\n",
                "my_list = [1, 2, 3, 4, 5]\n",
                "sliced_list = my_list[1:4]  # Result: [2, 3, 4]\n",
                "print(sliced_list)"
            ],
            "metadata": {
                "language": "python",
                "azdata_cell_guid": "c3b726b5-691f-4442-999f-7e4dc0852bc7"
            },
            "outputs": [
                {
                    "name": "stdout",
                    "text": "[2, 3, 4]\n",
                    "output_type": "stream"
                }
            ],
            "execution_count": 9
        },
        {
            "cell_type": "code",
            "source": [
                "# Strings\n",
                "my_string = \"Python\"\n",
                "sliced_string = my_string[1:4]  # Result: yth\n",
                "print(sliced_string)"
            ],
            "metadata": {
                "language": "python",
                "azdata_cell_guid": "0140f16e-b226-4d60-9e25-5173b23c6b1d"
            },
            "outputs": [
                {
                    "name": "stdout",
                    "text": "yth\n",
                    "output_type": "stream"
                }
            ],
            "execution_count": 10
        },
        {
            "cell_type": "markdown",
            "source": [
                "#### g.Length (`len()`)\n",
                "\n",
                "Returns the length (number of elements) of the sequence.\n",
                "\n",
                "#### Syntax:\n",
                "```python\n",
                "length = len(sequence)\n",
                "```\n",
                "\n",
                "#### Examples:"
            ],
            "metadata": {
                "language": "python",
                "azdata_cell_guid": "1495cd99-14c4-452b-9ceb-50a612715953"
            },
            "attachments": {}
        },
        {
            "cell_type": "code",
            "source": [
                "# Lists\n",
                "my_list = [1, 2, 3, 4, 5]\n",
                "list_length = len(my_list)  # Result: 5\n",
                "print(list_length)"
            ],
            "metadata": {
                "language": "python",
                "azdata_cell_guid": "07410db6-c825-4af2-9c4c-d4c29b7da10d"
            },
            "outputs": [
                {
                    "name": "stdout",
                    "text": "5\n",
                    "output_type": "stream"
                }
            ],
            "execution_count": 11
        },
        {
            "cell_type": "code",
            "source": [
                "# Strings\n",
                "my_string = \"Python\"\n",
                "string_length = len(my_string)  # Result: 6\n",
                "print(string_length)"
            ],
            "metadata": {
                "language": "python",
                "azdata_cell_guid": "48b1a0d2-c1ea-4561-9a35-486551b7e9fa"
            },
            "outputs": [
                {
                    "name": "stdout",
                    "text": "6\n",
                    "output_type": "stream"
                }
            ],
            "execution_count": 12
        },
        {
            "cell_type": "markdown",
            "source": [
                "#### h. Iteration with `for`\n",
                "\n",
                "#### Explanation:\n",
                "Iterates through items in the sequence using a `for` loop.\n",
                "\n",
                "#### Syntax:\n",
                "```python\n",
                "for variable in sequence:\n",
                "    # Code block to execute for each item\n",
                "```\n",
                "\n",
                "#### Examples:"
            ],
            "metadata": {
                "language": "python",
                "azdata_cell_guid": "13cbb992-a063-4589-a578-cffb07bb92b4"
            },
            "attachments": {}
        },
        {
            "cell_type": "code",
            "source": [
                "# Lists\n",
                "my_list = [1, 2, 3]\n",
                "for number in my_list:\n",
                "    print(number)"
            ],
            "metadata": {
                "language": "python",
                "azdata_cell_guid": "e2bb3124-09b4-4dab-b270-32bd441beff5"
            },
            "outputs": [
                {
                    "name": "stdout",
                    "text": "1\n2\n3\n",
                    "output_type": "stream"
                }
            ],
            "execution_count": 13
        },
        {
            "cell_type": "code",
            "source": [
                "# Strings\n",
                "my_string = \"Python\"\n",
                "for char in my_string:\n",
                "    print(char)"
            ],
            "metadata": {
                "language": "python",
                "azdata_cell_guid": "da89aca5-4dde-4386-bb18-769e0e20810a"
            },
            "outputs": [
                {
                    "name": "stdout",
                    "text": "P\ny\nt\nh\no\nn\n",
                    "output_type": "stream"
                }
            ],
            "execution_count": 14
        },
        {
            "cell_type": "markdown",
            "source": [
                "#### j. Membership\n",
                "\n",
                "Checks if an element exists in a sequence:\n",
                "\n",
                "#### Syntax\n",
                "```python\n",
                "value in sequence\n",
                "```\n",
                "\n",
                "#### Examples"
            ],
            "metadata": {
                "language": "python",
                "azdata_cell_guid": "dbd87c97-e160-4abd-98ab-622637ec070c"
            },
            "attachments": {}
        },
        {
            "cell_type": "code",
            "source": [
                "# Lists\n",
                "my_list = [1, 2, 3, 4, 5]\n",
                "result = 3 in my_list\n",
                "print(result)"
            ],
            "metadata": {
                "language": "python",
                "azdata_cell_guid": "6184d482-c5a5-442c-8dfe-71e4517b7209"
            },
            "outputs": [
                {
                    "name": "stdout",
                    "text": "True\n",
                    "output_type": "stream"
                }
            ],
            "execution_count": 15
        },
        {
            "cell_type": "code",
            "source": [
                "# Strings\n",
                "my_string = \"Python\"\n",
                "result = 'z' in my_string\n",
                "print(result)"
            ],
            "metadata": {
                "language": "python",
                "azdata_cell_guid": "4c3ad76b-4ec0-4fbd-94a7-26159d802d0a"
            },
            "outputs": [
                {
                    "name": "stdout",
                    "text": "False\n",
                    "output_type": "stream"
                }
            ],
            "execution_count": 17
        },
        {
            "cell_type": "markdown",
            "source": [
                "### 5. Practical Application of Sequence Operations in the Real World:\n",
                "\n",
                "- **Data Processing:** Sequence operations are fundamental in processing and manipulating data, especially in tasks involving data cleaning and transformation.\n",
                "\n",
                "- **Text Processing:** String operations are extensively used in text processing, including search, replace, and formatting tasks.\n",
                "\n",
                "### 7. Peculiarities and Considerations for Sequence Operations:\n",
                "\n",
                "- **Mutable vs. Immutable:** Lists are mutable, allowing in-place modifications, while strings are immutable, creating new strings for modifications.\n",
                "\n",
                "### 8. Most Common Mistakes Done While Using Sequence Operations:\n",
                "\n",
                "- **Index Out of Range:** Accessing or slicing beyond the valid range of indices can result in `IndexError`.\n",
                "\n",
                "```python\n",
                "my_list = [1, 2, 3]\n",
                "# Incorrect: IndexError\n",
                "element = my_list[10]\n",
                "```"
            ],
            "metadata": {
                "language": "python",
                "azdata_cell_guid": "d257c24b-5ae8-4f0c-94d7-c8b43030507b"
            },
            "attachments": {}
        },
        {
            "cell_type": "markdown",
            "source": [
                "### 9. Hands On\n",
                "\n",
                "#### Question 1:\n",
                "Given a list `[10, 20, 30, 40, 50]`, extract the sublist `[20, 30, 40]`.\n",
                "\n",
                "**Solution:**"
            ],
            "metadata": {
                "language": "python",
                "azdata_cell_guid": "d97330dc-7d60-4ca4-99f0-47bafedf5a03"
            },
            "attachments": {}
        },
        {
            "cell_type": "code",
            "source": [
                "my_list = [10, 20, 30, 40, 50]\n",
                "sublist = my_list[1:4]\n",
                "print(\"Sublist:\", sublist)"
            ],
            "metadata": {
                "language": "python",
                "azdata_cell_guid": "3883f018-b981-42be-aa28-d9ea8900b8d0"
            },
            "outputs": [
                {
                    "name": "stdout",
                    "text": "Sublist: [20, 30, 40]\n",
                    "output_type": "stream"
                }
            ],
            "execution_count": 18
        },
        {
            "cell_type": "markdown",
            "source": [
                "#### Question 2:\n",
                "Create a function that takes a string as input and returns the string reversed.\n",
                "\n",
                "**Solution:**"
            ],
            "metadata": {
                "language": "python",
                "azdata_cell_guid": "77b48385-37d4-44e5-adfc-b3ec91270e12"
            },
            "attachments": {}
        },
        {
            "cell_type": "code",
            "source": [
                "def reverse_string(input_string):\n",
                "    return input_string[::-1]\n",
                "\n",
                "result = reverse_string(\"Python\")\n",
                "print(\"Reversed String:\", result)"
            ],
            "metadata": {
                "language": "python",
                "azdata_cell_guid": "1d859ddf-e33e-4371-a588-367b416056bf"
            },
            "outputs": [
                {
                    "name": "stdout",
                    "text": "Reversed String: nohtyP\n",
                    "output_type": "stream"
                }
            ],
            "execution_count": 19
        },
        {
            "cell_type": "markdown",
            "source": [
                "### 10. Practice Exercise\n",
                "\n",
                "#### Question 1:\n",
                "Given two lists `[1, 2, 3]` and `[4, 5, 6]`, concatenate them and find the sum of all elements.\n",
                "\n",
                "#### Question 2:\n",
                "Write a program that takes a string input and prints the string in uppercase, lowercase, and title case."
            ],
            "metadata": {
                "language": "python",
                "azdata_cell_guid": "7e209164-5ca3-4ad4-8f77-12f8570b33c3"
            },
            "attachments": {}
        },
        {
            "cell_type": "markdown",
            "source": [
                "### 11. Do you know ?\n",
                "\n",
                "- **Advantage:**\n",
                "  - Sequence operations provide a powerful and flexible way to work with ordered collections, making programming tasks involving lists and strings more efficient and expressive.\n",
                "\n",
                "- **Mishap:**\n",
                "  - Mishaps can occur when incorrect indices are used, leading to errors or unintended behavior. It's crucial to carefully manage indices, especially in complex programs involving sequences."
            ],
            "metadata": {
                "language": "python",
                "azdata_cell_guid": "5cc669d0-1fbc-4548-ae98-c9805d015f85"
            },
            "attachments": {}
        },
        {
            "cell_type": "markdown",
            "source": [
                "### 12. Remember\n",
                "\n",
                "- Lists are mutable, so you can modify their elements directly.\n",
                "\n",
                "- Strings are immutable, so you'll create new strings when performing operations that change their content."
            ],
            "metadata": {
                "language": "python",
                "azdata_cell_guid": "d2d9df5a-c146-4725-b410-a67be72b1527"
            },
            "attachments": {}
        }
    ]
}