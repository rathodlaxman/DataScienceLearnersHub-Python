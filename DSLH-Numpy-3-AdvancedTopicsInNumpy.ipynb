{
    "metadata": {
        "kernelspec": {
            "name": "python3",
            "display_name": "Python 3",
            "language": "python"
        },
        "language_info": {
            "name": "python",
            "version": "3.10.9",
            "mimetype": "text/x-python",
            "codemirror_mode": {
                "name": "ipython",
                "version": 3
            },
            "pygments_lexer": "ipython3",
            "nbconvert_exporter": "python",
            "file_extension": ".py"
        }
    },
    "nbformat_minor": 2,
    "nbformat": 4,
    "cells": [
        {
            "cell_type": "markdown",
            "source": [
                "# **`Data Science Learners Hub`**\n",
                "\n",
                "**Module : Python**\n",
                "\n",
                "**email** : [datasciencelearnershub@gmail.com](mailto:datasciencelearnershub@gmail.com)"
            ],
            "metadata": {
                "azdata_cell_guid": "b729783d-941c-4d4d-aa3f-53f56bfa2905"
            },
            "attachments": {}
        },
        {
            "cell_type": "markdown",
            "source": [
                "### **`#3: Advanced Topics in NumPy`**\n",
                "\n",
                "1. **Broadcasting:**\n",
                "   - Understanding how NumPy handles operations on arrays of different shapes.\n",
                "   - Examples illustrating broadcasting.\n",
                "\n",
                "2. **Linear Algebra with NumPy:**\n",
                "   - Matrix multiplication.\n",
                "   - Solving linear equations using NumPy.\n",
                "\n",
                "3. **Random in NumPy:**\n",
                "   - Generating random numbers with `np.random`.\n",
                "   - Simulating random processes.\n",
                "\n",
                "4. **File I/O with NumPy:**\n",
                "   - Reading and writing data to files using `np.loadtxt` and `np.savetxt`.\n",
                "   - Saving and loading NumPy arrays using `np.save` and `np.load`.\n",
                "\n",
                "\n",
                ""
            ],
            "metadata": {
                "azdata_cell_guid": "20157677-2656-485e-9bb4-c83bcaad29e4"
            },
            "attachments": {}
        },
        {
            "cell_type": "markdown",
            "source": [
                "#### **`1. Broadcasting in NumPy:`**\n",
                "\n",
                "**Concept:**\n",
                "\n",
                "Broadcasting is a powerful feature in NumPy that allows for element-wise operations between arrays of different shapes and sizes. In simpler terms, it enables NumPy to perform operations on arrays that don't have the same shape by implicitly replicating and aligning smaller arrays to match the shape of larger arrays.\n",
                "\n",
                "**How Broadcasting Works:**\n",
                "\n",
                "When operating on two arrays, NumPy compares their shapes element-wise, starting from the rightmost dimensions. It automatically adds dimensions to the smaller array to make their shapes compatible. Broadcasting continues until the shapes are aligned, allowing element-wise operations.\n",
                "\n",
                "**Example:**\n",
                ""
            ],
            "metadata": {
                "azdata_cell_guid": "9f6df91c-190b-40a7-b682-254e9cb5b783"
            },
            "attachments": {}
        },
        {
            "cell_type": "code",
            "source": [
                "import numpy as np\n",
                "\n",
                "# Broadcasting Example\n",
                "arr1 = np.array([1, 2, 3])\n",
                "arr2 = np.array([[10], [20], [30]])\n",
                "\n",
                "print('arr1.shape :', arr1.shape)\n",
                "print('arr2.shape :', arr2.shape)\n",
                "\n",
                "result = arr1 + arr2\n",
                "print(result)\n",
                "print('result.shape :',result.shape)"
            ],
            "metadata": {
                "azdata_cell_guid": "2b7c1111-130a-475b-93c7-dabb04139483",
                "language": "python"
            },
            "outputs": [
                {
                    "output_type": "stream",
                    "name": "stdout",
                    "text": "arr1.shape : (3,)\narr2.shape : (3, 1)\n[[11 12 13]\n [21 22 23]\n [31 32 33]]\nresult.shape : (3, 3)\n"
                }
            ],
            "execution_count": 2
        },
        {
            "cell_type": "markdown",
            "source": [
                "In this example, `arr1` has shape (3,) and `arr2` has shape (3, 1). NumPy automatically broadcasts `arr1` to shape (1, 3) so that the addition operation can be performed element-wise. The resulting `result` has shape (3, 3)."
            ],
            "metadata": {
                "azdata_cell_guid": "d99cbf29-29b3-4c54-b066-1135e279c2e9"
            },
            "attachments": {}
        },
        {
            "cell_type": "markdown",
            "source": [
                "**Real-world Examples:**"
            ],
            "metadata": {
                "azdata_cell_guid": "f159c3c5-bb97-4eb7-a91f-ecf0cb1fcf8a"
            },
            "attachments": {}
        },
        {
            "cell_type": "markdown",
            "source": [
                "1. **Temperature Conversion:**\n",
                "   - **Scenario:** Convert temperatures in Celsius to Fahrenheit.\n",
                "   - **Application:** Broadcasting allows converting an array of Celsius temperatures to Fahrenheit without the need for explicit looping."
            ],
            "metadata": {
                "azdata_cell_guid": "8bf3bc7a-0b55-4c18-a4e3-d2d78cccd394"
            },
            "attachments": {}
        },
        {
            "cell_type": "code",
            "source": [
                "import numpy as np\n",
                "\n",
                "celsius_temps = np.array([0, 10, 20, 30, 40])\n",
                "# Broadcasting to convert Celsius to Fahrenheit: (C * 9/5) + 32\n",
                "fahrenheit_temps = (celsius_temps * 9/5) + 32\n",
                "\n",
                "print(fahrenheit_temps)"
            ],
            "metadata": {
                "azdata_cell_guid": "8ea5411a-4917-48ca-9ac4-b6561bf7734f",
                "language": "python"
            },
            "outputs": [
                {
                    "output_type": "stream",
                    "name": "stdout",
                    "text": "[ 32.  50.  68.  86. 104.]\n"
                }
            ],
            "execution_count": 3
        },
        {
            "cell_type": "markdown",
            "source": [
                "2. **Stock Portfolio Analysis:**\n",
                "   - **Scenario:** Calculate the total value of a stock portfolio.\n",
                "   - **Application:** Broadcasting enables multiplying the number of shares by the stock prices for each stock, even if the shapes are different."
            ],
            "metadata": {
                "language": "python",
                "azdata_cell_guid": "818778a5-5bc7-48e9-924f-e0edc2c41215"
            },
            "attachments": {}
        },
        {
            "cell_type": "code",
            "source": [
                "import numpy as np\n",
                "\n",
                "shares_owned = np.array([10, 20, 30])\n",
                "stock_prices = np.array([50, 75, 100])\n",
                "# Broadcasting to calculate total value: shares_owned * stock_prices\n",
                "portfolio_value = shares_owned * stock_prices\n",
                "\n",
                "print(portfolio_value)"
            ],
            "metadata": {
                "language": "python",
                "azdata_cell_guid": "3be8cf24-0324-4855-8d68-46f944704d92"
            },
            "outputs": [
                {
                    "output_type": "stream",
                    "name": "stdout",
                    "text": "[ 500 1500 3000]\n"
                }
            ],
            "execution_count": 4
        },
        {
            "cell_type": "markdown",
            "source": [
                "3. **Image Brightness Adjustment:**\n",
                "   - **Scenario:** Adjust the brightness of an image.\n",
                "   - **Application:** Broadcasting facilitates scaling the pixel values of an image without the need for explicit loops."
            ],
            "metadata": {
                "language": "python",
                "azdata_cell_guid": "a33fad9e-700d-4632-aa38-5dddd5b3ecc5"
            },
            "attachments": {}
        },
        {
            "cell_type": "code",
            "source": [
                "import numpy as np\n",
                "\n",
                "image = np.array([[100, 150], [200, 250]])\n",
                "# Broadcasting to increase brightness by 50: image + 50\n",
                "brighter_image = image + 50\n",
                "print(brighter_image)"
            ],
            "metadata": {
                "language": "python",
                "azdata_cell_guid": "3355eb22-84c6-4ea1-ab44-dd7980cd2c0f",
                "tags": []
            },
            "outputs": [
                {
                    "output_type": "stream",
                    "name": "stdout",
                    "text": "[[150 200]\n [250 300]]\n"
                }
            ],
            "execution_count": 5
        },
        {
            "cell_type": "markdown",
            "source": [
                "**Key Takeaway:**\n",
                "\n",
                "Broadcasting in NumPy is a powerful mechanism that simplifies operations on arrays with different shapes, making code more concise and readable. It is particularly useful in scenarios involving numerical operations, data manipulation, and transformations, contributing to the efficiency and flexibility of array-based computations in various applications."
            ],
            "metadata": {
                "language": "python",
                "azdata_cell_guid": "2799b8d6-7290-4dba-8dce-bdd196b4abfe"
            },
            "attachments": {}
        },
        {
            "cell_type": "markdown",
            "source": [
                "#### **`4. Linear Algebra with NumPy:`**"
            ],
            "metadata": {
                "language": "python",
                "azdata_cell_guid": "1af612cc-91c9-4464-b89d-6ec3c3d4c62c"
            },
            "attachments": {}
        },
        {
            "cell_type": "markdown",
            "source": [
                "**1. Matrix Multiplication:**\n",
                "\n",
                "- **Scenario:** Financial Portfolio Optimization\n",
                "- **Application:** Matrix multiplication is crucial in finance for optimizing a portfolio. If `A` represents the returns of different assets and `B` represents the weights of these assets in the portfolio, then the product `C = A * B` gives the expected portfolio returns."
            ],
            "metadata": {
                "language": "python",
                "azdata_cell_guid": "23fbf1b2-736a-48f4-b73c-4e45f511285a"
            },
            "attachments": {}
        },
        {
            "cell_type": "code",
            "source": [
                "import numpy as np\n",
                "\n",
                "returns = np.array([[0.05, 0.03], [0.02, 0.04]])  # Asset returns matrix\n",
                "weights = np.array([[0.4], [0.6]])  # Portfolio weights matrix\n",
                "\n",
                "# Portfolio returns: C = A * B\n",
                "portfolio_returns = np.dot(returns, weights)\n",
                "\n",
                "print(portfolio_returns)"
            ],
            "metadata": {
                "language": "python",
                "azdata_cell_guid": "7b78562e-62f1-45be-b0aa-4c1579f97873"
            },
            "outputs": [
                {
                    "output_type": "stream",
                    "name": "stdout",
                    "text": "[[0.038]\n [0.032]]\n"
                }
            ],
            "execution_count": 6
        },
        {
            "cell_type": "markdown",
            "source": [
                "**2. Solving Linear Equations:**\n",
                "\n",
                "- **Scenario:** Engineering Stress Analysis\n",
                "- **Application:** Linear algebra is used in engineering to solve systems of linear equations. If `A` represents the material properties, `B` represents the applied forces, and `X` represents the resulting strains, then the equation `AX = B` can be solved using NumPy."
            ],
            "metadata": {
                "language": "python",
                "azdata_cell_guid": "c7f421ea-82cd-404e-90af-9fec911bb02a"
            },
            "attachments": {}
        },
        {
            "cell_type": "code",
            "source": [
                "import numpy as np\n",
                "\n",
                "material_properties = np.array([[2, -1], [1, 3]])  # Material properties matrix\n",
                "applied_forces = np.array([[10], [5]])  # Applied forces matrix\n",
                "\n",
                "# Solve linear equations: AX = B\n",
                "strains = np.linalg.solve(material_properties, applied_forces)\n",
                "\n",
                "print(strains)"
            ],
            "metadata": {
                "language": "python",
                "azdata_cell_guid": "b0df2a0e-1b5c-406b-8040-f066fa086150"
            },
            "outputs": [
                {
                    "output_type": "stream",
                    "name": "stdout",
                    "text": "[[5.]\n [0.]]\n"
                }
            ],
            "execution_count": 7
        },
        {
            "cell_type": "markdown",
            "source": [
                "**Real-world Examples:**"
            ],
            "metadata": {
                "language": "python",
                "azdata_cell_guid": "9687ea52-50e3-4925-a819-238c9685f108"
            },
            "attachments": {}
        },
        {
            "cell_type": "markdown",
            "source": [
                "1. **Structural Engineering: Finite Element Analysis**\n",
                "   - **Scenario:** Analyzing stresses and strains in structural elements.\n",
                "   - **Application:** Linear algebra operations are employed to solve complex systems of linear equations arising in finite element analysis for structural engineering."
            ],
            "metadata": {
                "language": "python",
                "azdata_cell_guid": "810999f9-bcf3-4798-8d1e-0812374d88e7"
            },
            "attachments": {}
        },
        {
            "cell_type": "code",
            "source": [
                "import numpy as np\n",
                "\n",
                "stiffness_matrix = np.array([[1000, -500], [-500, 800]])  # Stiffness matrix\n",
                "applied_forces = np.array([[100], [50]])  # Applied forces matrix\n",
                "\n",
                "# Solve linear equations: AX = B\n",
                "displacements = np.linalg.solve(stiffness_matrix, applied_forces)\n",
                "\n",
                "print(displacements)"
            ],
            "metadata": {
                "language": "python",
                "azdata_cell_guid": "d5415342-7148-428b-accf-d4a6fc5adb87"
            },
            "outputs": [
                {
                    "output_type": "stream",
                    "name": "stdout",
                    "text": "[[0.19090909]\n [0.18181818]]\n"
                }
            ],
            "execution_count": 10
        },
        {
            "cell_type": "markdown",
            "source": [
                "2. **Machine Learning: Linear Regression**\n",
                "   - **Scenario:** Predicting house prices based on features.\n",
                "   - **Application:** Linear algebra is used in linear regression models. If `X` represents feature values, `Y` represents target values, and `W` represents weights, then the equation `Y = XW` involves matrix multiplication."
            ],
            "metadata": {
                "language": "python",
                "azdata_cell_guid": "db8eecce-381c-45ae-829e-8f75c578f2ef"
            },
            "attachments": {}
        },
        {
            "cell_type": "code",
            "source": [
                "import numpy as np\n",
                "\n",
                "features = np.array([[1, 2000], [1, 2500], [1, 1800]])  # Features matrix\n",
                "weights = np.array([[500], [0.2]])  # Weights matrix\n",
                "\n",
                "# Predict house prices: Y = XW\n",
                "predicted_prices = np.dot(features, weights)\n",
                "\n",
                "print(predicted_prices)"
            ],
            "metadata": {
                "language": "python",
                "azdata_cell_guid": "a5f59122-a56a-4bd3-863a-f4a10b7930f8"
            },
            "outputs": [
                {
                    "output_type": "stream",
                    "name": "stdout",
                    "text": "[[ 900.]\n [1000.]\n [ 860.]]\n"
                }
            ],
            "execution_count": 11
        },
        {
            "cell_type": "markdown",
            "source": [
                "**Key Takeaway:**\n",
                "\n",
                "NumPy's linear algebra capabilities make it a powerful tool for solving problems in various fields. Whether it's optimizing financial portfolios, analyzing stress in engineering structures, performing image transformations, or implementing machine learning algorithms, linear algebra with NumPy provides a versatile and efficient framework for numerical computations."
            ],
            "metadata": {
                "language": "python",
                "azdata_cell_guid": "90ea68cb-d716-4a99-9652-539d57b702f8"
            },
            "attachments": {}
        },
        {
            "cell_type": "markdown",
            "source": [
                "#### **`3. Random Number Generation in NumPy:`**"
            ],
            "metadata": {
                "language": "python",
                "azdata_cell_guid": "c1d873ce-61a3-45d7-9e64-22e481edcf98"
            },
            "attachments": {}
        },
        {
            "cell_type": "markdown",
            "source": [
                "**Using the `np.random` Module:**\n",
                "\n",
                "NumPy provides a comprehensive set of functions for random number generation through the `np.random` module. Some key functions include:"
            ],
            "metadata": {
                "language": "python",
                "azdata_cell_guid": "341daa2f-2f56-4a7c-9888-1e6beb54886e"
            },
            "attachments": {}
        },
        {
            "cell_type": "markdown",
            "source": [
                "1. **`np.random.rand`:** Generates random numbers from a uniform distribution over `[0, 1)`."
            ],
            "metadata": {
                "language": "python",
                "azdata_cell_guid": "8af41bdd-3e8d-4b1d-9038-7849abac9a64"
            },
            "attachments": {}
        },
        {
            "cell_type": "code",
            "source": [
                "import numpy as np\n",
                "\n",
                "random_numbers = np.random.rand(3, 2)  # Generate a 3x2 array of random numbers\n",
                "\n",
                "print(random_numbers)"
            ],
            "metadata": {
                "language": "python",
                "azdata_cell_guid": "cf949203-0a59-4b44-bb79-f33c023f9a73"
            },
            "outputs": [
                {
                    "output_type": "stream",
                    "name": "stdout",
                    "text": "[[0.91929137 0.80345834]\n [0.7376449  0.71288324]\n [0.0975569  0.87228412]]\n"
                }
            ],
            "execution_count": 12
        },
        {
            "cell_type": "markdown",
            "source": [
                "2. **`np.random.randn`:** Generates random numbers from a standard normal distribution (mean=0, std=1)."
            ],
            "metadata": {
                "language": "python",
                "azdata_cell_guid": "5e57e341-b673-46db-92a7-b840a50c066c"
            },
            "attachments": {}
        },
        {
            "cell_type": "code",
            "source": [
                "import numpy as np\n",
                "\n",
                "random_numbers = np.random.randn(5)  # Generate an array of 5 random numbers from a standard normal distribution\n",
                "\n",
                "print(random_numbers)"
            ],
            "metadata": {
                "language": "python",
                "azdata_cell_guid": "2fdc6a1b-b1d7-4696-9324-ca7107c16342"
            },
            "outputs": [
                {
                    "output_type": "stream",
                    "name": "stdout",
                    "text": "[ 0.90189377 -1.6388481  -0.05805631  0.67198547  1.09089933]\n"
                }
            ],
            "execution_count": 2
        },
        {
            "cell_type": "markdown",
            "source": [
                "3. **`np.random.randint`:** Generates random integers from a specified low (inclusive) to high (exclusive) range."
            ],
            "metadata": {
                "language": "python",
                "azdata_cell_guid": "6b069c03-8183-4905-84eb-c80a1382c0fc"
            },
            "attachments": {}
        },
        {
            "cell_type": "code",
            "source": [
                "import numpy as np\n",
                "\n",
                "random_integers = np.random.randint(1, 10, size=(2, 3))  # Generate a 2x3 array of random integers between 1 and 10\n",
                "\n",
                "print(random_integers)"
            ],
            "metadata": {
                "language": "python",
                "azdata_cell_guid": "9a75be77-7333-4a73-8ccd-bb6997d49e50"
            },
            "outputs": [
                {
                    "output_type": "stream",
                    "name": "stdout",
                    "text": "[[3 2 6]\n [9 9 9]]\n"
                }
            ],
            "execution_count": 14
        },
        {
            "cell_type": "markdown",
            "source": [
                "4. **`np.random.choice`:** Generates random samples from a given 1-D array or sequence."
            ],
            "metadata": {
                "language": "python",
                "azdata_cell_guid": "6c40a152-5934-42ab-a143-c8c9992a20d9"
            },
            "attachments": {}
        },
        {
            "cell_type": "code",
            "source": [
                "import numpy as np\n",
                "\n",
                "choices = np.random.choice(['red', 'blue', 'green'], size=5)  # Randomly choose 5 colors from the given array\n",
                "\n",
                "print(choices)"
            ],
            "metadata": {
                "language": "python",
                "azdata_cell_guid": "acfa92b1-8788-47ed-a813-6f1b1ed06a93"
            },
            "outputs": [
                {
                    "output_type": "stream",
                    "name": "stdout",
                    "text": "['red' 'red' 'green' 'red' 'red']\n"
                }
            ],
            "execution_count": 15
        },
        {
            "cell_type": "markdown",
            "source": [
                "**Real-world Examples:**"
            ],
            "metadata": {
                "language": "python",
                "azdata_cell_guid": "06528928-a89e-4f94-9ce6-54e4eee60d6a"
            },
            "attachments": {}
        },
        {
            "cell_type": "markdown",
            "source": [
                "1. **Monte Carlo Simulations:**\n",
                "   - **Scenario:** Financial risk assessment.\n",
                "   - **Application:** In finance, random number generation is crucial for Monte Carlo simulations. Simulating various market scenarios helps assess the risk associated with different investment strategies."
            ],
            "metadata": {
                "language": "python",
                "azdata_cell_guid": "b02482e8-1623-4053-82ee-0928d53e2e25"
            },
            "attachments": {}
        },
        {
            "cell_type": "code",
            "source": [
                "   import numpy as np\n",
                "\n",
                "   num_simulations = 1000\n",
                "   returns = np.random.randn(num_simulations, 10)  # Simulate returns for 10 financial assets in 1000 scenarios\n",
                "\n",
                "   print(returns)"
            ],
            "metadata": {
                "language": "python",
                "azdata_cell_guid": "c7eda8af-0e72-45ee-b0ab-57c223aa49a1"
            },
            "outputs": [
                {
                    "output_type": "stream",
                    "name": "stdout",
                    "text": "[[-2.97490528e-01 -1.44284272e+00  1.94835145e+00 ... -2.35400858e+00\n   7.62862264e-01 -3.15095891e-01]\n [-1.89689009e+00  1.40780633e+00 -2.90971529e-01 ... -1.17548345e+00\n   8.69624484e-01 -1.15555771e-01]\n [ 1.73351735e+00 -2.44816245e-01  3.52849723e-01 ...  6.85412289e-01\n   7.55002148e-01  2.19141519e-01]\n ...\n [-8.24837955e-01  1.01163372e+00  1.50986813e-01 ... -5.36100325e-01\n   1.49036366e+00 -1.20282482e-01]\n [ 1.25412824e+00  6.95825732e-01  4.10119612e-01 ... -5.64046256e-01\n  -5.67529745e-01 -8.71055961e-01]\n [-4.40572458e-01 -9.57697080e-03  1.59207655e+00 ...  1.00257586e+00\n   1.70432589e-04  6.89891842e-01]]\n"
                }
            ],
            "execution_count": 16
        },
        {
            "cell_type": "markdown",
            "source": [
                "2. **Game Development:**\n",
                "   - **Scenario:** Randomizing elements in a game.\n",
                "   - **Application:** In game development, random numbers are used to introduce variability. For example, generating random starting positions, enemy behavior, or loot drops."
            ],
            "metadata": {
                "language": "python",
                "azdata_cell_guid": "749558c5-26aa-4cf7-8e72-ad37d4a863bc"
            },
            "attachments": {}
        },
        {
            "cell_type": "code",
            "source": [
                "import numpy as np\n",
                "\n",
                "enemy_positions = np.random.rand(10, 2) * 100  # Randomize starting positions for 10 enemies within a 100x100 game area\n",
                "\n",
                "print(enemy_positions)"
            ],
            "metadata": {
                "language": "python",
                "azdata_cell_guid": "52a444e7-fc61-4f09-967d-7a457a43b6db"
            },
            "outputs": [
                {
                    "output_type": "stream",
                    "name": "stdout",
                    "text": "[[52.01175702  8.50969695]\n [ 4.01636369 98.31398012]\n [95.15361123 19.59324578]\n [98.0224175  89.71041527]\n [94.97842292 24.94124281]\n [79.49416651 84.74824063]\n [85.41762146 57.30224287]\n [83.68133912 21.95428976]\n [32.34198656 15.04745931]\n [ 4.37190816 84.21603481]]\n"
                }
            ],
            "execution_count": 17
        },
        {
            "cell_type": "markdown",
            "source": [
                "3. **Scientific Experiments:**\n",
                "   - **Scenario:** Simulating experimental conditions.\n",
                "   - **Application:** In scientific research, random number generation is used to simulate conditions for experiments. For example, randomly assigning participants to control and experimental groups."
            ],
            "metadata": {
                "language": "python",
                "azdata_cell_guid": "3dc1ca7b-ef7a-4a06-834f-c6c54a440fb0"
            },
            "attachments": {}
        },
        {
            "cell_type": "code",
            "source": [
                "import numpy as np\n",
                "\n",
                "experimental_group = np.random.choice([0, 1], size=50)  # Simulate random assignment of participants to experimental group (1) or control group (0)\n",
                "\n",
                "print(experimental_group)"
            ],
            "metadata": {
                "language": "python",
                "azdata_cell_guid": "9331855d-ea4e-464d-bd10-08cab4154692"
            },
            "outputs": [
                {
                    "output_type": "stream",
                    "name": "stdout",
                    "text": "[0 1 1 1 0 1 0 1 0 1 1 0 0 0 0 1 1 0 1 0 0 1 0 1 0 1 0 0 1 1 1 1 0 1 1 0 0\n 1 1 1 1 1 1 1 1 1 0 1 1 0]\n"
                }
            ],
            "execution_count": 18
        },
        {
            "cell_type": "markdown",
            "source": [
                "**Key Takeaway:**\n",
                "\n",
                "NumPy's `np.random` module is a versatile tool for generating random numbers, and its applications extend across various domains. Whether it's for financial simulations, game development, scientific experiments, or machine learning, the ability to generate random numbers is essential for introducing variability and uncertainty into simulations and algorithms."
            ],
            "metadata": {
                "language": "python",
                "azdata_cell_guid": "993e98ef-13e9-4020-8e50-ae0194188b51"
            },
            "attachments": {}
        },
        {
            "cell_type": "markdown",
            "source": [
                "#### **`4. File I/O with NumPy:`**\n",
                "\n",
                "NumPy provides convenient functions for reading and writing data to files, making it easy to handle data persistence in various formats. Here are key functions for file I/O in NumPy:"
            ],
            "metadata": {
                "language": "python",
                "azdata_cell_guid": "432d10c0-5fa6-4294-8c7b-a55c4ba0b464"
            },
            "attachments": {}
        },
        {
            "cell_type": "markdown",
            "source": [
                "1. **`np.savetxt`:** Saves an array to a text file."
            ],
            "metadata": {
                "language": "python",
                "azdata_cell_guid": "db83fc4b-ebfe-4edc-89d2-ad46c1994514"
            },
            "attachments": {}
        },
        {
            "cell_type": "code",
            "source": [
                "import numpy as np\n",
                "\n",
                "data = np.array([[1, 2, 3], [4, 5, 6]])\n",
                "np.savetxt('output.txt', data, delimiter=',')\n",
                "\n",
                "# Note : 'output.txt' file gets created in ur current working directory"
            ],
            "metadata": {
                "language": "python",
                "azdata_cell_guid": "4d9056c4-809b-4006-b0fa-bdff67e7c99c"
            },
            "outputs": [],
            "execution_count": 20
        },
        {
            "cell_type": "markdown",
            "source": [
                "2. **`np.loadtxt`:** Loads data from a text file."
            ],
            "metadata": {
                "language": "python",
                "azdata_cell_guid": "53e30d89-f439-4b1e-aa63-22f61586b94f"
            },
            "attachments": {}
        },
        {
            "cell_type": "code",
            "source": [
                "import numpy as np\n",
                "\n",
                "loaded_data = np.loadtxt('input.txt', delimiter=',')\n",
                "\n",
                "print(loaded_data)"
            ],
            "metadata": {
                "language": "python",
                "azdata_cell_guid": "d5fa6278-15eb-4a96-9aaa-b094c42f24da"
            },
            "outputs": [
                {
                    "output_type": "stream",
                    "name": "stdout",
                    "text": "[12. 12. 13.  2.]\n"
                }
            ],
            "execution_count": 23
        },
        {
            "cell_type": "markdown",
            "source": [
                "3. **`np.save`:** Saves a single array to a binary file with a `.npy` extension."
            ],
            "metadata": {
                "language": "python",
                "azdata_cell_guid": "ec4a4238-9fe2-4bdb-8d50-4fbad6da58ea"
            },
            "attachments": {}
        },
        {
            "cell_type": "code",
            "source": [
                "import numpy as np\n",
                "\n",
                "data = np.array([1, 2, 3, 4, 5])\n",
                "np.save('output.npy', data)\n",
                "\n",
                "# Note : 'output.npy' file gets created in ur current working directory"
            ],
            "metadata": {
                "language": "python",
                "azdata_cell_guid": "289898c4-6db7-4396-b8c4-2ce72d7d5378"
            },
            "outputs": [],
            "execution_count": 24
        },
        {
            "cell_type": "markdown",
            "source": [
                "4. **`np.load`:** Loads a `.npy` file."
            ],
            "metadata": {
                "language": "python",
                "azdata_cell_guid": "602bbdc1-1538-4c91-abc3-c113145d2aa4"
            },
            "attachments": {}
        },
        {
            "cell_type": "code",
            "source": [
                "import numpy as np\n",
                "\n",
                "loaded_data = np.load('input.npy')\n",
                "\n",
                "print(loaded_data)"
            ],
            "metadata": {
                "language": "python",
                "azdata_cell_guid": "6d3fc2c3-7c9d-4e85-b65e-d461ed7adf6c"
            },
            "outputs": [
                {
                    "output_type": "stream",
                    "name": "stdout",
                    "text": "[1 2 3 4 5]\n"
                }
            ],
            "execution_count": 25
        },
        {
            "cell_type": "markdown",
            "source": [
                "**Real-world Examples:**\n",
                "\n",
                "1. **Scientific Data Logging:**\n",
                "   - **Scenario:** Recording experimental data.\n",
                "   - **Application:** In scientific experiments, data collected from sensors or instruments can be saved to a file using `np.savetxt` for later analysis or sharing.\n",
                "\n",
                "   ```python\n",
                "   import numpy as np\n",
                "\n",
                "   experiment_data = np.array([[time1, sensor1_value], [time2, sensor2_value], ...])\n",
                "   np.savetxt('experiment_results.txt', experiment_data, delimiter=',', header='Time, Sensor Value', comments='')\n",
                "   ```\n",
                "\n",
                "2. **Financial Data Storage:**\n",
                "   - **Scenario:** Saving stock price data.\n",
                "   - **Application:** In finance, historical stock prices can be stored in a file using `np.savetxt` for building and backtesting trading strategies.\n",
                "\n",
                "   ```python\n",
                "   import numpy as np\n",
                "\n",
                "   stock_prices = np.array([[date1, price1], [date2, price2], ...])\n",
                "   np.savetxt('stock_prices.csv', stock_prices, delimiter=',', header='Date, Closing Price', comments='')\n",
                "   ```\n",
                "\n",
                "\n",
                "3. **Simulation Results Storage:**\n",
                "   - **Scenario:** Storing simulation outcomes.\n",
                "   - **Application:** In simulations, results can be saved to a file using `np.savetxt` for subsequent analysis or comparison.\n",
                "\n",
                "   ```python\n",
                "   import numpy as np\n",
                "\n",
                "   simulation_results = np.array([[iteration1, outcome1], [iteration2, outcome2], ...])\n",
                "   np.savetxt('simulation_results.txt', simulation_results, delimiter=',', header='Iteration, Outcome', comments='')\n",
                "   ```\n",
                ""
            ],
            "metadata": {
                "language": "python",
                "azdata_cell_guid": "83909b20-6c83-4c12-9cf8-a0c7a24e1845"
            },
            "attachments": {}
        },
        {
            "cell_type": "markdown",
            "source": [
                "**Key Takeaway:**\n",
                "\n",
                "NumPy's file I/O functions are valuable for handling data in various formats, whether for scientific experiments, financial analysis, machine learning, or simulations. These functions provide a seamless way to save and load numerical data, promoting data persistence and facilitating collaboration and reproducibility in data-driven workflows."
            ],
            "metadata": {
                "azdata_cell_guid": "7b146281-a907-4553-90b5-799c912fdc40"
            },
            "attachments": {}
        }
    ]
}