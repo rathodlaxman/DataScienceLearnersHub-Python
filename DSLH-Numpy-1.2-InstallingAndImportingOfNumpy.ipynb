{
    "metadata": {
        "kernelspec": {
            "name": "SQL",
            "display_name": "SQL",
            "language": "sql"
        },
        "language_info": {
            "name": "sql",
            "version": ""
        }
    },
    "nbformat_minor": 2,
    "nbformat": 4,
    "cells": [
        {
            "cell_type": "markdown",
            "source": [
                "# **`Data Science Learners Hub`**\n",
                "\n",
                "**Module : Python**\n",
                "\n",
                "**email** : [datasciencelearnershub@gmail.com](mailto:datasciencelearnershub@gmail.com)"
            ],
            "metadata": {
                "azdata_cell_guid": "4565f344-785d-4cb9-b3be-e7ef0f832ce0"
            },
            "attachments": {}
        },
        {
            "cell_type": "markdown",
            "source": [
                "#### **`1.2. Installing and Importing of NumPy:`**\n",
                "\n",
                "**Installing NumPy using pip:**\n",
                "To install NumPy using pip, you can use the following command in your terminal or command prompt:\n",
                "\n",
                "```bash\n",
                "pip install numpy\n",
                "```\n",
                "\n",
                "This command fetches the latest version of NumPy from the Python Package Index (PyPI) and installs it on your system.\n",
                "\n",
                "**Common Installation Issues and Resolutions:**\n",
                "\n",
                "1. **Outdated pip:**\n",
                "   - **Issue:** An outdated pip version might cause installation problems.\n",
                "   - **Resolution:** Upgrade pip using the command: `pip install --upgrade pip`.\n",
                "\n",
                "2. **Dependencies:**\n",
                "   - **Issue:** NumPy relies on certain dependencies, and missing or outdated ones can lead to installation failures.\n",
                "   - **Resolution:** Ensure that you have the necessary build tools and development libraries installed. On Windows, you might need Microsoft Visual C++ Build Tools. On Linux, you can install them using package managers like `apt` or `yum`.\n",
                "\n",
                "3. **Virtual Environment:**\n",
                "   - **Issue:** Installing NumPy in a virtual environment may cause conflicts with system packages.\n",
                "   - **Resolution:** Activate the virtual environment before running the installation command.\n",
                "\n",
                "**Importing NumPy:**\n",
                "\n",
                "Once NumPy is installed, you can import it into your Python script or Jupyter notebook for use in your projects.\n",
                "\n",
                "**Importing in Python Script:**\n",
                "```python\n",
                "# Importing NumPy in a Python script\n",
                "import numpy as np\n",
                "\n",
                "# Now, you can use NumPy functions and arrays\n",
                "arr = np.array([1, 2, 3])\n",
                "print(arr)\n",
                "```\n",
                "\n",
                "**Importing in Jupyter Notebook:**\n",
                "```python\n",
                "# Importing NumPy in a Jupyter notebook\n",
                "import numpy as np\n",
                "\n",
                "# Now, you can use NumPy functions and arrays\n",
                "arr = np.array([1, 2, 3])\n",
                "print(arr)\n",
                "```\n",
                "\n",
                "In both cases, `np` is a commonly used alias for NumPy. This alias helps keep the code concise, and it is a widely adopted convention in the Python community.\n",
                "\n",
                "**Additional Tips:**\n",
                "\n",
                "- If you encounter issues, check the official [NumPy installation guide](https://numpy.org/install/) for platform-specific instructions and troubleshooting.\n",
                "- Consider using virtual environments to manage dependencies cleanly.\n",
                "- For Jupyter notebooks, ensure that the notebook kernel is associated with the correct virtual environment, if any.\n",
                "\n",
                ""
            ],
            "metadata": {
                "azdata_cell_guid": "0dd37222-4f87-4921-afa0-5baeb3e46ac8"
            },
            "attachments": {}
        }
    ]
}