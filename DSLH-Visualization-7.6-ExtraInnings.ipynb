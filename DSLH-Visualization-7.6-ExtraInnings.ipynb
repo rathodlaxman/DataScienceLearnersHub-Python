{
    "metadata": {
        "kernelspec": {
            "name": "python3",
            "display_name": "Python 3",
            "language": "python"
        },
        "language_info": {
            "name": "python",
            "version": "3.10.9",
            "mimetype": "text/x-python",
            "codemirror_mode": {
                "name": "ipython",
                "version": 3
            },
            "pygments_lexer": "ipython3",
            "nbconvert_exporter": "python",
            "file_extension": ".py"
        }
    },
    "nbformat_minor": 2,
    "nbformat": 4,
    "cells": [
        {
            "cell_type": "markdown",
            "source": [
                "# **`Data Science Learners Hub`**\n",
                "\n",
                "**Module : Python**\n",
                "\n",
                "**email** : [datasciencelearnershub@gmail.com](mailto:datasciencelearnershub@gmail.com)"
            ],
            "metadata": {
                "azdata_cell_guid": "a08b7ba9-22e8-4f05-872f-64a1e0c257da"
            },
            "attachments": {}
        },
        {
            "cell_type": "markdown",
            "source": [
                "## **`Extra Innings`**"
            ],
            "metadata": {
                "azdata_cell_guid": "5a541f03-2fa8-429a-a2fc-7eb01ec5ab40"
            },
            "attachments": {}
        },
        {
            "cell_type": "markdown",
            "source": [
                "### **1\\. What are various types of 'marker styles' in matplotlib visualisation ?**"
            ],
            "metadata": {
                "azdata_cell_guid": "667fc0b1-9c46-42e3-8f5a-89aa3a493d75"
            },
            "attachments": {}
        },
        {
            "cell_type": "markdown",
            "source": [
                "\n",
                "\n",
                "| Marker | Description                                      |\n",
                "|--------|--------------------------------------------------|\n",
                "| `'.'`  | Point marker.                                    |\n",
                "| `','`  | Pixel marker.                                    |\n",
                "| `'o'`  | Circle marker.                                   |\n",
                "| `'v'`  | Triangle Down marker.                           |\n",
                "| `'^'`  | Triangle Up marker.                             |\n",
                "| `'<'`  | Triangle Left marker.                           |\n",
                "| `'>'`  | Triangle Right marker.                          |\n",
                "| `'1'`  | Tri Down marker.                                |\n",
                "| `'2'`  | Tri Up marker.                                  |\n",
                "| `'3'`  | Tri Left marker.                                |\n",
                "| `'4'`  | Tri Right marker.                               |\n",
                "| `'s'`  | Square marker.                                  |\n",
                "| `'p'`  | Pentagon marker.                                |\n",
                "| `'*'`  | Star marker.                                    |\n",
                "| `'h'`  | Hexagon1 marker.                                |\n",
                "| `'H'`  | Hexagon2 marker.                                |\n",
                "| `'+'`  | Plus marker.                                    |\n",
                "| `'x'`  | X marker.                                       |\n",
                "| `'D'`  | Diamond marker.                                 |\n",
                "| `'d'`  | Thin Diamond marker.                            |\n",
                "| `'|'`  | Vertical Line marker.                           |\n",
                "| `'_'`  | Horizontal Line marker.                         |\n",
                "| `None` | No marker.                                      |\n",
                "| `'$...$'` | Render the string using mathtext. (e.g., `'$\\sigma$'` for the Greek letter sigma). |\n",
                "\n",
                "These markers can be used in various Matplotlib plotting functions to distinguish data points or customize the appearance of plots. For example:\n",
                ""
            ],
            "metadata": {
                "azdata_cell_guid": "35d98d77-4897-4979-a80a-d35825dd1901"
            },
            "attachments": {}
        },
        {
            "cell_type": "code",
            "source": [
                "import matplotlib.pyplot as plt\n",
                "\n",
                "# Example of using different markers\n",
                "x = [1, 2, 3, 4, 5]\n",
                "y = [2, 5, 3, 8, 6]\n",
                "\n",
                "plt.scatter(x, y, marker='o', label='Circle Marker')\n",
                "plt.scatter(x, [y_i + 1 for y_i in y], marker='s', label='Square Marker')\n",
                "plt.scatter(x, [y_i - 1 for y_i in y], marker='^', label='Triangle Up Marker')\n",
                "\n",
                "plt.legend()\n",
                "plt.show()"
            ],
            "metadata": {
                "azdata_cell_guid": "7779562f-768b-4621-82bd-c911d52432a3",
                "language": "python"
            },
            "outputs": [
                {
                    "output_type": "display_data",
                    "data": {
                        "text/plain": "<Figure size 432x288 with 1 Axes>",
                        "image/png": "[encoded data removed]"
                    },
                    "metadata": {
                        "needs_background": "light"
                    }
                }
            ],
            "execution_count": 1
        },
        {
            "cell_type": "markdown",
            "source": [
                "In this example, the `scatter` function is used with different markers (`'o'`, `'s'`, and `'^'`) to represent different datasets. You can explore using these markers in other Matplotlib plots like line plots or bar charts as well."
            ],
            "metadata": {
                "language": "python",
                "azdata_cell_guid": "fa4c5e66-b290-4dd2-966f-28cbb35d5ea3"
            },
            "attachments": {}
        },
        {
            "cell_type": "markdown",
            "source": [
                "### **3. What are various types of 'line styles' in matplotlib visualisation ?**"
            ],
            "metadata": {
                "language": "python",
                "azdata_cell_guid": "53d71713-395e-47a5-b2b9-d4318452988f"
            },
            "attachments": {}
        },
        {
            "cell_type": "markdown",
            "source": [
                "Here's a tabular form describing various line styles in Matplotlib:\n",
                "\n",
                "| Line Style | Description              |\n",
                "|------------|--------------------------|\n",
                "| `'-'`      | Solid line               |\n",
                "| `'--'`     | Dashed line              |\n",
                "| `'-.'`     | Dash-dot line            |\n",
                "| `':'`      | Dotted line              |\n",
                "| `'None'`   | No line (no connecting)  |\n",
                "| `' '`      | No line (no connecting)  |\n",
                "\n",
                "You can use the `linestyle` parameter in the `plt.plot()` function to choose the desired line style for your plot. For example:\n",
                "\n",
                "```python\n",
                "plt.plot(x, y, linestyle='--', color='blue', label='Trend Line')\n",
                "```\n",
                "\n",
                "In this example, `linestyle='--'` sets the line style to dashed. Feel free to experiment with these styles to achieve the desired appearance in your plots."
            ],
            "metadata": {
                "language": "python",
                "azdata_cell_guid": "75d67d38-6d19-4c48-bded-38816a4eaac3"
            },
            "attachments": {}
        },
        {
            "cell_type": "markdown",
            "source": [
                "### **3. What are various types of 'color styles' in matplotlib visualisation ?**"
            ],
            "metadata": {
                "language": "python",
                "azdata_cell_guid": "1e3d78f9-035a-4467-ba0a-5fd7aef73b0a"
            },
            "attachments": {}
        },
        {
            "cell_type": "markdown",
            "source": [
                "Here's a tabular form describing various colors in Matplotlib:\n",
                "\n",
                "\n",
                "| Color            | Description               |\n",
                "|------------------|---------------------------|\n",
                "| `'b'`            | Blue                      |\n",
                "| `'g'`            | Green                     |\n",
                "| `'r'`            | Red                       |\n",
                "| `'c'`            | Cyan                      |\n",
                "| `'m'`            | Magenta                   |\n",
                "| `'y'`            | Yellow                    |\n",
                "| `'k'`            | Black                     |\n",
                "| `'w'`            | White                     |\n",
                "| `'lightcoral'`   | Light Coral               |\n",
                "| `'lightblue'`    | Light Blue                |\n",
                "| `'lightgreen'`   | Light Green               |\n",
                "| `'lightgray'`    | Light Gray                |\n",
                "| `'orange'`       | Orange                    |\n",
                "| `'purple'`       | Purple                    |\n",
                "| `'brown'`        | Brown                     |\n",
                "| `'pink'`         | Pink                      |\n",
                "| `'gray'`         | Gray                      |\n",
                "| `'olive'`        | Olive                     |\n",
                "| `'teal'`         | Teal                      |\n",
                "\n",
                "You can use these color codes as the `color` parameter in the `plt.plot()` function to specify the color for your plot. For example:\n",
                "\n",
                "```python\n",
                "plt.plot(x, y, linestyle='--', color='blue', label='Trend Line')\n",
                "```\n",
                "\n",
                "In this example, `color='blue'` sets the color of the line to blue. Adjust the color code as needed for your visualizations."
            ],
            "metadata": {
                "language": "python",
                "azdata_cell_guid": "d81e16a5-07aa-4bf8-bdda-26eb5ba02bd3"
            },
            "attachments": {}
        }
    ]
}