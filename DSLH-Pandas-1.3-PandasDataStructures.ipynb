{
    "metadata": {
        "kernelspec": {
            "name": "python3",
            "display_name": "Python 3",
            "language": "python"
        },
        "language_info": {
            "name": "python",
            "version": "3.10.9",
            "mimetype": "text/x-python",
            "codemirror_mode": {
                "name": "ipython",
                "version": 3
            },
            "pygments_lexer": "ipython3",
            "nbconvert_exporter": "python",
            "file_extension": ".py"
        }
    },
    "nbformat_minor": 2,
    "nbformat": 4,
    "cells": [
        {
            "cell_type": "markdown",
            "source": [
                "# **`Data Science Learners Hub`**\n",
                "\n",
                "**Module : Python**\n",
                "\n",
                "**email** : [datasciencelearnershub@gmail.com](mailto:datasciencelearnershub@gmail.com)"
            ],
            "metadata": {
                "azdata_cell_guid": "662a1784-af9f-4cef-8961-02b80c3bcf5a"
            },
            "attachments": {}
        },
        {
            "cell_type": "markdown",
            "source": [
                "## **`#1: Introduction to Pandas`**\n",
                "1. **Overview of Pandas**\n",
                "   - What is Pandas?\n",
                "   - Why use Pandas for data analysis?\n",
                "\n",
                "2. **Installation and Setup**\n",
                "   - Installing Pandas\n",
                "   - Importing Pandas in a Python environment\n",
                "\n",
                "3. **Pandas Data Structures**\n",
                "   - Series\n",
                "   - DataFrame"
            ],
            "metadata": {
                "azdata_cell_guid": "22013ce2-bcc5-4c13-9e28-ed13e3e3c1a9"
            },
            "attachments": {}
        },
        {
            "cell_type": "markdown",
            "source": [
                "### **`3. Pandas Data Structures`**"
            ],
            "metadata": {
                "azdata_cell_guid": "c38aaaaf-1444-425e-acd6-8bb6aca32739"
            },
            "attachments": {}
        },
        {
            "cell_type": "markdown",
            "source": [
                "\n",
                "#### `Pandas Series`\n",
                "\n",
                "**Definition:**\n",
                "1. A Pandas Series is a <mark>`one-dimensional labeled array capable of holding any data type`</mark>. \n",
                "2. It is a <mark>`fundamental data structure`</mark> in Pandas and <mark>`provides a labeled index to access and manipulate data.`</mark> \n",
                "3. <mark>Unlike a NumPy array, a `Pandas Series can hold data of different types.`</mark>\n",
                "\n",
                "**Differences from Other Data Structures:**\n",
                "\n",
                "1. **NumPy Array:**\n",
                "   - A Pandas Series is <mark>`conceptually similar to a NumPy array but is augmented with labels`</mark>, giving it more flexibility.\n",
                "   - While <mark>`NumPy arrays have an implicitly defined integer index, Pandas Series has an explicitly defined index associated with each element`</mark>.\n",
                "\n",
                "2. **Python List:**\n",
                "   - In contrast to Python lists, a <mark>Pandas Series can have a custom index</mark>, enabling more expressive and meaningful data representation.\n",
                "   - <mark>Series allows for more efficient data manipulation and provides additional functionalities for data analysis.</mark>\n",
                ""
            ],
            "metadata": {
                "azdata_cell_guid": "7448a416-d836-4ee1-8ef6-2708ef57a056"
            },
            "attachments": {}
        },
        {
            "cell_type": "markdown",
            "source": [
                "#### What is a Pandas Series\n",
                "\n",
                "- In the given code, pd.Series refers to the Series class in the pandas library. \n",
                "- A Series is a one-dimensional labeled array capable of holding any data type (integers, strings, floating point numbers, Python objects, etc.). - It is similar to a column in a DataFrame or a list, but with additional features."
            ],
            "metadata": {
                "azdata_cell_guid": "a53d4ced-cc35-4214-ad9e-a0d68a54798b"
            },
            "attachments": {}
        },
        {
            "cell_type": "markdown",
            "source": [
                "**Creation of Series:**\n",
                ""
            ],
            "metadata": {
                "azdata_cell_guid": "c1f4d035-2bd5-49d7-b43a-961f60ecfa7f"
            },
            "attachments": {}
        },
        {
            "cell_type": "markdown",
            "source": [
                "1. **From a List/ Tuple/ Dict and NumPy Array:**\n",
                "    - You can create a Series from a **Python list/tuple/dict and** **Numpy Array** using the `pd.Series()` **constructor**:"
            ],
            "metadata": {
                "azdata_cell_guid": "9a2dc50f-b337-42db-a4bd-77aa7ce8e404"
            },
            "attachments": {}
        },
        {
            "cell_type": "code",
            "source": [
                "import pandas as pd\n",
                "import numpy as np\n",
                "\n",
                "data_list = [1, 2, 3, 4, 5]\n",
                "\n",
                "series_from_list = pd.Series(data_list)\n",
                "print('series_from_list')\n",
                "print(series_from_list)\n",
                "\n",
                "series_from_array = pd.Series(np.array(data_list))\n",
                "print('series_from_array')\n",
                "print(series_from_array)\n",
                "\n",
                "data_tuple = 1, 2, 3, 4, 5 # Assumed as tuple\n",
                "series_from_tuple = pd.Series(data_tuple)\n",
                "print('series_from_tuple')\n",
                "print(series_from_tuple)\n",
                "print(type(data_tuple))\n",
                "\n",
                "data_dict = {'a': 1, 'b': 2, 'c': 3, 'd': 4, 'e': 5}\n",
                "series_from_dict = pd.Series(data_dict)\n",
                "print(series_from_dict)\n",
                "\n",
                "# NOTE : Here we dont require custom index as the key of the dict does the role of custom index"
            ],
            "metadata": {
                "azdata_cell_guid": "df42585b-f1cb-4438-9aa5-5d71cc87955e",
                "language": "python"
            },
            "outputs": [
                {
                    "output_type": "stream",
                    "name": "stdout",
                    "text": "series_from_list\n0    1\n1    2\n2    3\n3    4\n4    5\ndtype: int64\nseries_from_array\n0    1\n1    2\n2    3\n3    4\n4    5\ndtype: int64\nseries_from_tuple\n0    1\n1    2\n2    3\n3    4\n4    5\ndtype: int64\n<class 'tuple'>\na    1\nb    2\nc    3\nd    4\ne    5\ndtype: int64\n"
                }
            ],
            "execution_count": 1
        },
        {
            "cell_type": "markdown",
            "source": [
                "#### 1. How the elements of list, NumPy array and Pandas series are displayed in the output ?\n",
                "#### 2. And what do u notice in the output ?\n",
                ""
            ],
            "metadata": {
                "language": "python",
                "azdata_cell_guid": "663f53fe-edcd-4413-b79a-002cfe699f93"
            },
            "attachments": {}
        },
        {
            "cell_type": "code",
            "source": [
                "import pandas as pd\n",
                "import numpy as np\n",
                "\n",
                "data_list = [1, 2, 3, 4, 5]\n",
                "print('data_list')\n",
                "print(data_list)\n",
                "array = np.array(data_list) \n",
                "print('array')   \n",
                "print(array)                \n",
                "series_from_list = pd.Series(data_list)\n",
                "print('series_from_list')\n",
                "print(series_from_list)\n",
                ""
            ],
            "metadata": {
                "language": "python",
                "azdata_cell_guid": "6c51591b-c635-4070-9b8c-0aa32532f5bc"
            },
            "outputs": [
                {
                    "output_type": "stream",
                    "name": "stdout",
                    "text": "data_list\n[1, 2, 3, 4, 5]\narray\n[1 2 3 4 5]\nseries_from_list\n0    1\n1    2\n2    3\n3    4\n4    5\ndtype: int64\n"
                }
            ],
            "execution_count": 28
        },
        {
            "cell_type": "markdown",
            "source": [
                "**`Note : `** In the output\n",
                "1. Elements in the list is separated by comma\n",
                "2. Elements in the array are separated by space\n",
                "3. Elements of series are dispayed as column data with by default index starting from 0"
            ],
            "metadata": {
                "language": "python",
                "azdata_cell_guid": "3e0897a2-a532-4696-be01-c80cdd981870"
            },
            "attachments": {}
        },
        {
            "cell_type": "markdown",
            "source": [
                "#### What happens when we multiply a list, NumPy array or Pandas series by a numeric value ?"
            ],
            "metadata": {
                "language": "python",
                "azdata_cell_guid": "d819d42f-6fbe-45b2-9713-088f555b809c"
            },
            "attachments": {}
        },
        {
            "cell_type": "code",
            "source": [
                "import pandas as pd\n",
                "import numpy as np\n",
                "\n",
                "data_list = [1, 2, 3, 4, 5]\n",
                "array = np.array(data_list)               \n",
                "series_from_list = pd.Series(data_list)\n",
                "# Now multiply each data structure with 2\n",
                "new_array = array*2\n",
                "print('new_array : ',new_array)\n",
                "new_list = data_list*2\n",
                "print('new_list :',new_list)\n",
                "new_series=series_from_list*2\n",
                "print('new_series :\\n',new_series)\n",
                ""
            ],
            "metadata": {
                "language": "python",
                "azdata_cell_guid": "877e17bb-57e4-4526-96b5-503e848449ba"
            },
            "outputs": [
                {
                    "output_type": "stream",
                    "name": "stdout",
                    "text": "new_array :  [ 2  4  6  8 10]\nnew_list : [1, 2, 3, 4, 5, 1, 2, 3, 4, 5]\nnew_series :\n 0     2\n1     4\n2     6\n3     8\n4    10\ndtype: int64\n"
                }
            ],
            "execution_count": 34
        },
        {
            "cell_type": "markdown",
            "source": [
                "**`Note :`** \n",
                "1. In case of NumPy array and Pandas Series on multiplying with 2 all elemnts of array gets multiplied by 2\n",
                "2. Whereas in case of list the list get extended "
            ],
            "metadata": {
                "language": "python",
                "azdata_cell_guid": "d3d9a4e7-6215-4967-9507-3db0b8b2a01e"
            },
            "attachments": {}
        },
        {
            "cell_type": "markdown",
            "source": [
                "#### What happens when in a list predominant with numeric values contains a single character and from that list we create NumPy Array and Pandas Series ?\n",
                ""
            ],
            "metadata": {
                "language": "python",
                "azdata_cell_guid": "b48d1e01-1a23-497b-8a25-ab4eab46bb38"
            },
            "attachments": {}
        },
        {
            "cell_type": "code",
            "source": [
                "import pandas as pd\n",
                "import numpy as np\n",
                "\n",
                "data_list = [1, 2, 3, 4, 5, 'h']\n",
                "print(data_list)\n",
                "array = np.array(data_list)\n",
                "print(array)                \n",
                "series_from_list = pd.Series(data_list)\n",
                "print(series_from_list)"
            ],
            "metadata": {
                "language": "python",
                "azdata_cell_guid": "c33745b7-5a65-49b3-87ac-db68366973a2"
            },
            "outputs": [
                {
                    "output_type": "stream",
                    "name": "stdout",
                    "text": "[1, 2, 3, 4, 5, 'h']\n['1' '2' '3' '4' '5' 'h']\n0    1\n1    2\n2    3\n3    4\n4    5\n5    h\ndtype: object\n"
                }
            ],
            "execution_count": 3
        },
        {
            "cell_type": "markdown",
            "source": [
                "**`Note :`**\n",
                "1. Since 'h' is present in the data_list, so while creating NumPy array all the elemets including numeric values are coverted to string, this happens because arrays are homogeneous\n",
                "2. 'h' is not converted to numeric because once array created it will be difficult to find out which element of array was converted from string to numeric. Also note that if we convert numeric to string than in the program we can easily convert it back to numeric using int()\n",
                "3. NumPy array contains homogeneous data whereas list and Series can have heterogeneous data"
            ],
            "metadata": {
                "language": "python",
                "azdata_cell_guid": "f1beb645-7302-444f-ac07-32e62a4ad56a"
            },
            "attachments": {}
        },
        {
            "cell_type": "markdown",
            "source": [
                "2. **Specifying Custom Index:**\n",
                "   - You can specify a custom index for the Series:"
            ],
            "metadata": {
                "language": "python",
                "azdata_cell_guid": "864e2ed6-5a5e-4851-a34a-c1933657c190"
            },
            "attachments": {}
        },
        {
            "cell_type": "code",
            "source": [
                "custom_index = ['a', 'b', 'c', 'd', 'e']\n",
                "series_with_custom_index = pd.Series(data_list, index=custom_index)\n",
                "print(series_with_custom_index)"
            ],
            "metadata": {
                "language": "python",
                "azdata_cell_guid": "efc2803d-2aff-4224-a995-e2264ad33bec"
            },
            "outputs": [
                {
                    "output_type": "stream",
                    "name": "stdout",
                    "text": "a    1\nb    2\nc    3\nd    4\ne    5\ndtype: int64\n"
                }
            ],
            "execution_count": 2
        },
        {
            "cell_type": "markdown",
            "source": [
                "3. **From a Dictionary:**\n",
                "   - You can create a Series from a Python dictionary, where keys become the index and values become the data:"
            ],
            "metadata": {
                "language": "python",
                "azdata_cell_guid": "dd41b5c8-2274-4926-9ba5-ff7e3f8535dd"
            },
            "attachments": {}
        },
        {
            "cell_type": "code",
            "source": [
                "data_dict = {'a': 1, 'b': 2, 'c': 3, 'd': 4, 'e': 5}\n",
                "series_from_dict = pd.Series(data_dict)\n",
                "print(series_from_dict)\n",
                "\n",
                "# NOTE : Here we dont require custom index as the key of the dict does the role of custom index"
            ],
            "metadata": {
                "language": "python",
                "azdata_cell_guid": "094fc32b-f32e-4e6d-a443-60c8848a458c"
            },
            "outputs": [
                {
                    "output_type": "stream",
                    "name": "stdout",
                    "text": "a    1\nb    2\nc    3\nd    4\ne    5\ndtype: int64\n"
                }
            ],
            "execution_count": 4
        },
        {
            "cell_type": "markdown",
            "source": [
                "**Basic Operations on Series:**"
            ],
            "metadata": {
                "language": "python",
                "azdata_cell_guid": "77ad4bab-c030-4285-b32e-18585de457be"
            },
            "attachments": {}
        },
        {
            "cell_type": "markdown",
            "source": [
                "1. **Indexing:**\n",
                "   - Accessing elements of a Series can be done using the index:"
            ],
            "metadata": {
                "language": "python",
                "azdata_cell_guid": "b48e1cf2-7679-47a2-b0ff-430ad7dadbfc"
            },
            "attachments": {}
        },
        {
            "cell_type": "code",
            "source": [
                "custom_index = ['a', 'b', 'c', 'd', 'e']\n",
                "series_with_custom_index = pd.Series(data_list, index=custom_index)\n",
                "value_at_b = series_with_custom_index['b']\n",
                "print(value_at_b)\n",
                "\n",
                "# Same can be done using the by default index values which are assigned i.e [0,1,2...]\n",
                "print(series_with_custom_index[1])"
            ],
            "metadata": {
                "language": "python",
                "azdata_cell_guid": "340e8688-200c-4ccf-b6c9-5fe46d3c0c0a"
            },
            "outputs": [
                {
                    "output_type": "stream",
                    "name": "stdout",
                    "text": "2\n2\n"
                }
            ],
            "execution_count": 6
        },
        {
            "cell_type": "markdown",
            "source": [
                "2. **Slicing:**\n",
                "   - Slicing allows selecting a subset of a Series based on the index:"
            ],
            "metadata": {
                "language": "python",
                "azdata_cell_guid": "b422c4bb-d448-4048-b1a7-b581018ea949"
            },
            "attachments": {}
        },
        {
            "cell_type": "code",
            "source": [
                "import pandas as pd\n",
                "\n",
                "# Define custom index and create a Series\n",
                "custom_index = ['a', 'b', 'c', 'd', 'e']\n",
                "data_list = [1, 2, 3, 4, 5]\n",
                "series_with_custom_index = pd.Series(data_list, index=custom_index)\n",
                "\n",
                "# Slicing with custom index labels\n",
                "subset = series_with_custom_index['a':'c']\n",
                "print(\"Subset using custom index labels:\")\n",
                "print(subset)\n",
                "\n",
                "# Slicing with default integer index\n",
                "print(\"\\nSubset using default integer index:\")\n",
                "print(series_with_custom_index[0:3])"
            ],
            "metadata": {
                "language": "python",
                "azdata_cell_guid": "07c003ce-92fb-4fce-bcc7-99aaccd475e6"
            },
            "outputs": [
                {
                    "output_type": "stream",
                    "name": "stdout",
                    "text": "Subset using custom index labels:\na    1\nb    2\nc    3\ndtype: int64\n\nSubset using default integer index:\na    1\nb    2\nc    3\ndtype: int64\n"
                }
            ],
            "execution_count": 35
        },
        {
            "cell_type": "markdown",
            "source": [
                "#### `Note :`\n",
                "\n",
                "- **Inclusive Slicing**: When you slice a Pandas Series using **<mark>custom index labels</mark>** (`['a':'c']`), the **<mark>slicing is inclusive of both the start and end label</mark>s**.\n",
                "  \n",
                "- **Default Integer Index**: If your Series has a **<mark>default integer inde</mark>x** (`[0, 1, 2, ...]`), you can also slice using these integers (`[0:3]`), and **<mark>the slicing is exclusive of the end index</mark>** (end index is not included).\n",
                ""
            ],
            "metadata": {
                "language": "python",
                "azdata_cell_guid": "6b528441-edb8-4e7f-97e2-72cdc9c873f9"
            },
            "attachments": {}
        },
        {
            "cell_type": "markdown",
            "source": [
                "3. **Mathematical Operations:**\n",
                "   - Series supports element-wise mathematical operations:"
            ],
            "metadata": {
                "language": "python",
                "azdata_cell_guid": "c5236e41-1d99-46d7-8aed-97aef2c7f96c"
            },
            "attachments": {}
        },
        {
            "cell_type": "code",
            "source": [
                "multiplied_series = series_from_list * 2\n",
                "\n",
                "print(multiplied_series)\n",
                "\n",
                "# Note : Here 2 is multiplied to all the elements of the series same as in case of NumPy arrays"
            ],
            "metadata": {
                "language": "python",
                "azdata_cell_guid": "b0c4ad91-991b-4cd6-8b89-10fa748fa181"
            },
            "outputs": [
                {
                    "output_type": "stream",
                    "name": "stdout",
                    "text": "0     2\n1     4\n2     6\n3     8\n4    10\ndtype: int64\n"
                }
            ],
            "execution_count": 9
        },
        {
            "cell_type": "markdown",
            "source": [
                "4. **Conditional Indexing:**\n",
                "   - You can use boolean indexing to filter elements based on a condition:"
            ],
            "metadata": {
                "language": "python",
                "azdata_cell_guid": "d091bbf9-dc16-4b39-9236-0fd623d349e5"
            },
            "attachments": {}
        },
        {
            "cell_type": "code",
            "source": [
                "import pandas as pd\n",
                "\n",
                "# Example Pandas Series\n",
                "data = pd.Series([10, 20, 30, 40, 50])\n",
                "\n",
                "# Boolean indexing to filter data\n",
                "filtered_data = data[data > 30] # Doubt why are we not specifying column name in boolean indexing data[data['columname'] > 30] ?\n",
                "\n",
                "print(filtered_data)"
            ],
            "metadata": {
                "language": "python",
                "azdata_cell_guid": "5a3ad96c-7ea2-49a9-8fda-8029f3e9a7b0",
                "tags": []
            },
            "outputs": [
                {
                    "output_type": "stream",
                    "name": "stdout",
                    "text": "3    40\n4    50\ndtype: int64\n"
                }
            ],
            "execution_count": 36
        },
        {
            "cell_type": "markdown",
            "source": [
                "#### Explain how is it possible in the above code to filter the data by specifying expression in [] of the Pandas Series ? Is the same possible to do with list as well as NumPy array to give expression ? Please explain it in detail with examples\n",
                ""
            ],
            "metadata": {
                "language": "python",
                "azdata_cell_guid": "e4bc605a-d918-49a6-9594-ef8f5038b679"
            },
            "attachments": {}
        },
        {
            "cell_type": "markdown",
            "source": [
                "In Pandas, filtering data using square brackets (`[]`) on a Series allows you to specify a boolean expression to select rows that satisfy the condition specified in the brackets. This approach is commonly used and is known as **`boolean indexing`**.\n",
                "\n",
                "#### Explanation:\n",
                "1. **Boolean Indexing**:\n",
                "   - `data > 30` creates a **<mark>boolean mask</mark>** where each element in the Series is checked against the condition (`> 30`). It returns a Series of boolean values (`True` for elements > 30 and `False` otherwise).\n",
                "\n",
                "2. **Applying the Boolean Mask**:\n",
                "   - We use `data[data > 30]` to filter `data` based on the boolean mask. This expression returns a new Series (`filtered_data`) containing only the elements of `data` where the condition `data > 30` is `True`.\n",
                "\n",
                "**`Note :`**\n",
                "- This filtering technique is efficient because Pandas performs vectorized operations, meaning it applies the condition to all elements simultaneously.\n",
                "\n",
                "### Filtering with Python List:\n",
                "Filtering with boolean expressions directly in square brackets (`[]`) is not directly supported for Python lists. However, you can achieve similar functionality using list comprehension or external libraries like NumPy.\n",
                "\n",
                "#### Example with Python List:\n",
                "```python\n",
                "# Example Python List\n",
                "my_list = [10, 20, 30, 40, 50]\n",
                "\n",
                "# Using list comprehension to filter data\n",
                "filtered_list = [x for x in my_list if x > 30]\n",
                "\n",
                "print(filtered_list)\n",
                "```\n",
                "\n",
                "Output:\n",
                "```\n",
                "[40, 50]\n",
                "```\n",
                "\n",
                "### Filtering with NumPy Array:\n",
                "NumPy arrays support boolean indexing similarly to Pandas Series, where you can use boolean expressions to filter elements.\n",
                "\n",
                "#### Example with NumPy Array:\n",
                "```python\n",
                "import numpy as np\n",
                "\n",
                "# Example NumPy Array\n",
                "my_array = np.array([10, 20, 30, 40, 50])\n",
                "\n",
                "# Boolean indexing to filter data\n",
                "filtered_array = my_array[my_array > 30]\n",
                "\n",
                "print(filtered_array)\n",
                "```\n",
                "\n",
                "Output:\n",
                "```\n",
                "[40 50]\n",
                "```\n",
                "\n",
                "#### Explanation:\n",
                "- Here, `my_array > 30` creates a boolean mask for the NumPy array `my_array`. Then, `my_array[my_array > 30]` applies this mask to `my_array`, resulting in `filtered_array` containing elements greater than 30."
            ],
            "metadata": {
                "language": "python",
                "azdata_cell_guid": "1fce132f-ec13-4708-9696-be67dfea8797"
            },
            "attachments": {}
        },
        {
            "cell_type": "code",
            "source": [
                "import numpy as np\n",
                "\n",
                "# Example with NumPy array\n",
                "data_array = np.array([1, 2, 3, 4, 5])\n",
                "\n",
                "# Filtering the array to find values greater than 3\n",
                "greater_than_three_array = data_array[data_array > 3]\n",
                "\n",
                "print(greater_than_three_array)\n",
                ""
            ],
            "metadata": {
                "language": "python",
                "azdata_cell_guid": "35b13710-485d-4e02-a427-3df9d410dabe",
                "tags": []
            },
            "outputs": [
                {
                    "output_type": "stream",
                    "name": "stdout",
                    "text": "[4 5]\n"
                }
            ],
            "execution_count": 11
        },
        {
            "cell_type": "markdown",
            "source": [
                "### **`Operations on Pandas Series`**\n",
                "\n",
                "Pandas Series are versatile for data manipulation, supporting various arithmetic and mathematical operations. These operations work element-wise, meaning they are applied to each element in the Series independently."
            ],
            "metadata": {
                "azdata_cell_guid": "b5801ba5-b7bd-4576-a983-1f796000fbcb"
            },
            "attachments": {}
        },
        {
            "cell_type": "markdown",
            "source": [
                "**1. Arithmetic Operations**"
            ],
            "metadata": {
                "azdata_cell_guid": "4462806a-fd97-4e03-adf0-37e84cd3c25e"
            },
            "attachments": {}
        },
        {
            "cell_type": "code",
            "source": [
                "import pandas as pd\n",
                "\n",
                "data1 = [1, 2, 3]\n",
                "data2 = [4, 5, 6]\n",
                "\n",
                "series1 = pd.Series(data1, index=['a', 'b', 'c'])\n",
                "series2 = pd.Series(data2, index=['a', 'b', 'c'])\n",
                "\n",
                "# Addition\n",
                "series_sum = series1 + series2\n",
                "print('series_sum :\\n',series_sum)\n",
                "\n",
                "# Subtraction\n",
                "series_diff = series1 - series2\n",
                "print('\\nseries_diff : \\n',series_diff)\n",
                "\n",
                "# Multiplication\n",
                "series_product = series1 * series2\n",
                "print('\\nseries_product : \\n',series_product)\n",
                "\n",
                "# Division\n",
                "series_ratio = series1 / series2\n",
                "print('\\nseries_ratio : \\n',series_ratio)\n",
                "\n",
                "# Scalar Operation\n",
                "scalar_value = 2\n",
                "series_scaled = series1 * scalar_value\n",
                "print('\\nseries_scaled : \\n',series_scaled)"
            ],
            "metadata": {
                "language": "python",
                "azdata_cell_guid": "d290c3cd-92b9-4f5a-bb7e-ef6d71f467e3"
            },
            "outputs": [
                {
                    "output_type": "stream",
                    "name": "stdout",
                    "text": "series_sum :\n a    5\nb    7\nc    9\ndtype: int64\n\nseries_diff : \n a   -3\nb   -3\nc   -3\ndtype: int64\n\nseries_product : \n a     4\nb    10\nc    18\ndtype: int64\n\nseries_ratio : \n a    0.25\nb    0.40\nc    0.50\ndtype: float64\n\nseries_scaled : \n a    2\nb    4\nc    6\ndtype: int64\n"
                }
            ],
            "execution_count": 40
        },
        {
            "cell_type": "markdown",
            "source": [
                "<span style=\"color: #000080;font-weight: bold;\">**2. Mathematical Operations**</span>"
            ],
            "metadata": {
                "azdata_cell_guid": "46073582-914d-4e15-98a3-55f3e576de3f"
            },
            "attachments": {}
        },
        {
            "cell_type": "code",
            "source": [
                "import pandas as pd\n",
                "import numpy as np\n",
                "\n",
                "data1 = [1, 2, 3]\n",
                "data2 = [4, 5, 6]\n",
                "\n",
                "series1 = pd.Series(data1, index=['a', 'b', 'c'])\n",
                "series2 = pd.Series(data2, index=['a', 'b', 'c'])\n",
                "\n",
                "# Square Root (using NumPy)\n",
                "series_sqrt = np.sqrt(series1)\n",
                "print(' series_sqrt :\\n',series_sqrt)\n",
                "\n",
                "# Exponential (using NumPy)\n",
                "series_exp = np.exp(series1)\n",
                "print('\\n series_exp : \\n',series_exp)\n",
                "\n",
                "# Logarithm (using NumPy) : Calculates the natural log of each element\n",
                "series_log = np.log(series1)  # Make sure elements are positive for log\n",
                "print('\\n series_log : \\n',series_log)\n",
                "\n",
                "# Trigonometric Functions (using NumPy)\n",
                "series_sin = np.sin(series1)\n",
                "print('\\n series_sin : \\n',series_sin)\n",
                ""
            ],
            "metadata": {
                "azdata_cell_guid": "5e7bd300-dfbb-4dd5-b419-30c7c1563ca4",
                "language": "python"
            },
            "outputs": [
                {
                    "output_type": "stream",
                    "name": "stdout",
                    "text": " series_sqrt :\n a    1.000000\nb    1.414214\nc    1.732051\ndtype: float64\n\n series_exp : \n a     2.718282\nb     7.389056\nc    20.085537\ndtype: float64\n\n series_log : \n a    0.000000\nb    0.693147\nc    1.098612\ndtype: float64\n\n series_sin : \n a    0.841471\nb    0.909297\nc    0.141120\ndtype: float64\n"
                }
            ],
            "execution_count": 41
        },
        {
            "cell_type": "markdown",
            "source": [
                "**Conclusion:**\n",
                "Pandas Series provides a versatile and efficient way to work with one-dimensional labeled data. Its ability to handle different data types, custom indexing, and support for various operations make it a fundamental building block for more complex data manipulations in Pandas."
            ],
            "metadata": {
                "azdata_cell_guid": "96fb7b25-d6bd-486f-b79c-debeed98a276"
            },
            "attachments": {}
        },
        {
            "cell_type": "markdown",
            "source": [
                "\n",
                "#### `Pandas DataFrame`\n",
                "\n",
                "**Introduction:**\n",
                "1. A Pandas DataFrame is a <mark>`two-dimensional`</mark>, <mark>`tabular data structure with labeled axes (rows and columns)`</mark>. \n",
                "2. It is a powerful and versatile tool for handling structured data in Python. \n",
                "3. The DataFrame is one of the core components of Pandas and is widely used in data analysis and manipulation tasks.\n",
                "\n",
                "**Significance in Data Analysis:**\n",
                "\n",
                "1. **Tabular Structure:**\n",
                "   - DataFrames provide a tabular structure, similar to a spreadsheet, making them well-suited for representing and analyzing structured data.\n",
                "\n",
                "2. **Labeled Axes:**\n",
                "   - <mark>`Both rows and columns in a DataFrame have labeled indices`</mark>, allowing for easy and intuitive access to data. This makes data manipulation more straightforward and expressive.\n",
                "\n",
                "3. **Support for Heterogeneous Data Types:**\n",
                "   - <mark>`DataFrames can accommodate columns with different data types, including numerical, categorical, and textual data`</mark>. This flexibility is crucial for handling diverse datasets.\n",
                "\n",
                "4. **Data Alignment:**\n",
                "   - <mark>`Operations between DataFrames automatically align data based on their indices and columns`</mark>, simplifying complex data manipulations.\n",
                "\n",
                "   **`Note`** : Explained in detail with example at the end of the notebook\n",
                ""
            ],
            "metadata": {
                "azdata_cell_guid": "d8a41bff-426a-479f-b955-5635d364c403"
            },
            "attachments": {}
        },
        {
            "cell_type": "markdown",
            "source": [
                "**Creating DataFrames:**"
            ],
            "metadata": {
                "azdata_cell_guid": "1c06ee26-44b3-4f92-9179-622929e18ccf"
            },
            "attachments": {}
        },
        {
            "cell_type": "markdown",
            "source": [
                "1. **From a Dictionary:**\n",
                "   - You can create a DataFrame from a dictionary where keys become column names and values become the data:"
            ],
            "metadata": {
                "azdata_cell_guid": "2354b3b0-f1f5-40d2-bf1d-0b218a0f6e8e"
            },
            "attachments": {}
        },
        {
            "cell_type": "code",
            "source": [
                "import pandas as pd\n",
                "\n",
                "data = {'Name': ['Laxman', 'Rajesh', 'Ramulu'],\n",
                "        'Age': [25, 30, 35],\n",
                "        'City': ['New York', 'San Francisco', 'Los Angeles']}\n",
                "\n",
                "df = pd.DataFrame(data)\n",
                "print(df)"
            ],
            "metadata": {
                "azdata_cell_guid": "33c97171-3c7c-4a77-9e0a-6b3459472b9b",
                "language": "python"
            },
            "outputs": [
                {
                    "output_type": "stream",
                    "name": "stdout",
                    "text": "     Name  Age           City\n0  Laxman   25       New York\n1  Rajesh   30  San Francisco\n2  Ramulu   35    Los Angeles\n"
                }
            ],
            "execution_count": 3
        },
        {
            "cell_type": "markdown",
            "source": [
                "2. **Specifying Index:**\n",
                "   - You can specify a custom index for the DataFrame:"
            ],
            "metadata": {
                "language": "python",
                "azdata_cell_guid": "6002a556-39d7-4c05-930f-2d5b36197e4f"
            },
            "attachments": {}
        },
        {
            "cell_type": "code",
            "source": [
                "custom_index = ['person1', 'person2', 'person3']\n",
                "df_with_custom_index = pd.DataFrame(data, index=custom_index)\n",
                "\n",
                "print(df_with_custom_index)"
            ],
            "metadata": {
                "language": "python",
                "azdata_cell_guid": "a2f75768-0c61-4be9-a96f-167bbf64c837"
            },
            "outputs": [
                {
                    "output_type": "stream",
                    "name": "stdout",
                    "text": "           Name  Age           City\nperson1  Naresh   25       New York\nperson2   Padma   30  San Francisco\nperson3  Laxman   35    Los Angeles\n"
                }
            ],
            "execution_count": 16
        },
        {
            "cell_type": "markdown",
            "source": [
                "**Loading Data into DataFrames:**"
            ],
            "metadata": {
                "language": "python",
                "azdata_cell_guid": "5aaeb37e-90ed-4753-a7aa-c3c9901c19cf"
            },
            "attachments": {}
        },
        {
            "cell_type": "markdown",
            "source": [
                "1. **From CSV File:**\n",
                "   - Pandas can read data from various file formats. To read from a CSV file:"
            ],
            "metadata": {
                "language": "python",
                "azdata_cell_guid": "845d5552-9409-445c-bf6f-ecdc0bd0efcf"
            },
            "attachments": {}
        },
        {
            "cell_type": "code",
            "source": [
                "df_from_csv = pd.read_csv('data.csv')\n",
                "print(df_from_csv)"
            ],
            "metadata": {
                "language": "python",
                "azdata_cell_guid": "80556e1d-67a7-4c35-af6c-53e4cc97249f",
                "tags": []
            },
            "outputs": [
                {
                    "output_type": "stream",
                    "name": "stdout",
                    "text": "     Name  Age          City\n0  Naresh   25       Chennai\n1   Padma   30          Pune\n2  Laxman   22      Srinagar\n3  Rajesh   31          Pune\n4    Bala   51          Pune\n5   Ganga   32  Mahabubnagar\n6  Kishan   31        Ongole\n"
                }
            ],
            "execution_count": 27
        },
        {
            "cell_type": "markdown",
            "source": [
                "2. **From Excel File:**\n",
                "   - Reading data from an Excel file:"
            ],
            "metadata": {
                "language": "python",
                "azdata_cell_guid": "e4b53ca3-b9d8-4547-83c3-8f460345cf40"
            },
            "attachments": {}
        },
        {
            "cell_type": "code",
            "source": [
                "df_from_excel = pd.read_excel('data.xlsx', sheet_name='Sheet1')\n",
                "\n",
                "print(df_from_excel)"
            ],
            "metadata": {
                "language": "python",
                "azdata_cell_guid": "de3b93bb-ffb2-4f9d-87e8-450992655282"
            },
            "outputs": [
                {
                    "output_type": "stream",
                    "name": "stdout",
                    "text": "       Name  Age\n0  Harshita    8\n1     Naina    1\n2       Sai    5\n3   Aanchal    3\n"
                }
            ],
            "execution_count": 18
        },
        {
            "cell_type": "markdown",
            "source": [
                "**Essential DataFrame Operations:**"
            ],
            "metadata": {
                "language": "python",
                "azdata_cell_guid": "1d6892bb-ec5d-4638-8695-d8c270d6d431"
            },
            "attachments": {}
        },
        {
            "cell_type": "markdown",
            "source": [
                "1. **Filtering Data:**\n",
                "   - Filtering rows based on a condition:"
            ],
            "metadata": {
                "language": "python",
                "azdata_cell_guid": "0414e67f-2f37-40b6-bb76-2c5f54e5ae03"
            },
            "attachments": {}
        },
        {
            "cell_type": "code",
            "source": [
                "filtered_data = df[df['Age'] > 30]\n",
                "\n",
                "print(filtered_data)"
            ],
            "metadata": {
                "language": "python",
                "azdata_cell_guid": "ea4252bc-0bc7-4507-b941-715075426fe4"
            },
            "outputs": [
                {
                    "output_type": "stream",
                    "name": "stdout",
                    "text": "     Name  Age         City\n2  Laxman   35  Los Angeles\n"
                }
            ],
            "execution_count": 29
        },
        {
            "cell_type": "markdown",
            "source": [
                "2. **Grouping Data:**\n",
                "   - Grouping data based on a column and performing aggregate operations:"
            ],
            "metadata": {
                "language": "python",
                "azdata_cell_guid": "c5476329-0120-4d41-942c-34e22463f79c"
            },
            "attachments": {}
        },
        {
            "cell_type": "code",
            "source": [
                "grouped_data = df.groupby('City')['Age'].mean()\n",
                "print(grouped_data)"
            ],
            "metadata": {
                "language": "python",
                "azdata_cell_guid": "99eca171-3f56-407b-97b7-a38dbdd50aa8"
            },
            "outputs": [
                {
                    "output_type": "stream",
                    "name": "stdout",
                    "text": "City\nLos Angeles      35.0\nNew York         25.0\nSan Francisco    30.0\nName: Age, dtype: float64\n"
                }
            ],
            "execution_count": 30
        },
        {
            "cell_type": "markdown",
            "source": [
                "3. **Merging DataFrames:**\n",
                "   - Combining two DataFrames based on a common column:"
            ],
            "metadata": {
                "language": "python",
                "azdata_cell_guid": "a02439f0-97bd-4520-81f5-d3ff1965dba3"
            },
            "attachments": {}
        },
        {
            "cell_type": "code",
            "source": [
                "df1 = pd.DataFrame({'ID': [1, 2, 3], 'Name': ['Laxman', 'Harshita', 'Naina']})\n",
                "df2 = pd.DataFrame({'ID': [2, 3, 4], 'Age': [30, 35, 40]})\n",
                "merged_df = pd.merge(df1, df2, on='ID')\n",
                "\n",
                "print(merged_df)\n",
                ""
            ],
            "metadata": {
                "language": "python",
                "azdata_cell_guid": "e5bc4878-70a9-43d1-b094-92c0444e3795",
                "tags": []
            },
            "outputs": [
                {
                    "output_type": "stream",
                    "name": "stdout",
                    "text": "   ID      Name  Age\n0   2  Harshita   30\n1   3     Naina   35\n"
                }
            ],
            "execution_count": 18
        },
        {
            "cell_type": "markdown",
            "source": [
                "**Conclusion:**\n",
                "Pandas DataFrames provide a structured and efficient way to handle and analyze tabular data. Their versatility in creating, loading, and manipulating data makes them a fundamental tool in the data scientist's toolbox."
            ],
            "metadata": {
                "language": "python",
                "azdata_cell_guid": "844af642-ef55-4469-934b-c87d7f968be4"
            },
            "attachments": {}
        },
        {
            "cell_type": "markdown",
            "source": [
                "#### Code to create CSV file with sample data"
            ],
            "metadata": {
                "language": "python",
                "azdata_cell_guid": "781a2ed5-89f0-4b2e-9bb6-8fc1786520c2"
            },
            "attachments": {}
        },
        {
            "cell_type": "code",
            "source": [
                "import pandas as pd\n",
                "\n",
                "# Sample data\n",
                "data = {\n",
                "    'Name': ['Laxman', 'Rajesh', 'Ram'],\n",
                "    'Age': [25, 30, 22],\n",
                "    'City': ['Pune', 'Hyderabad', 'Mahabubnagar']\n",
                "}\n",
                "\n",
                "# Create a DataFrame\n",
                "df = pd.DataFrame(data)\n",
                "\n",
                "# Save the DataFrame to a CSV file\n",
                "df.to_csv('data.csv', index=False)\n",
                "\n",
                "# Read the CSV file back into a DataFrame\n",
                "df_from_csv = pd.read_csv('data.csv')\n",
                "\n",
                "# Print the DataFrame\n",
                "print(df_from_csv)\n",
                ""
            ],
            "metadata": {
                "language": "python",
                "azdata_cell_guid": "70aec635-6d98-424e-ad43-155a2891fde4"
            },
            "outputs": [
                {
                    "output_type": "stream",
                    "name": "stdout",
                    "text": "     Name  Age          City\n0  Laxman   25          Pune\n1  Rajesh   30     Hyderabad\n2     Ram   22  Mahabubnagar\n"
                }
            ],
            "execution_count": 1
        },
        {
            "cell_type": "markdown",
            "source": [
                "### **`What does the below statement about Dataframes in Pandas means ?`**\n",
                "- #### `Operations between DataFrames automatically align data based on their indices and columns, simplifying complex data manipulations.`\n",
                "\n",
                "The statement about DataFrames in Pandas means that when you perform operations (like arithmetic operations, comparisons, or merging) between two Pandas DataFrames, Pandas will align the data based on their indices and column names. This alignment ensures that corresponding elements are matched correctly, which simplifies complex data manipulations and avoids common errors such as mismatched indices or missing data.\n",
                "\n",
                "### Explanation with Examples:\n",
                "\n",
                "Let's illustrate this with some examples:\n",
                "\n",
                "#### Example 1: Arithmetic Operations\n",
                "\n",
                "```python\n",
                "import pandas as pd\n",
                "\n",
                "# Creating two DataFrames\n",
                "df1 = pd.DataFrame({'A': [1, 2, 3], 'B': [4, 5, 6]})\n",
                "df2 = pd.DataFrame({'A': [10, 20, 30], 'B': [40, 50, 60]})\n",
                "\n",
                "# Adding the two DataFrames\n",
                "df_sum = df1 + df2\n",
                "\n",
                "print(df_sum)\n",
                "```\n",
                "\n",
                "Output:\n",
                "```\n",
                "    A   B\n",
                "0  11  44\n",
                "1  22  55\n",
                "2  33  66\n",
                "```\n",
                "\n",
                "- In this example, `df1` and `df2` have the same indices and column names. When we add them (`df1 + df2`), Pandas aligns the corresponding elements based on their indices and columns (`A` and `B`). This alignment ensures that the addition operation is performed element-wise correctly.\n",
                "\n",
                "#### Example 2: Data Alignment\n",
                "\n",
                "```python\n",
                "import pandas as pd\n",
                "\n",
                "# Creating two DataFrames with different indices\n",
                "df1 = pd.DataFrame({'A': [1, 2, 3], 'B': [4, 5, 6]}, index=['X', 'Y', 'Z'])\n",
                "df2 = pd.DataFrame({'A': [10, 20], 'B': [40, 50]}, index=['Y', 'Z'])\n",
                "\n",
                "# Adding the two DataFrames\n",
                "df_sum = df1 + df2\n",
                "\n",
                "print(df_sum)\n",
                "```\n",
                "\n",
                "Output:\n",
                "```\n",
                "      A     B\n",
                "X   NaN   NaN\n",
                "Y  12.0  45.0\n",
                "Z  23.0  56.0\n",
                "```\n",
                "\n",
                "- In this example, `df1` and `df2` have different indices (`df1` has ['X', 'Y', 'Z'] and `df2` has ['Y', 'Z']). When adding them (`df1 + df2`), Pandas aligns the data based on indices. Elements that do not have matching indices (like 'X' in `df1` and the second row in `df2`) result in NaN (Not a Number) values in the resulting DataFrame (`df_sum`). This alignment ensures that operations are performed correctly even when indices do not completely overlap.\n",
                "\n",
                "#### Example 3: Data Alignment with Missing Columns\n",
                "\n",
                "```python\n",
                "import pandas as pd\n",
                "\n",
                "# Creating two DataFrames with different columns\n",
                "df1 = pd.DataFrame({'A': [1, 2, 3], 'B': [4, 5, 6]})\n",
                "df2 = pd.DataFrame({'A': [10, 20, 30], 'C': [40, 50, 60]})\n",
                "\n",
                "# Adding the two DataFrames\n",
                "df_sum = df1 + df2\n",
                "\n",
                "print(df_sum)\n",
                "```\n",
                "\n",
                "Output:\n",
                "```\n",
                "    A   B   C\n",
                "0  11 NaN NaN\n",
                "1  22 NaN NaN\n",
                "2  33 NaN NaN\n",
                "```\n",
                "\n",
                "- In this example, `df1` and `df2` have different columns (`df1` has columns 'A' and 'B', and `df2` has columns 'A' and 'C'). When adding them (`df1 + df2`), Pandas aligns the data based on both indices and columns. Columns that exist in one DataFrame but not in the other (like column 'B' in `df1` and column 'C' in `df2`) result in NaN values in the resulting DataFrame (`df_sum`). This alignment ensures that operations are performed correctly and consistently across DataFrames with potentially different structures.\n",
                "\n",
                "### Conclusion:\n",
                "\n",
                "The automatic alignment of data based on indices and column names in Pandas DataFrames simplifies complex data manipulations by ensuring that operations are performed correctly and efficiently. This behavior is one of the key advantages of using Pandas for data analysis and manipulation tasks, as it helps avoid manual alignment and potential errors in data handling."
            ],
            "metadata": {
                "azdata_cell_guid": "2bc1ba87-8ab2-413d-80fc-d0552329eb1f"
            },
            "attachments": {}
        },
        {
            "cell_type": "markdown",
            "source": [
                "### **Doubts :**\n",
                "\n",
                "1. grouped_data = df.groupby('City')['Age'].mean()\n",
                "2. What is the difference between df1.merge(df2) and df1 + df2 \n",
                "\n",
                ""
            ],
            "metadata": {
                "azdata_cell_guid": "a9794727-22bc-4df4-811b-f9110c18c5e5"
            },
            "attachments": {}
        },
        {
            "cell_type": "markdown",
            "source": [
                "#### Explain the statement `grouped_data = df.groupby('City')['Age'].mean()` in detail in below code"
            ],
            "metadata": {
                "azdata_cell_guid": "3c0013f7-8556-4cda-b4b5-3b91c940d439"
            },
            "attachments": {}
        },
        {
            "cell_type": "code",
            "source": [
                "import pandas as pd\n",
                "data = {\n",
                "    'City': ['New York', 'Los Angeles', 'Chicago', 'New York', 'Chicago'],\n",
                "    'Age': [25, 30, 28, 35, 32]\n",
                "}\n",
                "\n",
                "df = pd.DataFrame(data)\n",
                "\n",
                "grouped_data = df.groupby('City')\n",
                "\n",
                "print(df)\n",
                "print(grouped_data)\n",
                "\n",
                "# Applying groupby and mean\n",
                "grouped_data = df.groupby('City')['Age'].mean()\n",
                "print(grouped_data)"
            ],
            "metadata": {
                "azdata_cell_guid": "fa719599-9f3e-44fe-8a81-94ef9cde9ef9",
                "language": "python",
                "tags": []
            },
            "outputs": [
                {
                    "output_type": "stream",
                    "name": "stdout",
                    "text": "          City  Age\n0     New York   25\n1  Los Angeles   30\n2      Chicago   28\n3     New York   35\n4      Chicago   32\n<pandas.core.groupby.generic.DataFrameGroupBy object at 0x11e1f4520>\nCity\nChicago        30.0\nLos Angeles    30.0\nNew York       30.0\nName: Age, dtype: float64\n"
                }
            ],
            "execution_count": 16
        },
        {
            "cell_type": "markdown",
            "source": [
                "#### Explanation\n",
                "- <mark>df.groupby('City')</mark> : <mark>returns an object only</mark> and the output is <pandas.core.groupby.generic.DataFrameGroupBy object at 0x11e1c6f50>\n",
                "- [] : is used to select the columns from the data frame and not ()\n",
                "- <mark>df.groupby('City')['Age'] </mark>: <mark>Selects Age column within each group</mark> from the groupby object. U can select mutiple column also\n",
                "- <mark>df.groupby('City')['Age'].mean() </mark>: Applys mean on selected column i.e Age\n",
                "- If a single column is returned than its in Pandas Series format and if more than one column than it returns Pandas Data Frame format (doubt)\n",
                "- In Pandas, you often **chain methods** together <mark>to perform operations sequentially on DataFrames or Series</mark>. `The dot operator (.) is used to chain these methods and attributes.`\n",
                "- `The dot operator (.) is used to chain these operations together sequentially`. It signifies that .mean() is applied to the result of df.groupby('City')['Age'], which is a Pandas Series containing 'Age' values within each group.\n",
                "- This syntax correctly chains operations:\n",
                "    - df.groupby('City'): Groups the DataFrame df by 'City'.\n",
                "    - ['Age']: Selects the 'Age' column within each group.\n",
                "    - .mean(): Calculates the mean of the 'Age' column within each group.\n",
                ""
            ],
            "metadata": {
                "language": "python",
                "azdata_cell_guid": "9fa317db-c9cb-468c-b52b-27d520bd132f"
            },
            "attachments": {}
        },
        {
            "cell_type": "markdown",
            "source": [
                "#### Explain what is the difference between 'merged_df = pd.merge(df1, df2, on='ID')' and 'df1 + df2' in the below code."
            ],
            "metadata": {
                "language": "python",
                "azdata_cell_guid": "43222e77-9566-4d33-bb0f-76f0f1b18141"
            },
            "attachments": {}
        },
        {
            "cell_type": "code",
            "source": [
                "df1 = pd.DataFrame({'ID': [1, 2, 3], 'Name': ['Laxman', 'Harshita', 'Naina']})\n",
                "df2 = pd.DataFrame({'ID': [2, 3, 4], 'Age': [30, 35, 40]})\n",
                "merged_df = pd.merge(df1, df2, on='ID')\n",
                "\n",
                "print(merged_df)\n",
                "print('------------------')\n",
                "print (df1 + df2)"
            ],
            "metadata": {
                "language": "python",
                "azdata_cell_guid": "43a7b22d-62cc-4c30-99f3-7b0d763da8e5"
            },
            "outputs": [
                {
                    "output_type": "stream",
                    "name": "stdout",
                    "text": "   ID      Name  Age\n0   2  Harshita   30\n1   3     Naina   35\n------------------\n   Age  ID  Name\n0  NaN   3   NaN\n1  NaN   5   NaN\n2  NaN   7   NaN\n"
                }
            ],
            "execution_count": 21
        },
        {
            "cell_type": "markdown",
            "source": [
                "**Key Differences:**\n",
                "\n",
                "`Operation Type`:\n",
                "<mark>pd.merge(df1, df2, on='ID')</mark>: Performs a database-style join operation, <mark>merging rows based on a common column ('ID')</mark>.\n",
                "<mark>df1 + df2</mark>: <mark>Attempts to perform element-wise addition</mark>, which is not valid for Pandas DataFrames <mark>unless columns match perfectly</mark>.\n",
                "\n",
                "`Resulting DataFrame:`\n",
                "pd.merge(df1, df2, on='ID') results in a new DataFrame (merged_df) with combined columns from both df1 and df2 based on matching 'ID' values.\n",
                "df1 + df2 results in a DataFrame (df_addition) filled with NaN values, indicating the operation could not be performed.\n",
                "\n",
                "`Purpose and Use Case:`\n",
                "Use pd.merge() when you want to combine data based on a common column (like merging employee data with department data based on employee ID).\n",
                "<mark>Avoid df1 + df2 for merging or joining purposes; it's used for element-wise arithmetic operations on matching columns in NumPy arrays or Pandas Series, `not DataFrames`.</mark>"
            ],
            "metadata": {
                "language": "python",
                "azdata_cell_guid": "c14f06d0-ae14-49a3-b477-9cfec147f76d"
            },
            "attachments": {}
        },
        {
            "cell_type": "markdown",
            "source": [
                "#### How to Set own object type -> name for a Pandas Series ?"
            ],
            "metadata": {
                "language": "python",
                "azdata_cell_guid": "8586f21e-5283-4897-91e7-28c7b3d805f9"
            },
            "attachments": {}
        },
        {
            "cell_type": "code",
            "source": [
                "marks = [87, 98, 79, 91, 75]\n",
                "sub = ['P', 'S', 'W', 'X', 'J']\n",
                "\n",
                "pd.Series(marks, index = sub)\n",
                "pd.Series(marks, index = sub, name = \"Student marks\")"
            ],
            "metadata": {
                "language": "python",
                "azdata_cell_guid": "e905fe38-e1aa-413b-8a8d-c49573cd735e"
            },
            "outputs": [
                {
                    "output_type": "execute_result",
                    "execution_count": 2,
                    "data": {
                        "text/plain": "P    87\nS    98\nW    79\nX    91\nJ    75\nName: Student marks, dtype: int64"
                    },
                    "metadata": {}
                }
            ],
            "execution_count": 2
        },
        {
            "cell_type": "markdown",
            "source": [
                "#### What are the different Pandas Series Attributes available ?"
            ],
            "metadata": {
                "language": "python",
                "azdata_cell_guid": "af800de2-190f-40fa-baa1-a21f78851a1c"
            },
            "attachments": {}
        },
        {
            "cell_type": "code",
            "source": [
                "import pandas as pd\n",
                "# Size -> how many values are in series\n",
                "\n",
                "marks = {\n",
                "    'p' : 83,\n",
                "    's' : 89,\n",
                "    'x' : 71,\n",
                "    'y' : 71,\n",
                "    'k' : 94\n",
                "}\n",
                "\n",
                "mark_series = pd.Series(marks, name = \"your mark\")\n",
                "\n",
                "print(mark_series)\n",
                "\n",
                "print('----------------------')\n",
                "\n",
                "# size -> total element\n",
                "mark_series.size\n",
                "print('mark_series.size : ', mark_series.size)\n",
                "\n",
                "# dtype\n",
                "mark_series.dtype\n",
                "print('mark_series.dtype : ', mark_series.dtype)\n",
                "\n",
                "# name \n",
                "mark_series.name\n",
                "print('mark_series.name : ', mark_series.name)\n",
                "\n",
                "# is_unique (False if item repeat)\n",
                "mark_series.is_unique\n",
                "pd.Series([1, 2, 1, 3, 4, 2, 4, 5]).is_unique\n",
                "print('mark_series.is_unique : ', mark_series.is_unique)\n",
                "\n",
                "# index (return all index)\n",
                "mark_series.index\n",
                "print('mark_series.index : ', mark_series.index)\n",
                "\n",
                "# values\n",
                "mark_series.values\n",
                "print('mark_series.values : ', mark_series.values)"
            ],
            "metadata": {
                "language": "python",
                "azdata_cell_guid": "a233a221-3b5a-4797-a2cd-22ec1ec29349"
            },
            "outputs": [
                {
                    "output_type": "stream",
                    "name": "stdout",
                    "text": "p    83\ns    89\nx    71\ny    71\nk    94\nName: your mark, dtype: int64\n----------------------\nmark_series.size :  5\nmark_series.dtype :  int64\nmark_series.name :  your mark\nmark_series.is_unique :  False\nmark_series.index :  Index(['p', 's', 'x', 'y', 'k'], dtype='object')\nmark_series.values :  [83 89 71 71 94]\n"
                }
            ],
            "execution_count": 3
        },
        {
            "cell_type": "markdown",
            "source": [
                "#### How to Convert a DataFrame with single column to Series ?"
            ],
            "metadata": {
                "azdata_cell_guid": "34cf3636-759a-4e41-ab4e-cbecdbc5caba"
            },
            "attachments": {}
        },
        {
            "cell_type": "code",
            "source": [
                "import pandas as pd  # Import pandas library\n",
                "\n",
                "# Sample data creation (for illustration, normally this would be read from a CSV)\n",
                "data = {'match_no': [1, 2, 3, 4, 5], 'runs': [45, 67, 23, 89, 34]}\n",
                "kohli_data = pd.DataFrame(data).set_index('match_no')\n",
                "\n",
                "print('# Display the DataFrame :')\n",
                "print(kohli_data)\n",
                "\n",
                "# Alternatively, reading from the CSV file\n",
                "# kohli_data = pd.read_csv('/kaggle/input/dataset-for-pandas-series/kohli_ipl.csv', index_col=\"match_no\")\n",
                "\n",
                "# Convert DataFrame to Series if it has only one column\n",
                "vk = kohli_data.squeeze(True)\n",
                "print('--------------')\n",
                "\n",
                "print('vk.size : ',vk.size)\n",
                "print('vk.index : ',vk.index)\n",
                "print('vk.values : ',vk.values)\n",
                "\n",
                "# Check the type of vk to ensure it is a Series\n",
                "print('type(vk) : ',type(vk))\n",
                "\n",
                "print('--------------')\n",
                "# Display the Series\n",
                "print('# Display the Series')\n",
                "print(vk)\n",
                ""
            ],
            "metadata": {
                "azdata_cell_guid": "d0668319-6d3f-41f8-8b8b-6fc7483572a5",
                "language": "python"
            },
            "outputs": [
                {
                    "output_type": "stream",
                    "name": "stdout",
                    "text": "# Display the DataFrame :\n          runs\nmatch_no      \n1           45\n2           67\n3           23\n4           89\n5           34\n--------------\nvk.size :  5\nvk.index :  Int64Index([1, 2, 3, 4, 5], dtype='int64', name='match_no')\nvk.values :  [45 67 23 89 34]\ntype(vk) :  <class 'pandas.core.series.Series'>\n--------------\n# Display the Series\nmatch_no\n1    45\n2    67\n3    23\n4    89\n5    34\nName: runs, dtype: int64\n"
                }
            ],
            "execution_count": 6
        },
        {
            "cell_type": "markdown",
            "source": [
                "#### In python where df is a DataFrame object, while filtering data why do we give syntax as filtered_data = df[df['Age']>30] and not as filtered_data = df['Age'>30] since to access a column we simply give df['Age'] and not df[df['Age']]. Please explain\n",
                "\n",
                "\n",
                "1. **Accessing a Column:**\n",
                "   To access a single column in a DataFrame, you use the syntax `df['column_name']`. This returns a Series object representing the column:\n",
                "   ```python\n",
                "   age_column = df['Age']\n",
                "   ```\n",
                "\n",
                "2. **Filtering Rows Based on a Condition:**\n",
                "   When you filter rows, you want to return a subset of the DataFrame where a certain condition is true. <mark>The syntax `df['Age'] > 30` creates a boolean Series that has the same index as `df`, where each value is `True` if the condition is met and `False` otherwise:</mark>\n",
                "   ```python\n",
                "   condition = df['Age'] > 30\n",
                "   ```\n",
                "\n",
                "3. **Applying the Filter:**\n",
                "<mark>   To filter the DataFrame based on this condition, you use this boolean Series inside the DataFrame's indexing brackets. This tells `pandas` to return only the rows where the condition is `True`:</mark>\n",
                "   ```python\n",
                "   filtered_data = df[condition]\n",
                "   ```\n",
                "\n",
                "<mark>Putting it all together, the full expression `df[df['Age'] > 30]` can be broken down as:\n",
                "- `df['Age']` accesses the 'Age' column.\n",
                "- `df['Age'] > 30` creates a boolean Series where the condition is evaluated for each row.\n",
                "- `df[boolean_series]` filters the DataFrame based on the boolean Series.</mark>\n",
                "\n",
                "###<mark> Why not `df['Age'>30]`?</mark>\n",
                "The syntax `df['Age'>30]` is invalid for a couple of reasons:\n",
                "1. **String Literal:** `'Age'>30` is interpreted as trying to compare the string `'Age'` with the number `30`, which doesn't make sense and will result in an error.\n",
                "2. **Indexing Syntax:** `df['something']` expects `something` to be either a column name (to access a column) or a boolean Series (to filter rows). The expression `'Age'>30` does not fit either of these expectations.\n",
                "\n",
                "### Summary:\n",
                "- `df['Age']` accesses the 'Age' column.\n",
                "- `df['Age'] > 30` creates a boolean Series.\n",
                "- `df[boolean_series]` filters the DataFrame rows based on the boolean Series.\n",
                ""
            ],
            "metadata": {
                "azdata_cell_guid": "5b77920f-b498-46e0-bc89-7f7f04c172ab"
            },
            "attachments": {}
        },
        {
            "cell_type": "markdown",
            "source": [
                "#### What is a boolean series ?\n",
                "\n",
                "A boolean Series in `pandas` is a Series object where each element is either `True` or `False`. It is typically created by applying a comparison or logical operation to a `pandas` Series. This boolean Series can then be used to filter data in a DataFrame.\n",
                "\n",
                "\n",
                "**Example:**\n",
                "\n",
                "Suppose we have the following DataFrame:\n",
                "\n",
                "```python\n",
                "import pandas as pd\n",
                "\n",
                "# Sample DataFrame\n",
                "data = {\n",
                "    'Name': ['Alice', 'Bob', 'Charlie', 'David', 'Eve'],\n",
                "    'Age': [25, 32, 18, 45, 30],\n",
                "    'City': ['New York', 'Los Angeles', 'Chicago', 'Houston', 'Phoenix']\n",
                "}\n",
                "df = pd.DataFrame(data)\n",
                "print(df)\n",
                "```\n",
                "\n",
                "Output:\n",
                "```\n",
                "      Name  Age         City\n",
                "0    Alice   25     New York\n",
                "1      Bob   32  Los Angeles\n",
                "2  Charlie   18      Chicago\n",
                "3    David   45      Houston\n",
                "4      Eve   30      Phoenix\n",
                "```\n",
                "\n",
                "##### Creating a Boolean Series:\n",
                "\n",
                "We can create a boolean Series by applying a condition to one of the columns. For instance, let's create a boolean Series to check which rows have 'Age' greater than 30:\n",
                "\n",
                "```python\n",
                "<mark>age_condition = df['Age'] > 30\n",
                "print(age_condition)</mark>\n",
                "```\n",
                "\n",
                "Output:\n",
                "```\n",
                "0    False\n",
                "1     True\n",
                "2    False\n",
                "3     True\n",
                "4    False\n",
                "Name: Age, dtype: bool\n",
                "```\n",
                "\n",
                "<mark>Here, `age_condition` is a boolean Series where each value indicates whether the corresponding row in the 'Age' column satisfies the condition `Age > 30`.</mark>\n",
                "\n",
                "##### Using the Boolean Series to Filter Data:\n",
                "\n",
                "We can use this boolean Series to filter the DataFrame and get only the rows where 'Age' is greater than 30:\n",
                "\n",
                "```python\n",
                "filtered_df = df[age_condition]\n",
                "print(filtered_df)\n",
                "```\n",
                "\n",
                "Output:\n",
                "```\n",
                "    Name  Age         City\n",
                "1    Bob   32  Los Angeles\n",
                "3  David   45      Houston\n",
                "```\n",
                "\n",
                "##### Summary:\n",
                "1. **Boolean Series Creation:** Applying a condition to a DataFrame column creates a boolean Series.\n",
                "2. **Boolean Series Example:** In our example, `df['Age'] > 30` creates a boolean Series where each element is `True` if the condition is met, and `False` otherwise.\n",
                "3. **Filtering Data:** This boolean Series can be used to filter the DataFrame, returning only the rows where the condition is `True`.\n",
                "\n",
                "This process allows for powerful and flexible data manipulation in `pandas`."
            ],
            "metadata": {
                "azdata_cell_guid": "d9877ed7-b14d-4ea4-9235-b557a59a1456"
            },
            "attachments": {}
        },
        {
            "cell_type": "markdown",
            "source": [
                "#### What is a pd.Series()\n",
                "\n",
                "- In the given code, pd.Series refers to the Series class in the pandas library. \n",
                "- A Series is a one-dimensional labeled array capable of holding any data type (integers, strings, floating point numbers, Python objects, etc.). \n",
                "- It is similar to a column in a DataFrame or a list, but with additional features."
            ],
            "metadata": {
                "azdata_cell_guid": "67921862-1ddb-4e22-ba0c-4c86c586d388"
            },
            "attachments": {}
        },
        {
            "cell_type": "markdown",
            "source": [
                "#### Can we perform merge operation on three dataframes ?"
            ],
            "metadata": {
                "azdata_cell_guid": "38836aa1-bafa-40ef-997d-c312efd53cef"
            },
            "attachments": {}
        },
        {
            "cell_type": "code",
            "source": [
                "df1 = pd.DataFrame({'ID': [1, 2, 3], 'Name': ['Laxman', 'Harshita', 'Naina']})\n",
                "df2 = pd.DataFrame({'ID': [2, 3, 4], 'Age': [30, 35, 40]})\n",
                "df3 = pd.DataFrame({'ID': [3, 4, 5], 'Sex': ['M','F','F']})\n",
                "# merged_df = pd.merge(df1, df2, df3, on='ID')\n",
                "\n",
                "# print(merged_df)\n",
                "print('------------------')\n",
                "print (df1 + df2 + df3)\n",
                "\n",
                ""
            ],
            "metadata": {
                "azdata_cell_guid": "81854192-8fb5-45c8-bc66-49e6f8685ff0",
                "language": "python"
            },
            "outputs": [
                {
                    "output_type": "stream",
                    "name": "stdout",
                    "text": "------------------\n   Age  ID  Name  Sex\n0  NaN   6   NaN  NaN\n1  NaN   9   NaN  NaN\n2  NaN  12   NaN  NaN\n"
                }
            ],
            "execution_count": 7
        },
        {
            "cell_type": "markdown",
            "source": [
                "#### Note :\n",
                "- `merged_df = pd.merge(df1, df2, df3, on='ID')` : gives an error becaue the sytax for merge is merge(left, right, how=how, on=on ....)\n",
                "- `df1 + df2 + df3` : Addition can be performed on two ore more Dataframes also"
            ],
            "metadata": {
                "language": "python",
                "azdata_cell_guid": "b8c5ddf1-f654-4365-b3ee-e90261aaf08b"
            },
            "attachments": {}
        },
        {
            "cell_type": "markdown",
            "source": [
                "#### How to choose a particular column as index while reading a csv file ?"
            ],
            "metadata": {
                "language": "python",
                "azdata_cell_guid": "95ba5e7d-caa4-4779-9b76-3e7358572e85"
            },
            "attachments": {}
        },
        {
            "cell_type": "code",
            "source": [
                "import pandas as pd\n",
                "\n",
                "# Sample data\n",
                "data = {\n",
                "    'Name': ['Laxman', 'Rajesh', 'Ram'],\n",
                "    'Age': [25, 30, 22],\n",
                "    'City': ['Pune', 'Hyderabad', 'Mahabubnagar']\n",
                "}\n",
                "\n",
                "# Create a DataFrame\n",
                "df = pd.DataFrame(data)\n",
                "\n",
                "# Save the DataFrame to a CSV file\n",
                "df.to_csv('data.csv', index=False)\n",
                "\n",
                "# Read the CSV file back into a DataFrame\n",
                "df_from_csv = pd.read_csv('data.csv')\n",
                "\n",
                "# Print the DataFrame without Index\n",
                "print('df_from_csv : \\n',df_from_csv)\n",
                "\n",
                "# Read the CSV file back into a DataFrame and choose a particular column as Index\n",
                "df_from_csv_with_index = pd.read_csv('data.csv', index_col='Age')\n",
                "\n",
                "# Print the DataFrame\n",
                "print('\\n\\n df_from_csv_with_index : \\n',df_from_csv_with_index)"
            ],
            "metadata": {
                "language": "python",
                "azdata_cell_guid": "5775cb1b-a6aa-48bd-80f0-7f6dff3ce44c"
            },
            "outputs": [
                {
                    "output_type": "stream",
                    "name": "stdout",
                    "text": "df_from_csv : \n      Name  Age          City\n0  Laxman   25          Pune\n1  Rajesh   30     Hyderabad\n2     Ram   22  Mahabubnagar\n\n\n df_from_csv_with_index : \n        Name          City\nAge                      \n25   Laxman          Pune\n30   Rajesh     Hyderabad\n22      Ram  Mahabubnagar\n"
                }
            ],
            "execution_count": 8
        },
        {
            "cell_type": "markdown",
            "source": [
                "### **`PANDAS SERIES METHODS`**"
            ],
            "metadata": {
                "azdata_cell_guid": "0346f6d7-9dd7-43be-acdf-ecef5b9c1677"
            },
            "attachments": {}
        },
        {
            "cell_type": "markdown",
            "source": [
                "\n",
                "#### Subtopic: Normal Methods\n",
                "\n",
                "| Method | Syntax | Return Type | Input Parameters | In-place or Copy | One Line Explainer | Peculiarities / Considerations |\n",
                "|--------|--------|-------------|------------------|------------------|--------------------|-------------------------------|\n",
                "| `head()` | `series.head(n=5)` | Series | `n` (int, default 5) | Copy | Returns the first `n` rows. | Useful for quickly viewing the top rows. |\n",
                "| `tail()` | `series.tail(n=5)` | Series | `n` (int, default 5) | Copy | Returns the last `n` rows. | Useful for quickly viewing the bottom rows. |\n",
                "| `sample()` | `series.sample(n=None, frac=None, random_state=None)` | Series | `n` (int, optional), `frac` (float, optional), `random_state` (int, optional) | Copy | <mark>**Returns a random sample of items.**</mark> | <mark>**Use `frac` for a fraction of items, `n` for a fixed number.**</mark> |\n",
                "| `value_counts()` | `series.value_counts(normalize=False, sort=True, ascending=False, bins=None, dropna=True)` | Series | Various optional parameters | Copy | <mark>**Returns counts of unique values.**</mark> | <mark>**Useful for frequency analysis.**</mark> |\n",
                "| `sort_values()` | `series.sort_values(ascending=True)` | Series | <mark>**`ascending` (bool, default True), `inplace` (bool, default False)**</mark> | <mark>Copy (or In-place) </mark>| Sorts values in the Series. | Can sort in ascending or descending order. |\n",
                "| `sort_index()` | `series.sort_index(ascending=True, inplace=False)` | Series | <mark>`ascending` (bool, default True), `inplace` (bool, default False) </mark>| <mark>Copy (or In-place)</mark> | Sorts Series by index. | <mark>**Useful for reordering based on index.**</mark>|\n",
                "\n",
                "\n",
                "#### **`Note :`** \n",
                "1. Return type is Series for all the methods\n",
                "2. All are copy, in case of sorting by default in-place is False\n",
                ""
            ],
            "metadata": {
                "azdata_cell_guid": "6c160503-d06a-411e-b758-f56ff97bd2a0"
            },
            "attachments": {}
        },
        {
            "cell_type": "code",
            "source": [
                "#Dataset\n",
                "import pandas as pd\n",
                "\n",
                "# Sample data\n",
                "data = {\n",
                "    'numbers': [4, 2, 7, 1, 8, 3, 2, 4, 7, 9, 6, 5]\n",
                "}\n",
                "\n",
                "# Create a Series\n",
                "series = pd.Series(data['numbers'])\n",
                "print(\"Original Series:\\n\", series)"
            ],
            "metadata": {
                "azdata_cell_guid": "747cb812-2ef1-4c1c-932f-24ca5c79840a",
                "language": "python"
            },
            "outputs": [
                {
                    "output_type": "stream",
                    "name": "stdout",
                    "text": "Original Series:\n 0     4\n1     2\n2     7\n3     1\n4     8\n5     3\n6     2\n7     4\n8     7\n9     9\n10    6\n11    5\ndtype: int64\n"
                }
            ],
            "execution_count": 9
        },
        {
            "cell_type": "markdown",
            "source": [
                "#### Program demonstrating Normal Methods:"
            ],
            "metadata": {
                "language": "python",
                "azdata_cell_guid": "c4eb0b21-e3ad-4059-96eb-d4fb73aa211e"
            },
            "attachments": {}
        },
        {
            "cell_type": "code",
            "source": [
                "print(\"Original Series:\\n\", series)\n",
                "\n",
                "# Normal Methods\n",
                "print(\"\\nHead (first 5 elements):\")\n",
                "print(series.head())\n",
                "\n",
                "print(\"\\nTail (last 5 elements):\")\n",
                "print(series.tail())\n",
                "\n",
                "print(\"\\nRandom Sample (3 elements):\")\n",
                "print(series.sample(3))\n",
                "\n",
                "print(\"\\nValue Counts:\")\n",
                "print(series.value_counts())\n",
                "\n",
                "print(\"\\nSort Values (ascending):\")\n",
                "print(series.sort_values())\n",
                "\n",
                "print(\"\\nSort Values (descending):\")\n",
                "print(series.sort_values(ascending=False))\n",
                "\n",
                "print(\"\\nSort Values (descending) and get the highest value:\")\n",
                "print(series.sort_values(ascending=False).head(1).values[0])\n",
                "\n",
                "print(\"\\nSort Index:\")\n",
                "print(series.sort_index())\n",
                "\n",
                "print(\"\\nSort Index In-place:\")\n",
                "series.sort_index(inplace=True)\n",
                "print(series)"
            ],
            "metadata": {
                "language": "python",
                "azdata_cell_guid": "89377ade-e383-4219-8f43-f824a7f4c2d1"
            },
            "outputs": [
                {
                    "output_type": "stream",
                    "name": "stdout",
                    "text": "Original Series:\n 0     4\n1     2\n2     7\n3     1\n4     8\n5     3\n6     2\n7     4\n8     7\n9     9\n10    6\n11    5\ndtype: int64\n\nHead (first 5 elements):\n0    4\n1    2\n2    7\n3    1\n4    8\ndtype: int64\n\nTail (last 5 elements):\n7     4\n8     7\n9     9\n10    6\n11    5\ndtype: int64\n\nRandom Sample (3 elements):\n0    4\n6    2\n3    1\ndtype: int64\n\nValue Counts:\n4    2\n2    2\n7    2\n1    1\n8    1\n3    1\n9    1\n6    1\n5    1\ndtype: int64\n\nSort Values (ascending):\n3     1\n1     2\n6     2\n5     3\n0     4\n7     4\n11    5\n10    6\n2     7\n8     7\n4     8\n9     9\ndtype: int64\n\nSort Values (descending):\n9     9\n4     8\n2     7\n8     7\n10    6\n11    5\n0     4\n7     4\n5     3\n1     2\n6     2\n3     1\ndtype: int64\n\nSort Values (descending) and get the highest value:\n9\n\nSort Index:\n0     4\n1     2\n2     7\n3     1\n4     8\n5     3\n6     2\n7     4\n8     7\n9     9\n10    6\n11    5\ndtype: int64\n\nSort Index In-place:\n0     4\n1     2\n2     7\n3     1\n4     8\n5     3\n6     2\n7     4\n8     7\n9     9\n10    6\n11    5\ndtype: int64\n"
                }
            ],
            "execution_count": 11
        },
        {
            "cell_type": "markdown",
            "source": [
                "#### Subtopic: Math Methods\n",
                "\n",
                "| Method | Syntax | Return Type | Input Parameters | In-place or Copy | One Line Explainer | Peculiarities / Considerations |\n",
                "|--------|--------|-------------|------------------|------------------|--------------------|-------------------------------|\n",
                "| `count()` | `series.count()` | int | None | Copy | <mark>**Returns number of non-NA/null values.**</mark> | <mark>**Useful for knowing non-missing entries.**</mark> |\n",
                "| `sum()` | `series.sum()` | scalar | None | Copy | Returns the sum of values. | <mark>**Ignores non-numeric values.**</mark>|\n",
                "| `product()` | `series.product()` | scalar | None | Copy | Returns the product of values. | <mark>**Useful for cumulative multiplication.**</mark> |\n",
                "\n",
                "\n",
                "\n",
                ""
            ],
            "metadata": {
                "azdata_cell_guid": "9c5603f4-332b-44af-881e-26e47af0ed17"
            },
            "attachments": {}
        },
        {
            "cell_type": "markdown",
            "source": [
                "#### Program demonstrating Math Methods:"
            ],
            "metadata": {
                "azdata_cell_guid": "057cd484-06b0-4f94-9896-89a6dba4e126"
            },
            "attachments": {}
        },
        {
            "cell_type": "code",
            "source": [
                "print(\"Original Series:\\n\", series)\n",
                "\n",
                "# Math Methods\n",
                "print(\"\\nCount of non-null values:\")\n",
                "print(series.count())\n",
                "\n",
                "print(\"\\nSum of values:\")\n",
                "print(series.sum())\n",
                "\n",
                "print(\"\\nProduct of values:\")\n",
                "print(series.product())"
            ],
            "metadata": {
                "azdata_cell_guid": "e68fc710-3014-4d6c-bdbd-afa9173e06d6",
                "language": "python"
            },
            "outputs": [
                {
                    "output_type": "stream",
                    "name": "stdout",
                    "text": "Original Series:\n 0     4\n1     2\n2     7\n3     1\n4     8\n5     3\n6     2\n7     4\n8     7\n9     9\n10    6\n11    5\ndtype: int64\n\nCount of non-null values:\n12\n\nSum of values:\n58\n\nProduct of values:\n20321280\n"
                }
            ],
            "execution_count": 12
        },
        {
            "cell_type": "markdown",
            "source": [
                "#### Subtopic: Statistical Methods\n",
                "\n",
                "| Method | Syntax | Return Type | Input Parameters | In-place or Copy | One Line Explainer | Peculiarities / Considerations |\n",
                "|--------|--------|-------------|------------------|------------------|--------------------|-------------------------------|\n",
                "| `mean()` | `series.mean()` | scalar | None | Copy | Returns the mean of values. | <mark>**Ignores non-numeric values.**</mark> |\n",
                "| `median()` | `series.median()` | scalar | None | Copy | Returns the median of values. | Provides the middle value. |\n",
                "| `mode()` | `series.mode()` | <mark>**Series**</mark> | None | Copy | Returns the mode(s) of values. | <mark>**Can return multiple modes.**</mark>|\n",
                "| `std()` | `series.std()` | scalar | None | Copy | Returns the standard deviation. | <mark>**Measures data spread.**</mark> |\n",
                "| `var()` | `series.var()` | scalar | None | Copy | Returns the variance. | <mark>Another measure of spread.</mark> |\n",
                "| `min()` | `series.min()` | scalar | None | Copy | Returns the minimum value. | Finds the smallest value. |\n",
                "| `max()` | `series.max()` | scalar | None | Copy | Returns the maximum value. | Finds the largest value. |\n",
                "| `describe()` | `series.describe()` | <mark>**Series**</mark> | None | Copy | <mark>Returns summary statistics. </mark>| <mark>Provides a quick overview.</mark> |\n",
                "\n",
                "#### Note :\n",
                "1. The return type of <mark>`both mode() and describe() is 'Series'`</mark>\n",
                "2. <mark>Mode can return multiple values</mark>\n",
                "3. <mark>Mean ignores non-numeric value</mark>"
            ],
            "metadata": {
                "language": "python",
                "azdata_cell_guid": "17ba7ae5-afc4-4bed-be29-d9ab5ab9c98a"
            },
            "attachments": {}
        },
        {
            "cell_type": "markdown",
            "source": [
                "#### Program demonstrating Statistical Methods:"
            ],
            "metadata": {
                "language": "python",
                "azdata_cell_guid": "aacb3421-98a0-4c36-a07c-69c8c3d1b339"
            },
            "attachments": {}
        },
        {
            "cell_type": "code",
            "source": [
                "print(\"Original Series:\\n\", series)\n",
                "\n",
                "# Statistical Methods\n",
                "print(\"\\nMean of values:\")\n",
                "print(series.mean())\n",
                "\n",
                "print(\"\\nMedian of values:\")\n",
                "print(series.median())\n",
                "\n",
                "print(\"\\nMode of values:\")\n",
                "print(series.mode())\n",
                "\n",
                "print(\"\\nStandard Deviation of values:\")\n",
                "print(series.std())\n",
                "\n",
                "print(\"\\nVariance of values:\")\n",
                "print(series.var())\n",
                "\n",
                "print(\"\\nMinimum value:\")\n",
                "print(series.min())\n",
                "\n",
                "print(\"\\nMaximum value:\")\n",
                "print(series.max())\n",
                "\n",
                "print(\"\\nDescribe:\")\n",
                "print(series.describe())"
            ],
            "metadata": {
                "language": "python",
                "azdata_cell_guid": "d49923c2-07ef-485c-9be9-f2a695cf67a2"
            },
            "outputs": [
                {
                    "output_type": "stream",
                    "name": "stdout",
                    "text": "Original Series:\n 0     4\n1     2\n2     7\n3     1\n4     8\n5     3\n6     2\n7     4\n8     7\n9     9\n10    6\n11    5\ndtype: int64\n\nMean of values:\n4.833333333333333\n\nMedian of values:\n4.5\n\nMode of values:\n0    2\n1    4\n2    7\ndtype: int64\n\nStandard Deviation of values:\n2.5878504008094625\n\nVariance of values:\n6.696969696969696\n\nMinimum value:\n1\n\nMaximum value:\n9\n\nDescribe:\ncount    12.000000\nmean      4.833333\nstd       2.587850\nmin       1.000000\n25%       2.750000\n50%       4.500000\n75%       7.000000\nmax       9.000000\ndtype: float64\n"
                }
            ],
            "execution_count": 13
        },
        {
            "cell_type": "markdown",
            "source": [
                "#### What is the difference between these functions value_counts() and count() ?\n",
                "\n",
                "1. **`value_counts()`**:\n",
                "   - This function returns the counts of unique values in the Series.\n",
                "   - It does not count `NaN` values.\n",
                "   - It returns a new Series where the index is the unique values and the values are the counts.\n",
                "\n",
                "2. **`count()`**:\n",
                "   - This function returns the number of non-null values in the Series.\n",
                "   - It essentially counts all the values except `NaN`.\n",
                "   - Returns a single integer representing the count of non-null values.\n",
                "  \n",
                ""
            ],
            "metadata": {
                "azdata_cell_guid": "1b8899c8-9424-46b6-a98a-f5f1d7a00591"
            },
            "attachments": {}
        },
        {
            "cell_type": "code",
            "source": [
                "import pandas as pd\n",
                "import numpy as np\n",
                "\n",
                "# Create a sample series with some null values\n",
                "data = [1, 2, 2, np.nan, 4, np.nan, 4, 4, 5]\n",
                "series = pd.Series(data)\n",
                "\n",
                "print(\"Sample Series:\")\n",
                "print(series)\n",
                "\n",
                "# Use value_counts() function\n",
                "value_counts = series.value_counts()\n",
                "print(\"\\nvalue_counts():\")\n",
                "print(value_counts)\n",
                "\n",
                "# Use count() function\n",
                "count = series.count()\n",
                "print(\"\\ncount():\")\n",
                "print(count)\n",
                ""
            ],
            "metadata": {
                "azdata_cell_guid": "a8311be5-a479-4f2d-b647-866bd35a06f1",
                "language": "python"
            },
            "outputs": [
                {
                    "name": "stdout",
                    "text": "Sample Series:\n0    1.0\n1    2.0\n2    2.0\n3    NaN\n4    4.0\n5    NaN\n6    4.0\n7    4.0\n8    5.0\ndtype: float64\n\nvalue_counts():\n4.0    3\n2.0    2\n1.0    1\n5.0    1\ndtype: int64\n\ncount():\n7\n",
                    "output_type": "stream"
                }
            ],
            "execution_count": 1
        },
        {
            "cell_type": "markdown",
            "source": [
                "#### What do you mean by return type as INT and return type as Scalar in Python ?\n",
                "\n",
                "- **Return Type as `int`:** Specifically returns an integer value. An integer is a whole number without a fractional component, and it can be positive, negative, or zero.\n",
                "- **Return Type as `Scalar`:** Returns a single value, which can be of any basic type such as `int`, `float`, `bool`, or `str`.\n",
                "\n",
                ""
            ],
            "metadata": {
                "azdata_cell_guid": "ccea4a06-b7b1-41a5-b4f8-94e360e97222"
            },
            "attachments": {}
        },
        {
            "cell_type": "markdown",
            "source": [
                "####  Explain how the following is achieved in Pandas series or what happens when we execute a particular statement\n",
                "\n",
                "INDEXING\n",
                "1. Positive indexing\n",
                "2. Negative indexing\n",
                "3. Indexing using labels\n",
                "4. Slicing by index\n",
                "5. Fancy Indexing\n",
                "\n",
                "EDITING\n",
                "1. Change value using index\n",
                "2. Change value using label\n",
                "3. Change value using slicing\n",
                "4. Change value using fancy indexing\n",
                "\n",
                "BUILT-IN FUNCTIONS\n",
                "1. len()\n",
                "2. type()\n",
                "3. sorted()\n",
                "4. min()\n",
                "5. max()\n",
                "\n",
                "CONEVRTING SERIES\n",
                "1. To a list\n",
                "2. To a dict\n",
                "\n",
                "MEMBERSHIP OPERATOR\n",
                "1. Check membership with index\n",
                "2. Check membership with values\n",
                "\n",
                "BROADCASTING\n",
                "1. 100 - ages // ages is series\n",
                "2. 5 + ages\n",
                "\n",
                "RELATIONAL OPERATOR\n",
                "1. print(ages > 30)\n",
                "2. print(ages[ages > 30])\n",
                "\n",
                "\n",
                ""
            ],
            "metadata": {
                "azdata_cell_guid": "6caeed92-8fbf-4da3-be1b-4f2781470491"
            },
            "attachments": {}
        },
        {
            "cell_type": "code",
            "source": [
                "import pandas as pd\n",
                "\n",
                "# Sample data\n",
                "data = [25, 30, 35, 40, 45]\n",
                "labels = ['Alice', 'Bob', 'Charlie', 'David', 'Eve']\n",
                "\n",
                "# Creating the Series\n",
                "ages = pd.Series(data, index=labels)\n",
                "\n",
                "# Display the Series\n",
                "print(\"Initial Series:\")\n",
                "print(ages)\n",
                "\n",
                "# Positive Indexing\n",
                "print(\"\\nPositive Indexing:\")\n",
                "print(f\"Ages[0]: {ages[0]}\")   # Output: 25\n",
                "print(f\"Ages[2]: {ages[2]}\")   # Output: 35\n",
                "\n",
                "# Negative Indexing\n",
                "print(\"\\nNegative Indexing:\")\n",
                "print(f\"Ages[-1]: {ages[-1]}\")  # Output: 45\n",
                "print(f\"Ages[-3]: {ages[-3]}\")  # Output: 35\n",
                "\n",
                "# Indexing using labels and slicing\n",
                "print(\"\\nIndexing using labels and slicing:\")\n",
                "print(f\"Ages['Bob']: {ages['Bob']}\")        # Using label, Output: 30\n",
                "print(\"Ages[1:3]:\\n\", ages[1:3])            # Slicing by index, Output: Bob to Charlie\n",
                "print(\"Ages[['Alice', 'Eve']]:\\n\", ages[['Alice', 'Eve']])  # Fancy indexing, Output: Alice and Eve\n",
                "\n",
                "# Editing values\n",
                "print(\"\\nEditing values:\")\n",
                "ages[0] = 26  # Change value using index\n",
                "print(\"After ages[0] = 26:\\n\", ages)\n",
                "\n",
                "ages['Bob'] = 31  # Change value using label\n",
                "print(\"After ages['Bob'] = 31:\\n\", ages)\n",
                "\n",
                "ages[1:3] = [32, 36]  # Change values using slicing\n",
                "print(\"After ages[1:3] = [32, 36]:\\n\", ages)\n",
                "\n",
                "ages[[0, 3, 4]] = [27, 41, 46]  # Change values using fancy indexing\n",
                "print(\"After ages[[0, 3, 4]] = [27, 41, 46]:\\n\", ages)\n",
                "\n",
                "# Python built-in functions\n",
                "print(\"\\nPython built-in functions:\")\n",
                "print(f\"len(ages): {len(ages)}\")  # Output: 5\n",
                "print(f\"type(ages): {type(ages)}\")  # Output: <class 'pandas.core.series.Series'>\n",
                "print(f\"sorted(ages): {sorted(ages)}\")  # Output: [27, 31, 36, 41, 46]\n",
                "print(f\"max(ages): {max(ages)}\")  # Output: 46\n",
                "print(f\"min(ages): {min(ages)}\")  # Output: 27\n",
                "\n",
                "# Converting Series to list and dict\n",
                "print(\"\\nConverting Series to list and dict:\")\n",
                "print(f\"list(ages): {list(ages)}\")  # Output: [27, 31, 36, 41, 46]\n",
                "print(f\"dict(ages): {dict(ages)}\")  # Output: {'Alice': 27, 'Bob': 31, 'Charlie': 36, 'David': 41, 'Eve': 46}\n",
                "\n",
                "# Membership operators\n",
                "print(\"\\nMembership operators:\")\n",
                "print(f\"'Alice' in ages.index: {'Alice' in ages.index}\")  # Output: True\n",
                "print(f\"'Frank' in ages.index: {'Frank' in ages.index}\")  # Output: False\n",
                "print(f\"31 in ages.values: {31 in ages.values}\")  # Output: True\n",
                "print(f\"30 in ages.values: {30 in ages.values}\")  # Output: False\n",
                "\n",
                "# Broadcasting\n",
                "print(\"\\nBroadcasting:\")\n",
                "print(\"100 - ages:\\n\", 100 - ages)\n",
                "print(\"5 + ages:\\n\", 5 + ages)\n",
                "\n",
                "# Relational operators\n",
                "print(\"\\nRelational operators:\")\n",
                "print(\"ages >= 30:\\n\", ages >= 30)\n",
                "print(\"ages[ages >= 30]:\\n\", ages[ages >= 30])\n",
                ""
            ],
            "metadata": {
                "azdata_cell_guid": "88e94618-c423-498b-8810-439724cd90af",
                "language": "python"
            },
            "outputs": [
                {
                    "name": "stdout",
                    "text": "Initial Series:\nAlice      25\nBob        30\nCharlie    35\nDavid      40\nEve        45\ndtype: int64\n\nPositive Indexing:\nAges[0]: 25\nAges[2]: 35\n\nNegative Indexing:\nAges[-1]: 45\nAges[-3]: 35\n\nIndexing using labels and slicing:\nAges['Bob']: 30\nAges[1:3]:\n Bob        30\nCharlie    35\ndtype: int64\nAges[['Alice', 'Eve']]:\n Alice    25\nEve      45\ndtype: int64\n\nEditing values:\nAfter ages[0] = 26:\n Alice      26\nBob        30\nCharlie    35\nDavid      40\nEve        45\ndtype: int64\nAfter ages['Bob'] = 31:\n Alice      26\nBob        31\nCharlie    35\nDavid      40\nEve        45\ndtype: int64\nAfter ages[1:3] = [32, 36]:\n Alice      26\nBob        32\nCharlie    36\nDavid      40\nEve        45\ndtype: int64\nAfter ages[[0, 3, 4]] = [27, 41, 46]:\n Alice      27\nBob        32\nCharlie    36\nDavid      41\nEve        46\ndtype: int64\n\nPython built-in functions:\nlen(ages): 5\ntype(ages): <class 'pandas.core.series.Series'>\nsorted(ages): [27, 32, 36, 41, 46]\nmax(ages): 46\nmin(ages): 27\n\nConverting Series to list and dict:\nlist(ages): [27, 32, 36, 41, 46]\ndict(ages): {'Alice': 27, 'Bob': 32, 'Charlie': 36, 'David': 41, 'Eve': 46}\n\nMembership operators:\n'Alice' in ages.index: True\n'Frank' in ages.index: False\n31 in ages.values: False\n30 in ages.values: False\n\nBroadcasting:\n100 - ages:\n Alice      73\nBob        68\nCharlie    64\nDavid      59\nEve        54\ndtype: int64\n5 + ages:\n Alice      32\nBob        37\nCharlie    41\nDavid      46\nEve        51\ndtype: int64\n\nRelational operators:\nages >= 30:\n Alice      False\nBob         True\nCharlie     True\nDavid       True\nEve         True\ndtype: bool\nages[ages >= 30]:\n Bob        32\nCharlie    36\nDavid      41\nEve        46\ndtype: int64\n",
                    "output_type": "stream"
                }
            ],
            "execution_count": 2
        },
        {
            "cell_type": "markdown",
            "source": [
                "### **Pandas Series Methods and Attributes**\n",
                "| Method/Attribute         | Syntax                         | Return Type           | Input Parameters                   | In-place or Copy | One Line Explainer                                  | Peculiarities/Considerations                  |\n",
                "|--------------------------|--------------------------------|-----------------------|------------------------------------|------------------|----------------------------------------------------|-----------------------------------------------|\n",
                "| **Memory and Size Operations** |                                |                       |                                    |                  |                                                    |                                               |\n",
                "| `getsizeof()`            | `sys.getsizeof(series)`        | `int`                 | None                               | N/A              | <mark>**Returns the size of the Series object in bytes**</mark>     | <mark>**Needs `import sys` **</mark>                           |\n",
                "| `size`                   | `series.size`                  | `int`                 | None                               | N/A              | Returns the number of elements in the Series       | <mark>**Total number of elements including NaNs**</mark>      |\n",
                "| **Data Type Conversion** |                                |                       |                                    |                  |                                                    |                                               |\n",
                "| `astype()`               | `series.astype(dtype)`         | <mark>`Series` </mark>             | `dtype` (e.g., `int`, `float`)     | Copy             | <mark>**Converts Series to the specified data type**</mark>         | <mark>Useful for ensuring consistent data types </mark>    |\n",
                "| **Value Range Operations** |                              |                       |                                    |                  |                                                    |                                               |\n",
                "| `between()`              | `series.between(left, right)`  | <mark>**`Series` (bool)**</mark>      | <mark>`left`, `right` (numeric) </mark>         | Copy             | <mark>Checks if values fall between `left` and `right`</mark>   | <mark>**Useful for range filtering**</mark>                  |\n",
                "| `clip()`                 | `series.clip(lower, upper)`    | `Series`              | <mark>`lower`, `upper` (numeric) </mark>        | Copy             | <mark>Limits values to specified range</mark>                   | <mark>**Helps in capping outlier values**</mark>              |\n",
                "| **Duplicate and Missing Data Handling** |                |                       |                                    |                  |                                                    |                                               |\n",
                "| `drop_duplicates()`      | `series.drop_duplicates()`     | `Series`              | <mark>**`keep` (`'first'`, `'last'`, False)**</mark>| Copy             | Removes duplicate values                           | <mark>Can specify which duplicate to keep/remove </mark>   |\n",
                "| `duplicated()`           | `series.duplicated()`          | <mark>**`Series` (bool)**</mark>      | <mark>`keep` (`'first'`, `'last'`, False)</mark>| Copy             | <mark>**Returns boolean Series indicating duplicates**</mark>       | <mark>**Helps identify duplicate entries**</mark>            |\n",
                "| `isnull()`               | `series.isnull()`              | <mark>**`Series` (bool)**</mark>      | None                               | Copy             | <mark>Checks for missing values</mark>                          | <mark>Used for missing data analysis</mark>                |\n",
                "| `count()`                | `series.count()`               | <mark>`int`  </mark>               | None                               | Copy             | <mark>Counts non-missing values</mark>                          | <mark>**Excludes NaNs**</mark>                                 |\n",
                "| `dropna()`               | `series.dropna()`              | `Series`              | None                               | Copy             | Removes missing values                             | <mark>**Cleans NaNs from Series**</mark>                       |\n",
                "| `fillna()`               | `series.fillna(value)`         | `Series`              | `value`                            | Copy             | Fills missing values with specified value          | <mark>**Useful for data imputation**</mark>                   |\n",
                "| **Membership and Custom Operations** |                   |                       |                                    |                  |                                                    |                                               |\n",
                "| `isin()`                 | `series.isin(values)`          | <mark>**`Series` (bool)**</mark>      | <mark>`values` (list-like) </mark>              | Copy             | <mark>Checks for membership in `values`</mark>                  | Useful for filtering specific values          |\n",
                "| `apply()`                | `series.apply(func)`           | `Series`              | <mark>**`func` (function)**</mark>                | Copy             | <mark>**Applies a function element-wise**</mark>                    | <mark>**Great for custom operations**</mark>                   |\n",
                "\n",
                "\n",
                "#### Note :\n",
                "1. `between(), duplicated(), isnull() and isin()` : <mark>**returns Series (bool)**</mark>\n",
                "2. `count(), getsizeof() and size` : <mark>**returns int**</mark>\n",
                "3. Balance all returns Series\n",
                "\n",
                "### **Some Additional Details not covered in table**\n",
                "\n",
                "##### drop_duplicates()\n",
                "- `series.drop_duplicates()`\n",
                "- `series.drop_duplicates(keep='last')`\n",
                "\n",
                "##### duplicated()\n",
                "- `series.duplicated()`\n",
                "- `series.duplicated().sum()`\n",
                "\n",
                "##### isnull()\n",
                "- `series.isnull()`\n",
                "- `series.isnull().sum()`\n",
                "\n",
                "##### fillna()\n",
                "- `series.fillna(value)`\n",
                "- `series.fillna(df.mean())`"
            ],
            "metadata": {
                "azdata_cell_guid": "5fddf4e2-7471-4fe8-a3b7-a6df005bfd6b"
            },
            "attachments": {}
        },
        {
            "cell_type": "code",
            "source": [
                "### Sample Program to Demonstrate Methods\n",
                "\n",
                "import pandas as pd\n",
                "import numpy as np\n",
                "import sys\n",
                "\n",
                "# Sample data\n",
                "data = [25, 30, 35, np.nan, 40, 45, 25, 30, np.nan, 50]\n",
                "labels = ['Alice', 'Bob', 'Charlie', 'David', 'Eve', 'Frank', 'Grace', 'Henry', 'Ivy', 'Jack']\n",
                "\n",
                "# Creating the Series\n",
                "ages = pd.Series(data, index=labels)\n",
                "\n",
                "# Display the Series\n",
                "print(\"Initial Series:\")\n",
                "print(ages)"
            ],
            "metadata": {
                "azdata_cell_guid": "5ba0fffb-8ae0-4dd6-913c-66d5fceb629a",
                "language": "python"
            },
            "outputs": [
                {
                    "name": "stdout",
                    "text": "Initial Series:\nAlice      25.0\nBob        30.0\nCharlie    35.0\nDavid       NaN\nEve        40.0\nFrank      45.0\nGrace      25.0\nHenry      30.0\nIvy         NaN\nJack       50.0\ndtype: float64\n",
                    "output_type": "stream"
                }
            ],
            "execution_count": 4
        },
        {
            "cell_type": "code",
            "source": [
                "### Sample Program to Demonstrate Methods\n",
                "\n",
                "import pandas as pd\n",
                "import numpy as np\n",
                "import sys\n",
                "\n",
                "# Sample data\n",
                "data = [25, 30, 35, np.nan, 40, 45, 25, 30, np.nan, 50]\n",
                "labels = ['Alice', 'Bob', 'Charlie', 'David', 'Eve', 'Frank', 'Grace', 'Henry', 'Ivy', 'Jack']\n",
                "\n",
                "# Creating the Series\n",
                "ages = pd.Series(data, index=labels)\n",
                "\n",
                "# Display the Series\n",
                "print(\"Initial Series:\")\n",
                "print(ages)\n",
                "\n",
                "# Memory and Size Operations\n",
                "print(\"\\nSize of the Series (in bytes):\")\n",
                "print(sys.getsizeof(ages))\n",
                "\n",
                "print(\"\\nTotal number of elements in Series:\")\n",
                "print(ages.size)\n",
                "\n",
                "# Data Type Conversion\n",
                "print(\"\\nConvert Series to float:\")\n",
                "print(ages.astype(float))\n",
                "\n",
                "# Value Range Operations\n",
                "print(\"\\nValues between 30 and 45:\")\n",
                "print(ages.between(30, 45))\n",
                "\n",
                "print(\"\\nClip values between 30 and 40:\")\n",
                "print(ages.clip(30, 40))\n",
                "\n",
                "# Duplicate and Missing Data Handling\n",
                "print(\"\\nDrop duplicates (keep='first'):\")\n",
                "print(ages.drop_duplicates(keep='first'))\n",
                "\n",
                "print(\"\\nDrop duplicates (keep='last'):\")\n",
                "print(ages.drop_duplicates(keep='last'))\n",
                "\n",
                "print(\"\\nCheck for duplicates:\")\n",
                "print(ages.duplicated())\n",
                "\n",
                "print(\"\\nTotal duplicate values:\")\n",
                "print(ages.duplicated().sum())\n",
                "\n",
                "print(\"\\nCheck for missing values:\")\n",
                "print(ages.isnull())\n",
                "\n",
                "print(\"\\nTotal number of missing values:\")\n",
                "print(ages.isnull().sum())\n",
                "\n",
                "print(\"\\nCount of non-missing values in Series:\")\n",
                "print(ages.count())\n",
                "\n",
                "print(\"\\nDrop missing values:\")\n",
                "print(ages.dropna())\n",
                "\n",
                "print(\"\\nFill missing values with 0:\")\n",
                "print(ages.fillna(0))\n",
                "\n",
                "print(\"\\nFill missing values with mean:\")\n",
                "print(ages.fillna(ages.mean()))\n",
                "\n",
                "# Membership and Custom Operations\n",
                "print(\"\\nCheck for values [25, 30, 50]:\")\n",
                "print(ages.isin([25, 30, 50]))\n",
                "\n",
                "print(\"\\nApply custom function (add 5 to each value):\")\n",
                "print(ages.apply(lambda x: x + 5))\n",
                ""
            ],
            "metadata": {
                "azdata_cell_guid": "c5ee7a5b-ef8f-4f86-9980-a5c7883783d3",
                "language": "python"
            },
            "outputs": [
                {
                    "name": "stdout",
                    "text": "Initial Series:\nAlice      25.0\nBob        30.0\nCharlie    35.0\nDavid       NaN\nEve        40.0\nFrank      45.0\nGrace      25.0\nHenry      30.0\nIvy         NaN\nJack       50.0\ndtype: float64\n\nSize of the Series (in bytes):\n711\n\nTotal number of elements in Series:\n10\n\nConvert Series to float:\nAlice      25.0\nBob        30.0\nCharlie    35.0\nDavid       NaN\nEve        40.0\nFrank      45.0\nGrace      25.0\nHenry      30.0\nIvy         NaN\nJack       50.0\ndtype: float64\n\nValues between 30 and 45:\nAlice      False\nBob         True\nCharlie     True\nDavid      False\nEve         True\nFrank       True\nGrace      False\nHenry       True\nIvy        False\nJack       False\ndtype: bool\n\nClip values between 30 and 40:\nAlice      30.0\nBob        30.0\nCharlie    35.0\nDavid       NaN\nEve        40.0\nFrank      40.0\nGrace      30.0\nHenry      30.0\nIvy         NaN\nJack       40.0\ndtype: float64\n\nDrop duplicates (keep='first'):\nAlice      25.0\nBob        30.0\nCharlie    35.0\nDavid       NaN\nEve        40.0\nFrank      45.0\nJack       50.0\ndtype: float64\n\nDrop duplicates (keep='last'):\nCharlie    35.0\nEve        40.0\nFrank      45.0\nGrace      25.0\nHenry      30.0\nIvy         NaN\nJack       50.0\ndtype: float64\n\nCheck for duplicates:\nAlice      False\nBob        False\nCharlie    False\nDavid      False\nEve        False\nFrank      False\nGrace       True\nHenry       True\nIvy         True\nJack       False\ndtype: bool\n\nTotal duplicate values:\n3\n\nCheck for missing values:\nAlice      False\nBob        False\nCharlie    False\nDavid       True\nEve        False\nFrank      False\nGrace      False\nHenry      False\nIvy         True\nJack       False\ndtype: bool\n\nTotal number of missing values:\n2\n\nCount of non-missing values in Series:\n8\n\nDrop missing values:\nAlice      25.0\nBob        30.0\nCharlie    35.0\nEve        40.0\nFrank      45.0\nGrace      25.0\nHenry      30.0\nJack       50.0\ndtype: float64\n\nFill missing values with 0:\nAlice      25.0\nBob        30.0\nCharlie    35.0\nDavid       0.0\nEve        40.0\nFrank      45.0\nGrace      25.0\nHenry      30.0\nIvy         0.0\nJack       50.0\ndtype: float64\n\nFill missing values with mean:\nAlice      25.0\nBob        30.0\nCharlie    35.0\nDavid      35.0\nEve        40.0\nFrank      45.0\nGrace      25.0\nHenry      30.0\nIvy        35.0\nJack       50.0\ndtype: float64\n\nCheck for values [25, 30, 50]:\nAlice       True\nBob         True\nCharlie    False\nDavid      False\nEve        False\nFrank      False\nGrace       True\nHenry       True\nIvy        False\nJack        True\ndtype: bool\n\nApply custom function (add 5 to each value):\nAlice      30.0\nBob        35.0\nCharlie    40.0\nDavid       NaN\nEve        45.0\nFrank      50.0\nGrace      30.0\nHenry      35.0\nIvy         NaN\nJack       55.0\ndtype: float64\n",
                    "output_type": "stream"
                }
            ],
            "execution_count": 3
        },
        {
            "cell_type": "markdown",
            "source": [
                "### **Pandas Series and DataFrame Methods and Attributes**\n",
                "\n",
                "| Method/Attribute         | Syntax                             | Return Type             | Input Parameters                  | In-place or Copy | One Line Explainer                                           | Peculiarities/Considerations                    |\n",
                "|--------------------------|------------------------------------|-------------------------|-----------------------------------|------------------|-------------------------------------------------------------|------------------------------------------------|\n",
                "| **Memory and Size Operations**                                                                                                                                                                                |\n",
                "| `getsizeof()`            | `sys.getsizeof(series/df)`         | `int`                   | None                              | N/A              | Returns the size of the Series/DataFrame in bytes            | Needs `import sys`                             |\n",
                "| `size`                   | `series.size` / `df.size`          | `int`                   | None                              | N/A              | Total number of elements in Series/DataFrame                | Total number of elements including NaNs        |\n",
                "| **Data Type Conversion**                                                                                                                                                                                      |\n",
                "| `astype()`               | `series.astype(dtype)` / `df.astype(dtype)` | `Series`/`DataFrame` | `dtype` (e.g., `int`, `float`)    | Copy             | Converts Series/DataFrame to the specified data type        | Useful for ensuring consistent data types      |\n",
                "| **Value Range Operations**                                                                                                                                                                                    |\n",
                "| `between()`              | `series.between(left, right)`      | `Series` (bool)         | `left`, `right` (numeric)         | Copy             | Checks if values fall between `left` and `right`            | Useful for range filtering                     |\n",
                "| `clip()`                 | `series.clip(lower, upper)` / `df.clip(lower, upper)` | `Series`/`DataFrame` | `lower`, `upper` (numeric) | Copy             | Limits values to specified range                            | Helps in capping outlier values                |\n",
                "| **Duplicate and Missing Data Handling**                                                                                                                                                                        |\n",
                "| `drop_duplicates()`      | `series.drop_duplicates()` / `df.drop_duplicates()` | `Series`/`DataFrame` | `keep` (`'first'`, `'last'`, False) | Copy | Removes duplicate values/rows                              | Can specify which duplicate to keep/remove     |\n",
                "| `duplicated()`           | `series.duplicated()` / `df.duplicated()` | `Series` (bool) | `keep` (`'first'`, `'last'`, False) | Copy | Returns boolean Series indicating duplicates/duplicate rows | Helps identify duplicate entries               |\n",
                "| `isnull()`               | `series.isnull()` / `df.isnull()`  | `Series`/`DataFrame` (bool) | None                           | Copy             | Checks for missing values                                   | Used for missing data analysis                 |\n",
                "| `count()`                | `series.count()` / `df.count()`    | `int`/`Series`          | None                              | Copy             | Counts non-missing values                                    | Excludes NaNs                                  |\n",
                "| `dropna()`               | `series.dropna()` / `df.dropna()`  | `Series`/`DataFrame`    | None                              | Copy             | Removes missing values/rows                                 | Cleans NaNs from Series/DataFrame              |\n",
                "| `fillna()`               | `series.fillna(value)` / `df.fillna(value)` | `Series`/`DataFrame` | `value`                          | Copy             | Fills missing values with specified value                   | Useful for data imputation                     |\n",
                "| **Membership and Custom Operations**                                                                                                                                                                           |\n",
                "| `isin()`                 | `series.isin(values)` / `df.isin(values)` | `Series`/`DataFrame` (bool) | `values` (list-like)       | Copy             | Checks for membership in `values`                           | Useful for filtering specific values           |\n",
                "| `apply()`                | `series.apply(func)` / `df.apply(func)` | `Series`/`DataFrame` | `func` (function)                | Copy             | Applies a function element-wise or along a particular axis  | Great for custom operations                    |\n",
                "\n",
                "#### Note (Series):\n",
                "1. `between(), duplicated(), isnull() and isin()` : <mark>**returns Series (bool)**</mark>\n",
                "2. `count(), getsizeof() and size` : <mark>**returns int**</mark>\n",
                "3. Balance all returns Series\n",
                "\n",
                "#### Note (DataFrame):\n",
                "1. <mark>**`between() does not work at DataFrame level`**</mark> however can work on DataFrame columns\n",
                "2. `isnull() and isin()` : <mark>**returns DataFrame (bool)**</mark>\n",
                "3. `between()and duplicated()` : <mark>**returns Series (bool)**</mark> // Same as for Series data structure\n",
                "3. `getsizeof() and size` : <mark>**returns int**</mark>\n",
                "3. `count()` : <mark>**returns Series**</mark>\n",
                "4. Balance all returns DataFrame\n",
                "\n",
                ""
            ],
            "metadata": {
                "azdata_cell_guid": "aa531b06-6f90-4c52-9d1e-81eeaa586995"
            },
            "attachments": {}
        },
        {
            "cell_type": "code",
            "source": [
                "### Sample Program to Demonstrate Methods\n",
                "\n",
                "import pandas as pd\n",
                "import numpy as np\n",
                "import sys\n",
                "\n",
                "# Sample data\n",
                "data = {\n",
                "    'Name': ['Alice', 'Bob', 'Charlie', 'David', 'Eve', \n",
                "                'Frank', 'Grace', 'Henry', 'Ivy', 'Jack'],\n",
                "    'Age': [25, 30, 35, np.nan, 40, 45, 25, 30, np.nan, 50]\n",
                "}\n",
                "\n",
                "# Creating the DataFrame\n",
                "df = pd.DataFrame(data)\n",
                "series = df['Age']\n",
                "\n",
                "# Display the DataFrame and Series\n",
                "print(\"Initial DataFrame:\")\n",
                "print(df)\n",
                "print(\"\\nInitial Series:\")\n",
                "print(series)\n",
                "\n",
                "# Memory and Size Operations\n",
                "print(\"\\nSize of the DataFrame (in bytes):\")\n",
                "print(sys.getsizeof(df))\n",
                "print(\"Size of the Series (in bytes):\")\n",
                "print(sys.getsizeof(series))\n",
                "\n",
                "print(\"\\nTotal number of elements in DataFrame:\")\n",
                "print(df.size)\n",
                "print(\"Total number of elements in Series:\")\n",
                "print(series.size)\n",
                "\n",
                "# Data Type Conversion\n",
                "print(\"\\nConvert Series to float:\")\n",
                "print(series.astype(float))\n",
                "print(\"\\nConvert DataFrame 'Age' column to float:\")\n",
                "print(df['Age'].astype(float))\n",
                "\n",
                "# Value Range Operations\n",
                "print(\"\\nValues in Series between 30 and 45:\")\n",
                "print(series.between(30, 45))\n",
                "print(\"\\nValues in DataFrame 'Age' column between 30 and 45:\")\n",
                "print(df['Age'].between(30, 45))\n",
                "\n",
                "print(\"\\nClip values in Series between 30 and 40:\")\n",
                "print(series.clip(30, 40))\n",
                "print(\"\\nClip values in DataFrame 'Age' column between 30 and 40:\")\n",
                "print(df['Age'].clip(30, 40))\n",
                "\n",
                "# Duplicate and Missing Data Handling\n",
                "print(\"\\nDrop duplicates in Series (keep='first'):\")\n",
                "print(series.drop_duplicates(keep='first'))\n",
                "print(\"\\nDrop duplicates in DataFrame (keep='first'):\")\n",
                "print(df.drop_duplicates(keep='first'))\n",
                "\n",
                "print(\"\\nCheck for duplicates in Series:\")\n",
                "print(series.duplicated())\n",
                "print(\"\\nCheck for duplicates in DataFrame:\")\n",
                "print(df.duplicated())\n",
                "\n",
                "print(\"\\nTotal duplicate values in Series:\")\n",
                "print(series.duplicated().sum())\n",
                "print(\"\\nTotal duplicate rows in DataFrame:\")\n",
                "print(df.duplicated().sum())\n",
                "\n",
                "print(\"\\nCheck for missing values in Series:\")\n",
                "print(series.isnull())\n",
                "print(\"\\nCheck for missing values in DataFrame:\")\n",
                "print(df.isnull())\n",
                "\n",
                "print(\"\\nTotal number of missing values in Series:\")\n",
                "print(series.isnull().sum())\n",
                "print(\"\\nTotal number of missing values in DataFrame:\")\n",
                "print(df.isnull().sum())\n",
                "\n",
                "print(\"\\nCount of non-missing values in Series:\")\n",
                "print(series.count())\n",
                "print(\"\\nCount of non-missing values in each column of DataFrame:\")\n",
                "print(df.count())\n",
                "\n",
                "print(\"\\nDrop missing values in Series:\")\n",
                "print(series.dropna())\n",
                "print(\"\\nDrop missing values in DataFrame:\")\n",
                "print(df.dropna())\n",
                "\n",
                "print(\"\\nFill missing values with 0 in Series:\")\n",
                "print(series.fillna(0))\n",
                "print(\"\\nFill missing values with 0 in DataFrame 'Age' column:\")\n",
                "print(df['Age'].fillna(0))\n",
                "\n",
                "print(\"\\nFill missing values with mean in Series:\")\n",
                "print(series.fillna(series.mean()))\n",
                "print(\"\\nFill missing values with mean in DataFrame 'Age' column:\")\n",
                "print(df['Age'].fillna(df['Age'].mean()))\n",
                "\n",
                "# Membership and Custom Operations\n",
                "print(\"\\nCheck for values [25, 30, 50] in Series:\")\n",
                "print(series.isin([25, 30, 50]))\n",
                "print(\"\\nCheck for names ['Alice', 'Bob', 'Eve'] in DataFrame 'Name' column:\")\n",
                "print(df['Name'].isin(['Alice', 'Bob', 'Eve']))\n",
                "\n",
                "print(\"\\nApply custom function (add 5 to each value) in Series:\")\n",
                "print(series.apply(lambda x: x + 5))\n",
                "print(\"\\nApply custom function (add 5 to 'Age' column) in DataFrame:\")\n",
                "print(df['Age'].apply(lambda x: x + 5))\n",
                ""
            ],
            "metadata": {
                "azdata_cell_guid": "04146fa9-33a0-4f88-af53-909158657c13",
                "language": "python"
            },
            "outputs": [
                {
                    "name": "stdout",
                    "text": "Initial DataFrame:\n      Name   Age\n0    Alice  25.0\n1      Bob  30.0\n2  Charlie  35.0\n3    David   NaN\n4      Eve  40.0\n5    Frank  45.0\n6    Grace  25.0\n7    Henry  30.0\n8      Ivy   NaN\n9     Jack  50.0\n\nInitial Series:\n0    25.0\n1    30.0\n2    35.0\n3     NaN\n4    40.0\n5    45.0\n6    25.0\n7    30.0\n8     NaN\n9    50.0\nName: Age, dtype: float64\n\nSize of the DataFrame (in bytes):\n839\nSize of the Series (in bytes):\n224\n\nTotal number of elements in DataFrame:\n20\nTotal number of elements in Series:\n10\n\nConvert Series to float:\n0    25.0\n1    30.0\n2    35.0\n3     NaN\n4    40.0\n5    45.0\n6    25.0\n7    30.0\n8     NaN\n9    50.0\nName: Age, dtype: float64\n\nConvert DataFrame 'Age' column to float:\n0    25.0\n1    30.0\n2    35.0\n3     NaN\n4    40.0\n5    45.0\n6    25.0\n7    30.0\n8     NaN\n9    50.0\nName: Age, dtype: float64\n\nValues in Series between 30 and 45:\n0    False\n1     True\n2     True\n3    False\n4     True\n5     True\n6    False\n7     True\n8    False\n9    False\nName: Age, dtype: bool\n\nValues in DataFrame 'Age' column between 30 and 45:\n0    False\n1     True\n2     True\n3    False\n4     True\n5     True\n6    False\n7     True\n8    False\n9    False\nName: Age, dtype: bool\n\nClip values in Series between 30 and 40:\n0    30.0\n1    30.0\n2    35.0\n3     NaN\n4    40.0\n5    40.0\n6    30.0\n7    30.0\n8     NaN\n9    40.0\nName: Age, dtype: float64\n\nClip values in DataFrame 'Age' column between 30 and 40:\n0    30.0\n1    30.0\n2    35.0\n3     NaN\n4    40.0\n5    40.0\n6    30.0\n7    30.0\n8     NaN\n9    40.0\nName: Age, dtype: float64\n\nDrop duplicates in Series (keep='first'):\n0    25.0\n1    30.0\n2    35.0\n3     NaN\n4    40.0\n5    45.0\n9    50.0\nName: Age, dtype: float64\n\nDrop duplicates in DataFrame (keep='first'):\n      Name   Age\n0    Alice  25.0\n1      Bob  30.0\n2  Charlie  35.0\n3    David   NaN\n4      Eve  40.0\n5    Frank  45.0\n6    Grace  25.0\n7    Henry  30.0\n8      Ivy   NaN\n9     Jack  50.0\n\nCheck for duplicates in Series:\n0    False\n1    False\n2    False\n3    False\n4    False\n5    False\n6     True\n7     True\n8     True\n9    False\nName: Age, dtype: bool\n\nCheck for duplicates in DataFrame:\n0    False\n1    False\n2    False\n3    False\n4    False\n5    False\n6    False\n7    False\n8    False\n9    False\ndtype: bool\n\nTotal duplicate values in Series:\n3\n\nTotal duplicate rows in DataFrame:\n0\n\nCheck for missing values in Series:\n0    False\n1    False\n2    False\n3     True\n4    False\n5    False\n6    False\n7    False\n8     True\n9    False\nName: Age, dtype: bool\n\nCheck for missing values in DataFrame:\n    Name    Age\n0  False  False\n1  False  False\n2  False  False\n3  False   True\n4  False  False\n5  False  False\n6  False  False\n7  False  False\n8  False   True\n9  False  False\n\nTotal number of missing values in Series:\n2\n\nTotal number of missing values in DataFrame:\nName    0\nAge     2\ndtype: int64\n\nCount of non-missing values in Series:\n8\n\nCount of non-missing values in each column of DataFrame:\nName    10\nAge      8\ndtype: int64\n\nDrop missing values in Series:\n0    25.0\n1    30.0\n2    35.0\n4    40.0\n5    45.0\n6    25.0\n7    30.0\n9    50.0\nName: Age, dtype: float64\n\nDrop missing values in DataFrame:\n      Name   Age\n0    Alice  25.0\n1      Bob  30.0\n2  Charlie  35.0\n4      Eve  40.0\n5    Frank  45.0\n6    Grace  25.0\n7    Henry  30.0\n9     Jack  50.0\n\nFill missing values with 0 in Series:\n0    25.0\n1    30.0\n2    35.0\n3     0.0\n4    40.0\n5    45.0\n6    25.0\n7    30.0\n8     0.0\n9    50.0\nName: Age, dtype: float64\n\nFill missing values with 0 in DataFrame 'Age' column:\n0    25.0\n1    30.0\n2    35.0\n3     0.0\n4    40.0\n5    45.0\n6    25.0\n7    30.0\n8     0.0\n9    50.0\nName: Age, dtype: float64\n\nFill missing values with mean in Series:\n0    25.0\n1    30.0\n2    35.0\n3    35.0\n4    40.0\n5    45.0\n6    25.0\n7    30.0\n8    35.0\n9    50.0\nName: Age, dtype: float64\n\nFill missing values with mean in DataFrame 'Age' column:\n0    25.0\n1    30.0\n2    35.0\n3    35.0\n4    40.0\n5    45.0\n6    25.0\n7    30.0\n8    35.0\n9    50.0\nName: Age, dtype: float64\n\nCheck for values [25, 30, 50] in Series:\n0     True\n1     True\n2    False\n3    False\n4    False\n5    False\n6     True\n7     True\n8    False\n9     True\nName: Age, dtype: bool\n\nCheck for names ['Alice', 'Bob', 'Eve'] in DataFrame 'Name' column:\n0     True\n1     True\n2    False\n3    False\n4     True\n5    False\n6    False\n7    False\n8    False\n9    False\nName: Name, dtype: bool\n\nApply custom function (add 5 to each value) in Series:\n0    30.0\n1    35.0\n2    40.0\n3     NaN\n4    45.0\n5    50.0\n6    30.0\n7    35.0\n8     NaN\n9    55.0\nName: Age, dtype: float64\n\nApply custom function (add 5 to 'Age' column) in DataFrame:\n0    30.0\n1    35.0\n2    40.0\n3     NaN\n4    45.0\n5    50.0\n6    30.0\n7    35.0\n8     NaN\n9    55.0\nName: Age, dtype: float64\n",
                    "output_type": "stream"
                }
            ],
            "execution_count": 5
        },
        {
            "cell_type": "markdown",
            "source": [
                "### **Differences Between Pandas Series and DataFrame**\n",
                "\n",
                "| Feature                   | Series                                           | DataFrame                                     |\n",
                "|---------------------------|--------------------------------------------------|-----------------------------------------------|\n",
                "| **Definition**            | One-dimensional labeled array                    | Two-dimensional labeled data structure        |\n",
                "| **Data Structure**        | Single column of data                            | Multiple columns of data                      |\n",
                "| **Creation**              | `pd.Series(data)`                                | `pd.DataFrame(data)`                          |\n",
                "| **Dimensionality**        | 1D (one-dimensional)                             | 2D (two-dimensional)                          |\n",
                "| **Index**                 | <mark>Single index </mark>                                     | <mark>Row index and column index </mark>                   |\n",
                "| **Accessing Data**        | Using single index                               | Using row and column index                    |\n",
                "| **Element Access**        | <mark>`series[index]` </mark>                                 | <mark>`df['column_name'][index]` or `df.at[index, 'column_name']`</mark> |\n",
                "| **Operations**            | <mark>Element-wise operations  </mark>                        | <mark>Element-wise operations and matrix-like operations</mark> |\n",
                "| **Methods**               | Many methods specific to Series                  | <mark>Additional methods for handling multiple columns</mark> |\n",
                "| **Common Methods**        | `head()`, `tail()`, `mean()`, `std()`, etc.      | `head()`, `tail()`, `mean()`, `std()`, etc.   |\n",
                "| **Shape**                 | `(n,)` (e.g., (10,))                             | `(n, m)` (e.g., (10, 5))                      |\n",
                "| **Memory Usage**          | Generally uses <mark>less memory</mark> compared to DataFrame | Generally uses <mark>more memory</mark>                    |\n",
                "| **Application**           | <mark>Ideal for single column of data or time series</mark>   | Ideal for tabular data with multiple columns  |\n",
                "| **Example Creation**      | `pd.Series([1, 2, 3], index=['a', 'b', 'c'])`    | `pd.DataFrame({'A': [1, 2], 'B': [3, 4]})`    |\n",
                "| **Additional Features**   |<mark> Can have name attribute for the Series  </mark>         | <mark>Can have multiple dtypes across different columns</mark> |\n",
                ""
            ],
            "metadata": {
                "azdata_cell_guid": "69b8ae05-c254-4789-8e1c-d43c99009cb7"
            },
            "attachments": {}
        },
        {
            "cell_type": "code",
            "source": [
                "import pandas as pd\n",
                "\n",
                "# Creating a Series\n",
                "series = pd.Series([25, 30, 35, 40], index=['Alice', 'Bob', 'Charlie', 'David'])\n",
                "\n",
                "# Creating a DataFrame\n",
                "data = {\n",
                "    'Name': ['Alice', 'Bob', 'Charlie', 'David'],\n",
                "    'Age': [25, 30, 35, 40],\n",
                "    'City': ['New York', 'Los Angeles', 'Chicago', 'Houston']\n",
                "}\n",
                "df = pd.DataFrame(data)\n",
                "\n",
                "# Display the Series\n",
                "print(\"Pandas Series:\")\n",
                "print(series)\n",
                "\n",
                "# Display the DataFrame\n",
                "print(\"\\nPandas DataFrame:\")\n",
                "print(df)\n",
                "\n",
                "# Accessing data in Series\n",
                "print(\"\\nAccessing data in Series (series['Alice']):\")\n",
                "print(series['Alice'])\n",
                "\n",
                "# Accessing data in DataFrame\n",
                "print(\"\\nAccessing data in DataFrame (df['Age']):\")\n",
                "print(df['Age'])\n",
                "\n",
                "print(\"\\nAccessing data in DataFrame (df.at[0, 'Name']):\")\n",
                "print(df.at[0, 'Name'])\n",
                "\n",
                "# Operations on Series\n",
                "print(\"\\nSeries mean (series.mean()):\")\n",
                "print(series.mean())\n",
                "\n",
                "# Operations on DataFrame\n",
                "print(\"\\nDataFrame mean (df.mean()):\")\n",
                "print(df.mean())\n",
                ""
            ],
            "metadata": {
                "azdata_cell_guid": "e4f749dd-5584-4d38-8f38-83d9bf40f8d8",
                "language": "python"
            },
            "outputs": [
                {
                    "name": "stdout",
                    "text": "Pandas Series:\nAlice      25\nBob        30\nCharlie    35\nDavid      40\ndtype: int64\n\nPandas DataFrame:\n      Name  Age         City\n0    Alice   25     New York\n1      Bob   30  Los Angeles\n2  Charlie   35      Chicago\n3    David   40      Houston\n\nAccessing data in Series (series['Alice']):\n25\n\nAccessing data in DataFrame (df['Age']):\n0    25\n1    30\n2    35\n3    40\nName: Age, dtype: int64\n\nAccessing data in DataFrame (df.at[0, 'Name']):\nAlice\n\nSeries mean (series.mean()):\n32.5\n\nDataFrame mean (df.mean()):\nAge    32.5\ndtype: float64\n",
                    "output_type": "stream"
                },
                {
                    "name": "stderr",
                    "text": "<ipython-input-7-8e57211909fc>:39: FutureWarning: The default value of numeric_only in DataFrame.mean is deprecated. In a future version, it will default to False. In addition, specifying 'numeric_only=None' is deprecated. Select only valid columns or specify the value of numeric_only to silence this warning.\n  print(df.mean())\n",
                    "output_type": "stream"
                }
            ],
            "execution_count": 7
        },
        {
            "cell_type": "markdown",
            "source": [
                "#### Plotting Graphs with Pandas Series"
            ],
            "metadata": {
                "azdata_cell_guid": "738b0b0e-8092-4377-9b3c-d1b6ad3262ee"
            },
            "attachments": {}
        },
        {
            "cell_type": "code",
            "source": [
                "import pandas as pd\n",
                "import matplotlib.pyplot as plt\n",
                "\n",
                "# Sample data: Number of books read by different people in a month\n",
                "data = {\n",
                "    'Alice': 5,\n",
                "    'Bob': 3,\n",
                "    'Charlie': 8,\n",
                "    'David': 6,\n",
                "    'Eve': 2,\n",
                "    'Frank': 4,\n",
                "    'Grace': 7,\n",
                "    'Henry': 5,\n",
                "    'Ivy': 3,\n",
                "    'Jack': 6,\n",
                "    'Karen': 8,\n",
                "    'Leo': 9,\n",
                "    'Mona': 3,\n",
                "    'Nina': 4,\n",
                "    'Oscar': 2,\n",
                "    'Paul': 1,\n",
                "    'Quincy': 7,\n",
                "    'Rita': 6,\n",
                "    'Steve': 5,\n",
                "    'Tina': 4\n",
                "}\n",
                "\n",
                "# Creating a Series\n",
                "books_series = pd.Series(data)\n",
                "\n",
                "# Display the Series\n",
                "print(\"Books read by different people in a month:\")\n",
                "print(books_series)\n",
                "\n",
                "# Line plot of the Series\n",
                "books_series.plot()\n",
                "plt.title('Number of Books Read by Different People')\n",
                "plt.xlabel('People')\n",
                "plt.ylabel('Number of Books Read')\n",
                "plt.grid(True)\n",
                "plt.show()\n",
                "\n",
                "# Bar plot of the top 10 most common values\n",
                "books_series.value_counts().head(10).plot(kind='bar')\n",
                "plt.title('Top 10 Most Common Number of Books Read')\n",
                "plt.xlabel('Number of Books Read')\n",
                "plt.ylabel('Frequency')\n",
                "plt.grid(True)\n",
                "plt.show()\n",
                "\n",
                "# Pie plot of the top 10 most common values\n",
                "books_series.value_counts().head(10).plot(kind='pie', autopct='%1.1f%%')\n",
                "plt.title('Top 10 Most Common Number of Books Read')\n",
                "plt.ylabel('')  # Pie chart doesn't need a y-label\n",
                "plt.show()\n",
                "\n",
                "# Histogram of the Series\n",
                "books_series.plot(kind='hist', bins=5, rwidth=0.8)\n",
                "plt.title('Distribution of Number of Books Read')\n",
                "plt.xlabel('Number of Books Read')\n",
                "plt.ylabel('Frequency')\n",
                "plt.grid(True)\n",
                "plt.show()\n",
                "\n",
                "# Box plot of the Series\n",
                "books_series.plot(kind='box')\n",
                "plt.title('Box Plot of Number of Books Read')\n",
                "plt.ylabel('Number of Books Read')\n",
                "plt.grid(True)\n",
                "plt.show()\n",
                ""
            ],
            "metadata": {
                "azdata_cell_guid": "73b404ca-f63d-48a6-a460-cd01393289a9",
                "language": ""
            },
            "outputs": [
                {
                    "name": "stdout",
                    "text": "Books read by different people in a month:\nAlice      5\nBob        3\nCharlie    8\nDavid      6\nEve        2\nFrank      4\nGrace      7\nHenry      5\nIvy        3\nJack       6\nKaren      8\nLeo        9\nMona       3\nNina       4\nOscar      2\nPaul       1\nQuincy     7\nRita       6\nSteve      5\nTina       4\ndtype: int64\n",
                    "output_type": "stream"
                },
                {
                    "data": {
                        "text/plain": "<Figure size 432x288 with 1 Axes>",
                        "image/png": "[encoded data removed]"
                    },
                    "metadata": {
                        "needs_background": "light"
                    },
                    "output_type": "display_data"
                },
                {
                    "data": {
                        "text/plain": "<Figure size 432x288 with 1 Axes>",
                        "image/png": "[encoded data removed]"
                    },
                    "metadata": {
                        "needs_background": "light"
                    },
                    "output_type": "display_data"
                },
                {
                    "data": {
                        "text/plain": "<Figure size 432x288 with 1 Axes>",
                        "image/png": "[encoded data removed]"
                    },
                    "metadata": {},
                    "output_type": "display_data"
                },
                {
                    "data": {
                        "text/plain": "<Figure size 432x288 with 1 Axes>",
                        "image/png": "[encoded data removed]"
                    },
                    "metadata": {
                        "needs_background": "light"
                    },
                    "output_type": "display_data"
                },
                {
                    "data": {
                        "text/plain": "<Figure size 432x288 with 1 Axes>",
                        "image/png": "[encoded data removed]"
                    },
                    "metadata": {
                        "needs_background": "light"
                    },
                    "output_type": "display_data"
                }
            ],
            "execution_count": 8
        },
        {
            "cell_type": "markdown",
            "source": [
                "### **Plotting Graphs with Pandas DataFrame**"
            ],
            "metadata": {
                "azdata_cell_guid": "1bc41a97-b37a-47f0-bcb1-5fb23cdf0a64"
            },
            "attachments": {}
        },
        {
            "cell_type": "code",
            "source": [
                "import pandas as pd\n",
                "import matplotlib.pyplot as plt\n",
                "\n",
                "# Sample data: Number of books read by different people in a month, \n",
                "# along with ages and cities\n",
                "data = {\n",
                "    'Name': ['Alice', 'Bob', 'Charlie', 'David', 'Eve', 'Frank', 'Grace', \n",
                "                'Henry', 'Ivy', 'Jack', 'Karen', 'Leo', 'Mona', 'Nina', \n",
                "                'Oscar', 'Paul', 'Quincy', 'Rita', 'Steve', 'Tina'],\n",
                "    'Books Read': [5, 3, 8, 6, 2, 4, 7, 5, 3, 6, 8, 9, 3, 4, 2, 1, 7, 6, 5, 4],\n",
                "    'Age': [23, 34, 25, 45, 29, 33, 31, 42, 21, 37, 28, 30, 26, 35, 32, 24, 39, 43, 40, 38],\n",
                "    'City': ['New York', 'Los Angeles', 'Chicago', 'Houston', 'Phoenix', 'Philadelphia', \n",
                "            'San Antonio', 'San Diego', 'Dallas', 'San Jose', 'Austin', 'Jacksonville', \n",
                "            'San Francisco', 'Columbus', 'Charlotte', 'Fort Worth', 'Indianapolis', \n",
                "            'Seattle', 'Denver', 'Washington']\n",
                "}\n",
                "\n",
                "# Creating a DataFrame\n",
                "df = pd.DataFrame(data)\n",
                "\n",
                "# Display the DataFrame\n",
                "print(\"DataFrame containing information about books read, age, and city:\")\n",
                "print(df)\n",
                "\n",
                "# Line plot of the DataFrame\n",
                "df.plot(x='Name', y='Books Read', kind='line')\n",
                "plt.title('Number of Books Read by Different People')\n",
                "plt.xlabel('People')\n",
                "plt.ylabel('Number of Books Read')\n",
                "plt.grid(True)\n",
                "plt.xticks(rotation=90)\n",
                "plt.show()\n",
                "\n",
                "# Bar plot of the top 10 most common cities\n",
                "df['City'].value_counts().head(10).plot(kind='bar')\n",
                "plt.title('Top 10 Most Common Cities')\n",
                "plt.xlabel('City')\n",
                "plt.ylabel('Frequency')\n",
                "plt.grid(True)\n",
                "plt.xticks(rotation=45)\n",
                "plt.show()\n",
                "\n",
                "# Pie plot of the top 10 most common cities\n",
                "df['City'].value_counts().head(10).plot(kind='pie', autopct='%1.1f%%')\n",
                "plt.title('Top 10 Most Common Cities')\n",
                "plt.ylabel('')  # Pie chart doesn't need a y-label\n",
                "plt.show()\n",
                "\n",
                "# Histogram of the 'Books Read' column\n",
                "df['Books Read'].plot(kind='hist', bins=5, rwidth=0.8)\n",
                "plt.title('Distribution of Number of Books Read')\n",
                "plt.xlabel('Number of Books Read')\n",
                "plt.ylabel('Frequency')\n",
                "plt.grid(True)\n",
                "plt.show()\n",
                "\n",
                "# Box plot of the 'Books Read' column\n",
                "df['Books Read'].plot(kind='box')\n",
                "plt.title('Box Plot of Number of Books Read')\n",
                "plt.ylabel('Number of Books Read')\n",
                "plt.grid(True)\n",
                "plt.show()\n",
                "\n",
                "# Scatter plot of 'Age' vs 'Books Read'\n",
                "df.plot(kind='scatter', x='Age', y='Books Read')\n",
                "plt.title('Age vs Number of Books Read')\n",
                "plt.xlabel('Age')\n",
                "plt.ylabel('Number of Books Read')\n",
                "plt.grid(True)\n",
                "plt.show()\n",
                ""
            ],
            "metadata": {
                "azdata_cell_guid": "600fcc47-edb6-4313-b9eb-9c68b0699ae0",
                "language": "python"
            },
            "outputs": [
                {
                    "name": "stdout",
                    "text": "DataFrame containing information about books read, age, and city:\n       Name  Books Read  Age           City\n0     Alice           5   23       New York\n1       Bob           3   34    Los Angeles\n2   Charlie           8   25        Chicago\n3     David           6   45        Houston\n4       Eve           2   29        Phoenix\n5     Frank           4   33   Philadelphia\n6     Grace           7   31    San Antonio\n7     Henry           5   42      San Diego\n8       Ivy           3   21         Dallas\n9      Jack           6   37       San Jose\n10    Karen           8   28         Austin\n11      Leo           9   30   Jacksonville\n12     Mona           3   26  San Francisco\n13     Nina           4   35       Columbus\n14    Oscar           2   32      Charlotte\n15     Paul           1   24     Fort Worth\n16   Quincy           7   39   Indianapolis\n17     Rita           6   43        Seattle\n18    Steve           5   40         Denver\n19     Tina           4   38     Washington\n",
                    "output_type": "stream"
                },
                {
                    "data": {
                        "text/plain": "<Figure size 432x288 with 1 Axes>",
                        "image/png": "[encoded data removed]"
                    },
                    "metadata": {
                        "needs_background": "light"
                    },
                    "output_type": "display_data"
                },
                {
                    "data": {
                        "text/plain": "<Figure size 432x288 with 1 Axes>",
                        "image/png": "[encoded data removed]"
                    },
                    "metadata": {
                        "needs_background": "light"
                    },
                    "output_type": "display_data"
                },
                {
                    "data": {
                        "text/plain": "<Figure size 432x288 with 1 Axes>",
                        "image/png": "[encoded data removed]"
                    },
                    "metadata": {},
                    "output_type": "display_data"
                },
                {
                    "data": {
                        "text/plain": "<Figure size 432x288 with 1 Axes>",
                        "image/png": "[encoded data removed]"
                    },
                    "metadata": {
                        "needs_background": "light"
                    },
                    "output_type": "display_data"
                },
                {
                    "data": {
                        "text/plain": "<Figure size 432x288 with 1 Axes>",
                        "image/png": "[encoded data removed]"
                    },
                    "metadata": {
                        "needs_background": "light"
                    },
                    "output_type": "display_data"
                },
                {
                    "data": {
                        "text/plain": "<Figure size 432x288 with 1 Axes>",
                        "image/png": "[encoded data removed]"
                    },
                    "metadata": {
                        "needs_background": "light"
                    },
                    "output_type": "display_data"
                }
            ],
            "execution_count": 9
        }
    ]
}