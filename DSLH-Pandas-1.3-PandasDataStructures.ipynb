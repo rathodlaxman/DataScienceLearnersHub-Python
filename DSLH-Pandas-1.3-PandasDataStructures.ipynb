{
    "metadata": {
        "kernelspec": {
            "name": "python3",
            "display_name": "Python 3",
            "language": "python"
        },
        "language_info": {
            "name": "python",
            "version": "3.10.9",
            "mimetype": "text/x-python",
            "codemirror_mode": {
                "name": "ipython",
                "version": 3
            },
            "pygments_lexer": "ipython3",
            "nbconvert_exporter": "python",
            "file_extension": ".py"
        }
    },
    "nbformat_minor": 2,
    "nbformat": 4,
    "cells": [
        {
            "cell_type": "markdown",
            "source": [
                "# **`Data Science Learners Hub`**\n",
                "\n",
                "**Module : Python**\n",
                "\n",
                "**email** : [datasciencelearnershub@gmail.com](mailto:datasciencelearnershub@gmail.com)"
            ],
            "metadata": {
                "azdata_cell_guid": "662a1784-af9f-4cef-8961-02b80c3bcf5a"
            },
            "attachments": {}
        },
        {
            "cell_type": "markdown",
            "source": [
                "## **`#1: Introduction to Pandas`**\n",
                "1. **Overview of Pandas**\n",
                "   - What is Pandas?\n",
                "   - Why use Pandas for data analysis?\n",
                "\n",
                "2. **Installation and Setup**\n",
                "   - Installing Pandas\n",
                "   - Importing Pandas in a Python environment\n",
                "\n",
                "3. **Pandas Data Structures**\n",
                "   - Series\n",
                "   - DataFrame"
            ],
            "metadata": {
                "azdata_cell_guid": "22013ce2-bcc5-4c13-9e28-ed13e3e3c1a9"
            },
            "attachments": {}
        },
        {
            "cell_type": "markdown",
            "source": [
                "### **`3. Pandas Data Structures`**"
            ],
            "metadata": {
                "azdata_cell_guid": "c38aaaaf-1444-425e-acd6-8bb6aca32739"
            },
            "attachments": {}
        },
        {
            "cell_type": "markdown",
            "source": [
                "\n",
                "#### `Pandas Series`\n",
                "\n",
                "**Definition:**\n",
                "A Pandas Series is a one-dimensional labeled array capable of holding any data type. It is a fundamental data structure in Pandas and provides a labeled index to access and manipulate data. Unlike a NumPy array, a Pandas Series can hold data of different types.\n",
                "\n",
                "**Differences from Other Data Structures:**\n",
                "\n",
                "1. **NumPy Array:**\n",
                "   - A Pandas Series is conceptually similar to a NumPy array but is augmented with labels, giving it more flexibility.\n",
                "   - While NumPy arrays have an implicitly defined integer index, Pandas Series has an explicitly defined index associated with each element.\n",
                "\n",
                "2. **Python List:**\n",
                "   - In contrast to Python lists, a Pandas Series can have a custom index, enabling more expressive and meaningful data representation.\n",
                "   - Series allows for more efficient data manipulation and provides additional functionalities for data analysis.\n",
                ""
            ],
            "metadata": {
                "azdata_cell_guid": "7448a416-d836-4ee1-8ef6-2708ef57a056"
            },
            "attachments": {}
        },
        {
            "cell_type": "markdown",
            "source": [
                "**Creation of Series:**\n",
                ""
            ],
            "metadata": {
                "azdata_cell_guid": "c1f4d035-2bd5-49d7-b43a-961f60ecfa7f"
            },
            "attachments": {}
        },
        {
            "cell_type": "markdown",
            "source": [
                "1. **From a List:**\n",
                "   - You can create a Series from a Python list using the `pd.Series()` constructor:"
            ],
            "metadata": {
                "azdata_cell_guid": "9a2dc50f-b337-42db-a4bd-77aa7ce8e404"
            },
            "attachments": {}
        },
        {
            "cell_type": "code",
            "source": [
                "import pandas as pd\n",
                "\n",
                "data_list = [1, 2, 3, 4, 5]\n",
                "series_from_list = pd.Series(data_list)\n",
                "print(series_from_list)"
            ],
            "metadata": {
                "azdata_cell_guid": "df42585b-f1cb-4438-9aa5-5d71cc87955e",
                "language": "python"
            },
            "outputs": [
                {
                    "output_type": "stream",
                    "name": "stdout",
                    "text": "0    1\n1    2\n2    3\n3    4\n4    5\ndtype: int64\n"
                }
            ],
            "execution_count": 1
        },
        {
            "cell_type": "markdown",
            "source": [
                "2. **Specifying Custom Index:**\n",
                "   - You can specify a custom index for the Series:"
            ],
            "metadata": {
                "language": "python",
                "azdata_cell_guid": "864e2ed6-5a5e-4851-a34a-c1933657c190"
            },
            "attachments": {}
        },
        {
            "cell_type": "code",
            "source": [
                "custom_index = ['a', 'b', 'c', 'd', 'e']\n",
                "series_with_custom_index = pd.Series(data_list, index=custom_index)\n",
                "print(series_with_custom_index)"
            ],
            "metadata": {
                "language": "python",
                "azdata_cell_guid": "efc2803d-2aff-4224-a995-e2264ad33bec"
            },
            "outputs": [
                {
                    "output_type": "stream",
                    "name": "stdout",
                    "text": "a    1\nb    2\nc    3\nd    4\ne    5\ndtype: int64\n"
                }
            ],
            "execution_count": 2
        },
        {
            "cell_type": "markdown",
            "source": [
                "3. **From a Dictionary:**\n",
                "   - You can create a Series from a Python dictionary, where keys become the index and values become the data:"
            ],
            "metadata": {
                "language": "python",
                "azdata_cell_guid": "dd41b5c8-2274-4926-9ba5-ff7e3f8535dd"
            },
            "attachments": {}
        },
        {
            "cell_type": "code",
            "source": [
                "data_dict = {'a': 1, 'b': 2, 'c': 3, 'd': 4, 'e': 5}\n",
                "series_from_dict = pd.Series(data_dict)\n",
                "print(series_from_dict)"
            ],
            "metadata": {
                "language": "python",
                "azdata_cell_guid": "094fc32b-f32e-4e6d-a443-60c8848a458c"
            },
            "outputs": [
                {
                    "output_type": "stream",
                    "name": "stdout",
                    "text": "a    1\nb    2\nc    3\nd    4\ne    5\ndtype: int64\n"
                }
            ],
            "execution_count": 4
        },
        {
            "cell_type": "markdown",
            "source": [
                "**Basic Operations on Series:**"
            ],
            "metadata": {
                "language": "python",
                "azdata_cell_guid": "77ad4bab-c030-4285-b32e-18585de457be"
            },
            "attachments": {}
        },
        {
            "cell_type": "markdown",
            "source": [
                "1. **Indexing:**\n",
                "   - Accessing elements of a Series can be done using the index:"
            ],
            "metadata": {
                "language": "python",
                "azdata_cell_guid": "b48e1cf2-7679-47a2-b0ff-430ad7dadbfc"
            },
            "attachments": {}
        },
        {
            "cell_type": "code",
            "source": [
                "value_at_b = series_with_custom_index['b']\n",
                "print(value_at_b)\n",
                "\n",
                "# Same can be done using the by default index values which are assigned i.e [0,1,2...]\n",
                "print(series_with_custom_index[1])"
            ],
            "metadata": {
                "language": "python",
                "azdata_cell_guid": "340e8688-200c-4ccf-b6c9-5fe46d3c0c0a"
            },
            "outputs": [
                {
                    "output_type": "stream",
                    "name": "stdout",
                    "text": "2\n2\n"
                }
            ],
            "execution_count": 6
        },
        {
            "cell_type": "markdown",
            "source": [
                "2. **Slicing:**\n",
                "   - Slicing allows selecting a subset of a Series based on the index:"
            ],
            "metadata": {
                "language": "python",
                "azdata_cell_guid": "b422c4bb-d448-4048-b1a7-b581018ea949"
            },
            "attachments": {}
        },
        {
            "cell_type": "code",
            "source": [
                "subset = series_with_custom_index['a':'c']\n",
                "\n",
                "print(subset)\n",
                "\n",
                "# Same can be done using the by default index values which are assigned i.e [0,1,2...]\n",
                "print(series_with_custom_index[0:3])"
            ],
            "metadata": {
                "language": "python",
                "azdata_cell_guid": "07c003ce-92fb-4fce-bcc7-99aaccd475e6"
            },
            "outputs": [
                {
                    "output_type": "stream",
                    "name": "stdout",
                    "text": "a    1\nb    2\nc    3\ndtype: int64\na    1\nb    2\nc    3\ndtype: int64\n"
                }
            ],
            "execution_count": 8
        },
        {
            "cell_type": "markdown",
            "source": [
                "3. **Mathematical Operations:**\n",
                "   - Series supports element-wise mathematical operations:"
            ],
            "metadata": {
                "language": "python",
                "azdata_cell_guid": "c5236e41-1d99-46d7-8aed-97aef2c7f96c"
            },
            "attachments": {}
        },
        {
            "cell_type": "code",
            "source": [
                "multiplied_series = series_from_list * 2\n",
                "\n",
                "print(multiplied_series)\n",
                "\n",
                "# Note : Here 2 is multiplied to all the elements of the series same as in case of NumPy arrays"
            ],
            "metadata": {
                "language": "python",
                "azdata_cell_guid": "b0c4ad91-991b-4cd6-8b89-10fa748fa181"
            },
            "outputs": [
                {
                    "output_type": "stream",
                    "name": "stdout",
                    "text": "0     2\n1     4\n2     6\n3     8\n4    10\ndtype: int64\n"
                }
            ],
            "execution_count": 9
        },
        {
            "cell_type": "markdown",
            "source": [
                "4. **Conditional Indexing:**\n",
                "   - You can use boolean indexing to filter elements based on a condition:"
            ],
            "metadata": {
                "language": "python",
                "azdata_cell_guid": "d091bbf9-dc16-4b39-9236-0fd623d349e5"
            },
            "attachments": {}
        },
        {
            "cell_type": "code",
            "source": [
                "greater_than_three = series_from_list[series_from_list > 3]\n",
                "print(greater_than_three)"
            ],
            "metadata": {
                "language": "python",
                "azdata_cell_guid": "5a3ad96c-7ea2-49a9-8fda-8029f3e9a7b0"
            },
            "outputs": [
                {
                    "output_type": "stream",
                    "name": "stdout",
                    "text": "3    4\n4    5\ndtype: int64\n"
                }
            ],
            "execution_count": 10
        },
        {
            "cell_type": "markdown",
            "source": [
                "#### **`Operations on Pandas Series`**\n",
                "\n",
                "Pandas Series support a wide range of operations, both arithmetic and mathematical. These operations can be applied element-wise, making it convenient for data manipulation and analysis. Here are some of the key operations:\n",
                "\n",
                "**1. Arithmetic Operations:**\n",
                "\n",
                "   - **Addition:**\n",
                "     ```python\n",
                "     series_sum = series1 + series2\n",
                "     ```\n",
                "\n",
                "   - **Subtraction:**\n",
                "     ```python\n",
                "     series_diff = series1 - series2\n",
                "     ```\n",
                "\n",
                "   - **Multiplication:**\n",
                "     ```python\n",
                "     series_product = series1 * series2\n",
                "     ```\n",
                "\n",
                "   - **Division:**\n",
                "     ```python\n",
                "     series_ratio = series1 / series2\n",
                "     ```\n",
                "\n",
                "   - **Scalar Operations:**\n",
                "     ```python\n",
                "     series_scaled = series * scalar_value\n",
                "     ```\n",
                "\n",
                "**2. Mathematical Operations:**\n",
                "\n",
                "   - **Square Root:**\n",
                "     ```python\n",
                "     series_sqrt = np.sqrt(series)\n",
                "     ```\n",
                "\n",
                "   - **Exponential:**\n",
                "     ```python\n",
                "     series_exp = np.exp(series)\n",
                "     ```\n",
                "\n",
                "   - **Logarithm:**\n",
                "     ```python\n",
                "     series_log = np.log(series)\n",
                "     ```\n",
                "\n",
                "   - **Trigonometric Functions:**\n",
                "     ```python\n",
                "     series_sin = np.sin(series)\n",
                "     ```\n",
                "\n",
                ""
            ],
            "metadata": {
                "language": "python",
                "azdata_cell_guid": "a32937b7-b98a-4c05-bd7e-b1dc88237059"
            },
            "attachments": {}
        },
        {
            "cell_type": "markdown",
            "source": [
                "**Conclusion:**\n",
                "Pandas Series provides a versatile and efficient way to work with one-dimensional labeled data. Its ability to handle different data types, custom indexing, and support for various operations make it a fundamental building block for more complex data manipulations in Pandas."
            ],
            "metadata": {
                "azdata_cell_guid": "96fb7b25-d6bd-486f-b79c-debeed98a276"
            },
            "attachments": {}
        },
        {
            "cell_type": "markdown",
            "source": [
                "\n",
                "#### `Pandas DataFrame`\n",
                "\n",
                "**Introduction:**\n",
                "A Pandas DataFrame is a two-dimensional, tabular data structure with labeled axes (rows and columns). It is a powerful and versatile tool for handling structured data in Python. The DataFrame is one of the core components of Pandas and is widely used in data analysis and manipulation tasks.\n",
                "\n",
                "**Significance in Data Analysis:**\n",
                "\n",
                "1. **Tabular Structure:**\n",
                "   - DataFrames provide a tabular structure, similar to a spreadsheet, making them well-suited for representing and analyzing structured data.\n",
                "\n",
                "2. **Labeled Axes:**\n",
                "   - Both rows and columns in a DataFrame have labeled indices, allowing for easy and intuitive access to data. This makes data manipulation more straightforward and expressive.\n",
                "\n",
                "3. **Support for Heterogeneous Data Types:**\n",
                "   - DataFrames can accommodate columns with different data types, including numerical, categorical, and textual data. This flexibility is crucial for handling diverse datasets.\n",
                "\n",
                "4. **Data Alignment:**\n",
                "   - Operations between DataFrames automatically align data based on their indices and columns, simplifying complex data manipulations.\n",
                "\n",
                ""
            ],
            "metadata": {
                "azdata_cell_guid": "d8a41bff-426a-479f-b955-5635d364c403"
            },
            "attachments": {}
        },
        {
            "cell_type": "markdown",
            "source": [
                "**Creating DataFrames:**"
            ],
            "metadata": {
                "azdata_cell_guid": "1c06ee26-44b3-4f92-9179-622929e18ccf"
            },
            "attachments": {}
        },
        {
            "cell_type": "markdown",
            "source": [
                "1. **From a Dictionary:**\n",
                "   - You can create a DataFrame from a dictionary where keys become column names and values become the data:"
            ],
            "metadata": {
                "azdata_cell_guid": "2354b3b0-f1f5-40d2-bf1d-0b218a0f6e8e"
            },
            "attachments": {}
        },
        {
            "cell_type": "code",
            "source": [
                "import pandas as pd\n",
                "\n",
                "data = {'Name': ['Laxman', 'Rajesh', 'Ramulu'],\n",
                "        'Age': [25, 30, 35],\n",
                "        'City': ['New York', 'San Francisco', 'Los Angeles']}\n",
                "\n",
                "df = pd.DataFrame(data)\n",
                "print(df)"
            ],
            "metadata": {
                "azdata_cell_guid": "33c97171-3c7c-4a77-9e0a-6b3459472b9b",
                "language": "python"
            },
            "outputs": [
                {
                    "output_type": "stream",
                    "name": "stdout",
                    "text": "     Name  Age           City\n0  Laxman   25       New York\n1  Rajesh   30  San Francisco\n2  Ramulu   35    Los Angeles\n"
                }
            ],
            "execution_count": 3
        },
        {
            "cell_type": "markdown",
            "source": [
                "2. **Specifying Index:**\n",
                "   - You can specify a custom index for the DataFrame:"
            ],
            "metadata": {
                "language": "python",
                "azdata_cell_guid": "6002a556-39d7-4c05-930f-2d5b36197e4f"
            },
            "attachments": {}
        },
        {
            "cell_type": "code",
            "source": [
                "custom_index = ['person1', 'person2', 'person3']\n",
                "df_with_custom_index = pd.DataFrame(data, index=custom_index)\n",
                "\n",
                "print(df_with_custom_index)"
            ],
            "metadata": {
                "language": "python",
                "azdata_cell_guid": "a2f75768-0c61-4be9-a96f-167bbf64c837"
            },
            "outputs": [
                {
                    "output_type": "stream",
                    "name": "stdout",
                    "text": "           Name  Age           City\nperson1  Naresh   25       New York\nperson2   Padma   30  San Francisco\nperson3  Laxman   35    Los Angeles\n"
                }
            ],
            "execution_count": 16
        },
        {
            "cell_type": "markdown",
            "source": [
                "**Loading Data into DataFrames:**"
            ],
            "metadata": {
                "language": "python",
                "azdata_cell_guid": "5aaeb37e-90ed-4753-a7aa-c3c9901c19cf"
            },
            "attachments": {}
        },
        {
            "cell_type": "markdown",
            "source": [
                "1. **From CSV File:**\n",
                "   - Pandas can read data from various file formats. To read from a CSV file:"
            ],
            "metadata": {
                "language": "python",
                "azdata_cell_guid": "845d5552-9409-445c-bf6f-ecdc0bd0efcf"
            },
            "attachments": {}
        },
        {
            "cell_type": "code",
            "source": [
                "df_from_csv = pd.read_csv('data.csv')\n",
                "print(df_from_csv)"
            ],
            "metadata": {
                "language": "python",
                "azdata_cell_guid": "80556e1d-67a7-4c35-af6c-53e4cc97249f",
                "tags": []
            },
            "outputs": [
                {
                    "output_type": "stream",
                    "name": "stdout",
                    "text": "     Name  Age          City\n0  Naresh   25       Chennai\n1   Padma   30          Pune\n2  Laxman   22      Srinagar\n3  Rajesh   31          Pune\n4    Bala   51          Pune\n5   Ganga   32  Mahabubnagar\n6  Kishan   31        Ongole\n"
                }
            ],
            "execution_count": 27
        },
        {
            "cell_type": "markdown",
            "source": [
                "2. **From Excel File:**\n",
                "   - Reading data from an Excel file:"
            ],
            "metadata": {
                "language": "python",
                "azdata_cell_guid": "e4b53ca3-b9d8-4547-83c3-8f460345cf40"
            },
            "attachments": {}
        },
        {
            "cell_type": "code",
            "source": [
                "df_from_excel = pd.read_excel('data.xlsx', sheet_name='Sheet1')\n",
                "\n",
                "print(df_from_excel)"
            ],
            "metadata": {
                "language": "python",
                "azdata_cell_guid": "de3b93bb-ffb2-4f9d-87e8-450992655282"
            },
            "outputs": [
                {
                    "output_type": "stream",
                    "name": "stdout",
                    "text": "       Name  Age\n0  Harshita    8\n1     Naina    1\n2       Sai    5\n3   Aanchal    3\n"
                }
            ],
            "execution_count": 18
        },
        {
            "cell_type": "markdown",
            "source": [
                "**Essential DataFrame Operations:**"
            ],
            "metadata": {
                "language": "python",
                "azdata_cell_guid": "1d6892bb-ec5d-4638-8695-d8c270d6d431"
            },
            "attachments": {}
        },
        {
            "cell_type": "markdown",
            "source": [
                "1. **Filtering Data:**\n",
                "   - Filtering rows based on a condition:"
            ],
            "metadata": {
                "language": "python",
                "azdata_cell_guid": "0414e67f-2f37-40b6-bb76-2c5f54e5ae03"
            },
            "attachments": {}
        },
        {
            "cell_type": "code",
            "source": [
                "filtered_data = df[df['Age'] > 30]\n",
                "\n",
                "print(filtered_data)"
            ],
            "metadata": {
                "language": "python",
                "azdata_cell_guid": "ea4252bc-0bc7-4507-b941-715075426fe4"
            },
            "outputs": [
                {
                    "output_type": "stream",
                    "name": "stdout",
                    "text": "     Name  Age         City\n2  Laxman   35  Los Angeles\n"
                }
            ],
            "execution_count": 29
        },
        {
            "cell_type": "markdown",
            "source": [
                "2. **Grouping Data:**\n",
                "   - Grouping data based on a column and performing aggregate operations:"
            ],
            "metadata": {
                "language": "python",
                "azdata_cell_guid": "c5476329-0120-4d41-942c-34e22463f79c"
            },
            "attachments": {}
        },
        {
            "cell_type": "code",
            "source": [
                "grouped_data = df.groupby('City')['Age'].mean()\n",
                "print(grouped_data)"
            ],
            "metadata": {
                "language": "python",
                "azdata_cell_guid": "99eca171-3f56-407b-97b7-a38dbdd50aa8"
            },
            "outputs": [
                {
                    "output_type": "stream",
                    "name": "stdout",
                    "text": "City\nLos Angeles      35.0\nNew York         25.0\nSan Francisco    30.0\nName: Age, dtype: float64\n"
                }
            ],
            "execution_count": 30
        },
        {
            "cell_type": "markdown",
            "source": [
                "3. **Merging DataFrames:**\n",
                "   - Combining two DataFrames based on a common column:"
            ],
            "metadata": {
                "language": "python",
                "azdata_cell_guid": "a02439f0-97bd-4520-81f5-d3ff1965dba3"
            },
            "attachments": {}
        },
        {
            "cell_type": "code",
            "source": [
                "df1 = pd.DataFrame({'ID': [1, 2, 3], 'Name': ['Laxman', 'Harshita', 'Naina']})\n",
                "df2 = pd.DataFrame({'ID': [2, 3, 4], 'Age': [30, 35, 40]})\n",
                "merged_df = pd.merge(df1, df2, on='ID')\n",
                "\n",
                "print(merged_df)"
            ],
            "metadata": {
                "language": "python",
                "azdata_cell_guid": "e5bc4878-70a9-43d1-b094-92c0444e3795",
                "tags": []
            },
            "outputs": [
                {
                    "output_type": "stream",
                    "name": "stdout",
                    "text": "   ID      Name  Age\n0   2  Harshita   30\n1   3     Naina   35\n"
                }
            ],
            "execution_count": 32
        },
        {
            "cell_type": "markdown",
            "source": [
                "**Conclusion:**\n",
                "Pandas DataFrames provide a structured and efficient way to handle and analyze tabular data. Their versatility in creating, loading, and manipulating data makes them a fundamental tool in the data scientist's toolbox."
            ],
            "metadata": {
                "language": "python",
                "azdata_cell_guid": "844af642-ef55-4469-934b-c87d7f968be4"
            },
            "attachments": {}
        },
        {
            "cell_type": "markdown",
            "source": [
                "#### Code to create CSV file with sample data"
            ],
            "metadata": {
                "language": "python",
                "azdata_cell_guid": "781a2ed5-89f0-4b2e-9bb6-8fc1786520c2"
            },
            "attachments": {}
        },
        {
            "cell_type": "code",
            "source": [
                "import pandas as pd\n",
                "\n",
                "# Sample data\n",
                "data = {\n",
                "    'Name': ['Laxman', 'Rajesh', 'Ram'],\n",
                "    'Age': [25, 30, 22],\n",
                "    'City': ['Pune', 'Hyderabad', 'Mahabubnagar']\n",
                "}\n",
                "\n",
                "# Create a DataFrame\n",
                "df = pd.DataFrame(data)\n",
                "\n",
                "# Save the DataFrame to a CSV file\n",
                "df.to_csv('data.csv', index=False)\n",
                "\n",
                "# Read the CSV file back into a DataFrame\n",
                "df_from_csv = pd.read_csv('data.csv')\n",
                "\n",
                "# Print the DataFrame\n",
                "print(df_from_csv)\n",
                ""
            ],
            "metadata": {
                "language": "python",
                "azdata_cell_guid": "70aec635-6d98-424e-ad43-155a2891fde4"
            },
            "outputs": [
                {
                    "name": "stdout",
                    "text": "     Name  Age          City\n0  Laxman   25          Pune\n1  Rajesh   30     Hyderabad\n2     Ram   22  Mahabubnagar\n",
                    "output_type": "stream"
                }
            ],
            "execution_count": 1
        }
    ]
}