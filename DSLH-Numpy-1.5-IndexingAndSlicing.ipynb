{
    "metadata": {
        "kernelspec": {
            "name": "python3",
            "display_name": "Python 3",
            "language": "python"
        },
        "language_info": {
            "name": "python",
            "version": "3.10.9",
            "mimetype": "text/x-python",
            "codemirror_mode": {
                "name": "ipython",
                "version": 3
            },
            "pygments_lexer": "ipython3",
            "nbconvert_exporter": "python",
            "file_extension": ".py"
        }
    },
    "nbformat_minor": 2,
    "nbformat": 4,
    "cells": [
        {
            "cell_type": "markdown",
            "source": [
                "# **`Data Science Learners Hub`**\n",
                "\n",
                "**Module : Python**\n",
                "\n",
                "**email** : [datasciencelearnershub@gmail.com](mailto:datasciencelearnershub@gmail.com)"
            ],
            "metadata": {
                "azdata_cell_guid": "fa2db22e-c4f6-473d-bac1-441c0067390c"
            },
            "attachments": {}
        },
        {
            "cell_type": "markdown",
            "source": [
                "### **`1.5. Indexing and Slicing in NumPy:`**\n",
                ""
            ],
            "metadata": {
                "azdata_cell_guid": "c616f38a-a6ed-45b1-b42e-f1d8037b2c52"
            },
            "attachments": {}
        },
        {
            "cell_type": "markdown",
            "source": [
                "**Accessing Elements:**\n",
                "\n",
                "1. **Indexing:**\n",
                "   - Individual elements in a NumPy array can be accessed using square brackets and indices.\n",
                "   - Example:\n",
                "     ```python\n",
                "     import numpy as np\n",
                "\n",
                "     arr = np.array([10, 20, 30, 40, 50])\n",
                "     element = arr[2]  # Access the element at index 2\n",
                "     ```\n",
                "\n",
                "2. **Slicing:**\n",
                "   - Slicing allows you to extract a portion of an array by specifying a range of indices.\n",
                "   - Example:\n",
                "     ```python\n",
                "     import numpy as np\n",
                "\n",
                "     arr = np.array([10, 20, 30, 40, 50])\n",
                "     subarray = arr[1:4]  # Extract elements from index 1 to 3\n",
                "     ```"
            ],
            "metadata": {
                "azdata_cell_guid": "f43b6ce0-d66b-4d05-a9d3-c3d40b731ab6"
            },
            "attachments": {}
        },
        {
            "cell_type": "markdown",
            "source": [
                "**Accessing Subarrays:**\n",
                "\n",
                "1. **Indexing for 2D Arrays:**\n",
                "   - For 2D arrays, use indexing with multiple indices or a tuple of indices to access elements.\n",
                "   - Example:\n",
                "\n",
                ""
            ],
            "metadata": {
                "azdata_cell_guid": "1ae74c69-fb1f-4850-9711-9a179b5a5f05"
            },
            "attachments": {}
        },
        {
            "cell_type": "code",
            "source": [
                "import numpy as np\n",
                "\n",
                "arr_2d = np.array([[1, 2, 3], [4, 5, 6], [7, 8, 9]])\n",
                "element = arr_2d[1, 2]  # Access the element at row 1, column 2\n",
                "print(element)\n",
                "\n",
                "# Note : rows and columns start with 0"
            ],
            "metadata": {
                "azdata_cell_guid": "83125d6f-7059-44a3-826f-540a7aae3f6a",
                "language": "python",
                "tags": []
            },
            "outputs": [
                {
                    "output_type": "stream",
                    "name": "stdout",
                    "text": "6\n"
                }
            ],
            "execution_count": 18
        },
        {
            "cell_type": "markdown",
            "source": [
                "\n",
                "2. **Slicing for 2D Arrays:**\n",
                "   - Slicing works along each axis, allowing the extraction of subarrays.\n",
                "   - Example:\n",
                " "
            ],
            "metadata": {
                "language": "python",
                "azdata_cell_guid": "5344c53b-5c80-4921-a0ee-ae96df0d0ce4"
            },
            "attachments": {}
        },
        {
            "cell_type": "code",
            "source": [
                "import numpy as np\n",
                "\n",
                "arr_2d = np.array([[1, 2, 3], [4, 5, 6], [7, 8, 9]])\n",
                "subarray = arr_2d[0:2, 1:3]  # Extract a subarray from rows 0 to 1 and columns 1 to 2\n",
                "print(subarray)"
            ],
            "metadata": {
                "language": "python",
                "azdata_cell_guid": "4c0dbf10-cf5c-45f9-b191-68979aeb7c27",
                "tags": []
            },
            "outputs": [
                {
                    "output_type": "stream",
                    "name": "stdout",
                    "text": "[[2 3]\n [5 6]]\n"
                }
            ],
            "execution_count": 19
        },
        {
            "cell_type": "markdown",
            "source": [
                "**Explanation:**\n",
                "\n",
                "2. **Creating a 2D NumPy Array:**\n",
                "   - `arr_2d = np.array([[1, 2, 3], [4, 5, 6], [7, 8, 9]])`: Creates a 2D NumPy array (`arr_2d`) with three rows and three columns.\n",
                "\n",
                "3. **Extracting a Subarray:**\n",
                "   - `subarray = arr_2d[0:2, 1:3]`: Uses slicing to extract a subarray from `arr_2d`. \n",
                "     - `0:2` specifies the rows from index 0 (inclusive) to 2 (exclusive), which includes rows 0 and 1.\n",
                "     - `1:3` specifies the columns from index 1 (inclusive) to 3 (exclusive), which includes columns 1 and 2.\n",
                "   - The resulting subarray is a 2x2 matrix.\n",
                "\n",
                "4. **Printing the Subarray:**\n",
                "   - `print(subarray)`: Outputs the extracted subarray.\n",
                "  \n",
                "**Explanation:**\n",
                "\n",
                "The original array `arr_2d` looks like this:\n",
                "```\n",
                "[[1, 2, 3],\n",
                " [4, 5, 6],\n",
                " [7, 8, 9]]\n",
                "```\n",
                "\n",
                "The slicing operation `arr_2d[0:2, 1:3]` extracts the subarray consisting of rows 0 and 1, and columns 1 and 2. The resulting `subarray` is:\n",
                "```\n",
                "[[2, 3],\n",
                " [5, 6]]\n",
                "```\n",
                "\n",
                "So, when you run the code and print `subarray`, the output will be:\n",
                "```\n",
                "[[2, 3],\n",
                " [5, 6]]\n",
                "```\n",
                "\n",
                "This demonstrates how NumPy's slicing capabilities allow you to efficiently extract specific portions of a multi-dimensional array, which is particularly useful in various data manipulation and analysis tasks."
            ],
            "metadata": {
                "language": "python",
                "azdata_cell_guid": "e0a346bb-d682-4b15-80d5-0040364f1813"
            },
            "attachments": {}
        },
        {
            "cell_type": "markdown",
            "source": [
                "**Real-world Examples:**"
            ],
            "metadata": {
                "azdata_cell_guid": "f40fd1ca-95c5-4a9d-a6d3-44081c09b5b9"
            },
            "attachments": {}
        },
        {
            "cell_type": "markdown",
            "source": [
                "1. **Time Series Analysis:**\n",
                "   - **Scenario:** Analyzing a specific time window in a time series dataset.\n",
                "   - **Application:** Use slicing to extract data for a specific time period, aiding in trend analysis."
            ],
            "metadata": {
                "language": "python",
                "azdata_cell_guid": "9a385a9b-9ba2-403f-a67f-54212d1ea179"
            },
            "attachments": {}
        },
        {
            "cell_type": "code",
            "source": [
                "import numpy as np\n",
                "\n",
                "time_series = np.array([10, 15, 20, 25, 30, 35, 40])\n",
                "specific_period = time_series[2:5]  # Extract data for time steps 2 to 4\n",
                "print(specific_period)"
            ],
            "metadata": {
                "language": "python",
                "azdata_cell_guid": "b27458dc-6e27-4116-9b76-3b3add33f86d",
                "tags": []
            },
            "outputs": [
                {
                    "output_type": "stream",
                    "name": "stdout",
                    "text": "[20 25 30]\n"
                }
            ],
            "execution_count": 22
        },
        {
            "cell_type": "markdown",
            "source": [
                "2. **Financial Data Analysis:**\n",
                "   - **Scenario:** Analyzing stock prices during a specific period.\n",
                "   - **Application:** Use slicing to extract data for a specific date range, facilitating trend analysis."
            ],
            "metadata": {
                "language": "python",
                "azdata_cell_guid": "13e1c895-58ce-463a-889d-ce6702bf28f7"
            },
            "attachments": {}
        },
        {
            "cell_type": "code",
            "source": [
                "import numpy as np\n",
                "\n",
                "stock_prices = np.array([150.5, 155.2, 160.8, 156.3, 162.0])\n",
                "specific_period = stock_prices[1:4]  # Extract prices for a specific date range\n",
                "print(specific_period)"
            ],
            "metadata": {
                "language": "python",
                "azdata_cell_guid": "19fb778d-5c94-4b6e-9ccb-a447c423b137",
                "tags": []
            },
            "outputs": [
                {
                    "output_type": "stream",
                    "name": "stdout",
                    "text": "[155.2 160.8 156.3]\n"
                }
            ],
            "execution_count": 23
        },
        {
            "cell_type": "markdown",
            "source": [
                "**Efficient Analysis of Large Datasets:**\n",
                "\n",
                "- **Memory Efficiency:**\n",
                "  - Slicing allows working with a subset of data without loading the entire dataset into memory, making it memory-efficient.\n",
                "  \n",
                "- **Parallel Processing:**\n",
                "  - NumPy's ability to efficiently slice arrays enables parallel processing, essential for analyzing large datasets in parallel.\n",
                "\n",
                "- **Speed Optimization:**\n",
                "  - By slicing and accessing only the necessary portions of data, computations become more efficient, leading to faster analysis.\n",
                "\n",
                "In summary, indexing and slicing in NumPy are powerful tools for extracting specific elements or subarrays, and they play a crucial role in various real-world scenarios, particularly in handling and analyzing large datasets efficiently."
            ],
            "metadata": {
                "language": "python",
                "azdata_cell_guid": "ced704b7-9641-408b-9292-95c5980c0d9e"
            },
            "attachments": {}
        }
    ]
}