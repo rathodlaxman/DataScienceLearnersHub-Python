{
    "metadata": {
        "kernelspec": {
            "name": "python3",
            "display_name": "Python 3",
            "language": "python"
        },
        "language_info": {
            "name": "python",
            "version": "3.10.9",
            "mimetype": "text/x-python",
            "codemirror_mode": {
                "name": "ipython",
                "version": 3
            },
            "pygments_lexer": "ipython3",
            "nbconvert_exporter": "python",
            "file_extension": ".py"
        }
    },
    "nbformat_minor": 2,
    "nbformat": 4,
    "cells": [
        {
            "cell_type": "markdown",
            "source": [
                "# **`Data Science Learners Hub`**\n",
                "\n",
                "**Module : Python**\n",
                "\n",
                "**email** : [datasciencelearnershub@gmail.com](mailto:datasciencelearnershub@gmail.com)"
            ],
            "metadata": {
                "azdata_cell_guid": "aa3f7673-b9b1-4851-8522-db9bfc2151b4"
            },
            "attachments": {}
        },
        {
            "cell_type": "markdown",
            "source": [
                "## **`#2: DataFrames in Depth`**\n",
                "\n",
                "4. **Creating DataFrames**\n",
                "    \n",
                "    - From lists, dictionaries, and arrays\n",
                "    - Reading data from CSV, Excel, and other formats\n",
                "5. **Basic DataFrame Operations**\n",
                "    \n",
                "    - Inspecting the DataFrame\n",
                "    - Indexing and selecting data\n",
                "    - Descriptive statistics\n",
                "6. **Data Cleaning and Handling Missing Data**\n",
                "    \n",
                "    - Handling missing values\n",
                "    - Dropping or filling missing values\n",
                "    - Removing duplicates"
            ],
            "metadata": {
                "azdata_cell_guid": "fba658d7-85c3-4e88-8feb-b632b9d2266e"
            },
            "attachments": {}
        },
        {
            "cell_type": "markdown",
            "source": [
                "### **`5. Basic DataFrame Operations`**"
            ],
            "metadata": {
                "azdata_cell_guid": "4294f58f-5258-4182-b804-f389aa87e471"
            },
            "attachments": {}
        },
        {
            "cell_type": "markdown",
            "source": [
                "#### **`Inspecting the DataFrame`**\n",
                "\n",
                "**Introduction:**\n",
                "Inspecting a DataFrame is an essential step in understanding its structure and contents. Pandas provides several methods that allow you to gain insights into the data quickly. In this prompt, we'll explore common methods such as `head()`, `tail()`, `info()`, `shape`, and `describe()`."
            ],
            "metadata": {
                "azdata_cell_guid": "2e1aab93-68d7-4317-a866-9b0474f14d00"
            },
            "attachments": {}
        },
        {
            "cell_type": "markdown",
            "source": [
                "**Using `head()` and `tail()`:**\n",
                "\n",
                "1. **`head(n)`:**\n",
                "   - The `head()` method displays the first `n` rows of the DataFrame. It is useful for quickly getting an overview of the dataset."
            ],
            "metadata": {
                "azdata_cell_guid": "82323113-28f3-4b6f-8e70-81bd164551c2"
            },
            "attachments": {}
        },
        {
            "cell_type": "code",
            "source": [
                "import pandas as pd\n",
                "\n",
                "df = pd.read_csv('data.csv')\n",
                "df_head = df.head(5)  # Display the first 5 rows\n",
                "\n",
                "print(df_head)"
            ],
            "metadata": {
                "azdata_cell_guid": "9e0cf005-773c-4700-9341-e1cae483f889",
                "language": "python"
            },
            "outputs": [
                {
                    "output_type": "stream",
                    "name": "stdout",
                    "text": "     Name  Age          City\n0  Laxman   25          Pune\n1  Rajesh   30     Hyderabad\n2     Ram   22  Mahabubnagar\n3   Ganga   32  Mahabubnagar\n4  Jamuna   32          Pune\n"
                }
            ],
            "execution_count": 2
        },
        {
            "cell_type": "markdown",
            "source": [
                "2. **`tail(n)`:**\n",
                "   - The `tail()` method shows the last `n` rows of the DataFrame, allowing you to inspect the end of the dataset."
            ],
            "metadata": {
                "language": "python",
                "azdata_cell_guid": "e18d9af1-6b2c-416c-9f35-83543db3497e"
            },
            "attachments": {}
        },
        {
            "cell_type": "code",
            "source": [
                "df_tail = df.tail(5)  # Display the last 5 rows\n",
                "\n",
                "print(df_tail)"
            ],
            "metadata": {
                "language": "python",
                "azdata_cell_guid": "c90d95c3-c830-4cd1-b5f5-6edd11571024"
            },
            "outputs": [
                {
                    "output_type": "stream",
                    "name": "stdout",
                    "text": "      Name  Age          City\n4   Jamuna   32          Pune\n5  Namrata   15          Pune\n6   Varsha   16     Hyderabad\n7   Vamshi   22     Hyderabad\n8   Ananya   14  Mahabubnagar\n"
                }
            ],
            "execution_count": 3
        },
        {
            "cell_type": "markdown",
            "source": [
                "**Using `info()`:**\n",
                "\n",
                "1. **`info()`:**\n",
                "   - The `info()` method provides a concise summary of the DataFrame, including the data types, non-null counts, and memory usage."
            ],
            "metadata": {
                "language": "python",
                "azdata_cell_guid": "52d9a6b5-428b-42e8-8038-4fadfb5c2e66"
            },
            "attachments": {}
        },
        {
            "cell_type": "code",
            "source": [
                "df_info = df.info()\n",
                "\n",
                "print(df_info)"
            ],
            "metadata": {
                "language": "python",
                "azdata_cell_guid": "3d9ddcc4-422b-4198-9276-1d5706b15d7e"
            },
            "outputs": [
                {
                    "output_type": "stream",
                    "name": "stdout",
                    "text": "<class 'pandas.core.frame.DataFrame'>\nRangeIndex: 9 entries, 0 to 8\nData columns (total 3 columns):\n #   Column  Non-Null Count  Dtype \n---  ------  --------------  ----- \n 0   Name    9 non-null      object\n 1   Age     9 non-null      int64 \n 2   City    9 non-null      object\ndtypes: int64(1), object(2)\nmemory usage: 344.0+ bytes\nNone\n"
                }
            ],
            "execution_count": 4
        },
        {
            "cell_type": "markdown",
            "source": [
                "**Using `shape`:**\n",
                "\n",
                "1. **`shape`:**\n",
                "   - The `shape` attribute returns a tuple representing the dimensions of the DataFrame (number of rows, number of columns)."
            ],
            "metadata": {
                "language": "python",
                "azdata_cell_guid": "7886feab-810a-47f0-93d4-2ca0b15f8f2a"
            },
            "attachments": {}
        },
        {
            "cell_type": "code",
            "source": [
                "df_shape = df.shape\n",
                "\n",
                "print(df_shape)"
            ],
            "metadata": {
                "language": "python",
                "azdata_cell_guid": "250a23b3-00ca-4cfa-a9b5-01d6107b9fc5"
            },
            "outputs": [
                {
                    "output_type": "stream",
                    "name": "stdout",
                    "text": "(9, 3)\n"
                }
            ],
            "execution_count": 5
        },
        {
            "cell_type": "markdown",
            "source": [
                "**Using `describe()`:**\n",
                "\n",
                "1. **`describe()`:**\n",
                "   - The `describe()` method generates descriptive statistics, including measures of central tendency, dispersion, and shape of the distribution."
            ],
            "metadata": {
                "language": "python",
                "azdata_cell_guid": "fc542a0b-15b4-4f00-85fc-dd1baf3582cc"
            },
            "attachments": {}
        },
        {
            "cell_type": "code",
            "source": [
                "df_describe = df.describe()\n",
                "\n",
                "print(df_describe)\n",
                "\n",
                "# Note : In the output only numerical columns are displayed\n",
                "# Name, City are not displayed "
            ],
            "metadata": {
                "language": "python",
                "azdata_cell_guid": "fa2553c9-994f-4198-84be-d5d6eb29452f"
            },
            "outputs": [
                {
                    "output_type": "stream",
                    "name": "stdout",
                    "text": "             Age\ncount   9.000000\nmean   23.111111\nstd     7.166667\nmin    14.000000\n25%    16.000000\n50%    22.000000\n75%    30.000000\nmax    32.000000\n"
                }
            ],
            "execution_count": 6
        },
        {
            "cell_type": "markdown",
            "source": [
                "2. **Customizing `describe()`:**\n",
                "   - You can customize the output of `describe()` to include specific percentiles or types of statistics."
            ],
            "metadata": {
                "language": "python",
                "azdata_cell_guid": "aa1cedb0-00b8-47ca-983f-f57071a65b9b"
            },
            "attachments": {}
        },
        {
            "cell_type": "code",
            "source": [
                "custom_describe = df.describe(percentiles=[0.386, 0.5, 0.618, 0.786], include='all')\n",
                "\n",
                "print(custom_describe)"
            ],
            "metadata": {
                "language": "python",
                "azdata_cell_guid": "90145e05-36f0-4564-9d21-b46f98372c33"
            },
            "outputs": [
                {
                    "output_type": "stream",
                    "name": "stdout",
                    "text": "          Name        Age  City\ncount        9   9.000000     9\nunique       9        NaN     3\ntop     Laxman        NaN  Pune\nfreq         1        NaN     3\nmean       NaN  23.111111   NaN\nstd        NaN   7.166667   NaN\nmin        NaN  14.000000   NaN\n38.6%      NaN  22.000000   NaN\n50%        NaN  22.000000   NaN\n61.8%      NaN  24.832000   NaN\n78.6%      NaN  30.576000   NaN\nmax        NaN  32.000000   NaN\n"
                }
            ],
            "execution_count": 8
        },
        {
            "cell_type": "markdown",
            "source": [
                "#### Explanation:\n",
                "\n",
                "In the Pandas `describe()` method, the `include` parameter is used to specify the types of columns to be included in the summary statistics. It allows you to control whether to include only numeric columns, only object (string) columns, or include all columns regardless of their data types. The `include` parameter accepts different values:\n",
                "\n",
                "- `'all'`: This includes all columns, regardless of their data types. Both numeric and non-numeric columns will be summarized.\n",
                "\n",
                "- `'number'`: This includes only numeric columns in the summary. Non-numeric columns, such as strings or categorical data, will be excluded from the output.\n",
                "\n",
                "- `'object'`: This includes only object (string) columns in the summary. Numeric columns will be excluded.\n",
                "\n",
                "Here's an example to illustrate the usage of the `include` parameter:\n",
                ""
            ],
            "metadata": {
                "language": "python",
                "azdata_cell_guid": "3666f1a1-9437-45ed-a1ec-2fdcee4e63c8"
            },
            "attachments": {}
        },
        {
            "cell_type": "code",
            "source": [
                "import pandas as pd\n",
                "\n",
                "# Creating a sample DataFrame\n",
                "data = {\n",
                "    'numeric_col': [1, 2, 3, 4, 5],\n",
                "    'string_col': ['apple', 'banana', 'orange', 'grape', 'kiwi']\n",
                "}\n",
                "\n",
                "df = pd.DataFrame(data)\n",
                "\n",
                "# Using describe with different include values\n",
                "all_columns_describe = df.describe(include='all')\n",
                "numeric_columns_describe = df.describe(include='number')\n",
                "object_columns_describe = df.describe(include='object')\n",
                "\n",
                "print(\"Describe All Columns:\")\n",
                "print(all_columns_describe)\n",
                "\n",
                "print(\"\\nDescribe Numeric Columns Only:\")\n",
                "print(numeric_columns_describe)\n",
                "\n",
                "print(\"\\nDescribe Object (String) Columns Only:\")\n",
                "print(object_columns_describe)\n",
                ""
            ],
            "metadata": {
                "language": "python",
                "azdata_cell_guid": "aa185661-ebf2-46de-8242-b2dc2135b0a9"
            },
            "outputs": [
                {
                    "output_type": "stream",
                    "name": "stdout",
                    "text": "Describe All Columns:\n        numeric_col string_col\ncount      5.000000          5\nunique          NaN          5\ntop             NaN      apple\nfreq            NaN          1\nmean       3.000000        NaN\nstd        1.581139        NaN\nmin        1.000000        NaN\n25%        2.000000        NaN\n50%        3.000000        NaN\n75%        4.000000        NaN\nmax        5.000000        NaN\n\nDescribe Numeric Columns Only:\n       numeric_col\ncount     5.000000\nmean      3.000000\nstd       1.581139\nmin       1.000000\n25%       2.000000\n50%       3.000000\n75%       4.000000\nmax       5.000000\n\nDescribe Object (String) Columns Only:\n       string_col\ncount           5\nunique          5\ntop         apple\nfreq            1\n"
                }
            ],
            "execution_count": 9
        },
        {
            "cell_type": "markdown",
            "source": [
                "**Conclusion:**\n",
                "Inspecting a DataFrame is a crucial step in the data analysis process. Methods such as `head()`, `tail()`, `info()`, `shape`, and `describe()` provide valuable information about the structure, contents, and statistical summary of the dataset. Using these methods allows you to quickly assess the data and make informed decisions about further analysis."
            ],
            "metadata": {
                "azdata_cell_guid": "36dced88-a733-430c-916c-9537ee0f01aa"
            },
            "attachments": {}
        },
        {
            "cell_type": "markdown",
            "source": [
                "#### Examples"
            ],
            "metadata": {
                "azdata_cell_guid": "f9bc008f-1f49-4aea-9a2b-914f3bbe661f"
            },
            "attachments": {}
        },
        {
            "cell_type": "code",
            "source": [
                "import pandas as pd\n",
                "\n",
                "# Creating a sample DataFrame\n",
                "data = {\n",
                "    'Name': ['Laxman', 'Laxmikanth', 'Ashwanth', 'Ashok', 'Venky'],\n",
                "    'Age': [25, 30, 35, 22, 28],\n",
                "    'Salary': [50000, 60000, 75000, 48000, 55000],\n",
                "    'Experience': [3, 5, 8, 2, 4],\n",
                "}\n",
                "\n",
                "df = pd.DataFrame(data)\n",
                "\n",
                "# Displaying the DataFrame\n",
                "print(\"Original DataFrame:\")\n",
                "print(df)\n",
                "\n",
                "# Using head() and tail() for an overview\n",
                "print(\"\\nFirst 3 Rows (head()):\")\n",
                "print(df.head(3))\n",
                "\n",
                "print(\"\\nLast 2 Rows (tail()):\")\n",
                "print(df.tail(2))\n",
                "\n",
                "# Using info() for a summary\n",
                "print(\"\\nDataFrame Info:\")\n",
                "df_info = df.info()\n",
                "print(df_info)\n",
                "\n",
                "# Using shape to get dimensions\n",
                "df_shape = df.shape\n",
                "print(\"\\nDataFrame Shape:\", df_shape)\n",
                "\n",
                "# Using describe() for summary statistics\n",
                "df_describe = df.describe()\n",
                "print(\"\\nSummary Statistics:\\n\", df_describe)\n",
                "\n",
                "# Displaying the results\n",
                "print(\"\\nResults:\")\n",
                "\n",
                "\n",
                "\n",
                ""
            ],
            "metadata": {
                "azdata_cell_guid": "c7539f09-19c6-4cb9-a7ce-7920d9811278",
                "language": "python"
            },
            "outputs": [
                {
                    "output_type": "stream",
                    "name": "stdout",
                    "text": "Original DataFrame:\n         Name  Age  Salary  Experience\n0      Laxman   25   50000           3\n1  Laxmikanth   30   60000           5\n2    Ashwanth   35   75000           8\n3       Ashok   22   48000           2\n4       Venky   28   55000           4\n\nFirst 3 Rows (head()):\n         Name  Age  Salary  Experience\n0      Laxman   25   50000           3\n1  Laxmikanth   30   60000           5\n2    Ashwanth   35   75000           8\n\nLast 2 Rows (tail()):\n    Name  Age  Salary  Experience\n3  Ashok   22   48000           2\n4  Venky   28   55000           4\n\nDataFrame Info:\n<class 'pandas.core.frame.DataFrame'>\nRangeIndex: 5 entries, 0 to 4\nData columns (total 4 columns):\n #   Column      Non-Null Count  Dtype \n---  ------      --------------  ----- \n 0   Name        5 non-null      object\n 1   Age         5 non-null      int64 \n 2   Salary      5 non-null      int64 \n 3   Experience  5 non-null      int64 \ndtypes: int64(3), object(1)\nmemory usage: 288.0+ bytes\nNone\n\nDataFrame Shape: (5, 4)\n\nSummary Statistics:\n              Age        Salary  Experience\ncount   5.000000      5.000000    5.000000\nmean   28.000000  57600.000000    4.400000\nstd     4.949747  10784.247772    2.302173\nmin    22.000000  48000.000000    2.000000\n25%    25.000000  50000.000000    3.000000\n50%    28.000000  55000.000000    4.000000\n75%    30.000000  60000.000000    5.000000\nmax    35.000000  75000.000000    8.000000\n\nResults:\n"
                }
            ],
            "execution_count": 12
        },
        {
            "cell_type": "markdown",
            "source": [
                "#### Real-world Scenario:\n",
                "Consider a scenario where you have a dataset containing information about sales transactions for an e-commerce platform. You want to inspect the data to understand its structure, check for missing values, and get a quick overview of the sales performance."
            ],
            "metadata": {
                "language": "python",
                "azdata_cell_guid": "6b530756-293a-49bb-9384-b744bcc86cce"
            },
            "attachments": {}
        },
        {
            "cell_type": "code",
            "source": [
                "import pandas as pd\n",
                "\n",
                "# Sample e-commerce sales data\n",
                "sales_data = {\n",
                "    'OrderID': [101, 102, 103, 104, 105],\n",
                "    'Product': ['Laptop', 'Smartphone', 'Tablet', 'Headphones', 'Camera'],\n",
                "    'Quantity': [2, 1, 3, 2, 1],\n",
                "    'Price': [1200, 800, 300, 150, 700],\n",
                "    'CustomerID': [101, 102, 103, 104, 105],\n",
                "    'Date': ['2022-01-01', '2022-01-02', '2022-01-02', '2022-01-03', '2022-01-03'],\n",
                "}\n",
                "\n",
                "# Creating a DataFrame from the sales data\n",
                "df_sales = pd.DataFrame(sales_data)\n",
                "\n",
                "# Inspecting the DataFrame\n",
                "print(\"Overview of Sales Data:\")\n",
                "print(df_sales.head())\n",
                "print(\"\\nStructure of Sales Data:\")\n",
                "print(df_sales.info())\n",
                "print(\"\\nSummary Statistics of Sales Data:\")\n",
                "print(df_sales.describe())"
            ],
            "metadata": {
                "language": "python",
                "azdata_cell_guid": "7ac54802-7368-48c1-81fc-bf13d620f9d3"
            },
            "outputs": [
                {
                    "output_type": "stream",
                    "name": "stdout",
                    "text": "Overview of Sales Data:\n   OrderID     Product  Quantity  Price  CustomerID        Date\n0      101      Laptop         2   1200         101  2022-01-01\n1      102  Smartphone         1    800         102  2022-01-02\n2      103      Tablet         3    300         103  2022-01-02\n3      104  Headphones         2    150         104  2022-01-03\n4      105      Camera         1    700         105  2022-01-03\n\nStructure of Sales Data:\n<class 'pandas.core.frame.DataFrame'>\nRangeIndex: 5 entries, 0 to 4\nData columns (total 6 columns):\n #   Column      Non-Null Count  Dtype \n---  ------      --------------  ----- \n 0   OrderID     5 non-null      int64 \n 1   Product     5 non-null      object\n 2   Quantity    5 non-null      int64 \n 3   Price       5 non-null      int64 \n 4   CustomerID  5 non-null      int64 \n 5   Date        5 non-null      object\ndtypes: int64(4), object(2)\nmemory usage: 368.0+ bytes\nNone\n\nSummary Statistics of Sales Data:\n          OrderID  Quantity        Price  CustomerID\ncount    5.000000   5.00000     5.000000    5.000000\nmean   103.000000   1.80000   630.000000  103.000000\nstd      1.581139   0.83666   417.731971    1.581139\nmin    101.000000   1.00000   150.000000  101.000000\n25%    102.000000   1.00000   300.000000  102.000000\n50%    103.000000   2.00000   700.000000  103.000000\n75%    104.000000   2.00000   800.000000  104.000000\nmax    105.000000   3.00000  1200.000000  105.000000\n"
                }
            ],
            "execution_count": 13
        },
        {
            "cell_type": "markdown",
            "source": [
                "#### Considerations or Peculiarities:\n",
                "\n",
                "- **Data Types:** Ensure that data types are appropriate for each column. Dates should be in datetime format, and numerical columns should have the correct data type.\n",
                "\n",
                "- **Missing Values:** Check for missing values using methods like `isnull()` or `info()`. Decide on a strategy to handle missing data if needed.\n",
                "\n",
                "- **Categorical Columns:** Identify and encode categorical columns appropriately. Some columns may have a finite set of categories, and using the `astype('category')` method can save memory.\n",
                "\n",
                "#### Common Mistakes:\n",
                "\n",
                "- **Neglecting Missing Values:** Ignoring missing values during inspection can lead to incorrect analyses. Always check for missing data and decide how to handle it.\n",
                "\n",
                "- **Not Understanding Data Types:** Misinterpreting data types may lead to errors in analysis. Make sure to understand the meaning and representation of each column's data type.\n",
                "\n",
                "- **Overlooking Categorical Variables:** Categorical variables may not always be automatically identified. Check and convert categorical columns if needed, especially if they are nominal or ordinal.\n",
                "\n",
                "Inspecting the DataFrame is a crucial step to understand the data's characteristics and make informed decisions during data analysis. Adapt the example code and considerations based on the specifics of your real-world datasets."
            ],
            "metadata": {
                "azdata_cell_guid": "66e30204-745e-4f0b-95cc-edb26ead6055"
            },
            "attachments": {}
        }
    ]
}