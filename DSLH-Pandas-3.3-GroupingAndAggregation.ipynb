{
    "metadata": {
        "kernelspec": {
            "name": "python3",
            "display_name": "Python 3",
            "language": "python"
        },
        "language_info": {
            "name": "python",
            "version": "3.10.9",
            "mimetype": "text/x-python",
            "codemirror_mode": {
                "name": "ipython",
                "version": 3
            },
            "pygments_lexer": "ipython3",
            "nbconvert_exporter": "python",
            "file_extension": ".py"
        }
    },
    "nbformat_minor": 2,
    "nbformat": 4,
    "cells": [
        {
            "cell_type": "markdown",
            "source": [
                "# **`Data Science Learners Hub`**\n",
                "\n",
                "**Module : Python**\n",
                "\n",
                "**email** : [datasciencelearnershub@gmail.com](mailto:datasciencelearnershub@gmail.com)"
            ],
            "metadata": {
                "azdata_cell_guid": "c41753d6-b878-4321-88f0-466ae29da408"
            },
            "attachments": {}
        },
        {
            "cell_type": "markdown",
            "source": [
                "## **`#3: Data Manipulation with Pandas`**\n",
                "7. **Data Filtering and Selection**\n",
                "   - Conditional selection\n",
                "   - Using boolean indexing\n",
                "\n",
                "8. **Data Sorting and Ranking**\n",
                "   - Sorting by columns\n",
                "   - Ranking data\n",
                "\n",
                "9. **Grouping and Aggregation**\n",
                "   - GroupBy operations\n",
                "   - Aggregation functions (sum, mean, count, etc.)"
            ],
            "metadata": {
                "azdata_cell_guid": "c65656d0-cbc2-4b85-b322-fd5acf109bd2"
            },
            "attachments": {}
        },
        {
            "cell_type": "markdown",
            "source": [
                "### **`9. Grouping and Aggregation`**"
            ],
            "metadata": {
                "azdata_cell_guid": "339a9314-9abe-48dc-80dd-9da7cd63e409"
            },
            "attachments": {}
        },
        {
            "cell_type": "markdown",
            "source": [
                "#### **`GroupBy Operations in Pandas`**"
            ],
            "metadata": {
                "azdata_cell_guid": "039ce803-793e-45a5-9d85-bbfa00f81ece"
            },
            "attachments": {}
        },
        {
            "cell_type": "markdown",
            "source": [
                "#### GroupBy Concept:\n",
                "\n",
                "The GroupBy operation in Pandas involves splitting a DataFrame into groups based on one or more criteria, applying a function to each group independently, and then combining the results. It is a powerful tool for aggregation and analysis of data subsets.\n",
                "\n",
                "#### Grouping by a Single Column:\n",
                ""
            ],
            "metadata": {
                "azdata_cell_guid": "559e8b39-c6ed-4981-9d82-eea0c5ebd219"
            },
            "attachments": {}
        },
        {
            "cell_type": "code",
            "source": [
                "import pandas as pd\n",
                "\n",
                "# Sample DataFrame\n",
                "data = {'Name': ['Laxman', 'Padma', 'Harshita', 'Naina', 'Aanchal'],\n",
                "        'Department': ['HR', 'IT', 'Marketing', 'IT', 'Marketing'],\n",
                "        'Salary': [50000, 60000, 45000, 70000, 55000]}\n",
                "\n",
                "df = pd.DataFrame(data)\n",
                "\n",
                "# Grouping by 'Department'\n",
                "grouped_by_department = df.groupby('Department')\n",
                "\n",
                "# Displaying the GroupBy object\n",
                "print(\"GroupBy Object for Department:\")\n",
                "print(grouped_by_department)\n",
                ""
            ],
            "metadata": {
                "azdata_cell_guid": "3a8d304d-1e28-4c43-9a87-82b2abaa6893",
                "language": "python"
            },
            "outputs": [
                {
                    "name": "stdout",
                    "text": "GroupBy Object for Department:\n<pandas.core.groupby.generic.DataFrameGroupBy object at 0x147c15750>\n",
                    "output_type": "stream"
                }
            ],
            "execution_count": 5
        },
        {
            "cell_type": "markdown",
            "source": [
                "#### Grouping by Multiple Columns:"
            ],
            "metadata": {
                "language": "python",
                "azdata_cell_guid": "de530be8-9268-46d5-be64-af5ff0c30563"
            },
            "attachments": {}
        },
        {
            "cell_type": "code",
            "source": [
                "# Grouping by 'Department' and 'Name'\n",
                "grouped_by_department_name = df.groupby(['Department', 'Name'])\n",
                "\n",
                "# Displaying the GroupBy object with multiple columns\n",
                "print(\"\\nGroupBy Object for Department and Name:\")\n",
                "print(grouped_by_department_name)"
            ],
            "metadata": {
                "language": "python",
                "azdata_cell_guid": "5c9b458b-56bb-4d61-8642-07a4411b59c2"
            },
            "outputs": [
                {
                    "name": "stdout",
                    "text": "\nGroupBy Object for Department and Name:\n<pandas.core.groupby.generic.DataFrameGroupBy object at 0x147c16a10>\n",
                    "output_type": "stream"
                }
            ],
            "execution_count": 3
        },
        {
            "cell_type": "markdown",
            "source": [
                "#### Explanation of output:\n",
                "The output of the code that groups the DataFrame by a single column ('Department') and prints the GroupBy object would look like the following:\n",
                "\n",
                "```plaintext\n",
                "GroupBy Object for Department:\n",
                "<pandas.core.groupby.generic.DataFrameGroupBy object at 0xXXXXXXXX>\n",
                "```\n",
                "\n",
                "The actual memory address (indicated by `0xXXXXXXXX`) will vary. The output shows that a GroupBy object has been created, but it doesn't display the grouped data itself. The GroupBy object is an intermediate step, and you typically apply aggregation or transformation functions to extract meaningful information from the grouped data."
            ],
            "metadata": {
                "language": "python",
                "azdata_cell_guid": "a8003ed0-e6aa-4717-b2d0-54e4fe57a303"
            },
            "attachments": {}
        },
        {
            "cell_type": "markdown",
            "source": [
                "#### Aggregation with GroupBy:"
            ],
            "metadata": {
                "language": "python",
                "azdata_cell_guid": "448281cb-1a1b-43db-acd1-33b9356260a3"
            },
            "attachments": {}
        },
        {
            "cell_type": "code",
            "source": [
                "# Calculating the average salary for each department\n",
                "avg_salary_by_department = grouped_by_department['Salary'].mean()\n",
                "\n",
                "# Displaying the result of the aggregation\n",
                "print(\"\\nAverage Salary by Department:\")\n",
                "print(avg_salary_by_department)"
            ],
            "metadata": {
                "language": "python",
                "azdata_cell_guid": "437a6fce-2107-4b84-aee2-0491bce149d9"
            },
            "outputs": [
                {
                    "name": "stdout",
                    "text": "\nAverage Salary by Department:\nDepartment\nHR           50000.0\nIT           65000.0\nMarketing    50000.0\nName: Salary, dtype: float64\n",
                    "output_type": "stream"
                }
            ],
            "execution_count": 6
        },
        {
            "cell_type": "markdown",
            "source": [
                "#### Explanation:\n",
                "\n",
                "- **GroupBy Object:**\n",
                "  - The `groupby()` function creates a GroupBy object, which is a special DataFrame with grouped data.\n",
                "  - It does not actually perform any computation until an aggregation function is applied.\n",
                "\n",
                "- **Grouping by Single and Multiple Columns:**\n",
                "  - Grouping can be done based on a single column (`df.groupby('Department')`) or multiple columns (`df.groupby(['Department', 'Name'])`).\n",
                "\n",
                "- **Aggregation with GroupBy:**\n",
                "  - After grouping, aggregation functions like `mean()`, `sum()`, `count()`, etc., can be applied to obtain summary statistics for each group.\n",
                "\n",
                "#### Scenarios for GroupBy:\n",
                "\n",
                "1. **Department-wise Analysis:**\n",
                "   - Analyze average salary, total employees, etc., for each department.\n",
                "\n",
                "2. **Customer Segmentation:**\n",
                "   - Group customers based on demographics for targeted marketing analysis.\n",
                "\n",
                "3. **Time Series Analysis:**\n",
                "   - Group time series data by month or year for temporal analysis.\n",
                "\n",
                "4. **Product Categories:**\n",
                "   - Group sales data by product categories to analyze performance.\n",
                "\n",
                "#### Considerations:\n",
                "\n",
                "- **Efficiency:**\n",
                "  - GroupBy operations can be memory-intensive. Use them judiciously, especially with large datasets.\n",
                "\n",
                "- **Aggregation Functions:**\n",
                "  - Choose appropriate aggregation functions based on the insights you seek.\n",
                "\n",
                "#### Tips:\n",
                "\n",
                "- **Resetting Index:**\n",
                "  - After aggregation, consider using `reset_index()` to bring the GroupBy result back to a regular DataFrame.\n",
                "\n",
                "- **Chaining Operations:**\n",
                "  - Chain multiple operations with GroupBy for comprehensive analysis.\n",
                "\n",
                "GroupBy operations are fundamental in Pandas for analyzing and summarizing data based on specific criteria. Whether you're working with categorical data, time series, or any other type of dataset, mastering GroupBy allows you to extract meaningful insights from your data.\n",
                ""
            ],
            "metadata": {
                "language": "python",
                "azdata_cell_guid": "1c958f15-0bba-48c1-be62-17a6a6e20ad9"
            },
            "attachments": {}
        },
        {
            "cell_type": "markdown",
            "source": [
                "#### **`Aggregation Functions in Pandas and their Application`**"
            ],
            "metadata": {
                "azdata_cell_guid": "75b73b85-57b8-4345-94de-33974e3aef64"
            },
            "attachments": {}
        },
        {
            "cell_type": "markdown",
            "source": [
                "\n",
                "#### Common Aggregation Functions:\n",
                "\n",
                "Pandas provides various aggregation functions to summarize and analyze data. Here are some commonly used aggregation functions:\n",
                "\n",
                "1. **Sum:**\n",
                "   - Calculates the sum of values in a group.\n",
                "\n",
                "2. **Mean (Average):**\n",
                "   - Computes the average value in a group.\n",
                "\n",
                "3. **Median:**\n",
                "   - Finds the middle value in a group.\n",
                "\n",
                "4. **Count:**\n",
                "   - Counts the number of non-null values in a group.\n",
                "\n",
                "5. **Min and Max:**\n",
                "   - Identify the minimum and maximum values in a group.\n",
                "\n",
                "6. **Standard Deviation and Variance:**\n",
                "   - Measures the dispersion of values in a group."
            ],
            "metadata": {
                "azdata_cell_guid": "1fe919a3-6cd9-469f-8801-0c3fbd282a7a"
            },
            "attachments": {}
        },
        {
            "cell_type": "markdown",
            "source": [
                "#### Application with GroupBy:"
            ],
            "metadata": {
                "azdata_cell_guid": "46b507b5-4556-4241-bc01-dbe4d4aa6b42"
            },
            "attachments": {}
        },
        {
            "cell_type": "code",
            "source": [
                "import pandas as pd\n",
                "\n",
                "# Sample DataFrame\n",
                "data = {'Department': ['HR', 'IT', 'Marketing', 'IT', 'Marketing'],\n",
                "        'Salary': [50000, 60000, 45000, 70000, 55000]}\n",
                "\n",
                "df = pd.DataFrame(data)\n",
                "\n",
                "# Grouping by 'Department'\n",
                "grouped_by_department = df.groupby('Department')\n",
                "\n",
                "# Applying Aggregation Functions\n",
                "agg_result = grouped_by_department['Salary'].agg(['sum', 'mean', 'count', 'min', 'max', 'std', 'var'])\n",
                "\n",
                "# Displaying the Aggregated Result\n",
                "print(\"Aggregated Result for Salary by Department:\")\n",
                "print(agg_result)"
            ],
            "metadata": {
                "azdata_cell_guid": "f5f87e9f-b854-4aca-8faa-a8a6ee2d53c0",
                "language": "python"
            },
            "outputs": [
                {
                    "name": "stdout",
                    "text": "Aggregated Result for Salary by Department:\n               sum     mean  count    min    max          std         var\nDepartment                                                               \nHR           50000  50000.0      1  50000  50000          NaN         NaN\nIT          130000  65000.0      2  60000  70000  7071.067812  50000000.0\nMarketing   100000  50000.0      2  45000  55000  7071.067812  50000000.0\n",
                    "output_type": "stream"
                }
            ],
            "execution_count": 7
        },
        {
            "cell_type": "markdown",
            "source": [
                "#### Explanation:\n",
                "\n",
                "- **GroupBy Object:**\n",
                "  - The DataFrame is grouped by the 'Department' column using `groupby('Department')`.\n",
                "\n",
                "- **Aggregation Functions:**\n",
                "  - The `agg()` function is applied to the 'Salary' column within each group.\n",
                "  - Multiple aggregation functions (sum, mean, count, min, max, std, var) are used simultaneously.\n",
                "\n",
                "- **Result Display:**\n",
                "  - The result is a DataFrame showing aggregated values for each department.\n",
                "\n",
                "#### Insights Derived:\n",
                "\n",
                "- **Total Salary Expenditure:**\n",
                "  - `sum` provides the total salary expenditure for each department.\n",
                "\n",
                "- **Average Salary:**\n",
                "  - `mean` gives the average salary within each department.\n",
                "\n",
                "- **Employee Count:**\n",
                "  - `count` indicates the number of employees in each department.\n",
                "\n",
                "- **Salary Range:**\n",
                "  - `min` and `max` reveal the minimum and maximum salaries in each department.\n",
                "\n",
                "- **Salary Dispersion:**\n",
                "  - `std` and `var` quantify the dispersion (standard deviation and variance) of salaries within each department.\n",
                "\n",
                "#### Scenarios for Aggregation:\n",
                "\n",
                "1. **Financial Analysis:**\n",
                "   - Calculate total revenue, average transaction value, etc.\n",
                "\n",
                "2. **Population Statistics:**\n",
                "   - Analyze average age, population size, etc., for different regions.\n",
                "\n",
                "3. **Sales Performance:**\n",
                "   - Assess total sales, average sales, and variability in performance.\n",
                "\n",
                "4. **Quality Control:**\n",
                "   - Evaluate average quality, defects count, etc., in manufacturing.\n",
                "\n",
                "#### Tips:\n",
                "\n",
                "- **Custom Aggregation:**\n",
                "  - You can define custom aggregation functions using lambda functions.\n",
                "\n",
                "- **Applying Multiple Functions:**\n",
                "  - Apply multiple aggregation functions simultaneously for a comprehensive analysis.\n",
                "\n",
                "Aggregation functions are essential tools for summarizing data and extracting key insights. When combined with the GroupBy operation, they allow for efficient analysis and exploration of data within specific groups or categories.\n",
                ""
            ],
            "metadata": {
                "language": "python",
                "azdata_cell_guid": "80444272-91ae-4aa3-9761-1cd9c0a708f6"
            },
            "attachments": {}
        }
    ]
}