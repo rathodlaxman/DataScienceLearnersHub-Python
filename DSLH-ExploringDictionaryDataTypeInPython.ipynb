{
    "metadata": {
        "kernelspec": {
            "name": "python3",
            "display_name": "Python 3",
            "language": "python"
        },
        "language_info": {
            "name": "python",
            "version": "3.10.9",
            "mimetype": "text/x-python",
            "codemirror_mode": {
                "name": "ipython",
                "version": 3
            },
            "pygments_lexer": "ipython3",
            "nbconvert_exporter": "python",
            "file_extension": ".py"
        }
    },
    "nbformat_minor": 2,
    "nbformat": 4,
    "cells": [
        {
            "cell_type": "markdown",
            "source": [
                "# **`Data Science Learners Hub`**\n",
                "\n",
                "**Module : Python**\n",
                "\n",
                "**email** : [datasciencelearnershub@gmail.com](mailto:datasciencelearnershub@gmail.com)"
            ],
            "metadata": {
                "azdata_cell_guid": "b0e2fb0f-1f47-4b71-ab00-0676d651318b"
            },
            "attachments": {}
        },
        {
            "cell_type": "markdown",
            "source": [
                "### **`# Exploring 'Dictionary' Data Type in Python`**"
            ],
            "metadata": {
                "azdata_cell_guid": "fec8f411-0718-4066-9fde-bce571bd46f5"
            },
            "attachments": {}
        },
        {
            "cell_type": "markdown",
            "source": [
                "### 1. Introduction\n",
                "- A dictionary is a versatile data type in Python that stores  key-value pairs. Unlike lists, which use numeric indices, dictionaries use keys to access values. Dictionaries are mutable, dynamic, and allow for efficient data retrieval.\n",
                "- Think of keys as the labels on the boxes, and values as the items inside them.\n",
                "\n",
                "### 2. Why Learn This Topic\n",
                "Learning dictionaries is crucial as they provide an efficient way to organize and retrieve data. In real-world scenarios, dictionaries mirror relationships between entities, making them invaluable for tasks such as data management, configuration settings, and more\n",
                "\n",
                "* `Fast Lookups`: Accessing values using keys is lightning-fast, making dictionaries ideal for storing and retrieving data efficiently.\n",
                "* `Flexible Data Storage`: They can accommodate various types of data, making them versatile for diverse applications.\n",
                "* `Modeling Real-World Relationships`: Dictionaries often mirror real-world relationships, like a phonebook (name-number pairs), a shopping cart (product-price pairs), or a user profile (key-value pairs for attributes).\n",
                "\n",
                "\n",
                "### 3. Real-world Scenario\n",
                "Imagine managing a student database where each student has a unique roll number (key) associated with their information (value). Dictionaries can be used to store and retrieve this data efficiently.\n",
                "\n",
                "### 4. Practical Applications\n",
                "- **Configuration Settings:** Storing configuration parameters for a program.\n",
                "- **Data Retrieval:** Efficiently accessing information using unique keys.\n",
                "- **Mapping Relationships:** Representing relationships between entities.\n",
                "\n",
                "### 5. Execution/ Interpretation\n",
                "* When a dictionary is created, Python allocates memory for its key-value pairs.\n",
                "* When you access or modify a value, Python uses a hashing technique to quickly locate the corresponding key and retrieve or update the associated value.\n",
                "\n",
                ""
            ],
            "metadata": {
                "azdata_cell_guid": "3d382efa-acff-44cc-bc07-80e85d8bc09d"
            },
            "attachments": {}
        },
        {
            "cell_type": "markdown",
            "source": [
                "### 6. Syntax and Example\n",
                "\n",
                "```python\n",
                "# Syntax\n",
                "my_dict = {'key1': 'value1', 'key2': 'value2', 'key3': 'value3'}\n",
                "\n",
                "# Example\n",
                "student_info = {'roll_number': 101, 'name': 'Alice', 'grade': 'A'}\n",
                "print(student_info['Laxman'])  # Output: Laxman\n",
                "```"
            ],
            "metadata": {
                "azdata_cell_guid": "bc8268d5-c3d2-4f08-859c-00c620f3390e"
            },
            "attachments": {}
        },
        {
            "cell_type": "markdown",
            "source": [
                "### 7. Dictionary Methods and Operations:\n",
                "\n",
                "Here are some essential methods and operations summary and examples:\n",
                "\n",
                "\n",
                "Certainly! Here's the updated table, including the additional methods and operations:\n",
                "\n",
                "| Method                              | Syntax                                       | Return Type      | In-place or Copy | One-liner Explanation                                         | Peculiarities and Considerations                              |\n",
                "|-------------------------------------|----------------------------------------------|------------------|-------------------|----------------------------------------------------------------|----------------------------------------------------------------|\n",
                "| Creating                            | `my_dict = {'key1': 'value1', 'key2': 2}`   | None             | -                 | Creates a new dictionary with specified key-value pairs      | None                                                           |\n",
                "| Accessing Values                    | `value = my_dict['key1']`                   | Value at 'key1'  | -                 | Retrieves the value associated with the specified key        | Raises a `KeyError` if the key is not present in the dictionary |\n",
                "| Adding Key-Value Pairs               | `my_dict['new_key'] = 'new_value'`          | None             | In-place          | Adds a new key-value pair to the dictionary                   | Modifies the original dictionary in-place                    |\n",
                "| Checking for Keys                   | `if 'key1' in my_dict:`                     | Boolean          | -                 | Checks if a specified key is present in the dictionary       | None                                                           |\n",
                "| Getting All Keys                     | `keys = my_dict.keys()`                     | List of Keys     | -                 | Returns a list containing all the keys in the dictionary     | None                                                           |\n",
                "| Getting All Values                   | `values = my_dict.values()`                 | List of Values   | -                 | Returns a list containing all the values in the dictionary   | None                                                           |\n",
                "| Getting All Key-Value Pairs          | `items = my_dict.items()`                   | List of Tuples   | -                 | Returns a list of tuples, each tuple containing a key-value pair | None                                                           |\n",
                "| Removing Keys                        | `del my_dict['key1']`                       | None             | In-place          | Removes the specified key and its associated value            | Raises a `KeyError` if the key is not present in the dictionary |\n",
                "| Clearing the Dictionary              | `my_dict.clear()`                           | None             | In-place          | Removes all key-value pairs from the dictionary               | Modifies the original dictionary in-place                    |\n",
                "| Iterating Over Key-Value Pairs       | `for key, value in my_dict.items():`        | -                | -                 | Iterates through all key-value pairs in the dictionary       | None                                                           |\n",
                "| del                                 | `del my_dict['key']`                        | None             | In-place          | Removes the specified key and its associated value            | Raises a `KeyError` if the key is not present in the dictionary |\n",
                "| copy()                              | `new_dict = my_dict.copy()`                | Dictionary       | Copy              | Creates a shallow copy of the dictionary                       | The copied dictionary is a new object and not linked to the original |\n",
                "| get()                               | `value = my_dict.get('key', default)`      | Value            | -                 | Retrieves the value for the specified key, with an optional default value | Returns `None` if the key is not present, or the specified default value |\n",
                "| pop()                               | `value = my_dict.pop('key', default)`      | Value            | In-place          | Removes and returns the value for the specified key, with an optional default value | Returns `None` if the key is not present, or the specified default value |\n",
                "| popitem()                           | `key, value = my_dict.popitem()`           | Tuple (Key, Value) | In-place       | Removes and returns the last key-value pair from the dictionary | Raises a `KeyError` if the dictionary is empty                |\n",
                "| update()                            | `my_dict.update({'new_key': 'new_value'})`| None             | In-place          | Updates the dictionary with key-value pairs from another dictionary or iterable | Modifies the original dictionary in-place                    |\n",
                "| {**dict1, **dict2}                  | `merged_dict = {**dict1, **dict2}`         | Dictionary       | Copy              | Merges two dictionaries into a new dictionary                 | The merged dictionary is a new object and not linked to the originals |\n",
                "| fromkeys()                          | `new_dict = dict.fromkeys(keys, value)`    | Dictionary       | Copy              | Creates a new dictionary with specified keys and a default value | The default value is `None` if not specified                    |\n",
                "\n",
                "This table provides an overview of the syntax, return types, in-place or copy behavior, one-liner explanations, and any peculiarities or considerations for the additional dictionary methods and operations. If you have further questions or need more clarification, feel free to ask!\n",
                "\n",
                ""
            ],
            "metadata": {
                "azdata_cell_guid": "5cbfb682-5501-41ad-a341-ffc5859357e3"
            },
            "attachments": {}
        },
        {
            "cell_type": "markdown",
            "source": [
                "#### 1. Creating\n",
                "Creating a dictionary involves specifying key-value pairs enclosed in curly braces."
            ],
            "metadata": {
                "azdata_cell_guid": "e275e1c3-37fc-4483-b12d-7395f9aae2d6"
            },
            "attachments": {}
        },
        {
            "cell_type": "code",
            "source": [
                "# Syntax\n",
                "my_dict = {'key1': 'value1', 'key2': 2}"
            ],
            "metadata": {
                "azdata_cell_guid": "e3bf5ec3-b68c-4605-baf5-8f93c199fc97",
                "language": "python"
            },
            "outputs": [],
            "execution_count": 2
        },
        {
            "cell_type": "markdown",
            "source": [
                "#### 2. Accessing Values\n",
                "Accessing values in a dictionary is done using square brackets and the key."
            ],
            "metadata": {
                "language": "python",
                "azdata_cell_guid": "dfd49dc2-3b58-4ca5-9a1e-1b29ef34e5bf"
            },
            "attachments": {}
        },
        {
            "cell_type": "code",
            "source": [
                "# Syntax\n",
                "value = my_dict['key1']\n",
                "# Example\n",
                "print(value)  # Output: 'value1'"
            ],
            "metadata": {
                "language": "python",
                "azdata_cell_guid": "169e0f8c-eef6-4c88-a455-6167e7323f72"
            },
            "outputs": [
                {
                    "output_type": "stream",
                    "name": "stdout",
                    "text": "value1\n"
                }
            ],
            "execution_count": 3
        },
        {
            "cell_type": "markdown",
            "source": [
                "#### 3. Adding Key-Value Pairs\n",
                "Adding a new key-value pair to an existing dictionary."
            ],
            "metadata": {
                "language": "python",
                "azdata_cell_guid": "e81b7809-b872-4f55-9865-54a8162f256c"
            },
            "attachments": {}
        },
        {
            "cell_type": "code",
            "source": [
                "# Syntax\n",
                "my_dict['new_key'] = 'new_value'\n",
                "# Example\n",
                "print(my_dict)  # Output: {'key1': 'value1', 'key2': 2, 'new_key': 'new_value'}"
            ],
            "metadata": {
                "language": "python",
                "azdata_cell_guid": "e7a33182-5d41-4eb8-bdf6-c3db6385d499"
            },
            "outputs": [
                {
                    "output_type": "stream",
                    "name": "stdout",
                    "text": "{'key1': 'value1', 'key2': 2, 'new_key': 'new_value'}\n"
                }
            ],
            "execution_count": 4
        },
        {
            "cell_type": "markdown",
            "source": [
                "#### 4. Checking for Keys\n",
                "Checking if a key exists in a dictionary."
            ],
            "metadata": {
                "language": "python",
                "azdata_cell_guid": "86b86a1c-2a1a-4fe3-8b89-2d317f774145"
            },
            "attachments": {}
        },
        {
            "cell_type": "code",
            "source": [
                "# Syntax\n",
                "if 'key1' in my_dict:\n",
                "    #Code block\n",
                "    pass\n",
                "# Example\n",
                "if 'key1' in my_dict:\n",
                "    print('Key found!')"
            ],
            "metadata": {
                "language": "python",
                "azdata_cell_guid": "f31e6bdd-9bf7-4c31-9135-72833da00138"
            },
            "outputs": [
                {
                    "output_type": "stream",
                    "name": "stdout",
                    "text": "Key found!\n"
                }
            ],
            "execution_count": 8
        },
        {
            "cell_type": "markdown",
            "source": [
                "#### 5. Getting All Keys\n",
                "Retrieving all keys from a dictionary."
            ],
            "metadata": {
                "language": "python",
                "azdata_cell_guid": "052dbcba-fa45-4fbe-8470-a09c6faf4801"
            },
            "attachments": {}
        },
        {
            "cell_type": "code",
            "source": [
                "# Syntax\n",
                "keys = my_dict.keys()\n",
                "# Example\n",
                "print(keys)  # Output: dict_keys(['key1', 'key2', 'new_key'])"
            ],
            "metadata": {
                "language": "python",
                "azdata_cell_guid": "7b4ecebe-9d05-43c3-9a52-3af2c77e3ff5"
            },
            "outputs": [
                {
                    "output_type": "stream",
                    "name": "stdout",
                    "text": "dict_keys(['key1', 'key2', 'new_key'])\n"
                }
            ],
            "execution_count": 9
        },
        {
            "cell_type": "markdown",
            "source": [
                "#### 6. Getting All Values\n",
                "Retrieving all values from a dictionary."
            ],
            "metadata": {
                "language": "python",
                "azdata_cell_guid": "2ab09b86-8c1c-4fbe-8e95-f379ee46ef1c"
            },
            "attachments": {}
        },
        {
            "cell_type": "code",
            "source": [
                "# Syntax\n",
                "values = my_dict.values()\n",
                "# Example\n",
                "print(values)  # Output: dict_values(['value1', 2, 'new_value'])"
            ],
            "metadata": {
                "language": "python",
                "azdata_cell_guid": "50b6a7c0-3d2d-4f88-bb7c-77c6814f280f"
            },
            "outputs": [
                {
                    "output_type": "stream",
                    "name": "stdout",
                    "text": "dict_values(['value1', 2, 'new_value'])\n"
                }
            ],
            "execution_count": 10
        },
        {
            "cell_type": "markdown",
            "source": [
                "#### 7. Getting All Key-Value Pairs\n",
                "Retrieving all key-value pairs (items) from a dictionary."
            ],
            "metadata": {
                "language": "python",
                "azdata_cell_guid": "845982bf-e47e-402f-8d6f-cbd7e9868be3"
            },
            "attachments": {}
        },
        {
            "cell_type": "code",
            "source": [
                "# Syntax\n",
                "items = my_dict.items()\n",
                "# Example\n",
                "print(items)  # Output: dict_items([('key1', 'value1'), ('key2', 2), ('new_key', 'new_value')])"
            ],
            "metadata": {
                "language": "python",
                "azdata_cell_guid": "d3b2c51d-d2fa-43f6-bd44-c10b19c5e734"
            },
            "outputs": [
                {
                    "output_type": "stream",
                    "name": "stdout",
                    "text": "dict_items([('key1', 'value1'), ('key2', 2), ('new_key', 'new_value')])\n"
                }
            ],
            "execution_count": 11
        },
        {
            "cell_type": "markdown",
            "source": [
                "#### 8. Removing Keys\n",
                "Deleting a specific key and its associated value from a dictionary."
            ],
            "metadata": {
                "language": "python",
                "azdata_cell_guid": "f750b463-6c9a-4005-bbb6-9caf5c4b23b7"
            },
            "attachments": {}
        },
        {
            "cell_type": "code",
            "source": [
                "# Syntax\n",
                "del my_dict['key1']\n",
                "# Example\n",
                "print(my_dict)  # Output: {'key2': 2, 'new_key': 'new_value'}"
            ],
            "metadata": {
                "language": "python",
                "azdata_cell_guid": "59b74acb-64a9-4b71-b43e-725939201288"
            },
            "outputs": [
                {
                    "output_type": "stream",
                    "name": "stdout",
                    "text": "{'key2': 2, 'new_key': 'new_value'}\n"
                }
            ],
            "execution_count": 12
        },
        {
            "cell_type": "markdown",
            "source": [
                "### 9. Clearing the Dictionary\n",
                "Removing all key-value pairs from a dictionary, making it empty."
            ],
            "metadata": {
                "language": "python",
                "azdata_cell_guid": "3881556b-5ab2-41c7-97ba-a86fd8fb2fa7"
            },
            "attachments": {}
        },
        {
            "cell_type": "code",
            "source": [
                "# Syntax\n",
                "my_dict.clear()\n",
                "# Example\n",
                "print(my_dict)  # Output: {}"
            ],
            "metadata": {
                "language": "python",
                "azdata_cell_guid": "8f2480d1-d79f-43d4-8806-b9b1cc4bd498"
            },
            "outputs": [
                {
                    "output_type": "stream",
                    "name": "stdout",
                    "text": "{}\n"
                }
            ],
            "execution_count": 13
        },
        {
            "cell_type": "markdown",
            "source": [
                "#### 10. Iterating Over Key-Value Pairs\n",
                "Looping through all key-value pairs in a dictionary."
            ],
            "metadata": {
                "language": "python",
                "azdata_cell_guid": "773f3a93-a5e5-4bab-8f9f-7d9aa2e53e1a"
            },
            "attachments": {}
        },
        {
            "cell_type": "code",
            "source": [
                "my_dict = {'key1': 'value1', 'key2': 2, 'new_key': 'new_value'}\n",
                "\n",
                "# Syntax\n",
                "for key, value in my_dict.items():\n",
                "    # Code block\n",
                "    pass\n",
                "\n",
                "# Example\n",
                "for key, value in my_dict.items():\n",
                "    print(f\"Key: {key}, Value: {value}\")"
            ],
            "metadata": {
                "language": "python",
                "azdata_cell_guid": "f19b6ffb-aaac-4209-9e48-add1c4451d09"
            },
            "outputs": [
                {
                    "output_type": "stream",
                    "name": "stdout",
                    "text": "Key: key1, Value: value1\nKey: key2, Value: 2\nKey: new_key, Value: new_value\n"
                }
            ],
            "execution_count": 16
        },
        {
            "cell_type": "markdown",
            "source": [
                "#### 11. Copying a Dictionary\n",
                "Creating a copy of a dictionary."
            ],
            "metadata": {
                "language": "python",
                "azdata_cell_guid": "cd3d8d4c-6c3a-4674-8dcc-8edc23de972f"
            },
            "attachments": {}
        },
        {
            "cell_type": "code",
            "source": [
                "# Syntax\n",
                "copied_dict = my_dict.copy()\n",
                "# Example\n",
                "print(copied_dict)"
            ],
            "metadata": {
                "language": "python",
                "azdata_cell_guid": "41e75eb9-00ea-45ce-93aa-675264391391"
            },
            "outputs": [
                {
                    "output_type": "stream",
                    "name": "stdout",
                    "text": "{'key1': 'value1', 'key2': 2, 'new_key': 'new_value'}\n"
                }
            ],
            "execution_count": 17
        },
        {
            "cell_type": "markdown",
            "source": [
                "#### 12. Getting a Value with Default\n",
                "Retrieving a value with a default value if the key is not present."
            ],
            "metadata": {
                "language": "python",
                "azdata_cell_guid": "8f74f102-fe76-4e28-9074-ce52a57aeb4e"
            },
            "attachments": {}
        },
        {
            "cell_type": "code",
            "source": [
                "value = my_dict.get('key3', 'default_value')\n",
                "# Example\n",
                "print(value)  # Output: 'default_value'"
            ],
            "metadata": {
                "language": "python",
                "azdata_cell_guid": "8ce5c2e0-ffdf-4d32-8655-3d071f12bdfd"
            },
            "outputs": [
                {
                    "output_type": "stream",
                    "name": "stdout",
                    "text": "default_value\n"
                }
            ],
            "execution_count": 18
        },
        {
            "cell_type": "markdown",
            "source": [
                "#### 13. Removing and Returning a Value\n",
                "Removing a key-value pair and returning the corresponding value."
            ],
            "metadata": {
                "language": "python",
                "azdata_cell_guid": "a8910d6d-472e-4ea5-aa79-e18d0816e885"
            },
            "attachments": {}
        },
        {
            "cell_type": "code",
            "source": [
                "# Syntax\n",
                "removed_value = my_dict.pop('key2')\n",
                "# Example\n",
                "print(removed_value)  # Output: 2\n",
                "print(my_dict)        # Output: {'key1': 'value1', 'new_key': 'new_value'}"
            ],
            "metadata": {
                "language": "python",
                "azdata_cell_guid": "ba648551-a315-456d-8dc7-ae6844afb804"
            },
            "outputs": [
                {
                    "output_type": "stream",
                    "name": "stdout",
                    "text": "2\n{'key1': 'value1', 'new_key': 'new_value'}\n"
                }
            ],
            "execution_count": 19
        },
        {
            "cell_type": "markdown",
            "source": [
                "#### 14. Removing and Returning an Arbitrary Key-Value Pair\n",
                "Removing and returning an arbitrary key-value pair."
            ],
            "metadata": {
                "language": "python",
                "azdata_cell_guid": "7687a5ec-f796-4e18-892d-fafe7e7d8e2d"
            },
            "attachments": {}
        },
        {
            "cell_type": "code",
            "source": [
                "# Syntax\n",
                "key, value = my_dict.popitem()\n",
                "# Example\n",
                "print(f\"Removed: {key}, {value}\")\n",
                "print(my_dict)"
            ],
            "metadata": {
                "language": "python",
                "azdata_cell_guid": "8694b21b-104d-4cd3-b4a7-32acdadf0abd"
            },
            "outputs": [
                {
                    "output_type": "stream",
                    "name": "stdout",
                    "text": "Removed: new_key, new_value\n{'key1': 'value1'}\n"
                }
            ],
            "execution_count": 20
        },
        {
            "cell_type": "markdown",
            "source": [
                "#### 15. Set Default Value\n",
                "Setting a default value for a key if it does not exist."
            ],
            "metadata": {
                "language": "python",
                "azdata_cell_guid": "f932d5c9-6d6e-4285-8970-916bc86b99e5"
            },
            "attachments": {}
        },
        {
            "cell_type": "code",
            "source": [
                "# Syntax\n",
                "my_dict.setdefault('key3', 'default_value')\n",
                "# Example\n",
                "print(my_dict)  # Output: {'key1': 'value1', 'new_key': 'new_value', 'key3': 'default_value'}"
            ],
            "metadata": {
                "language": "python",
                "azdata_cell_guid": "a488e1b6-ab45-494a-b036-14dcfe438260"
            },
            "outputs": [
                {
                    "output_type": "stream",
                    "name": "stdout",
                    "text": "{'key1': 'value1', 'key3': 'default_value'}\n"
                }
            ],
            "execution_count": 21
        },
        {
            "cell_type": "markdown",
            "source": [
                "#### 16. Updating a Dictionary\n",
                "Updating a dictionary with key-value pairs from another dictionary."
            ],
            "metadata": {
                "language": "python",
                "azdata_cell_guid": "affd9a75-c44e-4267-ace6-1789d84f2e18"
            },
            "attachments": {}
        },
        {
            "cell_type": "code",
            "source": [
                "# Syntax\n",
                "my_dict.update({'key4': 'value4', 'key5': 'value5'})\n",
                "# Example\n",
                "print(my_dict)\n",
                "\n",
                "# "
            ],
            "metadata": {
                "language": "python",
                "azdata_cell_guid": "1b5ec811-9ed2-4835-883f-eeaf8b6f1ead"
            },
            "outputs": [
                {
                    "output_type": "stream",
                    "name": "stdout",
                    "text": "{'key1': 'value1', 'key3': 'default_value', 'key4': 'value4', 'key5': 'value5'}\n"
                }
            ],
            "execution_count": 23
        },
        {
            "cell_type": "code",
            "source": [
                "dict1 = {'key1': 'value1', 'key3': 'default_value'}\n",
                "dict2 = {'key4': 'value4', 'key5': 'value5'}\n",
                "dict1.update(dict2)\n",
                "print(dict1)"
            ],
            "metadata": {
                "language": "python",
                "azdata_cell_guid": "6d83603d-20e7-4598-a358-1a543ee14ab9"
            },
            "outputs": [
                {
                    "output_type": "stream",
                    "name": "stdout",
                    "text": "{'key1': 'value1', 'key3': 'default_value', 'key4': 'value4', 'key5': 'value5'}\n"
                }
            ],
            "execution_count": 25
        },
        {
            "cell_type": "markdown",
            "source": [
                "#### 17. Dictionary Comprehension\n",
                "Creating a dictionary using a concise and readable syntax."
            ],
            "metadata": {
                "language": "python",
                "azdata_cell_guid": "2df22ad1-cf63-4f27-9bba-7d570182f520"
            },
            "attachments": {}
        },
        {
            "cell_type": "code",
            "source": [
                "# Syntax\n",
                "# my_dict = {key: value for key, value in iterable}\n",
                "\n",
                "# Example\n",
                "squared_dict = {x: x**2 for x in range(5)}\n",
                "print(squared_dict)  # Output: {0: 0, 1: 1, 2: 4, 3: 9, 4: 16}"
            ],
            "metadata": {
                "language": "python",
                "azdata_cell_guid": "e2024c7d-393e-41ed-b53c-9b3ab9b6300a"
            },
            "outputs": [
                {
                    "output_type": "stream",
                    "name": "stdout",
                    "text": "{0: 0, 1: 1, 2: 4, 3: 9, 4: 16}\n"
                }
            ],
            "execution_count": 27
        },
        {
            "cell_type": "markdown",
            "source": [
                "#### 18. Merging Dictionaries\n",
                "Merging two dictionaries into one."
            ],
            "metadata": {
                "language": "python",
                "azdata_cell_guid": "6a81c31e-77a8-4fc7-984a-43adf22f325d"
            },
            "attachments": {}
        },
        {
            "cell_type": "code",
            "source": [
                "# Syntax\n",
                "merged_dict = {**dict1, **dict2}\n",
                "# Example\n",
                "dict1 = {'a': 1, 'b': 2}\n",
                "dict2 = {'b': 3, 'c': 4}\n",
                "merged_dict = {**dict1, **dict2}\n",
                "print(merged_dict)  # Output: {'a': 1, 'b': 3, 'c': 4}"
            ],
            "metadata": {
                "language": "python",
                "azdata_cell_guid": "23bf636f-53ec-4a66-8f1d-8c05196ef9f1"
            },
            "outputs": [
                {
                    "output_type": "stream",
                    "name": "stdout",
                    "text": "{'a': 1, 'b': 3, 'c': 4}\n"
                }
            ],
            "execution_count": 28
        },
        {
            "cell_type": "markdown",
            "source": [
                "#### `Explanation`:\n",
                "\n",
                "1. **Syntax:**\n",
                "   ```python\n",
                "   merged_dict = {**dict1, **dict2}\n",
                "   ```\n",
                "\n",
                "2. **Merging Process:**\n",
                "   - The `{**dict1, **dict2}` syntax is a concise way to merge two dictionaries.\n",
                "   - The keys and values from `dict1` are included first in the merged dictionary.\n",
                "   - Then, the keys and values from `dict2` are added. If there are any common keys between `dict1` and `dict2`, the values from `dict2` overwrite the values from `dict1`.\n",
                "\n",
                "3. **Example:**\n",
                "   - `dict1` has keys 'a' and 'b' with values 1 and 2, respectively.\n",
                "   - `dict2` has keys 'b' and 'c' with values 3 and 4, respectively.\n",
                "   - After merging, the resulting dictionary `merged_dict` has keys 'a', 'b', and 'c' with values 1, 3, and 4, respectively.\n",
                "\n",
                "4. **Output:**\n",
                "   ```python\n",
                "   print(merged_dict)  # Output: {'a': 1, 'b': 3, 'c': 4}\n",
                "   ```\n",
                "\n",
                "#### `Important Note`:\n",
                "\n",
                "- This method of merging dictionaries works in Python 3.5 and later versions.\n",
                "- It provides a concise and readable way to merge dictionaries without modifying the original dictionaries.\n",
                "\n",
                "#### `Alternative Merging Methods:`\n",
                "\n",
                "- **`update()` Method:**\n",
                "  ```python\n",
                "  dict1.update(dict2)\n",
                "  ```\n",
                "\n",
                "- **Dictionary Unpacking (Python 3.9+):**\n",
                "  ```python\n",
                "  merged_dict = {**dict1, **dict2, 'd': 5}\n",
                "  ```\n",
                "\n",
                "Both methods achieve the same result but offer different syntax and compatibility considerations."
            ],
            "metadata": {
                "language": "python",
                "azdata_cell_guid": "46eccc22-adf5-4dae-ba4c-ef8e91c473a3"
            },
            "attachments": {}
        },
        {
            "cell_type": "markdown",
            "source": [
                "#### 19. Dictionary Views\n",
                "Getting dynamic views of dictionary keys, values, or key-value pairs."
            ],
            "metadata": {
                "azdata_cell_guid": "705df8f5-bb0d-4791-b92a-680fddb2b6bb"
            },
            "attachments": {}
        },
        {
            "cell_type": "code",
            "source": [
                "# Syntax\n",
                "keys_view = my_dict.keys()\n",
                "values_view = my_dict.values()\n",
                "items_view = my_dict.items()\n",
                "# Example\n",
                "print(keys_view)    # Output: dict_keys(['key1', 'new_key', 'key3'])\n",
                "print(values_view)  # Output: dict_values(['value1', 'new_value', 'default_value'])\n",
                "print(items_view)   # Output: dict_items([('key1', 'value1'), ('new_key', 'new_value'), ('key3', 'default_value')])"
            ],
            "metadata": {
                "azdata_cell_guid": "afebaa15-7ce3-491a-835a-dd90995bb350",
                "language": "python"
            },
            "outputs": [
                {
                    "output_type": "stream",
                    "name": "stdout",
                    "text": "dict_keys(['key1', 'key3', 'key4', 'key5'])\ndict_values(['value1', 'default_value', 'value4', 'value5'])\ndict_items([('key1', 'value1'), ('key3', 'default_value'), ('key4', 'value4'), ('key5', 'value5')])\n"
                }
            ],
            "execution_count": 29
        },
        {
            "cell_type": "markdown",
            "source": [
                "#### Explanation:\n",
                "\n",
                "The provided code introduces the concept of \"Dictionary Views\" in Python. Dictionary views are dynamic objects that provide a view of the keys, values, or key-value pairs present in a dictionary. Let's break down the code:\n",
                "\n",
                "```python\n",
                "# Syntax\n",
                "keys_view = my_dict.keys()\n",
                "values_view = my_dict.values()\n",
                "items_view = my_dict.items()\n",
                "```\n",
                "\n",
                "Here, `my_dict` is assumed to be a dictionary. The code creates three different views:\n",
                "\n",
                "1. **`keys_view`**: Represents a dynamic view of the keys in the dictionary.\n",
                "2. **`values_view`**: Represents a dynamic view of the values in the dictionary.\n",
                "3. **`items_view`**: Represents a dynamic view of the key-value pairs in the dictionary.\n",
                "\n",
                "```python\n",
                "# Example\n",
                "print(keys_view)    # Output: dict_keys(['key1', 'new_key', 'key3'])\n",
                "print(values_view)  # Output: dict_values(['value1', 'new_value', 'default_value'])\n",
                "print(items_view)   # Output: dict_items([('key1', 'value1'), ('new_key', 'new_value'), ('key3', 'default_value')])\n",
                "```\n",
                "\n",
                "- **`dict_keys`, `dict_values`, and `dict_items`:**\n",
                "  - These are the types of views returned by the methods `keys()`, `values()`, and `items()` respectively.\n",
                "  - These views are dynamic and reflect the current state of the dictionary. If the dictionary changes, the views automatically update.\n",
                "\n",
                "- **Practical Usage:**\n",
                "  - Dictionary views are useful when you want to work with the keys, values, or items of a dictionary without creating separate lists.\n",
                "  - They provide an efficient way to iterate over the dictionary's contents.\n",
                "\n",
                "- **Output Explanation:**\n",
                "  - `dict_keys(['key1', 'new_key', 'key3'])`: Shows the keys in the dictionary.\n",
                "  - `dict_values(['value1', 'new_value', 'default_value'])`: Shows the values in the dictionary.\n",
                "  - `dict_items([('key1', 'value1'), ('new_key', 'new_value'), ('key3', 'default_value')])`: Shows the key-value pairs in the dictionary.\n",
                "\n",
                "- **Note:**\n",
                "  - The outputs are displayed as specific view types (`dict_keys`, `dict_values`, and `dict_items`), but they can be converted to other iterable types like lists if needed.\n",
                "\n",
                "In summary, the code introduces a convenient way to obtain dynamic views of dictionary contents, providing flexibility and efficiency in certain programming scenarios."
            ],
            "metadata": {
                "language": "python",
                "azdata_cell_guid": "c360594e-0111-4a6d-8df5-5ab332af4073"
            },
            "attachments": {}
        },
        {
            "cell_type": "markdown",
            "source": [
                "#### 20. Dictionary Pop with Default\n",
                "Pop a key with a default value if the key is not present."
            ],
            "metadata": {
                "azdata_cell_guid": "7e497f81-1815-47a8-9d53-7c34fc25d15a"
            },
            "attachments": {}
        },
        {
            "cell_type": "code",
            "source": [
                "# Syntax\n",
                "value = my_dict.pop('key4', 'default_value')\n",
                "# Example\n",
                "print(value)  # Output: 'default_value'"
            ],
            "metadata": {
                "azdata_cell_guid": "117a7bf7-baf8-4c7b-9bed-1189c630a208",
                "language": "python"
            },
            "outputs": [
                {
                    "output_type": "stream",
                    "name": "stdout",
                    "text": "value4\n"
                }
            ],
            "execution_count": 30
        },
        {
            "cell_type": "markdown",
            "source": [
                "#### 21. Updating from Another Dictionary\n",
                "Updating a dictionary with key-value pairs from another dictionary.\n",
                ""
            ],
            "metadata": {
                "language": "python",
                "azdata_cell_guid": "0d4b2708-3c97-4958-b196-c5fcfbc977a9"
            },
            "attachments": {}
        },
        {
            "cell_type": "code",
            "source": [
                "# Syntax\n",
                "# my_dict.update(another_dict)\n",
                "# Example\n",
                "another_dict = {'key4': 'value4', 'key5': 'value5'}\n",
                "my_dict.update(another_dict)\n",
                "print(my_dict)  # Output: {'key1': 'value1', 'new_key': 'new_value', 'key3': 'default_value', 'key4': 'value4', 'key5': 'value5'}"
            ],
            "metadata": {
                "language": "python",
                "azdata_cell_guid": "675050f2-410b-4412-b439-cd8f287cafd5"
            },
            "outputs": [
                {
                    "output_type": "stream",
                    "name": "stdout",
                    "text": "{'key1': 'value1', 'key3': 'default_value', 'key5': 'value5', 'key4': 'value4'}\n"
                }
            ],
            "execution_count": 32
        },
        {
            "cell_type": "markdown",
            "source": [
                "#### 22. Dictionary Update from Iterable\n",
                "Updating a dictionary with key-value pairs from an iterable of tuples."
            ],
            "metadata": {
                "language": "python",
                "azdata_cell_guid": "82df5666-a55f-4090-9ec5-ce517ebabc2d"
            },
            "attachments": {}
        },
        {
            "cell_type": "code",
            "source": [
                "# Syntax\n",
                "# my_dict.update(iterable_of_tuples)\n",
                "\n",
                "# Example\n",
                "iterable_of_tuples = [('key6', 'value6'), ('key7', 'value7')]\n",
                "my_dict.update(iterable_of_tuples)\n",
                "print(my_dict)  # Output: {'key3': 'default_value', 'key4': 'value4', 'key6': 'value6', 'key7': 'value7'}"
            ],
            "metadata": {
                "language": "python",
                "azdata_cell_guid": "c7100029-cd37-41b9-a341-c7bb7eed2716"
            },
            "outputs": [
                {
                    "output_type": "stream",
                    "name": "stdout",
                    "text": "{'key1': 'value1', 'key3': 'default_value', 'key5': 'value5', 'key4': 'value4', 'key6': 'value6', 'key7': 'value7'}\n"
                }
            ],
            "execution_count": 33
        },
        {
            "cell_type": "markdown",
            "source": [
                "#### 23. Dictionary fromkeys\n",
                "Create a new dictionary with keys from an iterable and values set to a default value.\n",
                ""
            ],
            "metadata": {
                "language": "python",
                "azdata_cell_guid": "b07b16e2-ce83-4c30-b79d-9385bfd8fa0e"
            },
            "attachments": {}
        },
        {
            "cell_type": "code",
            "source": [
                "# Syntax\n",
                "#new_dict = dict.fromkeys(iterable_of_keys, default_value)\n",
                "\n",
                "# Example\n",
                "keys = ['key8', 'key9', 'key10']\n",
                "new_dict = dict.fromkeys(keys, 'default_value')\n",
                "print(new_dict)  # Output: {'key8': 'default_value', 'key9': 'default_value', 'key10': 'default_value'}"
            ],
            "metadata": {
                "language": "python",
                "azdata_cell_guid": "e280f2dd-3535-4e4b-b1c3-cd8367f17c7b"
            },
            "outputs": [
                {
                    "output_type": "stream",
                    "name": "stdout",
                    "text": "{'key8': 'default_value', 'key9': 'default_value', 'key10': 'default_value'}\n"
                }
            ],
            "execution_count": 35
        },
        {
            "cell_type": "markdown",
            "source": [
                "### 8. Considerations\n",
                "\n",
                "* Unordered: Key-value pairs are not stored in any particular order and the order of items is not guaranteed.\n",
                "* Mutable: You can add, modify, or remove key-value pairs after creation.\n",
                "* Keys Must Be Unique: Duplicate keys within a dictionary are not allowed.\n",
                "* Keys Must Be Immutable: You can't use lists or other mutable types as keys.\n",
                "\n",
                "\n",
                "### 9. Common Mistakes\n",
                "- Forgetting to enclose keys in quotes when defining a dictionary.\n",
                "- Attempting to access a non-existent key.\n",
                "- Modifying a dictionary while iterating over it.\n",
                "* Modifying Keys: Attempting to change a key after creation raises an error.\n",
                "* Using Mutable Objects as Keys: Using lists or mutable objects as keys can cause unexpected results."
            ],
            "metadata": {
                "azdata_cell_guid": "d00c7b1b-08d1-467f-a69b-033dd09042a5"
            },
            "attachments": {}
        },
        {
            "cell_type": "markdown",
            "source": [
                "### 10. Hands-on Experience"
            ],
            "metadata": {
                "azdata_cell_guid": "7ee37505-c137-42d2-860d-374f309e0f84"
            },
            "attachments": {}
        },
        {
            "cell_type": "markdown",
            "source": [
                "### Question 1:\n",
                "**Scenario:** You have a dictionary containing information about students and their exam scores.\n",
                "\n",
                "```python\n",
                "student_scores = {'laxman': 85, 'ashwanth': 92, 'venky': 78, 'ashok': 95, 'balla': 88}\n",
                "```\n",
                "\n",
                "**Task:** Write a Python program to find and print the student with the highest score.\n",
                "\n",
                "**Solution:**"
            ],
            "metadata": {
                "azdata_cell_guid": "722d2292-3ee2-4bad-b2fc-941f09cf99d4"
            },
            "attachments": {}
        },
        {
            "cell_type": "code",
            "source": [
                "# Solution 1\n",
                "student_scores = {'laxman': 85, 'ashwanth': 92, 'venky': 78, 'ashok': 95, 'balla': 88}\n",
                "max_score_student = max(student_scores, key=student_scores.get)\n",
                "print(f\"The student with the highest score is: {max_score_student}\")"
            ],
            "metadata": {
                "azdata_cell_guid": "7a34ff59-89a6-40fe-8c59-e4f328283669",
                "language": "python"
            },
            "outputs": [
                {
                    "output_type": "stream",
                    "name": "stdout",
                    "text": "The student with the highest score is: ashok\n"
                }
            ],
            "execution_count": 36
        },
        {
            "cell_type": "code",
            "source": [
                "# Solution 2\n",
                "max_score_student = max(student_scores, key=lambda k: student_scores[k])\n",
                "print(f\"The student with the highest score is: {max_score_student}\")"
            ],
            "metadata": {
                "language": "python",
                "azdata_cell_guid": "2a689d96-805c-48cd-b3a8-b02a13f67de2"
            },
            "outputs": [
                {
                    "output_type": "stream",
                    "name": "stdout",
                    "text": "The student with the highest score is: ashok\n"
                }
            ],
            "execution_count": 37
        },
        {
            "cell_type": "markdown",
            "source": [
                "**Explanation :** \n",
                "The `key` parameter in the `max()` function is used to specify a function of one argument that is used to extract a comparison key from each element in the iterable. In simpler terms, it defines a custom criterion for finding the maximum value in a sequence.\n",
                "\n",
                "Let's break down the specific part of the code: `max(student_scores, key=student_scores.get)`.\n",
                "\n",
                "In Python dictionaries, the `get()` method is used to retrieve the value associated with a given key. The `key=student_scores.get` part is specifying that the `get` method should be used to retrieve the values for each key in the `student_scores` dictionary, and these values will be used as the basis for comparison when finding the maximum.\n",
                "\n",
                "Here's a step-by-step explanation:\n",
                "\n",
                "1. **Iteration over Keys:**\n",
                "   - `max(student_scores, ...)` iterates over the keys of the `student_scores` dictionary.\n",
                "\n",
                "2. **Key Function (`key=student_scores.get`):**\n",
                "   - For each key during iteration, the `student_scores.get` function is applied to retrieve the corresponding value (score).\n",
                "   - The `get` method is used as a key function, and it takes a key as an argument and returns the associated value.\n",
                "\n",
                "3. **Comparison Based on Scores:**\n",
                "   - The `max()` function compares the retrieved values (scores) for each key and identifies the maximum value.\n",
                "\n",
                "4. **Result:**\n",
                "   - The key (student name) associated with the maximum value (score) is returned as the result.\n",
                "\n",
                "In essence, `key=student_scores.get` is a way of telling `max()` how to extract the values for comparison. In this case, it's using the scores as the basis for finding the maximum score and, consequently, the student with the highest score in the dictionary."
            ],
            "metadata": {
                "azdata_cell_guid": "05e4eebb-ca1e-4b72-86c6-b35045e29bf6",
                "language": ""
            },
            "attachments": {}
        },
        {
            "cell_type": "markdown",
            "source": [
                "### Question 2:\n",
                "**Scenario:** You are given a list of words. Create a dictionary where keys are the words, and values are the lengths of the corresponding words.\n",
                "\n",
                "```python\n",
                "words = ['apple', 'banana', 'orange', 'kiwi', 'grape']\n",
                "```\n",
                "\n",
                "**Task:** Write a Python program to create the dictionary.\n",
                "\n",
                "**Solution:**"
            ],
            "metadata": {
                "azdata_cell_guid": "04b87fe9-d2dd-47fc-b337-1dfc75acaf6e"
            },
            "attachments": {}
        },
        {
            "cell_type": "code",
            "source": [
                "words = ['apple', 'banana', 'orange', 'kiwi', 'grape']\n",
                "word_lengths = {word: len(word) for word in words}\n",
                "print(\"Dictionary of words and their lengths:\", word_lengths)"
            ],
            "metadata": {
                "azdata_cell_guid": "31af3877-3e1d-4354-ae16-8b51ead11b1f",
                "language": "python"
            },
            "outputs": [
                {
                    "output_type": "stream",
                    "name": "stdout",
                    "text": "Dictionary of words and their lengths: {'apple': 5, 'banana': 6, 'orange': 6, 'kiwi': 4, 'grape': 5}\n"
                }
            ],
            "execution_count": 38
        },
        {
            "cell_type": "markdown",
            "source": [
                "### Question 3:\n",
                "**Scenario:** You have a dictionary representing a shopping cart with items and their prices.\n",
                "\n",
                "```python\n",
                "shopping_cart = {'apple': 250, 'banana': 180, 'orange': 300, 'kiwi': 220}\n",
                "```\n",
                "\n",
                "**Task:** Write a Python program to calculate and print the total cost of items in the shopping cart.\n",
                "\n",
                "**Solution:**"
            ],
            "metadata": {
                "language": "python",
                "azdata_cell_guid": "ec6db884-58f6-4b13-a963-6ac064c79892"
            },
            "attachments": {}
        },
        {
            "cell_type": "code",
            "source": [
                "shopping_cart = {'apple': 250, 'banana': 180, 'orange': 300, 'kiwi': 220}\n",
                "total_cost = sum(shopping_cart.values())\n",
                "print(f\"The total cost of items in the shopping cart is: ₹{total_cost:.2f}/-\")"
            ],
            "metadata": {
                "language": "python",
                "azdata_cell_guid": "4584769a-38ee-4517-9d21-28bba82d2f8f"
            },
            "outputs": [
                {
                    "output_type": "stream",
                    "name": "stdout",
                    "text": "The total cost of items in the shopping cart is: ₹950.00/-\n"
                }
            ],
            "execution_count": 46
        },
        {
            "cell_type": "markdown",
            "source": [
                "### Question 4:\n",
                "**Scenario:** You are given two dictionaries representing the inventory of two stores.\n",
                "\n",
                "```python\n",
                "store1_inventory = {'apple': 20, 'banana': 30, 'orange': 25}\n",
                "store2_inventory = {'banana': 15, 'orange': 20, 'kiwi': 10}\n",
                "```\n",
                "\n",
                "**Task:** Write a Python program to find and print the items common to both stores."
            ],
            "metadata": {
                "language": "python",
                "azdata_cell_guid": "cfe78337-663c-42bb-b02b-f07ddb228a5b"
            },
            "attachments": {}
        },
        {
            "cell_type": "code",
            "source": [
                "store1_inventory = {'apple': 20, 'banana': 30, 'orange': 25}\n",
                "store2_inventory = {'banana': 15, 'orange': 20, 'kiwi': 10}\n",
                "\n",
                "common_items = {item for item in store1_inventory.keys() & store2_inventory.keys()}\n",
                "print(\"Common items in both stores:\", common_items)"
            ],
            "metadata": {
                "language": "python",
                "azdata_cell_guid": "eab53158-d2e5-4ee5-a51a-13375c9a37fb"
            },
            "outputs": [
                {
                    "output_type": "stream",
                    "name": "stdout",
                    "text": "Common items in both stores: {'orange', 'banana'}\n"
                }
            ],
            "execution_count": 40
        },
        {
            "cell_type": "markdown",
            "source": [
                "### Question 5:\n",
                "**Scenario:** You have a list of words. Create a dictionary where keys are the words, and values are True if the word starts with a vowel, and False otherwise.\n",
                "\n",
                "```python\n",
                "words = ['apple', 'banana', 'orange', 'kiwi', 'grape']\n",
                "```\n",
                "\n",
                "**Task:** Write a Python program to create the dictionary.\n",
                "\n",
                "**Solution:**"
            ],
            "metadata": {
                "language": "python",
                "azdata_cell_guid": "ed200924-257e-4f3a-8c13-038e1c55a68a"
            },
            "attachments": {}
        },
        {
            "cell_type": "code",
            "source": [
                "words = ['apple', 'banana', 'orange', 'kiwi', 'grape']\n",
                "starts_with_vowel = {word: word[0].lower() in 'aeiou' for word in words}\n",
                "print(\"Dictionary indicating if a word starts with a vowel:\", starts_with_vowel)"
            ],
            "metadata": {
                "language": "python",
                "azdata_cell_guid": "7d91279c-a61b-413c-8893-2a989db72577"
            },
            "outputs": [
                {
                    "output_type": "stream",
                    "name": "stdout",
                    "text": "Dictionary indicating if a word starts with a vowel: {'apple': True, 'banana': False, 'orange': True, 'kiwi': False, 'grape': False}\n"
                }
            ],
            "execution_count": 41
        },
        {
            "cell_type": "markdown",
            "source": [
                "### Question 6:\n",
                "**Scenario:** You have a list of words. Create a dictionary where keys are the words, and values are the counts of each word in the list.\n",
                "\n",
                "```python\n",
                "words = ['apple', 'banana', 'orange', 'kiwi', 'banana', 'apple', 'kiwi']\n",
                "```\n",
                "\n",
                "**Task:** Write a Python program to create the dictionary.\n",
                "\n",
                "**Solution:**"
            ],
            "metadata": {
                "language": "python",
                "azdata_cell_guid": "9187867b-8e7a-4524-8d4d-8e1cca9fec1c"
            },
            "attachments": {}
        },
        {
            "cell_type": "code",
            "source": [
                "words = ['apple', 'banana', 'orange', 'kiwi', 'banana', 'apple', 'kiwi']\n",
                "word_counts = {}\n",
                "for word in words:\n",
                "    word_counts[word] = word_counts.get(word, 0) + 1\n",
                "print(\"Dictionary of word counts:\", word_counts)"
            ],
            "metadata": {
                "language": "python",
                "azdata_cell_guid": "4ee2aaef-9528-472c-b316-ea9609a85a00"
            },
            "outputs": [
                {
                    "output_type": "stream",
                    "name": "stdout",
                    "text": "Dictionary of word counts: {'apple': 2, 'banana': 2, 'orange': 1, 'kiwi': 2}\n"
                }
            ],
            "execution_count": 42
        },
        {
            "cell_type": "markdown",
            "source": [
                "### Question 7:\n",
                "**Scenario:** You are given a dictionary representing the population of cities.\n",
                "\n",
                "```python\n",
                "city_population = {'Hyderabad': 8398748, 'Pune': 3990456, 'Mahabubnagar': 2705994, 'Srinagar': 2325502}\n",
                "```\n",
                "\n",
                "**Task:** Write a Python program to find and print the city with the highest population.\n",
                "\n",
                "**Solution:**"
            ],
            "metadata": {
                "language": "python",
                "azdata_cell_guid": "a6e4b470-55b4-4b67-aec5-ddf917342624"
            },
            "attachments": {}
        },
        {
            "cell_type": "code",
            "source": [
                "city_population = {'Hyderabad': 8398748, 'Pune': 3990456, 'Mahabubnagar': 2705994, 'Srinagar': 2325502}\n",
                "max_population_city = max(city_population, key=city_population.get)\n",
                "print(f\"The city with the highest population is: {max_population_city}\")"
            ],
            "metadata": {
                "language": "python",
                "azdata_cell_guid": "ff9dbd05-3003-494d-af44-731a103018d7"
            },
            "outputs": [
                {
                    "output_type": "stream",
                    "name": "stdout",
                    "text": "The city with the highest population is: Hyderabad\n"
                }
            ],
            "execution_count": 43
        },
        {
            "cell_type": "markdown",
            "source": [
                "### Question 8:\n",
                "**Scenario:** You have a list of transactions. Each transaction is a dictionary with 'item' and 'price'.\n",
                "\n",
                "```python\n",
                "transactions = [{'item': 'apple', 'price': 250}, {'item': 'banana', 'price': 108}, {'item': 'orange', 'price': 300}]\n",
                "```\n",
                "\n",
                "**Task:** Write a Python program to calculate and print the total cost of all transactions.\n",
                "\n",
                "**Solution:**"
            ],
            "metadata": {
                "language": "python",
                "azdata_cell_guid": "98a60346-f79b-419e-b4bb-973b72e3c271"
            },
            "attachments": {}
        },
        {
            "cell_type": "code",
            "source": [
                "transactions = [{'item': 'apple', 'price': 250}, {'item': 'banana', 'price': 108}, {'item': 'orange', 'price': 300}]\n",
                "total_cost = sum(transaction['price'] for transaction in transactions)\n",
                "print(f\"The total cost of all transactions is: ₹{total_cost:.2f}/-\")"
            ],
            "metadata": {
                "language": "python",
                "azdata_cell_guid": "7085d648-513d-467c-8f61-652663703242"
            },
            "outputs": [
                {
                    "output_type": "stream",
                    "name": "stdout",
                    "text": "The total cost of all transactions is: ₹658.00/-\n"
                }
            ],
            "execution_count": 48
        },
        {
            "cell_type": "markdown",
            "source": [
                "### Question 9:\n",
                "**Scenario:** You have a dictionary representing the scores of students in different subjects.\n",
                "\n",
                "```python\n",
                "student_scores = {'Laxman': {'Math': 92, 'English': 88, 'Science': 95},\n",
                "                  'Rajesh': {'Math': 78, 'English': 85, 'Science': 90},\n",
                "                  'Naresh': {'Math': 88, 'English': 92, 'Science': 87}}\n",
                "```\n",
                "\n",
                "**Task:** Write a Python program to find and print the average score of each student.\n",
                "\n",
                "**Solution:**"
            ],
            "metadata": {
                "language": "python",
                "azdata_cell_guid": "fcc70772-dfb0-471a-bc1f-82561268f3d6"
            },
            "attachments": {}
        },
        {
            "cell_type": "code",
            "source": [
                "student_scores = {'Laxman': {'Math': 92, 'English': 88, 'Science': 95},\n",
                "                  'Rajesh': {'Math': 78, 'English': 85, 'Science': 90},\n",
                "                  'Naresh': {'Math': 88, 'English': 92, 'Science': 87}}\n",
                "average_scores = {student: sum(scores.values()) / len(scores) for student, scores in student_scores.items()}\n",
                "print(\"Average scores of students:\", average_scores)"
            ],
            "metadata": {
                "language": "python",
                "azdata_cell_guid": "fe6fd5e9-8276-4b4c-83ea-f882af03477f"
            },
            "outputs": [
                {
                    "output_type": "stream",
                    "name": "stdout",
                    "text": "Average scores of students: {'Laxman': 91.66666666666667, 'Rajesh': 84.33333333333333, 'Naresh': 89.0}\n"
                }
            ],
            "execution_count": 49
        },
        {
            "cell_type": "markdown",
            "source": [
                "### Question 10:\n",
                "**Scenario:** You have a list of words. Create a dictionary where keys are the words, and values are lists containing the lengths of the corresponding words.\n",
                "\n",
                "```python\n",
                "words = ['apple', 'banana', 'orange', 'kiwi', 'grape']\n",
                "```\n",
                "\n",
                "**Task:** Write a Python program to create the dictionary.\n",
                "\n",
                "**Solution:**"
            ],
            "metadata": {
                "language": "python",
                "azdata_cell_guid": "7514988d-19b6-48f7-9fc9-f2d452080bc9"
            },
            "attachments": {}
        },
        {
            "cell_type": "code",
            "source": [
                "words = ['apple', 'banana', 'orange', 'kiwi', 'grape']\n",
                "word_lengths = {word: [len(word)] for word in words}\n",
                "print(\"Dictionary of words and their lengths as lists:\", word_lengths)"
            ],
            "metadata": {
                "language": "python",
                "azdata_cell_guid": "dabeba07-bc3f-44d7-b5d1-1ec3006dd64a"
            },
            "outputs": [
                {
                    "output_type": "stream",
                    "name": "stdout",
                    "text": "Dictionary of words and their lengths as lists: {'apple': [5], 'banana': [6], 'orange': [6], 'kiwi': [4], 'grape': [5]}\n"
                }
            ],
            "execution_count": 50
        },
        {
            "cell_type": "markdown",
            "source": [
                "### Question 11:\n",
                "**Scenario:** You are given a list of dictionaries representing people and their ages.\n",
                "\n",
                "```python\n",
                "people = [{'name': 'Padma', 'age': 25}, {'name': 'Rajesh', 'age': 30}, {'name': 'Sarita', 'age': 22}]\n",
                "```\n",
                "\n",
                "**Task:** Write a Python program to find and print the person with the highest age.\n",
                "\n",
                "**Solution:**"
            ],
            "metadata": {
                "language": "python",
                "azdata_cell_guid": "d12dec59-448f-404c-b294-8610e8111c52"
            },
            "attachments": {}
        },
        {
            "cell_type": "code",
            "source": [
                "people = [{'name': 'Padma', 'age': 25}, {'name': 'Rajesh', 'age': 30}, {'name': 'Sarita', 'age': 22}]\n",
                "max_age_person = max(people, key=lambda person: person['age'])\n",
                "print(f\"The person with the highest age is: {max_age_person['name']}\")"
            ],
            "metadata": {
                "language": "python",
                "azdata_cell_guid": "705ca36f-3bf0-4fad-b507-52c847eda887"
            },
            "outputs": [
                {
                    "output_type": "stream",
                    "name": "stdout",
                    "text": "The person with the highest age is: Rajesh\n"
                }
            ],
            "execution_count": 51
        },
        {
            "cell_type": "markdown",
            "source": [
                "### Question 12:\n",
                "**Scenario:** You have a list of transactions. Each transaction is a dictionary with 'item' and 'quantity'.\n",
                "\n",
                "```python\n",
                "transactions = [{'item': 'apple', 'quantity': 3}, {'item': 'banana', 'quantity': 2}, {'item': 'orange', 'quantity': 4}]\n",
                "```\n",
                "\n",
                "**Task:** Write a Python program to calculate and print the total quantity of each item.\n",
                "\n",
                "**Solution:**"
            ],
            "metadata": {
                "language": "python",
                "azdata_cell_guid": "17a15145-5f54-4442-91e2-da3b7ff38bd6"
            },
            "attachments": {}
        },
        {
            "cell_type": "code",
            "source": [
                "transactions = [{'item': 'apple', 'quantity': 3}, {'item': 'banana', 'quantity': 2}, {'item': 'orange', 'quantity': 4}]\n",
                "\n",
                "item_quantities = {}\n",
                "for transaction in transactions:\n",
                "    item_quantities[transaction['item']] = item_quantities.get(transaction['item'], 0) + transaction['quantity']\n",
                "print(\"Total quantity of each item:\", item_quantities)"
            ],
            "metadata": {
                "language": "python",
                "azdata_cell_guid": "7a20a0fe-4fa5-41f6-aae9-5161bc5e3d7d"
            },
            "outputs": [
                {
                    "output_type": "stream",
                    "name": "stdout",
                    "text": "Total quantity of each item: {'apple': 3, 'banana': 2, 'orange': 4}\n"
                }
            ],
            "execution_count": 52
        },
        {
            "cell_type": "markdown",
            "source": [
                "### Question 13:\n",
                "**Scenario:** You have two dictionaries representing the sales of products in two different stores.\n",
                "\n",
                "```python\n",
                "store1_sales = {'apple': 100, 'banana': 150, 'orange': 120}\n",
                "store2_sales = {'banana': 120, 'orange': 100, 'kiwi': 80}\n",
                "```\n",
                "\n",
                "**Task:** Write a Python program to find and print the products sold in store 1 but not in store 2.\n",
                "\n",
                "**Solution:**"
            ],
            "metadata": {
                "language": "python",
                "azdata_cell_guid": "bd0f5feb-e77d-47e5-930c-5b63bd17b374"
            },
            "attachments": {}
        },
        {
            "cell_type": "code",
            "source": [
                "store1_sales = {'apple': 100, 'banana': 150, 'orange': 120}\n",
                "store2_sales = {'banana': 120, 'orange': 100, 'kiwi': 80}\n",
                "\n",
                "unique_products = {product for product in store1_sales.keys() - store2_sales.keys()}\n",
                "print(\"Products sold in store 1 but not in store 2:\", unique_products)"
            ],
            "metadata": {
                "language": "python",
                "azdata_cell_guid": "89a32d68-33b3-4ca5-90d1-1e4cea3fd2d0"
            },
            "outputs": [
                {
                    "output_type": "stream",
                    "name": "stdout",
                    "text": "Products sold in store 1 but not in store 2: {'apple'}\n"
                }
            ],
            "execution_count": 53
        },
        {
            "cell_type": "markdown",
            "source": [
                "### Question 14:\n",
                "**Scenario:** You have a list of books. Create a dictionary where keys are the book titles, and values are dictionaries containing 'author' and 'year'.\n",
                "\n",
                "```python\n",
                "books = [{'title': 'Book1', 'author': 'Author1', 'year': 2000},\n",
                "         {'title': 'Book2', 'author': 'Author2', 'year': 2010},\n",
                "         {'title': 'Book3', 'author': 'Author1', 'year': 2005}]\n",
                "```\n",
                "\n",
                "**Task:** Write a Python program to create the dictionary.\n",
                "\n",
                "**Solution:**"
            ],
            "metadata": {
                "language": "python",
                "azdata_cell_guid": "5a48822e-4084-4f0f-a4ca-3badd84193d3"
            },
            "attachments": {}
        },
        {
            "cell_type": "code",
            "source": [
                "books = [{'title': 'Book1', 'author': 'Author1', 'year': 2000},\n",
                "         {'title': 'Book2', 'author': 'Author2', 'year': 2010},\n",
                "         {'title': 'Book3', 'author': 'Author1', 'year': 2005}]\n",
                "\n",
                "book_info = {book['title']: {'author': book['author'], 'year': book['year']} for book in books}\n",
                "print(\"Dictionary of books and their information:\", book_info)"
            ],
            "metadata": {
                "language": "python",
                "azdata_cell_guid": "57dacdaa-0de2-4f77-b4c8-feec36580322"
            },
            "outputs": [
                {
                    "output_type": "stream",
                    "name": "stdout",
                    "text": "Dictionary of books and their information: {'Book1': {'author': 'Author1', 'year': 2000}, 'Book2': {'author': 'Author2', 'year': 2010}, 'Book3': {'author': 'Author1', 'year': 2005}}\n"
                }
            ],
            "execution_count": 54
        },
        {
            "cell_type": "markdown",
            "source": [
                "### Question 15:\n",
                "**Scenario:** You have a dictionary representing the scores of students in different subjects.\n",
                "\n",
                "```python\n",
                "student_scores = {'Padma': {'Math': 92, 'English': 88, 'Science': 95},\n",
                "                  'Kishan': {'Math': 78, 'English': 85, 'Science': 90},\n",
                "                  'Naresh': {'Math': 88, 'English': 92, 'Science': 87}}\n",
                "```\n",
                "\n",
                "**Task:** Write a Python program to find and print the subject in which each student scored the highest.\n",
                "\n",
                "**Solution:**"
            ],
            "metadata": {
                "language": "python",
                "azdata_cell_guid": "1e023c28-1f6c-4c88-863b-2ddfc4e3b634"
            },
            "attachments": {}
        },
        {
            "cell_type": "code",
            "source": [
                "student_scores = {'Padma': {'Math': 92, 'English': 88, 'Science': 95},\n",
                "                  'Kishan': {'Math': 78, 'English': 85, 'Science': 90},\n",
                "                  'Naresh': {'Math': 88, 'English': 92, 'Science': 87}}\n",
                "\n",
                "subject_highest_score = {student: max(scores, key=scores.get) for student, scores in student_scores.items()}\n",
                "print(\"Subject with the highest score for each student:\", subject_highest_score)"
            ],
            "metadata": {
                "language": "python",
                "azdata_cell_guid": "359123cc-eaa8-4464-a10c-0bb903f603ef"
            },
            "outputs": [
                {
                    "output_type": "stream",
                    "name": "stdout",
                    "text": "Subject with the highest score for each student: {'Padma': 'Science', 'Kishan': 'Science', 'Naresh': 'English'}\n"
                }
            ],
            "execution_count": 55
        },
        {
            "cell_type": "markdown",
            "source": [
                "### Question 16:\n",
                "**Scenario:**\n",
                "\n",
                "You are building a user management system where each user has a unique ID, username, and email. You need to implement a function that takes a list of dictionaries representing users and returns a dictionary where the keys are user IDs, and the values are dictionaries containing usernames and emails.\n",
                "\n",
                "**Input:**\n",
                "```python\n",
                "users = [\n",
                "    {'id': 1, 'username': 'laxman', 'email': 'laxman@example.com'},\n",
                "    {'id': 2, 'username': 'naina', 'email': 'naina@example.com'},\n",
                "    {'id': 3, 'username': 'harshita', 'email': 'harshita@example.com'}\n",
                "]\n",
                "```\n",
                "\n",
                "**Output:**\n",
                "```python\n",
                "{\n",
                "    1: {'username': 'laxman', 'email': 'laxman@example.com'},\n",
                "    2: {'username': 'naina', 'email': 'naina@example.com'},\n",
                "    3: {'username': 'harshita', 'email': 'harshita@example.com'}\n",
                "}\n",
                "```\n",
                "\n",
                "#### Solution :"
            ],
            "metadata": {
                "language": "python",
                "azdata_cell_guid": "7551045c-7921-4eaf-a9d2-c69610f25252"
            },
            "attachments": {}
        },
        {
            "cell_type": "code",
            "source": [
                "users = [\n",
                "    {'id': 1, 'username': 'laxman', 'email': 'laxman@example.com'},\n",
                "    {'id': 2, 'username': 'naina', 'email': 'naina@example.com'},\n",
                "    {'id': 3, 'username': 'harshita', 'email': 'harshita@example.com'}\n",
                "]\n",
                "\n",
                "def convert_to_dict(users):\n",
                "    return {user['id']: {'username': user['username'], 'email': user['email']} for user in users}\n",
                "\n",
                "result = convert_to_dict(users)\n",
                "print(result)\n",
                "\n",
                ""
            ],
            "metadata": {
                "language": "python",
                "azdata_cell_guid": "21743042-db42-45f8-aad9-bd27ce56e92e"
            },
            "outputs": [
                {
                    "output_type": "stream",
                    "name": "stdout",
                    "text": "{1: {'username': 'laxman', 'email': 'laxman@example.com'}, 2: {'username': 'naina', 'email': 'naina@example.com'}, 3: {'username': 'harshita', 'email': 'harshita@example.com'}}\n"
                }
            ],
            "execution_count": 60
        },
        {
            "cell_type": "markdown",
            "source": [
                "### Question 17:\n",
                "**Scenario:**\n",
                "\n",
                "You are working on a project that requires counting the frequency of words in a given text. Write a function that takes a text string and returns a dictionary where keys are unique words, and values are their respective frequencies.\n",
                "\n",
                "**Input:**\n",
                "```python\n",
                "text = \"This is a sample text. Text contains words, and words have frequencies. Sample text for counting word frequencies.\"\n",
                "```\n",
                "\n",
                "**Output:**\n",
                "```python\n",
                "{\n",
                "    'This': 1, 'is': 1, 'a': 1, 'sample': 2, 'text': 2,\n",
                "    'contains': 1, 'words': 2, 'and': 2, 'have': 1, 'frequencies': 1, 'for': 1, 'counting': 1, 'word': 1\n",
                "}\n",
                "```\n",
                "\n",
                "#### Solution :"
            ],
            "metadata": {
                "language": "python",
                "azdata_cell_guid": "583eb963-d81c-4979-8dbe-9c8a62860e53"
            },
            "attachments": {}
        },
        {
            "cell_type": "code",
            "source": [
                "text = \"This is a sample text. Text contains words, and words have frequencies. Sample text for counting word frequencies.\"\n",
                "\n",
                "def word_frequency(text):\n",
                "    words = text.split()\n",
                "    return {word: words.count(word) for word in set(words)}\n",
                "\n",
                "result = word_frequency(text)\n",
                "print(result)"
            ],
            "metadata": {
                "language": "python",
                "azdata_cell_guid": "b7bb5e9f-e722-477f-bcfa-a07ee73ce19a"
            },
            "outputs": [
                {
                    "output_type": "stream",
                    "name": "stdout",
                    "text": "{'a': 1, 'This': 1, 'sample': 1, 'is': 1, 'text': 1, 'words': 1, 'counting': 1, 'have': 1, 'for': 1, 'and': 1, 'Sample': 1, 'words,': 1, 'Text': 1, 'frequencies.': 2, 'contains': 1, 'word': 1, 'text.': 1}\n"
                }
            ],
            "execution_count": 59
        },
        {
            "cell_type": "markdown",
            "source": [
                "### Question 18:\n",
                "**Scenario:**\n",
                "\n",
                "You are implementing a voting system for a contest. Write a function that takes a list of votes and returns the winner. The winner is the candidate with the highest number of votes.\n",
                "\n",
                "**Input:**\n",
                "```python\n",
                "votes = ['Laxamn', 'Rajesh', 'Laxman', 'Padma', 'Rajesh', 'Laxman', 'Padma', 'Padma']\n",
                "```\n",
                "\n",
                "**Output:**\n",
                "```python\n",
                "'Padma'\n",
                "```\n",
                "\n",
                "#### Solution :"
            ],
            "metadata": {
                "language": "python",
                "azdata_cell_guid": "eb0e1841-e961-44c0-8f54-91a99c6f7ce7"
            },
            "attachments": {}
        },
        {
            "cell_type": "code",
            "source": [
                "votes = ['Laxamn', 'Rajesh', 'Laxman', 'Padma', 'Rajesh', 'Laxman', 'Padma', 'Padma']\n",
                "\n",
                "def find_winner(votes):\n",
                "    vote_count = {candidate: votes.count(candidate) for candidate in set(votes)}\n",
                "    return max(vote_count, key=vote_count.get)\n",
                "\n",
                "winner = find_winner(votes)\n",
                "print(winner)"
            ],
            "metadata": {
                "language": "python",
                "azdata_cell_guid": "df5ad3e2-1f10-4160-ba14-67e23700816c"
            },
            "outputs": [
                {
                    "output_type": "stream",
                    "name": "stdout",
                    "text": "Padma\n"
                }
            ],
            "execution_count": 61
        },
        {
            "cell_type": "markdown",
            "source": [
                "### Question 19:\n",
                "**Scenario:**\n",
                "\n",
                "You are building a stock management system. Write a function that takes a list of stock transactions (buy and sell) and returns the current stock levels for each product.\n",
                "\n",
                "**Input:**\n",
                "```python\n",
                "transactions = [\n",
                "    {'product': 'A', 'action': 'buy', 'quantity': 100},\n",
                "    {'product': 'B', 'action': 'buy', 'quantity': 50},\n",
                "    {'product': 'A', 'action': 'sell', 'quantity': 30},\n",
                "    {'product': 'C', 'action': 'buy', 'quantity': 80},\n",
                "    {'product': 'B', 'action': 'sell', 'quantity': 20}\n",
                "]\n",
                "```\n",
                "\n",
                "**Output:**\n",
                "```python\n",
                "{\n",
                "    'A': 70,\n",
                "    'B': 30,\n",
                "    'C': 80\n",
                "}\n",
                "```\n",
                "\n",
                "#### Solution:"
            ],
            "metadata": {
                "language": "python",
                "azdata_cell_guid": "a9abbb37-1126-46b9-95c2-865ad3020261"
            },
            "attachments": {}
        },
        {
            "cell_type": "code",
            "source": [
                "transactions = [\n",
                "    {'product': 'A', 'action': 'buy', 'quantity': 100},\n",
                "    {'product': 'B', 'action': 'buy', 'quantity': 50},\n",
                "    {'product': 'A', 'action': 'sell', 'quantity': 30},\n",
                "    {'product': 'C', 'action': 'buy', 'quantity': 80},\n",
                "    {'product': 'B', 'action': 'sell', 'quantity': 20}\n",
                "]\n",
                "\n",
                "def calculate_stock_levels(transactions):\n",
                "    stock_levels = {}\n",
                "    for transaction in transactions:\n",
                "        product = transaction['product']\n",
                "        quantity = transaction['quantity'] * (-1 if transaction['action'] == 'sell' else 1)\n",
                "        stock_levels[product] = stock_levels.get(product, 0) + quantity\n",
                "    return {product: stock for product, stock in stock_levels.items() if stock > 0}\n",
                "\n",
                "result = calculate_stock_levels(transactions)\n",
                "print(result)"
            ],
            "metadata": {
                "language": "python",
                "azdata_cell_guid": "b85f4ef3-b2d3-4014-a494-84660e3f7a64"
            },
            "outputs": [
                {
                    "output_type": "stream",
                    "name": "stdout",
                    "text": "{'A': 70, 'B': 30, 'C': 80}\n"
                }
            ],
            "execution_count": 62
        },
        {
            "cell_type": "markdown",
            "source": [
                "### Question 20:\n",
                "**Scenario:**\n",
                "\n",
                "You are building a language translation system. Write a function that takes a list of sentences in one language and their corresponding translations in another language. Return a dictionary where keys are sentences in the original language, and values are their translations.\n",
                "\n",
                "**Input:**\n",
                "```python\n",
                "translations = [\n",
                "    {'english': 'Hello', 'spanish': 'Hola'},\n",
                "    {'english': 'Goodbye', 'spanish': 'Adiós'},\n",
                "    {'english': 'Thank you', 'spanish': 'Gracias'}\n",
                "]\n",
                "```\n",
                "\n",
                "**Output:**\n",
                "```python\n",
                "{\n",
                "    'Hello': 'Hola',\n",
                "    'Goodbye': 'Adiós',\n",
                "    'Thank you': 'Gracias'\n",
                "}\n",
                "```\n",
                "\n",
                "#### Solution :"
            ],
            "metadata": {
                "language": "python",
                "azdata_cell_guid": "298a6964-0326-46ba-97ab-647e7dbdf354"
            },
            "attachments": {}
        },
        {
            "cell_type": "code",
            "source": [
                "translations = [\n",
                "    {'english': 'Hello', 'spanish': 'Hola'},\n",
                "    {'english': 'Goodbye', 'spanish': 'Adiós'},\n",
                "    {'english': 'Thank you', 'spanish': 'Gracias'}\n",
                "]\n",
                "\n",
                "def create_translation_dict(translations):\n",
                "    return {entry['english']: entry['spanish'] for entry in translations}\n",
                "\n",
                "result = create_translation_dict(translations)\n",
                "print(result)\n",
                ""
            ],
            "metadata": {
                "language": "python",
                "azdata_cell_guid": "c259f0fc-e892-4d1a-83d3-4a475c2a6690"
            },
            "outputs": [
                {
                    "output_type": "stream",
                    "name": "stdout",
                    "text": "{'Hello': 'Hola', 'Goodbye': 'Adiós', 'Thank you': 'Gracias'}\n"
                }
            ],
            "execution_count": 63
        },
        {
            "cell_type": "markdown",
            "source": [
                "### 12. Interesting Facts\n",
                "- Dictionaries were introduced in Python 1.4.\n",
                "- Python dictionaries are implemented as hash tables for efficient key-based access.\n",
                "- Starting from Python 3.7, dictionaries maintain the insertion order.\n",
                "\n",
                "`Note` : Dictionaries play a crucial role in Python's language design and data structures.Their efficiency and flexibility make them indispensable in various domains, from web development to data science."
            ],
            "metadata": {
                "language": "",
                "azdata_cell_guid": "cbb8b8ba-bd1a-4764-a5e2-a0e431456c29"
            },
            "attachments": {}
        }
    ]
}