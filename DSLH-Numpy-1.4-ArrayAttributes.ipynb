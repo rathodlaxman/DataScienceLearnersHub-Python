{
    "metadata": {
        "kernelspec": {
            "name": "python3",
            "display_name": "Python 3",
            "language": "python"
        },
        "language_info": {
            "name": "python",
            "version": "3.10.9",
            "mimetype": "text/x-python",
            "codemirror_mode": {
                "name": "ipython",
                "version": 3
            },
            "pygments_lexer": "ipython3",
            "nbconvert_exporter": "python",
            "file_extension": ".py"
        }
    },
    "nbformat_minor": 2,
    "nbformat": 4,
    "cells": [
        {
            "cell_type": "markdown",
            "source": [
                "# **`Data Science Learners Hub`**\n",
                "\n",
                "**Module : Python**\n",
                "\n",
                "**email** : [datasciencelearnershub@gmail.com](mailto:datasciencelearnershub@gmail.com)"
            ],
            "metadata": {
                "azdata_cell_guid": "fa2db22e-c4f6-473d-bac1-441c0067390c"
            },
            "attachments": {}
        },
        {
            "cell_type": "markdown",
            "source": [
                "#### **`4. Array Attributes:`**\n",
                "\n",
                "**Exploring NumPy Array Attributes:**\n",
                "\n",
                "NumPy arrays come with several attributes that provide crucial information about their structure and content. Understanding these attributes is essential for effective array manipulation and analysis. Here are some key attributes:\n",
                "\n",
                "**Note:**\n",
                "- `shape`, `ndim` (number of dimensions), `size` and `dtype` are attributes of NumPy arrays, not functions or constants. Attributes are properties associated with an object, and in this context, they provide information about the structure and characteristics of a NumPy array.\n",
                "\n",
                "Here's a brief explanation of each:"
            ],
            "metadata": {
                "azdata_cell_guid": "0cdd799f-e0ca-4fa7-a0d4-94fc39b87943"
            },
            "attachments": {}
        },
        {
            "cell_type": "markdown",
            "source": [
                "1. **Shape (`shape`):**\n",
                "   - Represents the dimensions of the array, indicating the size along each axis.\n",
                "   - Example:\n",
                "     ```python\n",
                "     import numpy as np\n",
                "\n",
                "     arr = np.array([[1, 2, 3], [4, 5, 6]])\n",
                "     print(\"Array Shape:\", arr.shape)  # Output: (2, 3)\n",
                "     ```\n",
                "\n",
                "2. **Size (`size`):**\n",
                "   - Denotes the total number of elements in the array.\n",
                "   - Example:\n",
                "     ```python\n",
                "     import numpy as np\n",
                "\n",
                "     arr = np.array([[1, 2, 3], [4, 5, 6]])\n",
                "     print(\"Array Size:\", arr.size)  # Output: 6\n",
                "     ```\n",
                "\n",
                "3. **Dimensions (`ndim`):**\n",
                "   - Indicates the number of axes or dimensions of the array.\n",
                "   - Example:\n",
                "     ```python\n",
                "     import numpy as np\n",
                "\n",
                "     arr = np.array([[1, 2, 3], [4, 5, 6]])\n",
                "     print(\"Number of Dimensions:\", arr.ndim)  # Output: 2\n",
                "     ```\n",
                "\n",
                "4. **Data Type (`dtype`):**\n",
                "   - Specifies the type of elements in the array, such as integers, floats, or others.\n",
                "   - Example:\n",
                "     ```python\n",
                "     import numpy as np\n",
                "\n",
                "     arr = np.array([1, 2, 3], dtype=float)\n",
                "     print(\"Array Data Type:\", arr.dtype)  # Output: float64\n",
                "     ```\n",
                ""
            ],
            "metadata": {
                "azdata_cell_guid": "28411546-88c1-42b0-96ec-33b1bf36d267"
            },
            "attachments": {}
        },
        {
            "cell_type": "markdown",
            "source": [
                "**Importance of Understanding Attributes:**"
            ],
            "metadata": {
                "azdata_cell_guid": "cadea8f0-640c-45f7-9d45-8dbc21cfd7cf"
            },
            "attachments": {}
        },
        {
            "cell_type": "markdown",
            "source": [
                "1. **Shape and Broadcasting:**\n",
                "   - **Scenario:** You have two arrays of different shapes, and you want to perform element-wise operations.\n",
                "   - **Application:** Understanding the shapes of arrays helps in deciding whether broadcasting (element-wise operations on arrays of different shapes) is possible."
            ],
            "metadata": {
                "azdata_cell_guid": "3135d262-d7f8-4633-849e-46ad6386699d"
            },
            "attachments": {}
        },
        {
            "cell_type": "code",
            "source": [
                "import numpy as np\n",
                "\n",
                "arr1 = np.array([[1, 2, 3], [4, 5, 6]]) # 2D array\n",
                "arr2 = np.array([10, 20, 30]) # Note : here arr2 shape is (3,) its 1D array with 3 columns\n",
                "result = arr1 + arr2  # Broadcasting works due to matching shapes\n",
                "print(arr1.shape)\n",
                "print(arr2.shape)\n",
                "\n",
                "print(result)"
            ],
            "metadata": {
                "azdata_cell_guid": "febf29a8-1210-4f7b-af74-1510fc2479f2",
                "language": "python",
                "tags": []
            },
            "outputs": [
                {
                    "output_type": "stream",
                    "name": "stdout",
                    "text": "(2, 3)\n(3,)\n[[11 22 33]\n [14 25 36]]\n"
                }
            ],
            "execution_count": 1
        },
        {
            "cell_type": "markdown",
            "source": [
                "2. **Memory Usage with Size:**\n",
                "   - **Scenario:** You are working with large datasets and need to manage memory efficiently.\n",
                "   - **Application:** Knowing the size of an array allows you to estimate its memory requirements and optimize your program accordingly."
            ],
            "metadata": {
                "language": "python",
                "azdata_cell_guid": "4d101d8e-5122-43b4-8614-190cc8ee20cf"
            },
            "attachments": {}
        },
        {
            "cell_type": "markdown",
            "source": [
                "#### Explanation :\n",
                "\n",
                "**Generating a Random Array:**\n",
                "\n",
                "- big_array = np.random.random((1000, 1000)): Here, np.random.random((1000, 1000)) generates a NumPy array (specifically a 2D array) of shape \n",
                "1000×1000. Each element in this array is a random floating-point number between 0.0 and 1.0."
            ],
            "metadata": {
                "language": "python",
                "azdata_cell_guid": "be1bc499-0f24-4238-8c09-b32deaa5d0c3"
            },
            "attachments": {}
        },
        {
            "cell_type": "code",
            "source": [
                "import numpy as np\n",
                "\n",
                "big_array = np.random.random((1000, 1000))\n",
                "print(\"Memory Usage (MB):\", big_array.nbytes / (1024 * 1024))"
            ],
            "metadata": {
                "language": "python",
                "azdata_cell_guid": "1d743ee4-f270-4d08-aceb-579bcc75627f",
                "tags": []
            },
            "outputs": [
                {
                    "output_type": "stream",
                    "name": "stdout",
                    "text": "Memory Usage (MB): 7.62939453125\n"
                }
            ],
            "execution_count": 15
        },
        {
            "cell_type": "markdown",
            "source": [
                "3. **Dimensionality and Data Analysis:**\n",
                "   - **Scenario:** You are analyzing a dataset with multiple variables.\n",
                "   - **Application:** The number of dimensions (`ndim`) indicates the number of variables, aiding in data exploration and analysis."
            ],
            "metadata": {
                "language": "python",
                "azdata_cell_guid": "f97959cc-f434-4078-b6f3-c6205331adfd"
            },
            "attachments": {}
        },
        {
            "cell_type": "code",
            "source": [
                "import numpy as np\n",
                "\n",
                "data = np.array([[1, 2, 3], [4, 5, 6], [7, 8, 9]])\n",
                "print(\"Number of Variables:\", data.ndim)  # Output: 2\n",
                "print(data.shape)"
            ],
            "metadata": {
                "language": "python",
                "azdata_cell_guid": "42091050-e126-4e54-897f-d5e49b1a29bf",
                "tags": []
            },
            "outputs": [
                {
                    "output_type": "stream",
                    "name": "stdout",
                    "text": "Number of Variables: 2\n(3, 3)\n"
                }
            ],
            "execution_count": 2
        },
        {
            "cell_type": "markdown",
            "source": [
                "4. **Data Type and Precision:**\n",
                "   - **Scenario:** You are working with financial data and need precise calculations.\n",
                "   - **Application:** Specifying the data type helps control the precision of calculations, which is crucial in financial and scientific applications."
            ],
            "metadata": {
                "language": "python",
                "azdata_cell_guid": "4bdcb7a6-89ff-4f3d-989d-e3ee1ec65af9"
            },
            "attachments": {}
        },
        {
            "cell_type": "code",
            "source": [
                "import numpy as np\n",
                "\n",
                "financial_data = np.array([100.25, 150.67, 200.32], dtype=np.float32)\n",
                "print(financial_data)"
            ],
            "metadata": {
                "language": "python",
                "azdata_cell_guid": "88cc0202-f7a9-4188-a6b7-d1d01cfc34ec",
                "tags": []
            },
            "outputs": [
                {
                    "output_type": "stream",
                    "name": "stdout",
                    "text": "[100.25 150.67 200.32]\n"
                }
            ],
            "execution_count": 17
        },
        {
            "cell_type": "markdown",
            "source": [
                "Understanding these attributes enhances your ability to manipulate and analyze data efficiently, leading to more effective use of NumPy in practical scenarios."
            ],
            "metadata": {
                "azdata_cell_guid": "5648744a-1153-4e2e-b564-f8668df5a043"
            },
            "attachments": {}
        }
    ]
}