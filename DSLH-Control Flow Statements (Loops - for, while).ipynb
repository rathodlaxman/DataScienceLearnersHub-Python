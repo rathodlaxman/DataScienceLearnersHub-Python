{
    "metadata": {
        "kernelspec": {
            "name": "python3",
            "display_name": "Python 3",
            "language": "python"
        },
        "language_info": {
            "name": "python",
            "version": "3.10.9",
            "mimetype": "text/x-python",
            "codemirror_mode": {
                "name": "ipython",
                "version": 3
            },
            "pygments_lexer": "ipython3",
            "nbconvert_exporter": "python",
            "file_extension": ".py"
        }
    },
    "nbformat_minor": 2,
    "nbformat": 4,
    "cells": [
        {
            "cell_type": "markdown",
            "source": [
                "# **Data Science Learners Hub - Python**\n",
                "\n",
                "**Module : Python**\n",
                "\n",
                "**Topic :** <span style=\"background-color: rgb(255, 255, 255); color: rgb(31, 31, 31); font-family: &quot;Google Sans&quot;, Roboto, sans-serif; font-size: 12px; caret-color: rgb(31, 31, 31); white-space-collapse: preserve;\">Control Flow Statements (</span><span style=\"color: rgb(0, 0, 0); font-family: &quot;Helvetica Neue&quot;; font-size: 13px;\">Loops - for, while</span><span style=\"background-color: rgb(255, 255, 255); color: rgb(31, 31, 31); font-family: &quot;Google Sans&quot;, Roboto, sans-serif; font-size: 12px; caret-color: rgb(31, 31, 31); white-space-collapse: preserve;\">)</span>\n",
                "\n",
                "**email** : [datasciencelearnershub@gmail.com](https://github.com/rathodlaxman/DataScienceLearnersHub/blob/50de48da0c8f7145a545dd9942457c8b9cfc8fc5//mailto:datasciencelearnershub@gmail.com)"
            ],
            "metadata": {
                "azdata_cell_guid": "ec2592e5-c9a1-454a-a484-aa2802a21875"
            },
            "attachments": {}
        },
        {
            "cell_type": "markdown",
            "source": [
                "## **Control Flow Statements (Loops - for, while)**"
            ],
            "metadata": {
                "azdata_cell_guid": "3fd840b3-9f42-42ef-889b-6ce9f08d2ad8"
            },
            "attachments": {}
        },
        {
            "cell_type": "markdown",
            "source": [
                "### **1\\. What are Control Flow Statements (Loops - for, while) in Python?**\n",
                "\n",
                "  \n",
                "\n",
                "**Control Flow Statements** in Python include loops, which allow you to repeatedly execute a block of code based on a certain condition. Two main types of loops are the \\`for\\` loop and the \\`while\\` loop."
            ],
            "metadata": {
                "azdata_cell_guid": "463b6c17-c8e0-479d-8659-5cddbb0ff428"
            },
            "attachments": {}
        },
        {
            "cell_type": "markdown",
            "source": [
                "###  **2\\. Why do we Require Control Flow Statements (Loops - for, while) in Programming Languages?**\n",
                "\n",
                "  \n",
                "\n",
                "\\- **Repetition:** Loops enable the execution of a set of statements repeatedly, reducing code redundancy and making it more efficient.\n",
                "\n",
                "  \n",
                "\n",
                "\\- **Automation:** Loops are crucial for automating repetitive tasks, such as processing each element in a list or iterating over a sequence.\n",
                "\n",
                "  \n",
                "\n",
                "\\- **Data processing:** They enable efficient handling of large datasets, lists, and collections."
            ],
            "metadata": {
                "azdata_cell_guid": "9770b09f-6e45-4465-892a-3e6c8307357a"
            },
            "attachments": {}
        },
        {
            "cell_type": "markdown",
            "source": [
                "### **3\\. What Happens When a Control Flow Statement (Loop - for, while) is Executed/Interpreted?**\n",
                "\n",
                "  \n",
                "\n",
                "\\- **For Loop:** Executes a block of code for each item in an iterable (e.g., a list, tuple, or string).\n",
                "\n",
                "  \n",
                "\n",
                "\\- **While Loop:** Repeatedly executes a block of code as long as a specified condition is true."
            ],
            "metadata": {
                "azdata_cell_guid": "c08da68f-4780-4dc6-b9d7-90438d2c3120"
            },
            "attachments": {}
        },
        {
            "cell_type": "markdown",
            "source": [
                "### **4\\. Various Control Flow Statements (Loops - for, while) in Python**"
            ],
            "metadata": {
                "azdata_cell_guid": "ded980ee-a2f3-4a41-b9f3-54910cab7e0b"
            },
            "attachments": {}
        },
        {
            "cell_type": "markdown",
            "source": [
                "### **4.1 For Loop**\n",
                "\n",
                "\\- **Usage:** Iterates over a sequence (e.g., list, tuple, string) or other iterable objects.\n",
                "\n",
                "\\- **Syntax:**\n",
                "\n",
                "  for variable in iterable:\n",
                "\n",
                "      # Code to execute for each iteration"
            ],
            "metadata": {
                "azdata_cell_guid": "b4f87729-ff8e-4cee-9d7f-5292d85351ef"
            },
            "attachments": {}
        },
        {
            "cell_type": "code",
            "source": [
                "fruits = [\"apple\", \"banana\", \"cherry\"]\n",
                "for fruit in fruits:\n",
                "    print(fruit)"
            ],
            "metadata": {
                "azdata_cell_guid": "cb76beb4-751e-45ec-a367-8b0f9d808472",
                "language": "python"
            },
            "outputs": [
                {
                    "name": "stdout",
                    "text": "apple\nbanana\ncherry\n",
                    "output_type": "stream"
                }
            ],
            "execution_count": 1
        },
        {
            "cell_type": "markdown",
            "source": [
                "### **4.2 While Loop**\n",
                "\n",
                "  \n",
                "\n",
                "\\- **Usage:** Repeatedly executes a block of code as long as a specified condition is true.\n",
                "\n",
                "\\- **Syntax:**\n",
                "\n",
                "  \n",
                "\n",
                "  while condition:\n",
                "\n",
                "      \\# Code to execute as long as the condition is true"
            ],
            "metadata": {
                "language": "python",
                "azdata_cell_guid": "cc349f62-83f1-4bac-8216-0874710833b2"
            },
            "attachments": {}
        },
        {
            "cell_type": "code",
            "source": [
                "count = 0\n",
                "while count < 5:\n",
                "    print(count)\n",
                "    count += 1"
            ],
            "metadata": {
                "language": "python",
                "azdata_cell_guid": "08eca2c8-30f0-433d-b734-27ecfaedc774"
            },
            "outputs": [
                {
                    "name": "stdout",
                    "text": "0\n1\n2\n3\n4\n",
                    "output_type": "stream"
                }
            ],
            "execution_count": 2
        },
        {
            "cell_type": "markdown",
            "source": [
                "### **4.3 Nested Loops**\n",
                "\n",
                "  \n",
                "\n",
                "\\- **Usage:** Having one or more loops inside another loop."
            ],
            "metadata": {
                "language": "python",
                "azdata_cell_guid": "78c0f203-626c-4c4d-b1f5-85207051a7ae"
            },
            "attachments": {}
        },
        {
            "cell_type": "code",
            "source": [
                "for i in range(3):\n",
                "    for j in range(2):\n",
                "        print(i, j)"
            ],
            "metadata": {
                "language": "python",
                "azdata_cell_guid": "eaa0a1d9-203d-45ab-9627-0dee88f90070"
            },
            "outputs": [
                {
                    "name": "stdout",
                    "text": "0 0\n0 1\n1 0\n1 1\n2 0\n2 1\n",
                    "output_type": "stream"
                }
            ],
            "execution_count": 3
        },
        {
            "cell_type": "markdown",
            "source": [
                "### **5\\. Practical Application of Control Flow Statements (Loops - for, while) in Real World**\n",
                "\n",
                "  \n",
                "\n",
                "\\- **Data Processing:** Loops are used to process large datasets, iterate through database records, or perform data cleaning and transformation.\n",
                "\n",
                "  \n",
                "\n",
                "\\- **User Interaction:** In graphical user interfaces, loops handle continuous interactions, like listening for user input or events."
            ],
            "metadata": {
                "language": "python",
                "azdata_cell_guid": "8262892f-b5cc-4672-827f-a1b114b85387"
            },
            "attachments": {}
        },
        {
            "cell_type": "markdown",
            "source": [
                "### **6\\. Peculiarities and Considerations for Control Flow Statements (Loops - for, while) in Python**\n",
                "\n",
                "  \n",
                "\n",
                "\\- **Infinite Loops:** Be cautious with while loops to avoid unintentional infinite loops. Ensure that the loop condition eventually becomes false.\n",
                "\n",
                "  \n",
                "\n",
                "\\- **Loop Control Statements:** Python provides \\`break\\` and \\`continue\\` statements to control loop execution. \\`break\\` terminates the loop, while \\`continue\\` skips the rest of the code in the current iteration.\n",
                "\n",
                "  \n",
                "\n",
                "\\- **Indentation:** Like other control flow statements, loops rely on indentation to define code blocks."
            ],
            "metadata": {
                "language": "python",
                "azdata_cell_guid": "50324964-2742-4592-b83c-e5d32fb27d3b"
            },
            "attachments": {}
        },
        {
            "cell_type": "markdown",
            "source": [
                "### **7\\. Most Common Mistakes Done While Using Control Flow Statements (Loops - for, while) in Python**\n",
                "\n",
                "**a. Incorrect Indentation**: Incorrect indentation can lead to unexpected behavior. Ensure proper indentation for code within loops.\n",
                "\n",
                "**b. Off-by-one errors**: Incorrect loop boundaries can lead to unexpected results.\n",
                "\n",
                "**c. Not considering edge cases:** Ensure your loops handle all possible scenarios, including empty sequences or invalid input.\n",
                "\n",
                "**d. Forgetting to Update the Loop Variable:** In a \\`while\\` loop, forgetting to update the loop variable may result in an infinite loop.  \n",
                "\n",
                "  \\`\\`\\`python\n",
                "\n",
                "  count = 0\n",
                "\n",
                "  while count \\< 5:\n",
                "\n",
                "      print(count)\n",
                "\n",
                "      \\# Missing count += 1\n",
                "\n",
                "  \\`\\`\\`"
            ],
            "metadata": {
                "language": "python",
                "azdata_cell_guid": "daac384f-9888-4d30-97bf-42b9760d0167"
            },
            "attachments": {}
        },
        {
            "cell_type": "markdown",
            "source": [
                "### **8\\. Do you know ?**\n",
                "\n",
                "  \n",
                "\n",
                "\\- **Advantage in Scientific Computing:** Control flow statements, especially loops, play a crucial role in scientific computing, where simulations and numerical computations often require repetitive operations.\n",
                "\n",
                "  \n",
                "\n",
                "\\- **Buffer overflow attacks:** Loop vulnerabilities have been exploited to compromise computer systems.\n",
                "\n",
                "  \n",
                "\n",
                "\\- **Game AI**: Loops are crucial for creating intelligent behaviors in game characters."
            ],
            "metadata": {
                "language": "python",
                "azdata_cell_guid": "61b0f1e9-9925-4acd-9045-7f563aedbe73"
            },
            "attachments": {}
        },
        {
            "cell_type": "markdown",
            "source": [
                "**Note** : Understanding and using control flow statements effectively is essential for writing efficient and correct programs. Loops are powerful tools that, when used properly, enhance the functionality and productivity of your code."
            ],
            "metadata": {
                "language": "python",
                "azdata_cell_guid": "608bc59b-58fe-45ff-b637-d725b37bcccf"
            },
            "attachments": {}
        }
    ]
}