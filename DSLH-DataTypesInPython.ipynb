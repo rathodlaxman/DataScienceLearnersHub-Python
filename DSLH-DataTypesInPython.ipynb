{
    "metadata": {
        "kernelspec": {
            "name": "python3",
            "display_name": "Python 3",
            "language": "python"
        },
        "language_info": {
            "name": "python",
            "version": "3.10.9",
            "mimetype": "text/x-python",
            "codemirror_mode": {
                "name": "ipython",
                "version": 3
            },
            "pygments_lexer": "ipython3",
            "nbconvert_exporter": "python",
            "file_extension": ".py"
        }
    },
    "nbformat_minor": 2,
    "nbformat": 4,
    "cells": [
        {
            "cell_type": "markdown",
            "source": [
                "# **Data Science Learners Hub - Python**\n",
                "\n",
                "**Module : Python**\n",
                "\n",
                "**Topic :** Data types in Python\n",
                "\n",
                "**email** : [datasciencelearnershub@gmail.com](https://github.com/rathodlaxman/DataScienceLearnersHub/blob/50de48da0c8f7145a545dd9942457c8b9cfc8fc5//mailto:datasciencelearnershub@gmail.com)"
            ],
            "metadata": {
                "azdata_cell_guid": "68185e6c-b958-40c5-a3f3-6b392396870f"
            },
            "attachments": {}
        },
        {
            "cell_type": "markdown",
            "source": [
                "## **Data types in Python**"
            ],
            "metadata": {
                "azdata_cell_guid": "e1a36f4f-beda-49ca-8f40-19fd6fafbc0f"
            },
            "attachments": {}
        },
        {
            "cell_type": "markdown",
            "source": [
                "### **1\\. What are Data Types in Python?**\n",
                "\n",
                "- Data types in Python refer to the classification or categorization of data items.\n",
                "- They specify how data should be stored, manipulated, and used."
            ],
            "metadata": {
                "azdata_cell_guid": "71b67ae0-cda6-4e03-92df-7ef3d7a33811"
            },
            "attachments": {}
        },
        {
            "cell_type": "markdown",
            "source": [
                "### **2. Why do we Require Data Types in Programming Languages?**\n",
                "\n",
                "  \n",
                "\n",
                "- **Memory Allocation:** Data types <mark>help allocate memory efficiently</mark> for variables, <mark>ensuring that the right amount of space is reserved based on the type</mark> of data.\n",
                "\n",
                " - **Error Prevention**: <mark>It allows the interpreter to check if the operations performed on variables are appropriate for their types. </mark>\n",
                "\n",
                "- **Operation Definition**: Different data types support different operations. For example, arithmetic operations on numbers are different from operations on strings.\n",
                "\n",
                "  \n",
                "\n",
                ""
            ],
            "metadata": {
                "azdata_cell_guid": "606a91fd-9b7b-4ce6-98e6-0377942fb441"
            },
            "attachments": {}
        },
        {
            "cell_type": "markdown",
            "source": [
                "**3. What Happens When We Define a Variable in Python? How Does the Data Type of a Variable Get Defined in Python?**\n",
                "\n",
                "- In Python, variables are <mark>dynamically typed</mark>, meaning you <mark>don't need to declare the data type explicitly.</mark>\n",
                "\n",
                "- <mark>When you assign a value to a variable, Python interprets the type based on the assigned value.</mark>\n",
                "\n",
                "- The interpreter allocates memory accordingly and associates the variable with its data type."
            ],
            "metadata": {
                "azdata_cell_guid": "e43cf566-4a1b-4930-9464-6cae76320a99"
            },
            "attachments": {}
        },
        {
            "cell_type": "markdown",
            "source": [
                "### **`Data Types in Python`**\n",
                "\n",
                "| Datatype      | Syntax        | Range/Example       | Memory Size  | Mutable/Immutable | Ordered/Unordered | One-Line Explainer                                | Peculiarities/Consideration                             |\n",
                "|---------------|---------------|---------------------|--------------|-------------------|-------------------|--------------------------------------------------|---------------------------------------------------------|\n",
                "| **Numeric**   |               |                     |              |                   |                   |                                                  |                                                         |\n",
                "| Integer       | `int`         | -2^31 to 2^31-1     | <mark>**28 bytes**</mark>     | Immutable         | Ordered           | Whole numbers, positive or negative              | No decimal places, can be arbitrarily large in Python   |\n",
                "| Float         | `float`       | 1.7e-308 to 1.7e+308| <mark>**24 bytes**</mark>     | Immutable         | Ordered           | Numbers with decimal points                      | Precision can vary, subject to rounding errors          |\n",
                "| Complex       | <mark>**`complex`**</mark>     | <mark>**-∞ to ∞**</mark>            | <mark>32 bytes </mark>    | Immutable         | Ordered           | <mark>Numbers with real and imaginary parts</mark>            | <mark>**Represented as `a + bj`, where `a` is real, `b` is imaginary**</mark> |\n",
                "| **Sequence**  |               |                     |              |                   |                   |                                                  |                                                         |\n",
                "| String        | `str`         | <mark>**Unicode characters**</mark>  | <mark>**49 bytes**</mark>    | Immutable         | Ordered           | Sequence of characters                           | Supports slicing and indexing                            |\n",
                "| List          | `list`        | Any type            | Variable     | <mark>**Mutable**</mark>           | Ordered           | Ordered collection of items                      | Supports multiple data types                            |\n",
                "| Tuple         | `tuple`       | Any type            | Variable     | Immutable         | Ordered           | Ordered collection of items                      | Supports multiple data types                            |\n",
                "| Range         | <mark>**`range`**</mark>      | <mark>**Sequence of integers**</mark>| Variable     | Immutable         | Ordered           | Generates a sequence of numbers                  | Often used in loops                                     |\n",
                "| **Set**       |               |                     |              |                   |                   |                                                  |                                                         |\n",
                "| Set           | `set`         | Unique items        | Variable     | <mark>**Mutable**</mark>           | <mark>**Unordered**</mark>        | <mark>**Unordered collection of unique**</mark>items             | <mark>No duplicate elements </mark>                                  |\n",
                "| Frozen Set    | <mark>**`frozenset`**</mark>   | <mark>Unique items</mark>        | Variable     | <mark>**Immutable**</mark>         | <mark>**Unordered**</mark>         | <mark>Immutable version of a set</mark>                       | <mark>**No duplicate elements, hashable**</mark>                        |\n",
                "| **Mapping**   |               |                     |              |                   |                   |                                                  |                                                         |\n",
                "| Dictionary    | `dict`        | Key-value pairs     | Variable     | <mark>**Mutable**</mark>           | <mark>**Unordered**</mark>         | Unordered collection of key-value pairs          | Keys must be unique                                     |\n",
                "| **Boolean**   |               |                     |              |                   |                   |                                                  |                                                         |\n",
                "| Boolean       | `bool`        | `True` or `False`   | <mark>**28 bytes**</mark>     | Immutable         | Ordered           | Represents truth values                          | <mark>**Subclass of `int`, where `True` is `1` and `False` is `0`**</mark>|\n",
                "| **Binary**    |               |                     |              |                   |                   |                                                  |                                                         |\n",
                "| Bytes         | `bytes`       | Byte sequence       | Variable     | Immutable         | Ordered           | Immutable sequence of bytes                      | Used for binary data                                    |\n",
                "| Byte Array    | <mark>**`bytearray`**</mark>   | Byte sequence       | Variable     | <mark>**Mutable**</mark>           | Ordered           | Mutable sequence of bytes                        | <mark>**Similar to `bytes`, but mutable**</mark>                        |\n",
                "| Memory View   | <mark>**`memoryview`**</mark>  | Byte sequence       | Variable     | <mark>**Mutable**</mark>           | Ordered           | <mark>Memory view object</mark>                               | <mark>**Allows access to internal data of an object without copying**</mark>|\n",
                "\n",
                "\n",
                "### Few things to note\n",
                "- **Mutable datatypes** : `list, set, bytearray, memoryview`\n",
                "- **Unordered datatypes**: `set, frozenset, dictionary`\n",
                "- **immutable version of set is** `frozenset`\n",
                "- **immutable version of byte is** `bytearray and memoryview`\n",
                "\n",
                "### Notes:\n",
                "1. **Memory Size**: The memory size can vary depending on the implementation and the values stored.\n",
                "2. **Immutability**: <mark>**Immutable types cannot be changed after their creation, while mutable types can be modified.**</mark>\n",
                "3. **Precision**: <mark>Floats can have precision issues due to their representation in memory.</mark>\n",
                "4. **Key-Value**: <mark>`Dictionary keys must be unique and immutable, typically strings or numbers.`</mark>\n",
                "\n",
                "These are the primary data types in Python, and each has its specific use cases and characteristics, allowing for efficient data manipulation and storage."
            ],
            "metadata": {
                "azdata_cell_guid": "68bcd100-da5b-4f57-a93b-0d59c650e8e9"
            },
            "attachments": {}
        },
        {
            "cell_type": "markdown",
            "source": [
                "### **4\\. Various Data Types in Python**"
            ],
            "metadata": {
                "azdata_cell_guid": "c8d5d3bd-27da-4e22-af90-55cf2ac2e3e1"
            },
            "attachments": {}
        },
        {
            "cell_type": "markdown",
            "source": [
                "### **4.1 Numeric Types**\n",
                "\n",
                "**a. int:** Integer data type (whole numbers).\n",
                "\n",
                "  - Syntax: \\`\\<variable name\\> = \\<integer value\\>\\`\n",
                "\n",
                "  - Example: \\`age = 25\\`\n",
                "\n",
                "**b. float**: Floating-point data type (numbers with a decimal point).\n",
                "\n",
                "  - Syntax: \\`\\<variable name\\> = \\<decimal value\\>\\`\n",
                "\n",
                "  - Example: \\`salary = 50000.5\\`\n",
                "\n",
                "**c. complex**: Complex number data type.\n",
                "\n",
                "  - Syntax: \\`\\<variable name\\> = \\<complex number value\\>\\`\n",
                "\n",
                "  - Example: \\`comp\\_num = 1 + 2j\\`"
            ],
            "metadata": {
                "azdata_cell_guid": "d91e67d9-678d-4492-9c73-529adaeb772f"
            },
            "attachments": {}
        },
        {
            "cell_type": "markdown",
            "source": [
                "### **4.2 Sequence Types**\n",
                "\n",
                "**a. str**: String data type (sequence of characters).\n",
                "\n",
                "  - Syntax: \\`\\<variable name\\> = \"\\<text value\\>\"\\`\n",
                "\n",
                "  - Example: \\`message = \"Hello, World!\"\\`\n",
                "\n",
                "**b. list:** List data type (ordered, mutable sequence).\n",
                "\n",
                "  - Syntax: \\`\\<variable name\\> = \\[\\<values of any type\\>\\]\\`\n",
                "\n",
                "  - Example: \\`grades = \\[90, 85, 92\\]\\`\n",
                "\n",
                "**c. tuple:** Tuple data type (ordered, immutable sequence).\n",
                "\n",
                "  - Syntax: \\`\\<variable name\\> = (\\<values of any type\\>)\\`\n",
                "\n",
                "  - Example: \\`coordinates = (3, 4)\\`"
            ],
            "metadata": {
                "azdata_cell_guid": "0b05d3c2-9a54-4c5b-82cc-8d3a8a054b29"
            },
            "attachments": {}
        },
        {
            "cell_type": "markdown",
            "source": [
                "### **4.3 Set Types**\n",
                "\n",
                "  \n",
                "\n",
                "**a. set:** Set data type (unordered collection of unique elements).  \n",
                "\n",
                "  \\- Syntax: \\`\\<variable name\\> = {\\<unique values\\>}\\`\n",
                "\n",
                "  \\- Example: \\`unique\\_numbers = {1, 2, 3, 4, 5}\\`"
            ],
            "metadata": {
                "azdata_cell_guid": "ed1e20fe-e44a-4209-a3c8-c1bd6b2d716d"
            },
            "attachments": {}
        },
        {
            "cell_type": "markdown",
            "source": [
                "### **4.4 Mapping Type**\n",
                "\n",
                "  \n",
                "\n",
                "**a. dict:** Dictionary data type (unordered collection of key-value pairs).  \n",
                "\n",
                "  \\- Syntax: \\`\\<variable name\\> = {\\<key : value\\>, .....}\\`\n",
                "\n",
                "  \\- Example: \\`student\\_info = {\"name\": \"Alice\", \"grade\": \"A\"}\\`"
            ],
            "metadata": {
                "azdata_cell_guid": "34764be0-ad58-4b92-ab14-473790ac818a"
            },
            "attachments": {}
        },
        {
            "cell_type": "markdown",
            "source": [
                "### **4.5 Boolean Type**\n",
                "\n",
                "**a.** <span style=\"color: rgb(0, 0, 0); font-family: &quot;Helvetica Neue&quot;; font-size: 13px;\"><b>bool: </b>Represents logical values: True or False</span>\n",
                "\n",
                "<span style=\"font-family: &quot;Helvetica Neue&quot;; font-size: 13px; color: rgb(0, 0, 0);\">- Example: is_valid = True</span>"
            ],
            "metadata": {
                "azdata_cell_guid": "a6cb7769-092d-4593-bcb2-7a2955ccc63e"
            },
            "attachments": {}
        },
        {
            "cell_type": "markdown",
            "source": [
                "### **5\\. Practical Application of Data Types in the Real World**\n",
                "\n",
                "\\- **Database Operations:** Mapping data types to database fields for efficient storage and retrieval.\n",
                "\n",
                "\\- **User Input Handling:** Ensuring correct data types when receiving input from users.\n",
                "\n",
                "\\- **Mathematical Computations:** Performing calculations with appropriate numeric data types."
            ],
            "metadata": {
                "azdata_cell_guid": "cc864e77-c54f-4efe-8a85-aa163a4002d8"
            },
            "attachments": {}
        },
        {
            "cell_type": "markdown",
            "source": [
                "### **6\\. Peculiarities and Considerations for Data Types in Python**\n",
                "\n",
                "\\- **Dynamic Typing:** Python is dynamically typed, allowing variables to change types during runtime.\n",
                "\n",
                "\\- **Type Conversion:** Python provides functions like \\`int()\\`, \\`float()\\`, \\`str()\\`, etc., for converting between data types.\n",
                "\n",
                "\\- <span style=\"color: rgb(0, 0, 0); font-family: &quot;Helvetica Neue&quot;; font-size: 13px;\"><b>Immutability:</b> Some data types like tuples and strings are immutable, meaning their values cannot be changed after creation.</span>"
            ],
            "metadata": {
                "azdata_cell_guid": "f5fb4ab5-1899-4dd2-a49b-8321629812c5"
            },
            "attachments": {}
        },
        {
            "cell_type": "markdown",
            "source": [
                "### **7\\. Most Common Mistakes Done While Using Data Types in Python**"
            ],
            "metadata": {
                "azdata_cell_guid": "70d7a262-5aad-4dd0-b241-4d01b1fb128e"
            },
            "attachments": {}
        },
        {
            "cell_type": "markdown",
            "source": [
                "**a.** <span style=\"color: rgb(0, 0, 0); font-family: &quot;Helvetica Neue&quot;; font-size: 13px;\"><b>Type Mismatch:</b> Performing operations on incompatible data types without proper conversion.</span>"
            ],
            "metadata": {
                "azdata_cell_guid": "480799bd-0e58-4587-853f-f276bb24e50c"
            },
            "attachments": {}
        },
        {
            "cell_type": "code",
            "source": [
                "age = \"25\"\n",
                "total_age = age + 5  # Raises TypeError"
            ],
            "metadata": {
                "azdata_cell_guid": "6222d7e0-eb98-42d3-b244-f5d6bbd6e77c",
                "language": "python"
            },
            "outputs": [
                {
                    "output_type": "error",
                    "ename": "TypeError",
                    "evalue": "can only concatenate str (not \"int\") to str",
                    "traceback": [
                        "\u001b[0;31m---------------------------------------------------------------------------\u001b[0m",
                        "\u001b[0;31mTypeError\u001b[0m                                 Traceback (most recent call last)",
                        "Cell \u001b[0;32mIn[1], line 2\u001b[0m\n\u001b[1;32m      1\u001b[0m age \u001b[38;5;241m=\u001b[39m \u001b[38;5;124m\"\u001b[39m\u001b[38;5;124m25\u001b[39m\u001b[38;5;124m\"\u001b[39m\n\u001b[0;32m----> 2\u001b[0m total_age \u001b[38;5;241m=\u001b[39m \u001b[43mage\u001b[49m\u001b[43m \u001b[49m\u001b[38;5;241;43m+\u001b[39;49m\u001b[43m \u001b[49m\u001b[38;5;241;43m5\u001b[39;49m\n",
                        "\u001b[0;31mTypeError\u001b[0m: can only concatenate str (not \"int\") to str"
                    ]
                }
            ],
            "execution_count": 1
        },
        {
            "cell_type": "markdown",
            "source": [
                "**b.** <span style=\"color: rgb(0, 0, 0); font-family: &quot;Helvetica Neue&quot;; font-size: 13px;\"><b>Overlooking Mutability:</b> Forgetting that some types, like lists, are mutable and can be modified in place.</span>"
            ],
            "metadata": {
                "language": "sql",
                "azdata_cell_guid": "d41f602d-2d1e-4a5d-8a84-cd309aedd877"
            },
            "attachments": {}
        },
        {
            "cell_type": "code",
            "source": [
                "my_tuple = (1, 2, 3)\n",
                "my_tuple[0] = 5  # Raises TypeError, tuples are immutable"
            ],
            "metadata": {
                "language": "python",
                "azdata_cell_guid": "b6595240-842a-48d5-a861-e819bb0ed999"
            },
            "outputs": [
                {
                    "output_type": "error",
                    "ename": "TypeError",
                    "evalue": "'tuple' object does not support item assignment",
                    "traceback": [
                        "\u001b[0;31m---------------------------------------------------------------------------\u001b[0m",
                        "\u001b[0;31mTypeError\u001b[0m                                 Traceback (most recent call last)",
                        "Cell \u001b[0;32mIn[2], line 2\u001b[0m\n\u001b[1;32m      1\u001b[0m my_tuple \u001b[38;5;241m=\u001b[39m (\u001b[38;5;241m1\u001b[39m, \u001b[38;5;241m2\u001b[39m, \u001b[38;5;241m3\u001b[39m)\n\u001b[0;32m----> 2\u001b[0m my_tuple[\u001b[38;5;241m0\u001b[39m] \u001b[38;5;241m=\u001b[39m \u001b[38;5;241m5\u001b[39m\n",
                        "\u001b[0;31mTypeError\u001b[0m: 'tuple' object does not support item assignment"
                    ]
                }
            ],
            "execution_count": 2
        },
        {
            "cell_type": "markdown",
            "source": [
                "**c.** <span style=\"color: rgb(0, 0, 0); font-family: &quot;Helvetica Neue&quot;; font-size: 13px;\"><b>Incorrect type conversions:</b> Converting data to the wrong type, leading to unexpected results.</span>"
            ],
            "metadata": {
                "language": "python",
                "azdata_cell_guid": "516580bb-32fe-4a64-b445-c6ab830d12da"
            },
            "attachments": {}
        },
        {
            "cell_type": "markdown",
            "source": [
                "### **8\\. DO YOU KNOW : Famous Mishaps Due to Wrong Data Types**\n",
                "\n",
                "\\- **NASA's Mars Climate Orbiter (1999):** The orbiter failed because of a mismatch between the metric and imperial units in the software.\n",
                "\n",
                "\\- **Ariane 5 Flight 501 (1996):** <span style=\"color: rgb(0, 0, 0); font-family: &quot;Helvetica Neue&quot;; font-size: 13px;\">A type conversion error between 64-bit and 16-bit values caused the rocket to self-destruct shortly after launch.</span>\n",
                "\n",
                "<span style=\"color: rgb(0, 0, 0); font-family: &quot;Helvetica Neue&quot;; font-size: 13px;\">-&nbsp;</span>  <span style=\"font-family: &quot;Helvetica Neue&quot;; font-size: 13px; color: rgb(0, 0, 0);\"><b>Therac-25 radiation therapy machine:</b> Software bugs involving integer overflow and type errors led to overdoses and patient deaths.</span>\n",
                "\n",
                "These examples emphasize the critical role of correct data types in software development, especially in mission-critical systems. Proper handling of data types is essential for robust and error-free code."
            ],
            "metadata": {
                "language": "sql",
                "azdata_cell_guid": "1e84a117-7482-465a-8a3b-699c3f0f1e35"
            },
            "attachments": {}
        }
    ]
}