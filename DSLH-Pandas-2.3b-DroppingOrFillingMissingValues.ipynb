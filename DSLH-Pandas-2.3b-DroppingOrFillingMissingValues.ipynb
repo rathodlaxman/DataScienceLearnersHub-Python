{
    "metadata": {
        "kernelspec": {
            "name": "python3",
            "display_name": "Python 3",
            "language": "python"
        },
        "language_info": {
            "name": "python",
            "version": "3.10.9",
            "mimetype": "text/x-python",
            "codemirror_mode": {
                "name": "ipython",
                "version": 3
            },
            "pygments_lexer": "ipython3",
            "nbconvert_exporter": "python",
            "file_extension": ".py"
        }
    },
    "nbformat_minor": 2,
    "nbformat": 4,
    "cells": [
        {
            "cell_type": "markdown",
            "source": [
                "# **`Data Science Learners Hub`**\n",
                "\n",
                "**Module : Python**\n",
                "\n",
                "**email** : [datasciencelearnershub@gmail.com](mailto:datasciencelearnershub@gmail.com)"
            ],
            "metadata": {
                "azdata_cell_guid": "e4e2a754-cb1c-44d2-a392-71ccdb733974"
            },
            "attachments": {}
        },
        {
            "cell_type": "markdown",
            "source": [
                "## **`#2: DataFrames in Depth`**\n",
                "\n",
                "4. **Creating DataFrames**\n",
                "    \n",
                "    - From lists, dictionaries, and arrays\n",
                "    - Reading data from CSV, Excel, and other formats\n",
                "5. **Basic DataFrame Operations**\n",
                "    \n",
                "    - Inspecting the DataFrame\n",
                "    - Indexing and selecting data\n",
                "    - Descriptive statistics\n",
                "6. **Data Cleaning and Handling Missing Data**\n",
                "    \n",
                "    - Handling missing values\n",
                "    - Dropping or filling missing values\n",
                "    - Removing duplicates"
            ],
            "metadata": {
                "azdata_cell_guid": "378fd867-e4ef-4dcd-9195-befc073f0b13"
            },
            "attachments": {}
        },
        {
            "cell_type": "markdown",
            "source": [
                "#### **`Dropping or Filling Missing Values`**\n",
                "\n",
                "#### 1. Decision-Making Process:\n",
                "\n",
                "1. **Dropping Missing Values:**\n",
                "   - **Context:** Dropping missing values is suitable when the missingness is random, and removing incomplete records doesn't introduce bias or impact the analysis significantly. It's a pragmatic approach when the missing data is negligible compared to the dataset size.\n",
                "\n",
                "   - **Example:**\n",
                "     ```python\n",
                "     # Drop rows with any missing values\n",
                "     df_dropped = df.dropna()\n",
                "     ```\n",
                "\n",
                "2. **Filling Missing Values:**\n",
                "   - **Context:** Filling missing values is appropriate when retaining the incomplete records is crucial, and a reasonable estimation can be made for the missing values. This is common when dealing with time-series data, where continuity matters.\n",
                "\n",
                "   - **Example:**\n",
                "     ```python\n",
                "     # Fill missing values in 'column_name' with a constant value\n",
                "     df_filled_constant = df.fillna(value=0)\n",
                "     ```\n",
                "\n",
                "   - **Example:**\n",
                "     ```python\n",
                "     # Fill missing values with the mean of each column\n",
                "     df_filled_mean = df.fillna(df.mean())\n",
                "     ```\n",
                "\n",
                "   - **Example:**\n",
                "     ```python\n",
                "     # Forward fill missing values in a DataFrame\n",
                "     df_forward_filled = df.ffill()\n",
                "     ```\n",
                "\n",
                "   - **Example:**\n",
                "     ```python\n",
                "     # Backward fill missing values in a DataFrame\n",
                "     df_backward_filled = df.bfill()\n",
                "     ```\n",
                "\n",
                "   - **Example:**\n",
                "     ```python\n",
                "     # Interpolate missing values using linear interpolation\n",
                "     df_interpolated_linear = df.interpolate(method='linear')\n",
                "     ```\n",
                "\n",
                "#### Considerations:\n",
                "\n",
                "- **Data Nature:**\n",
                "  - Consider the nature of the data. For time-series data, forward or backward filling might be suitable, while for numeric data, mean or interpolation might be appropriate.\n",
                "\n",
                "- **Impact on Analysis:**\n",
                "  - Evaluate how the chosen method for handling missing values might impact subsequent analyses. Ensure that the imputation method aligns with the overall analysis goals.\n",
                "\n",
                "- **Domain Knowledge:**\n",
                "  - Leverage domain knowledge to make informed decisions. Some missing values may be inherently unfillable due to the nature of the data.\n",
                "\n",
                "#### Conclusion:\n",
                "\n",
                "The decision between dropping or filling missing values depends on the specific characteristics of the data and the analysis goals. Dropping values is a straightforward approach but may lead to data loss. Filling values is a more nuanced process, requiring careful consideration of the data's nature and the impact on downstream analyses. Experiment with different strategies and choose the one that best fits the context of your dataset."
            ],
            "metadata": {
                "azdata_cell_guid": "cf2fa915-4205-4deb-9fe7-ca610c5d22ea"
            },
            "attachments": {}
        },
        {
            "cell_type": "markdown",
            "source": [
                "#### 2. Example:\n",
                "\n",
                "Let's consider a scenario where we have a DataFrame representing monthly sales data for a product. The dataset has missing values in the 'Sales' column, and we need to decide whether to drop or fill those missing values based on the context."
            ],
            "metadata": {
                "azdata_cell_guid": "387b9289-7f44-49cc-8032-a48e0f77adf1"
            },
            "attachments": {}
        },
        {
            "cell_type": "code",
            "source": [
                "import pandas as pd\n",
                "import numpy as np\n",
                "\n",
                "# Sample monthly sales data with missing values\n",
                "sales_data = {\n",
                "    'Month': ['Jan', 'Feb', 'Mar', 'Apr', 'May', 'Jun'],\n",
                "    'Sales': [100, 120, np.nan, 150, np.nan, 180],\n",
                "}\n",
                "\n",
                "# Creating a DataFrame from the sales data\n",
                "df_sales = pd.DataFrame(sales_data)\n",
                "\n",
                "# Displaying the original DataFrame\n",
                "print(\"Original Sales DataFrame:\")\n",
                "print(df_sales)\n",
                "\n",
                "# Decision 1: Dropping Missing Values\n",
                "df_dropped = df_sales.dropna()\n",
                "\n",
                "# Displaying the DataFrame after dropping missing values\n",
                "print(\"\\nDataFrame after Dropping Missing Values:\")\n",
                "print(df_dropped)\n",
                "\n",
                "# Decision 2: Filling Missing Values with Forward Fill\n",
                "df_filled_forward = df_sales.ffill()\n",
                "\n",
                "# Displaying the DataFrame after forward filling missing values\n",
                "print(\"\\nDataFrame after Forward Filling Missing Values:\")\n",
                "print(df_filled_forward)\n",
                "\n",
                "\n",
                "# Decision 3: Filling Missing Values with backward Fill\n",
                "df_filled_backward = df_sales.bfill()\n",
                "\n",
                "# Displaying the DataFrame after forward filling missing values\n",
                "print(\"\\nDataFrame after Backward Filling Missing Values:\")\n",
                "print(df_filled_backward)\n",
                "\n",
                "\n",
                "# Decision 4: Filling Missing Values with Mean\n",
                "df_filled_mean = df_sales.fillna(df_sales['Sales'].mean())\n",
                "\n",
                "# Displaying the DataFrame after filling missing values with mean\n",
                "print(\"\\nDataFrame after Filling Missing Values with Mean:\")\n",
                "print(df_filled_mean)\n",
                ""
            ],
            "metadata": {
                "azdata_cell_guid": "6f651689-bd13-45b5-b2b1-402d19df86fa",
                "language": "python"
            },
            "outputs": [
                {
                    "name": "stdout",
                    "text": "Original Sales DataFrame:\n  Month  Sales\n0   Jan  100.0\n1   Feb  120.0\n2   Mar    NaN\n3   Apr  150.0\n4   May    NaN\n5   Jun  180.0\n\nDataFrame after Dropping Missing Values:\n  Month  Sales\n0   Jan  100.0\n1   Feb  120.0\n3   Apr  150.0\n5   Jun  180.0\n\nDataFrame after Forward Filling Missing Values:\n  Month  Sales\n0   Jan  100.0\n1   Feb  120.0\n2   Mar  120.0\n3   Apr  150.0\n4   May  150.0\n5   Jun  180.0\n\nDataFrame after Backward Filling Missing Values:\n  Month  Sales\n0   Jan  100.0\n1   Feb  120.0\n2   Mar  150.0\n3   Apr  150.0\n4   May  180.0\n5   Jun  180.0\n\nDataFrame after Filling Missing Values with Mean:\n  Month  Sales\n0   Jan  100.0\n1   Feb  120.0\n2   Mar  137.5\n3   Apr  150.0\n4   May  137.5\n5   Jun  180.0\n",
                    "output_type": "stream"
                }
            ],
            "execution_count": 3
        },
        {
            "cell_type": "markdown",
            "source": [
                "In this example:\n",
                "\n",
                "1. **Dropping Missing Values:**\n",
                "   - We use `dropna()` to remove rows with any missing values. This might be suitable if missing values are limited and their removal doesn't significantly affect the analysis.\n",
                "\n",
                "2. **Filling Missing Values with Forward Fill:**\n",
                "   - We use `ffill()` to fill missing values with the previous month's sales. This approach is reasonable when the missing values follow a pattern and can be reasonably estimated using existing data.\n",
                "\n",
                "3. **Filling Missing Values with Mean:**\n",
                "   - We use `fillna()` with the mean of the 'Sales' column to impute missing values. This approach is suitable when we want to retain all rows and fill missing values with a representative value.\n",
                "\n",
                "Adjust the code based on the specific characteristics of your dataset and the analysis goals. Choosing between dropping or filling missing values should be driven by the dataset's context and the impact on subsequent analyses."
            ],
            "metadata": {
                "azdata_cell_guid": "be1d635b-ef43-4d0f-b18f-de0d129e2826"
            },
            "attachments": {}
        },
        {
            "cell_type": "markdown",
            "source": [
                "#### 3. Real-world Scenario:\n",
                "\n",
                "Imagine you are managing a dataset that tracks monthly sales data for a retail business. The dataset includes information such as the month, product category, sales quantity, and revenue. However, due to occasional reporting errors or data collection issues, there are missing values in the dataset. Let's explore how to handle these missing values using Pandas."
            ],
            "metadata": {
                "azdata_cell_guid": "38c9ec1f-d6c0-4532-9423-436892f6061a"
            },
            "attachments": {}
        },
        {
            "cell_type": "code",
            "source": [
                "import pandas as pd\n",
                "import numpy as np\n",
                "\n",
                "# Sample monthly sales data with missing values\n",
                "sales_data = {\n",
                "    'Month': ['Jan', 'Feb', 'Mar', 'Apr', 'May', 'Jun'],\n",
                "    'Category': ['Electronics', 'Clothing', np.nan, 'Electronics', np.nan, 'Clothing'],\n",
                "    'Sales_Quantity': [120, 150, np.nan, 200, np.nan, 180],\n",
                "    'Revenue': [12000, np.nan, 18000, np.nan, 25000, 22000],\n",
                "}\n",
                "\n",
                "# Creating a DataFrame from the sales data\n",
                "df_sales = pd.DataFrame(sales_data)\n",
                "\n",
                "# Displaying the original DataFrame\n",
                "print(\"Original Monthly Sales DataFrame:\")\n",
                "print(df_sales)\n",
                "\n",
                "# Handling Missing Values:\n",
                "# Decision 1: Dropping rows with any missing values\n",
                "df_dropped = df_sales.dropna()\n",
                "\n",
                "# Decision 2: Filling missing values with mean for numerical columns\n",
                "df_filled_mean = df_sales.fillna({'Sales_Quantity': df_sales['Sales_Quantity'].mean(), 'Revenue': df_sales['Revenue'].mean()})\n",
                "\n",
                "# Displaying the DataFrames after handling missing values\n",
                "print(\"\\nDataFrame after Dropping Missing Values:\")\n",
                "print(df_dropped)\n",
                "\n",
                "print(\"\\nDataFrame after Filling Missing Values with Mean:\")\n",
                "print(df_filled_mean)\n",
                ""
            ],
            "metadata": {
                "azdata_cell_guid": "213f283f-88db-49f0-be74-d5f5c4ca79c6",
                "language": "python"
            },
            "outputs": [
                {
                    "name": "stdout",
                    "text": "Original Monthly Sales DataFrame:\n  Month     Category  Sales_Quantity  Revenue\n0   Jan  Electronics           120.0  12000.0\n1   Feb     Clothing           150.0      NaN\n2   Mar          NaN             NaN  18000.0\n3   Apr  Electronics           200.0      NaN\n4   May          NaN             NaN  25000.0\n5   Jun     Clothing           180.0  22000.0\n\nDataFrame after Dropping Missing Values:\n  Month     Category  Sales_Quantity  Revenue\n0   Jan  Electronics           120.0  12000.0\n5   Jun     Clothing           180.0  22000.0\n\nDataFrame after Filling Missing Values with Mean:\n  Month     Category  Sales_Quantity  Revenue\n0   Jan  Electronics           120.0  12000.0\n1   Feb     Clothing           150.0  19250.0\n2   Mar          NaN           162.5  18000.0\n3   Apr  Electronics           200.0  19250.0\n4   May          NaN           162.5  25000.0\n5   Jun     Clothing           180.0  22000.0\n",
                    "output_type": "stream"
                }
            ],
            "execution_count": 4
        },
        {
            "cell_type": "markdown",
            "source": [
                "#### 4. Considerations or Peculiarities:\n",
                "\n",
                "- **Imputation Strategy:**\n",
                "  - Choosing between dropping and filling depends on the impact on analysis. Dropping may lead to loss of important information, while filling may introduce bias if not done carefully.\n",
                "\n",
                "- **Context of Data:**\n",
                "  - Understand the context of your data. For example, filling missing revenue values with the mean might be reasonable, but for product categories, it may not make sense.\n",
                "\n",
                "- **Column-specific Strategies:**\n",
                "  - Different columns may require different strategies. For numeric columns, mean or median filling could be appropriate, while for categorical columns, forward fill or mode filling might be more suitable.\n",
                "\n",
                "#### 5. Common Mistakes:\n",
                "\n",
                "- **Unintended Data Loss:**\n",
                "  - Developers might drop rows without considering the impact on the dataset's integrity. This can lead to unintended data loss, especially if the missing values are not randomly distributed.\n",
                "\n",
                "- **Inconsistent Imputation:**\n",
                "  - Filling missing values inconsistently across columns or datasets can introduce inconsistencies in the dataset.\n",
                "\n",
                "- **Overlooking Context:**\n",
                "  - Filling missing values without understanding the context of the data and the reasons for missingness may lead to inaccurate imputations.\n",
                "\n",
                "Handling missing values is a critical aspect of data preprocessing. It requires thoughtful consideration of the dataset's context, the nature of missingness, and the impact on downstream analyses. Developers should choose strategies that align with the goals of their analysis and avoid common pitfalls that can compromise data quality."
            ],
            "metadata": {
                "azdata_cell_guid": "b67ac806-3a47-421c-8b3e-0983d3916355"
            },
            "attachments": {}
        }
    ]
}