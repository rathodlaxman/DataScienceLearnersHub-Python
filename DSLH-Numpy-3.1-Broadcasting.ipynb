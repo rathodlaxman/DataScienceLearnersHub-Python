{
    "metadata": {
        "kernelspec": {
            "name": "python3",
            "display_name": "Python 3",
            "language": "python"
        },
        "language_info": {
            "name": "python",
            "version": "3.10.9",
            "mimetype": "text/x-python",
            "codemirror_mode": {
                "name": "ipython",
                "version": 3
            },
            "pygments_lexer": "ipython3",
            "nbconvert_exporter": "python",
            "file_extension": ".py"
        }
    },
    "nbformat_minor": 2,
    "nbformat": 4,
    "cells": [
        {
            "cell_type": "markdown",
            "source": [
                "# **`Data Science Learners Hub`**\n",
                "\n",
                "**Module : Python**\n",
                "\n",
                "**email** : [datasciencelearnershub@gmail.com](mailto:datasciencelearnershub@gmail.com)"
            ],
            "metadata": {
                "azdata_cell_guid": "b729783d-941c-4d4d-aa3f-53f56bfa2905"
            },
            "attachments": {}
        },
        {
            "cell_type": "markdown",
            "source": [
                "### **`#3: Advanced Topics in NumPy`**\n",
                "\n",
                "1. **Broadcasting:**\n",
                "   - Understanding how NumPy handles operations on arrays of different shapes.\n",
                "   - Examples illustrating broadcasting.\n",
                "\n",
                "2. **Linear Algebra with NumPy:**\n",
                "   - Matrix multiplication.\n",
                "   - Solving linear equations using NumPy.\n",
                "\n",
                "3. **Random in NumPy:**\n",
                "   - Generating random numbers with `np.random`.\n",
                "   - Simulating random processes.\n",
                "\n",
                "4. **File I/O with NumPy:**\n",
                "   - Reading and writing data to files using `np.loadtxt` and `np.savetxt`.\n",
                "   - Saving and loading NumPy arrays using `np.save` and `np.load`.\n",
                "\n",
                "\n",
                ""
            ],
            "metadata": {
                "azdata_cell_guid": "20157677-2656-485e-9bb4-c83bcaad29e4"
            },
            "attachments": {}
        },
        {
            "cell_type": "markdown",
            "source": [
                "#### **`1. Broadcasting in NumPy:`**\n",
                "\n",
                "**Concept:**\n",
                "\n",
                "Broadcasting is a powerful feature in NumPy that allows for element-wise operations between arrays of different shapes and sizes. In simpler terms, it enables NumPy to perform operations on arrays that don't have the same shape by implicitly replicating and aligning smaller arrays to match the shape of larger arrays.\n",
                "\n",
                "**How Broadcasting Works:**\n",
                "\n",
                "When operating on two arrays, NumPy compares their shapes element-wise, starting from the rightmost dimensions. It automatically adds dimensions to the smaller array to make their shapes compatible. Broadcasting continues until the shapes are aligned, allowing element-wise operations.\n",
                "\n",
                "**Example:**\n",
                ""
            ],
            "metadata": {
                "azdata_cell_guid": "9f6df91c-190b-40a7-b682-254e9cb5b783"
            },
            "attachments": {}
        },
        {
            "cell_type": "code",
            "source": [
                "import numpy as np\n",
                "\n",
                "# Broadcasting Example\n",
                "arr1 = np.array([1, 2, 3])\n",
                "arr2 = np.array([[10], [20], [30]])\n",
                "\n",
                "print('arr1.shape :', arr1.shape)\n",
                "print('arr2.shape :', arr2.shape)\n",
                "\n",
                "result = arr1 + arr2\n",
                "print(result)\n",
                "print('result.shape :',result.shape)"
            ],
            "metadata": {
                "azdata_cell_guid": "2b7c1111-130a-475b-93c7-dabb04139483",
                "language": "python"
            },
            "outputs": [
                {
                    "output_type": "stream",
                    "name": "stdout",
                    "text": "arr1.shape : (3,)\narr2.shape : (3, 1)\n[[11 12 13]\n [21 22 23]\n [31 32 33]]\nresult.shape : (3, 3)\n"
                }
            ],
            "execution_count": 2
        },
        {
            "cell_type": "markdown",
            "source": [
                "In this example, `arr1` has shape (3,) and `arr2` has shape (3, 1). NumPy automatically broadcasts `arr1` to shape (1, 3) so that the addition operation can be performed element-wise. The resulting `result` has shape (3, 3)."
            ],
            "metadata": {
                "azdata_cell_guid": "d99cbf29-29b3-4c54-b066-1135e279c2e9"
            },
            "attachments": {}
        },
        {
            "cell_type": "markdown",
            "source": [
                "#### **`Understanding Broadcasting`**\n",
                "\n",
                "**YouTube Videos** :\n",
                "\n",
                "[https://youtu.be/0u9OzBSRZec](https://youtu.be/0u9OzBSRZec)\n",
                "\n",
                "[https://youtu.be/oG1t3qlzq14](https://youtu.be/oG1t3qlzq14)"
            ],
            "metadata": {
                "azdata_cell_guid": "9166f728-5f03-486b-b206-3b4cc432348d"
            },
            "attachments": {}
        },
        {
            "cell_type": "markdown",
            "source": [
                "#### **`Broadcasting Rules in NumPy`:**\n",
                "\n",
                "NumPy's broadcasting rules determine how arrays with different shapes are combined in element-wise operations. Broadcasting allows NumPy to perform operations on arrays of different shapes without the need for explicit looping. The key broadcasting rules are as follows:\n",
                "\n",
                "1. **Dimensions Compatibility:**\n",
                "   - Two dimensions are compatible when they are equal or one of them is 1.\n",
                "   - For example, a 3x5 array can be broadcasted with a 1x5 array, as their dimensions are compatible.\n",
                "\n",
                "2. **Size Compatibility:**\n",
                "   - Arrays with smaller dimensions are padded with ones on their left side until their shapes match.\n",
                "   - For example, a 3x1 array can be broadcasted with a 3x5 array by duplicating its column along the new axis.\n",
                "\n",
                "3. **Arrays with the Same Number of Dimensions:**\n",
                "   - If two arrays have the same number of dimensions, their shapes must be compatible along each dimension.\n",
                "   - For example, a 3x5 array can be broadcasted with another 3x5 array.\n",
                "\n",
                "4. **Broadcasting Along Multiple Dimensions:**\n",
                "   - Broadcasting extends to multiple dimensions simultaneously, but it must follow the rules for each dimension.\n",
                "   - For example, a 3x1x5 array can be broadcasted with a 1x4x1 array.\n",
                "\n",
                "5. **Size of 1 Dimensions:**\n",
                "   - Any dimension with size 1 is considered to be effectively stretched or repeated.\n",
                "   - For example, a 3x1 array can be broadcasted with a 1x5 array.\n",
                "\n",
                "6. **No Broadcasting:**\n",
                "   - If the sizes along a particular dimension do not match and none of them is 1, NumPy raises a \"ValueError\" indicating an incompatible shape for broadcasting.\n",
                "\n",
                "### Examples:\n",
                "\n",
                ""
            ],
            "metadata": {
                "azdata_cell_guid": "0424c7df-67e7-4c42-9b8a-2c1506961a42"
            },
            "attachments": {}
        },
        {
            "cell_type": "code",
            "source": [
                "\n",
                "import numpy as np\n",
                "\n",
                "# Example 1: Broadcasting with a scalar\n",
                "arr1 = np.array([[1, 2, 3], [4, 5, 6]])\n",
                "scalar_value = 10\n",
                "result = arr1 + scalar_value\n",
                "print(f\"Shape of arr1 : {arr1.shape}\")\n",
                "print(f'arr1 dimension : {arr1.ndim}')\n",
                "print(result)\n",
                ""
            ],
            "metadata": {
                "azdata_cell_guid": "428e35bc-e247-437c-9f72-d2da97acf99c",
                "language": "python"
            },
            "outputs": [
                {
                    "name": "stdout",
                    "text": "Shape of arr1 : (2, 3)\narr1 dimension : 2\n[[11 12 13]\n [14 15 16]]\n",
                    "output_type": "stream"
                }
            ],
            "execution_count": 8
        },
        {
            "cell_type": "code",
            "source": [
                "# Example 2: Broadcasting with a 1D array\n",
                "arr1 = np.array([[1, 2, 3], [4, 5, 6]])\n",
                "arr2 = np.array([10, 20, 30])\n",
                "\n",
                "result = arr1 + arr2\n",
                "\n",
                "print(f\"Shape of arr1 : {arr1.shape}\")\n",
                "print(f'arr1 dimension : {arr1.ndim}')\n",
                "print(f\"Shape of arr2 : {arr2.shape}\")\n",
                "print(f'arr2 dimension : {arr2.ndim}')\n",
                "\n",
                "print(result)"
            ],
            "metadata": {
                "language": "python",
                "azdata_cell_guid": "5a2639b8-d45e-4789-975a-0bf6b47a4908"
            },
            "outputs": [
                {
                    "name": "stdout",
                    "text": "Shape of arr1 : (2, 3)\narr1 dimension : 2\nShape of arr2 : (3,)\narr2 dimension : 1\n[[11 22 33]\n [14 25 36]]\n",
                    "output_type": "stream"
                }
            ],
            "execution_count": 6
        },
        {
            "cell_type": "code",
            "source": [
                "# Example 3: Broadcasting with a 2D array\n",
                "arr1 = np.array([[1, 2, 3], [4, 5, 6]])\n",
                "arr2 = np.array([[10], [20]])\n",
                "result = arr1 + arr2\n",
                "\n",
                "print(f\"Shape of arr1 : {arr1.shape}\")\n",
                "print(f'arr1 dimension : {arr1.ndim}')\n",
                "print(f\"Shape of arr2 : {arr2.shape}\")\n",
                "print(f'arr2 dimension : {arr2.ndim}')\n",
                "\n",
                "print(result)"
            ],
            "metadata": {
                "language": "python",
                "azdata_cell_guid": "e1f56b35-408b-4712-b2b3-e77ae76e7405"
            },
            "outputs": [
                {
                    "name": "stdout",
                    "text": "Shape of arr1 : (2, 3)\narr1 dimension : 2\nShape of arr2 : (2, 1)\narr2 dimension : 2\n[[11 12 13]\n [24 25 26]]\n",
                    "output_type": "stream"
                }
            ],
            "execution_count": 7
        },
        {
            "cell_type": "markdown",
            "source": [
                "These examples showcase how NumPy follows the broadcasting rules to perform element-wise operations efficiently across arrays with different shapes. Broadcasting is a powerful feature that simplifies operations and enhances the flexibility of array manipulation in NumPy."
            ],
            "metadata": {
                "language": "python",
                "azdata_cell_guid": "c1052d20-c157-47ea-abb5-07b12158ef72"
            },
            "attachments": {}
        },
        {
            "cell_type": "markdown",
            "source": [
                "\n",
                "#### Example 1: Broadcasting with a Scalar\n",
                "\n",
                "```\n",
                "import numpy as np\n",
                "\n",
                "arr1 = np.array([[1, 2, 3], [4, 5, 6]])\n",
                "scalar_value = 10\n",
                "result = arr1 + scalar_value\n",
                "print(\"Original Array:\")\n",
                "print(arr1)\n",
                "print(\"\\nBroadcasting with Scalar:\")\n",
                "print(result)\n",
                "\n",
                "```\n",
                "\n",
                "**Output:**\n",
                "\n",
                "```\n",
                "Original Array:\n",
                "[[1 2 3]\n",
                " [4 5 6]]\n",
                "\n",
                "Broadcasting with Scalar:\n",
                "[[11 12 13]\n",
                " [14 15 16]]\n",
                "\n",
                "```\n",
                "\n",
                "In this example, the scalar value (10) is broadcasted to each element of the array `arr1`.\n",
                "\n",
                "**Explanation:**\n",
                "\n",
                "- **Broadcasting Operation:** The scalar value (10) is broadcasted to each element of the array `arr1`.\n",
                "- **Broadcasting Rule:** Broadcasting with a scalar involves extending the scalar to match the shape of the array.\n",
                "- **Result:** Each element of `arr1` is added to the scalar value, resulting in the broadcasted array `result`.\n",
                "\n",
                "#### Example 2: Broadcasting with a 1D Array\n",
                "\n",
                "```\n",
                "import numpy as np\n",
                "\n",
                "arr1 = np.array([[1, 2, 3], [4, 5, 6]])\n",
                "arr2 = np.array([10, 20, 30])\n",
                "result = arr1 + arr2\n",
                "print(\"Original Arrays:\")\n",
                "print(arr1)\n",
                "print(arr2)\n",
                "print(\"\\nBroadcasting with 1D Array:\")\n",
                "print(result)\n",
                "\n",
                "```\n",
                "\n",
                "**Output:**\n",
                "\n",
                "```\n",
                "Original Arrays:\n",
                "[[1 2 3]\n",
                " [4 5 6]]\n",
                "[10 20 30]\n",
                "\n",
                "Broadcasting with 1D Array:\n",
                "[[11 22 33]\n",
                " [14 25 36]]\n",
                "\n",
                "```\n",
                "\n",
                "In this example, the 1D array `arr2` is broadcasted along its axis to match the shape of `arr1`, and element-wise addition is performed.\n",
                "\n",
                "**Explanation:**\n",
                "\n",
                "- **Broadcasting Operation:** The 1D array `arr2` is broadcasted along its axis to match the shape of `arr1`.\n",
                "- **Broadcasting Rule:** Broadcasting with a 1D array involves extending the smaller dimension (here, the row) to match the larger dimension (row-wise broadcasting).\n",
                "- **Result:** Element-wise addition is performed between `arr1` and the broadcasted `arr2`, resulting in the broadcasted array `result`.\n",
                "\n",
                "#### Example 3: Broadcasting with a 2D Array\n",
                "\n",
                "```\n",
                "import numpy as np\n",
                "\n",
                "arr1 = np.array([[1, 2, 3], [4, 5, 6]])\n",
                "arr2 = np.array([[10], [20]])\n",
                "result = arr1 + arr2\n",
                "print(\"Original Arrays:\")\n",
                "print(arr1)\n",
                "print(arr2)\n",
                "print(\"\\nBroadcasting with 2D Array:\")\n",
                "print(result)\n",
                "\n",
                "```\n",
                "\n",
                "**Output:**\n",
                "\n",
                "```\n",
                "Original Arrays:\n",
                "[[1 2 3]\n",
                " [4 5 6]]\n",
                "[[10]\n",
                " [20]]\n",
                "\n",
                "Broadcasting with 2D Array:\n",
                "[[11 12 13]\n",
                " [24 25 26]]\n",
                "\n",
                "```\n",
                "\n",
                "In this example, the 2D array `arr2` is broadcasted along its axis to match the shape of `arr1`, and element-wise addition is performed.\n",
                "\n",
                "**Explanation:**\n",
                "\n",
                "- **Broadcasting Operation:** The 2D array `arr2` is broadcasted along its axis to match the shape of `arr1`.\n",
                "- **Broadcasting Rule:** Broadcasting with a 2D array involves extending both dimensions to match the larger shape (both row-wise and column-wise broadcasting).\n",
                "- **Result:** Element-wise addition is performed between `arr1` and the broadcasted `arr2`, resulting in the broadcasted array `result`.\n",
                "\n",
                "In summary, broadcasting involves extending smaller dimensions to match larger dimensions, enabling element-wise operations between arrays with different shapes. It allows NumPy to perform operations efficiently and without the need for explicit looping or copying of data. The broadcasting rules ensure that the shapes align correctly for element-wise operations.\n",
                "\n",
                "These examples demonstrate how broadcasting works in different scenarios, allowing NumPy to handle operations between arrays with different shapes in a convenient and efficient manner."
            ],
            "metadata": {
                "azdata_cell_guid": "ae68a381-9c35-40c3-ad37-330c6fad26eb"
            },
            "attachments": {}
        },
        {
            "cell_type": "markdown",
            "source": [
                "**Real-world Examples:**"
            ],
            "metadata": {
                "azdata_cell_guid": "f159c3c5-bb97-4eb7-a91f-ecf0cb1fcf8a"
            },
            "attachments": {}
        },
        {
            "cell_type": "markdown",
            "source": [
                "1. **Temperature Conversion:**\n",
                "   - **Scenario:** Convert temperatures in Celsius to Fahrenheit.\n",
                "   - **Application:** Broadcasting allows converting an array of Celsius temperatures to Fahrenheit without the need for explicit looping."
            ],
            "metadata": {
                "azdata_cell_guid": "8bf3bc7a-0b55-4c18-a4e3-d2d78cccd394"
            },
            "attachments": {}
        },
        {
            "cell_type": "code",
            "source": [
                "import numpy as np\n",
                "\n",
                "celsius_temps = np.array([0, 10, 20, 30, 40])\n",
                "# Broadcasting to convert Celsius to Fahrenheit: (C * 9/5) + 32\n",
                "fahrenheit_temps = (celsius_temps * 9/5) + 32\n",
                "\n",
                "print(fahrenheit_temps)"
            ],
            "metadata": {
                "azdata_cell_guid": "8ea5411a-4917-48ca-9ac4-b6561bf7734f",
                "language": "python"
            },
            "outputs": [
                {
                    "output_type": "stream",
                    "name": "stdout",
                    "text": "[ 32.  50.  68.  86. 104.]\n"
                }
            ],
            "execution_count": 3
        },
        {
            "cell_type": "markdown",
            "source": [
                "2. **Stock Portfolio Analysis:**\n",
                "   - **Scenario:** Calculate the total value of a stock portfolio.\n",
                "   - **Application:** Broadcasting enables multiplying the number of shares by the stock prices for each stock, even if the shapes are different."
            ],
            "metadata": {
                "language": "python",
                "azdata_cell_guid": "818778a5-5bc7-48e9-924f-e0edc2c41215"
            },
            "attachments": {}
        },
        {
            "cell_type": "code",
            "source": [
                "import numpy as np\n",
                "\n",
                "shares_owned = np.array([10, 20, 30])\n",
                "stock_prices = np.array([50, 75, 100])\n",
                "# Broadcasting to calculate total value: shares_owned * stock_prices\n",
                "portfolio_value = shares_owned * stock_prices\n",
                "\n",
                "print(portfolio_value)"
            ],
            "metadata": {
                "language": "python",
                "azdata_cell_guid": "3be8cf24-0324-4855-8d68-46f944704d92"
            },
            "outputs": [
                {
                    "output_type": "stream",
                    "name": "stdout",
                    "text": "[ 500 1500 3000]\n"
                }
            ],
            "execution_count": 4
        },
        {
            "cell_type": "markdown",
            "source": [
                "3. **Image Brightness Adjustment:**\n",
                "   - **Scenario:** Adjust the brightness of an image.\n",
                "   - **Application:** Broadcasting facilitates scaling the pixel values of an image without the need for explicit loops."
            ],
            "metadata": {
                "language": "python",
                "azdata_cell_guid": "a33fad9e-700d-4632-aa38-5dddd5b3ecc5"
            },
            "attachments": {}
        },
        {
            "cell_type": "code",
            "source": [
                "import numpy as np\n",
                "\n",
                "image = np.array([[100, 150], [200, 250]])\n",
                "# Broadcasting to increase brightness by 50: image + 50\n",
                "brighter_image = image + 50\n",
                "print(brighter_image)"
            ],
            "metadata": {
                "language": "python",
                "azdata_cell_guid": "3355eb22-84c6-4ea1-ab44-dd7980cd2c0f",
                "tags": []
            },
            "outputs": [
                {
                    "output_type": "stream",
                    "name": "stdout",
                    "text": "[[150 200]\n [250 300]]\n"
                }
            ],
            "execution_count": 5
        },
        {
            "cell_type": "markdown",
            "source": [
                "**Key Takeaway:**\n",
                "\n",
                "Broadcasting in NumPy is a powerful mechanism that simplifies operations on arrays with different shapes, making code more concise and readable. It is particularly useful in scenarios involving numerical operations, data manipulation, and transformations, contributing to the efficiency and flexibility of array-based computations in various applications."
            ],
            "metadata": {
                "language": "python",
                "azdata_cell_guid": "2799b8d6-7290-4dba-8dce-bdd196b4abfe"
            },
            "attachments": {}
        }
    ]
}