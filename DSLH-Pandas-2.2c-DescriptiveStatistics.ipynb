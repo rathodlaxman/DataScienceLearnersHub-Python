{
    "metadata": {
        "kernelspec": {
            "name": "python3",
            "display_name": "Python 3",
            "language": "python"
        },
        "language_info": {
            "name": "python",
            "version": "3.10.9",
            "mimetype": "text/x-python",
            "codemirror_mode": {
                "name": "ipython",
                "version": 3
            },
            "pygments_lexer": "ipython3",
            "nbconvert_exporter": "python",
            "file_extension": ".py"
        }
    },
    "nbformat_minor": 2,
    "nbformat": 4,
    "cells": [
        {
            "cell_type": "markdown",
            "source": [
                "# **`Data Science Learners Hub`**\n",
                "\n",
                "**Module : Python**\n",
                "\n",
                "**email** : [datasciencelearnershub@gmail.com](mailto:datasciencelearnershub@gmail.com)"
            ],
            "metadata": {
                "azdata_cell_guid": "aa3f7673-b9b1-4851-8522-db9bfc2151b4"
            },
            "attachments": {}
        },
        {
            "cell_type": "markdown",
            "source": [
                "## **`#2: DataFrames in Depth`**\n",
                "\n",
                "4. **Creating DataFrames**\n",
                "    \n",
                "    - From lists, dictionaries, and arrays\n",
                "    - Reading data from CSV, Excel, and other formats\n",
                "5. **Basic DataFrame Operations**\n",
                "    \n",
                "    - Inspecting the DataFrame\n",
                "    - Indexing and selecting data\n",
                "    - Descriptive statistics\n",
                "6. **Data Cleaning and Handling Missing Data**\n",
                "    \n",
                "    - Handling missing values\n",
                "    - Dropping or filling missing values\n",
                "    - Removing duplicates"
            ],
            "metadata": {
                "azdata_cell_guid": "fba658d7-85c3-4e88-8feb-b632b9d2266e"
            },
            "attachments": {}
        },
        {
            "cell_type": "markdown",
            "source": [
                "### **`5. Basic DataFrame Operations`**"
            ],
            "metadata": {
                "azdata_cell_guid": "4294f58f-5258-4182-b804-f389aa87e471"
            },
            "attachments": {}
        },
        {
            "cell_type": "markdown",
            "source": [
                "\n",
                "#### **`Descriptive Statistics in Pandas`**\n",
                "\n",
                "**Introduction:**\n",
                "Descriptive statistics aim to summarize and describe the main features of a dataset. Pandas provides various functions to compute descriptive statistics for each column in a DataFrame.\n",
                "\n",
                "**1. Mean:**\n",
                "   - **Definition:** The mean, also known as the average, is the sum of all values in a dataset divided by the number of observations.\n",
                "   - **Pandas Code:**\n",
                "     ```python\n",
                "     mean_values = df.mean()\n",
                "     ```\n",
                "   - **Interpretation:** The mean provides a measure of central tendency, indicating the typical value in a dataset.\n",
                "\n",
                "**2. Median:**\n",
                "   - **Definition:** The median is the middle value in a dataset when it is sorted in ascending order. It is less sensitive to extreme values than the mean.\n",
                "   - **Pandas Code:**\n",
                "     ```python\n",
                "     median_values = df.median()\n",
                "     ```\n",
                "   - **Interpretation:** The median gives insight into the central position of the data, especially in the presence of outliers.\n",
                "\n",
                "**3. Mode:**\n",
                "   - **Definition:** The mode represents the most frequently occurring value(s) in a dataset.\n",
                "   - **Pandas Code:**\n",
                "     ```python\n",
                "     mode_values = df.mode().iloc[0]\n",
                "     ```\n",
                "   - **Interpretation:** Identifying the mode helps in understanding the most common values in a dataset.\n",
                "\n",
                "**4. Standard Deviation:**\n",
                "   - **Definition:** The standard deviation measures the amount of variation or dispersion in a set of values. A higher standard deviation indicates greater variability.\n",
                "   - **Pandas Code:**\n",
                "     ```python\n",
                "     std_deviation = df.std()\n",
                "     ```\n",
                "   - **Interpretation:** Standard deviation is crucial for assessing the spread of values around the mean.\n",
                "\n",
                "**5. Variance:**\n",
                "   - **Definition:** Variance is the average of the squared differences from the mean. It is the square of the standard deviation.\n",
                "   - **Pandas Code:**\n",
                "     ```python\n",
                "     variance_values = df.var()\n",
                "     ```\n",
                "   - **Interpretation:** Variance provides another measure of data dispersion, useful in comparing the spread of different datasets.\n",
                "\n",
                "**6. Quantiles and Percentiles:**\n",
                "   - **Definition:** Quantiles divide a dataset into intervals with equal probabilities. Percentiles are specific quantiles expressed as percentages.\n",
                "   - **Pandas Code:**\n",
                "     ```python\n",
                "     quantiles = df.quantile([0.25, 0.5, 0.75])\n",
                "     ```\n",
                "   - **Interpretation:** Quantiles help in understanding the distribution and identifying central points in the data.\n",
                "\n",
                "**7. Interquartile Range (IQR):**\n",
                "   - **Definition:** IQR is the range between the first quartile (25th percentile) and the third quartile (75th percentile). It provides a measure of statistical dispersion.\n",
                "   - **Pandas Code:**\n",
                "     ```python\n",
                "     iqr_values = quantiles.loc[0.75] - quantiles.loc[0.25]\n",
                "     ```\n",
                "   - **Interpretation:** IQR is useful for identifying potential outliers and understanding the bulk of the data distribution.\n",
                "\n",
                "**8. Skewness:**\n",
                "   - **Definition:** Skewness measures the asymmetry of a distribution. Positive skewness indicates a right-skewed distribution, while negative skewness indicates a left-skewed distribution.\n",
                "   - **Pandas Code:**\n",
                "     ```python\n",
                "     skewness_values = df.skew()\n",
                "     ```\n",
                "   - **Interpretation:** Skewness provides insights into the shape of the distribution.\n",
                "\n",
                "**9. Kurtosis:**\n",
                "   - **Definition:** Kurtosis measures the sharpness of the peak (or tails) of a distribution. High kurtosis indicates a sharp peak and heavy tails.\n",
                "   - **Pandas Code:**\n",
                "     ```python\n",
                "     kurtosis_values = df.kurt()\n",
                "     ```\n",
                "   - **Interpretation:** Kurtosis helps in understanding the tails' thickness and the presence of outliers.\n",
                "\n",
                "**10. Correlation and Covariance:**\n",
                "   - **Definition:** Correlation measures the linear relationship between two variables, while covariance measures their joint variability.\n",
                "   - **Pandas Code:**\n",
                "     ```python\n",
                "     correlation_matrix = df.corr()\n",
                "     covariance_matrix = df.cov()\n",
                "     ```\n",
                "   - **Interpretation:** Correlation and covariance are crucial for understanding relationships between variables.\n",
                "\n",
                "**Conclusion:**\n",
                "Descriptive statistics in Pandas provide a comprehensive view of the distribution, relationships, and variability within a dataset. Understanding these measures is fundamental for data analysis and decision-making. The choice of which statistics to use depends on the nature of the data and the questions you want to answer."
            ],
            "metadata": {
                "azdata_cell_guid": "8d9f88a0-a5da-4f37-b3b6-f9f83ab1c775"
            },
            "attachments": {}
        },
        {
            "cell_type": "markdown",
            "source": [
                "#### Example :\n",
                ""
            ],
            "metadata": {
                "azdata_cell_guid": "b9000f6a-e8db-4ee2-a14f-782212d81150"
            },
            "attachments": {}
        },
        {
            "cell_type": "code",
            "source": [
                "import pandas as pd\n",
                "import numpy as np\n",
                "\n",
                "# Creating a sample DataFrame\n",
                "data = {\n",
                "    'Age': [25, 30, 35, 22, 28],\n",
                "    'Salary': [50000, 60000, 75000, 48000, 55000],\n",
                "    'Experience': [3, 5, 8, 2, 4],\n",
                "}\n",
                "\n",
                "df = pd.DataFrame(data)\n",
                "\n",
                "# Mean, Median, and Mode\n",
                "mean_values = df.mean()\n",
                "median_values = df.median()\n",
                "mode_values = df.mode().iloc[0]\n",
                "\n",
                "# Measures of Dispersion\n",
                "std_deviation = df.std()\n",
                "variance_values = df.var()\n",
                "\n",
                "# Quantiles and Percentiles\n",
                "quantiles = df.quantile([0.25, 0.5, 0.75])\n",
                "iqr_values = quantiles.loc[0.75] - quantiles.loc[0.25]\n",
                "\n",
                "# Summary Statistics\n",
                "summary_stats = df.describe()\n",
                "\n",
                "# Skewness and Kurtosis\n",
                "skewness_values = df.skew()\n",
                "kurtosis_values = df.kurt()\n",
                "\n",
                "# Correlation and Covariance\n",
                "correlation_matrix = df.corr()\n",
                "covariance_matrix = df.cov()\n",
                "\n",
                "# Displaying the results\n",
                "print(\"Mean Values:\\n\", mean_values)\n",
                "print(\"\\nMedian Values:\\n\", median_values)\n",
                "print(\"\\nMode Values:\\n\", mode_values)\n",
                "print(\"\\nStandard Deviation:\\n\", std_deviation)\n",
                "print(\"\\nVariance Values:\\n\", variance_values)\n",
                "print(\"\\nQuantiles:\\n\", quantiles)\n",
                "print(\"\\nInterquartile Range (IQR):\\n\", iqr_values)\n",
                "print(\"\\nSummary Statistics:\\n\", summary_stats)\n",
                "print(\"\\nSkewness Values:\\n\", skewness_values)\n",
                "print(\"\\nKurtosis Values:\\n\", kurtosis_values)\n",
                "print(\"\\nCorrelation Matrix:\\n\", correlation_matrix)\n",
                "print(\"\\nCovariance Matrix:\\n\", covariance_matrix)\n",
                ""
            ],
            "metadata": {
                "azdata_cell_guid": "573be691-7905-4f75-a137-33f34f435da9",
                "language": "python"
            },
            "outputs": [
                {
                    "output_type": "stream",
                    "name": "stdout",
                    "text": "Mean Values:\n Age              28.0\nSalary        57600.0\nExperience        4.4\ndtype: float64\n\nMedian Values:\n Age              28.0\nSalary        55000.0\nExperience        4.0\ndtype: float64\n\nMode Values:\n Age              22\nSalary        48000\nExperience        2\nName: 0, dtype: int64\n\nStandard Deviation:\n Age               4.949747\nSalary        10784.247772\nExperience        2.302173\ndtype: float64\n\nVariance Values:\n Age                  24.5\nSalary        116300000.0\nExperience            5.3\ndtype: float64\n\nQuantiles:\n        Age   Salary  Experience\n0.25  25.0  50000.0         3.0\n0.50  28.0  55000.0         4.0\n0.75  30.0  60000.0         5.0\n\nInterquartile Range (IQR):\n Age               5.0\nSalary        10000.0\nExperience        2.0\ndtype: float64\n\nSummary Statistics:\n              Age        Salary  Experience\ncount   5.000000      5.000000    5.000000\nmean   28.000000  57600.000000    4.400000\nstd     4.949747  10784.247772    2.302173\nmin    22.000000  48000.000000    2.000000\n25%    25.000000  50000.000000    3.000000\n50%    28.000000  55000.000000    4.000000\n75%    30.000000  60000.000000    5.000000\nmax    35.000000  75000.000000    8.000000\n\nSkewness Values:\n Age           0.371076\nSalary        1.309113\nExperience    1.032659\ndtype: float64\n\nKurtosis Values:\n Age          -0.099125\nSalary        1.571802\nExperience    1.128515\ndtype: float64\n\nCorrelation Matrix:\n                  Age    Salary  Experience\nAge         1.000000  0.969477    0.987260\nSalary      0.969477  1.000000    0.994876\nExperience  0.987260  0.994876    1.000000\n\nCovariance Matrix:\n                  Age       Salary  Experience\nAge            24.50      51750.0       11.25\nSalary      51750.00  116300000.0    24700.00\nExperience     11.25      24700.0        5.30\n"
                }
            ],
            "execution_count": 10
        },
        {
            "cell_type": "markdown",
            "source": [
                "#### Real-world Scenario:\n",
                "Consider a scenario where you have a dataset containing information about the performance of students in an educational institution. The dataset includes student IDs, exam scores in different subjects, attendance percentages, and participation in extracurricular activities. You want to extract descriptive statistics to gain insights into the students' academic performance."
            ],
            "metadata": {
                "azdata_cell_guid": "118fd246-ad8b-4f40-b2f7-1d1d7e258cd0"
            },
            "attachments": {}
        },
        {
            "cell_type": "code",
            "source": [
                "import pandas as pd\n",
                "\n",
                "# Sample student performance data\n",
                "student_data = {\n",
                "    'StudentID': [1, 2, 3, 4, 5],\n",
                "    'Math_Score': [85, 90, 78, 92, 88],\n",
                "    'English_Score': [75, 85, 80, 88, 92],\n",
                "    'Attendance_Percentage': [92, 95, 88, 97, 93],\n",
                "    'Extracurricular_Participation': [2, 3, 1, 4, 2],\n",
                "}\n",
                "\n",
                "# Creating a DataFrame from the student data\n",
                "df_students = pd.DataFrame(student_data)\n",
                "\n",
                "# Extracting Descriptive Statistics\n",
                "mean_scores = df_students.mean()\n",
                "median_scores = df_students.median()\n",
                "std_deviation_scores = df_students.std()\n",
                "attendance_summary = df_students['Attendance_Percentage'].describe()\n",
                "correlation_matrix = df_students.corr()\n",
                "\n",
                "# Displaying the Descriptive Statistics\n",
                "print(\"Mean Scores:\\n\", mean_scores)\n",
                "print(\"\\nMedian Scores:\\n\", median_scores)\n",
                "print(\"\\nStandard Deviation of Scores:\\n\", std_deviation_scores)\n",
                "print(\"\\nAttendance Summary:\\n\", attendance_summary)\n",
                "print(\"\\nCorrelation Matrix:\\n\", correlation_matrix)\n",
                ""
            ],
            "metadata": {
                "azdata_cell_guid": "0be49869-bf4b-497f-bb88-44dca6d72ddf",
                "language": "python"
            },
            "outputs": [
                {
                    "output_type": "stream",
                    "name": "stdout",
                    "text": "Mean Scores:\n StudentID                         3.0\nMath_Score                       86.6\nEnglish_Score                    84.0\nAttendance_Percentage            93.0\nExtracurricular_Participation     2.4\ndtype: float64\n\nMedian Scores:\n StudentID                         3.0\nMath_Score                       88.0\nEnglish_Score                    85.0\nAttendance_Percentage            93.0\nExtracurricular_Participation     2.0\ndtype: float64\n\nStandard Deviation of Scores:\n StudentID                        1.581139\nMath_Score                       5.458938\nEnglish_Score                    6.670832\nAttendance_Percentage            3.391165\nExtracurricular_Participation    1.140175\ndtype: float64\n\nAttendance Summary:\n count     5.000000\nmean     93.000000\nstd       3.391165\nmin      88.000000\n25%      92.000000\n50%      93.000000\n75%      95.000000\nmax      97.000000\nName: Attendance_Percentage, dtype: float64\n\nCorrelation Matrix:\n                                StudentID  Math_Score  English_Score  \\\nStudentID                       1.000000    0.231714       0.876984   \nMath_Score                      0.231714    1.000000       0.583540   \nEnglish_Score                   0.876984    0.583540       1.000000   \nAttendance_Percentage           0.186501    0.985839       0.519408   \nExtracurricular_Participation   0.138675    0.915788       0.427299   \n\n                               Attendance_Percentage  \\\nStudentID                                   0.186501   \nMath_Score                                  0.985839   \nEnglish_Score                               0.519408   \nAttendance_Percentage                       1.000000   \nExtracurricular_Participation               0.969864   \n\n                               Extracurricular_Participation  \nStudentID                                           0.138675  \nMath_Score                                          0.915788  \nEnglish_Score                                       0.427299  \nAttendance_Percentage                               0.969864  \nExtracurricular_Participation                       1.000000  \n"
                }
            ],
            "execution_count": 11
        }
    ]
}