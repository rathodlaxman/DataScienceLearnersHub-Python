{
    "metadata": {
        "kernelspec": {
            "name": "python3",
            "display_name": "Python 3",
            "language": "python"
        },
        "language_info": {
            "name": "python",
            "version": "3.10.9",
            "mimetype": "text/x-python",
            "codemirror_mode": {
                "name": "ipython",
                "version": 3
            },
            "pygments_lexer": "ipython3",
            "nbconvert_exporter": "python",
            "file_extension": ".py"
        }
    },
    "nbformat_minor": 2,
    "nbformat": 4,
    "cells": [
        {
            "cell_type": "markdown",
            "source": [
                "# **`Data Science Learners Hub`**\n",
                "\n",
                "**Module : Python**\n",
                "\n",
                "**email** : [datasciencelearnershub@gmail.com](mailto:datasciencelearnershub@gmail.com)"
            ],
            "metadata": {
                "azdata_cell_guid": "1c9d735c-382a-4e1b-ad76-44a1a9b7c9e4"
            },
            "attachments": {}
        },
        {
            "cell_type": "markdown",
            "source": [
                "### **`#2: Operations on NumPy Arrays`**\n",
                "\n",
                "1. **Element-wise Operations:**\n",
                "   - Performing basic arithmetic operations on arrays.\n",
                "   - Universal functions (ufuncs) in NumPy.\n",
                "\n",
                "2. **Aggregation and Statistics:**\n",
                "   - Sum, mean, median, variance, and standard deviation.\n",
                "   - Min, max, and other aggregation functions.\n",
                "\n",
                "3. **Array Comparison and Boolean Operations:**\n",
                "   - Comparing arrays element-wise.\n",
                "   - Boolean indexing and masking.\n",
                "\n",
                "4. **Array Manipulation:**\n",
                "   - Reshaping arrays.\n",
                "   - Concatenation and splitting arrays."
            ],
            "metadata": {
                "azdata_cell_guid": "b227b4e7-7cdd-42d6-ba15-9c712564337a"
            },
            "attachments": {}
        },
        {
            "cell_type": "markdown",
            "source": [
                "### **`2.2. Aggregation and Statistics in NumPy:`**\n",
                "\n",
                "**Aggregation Functions:**\n",
                "\n",
                "NumPy provides various aggregation functions that summarize data by computing statistical measures. Here are some key aggregation functions:\n",
                ""
            ],
            "metadata": {
                "azdata_cell_guid": "6a02febc-6e7d-429f-927c-6096688724ea"
            },
            "attachments": {}
        },
        {
            "cell_type": "markdown",
            "source": [
                "1. **Sum (`np.sum()`):**\n",
                "   - Computes the sum of array elements along a specified axis or the entire array.\n",
                "   - Example:"
            ],
            "metadata": {
                "azdata_cell_guid": "606f94a8-3e35-47d3-b33b-b463c2a4f072"
            },
            "attachments": {}
        },
        {
            "cell_type": "code",
            "source": [
                "import numpy as np\n",
                "\n",
                "arr = np.array([1, 2, 3, 4, 5])\n",
                "total_sum = np.sum(arr)\n",
                "print(total_sum)"
            ],
            "metadata": {
                "azdata_cell_guid": "d3e25c37-5cb0-4c4a-9194-9c5c4e3880b5",
                "language": "python",
                "tags": []
            },
            "outputs": [
                {
                    "output_type": "stream",
                    "name": "stdout",
                    "text": "15\n"
                }
            ],
            "execution_count": 1
        },
        {
            "cell_type": "markdown",
            "source": [
                "2. **Mean (`np.mean()`):**\n",
                "   - Calculates the arithmetic mean (average) of array elements.\n",
                "   - Example:"
            ],
            "metadata": {
                "language": "python",
                "azdata_cell_guid": "0b888443-2830-422c-b41f-5c056dd0f766"
            },
            "attachments": {}
        },
        {
            "cell_type": "code",
            "source": [
                "import numpy as np\n",
                "\n",
                "arr = np.array([10, 20, 30, 40, 50])\n",
                "average = np.mean(arr)\n",
                "print(average)"
            ],
            "metadata": {
                "language": "python",
                "azdata_cell_guid": "aec2bf91-3c3b-4023-ae6c-365146d7a2bc",
                "tags": []
            },
            "outputs": [
                {
                    "output_type": "stream",
                    "name": "stdout",
                    "text": "30.0\n"
                }
            ],
            "execution_count": 2
        },
        {
            "cell_type": "markdown",
            "source": [
                "3. **Median (`np.median()`):**\n",
                "   - Computes the median value of array elements.\n",
                "   - Example:"
            ],
            "metadata": {
                "language": "python",
                "azdata_cell_guid": "14ad2e0d-109c-459e-9462-6417e2957546"
            },
            "attachments": {}
        },
        {
            "cell_type": "code",
            "source": [
                "import numpy as np\n",
                "\n",
                "arr = np.array([3, 1, 4, 1, 5, 9, 2, 6, 5])\n",
                "median_value = np.median(arr)\n",
                "print(median_value)"
            ],
            "metadata": {
                "language": "python",
                "azdata_cell_guid": "c20390d9-4597-4b4d-90b6-6ff3b2317bf9",
                "tags": []
            },
            "outputs": [
                {
                    "output_type": "stream",
                    "name": "stdout",
                    "text": "4.0\n"
                }
            ],
            "execution_count": 3
        },
        {
            "cell_type": "markdown",
            "source": [
                "4. **Variance (`np.var()`):**\n",
                "   - Calculates the variance, a measure of the spread of array values.\n",
                "   - Example:"
            ],
            "metadata": {
                "language": "python",
                "azdata_cell_guid": "1b25b423-2fd5-43c5-908f-57bd042d4e9c"
            },
            "attachments": {}
        },
        {
            "cell_type": "code",
            "source": [
                "import numpy as np\n",
                "\n",
                "arr = np.array([2, 4, 4, 4, 5, 5, 7, 9])\n",
                "variance = np.var(arr)\n",
                "print(variance)"
            ],
            "metadata": {
                "language": "python",
                "azdata_cell_guid": "b7d32f27-290b-479a-9dbc-609ab6a00162",
                "tags": []
            },
            "outputs": [
                {
                    "output_type": "stream",
                    "name": "stdout",
                    "text": "4.0\n"
                }
            ],
            "execution_count": 4
        },
        {
            "cell_type": "markdown",
            "source": [
                "5. **Standard Deviation (`np.std()`):**\n",
                "   - Computes the standard deviation, a measure of the amount of variation or dispersion.\n",
                "   - Example:"
            ],
            "metadata": {
                "language": "python",
                "azdata_cell_guid": "44222ce1-8c9e-4f40-843f-8d32f015787f"
            },
            "attachments": {}
        },
        {
            "cell_type": "code",
            "source": [
                "import numpy as np\n",
                "\n",
                "arr = np.array([1, 2, 3, 4, 5])\n",
                "std_deviation = np.std(arr)\n",
                "print(std_deviation)"
            ],
            "metadata": {
                "language": "python",
                "azdata_cell_guid": "e61f9389-0271-4144-8912-f9392492ae22",
                "tags": []
            },
            "outputs": [
                {
                    "output_type": "stream",
                    "name": "stdout",
                    "text": "1.4142135623730951\n"
                }
            ],
            "execution_count": 5
        },
        {
            "cell_type": "markdown",
            "source": [
                "\n",
                "**Real-world Examples:**\n",
                "\n",
                "1. **Healthcare Data Analysis:**\n",
                "    \n",
                "    - **Metric:** Mean heart rate over a population.\n",
                "    - **Application:** Calculate the mean heart rate using `np.mean()` to assess overall health trends.\n",
                "2. **Environmental Monitoring:**\n",
                "    \n",
                "    - **Metric:** Variance in temperature readings.\n",
                "    - **Application:** Evaluate the variance in temperature data using `np.var()` to understand temperature fluctuations.\n",
                "3. **Manufacturing Quality Control:**\n",
                "    \n",
                "    - **Metric:** Standard deviation of product dimensions.\n",
                "    - **Application:** Assess the consistency in product dimensions using `np.std()` to ensure quality control.\n",
                "4. **Social Sciences Research:**\n",
                "    \n",
                "    - **Metric:** Median income in a demographic study.\n",
                "    - **Application:** Determine the median income using `np.median()` to understand income distribution.\n",
                "\n",
                "**Key Takeaway:** Aggregation functions in NumPy play a crucial role in summarizing and analyzing datasets by providing key statistical measures. They are essential for gaining insights into data distribution, central tendency, and variability, contributing significantly to various fields, including finance, healthcare, environmental science, manufacturing, and social sciences."
            ],
            "metadata": {
                "language": "python",
                "azdata_cell_guid": "fd808ffd-7fc1-4aa4-b130-9ab7871ea8a4"
            },
            "attachments": {}
        }
    ]
}