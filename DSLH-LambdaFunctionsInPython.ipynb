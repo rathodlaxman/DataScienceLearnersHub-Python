{
    "metadata": {
        "kernelspec": {
            "name": "python3",
            "display_name": "Python 3",
            "language": "python"
        },
        "language_info": {
            "name": "python",
            "version": "3.10.9",
            "mimetype": "text/x-python",
            "codemirror_mode": {
                "name": "ipython",
                "version": 3
            },
            "pygments_lexer": "ipython3",
            "nbconvert_exporter": "python",
            "file_extension": ".py"
        }
    },
    "nbformat_minor": 2,
    "nbformat": 4,
    "cells": [
        {
            "cell_type": "markdown",
            "source": [
                "# **Data Science Learners Hub - Python**\n",
                "\n",
                "**Module** : Python\n",
                "\n",
                "**Topic :** <span style=\"font-size: 12px; caret-color: rgb(31, 31, 31); white-space-collapse: preserve; background-color: rgb(255, 255, 255);\">Lambda functions in Python</span>\n",
                "\n",
                "**email** : [datasciencelearnershub@gmail.com](https://github.com/rathodlaxman/DataScienceLearnersHub/blob/50de48da0c8f7145a545dd9942457c8b9cfc8fc5//mailto:datasciencelearnershub@gmail.com)"
            ],
            "metadata": {
                "azdata_cell_guid": "f08d8d35-842f-44a0-96db-3c52a0af232c"
            },
            "attachments": {}
        },
        {
            "cell_type": "markdown",
            "source": [
                "## **# Lambda functions in Python**"
            ],
            "metadata": {
                "azdata_cell_guid": "9720ca87-efde-4321-9623-ea7d1dce161b"
            },
            "attachments": {}
        },
        {
            "cell_type": "markdown",
            "source": [
                "### 1. What are Lambda Functions in Python?\n",
                "\n",
                "- Lambda functions, also known as anonymous functions or lambda expressions, are small, inline functions defined using the `lambda` keyword. \n",
                "- They are a concise way to create short functions without formally using the `def` keyword.\n",
                "\n",
                "### 2. Why do we Require Lambda Functions in Programming Languages?\n",
                "\n",
                "- **Conciseness:** Lambda functions allow the creation of short, one-line functions without the need for a full function definition.\n",
                "\n",
                "- **Readability:** For simple operations, lambda functions can enhance code readability by avoiding the use of a separate function name.\n",
                "\n",
                "- **Functional Programming:** Lambda functions are particularly useful in functional programming paradigms where functions are treated as first-class citizens.\n",
                "\n",
                "- **Flexibility**: Pass functions as arguments, enabling dynamic behavior.\n",
                "\n",
                "### 3. What Happens When a Lambda Function is Executed/Interpreted?\n",
                "\n",
                "- When a lambda function is called, the Python interpreter executes the operation defined within the lambda expression, producing the result.\n",
                "\n",
                "### 4. Syntax of Lambda Functions and Explanation:\n",
                "\n",
                "The syntax of a lambda function is as follows:\n",
                "\n",
                "```python\n",
                "lambda arguments: expression\n",
                "```\n",
                "\n",
                "- **`lambda`:** Keyword indicating the creation of a lambda function.\n",
                "\n",
                "- **`arguments`:** Input parameters required by the lambda function.\n",
                "\n",
                "- **`expression`:** The operation to be performed using the input parameters.\n",
                ""
            ],
            "metadata": {
                "azdata_cell_guid": "446ceff0-b14f-4923-bc55-1468c913198b"
            },
            "attachments": {}
        },
        {
            "cell_type": "markdown",
            "source": [
                "### 5. Examples of Lambda Functions in Python:"
            ],
            "metadata": {
                "azdata_cell_guid": "2106d215-6a70-42e3-8b07-44ea7381adc2"
            },
            "attachments": {}
        },
        {
            "cell_type": "markdown",
            "source": [
                "#### Example 1: Add two numbers"
            ],
            "metadata": {
                "azdata_cell_guid": "cb800ab3-5ccb-423a-9d04-925270f04d1b"
            },
            "attachments": {}
        },
        {
            "cell_type": "code",
            "source": [
                "add = lambda x, y: x + y\n",
                "result = add(5, 3)\n",
                "print(\"Sum:\", result)"
            ],
            "metadata": {
                "azdata_cell_guid": "5c5570d6-ddf3-483b-914c-22cb28ef26cc",
                "language": "python"
            },
            "outputs": [
                {
                    "output_type": "stream",
                    "name": "stdout",
                    "text": "Sum: 8\n"
                }
            ],
            "execution_count": 1
        },
        {
            "cell_type": "markdown",
            "source": [
                "#### Example 2: Square of a number"
            ],
            "metadata": {
                "language": "python",
                "azdata_cell_guid": "6c75a961-4a88-4310-a955-d39973a16fde"
            },
            "attachments": {}
        },
        {
            "cell_type": "code",
            "source": [
                "square = lambda x: x ** 2\n",
                "result = square(4)\n",
                "print(\"Square:\", result)"
            ],
            "metadata": {
                "language": "python",
                "azdata_cell_guid": "4bce0dea-9e71-4094-9480-92fb9623445a"
            },
            "outputs": [
                {
                    "output_type": "stream",
                    "name": "stdout",
                    "text": "Square: 16\n"
                }
            ],
            "execution_count": 2
        },
        {
            "cell_type": "markdown",
            "source": [
                "### 6. Practical Application of Lambda Functions in the Real World:\n",
                "\n",
                "- **Sorting:** Lambda functions are often used in sorting operations, allowing flexibility in specifying sorting criteria.\n",
                "\n",
                "- **Filtering:** Lambda functions are useful when filtering lists or other data structures based on specific conditions.\n",
                "\n",
                "### 7. Peculiarities and Considerations :\n",
                "\n",
                "- **Single Expression:** Lambda functions can only consist of a single expression.\n",
                "\n",
                "- **No Statements:** Lambda functions cannot contain statements or annotations; they are limited to expressions.\n",
                "\n",
                "- **No explicit return statement**: Implicitly returns the value of the expression.\n",
                "- Can't access variables from the enclosing scope (except for global variables).\n",
                "\n",
                "### 8. Most Common Mistakes \n",
                "\n",
                "- **Complex Logic:** Avoid incorporating complex logic into lambda functions. If the logic becomes intricate, it's better to use a regular function.\n",
                "\n",
                "```python\n",
                "# Incorrect\n",
                "complex_lambda = lambda x: x if x > 0 else 0\n",
                "```\n",
                "\n",
                "- Forgetting the colon after the arguments.\n",
                "- Not using parentheses around arguments if there are multiple."
            ],
            "metadata": {
                "language": "python",
                "azdata_cell_guid": "c0a90a60-1cd3-4b60-9f86-d350b9fcbfa3"
            },
            "attachments": {}
        },
        {
            "cell_type": "markdown",
            "source": [
                "### 9. Hands On"
            ],
            "metadata": {
                "language": "python",
                "azdata_cell_guid": "4ef4f660-9f92-4f77-b2f3-185d073815e7"
            },
            "attachments": {}
        },
        {
            "cell_type": "markdown",
            "source": [
                "#### Question 1:\n",
                "Create a lambda function to calculate the area of a rectangle using its length and width.\n",
                "\n",
                "**Solution:**"
            ],
            "metadata": {
                "language": "python",
                "azdata_cell_guid": "feaa4dca-88e7-4391-905b-0cda24354b9e"
            },
            "attachments": {}
        },
        {
            "cell_type": "code",
            "source": [
                "calculate_area = lambda length, width: length * width\n",
                "result = calculate_area(4, 6)\n",
                "print(\"Area of Rectangle:\", result)"
            ],
            "metadata": {
                "language": "python",
                "azdata_cell_guid": "5d4a3e65-b49b-4ae9-9180-703866acd501"
            },
            "outputs": [
                {
                    "output_type": "stream",
                    "name": "stdout",
                    "text": "Area of Rectangle: 24\n"
                }
            ],
            "execution_count": 1
        },
        {
            "cell_type": "markdown",
            "source": [
                "#### Question 2:\n",
                "Write a lambda function to check if a number is even.\n",
                "\n",
                "**Solution:**"
            ],
            "metadata": {
                "language": "python",
                "azdata_cell_guid": "e0a7d801-1f2f-4a90-bff2-ab5f6c7be818"
            },
            "attachments": {}
        },
        {
            "cell_type": "code",
            "source": [
                "is_even = lambda x: x % 2 == 0\n",
                "result = is_even(7)\n",
                "print(\"Is Even:\", result)"
            ],
            "metadata": {
                "language": "python",
                "azdata_cell_guid": "5697881f-3a07-4595-9f3e-67e89eb96436"
            },
            "outputs": [
                {
                    "output_type": "stream",
                    "name": "stdout",
                    "text": "Is Even: False\n"
                }
            ],
            "execution_count": 2
        },
        {
            "cell_type": "markdown",
            "source": [
                "#### Question 3:\n",
                "Use a lambda function to sort a list of words by their length.\n",
                "\n",
                "**Solution:**"
            ],
            "metadata": {
                "language": "python",
                "azdata_cell_guid": "b1c3009b-7ae7-487b-ad36-a7e23ad358d4"
            },
            "attachments": {}
        },
        {
            "cell_type": "code",
            "source": [
                "words = [\"apple\", \"banana\", \"cherry\", \"orange\"]\n",
                "sorted_words = sorted(words, key=lambda word: len(word))\n",
                "print(sorted_words)  # Output: ['apple', 'cherry', 'banana', 'orange']\n",
                ""
            ],
            "metadata": {
                "language": "python",
                "azdata_cell_guid": "c25a9752-882c-4eba-9b51-27339e85f834"
            },
            "outputs": [
                {
                    "output_type": "stream",
                    "name": "stdout",
                    "text": "['apple', 'banana', 'cherry', 'orange']\n"
                }
            ],
            "execution_count": 3
        },
        {
            "cell_type": "markdown",
            "source": [
                "#### Question 4:\n",
                "Write a lambda function to check if a word starts with a vowel.\n",
                "\n",
                "**Solution:**\n",
                ""
            ],
            "metadata": {
                "language": "python",
                "azdata_cell_guid": "3b98dfc6-80b2-4d43-8fbc-455fd184df54"
            },
            "attachments": {}
        },
        {
            "cell_type": "code",
            "source": [
                "starts_with_vowel = lambda word: word[0].lower() in 'aeiou'\n",
                "result = starts_with_vowel(\"Apple\")\n",
                "print(result)  # Output: True\n",
                ""
            ],
            "metadata": {
                "language": "python",
                "azdata_cell_guid": "249980b4-53df-45bc-8c11-f00b2d23d098"
            },
            "outputs": [
                {
                    "output_type": "stream",
                    "name": "stdout",
                    "text": "True\n"
                }
            ],
            "execution_count": 4
        },
        {
            "cell_type": "markdown",
            "source": [
                "### 10. Practice Exercise\n",
                "\n",
                "#### Question 1:\n",
                "Create a lambda function to find the cube of a number.\n",
                "\n",
                "#### Question 2:\n",
                "Write a lambda function to concatenate two strings\n",
                "\n",
                "#### Question 3:\n",
                "Write a lambda function to find the maximum of three numbers.\n",
                "\n",
                "#### Question 4:\n",
                "Use a lambda function to create a list of the first letters of each word in a sentence.\n",
                "\n",
                "### 11. Note :\n",
                "\n",
                "- **Advantage:**\n",
                "  - Lambda functions provide a concise and expressive way to write short functions, particularly in functional programming and when using functions as arguments to higher-order functions.\n",
                "\n",
                "- **Mishap:**\n",
                "  - Overusing lambda functions for complex logic can lead to code that is hard to read and understand. It's essential to strike a balance between conciseness and clarity."
            ],
            "metadata": {
                "language": "python",
                "azdata_cell_guid": "056d411c-914d-4f4d-b6d6-b9179f603490"
            },
            "attachments": {}
        }
    ]
}