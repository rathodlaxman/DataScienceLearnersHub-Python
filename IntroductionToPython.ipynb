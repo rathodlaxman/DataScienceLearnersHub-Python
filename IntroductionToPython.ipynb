{
    "metadata": {
        "kernelspec": {
            "name": "python3",
            "display_name": "Python 3",
            "language": "python"
        },
        "language_info": {
            "name": "python",
            "version": "3.10.9",
            "mimetype": "text/x-python",
            "codemirror_mode": {
                "name": "ipython",
                "version": 3
            },
            "pygments_lexer": "ipython3",
            "nbconvert_exporter": "python",
            "file_extension": ".py"
        }
    },
    "nbformat_minor": 2,
    "nbformat": 4,
    "cells": [
        {
            "cell_type": "markdown",
            "source": [
                "# Class 01 :  Python Installation + Basics\n",
                "\n",
                "**Course** : IIT M Parvartak - Advance Certification in Data Science and AI\n",
                "\n",
                "**Batch** : 231507\n",
                "\n",
                "**Course Start Date** : 03 Sep 2023\n",
                "\n",
                "**email** : luckyrathod.forum@gmail.com\n",
                "\n",
                "**Mob No** : 8074992442\n",
                "\n",
                "**Instructor** : Aadi"
            ],
            "metadata": {
                "azdata_cell_guid": "4f2ea192-21bb-4b17-87e6-9f220b38f2b0"
            }
        },
        {
            "cell_type": "markdown",
            "source": [
                "## Installation of Python\n",
                "\n",
                "- Anaconda is a distribution\n",
                "- Make sure to install it in C drive in windows else it will ask for admin permission\n",
                "\n",
                "**High Level Programming Language**\n",
                "\n",
                "- They are designed in such a way that they appear in human to readable\n",
                "- simple to maintain\n",
                "- human readable\n",
                "- efficient\n",
                "- easy to debug\n",
                "- Programmer friendly\n",
                "- Ex : C, C++, Python\n",
                "\n",
                "**Low Level Programming Language**\n",
                "\n",
                "- They are machine code which will also involve binary code\n",
                "- machine friendly\n",
                "- Ex : Assembly Language\n",
                "\n",
                "**General Purpose Programming Language**\n",
                "\n",
                "- Integrate platform with various technology like front-end, back-end, Selenium etc\n",
                "\n",
                "**Why Python**\n",
                "\n",
                "- Easy to learn i.e syntax are simple\n",
                "- Easy to understand\n",
                "- Cross platform comatibility\n",
                "- Vast library\n",
                "- Vast community\n",
                "\n",
                "**What is Python**\n",
                "\n",
                "- Interpreted language\n",
                "- Cross Platform\n",
                "- General Purpose programming Language\n",
                "\n",
                "  \n",
                "\n",
                "**Other Alternatives to Anaconda Jupyter**\n",
                "\n",
                "- Google Colab : [https://colab.research.google.com](https://colab.research.google.com)\n",
                "- Replit : [https://replit.com/languages/python3](https://replit.com/languages/python3)\n",
                "- Jupyer Lite :\n",
                "    - [https://jupyter.org/try-jupyter/lab/?path=notebooks%2FIntro.ipynb](https://jupyter.org/try-jupyter/lab/?path=notebooks%2FIntro.ipynb)\n",
                "    - [https://jupyter.org/try-jupyter/lab/](https://jupyter.org/try-jupyter/lab/)\n",
                "\n",
                "**Invention of Python**\n",
                "\n",
                "- Guido Van Rossum\n",
                "- It was his personal Project"
            ],
            "metadata": {
                "azdata_cell_guid": "7fb45919-e73e-4d20-ad7e-389f466ab2ca"
            },
            "attachments": {}
        },
        {
            "cell_type": "markdown",
            "source": [
                "### **What do you mean by Interpreted language**\n",
                "\n",
                "An interpreted language is a type of programming language in which instructions or statements in the code are executed directly by an interpreter, rather than being compiled into machine code beforehand. Here are some key characteristics of interpreted languages:\n",
                "\n",
                "1. **No Compilation**: In interpreted languages, you don't need a separate compilation step to generate machine code or executable files. Instead, the interpreter reads the source code line by line and executes it immediately.\n",
                "    \n",
                "2. **Human-Readable**: Interpreted languages typically use human-readable syntax, which makes them easier for programmers to write and understand. This is because the code is executed in a format that closely resembles the source code.\n",
                "    \n",
                "3. **Portability**: Code written in an interpreted language is generally more portable since it relies on the presence of an interpreter rather than specific machine code. This means that code can often be run on different platforms with minimal modification.\n",
                "    \n",
                "4. **Slower Execution**: Interpreted languages can be slower than compiled languages because the interpreter must read and execute the code in real-time. This can result in a performance overhead, especially for computationally intensive tasks.\n",
                "    \n",
                "5. **Dynamic Typing**: Many interpreted languages use dynamic typing, where variable types are determined at runtime rather than being explicitly declared. This can make code more flexible but may also lead to runtime errors if not used carefully.\n",
                "    \n",
                "\n",
                "Examples of popular interpreted languages include Python, JavaScript, Ruby, and Perl. These languages are often used for tasks such as scripting, web development, and prototyping due to their ease of use and platform independence.\n",
                "\n",
                "**Class Explanation**\n",
                "\n",
                "- Code is executed line by line\n",
                "- If while executing in sequence line by line and the next line contains some error\n",
                "- Python is dynamically typed that means u need not tell the machine which type of varaible it is. Because the python knows what the type of data is and no declaration is needed."
            ],
            "metadata": {
                "azdata_cell_guid": "d45f4ba0-a6bd-4572-85f2-1f7f3b8abb0d"
            },
            "attachments": {}
        },
        {
            "cell_type": "markdown",
            "source": [
                "<div class=\"alert alert-block alert-info\">\n",
                "\n",
                "In the below code <br>\n",
                "1. Line 1 is giving output <br>\n",
                "2. Line 2 is giving error <br>\n",
                "3. Line 3 is not executed <br>\n",
                "\n",
                "- The point to note here is that among the three lines the second line has error but still the output is shown for line 1. Same would have not happened in language like C, C++ because they will complile the entire code and if there are no error than only it will execute\n",
                "</div>"
            ],
            "metadata": {
                "azdata_cell_guid": "c4d45327-cebc-465a-92bf-4f89ab3bd925"
            }
        },
        {
            "cell_type": "code",
            "source": [
                "print('Hello')\n",
                "prin('Hello')\n",
                "print('World')"
            ],
            "metadata": {
                "azdata_cell_guid": "d276b338-b020-4742-9356-ecf37720eb49",
                "language": "python"
            },
            "outputs": [
                {
                    "output_type": "stream",
                    "name": "stdout",
                    "text": "Hello\n"
                },
                {
                    "output_type": "error",
                    "ename": "NameError",
                    "evalue": "name 'prin' is not defined",
                    "traceback": [
                        "\u001b[0;31m---------------------------------------------------------------------------\u001b[0m",
                        "\u001b[0;31mNameError\u001b[0m                                 Traceback (most recent call last)",
                        "Cell \u001b[0;32mIn[1], line 2\u001b[0m\n\u001b[1;32m      1\u001b[0m \u001b[38;5;28mprint\u001b[39m(\u001b[38;5;124m'\u001b[39m\u001b[38;5;124mHello\u001b[39m\u001b[38;5;124m'\u001b[39m)\n\u001b[0;32m----> 2\u001b[0m \u001b[43mprin\u001b[49m(\u001b[38;5;124m'\u001b[39m\u001b[38;5;124mHello\u001b[39m\u001b[38;5;124m'\u001b[39m)\n\u001b[1;32m      3\u001b[0m \u001b[38;5;28mprint\u001b[39m(\u001b[38;5;124m'\u001b[39m\u001b[38;5;124mWorld\u001b[39m\u001b[38;5;124m'\u001b[39m)\n",
                        "\u001b[0;31mNameError\u001b[0m: name 'prin' is not defined"
                    ]
                }
            ],
            "execution_count": 1
        },
        {
            "cell_type": "markdown",
            "source": [
                "<div class=\"alert alert-block alert-info\">\n",
                "1. In Python anything inside a <b>single quote</b> or <b>double quote</b> it will consider it as string.<br>\n",
                "2. Single quote or double quote both are same\n",
                "</div>"
            ],
            "metadata": {
                "azdata_cell_guid": "49f703d9-945e-46e1-9047-08814b97e614"
            }
        },
        {
            "cell_type": "code",
            "source": [],
            "metadata": {
                "azdata_cell_guid": "ecbd78ea-4f4d-4ebf-87b9-55dafb7d402d",
                "language": "python"
            },
            "outputs": [],
            "execution_count": null
        }
    ]
}