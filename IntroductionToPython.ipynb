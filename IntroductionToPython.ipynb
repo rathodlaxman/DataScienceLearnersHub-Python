{
    "metadata": {
        "kernelspec": {
            "name": "python3",
            "display_name": "Python 3",
            "language": "python"
        },
        "language_info": {
            "name": "python",
            "version": "3.10.9",
            "mimetype": "text/x-python",
            "codemirror_mode": {
                "name": "ipython",
                "version": 3
            },
            "pygments_lexer": "ipython3",
            "nbconvert_exporter": "python",
            "file_extension": ".py"
        }
    },
    "nbformat_minor": 2,
    "nbformat": 4,
    "cells": [
        {
            "cell_type": "markdown",
            "source": [
                "# **Data Science Learners Hub - Python**\n",
                "\n",
                "**Module : Python**\n",
                "\n",
                "**Topic :** Introduction to Python\n",
                "\n",
                "**email** : [datasciencelearnershub@gmail.com](https://github.com/rathodlaxman/DataScienceLearnersHub/blob/50de48da0c8f7145a545dd9942457c8b9cfc8fc5//mailto:datasciencelearnershub@gmail.com)"
            ],
            "metadata": {
                "azdata_cell_guid": "4f2ea192-21bb-4b17-87e6-9f220b38f2b0"
            },
            "attachments": {}
        },
        {
            "cell_type": "markdown",
            "source": [
                "# **Introduction to Python**"
            ],
            "metadata": {
                "azdata_cell_guid": "cf28ee65-21d3-4c9a-b795-5a3e153b1601"
            },
            "attachments": {}
        },
        {
            "cell_type": "markdown",
            "source": [
                "### **Python Overview:**\n",
                "\n",
                "\\- Python is a high-level, interpreted programming language known for its simplicity and readability.\n",
                "\n",
                "\\- It was created by Guido van Rossum and first released in 1991.\n",
                "\n",
                "### **Guido van Rossum:**\n",
                "\n",
                "\\- Guido van Rossum, a Dutch programmer, is the principal author of Python.\n",
                "\n",
                "\\- Python's design philosophy is focused on code readability, and it has a clean and easy-to-understand syntax.\n",
                "\n",
                "### **Evolution of Python:**\n",
                "\n",
                "\\- Python has gone through several versions of improvement, with the latest stable version being Python 3.x.\n",
                "\n",
                "\\- The language is open-source, and its development is driven by a community of volunteers and organizations."
            ],
            "metadata": {
                "azdata_cell_guid": "6bcf05d0-3e00-4c98-a951-900a7f570398"
            },
            "attachments": {}
        },
        {
            "cell_type": "markdown",
            "source": [
                "## **Key Features of Python:**\n",
                "\n",
                "**1\\. Readability:**\n",
                "\n",
                "   - Python emphasizes code readability with a clean and straightforward syntax.\n",
                "\n",
                "   - The use of indentation instead of braces makes code blocks easy to identify.\n",
                "\n",
                "**2\\. Versatility:**\n",
                "\n",
                "   - Python is versatile, supporting a wide range of applications from web development to data analysis and machine learning.\n",
                "\n",
                "**3\\. Interpreted Language:**\n",
                "\n",
                "   - Python is an interpreted language, meaning code can be executed line by line, facilitating debugging and development.\n",
                "\n",
                "**4\\. Dynamic Typing:**\n",
                "\n",
                "   - Python uses dynamic typing, allowing variables to change types during runtime, offering flexibility.\n",
                "\n",
                "**5\\. High-Level Data Structures:**\n",
                "\n",
                "   - Built-in high-level data structures like lists, sets, and dictionaries simplify complex operations.\n",
                "\n",
                "**6\\. Object-Oriented Programming (OOP):**\n",
                "\n",
                "   - Python supports object-oriented programming principles, making it easy to structure and organize code.\n",
                "\n",
                "**7\\. Extensive Libraries:**\n",
                "\n",
                "   - Python has a vast standard library and additional third-party libraries, enhancing its functionality.\n",
                "\n",
                "**8\\. Community Support:**\n",
                "\n",
                "   - A large and active community contributes to forums, tutorials, and open-source projects.\n",
                "\n",
                "**9\\. Cross-Platform:**\n",
                "\n",
                "   - Python is cross-platform, allowing code written on one system to run on others without modification."
            ],
            "metadata": {
                "azdata_cell_guid": "d8a502be-c0cd-4ff3-b45c-65f1bd25f1f2"
            },
            "attachments": {}
        },
        {
            "cell_type": "markdown",
            "source": [
                "## **Comparison with Other Languages:**\n",
                "\n",
                "  \n",
                "\n",
                "**Python vs. Java:**\n",
                "\n",
                "  \\- Python is known for its simplicity and readability, while Java is often considered more verbose.\n",
                "\n",
                "  \\- Python's dynamic typing contrasts with Java's static typing, providing more flexibility in Python.\n",
                "\n",
                "  \\- Python's extensive libraries make it suitable for rapid development, whereas Java is often used for large-scale applications.\n",
                "\n",
                "  \n",
                "\n",
                "**Python vs. C++:**\n",
                "\n",
                "  \\- Python is an interpreted language, making it easier to write and debug, while C++ is a compiled language with more explicit memory management.\n",
                "\n",
                "  \\- Python is suitable for quick prototyping, whereas C++ is often used for performance-critical applications.\n",
                "\n",
                "  \n",
                "\n",
                "**Python vs. R:**\n",
                "\n",
                "  \\- Python is more versatile, used not only for data analysis but also for web development, automation, and more.\n",
                "\n",
                "  \\- R is specialized for statistical computing and data visualization.\n",
                "\n",
                "  \n",
                "\n",
                "**Key Differences:**\n",
                "\n",
                "\\- **Readability**: Python emphasizes readability with clean and concise syntax compared to some other languages.\n",
                "\n",
                "\\- **Versatility**: Python is versatile and applicable in various domains, not just limited to one specific application.\n",
                "\n",
                "  \n",
                "\n",
                "\\- **Community and Libraries**: Python has a larger and more active community, and its extensive libraries contribute to its popularity."
            ],
            "metadata": {
                "azdata_cell_guid": "ceb0d94d-d4c1-4c20-9329-36b33329ef6b"
            },
            "attachments": {}
        },
        {
            "cell_type": "markdown",
            "source": [
                "### **Versions of Python:**\n",
                "\n",
                "\\- Python has two major versions in use: Python 2 and Python 3.\n",
                "\n",
                "\\- Python 2 was the dominant version for many years but is now considered legacy and no longer supported.\n",
                "\n",
                "\\- Python 3 is the current and actively developed version.\n",
                "\n",
                "  \n",
                "\n",
                "### **Commonly Used Python 3 Versions:**\n",
                "\n",
                "\\- Python 3.6, 3.7, 3.8, 3.9, and 3.10 are commonly used versions.\n",
                "\n",
                "\\- The choice of version often depends on project requirements and compatibility with libraries.\n",
                "\n",
                "  \n",
                "\n",
                "### **Choosing a Version:**\n",
                "\n",
                "\\- For new projects, it's recommended to use the latest stable version (e.g., 3.10) to benefit from the latest features and improvements.\n",
                "\n",
                "\\- Existing projects may use specific versions depending on library compatibility."
            ],
            "metadata": {
                "azdata_cell_guid": "3b9f0ada-4e2e-4add-95f6-6436b0a92341"
            },
            "attachments": {}
        },
        {
            "cell_type": "markdown",
            "source": [
                "## **Installation of Python**\n",
                "\n",
                "- Anaconda is a distribution\n",
                "- Make sure to install it in C drive in windows else it will ask for admin permission\n",
                "- Youtube Video : https://youtu.be/UTqOXwAi1pE?si=6WVG82IdPoAZx4me\n",
                "\n",
                "**Other Alternatives to Anaconda Jupyter**\n",
                "\n",
                "- Google Colab : [https://colab.research.google.com](https://colab.research.google.com)\n",
                "- Replit : [https://replit.com/languages/python3](https://replit.com/languages/python3)\n",
                "- Jupyer Lite :\n",
                "    - [https://jupyter.org/try-jupyter/lab/?path=notebooks%2FIntro.ipynb](https://jupyter.org/try-jupyter/lab/?path=notebooks%2FIntro.ipynb)\n",
                "    - [https://jupyter.org/try-jupyter/lab/](https://jupyter.org/try-jupyter/lab/)"
            ],
            "metadata": {
                "azdata_cell_guid": "7fb45919-e73e-4d20-ad7e-389f466ab2ca"
            },
            "attachments": {}
        },
        {
            "cell_type": "markdown",
            "source": [
                "# **Some more key concepts in detail**"
            ],
            "metadata": {
                "azdata_cell_guid": "a4ed9f8d-8077-471a-b58b-fbfe06618e37"
            },
            "attachments": {}
        },
        {
            "cell_type": "markdown",
            "source": [
                "### **1\\. Readability:**\n",
                "\n",
                "- Python is known for its clean and readable syntax. The language emphasizes code readability, making it easier for programmers to express concepts in fewer lines of code. This readability is crucial for data analysis projects, where the code needs to be understandable by both the original coder and potentially by others who may need to maintain or collaborate on the project.\n",
                "\n",
                "### **2\\. Versatility:**\n",
                "\n",
                "- Python is a versatile language that can be used for a wide range of applications, from web development to artificial intelligence. In the context of data analysis, this versatility allows analysts to seamlessly transition between different tasks within the same language. Whether you're cleaning and preprocessing data, performing statistical analysis, or implementing machine learning algorithms, Python provides the tools to handle each stage of the data analysis pipeline.\n",
                "\n",
                "### **3\\. Large Community of Users:**\n",
                "\n",
                "- Python boasts a vast and active community of developers and data scientists. This means that there are ample resources available for learning and problem-solving. The community support is evident in the form of online forums, tutorials, and a wealth of open-source libraries. When facing challenges in your data analysis journey, chances are someone has already encountered a similar problem, and a solution is readily available.\n",
                "- **Stack Overflow**: A platform where developers can ask questions and receive answers from the community.\n",
                "- **GitHub**: A repository hosting service where you can find and contribute to open-source Python projects.\n",
                "\n",
                "### **4\\. Libraries and Frameworks for Data Analysis and Machine Learning:**\n",
                "\n",
                "- Python's popularity in the data science community is largely attributed to its rich ecosystem of libraries and frameworks tailored for data analysis and machine learning. Some of the key libraries include:\n",
                "    - **NumPy**: A fundamental package for scientific computing with support for large, multi-dimensional arrays and matrices.\n",
                "    - **Pandas**: Provides data structures like DataFrames, which are essential for data manipulation and analysis.\n",
                "    - **Matplotlib and Seaborn**: Used for data visualization, allowing analysts to create insightful plots and charts.\n",
                "    - **Scikit-learn**: A comprehensive library for machine learning, offering tools for classification, regression, clustering, and more.\n",
                "    - **TensorFlow and PyTorch**: Widely used frameworks for building and training machine learning models, especially in deep learning."
            ],
            "metadata": {
                "azdata_cell_guid": "f85ae32a-5906-45d4-aa79-ce72066427be"
            },
            "attachments": {}
        },
        {
            "cell_type": "markdown",
            "source": [
                "### **What do you mean by Interpreted language**\n",
                "\n",
                "An interpreted language is a type of programming language in which instructions or statements in the code are executed directly by an interpreter, rather than being compiled into machine code beforehand. Here are some key characteristics of interpreted languages:\n",
                "\n",
                "1. **No Compilation**: In interpreted languages, you don't need a separate compilation step to generate machine code or executable files. Instead, the interpreter reads the source code line by line and executes it immediately.\n",
                "    \n",
                "2. **Human-Readable**: Interpreted languages typically use human-readable syntax, which makes them easier for programmers to write and understand. This is because the code is executed in a format that closely resembles the source code.\n",
                "    \n",
                "3. **Portability**: Code written in an interpreted language is generally more portable since it relies on the presence of an interpreter rather than specific machine code. This means that code can often be run on different platforms with minimal modification.\n",
                "    \n",
                "4. **Slower Execution**: Interpreted languages can be slower than compiled languages because the interpreter must read and execute the code in real-time. This can result in a performance overhead, especially for computationally intensive tasks.\n",
                "    \n",
                "5. **Dynamic Typing**: Many interpreted languages use dynamic typing, where variable types are determined at runtime rather than being explicitly declared. This can make code more flexible but may also lead to runtime errors if not used carefully.\n",
                "    \n",
                "\n",
                "Examples of popular interpreted languages include Python, JavaScript, Ruby, and Perl. These languages are often used for tasks such as scripting, web development, and prototyping due to their ease of use and platform independence."
            ],
            "metadata": {
                "azdata_cell_guid": "d45f4ba0-a6bd-4572-85f2-1f7f3b8abb0d"
            },
            "attachments": {}
        },
        {
            "cell_type": "markdown",
            "source": [
                "<div class=\"alert alert-block alert-info\">\n",
                "\n",
                "In the below code <br>\n",
                "1. Line 1 is giving output <br>\n",
                "2. Line 2 is giving error <br>\n",
                "3. Line 3 is not executed <br>\n",
                "\n",
                "- The point to note here is that among the three lines the second line has error but still the output is shown for line 1. Same would have not happened in language like C, C++ because they will complile the entire code and if there are no error than only it will execute\n",
                "</div>"
            ],
            "metadata": {
                "azdata_cell_guid": "c4d45327-cebc-465a-92bf-4f89ab3bd925"
            }
        },
        {
            "cell_type": "code",
            "source": [
                "print('Hello')\n",
                "prin('Hello')\n",
                "print('World')"
            ],
            "metadata": {
                "azdata_cell_guid": "d276b338-b020-4742-9356-ecf37720eb49",
                "language": "python"
            },
            "outputs": [
                {
                    "output_type": "stream",
                    "name": "stdout",
                    "text": "Hello\n"
                },
                {
                    "output_type": "error",
                    "ename": "NameError",
                    "evalue": "name 'prin' is not defined",
                    "traceback": [
                        "\u001b[0;31m---------------------------------------------------------------------------\u001b[0m",
                        "\u001b[0;31mNameError\u001b[0m                                 Traceback (most recent call last)",
                        "Cell \u001b[0;32mIn[1], line 2\u001b[0m\n\u001b[1;32m      1\u001b[0m \u001b[38;5;28mprint\u001b[39m(\u001b[38;5;124m'\u001b[39m\u001b[38;5;124mHello\u001b[39m\u001b[38;5;124m'\u001b[39m)\n\u001b[0;32m----> 2\u001b[0m \u001b[43mprin\u001b[49m(\u001b[38;5;124m'\u001b[39m\u001b[38;5;124mHello\u001b[39m\u001b[38;5;124m'\u001b[39m)\n\u001b[1;32m      3\u001b[0m \u001b[38;5;28mprint\u001b[39m(\u001b[38;5;124m'\u001b[39m\u001b[38;5;124mWorld\u001b[39m\u001b[38;5;124m'\u001b[39m)\n",
                        "\u001b[0;31mNameError\u001b[0m: name 'prin' is not defined"
                    ]
                }
            ],
            "execution_count": 1
        },
        {
            "cell_type": "markdown",
            "source": [
                "<div class=\"alert alert-block alert-info\">\n",
                "1. In Python anything inside a <b>single quote</b> or <b>double quote</b> it will consider it as string.<br>\n",
                "2. Single quote or double quote both are same\n",
                "</div>"
            ],
            "metadata": {
                "azdata_cell_guid": "49f703d9-945e-46e1-9047-08814b97e614"
            }
        }
    ]
}