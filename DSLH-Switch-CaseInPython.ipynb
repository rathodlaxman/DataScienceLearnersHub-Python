{
    "metadata": {
        "kernelspec": {
            "name": "SQL",
            "display_name": "SQL",
            "language": "sql"
        },
        "language_info": {
            "name": "sql",
            "version": ""
        }
    },
    "nbformat_minor": 2,
    "nbformat": 4,
    "cells": [
        {
            "cell_type": "markdown",
            "source": [
                "# **Data Science Learners Hub - Python**\n",
                "\n",
                "**Module : Python**\n",
                "\n",
                "**Topic :** <span style=\"font-size: 12px; caret-color: rgb(31, 31, 31); white-space-collapse: preserve; background-color: rgb(255, 255, 255);\">Switch-Case statement in Python</span>\n",
                "\n",
                "**email** : [datasciencelearnershub@gmail.com](https://github.com/rathodlaxman/DataScienceLearnersHub/blob/50de48da0c8f7145a545dd9942457c8b9cfc8fc5//mailto:datasciencelearnershub@gmail.com)"
            ],
            "metadata": {
                "azdata_cell_guid": "fbd797ea-c97e-414a-bebb-0c2923e0b809"
            },
            "attachments": {}
        },
        {
            "cell_type": "markdown",
            "source": [
                "## **# Switch-Case statement in Python**"
            ],
            "metadata": {
                "azdata_cell_guid": "6267092d-2f63-4de7-a0da-4acdab1d8415"
            },
            "attachments": {}
        },
        {
            "cell_type": "markdown",
            "source": [
                "Python does not have a traditional `case` or `switch` statement like some other programming languages (e.g., C++ or Java). However, you can achieve similar functionality using various approaches. Here are a couple of common ways to implement a switch-like behavior in Python:\n",
                "\n",
                "1. **Using If-Elif-Else Statements:**\n",
                "    \n",
                "    You can use a series of `if`, `elif`, and `else` statements to create a branching structure that simulates the behavior of a `case` statement. Here's an example:\n",
                "    \n",
                "    ```python\n",
                "    def switch_case(argument):\n",
                "        if argument == \"case1\":\n",
                "            print(\"This is case 1\")\n",
                "        elif argument == \"case2\":\n",
                "            print(\"This is case 2\")\n",
                "        elif argument == \"case3\":\n",
                "            print(\"This is case 3\")\n",
                "        else:\n",
                "            print(\"This is the default case\")\n",
                "    \n",
                "    # Usage\n",
                "    switch_case(\"case2\")\n",
                "    \n",
                "    ```\n",
                "    \n",
                "    In this example, the function `switch_case` takes an argument and uses `if`, `elif`, and `else` statements to determine which case to execute.\n",
                "    \n",
                "2. **Using a Dictionary:**\n",
                "    \n",
                "    Another approach is to use a dictionary to map cases to functions or values. This can be especially useful if you want to perform different actions for each case. Here's an example:\n",
                "    \n",
                "    ```python\n",
                "    def case1():\n",
                "        print(\"This is case 1\")\n",
                "    \n",
                "    def case2():\n",
                "        print(\"This is case 2\")\n",
                "    \n",
                "    def case3():\n",
                "        print(\"This is case 3\")\n",
                "    \n",
                "    def default_case():\n",
                "        print(\"This is the default case\")\n",
                "    \n",
                "    def switch_case(argument):\n",
                "        switch_dict = {\n",
                "            \"case1\": case1,\n",
                "            \"case2\": case2,\n",
                "            \"case3\": case3,\n",
                "        }\n",
                "    \n",
                "        # Get the function associated with the argument, or default_case if not found\n",
                "        case_function = switch_dict.get(argument, default_case)\n",
                "        case_function()\n",
                "    \n",
                "    # Usage\n",
                "    switch_case(\"case2\")\n",
                "    \n",
                "    ```\n",
                "    \n",
                "    In this example, the `switch_case` function uses a dictionary to map cases to functions. It then looks up the appropriate function based on the argument provided.\n",
                "    \n",
                "\n",
                "These are two common ways to achieve a `switch`-like behavior in Python. The approach you choose depends on your specific use case and coding style preferences."
            ],
            "metadata": {
                "azdata_cell_guid": "0d66b32f-6f74-4e53-958b-ff2c9b465d19"
            },
            "attachments": {}
        }
    ]
}