{
    "metadata": {
        "kernelspec": {
            "name": "python3",
            "display_name": "Python 3",
            "language": "python"
        },
        "language_info": {
            "name": "python",
            "version": "3.10.9",
            "mimetype": "text/x-python",
            "codemirror_mode": {
                "name": "ipython",
                "version": 3
            },
            "pygments_lexer": "ipython3",
            "nbconvert_exporter": "python",
            "file_extension": ".py"
        }
    },
    "nbformat_minor": 2,
    "nbformat": 4,
    "cells": [
        {
            "cell_type": "markdown",
            "source": [
                "# **`Data Science Learners Hub`**\n",
                "\n",
                "**Module : Python**\n",
                "\n",
                "**email** : [datasciencelearnershub@gmail.com](mailto:datasciencelearnershub@gmail.com)"
            ],
            "metadata": {
                "azdata_cell_guid": "ef544da4-2b22-4c1c-9f1e-1d7799f063e3"
            },
            "attachments": {}
        },
        {
            "cell_type": "markdown",
            "source": [
                "## **`#4: Advanced Data Manipulation`**\n",
                "10. **Merging and Concatenating DataFrames**\n",
                "    - Combining DataFrames\n",
                "    - Concatenation and merging operations\n",
                "\n",
                "11. **Reshaping Data**\n",
                "    - Pivoting and melting\n",
                "    - Stacking and unstacking\n",
                "\n",
                "12. **Time Series Data**\n",
                "    - Handling time and date data\n",
                "    - Resampling and frequency conversion"
            ],
            "metadata": {
                "azdata_cell_guid": "3482c7f5-7dfc-4250-bc33-9e8135661c61"
            },
            "attachments": {}
        },
        {
            "cell_type": "markdown",
            "source": [
                "### **`11. Reshaping Data`**"
            ],
            "metadata": {
                "azdata_cell_guid": "6e93233e-0a7f-4a49-93a0-9aade656ce91"
            },
            "attachments": {}
        },
        {
            "cell_type": "markdown",
            "source": [
                "#### **`Pivoting and Melting in Pandas for Data Reshaping`**"
            ],
            "metadata": {
                "azdata_cell_guid": "86469cca-29ee-44c4-89f8-a6d200ed9074"
            },
            "attachments": {}
        },
        {
            "cell_type": "markdown",
            "source": [
                "#### Pivoting in Pandas:\n",
                "\n",
                "Pivoting involves reshaping data to rearrange or reshape the structure of the DataFrame, typically by changing the layout of data in the columns."
            ],
            "metadata": {
                "azdata_cell_guid": "f1916f4e-9cd0-4ceb-b853-968f96baae9b"
            },
            "attachments": {}
        },
        {
            "cell_type": "code",
            "source": [
                "import pandas as pd\n",
                "\n",
                "# Sample DataFrame\n",
                "data = {'Date': ['2022-01-01', '2022-01-01', '2022-01-02', '2022-01-02'],\n",
                "        'Category': ['A', 'B', 'A', 'B'],\n",
                "        'Value': [10, 20, 30, 40]}\n",
                "\n",
                "df = pd.DataFrame(data)\n",
                "\n",
                "# Pivoting DataFrame\n",
                "pivot_result = df.pivot(index='Date', columns='Category', values='Value')\n",
                "\n",
                "# Displaying the pivoted DataFrame\n",
                "print(\"Pivoted DataFrame:\")\n",
                "print(pivot_result)\n",
                "\n",
                "# Result - Rows with the same 'Date' are combined, and 'Category' values become separate columns."
            ],
            "metadata": {
                "azdata_cell_guid": "ce4353b5-f5bd-45fd-8a5d-2918937da184",
                "language": "python"
            },
            "outputs": [
                {
                    "name": "stdout",
                    "text": "Pivoted DataFrame:\nCategory     A   B\nDate              \n2022-01-01  10  20\n2022-01-02  30  40\n",
                    "output_type": "stream"
                }
            ],
            "execution_count": 1
        },
        {
            "cell_type": "markdown",
            "source": [
                "#### Melting in Pandas:\n",
                "\n",
                "Melting involves transforming a DataFrame from wide format to long format, unpivoting it."
            ],
            "metadata": {
                "language": "python",
                "azdata_cell_guid": "8ee0b559-9080-42f9-ba5b-07b969112505"
            },
            "attachments": {}
        },
        {
            "cell_type": "code",
            "source": [
                "# Melting DataFrame\n",
                "melted_result = pd.melt(df, id_vars='Date', value_vars='Value', var_name='Category', value_name='Value')\n",
                "\n",
                "# Displaying the melted DataFrame\n",
                "print(\"\\nMelted DataFrame:\")\n",
                "print(melted_result)\n",
                "\n",
                "# Result:\n",
                "# Columns 'A' and 'B' from the previous DataFrame become rows, with a new 'Category' column."
            ],
            "metadata": {
                "language": "python",
                "azdata_cell_guid": "f92efd8b-d861-4180-b2fd-eeabd06d5799"
            },
            "outputs": [
                {
                    "name": "stdout",
                    "text": "\nMelted DataFrame:\n         Date Category  Value\n0  2022-01-01    Value     10\n1  2022-01-01    Value     20\n2  2022-01-02    Value     30\n3  2022-01-02    Value     40\n",
                    "output_type": "stream"
                },
                {
                    "name": "stderr",
                    "text": "<ipython-input-2-7de399574c56>:2: FutureWarning: This dataframe has a column name that matches the 'value_name' column name of the resulting Dataframe. In the future this will raise an error, please set the 'value_name' parameter of DataFrame.melt to a unique name.\n  melted_result = pd.melt(df, id_vars='Date', value_vars='Value', var_name='Category', value_name='Value')\n",
                    "output_type": "stream"
                }
            ],
            "execution_count": 2
        },
        {
            "cell_type": "markdown",
            "source": [
                "***Explanation:***\n",
                "\n",
                "The above code demonstrates how to use the `pd.melt` function in pandas to transform (melt) a DataFrame from a wide format to a long format. Melting a DataFrame is a process where columns are unpivoted and turned into rows, resulting in a more compact representation of the data.\n",
                "\n",
                "Here's a breakdown of the code:\n",
                "\n",
                "1. **Melting DataFrame:**\n",
                "   ```python\n",
                "   melted_result = pd.melt(df, id_vars='Date', value_vars='Value', var_name='Category', value_name='Value')\n",
                "   ```\n",
                "   - `df`: The original DataFrame to be melted.\n",
                "   - `id_vars='Date'`: The column(s) to be retained as identifier variables. In this case, the 'Date' column is kept fixed.\n",
                "   - `value_vars='Value'`: The column(s) to be melted. Here, the 'Value' column is melted.\n",
                "   - `var_name='Category'`: The name to be assigned to the new column that will contain the melted variable names. It will be named 'Category'.\n",
                "   - `value_name='Value'`: The name to be assigned to the new column that will contain the melted values. It will be named 'Value'.\n",
                "   - The result (`melted_result`) is a new DataFrame in long format.\n",
                "\n",
                "2. **Displaying the Result:**\n",
                "   ```python\n",
                "   print(\"\\nMelted DataFrame:\")\n",
                "   print(melted_result)\n",
                "   ```\n",
                "   The melted DataFrame is displayed.\n",
                "\n",
                "3. **Result:**\n",
                "   The resulting DataFrame will have three columns: 'Date', 'Category', and 'Value'. The 'Category' column will contain the melted column names (previously 'Value'), and the 'Value' column will contain the corresponding values. Each row in the original DataFrame corresponds to multiple rows in the melted DataFrame, where each melted row represents a unique combination of 'Date' and 'Category' with the corresponding 'Value'.\n",
                "\n",
                "In summary, the `pd.melt` function is used to transform a DataFrame from wide to long format, making it more suitable for certain types of analyses or visualizations. The example provided suggests that columns 'A' and 'B' from the original DataFrame have been melted into rows with a new 'Category' column."
            ],
            "metadata": {
                "language": "python",
                "azdata_cell_guid": "945d9d5e-c688-488d-90e5-d270ca0c000a"
            },
            "attachments": {}
        },
        {
            "cell_type": "markdown",
            "source": [
                "#### Applications:\n",
                "\n",
                "- **Pivoting:**\n",
                "  - Convert data for better presentation or visualization.\n",
                "  - Facilitate analysis by organizing data for specific requirements.\n",
                "\n",
                "- **Melting:**\n",
                "  - Convert aggregated or summarized data into a long format.\n",
                "  - Prepare data for specific analyses or visualizations.\n",
                "\n",
                "#### Use Cases:\n",
                "\n",
                "1. **Pivoting Example:**\n",
                "   - Convert sales data with columns for each product category into a format where each row represents a sale with product category and quantity.\n",
                "\n",
                "2. **Melting Example:**\n",
                "   - Transform a DataFrame with a multi-level column index into a long format for easier analysis.\n",
                "\n",
                "#### Considerations:\n",
                "\n",
                "- **Unique Index Values:**\n",
                "  - Ensure that the combination of index and columns in a pivoted DataFrame results in unique index values.\n",
                "\n",
                "- **Melting Wide Data:**\n",
                "  - Specify columns to be preserved as identifier variables and those to be melted.\n",
                "\n",
                "#### Tips:\n",
                "\n",
                "- **Multi-level Index:**\n",
                "  - When pivoting, use `reset_index()` if the DataFrame has a multi-level index.\n",
                "\n",
                "- **Handling NaN Values:**\n",
                "  - Check for NaN values after pivoting, especially if using hierarchical indexing.\n",
                "\n",
                "Pivoting and melting are powerful tools in reshaping data to meet specific analysis or visualization needs. Mastering these operations allows for efficient manipulation and exploration of diverse datasets in Pandas.\n",
                ""
            ],
            "metadata": {
                "language": "python",
                "azdata_cell_guid": "5a05475b-8036-40c7-9398-91db4eed9610"
            },
            "attachments": {}
        },
        {
            "cell_type": "markdown",
            "source": [
                "#### **`Stacking and Unstacking in Pandas for Hierarchical Index Reshaping`**"
            ],
            "metadata": {
                "azdata_cell_guid": "c908e560-3b55-4547-955b-5e522d881c2f"
            },
            "attachments": {}
        },
        {
            "cell_type": "markdown",
            "source": [
                "#### Stacking and Unstacking Concepts:\n",
                "\n",
                "In Pandas, stacking and unstacking are operations used to manipulate DataFrames with hierarchical index structures, particularly those with multi-level indices.\n",
                "\n",
                "#### Stacking:\n",
                "\n",
                "Stacking involves \"compressing\" a level in the DataFrame's columns to produce a new level in the index."
            ],
            "metadata": {
                "azdata_cell_guid": "a1a0d828-5dcb-4849-9e8b-e51f68634065"
            },
            "attachments": {}
        },
        {
            "cell_type": "code",
            "source": [
                "import pandas as pd\n",
                "\n",
                "# Sample DataFrame with Multi-level Index\n",
                "arrays = [['A', 'A', 'B', 'B'], [1, 2, 1, 2]]\n",
                "index = pd.MultiIndex.from_arrays(arrays, names=('Letter', 'Number'))\n",
                "\n",
                "df = pd.DataFrame({'Value': [10, 20, 30, 40]}, index=index)\n",
                "\n",
                "# Stacking DataFrame\n",
                "stacked_result = df.stack()\n",
                "\n",
                "# Displaying the stacked DataFrame\n",
                "print(\"Stacked DataFrame:\")\n",
                "print(stacked_result)\n",
                "\n",
                "# Result:\n",
                "# The DataFrame is compressed, and a new level is created in the index."
            ],
            "metadata": {
                "azdata_cell_guid": "6a194675-4f43-40b8-a030-9808cacc746e",
                "language": "python"
            },
            "outputs": [
                {
                    "name": "stdout",
                    "text": "Stacked DataFrame:\nLetter  Number       \nA       1       Value    10\n        2       Value    20\nB       1       Value    30\n        2       Value    40\ndtype: int64\n",
                    "output_type": "stream"
                }
            ],
            "execution_count": 3
        },
        {
            "cell_type": "markdown",
            "source": [
                "#### Unstacking:\n",
                "\n",
                "Unstacking is the inverse operation of stacking. It involves \"expanding\" a level in the DataFrame's index to produce a new level in the columns."
            ],
            "metadata": {
                "language": "python",
                "azdata_cell_guid": "9e862d78-5a06-4818-a710-41d0343d653a"
            },
            "attachments": {}
        },
        {
            "cell_type": "code",
            "source": [
                "# Unstacking DataFrame\n",
                "unstacked_result = df.unstack()\n",
                "\n",
                "# Displaying the unstacked DataFrame\n",
                "print(\"\\nUnstacked DataFrame:\")\n",
                "print(unstacked_result)\n",
                "\n",
                "# Result : The DataFrame is expanded, and a new level is created in the columns."
            ],
            "metadata": {
                "language": "python",
                "azdata_cell_guid": "91aadc78-577c-4785-9272-a77a58edd99a"
            },
            "outputs": [
                {
                    "name": "stdout",
                    "text": "\nUnstacked DataFrame:\n       Value    \nNumber     1   2\nLetter          \nA         10  20\nB         30  40\n",
                    "output_type": "stream"
                }
            ],
            "execution_count": 4
        },
        {
            "cell_type": "markdown",
            "source": [
                "#### Applications:\n",
                "\n",
                "- **Stacking:**\n",
                "  - Transform a DataFrame with a multi-level column index into a long format.\n",
                "  - Facilitate analysis or visualization requiring a simpler column structure.\n",
                "\n",
                "- **Unstacking:**\n",
                "  - Convert data with a multi-level index into a wide format for better presentation.\n",
                "  - Facilitate analysis by organizing data in a way that simplifies access to information.\n",
                "\n",
                "#### Use Cases:\n",
                "\n",
                "1. **Stacking Example:**\n",
                "   - Convert sales data with a multi-level column index (products, regions) into a long format for easy analysis.\n",
                "\n",
                "2. **Unstacking Example:**\n",
                "   - Transform a DataFrame with a multi-level index representing time series data into a wide format with columns for each time point.\n",
                "\n",
                "#### Considerations:\n",
                "\n",
                "- **Level Selection:**\n",
                "  - Specify the level to be stacked or unstacked.\n",
                "\n",
                "- **NaN Values:**\n",
                "  - Check for NaN values after unstacking, especially if the original DataFrame had missing data.\n",
                "\n",
                "#### Tips:\n",
                "\n",
                "- **Multiple Levels:**\n",
                "  - Stack or unstack multiple levels by passing a list of level names or level numbers.\n",
                "\n",
                "- **Naming Levels:**\n",
                "  - Assign names to levels for clarity using the `names` parameter in `MultiIndex`.\n",
                "\n",
                "Stacking and unstacking are essential operations for reshaping hierarchical index structures in Pandas. Understanding when and how to use these operations allows for efficient manipulation and exploration of multi-level index DataFrames.\n",
                ""
            ],
            "metadata": {
                "language": "python",
                "azdata_cell_guid": "90453d7f-8bc9-499d-884a-eb0dbd874a9e"
            },
            "attachments": {}
        }
    ]
}