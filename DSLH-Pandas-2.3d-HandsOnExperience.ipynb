{
    "metadata": {
        "kernelspec": {
            "name": "python3",
            "display_name": "Python 3",
            "language": "python"
        },
        "language_info": {
            "name": "python",
            "version": "3.10.9",
            "mimetype": "text/x-python",
            "codemirror_mode": {
                "name": "ipython",
                "version": 3
            },
            "pygments_lexer": "ipython3",
            "nbconvert_exporter": "python",
            "file_extension": ".py"
        }
    },
    "nbformat_minor": 2,
    "nbformat": 4,
    "cells": [
        {
            "cell_type": "markdown",
            "source": [
                "# **`Data Science Learners Hub`**\n",
                "\n",
                "**Module : Python**\n",
                "\n",
                "**email** : [datasciencelearnershub@gmail.com](mailto:datasciencelearnershub@gmail.com)"
            ],
            "metadata": {
                "azdata_cell_guid": "f5b354b9-ba9d-4b5e-ae67-1641726fc57d"
            },
            "attachments": {}
        },
        {
            "cell_type": "markdown",
            "source": [
                "## **`#2: DataFrames in Depth`**\n",
                "\n",
                "4. **Creating DataFrames**\n",
                "    \n",
                "    - From lists, dictionaries, and arrays\n",
                "    - Reading data from CSV, Excel, and other formats\n",
                "5. **Basic DataFrame Operations**\n",
                "    \n",
                "    - Inspecting the DataFrame\n",
                "    - Indexing and selecting data\n",
                "    - Descriptive statistics\n",
                "6. **Data Cleaning and Handling Missing Data**\n",
                "    \n",
                "    - Handling missing values\n",
                "    - Dropping or filling missing values\n",
                "    - Removing duplicates\n",
                ""
            ],
            "metadata": {
                "azdata_cell_guid": "15c89dda-4b1a-4fb4-8f2f-1c214cc49ad0"
            },
            "attachments": {}
        },
        {
            "cell_type": "markdown",
            "source": [
                "### **`Hands On Experience:`**\n",
                ""
            ],
            "metadata": {
                "azdata_cell_guid": "33a330f3-21f1-40d5-acaa-d26ada58a817"
            },
            "attachments": {}
        },
        {
            "cell_type": "markdown",
            "source": [
                "#### Question 1: Creating a DataFrame from Lists and Basic Operations\n",
                "\n",
                "#### Scenario:\n",
                "You have information about monthly sales for a retail store. Each list contains data for a different month.\n",
                "\n",
                "```python\n",
                "# Data for three months\n",
                "months = ['Jan', 'Feb', 'Mar']\n",
                "sales = [1200, 1500, 1800]\n",
                "expenses = [800, 900, 1000]\n",
                "\n",
                "# Question:\n",
                "# Create a DataFrame named 'df_sales' from these lists, and display the DataFrame.\n",
                "# Calculate the profit for each month (Profit = Sales - Expenses).\n",
                "# Display the DataFrame after adding the 'Profit' column.\n",
                "```"
            ],
            "metadata": {
                "azdata_cell_guid": "6b3769cf-c772-4dd0-b5ad-b948b65d0808"
            },
            "attachments": {}
        },
        {
            "cell_type": "code",
            "source": [
                "# Data for three months\n",
                "months = ['Jan', 'Feb', 'Mar']\n",
                "sales = [1200, 1500, 1800]\n",
                "expenses = [800, 900, 1000]\n",
                "\n",
                "import pandas as pd\n",
                "\n",
                "# Creating a DataFrame from Lists\n",
                "df_sales = pd.DataFrame({'Month': months, 'Sales': sales, 'Expenses': expenses})\n",
                "\n",
                "# Calculating Profit\n",
                "df_sales['Profit'] = df_sales['Sales'] - df_sales['Expenses']\n",
                "\n",
                "# Displaying the DataFrame\n",
                "print(\"DataFrame after Creating and Calculating Profit:\")\n",
                "print(df_sales)"
            ],
            "metadata": {
                "azdata_cell_guid": "bb800117-35d3-40e2-8227-c6dc48cbf4ea",
                "language": "python"
            },
            "outputs": [
                {
                    "name": "stdout",
                    "text": "DataFrame after Creating and Calculating Profit:\n  Month  Sales  Expenses  Profit\n0   Jan   1200       800     400\n1   Feb   1500       900     600\n2   Mar   1800      1000     800\n",
                    "output_type": "stream"
                }
            ],
            "execution_count": 1
        },
        {
            "cell_type": "markdown",
            "source": [
                "#### Question 2: Reading Data from CSV and Descriptive Statistics\n",
                "\n",
                "#### Scenario:\n",
                "\n",
                "Let's assume you have a CSV file named 'sales_data.csv' with the following structure:\n",
                "\n",
                "```csv\n",
                "Product,Quantity,Revenue\n",
                "Laptop,10,12000\n",
                "Smartphone,5,8000\n",
                "Tablet,,4500\n",
                "Camera,3,\n",
                "```\n",
                "\n",
                "You have a CSV file named 'sales_data.csv' containing information about product sales. Read the data into a DataFrame and perform descriptive statistics.\n",
                "\n",
                "```python\n",
                "# Question:\n",
                "# Read 'sales_data.csv' into a DataFrame named 'df_sales'.\n",
                "# Display the first 5 rows of the DataFrame.\n",
                "# Calculate basic descriptive statistics for the 'Quantity' column.\n",
                "```\n",
                "\n",
                ""
            ],
            "metadata": {
                "language": "python",
                "azdata_cell_guid": "4291940a-461b-40cf-9045-d7c81a99b7b3"
            },
            "attachments": {}
        },
        {
            "cell_type": "code",
            "source": [
                "import pandas as pd\n",
                "\n",
                "# Reading Data from CSV\n",
                "df_sales = pd.read_csv('sales_data.csv')\n",
                "\n",
                "# Displaying the first 5 rows\n",
                "print(\"First 5 Rows of df_sales:\")\n",
                "print(df_sales.head()) # Head by default display 5 rows\n",
                "\n",
                "# Descriptive Statistics for 'Quantity'\n",
                "quantity_stats = df_sales['Quantity'].describe()\n",
                "print(\"\\nDescriptive Statistics for 'Quantity':\")\n",
                "print(quantity_stats)"
            ],
            "metadata": {
                "language": "python",
                "azdata_cell_guid": "96105aa9-aa14-45e6-b47b-dc2556788705"
            },
            "outputs": [
                {
                    "name": "stdout",
                    "text": "First 5 Rows of df_sales:\n      Product  Quantity  Revenue\n0      Laptop      10.0  12000.0\n1  Smartphone       5.0   8000.0\n2      Tablet       NaN   4500.0\n3      Camera       3.0      NaN\n\nDescriptive Statistics for 'Quantity':\ncount     3.000000\nmean      6.000000\nstd       3.605551\nmin       3.000000\n25%       4.000000\n50%       5.000000\n75%       7.500000\nmax      10.000000\nName: Quantity, dtype: float64\n",
                    "output_type": "stream"
                }
            ],
            "execution_count": 2
        },
        {
            "cell_type": "markdown",
            "source": [
                "#### Question 3: Handling Missing Values and Filling with Mean\n",
                "\n",
                "#### Scenario:\n",
                "Your DataFrame has missing values in the 'Revenue' column. Handle the missing values by filling them with the mean.\n",
                "\n",
                "```python\n",
                "# Question:\n",
                "# Handle missing values in the 'Revenue' column by filling them with the mean.\n",
                "# Display the DataFrame after handling missing values.\n",
                "```"
            ],
            "metadata": {
                "language": "python",
                "azdata_cell_guid": "eb20b43f-7e47-426d-9bbc-7154c98f47c5"
            },
            "attachments": {}
        },
        {
            "cell_type": "code",
            "source": [
                "# Handling Missing Values in 'Revenue'\n",
                "df_sales['Revenue'].fillna(df_sales['Revenue'].mean(), inplace=True)\n",
                "\n",
                "# Displaying the DataFrame after Handling Missing Values\n",
                "print(\"DataFrame after Handling Missing Values in 'Revenue':\")\n",
                "print(df_sales)"
            ],
            "metadata": {
                "language": "python",
                "azdata_cell_guid": "2dccb90a-09b8-45b4-b922-1d40ed7c6b94"
            },
            "outputs": [
                {
                    "name": "stdout",
                    "text": "DataFrame after Handling Missing Values in 'Revenue':\n      Product  Quantity       Revenue\n0      Laptop      10.0  12000.000000\n1  Smartphone       5.0   8000.000000\n2      Tablet       NaN   4500.000000\n3      Camera       3.0   8166.666667\n",
                    "output_type": "stream"
                }
            ],
            "execution_count": 3
        },
        {
            "cell_type": "markdown",
            "source": [
                "#### Question 4: Removing Duplicates\n",
                "\n",
                "#### Scenario:\n",
                "Your DataFrame 'df_orders' contains duplicate entries for customer orders. Remove the duplicates based on all columns.\n",
                "\n",
                "```python\n",
                "# Question:\n",
                "# Identify and remove duplicate rows from 'df_orders'.\n",
                "# Display the DataFrame after removing duplicates.\n",
                "```"
            ],
            "metadata": {
                "language": "python",
                "azdata_cell_guid": "35325b06-221e-407d-a99c-7c4deaa3677b"
            },
            "attachments": {}
        },
        {
            "cell_type": "code",
            "source": [
                "import pandas as pd\n",
                "\n",
                "# Sample data for the DataFrame\n",
                "data = {\n",
                "    'OrderID': [1, 2, 3, 4, 2, 5, 6, 1],\n",
                "    'Product': ['A', 'B', 'C', 'D', 'B', 'E', 'F', 'A'],\n",
                "    'Price': [10.0, 20.0, 15.0, 25.0, 20.0, 30.0, 18.0, 10.0],\n",
                "    'Shipping_Date': ['2022-01-01', '2022-01-02', '2022-01-03', '2022-01-04', '2022-01-02', '2022-01-05', '2022-01-06', '2022-01-01'],\n",
                "    'Quantity': [2, 1, 3, 2, 1, 4, 2, 3]  # New 'Quantity' column\n",
                "}\n",
                "\n",
                "# Create a DataFrame\n",
                "df_orders = pd.DataFrame(data)\n",
                "\n",
                "# Identifying Duplicate Rows\n",
                "duplicates = df_orders.duplicated()\n",
                "\n",
                "# Removing Duplicate Rows\n",
                "df_orders_no_duplicates = df_orders.drop_duplicates()\n",
                "\n",
                "# Displaying the DataFrame after Removing Duplicates\n",
                "print(\"Original DataFrame:\")\n",
                "print(df_orders)\n",
                "\n",
                "print(\"\\nDataFrame after Removing Duplicates:\")\n",
                "print(df_orders_no_duplicates)\n",
                ""
            ],
            "metadata": {
                "language": "python",
                "azdata_cell_guid": "d6b3f8b4-0639-434b-9585-35f6fa5d6eb8"
            },
            "outputs": [
                {
                    "name": "stdout",
                    "text": "Original DataFrame:\n   OrderID Product  Price Shipping_Date  Quantity\n0        1       A   10.0    2022-01-01         2\n1        2       B   20.0    2022-01-02         1\n2        3       C   15.0    2022-01-03         3\n3        4       D   25.0    2022-01-04         2\n4        2       B   20.0    2022-01-02         1\n5        5       E   30.0    2022-01-05         4\n6        6       F   18.0    2022-01-06         2\n7        1       A   10.0    2022-01-01         3\n\nDataFrame after Removing Duplicates:\n   OrderID Product  Price Shipping_Date  Quantity\n0        1       A   10.0    2022-01-01         2\n1        2       B   20.0    2022-01-02         1\n2        3       C   15.0    2022-01-03         3\n3        4       D   25.0    2022-01-04         2\n5        5       E   30.0    2022-01-05         4\n6        6       F   18.0    2022-01-06         2\n7        1       A   10.0    2022-01-01         3\n",
                    "output_type": "stream"
                }
            ],
            "execution_count": 12
        },
        {
            "cell_type": "markdown",
            "source": [
                "#### Question 5: Conditional Indexing and Filtering\n",
                "\n",
                "#### Scenario:\n",
                "You want to analyze only the orders with a quantity greater than 2.\n",
                "\n",
                "```python\n",
                "# Question:\n",
                "# Create a new DataFrame 'df_large_orders' containing only the orders with Quantity greater than 2.\n",
                "# Display the new DataFrame.\n",
                "```"
            ],
            "metadata": {
                "azdata_cell_guid": "f95768c2-4b68-4da1-8946-bbb986f66fb8"
            },
            "attachments": {}
        },
        {
            "cell_type": "code",
            "source": [
                "# Conditional Indexing and Filtering\n",
                "df_large_orders = df_orders[df_orders['Quantity'] > 2]\n",
                "\n",
                "# Displaying the DataFrame with Large Orders\n",
                "print(\"DataFrame with Orders Quantity > 2:\")\n",
                "print(df_large_orders)"
            ],
            "metadata": {
                "azdata_cell_guid": "e97c203c-5d12-439f-9b83-563d25c5db18",
                "language": "python"
            },
            "outputs": [
                {
                    "name": "stdout",
                    "text": "DataFrame with Orders Quantity > 2:\n   OrderID Product  Price Shipping_Date  Quantity\n2        3       C   15.0    2022-01-03         3\n5        5       E   30.0    2022-01-05         4\n7        1       A   10.0    2022-01-01         3\n",
                    "output_type": "stream"
                }
            ],
            "execution_count": 13
        }
    ]
}