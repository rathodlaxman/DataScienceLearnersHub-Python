{
    "metadata": {
        "kernelspec": {
            "name": "python3",
            "display_name": "Python 3",
            "language": "python"
        },
        "language_info": {
            "name": "python",
            "version": "3.10.9",
            "mimetype": "text/x-python",
            "codemirror_mode": {
                "name": "ipython",
                "version": 3
            },
            "pygments_lexer": "ipython3",
            "nbconvert_exporter": "python",
            "file_extension": ".py"
        }
    },
    "nbformat_minor": 2,
    "nbformat": 4,
    "cells": [
        {
            "cell_type": "markdown",
            "source": [
                "# **Data Science Learners Hub - Python**\n",
                "\n",
                "**Module : Python**\n",
                "\n",
                "**Topic :** <span style=\"font-size: 12px; caret-color: rgb(31, 31, 31); white-space-collapse: preserve; background-color: rgb(255, 255, 255);\">Mutable and Immutable Data types in Python</span>\n",
                "\n",
                "**email** : [datasciencelearnershub@gmail.com](https://github.com/rathodlaxman/DataScienceLearnersHub/blob/50de48da0c8f7145a545dd9942457c8b9cfc8fc5//mailto:datasciencelearnershub@gmail.com)"
            ],
            "metadata": {
                "azdata_cell_guid": "2850be45-2c1e-4a7c-af99-316e3705ad83"
            },
            "attachments": {}
        },
        {
            "cell_type": "markdown",
            "source": [
                "## **# Mutable and Immutable Data types in Python**"
            ],
            "metadata": {
                "azdata_cell_guid": "10a56dbf-6574-4f1e-955d-c4dfe44d0056"
            },
            "attachments": {}
        },
        {
            "cell_type": "markdown",
            "source": [
                "### 1. What are Mutable and Immutable Datatypes in Python?\n",
                "\n",
                "In Python, data types are categorized into two main groups based on their mutability:\n",
                "\n",
                "- **Mutable Datatypes:** Objects of mutable data types can be modified after creation. Changes made to the object affect its content, and the object's identity remains the same.\n",
                "\n",
                "  Examples: Lists, Sets, Dictionaries.\n",
                "\n",
                "- **Immutable Datatypes:** Objects of immutable data types cannot be modified after creation. Any operation that appears to modify the object actually creates a new object with the modified content.\n",
                "\n",
                "  Examples: Integers, Floats, Strings, Tuples.\n",
                "\n",
                "\n",
                "### 2. What Happens When a Mutable and Immutable Datatypes is Executed/Interpreted?\n",
                "\n",
                "- **Mutable Datatypes:** Changes to mutable objects modify the existing object in place. The identity of the object remains the same.\n",
                "\n",
                "- **Immutable Datatypes:** Operations on immutable objects create new objects with modified content. The original object remains unchanged, and the modified object has a different identity.\n",
                "\n",
                "\n",
                ""
            ],
            "metadata": {
                "azdata_cell_guid": "ee60c47e-f3fe-42c9-87e8-fd2613a99f00"
            },
            "attachments": {}
        },
        {
            "cell_type": "markdown",
            "source": [
                "### 3. Understanding Mutable and Immutable Datatypes in Python:\n",
                "\n",
                "**Immutable Data Types:**\n",
                "\n",
                "1. **Numbers (integers, floats):** Once you create an integer or a float object, you cannot change its value. If you perform an operation that seems to modify the value, you are actually creating a new object.\n",
                "    \n",
                "    ```python\n",
                "    x = 5  # x is an integer, and it's immutable\n",
                "    x = x + 1  # This creates a new integer object, x now refers to the new object (6)\n",
                "    \n",
                "    ```\n",
                "    \n",
                "2. **Strings:** Strings are immutable in Python. When you modify a string, you create a new string object.\n",
                "    \n",
                "    ```python\n",
                "    s = \"Hello\"  # s is a string, and it's immutable\n",
                "    s = s + \" World\"  # This creates a new string object, s now refers to the new object (\"Hello World\")\n",
                "    \n",
                "    ```\n",
                "    \n",
                "3. **Tuples:** Tuples are also immutable. You cannot change the elements of a tuple once it's created.\n",
                "    \n",
                "    ```python\n",
                "    my_tuple = (1, 2, 3)  # my_tuple is a tuple, and it's immutable\n",
                "    # You can't do: my_tuple[0] = 99  # This will raise an error\n",
                "    \n",
                "    ```\n",
                "    \n",
                "\n",
                "**Mutable Data Types:**\n",
                "\n",
                "1. **Lists:** Lists are mutable, which means you can modify their elements, add new elements, or remove elements in place.\n",
                "    \n",
                "    ```python\n",
                "    my_list = [1, 2, 3]  # my_list is a list, and it's mutable\n",
                "    my_list[0] = 99  # You can change elements of a list\n",
                "    my_list.append(4)  # You can add elements to a list\n",
                "    my_list.remove(2)  # You can remove elements from a list\n",
                "    \n",
                "    ```\n",
                "    \n",
                "2. **Dictionaries:** Dictionaries are mutable. You can add, modify, or remove key-value pairs from a dictionary.\n",
                "    \n",
                "    ```python\n",
                "    my_dict = {'name': 'Alice', 'age': 30}  # my_dict is a dictionary, and it's mutable\n",
                "    my_dict['age'] = 31  # You can modify values in a dictionary\n",
                "    del my_dict['name']  # You can remove key-value pairs from a dictionary\n",
                "    \n",
                "    ```\n",
                "    \n",
                "3. **Sets:** Sets are mutable as well. You can add and remove elements from a set.\n",
                "    \n",
                "    ```python\n",
                "    my_set = {1, 2, 3}  # my_set is a set, and it's mutable\n",
                "    my_set.add(4)  # You can add elements to a set\n",
                "    my_set.remove(2)  # You can remove elements from a set\n",
                "    \n",
                "    ```\n",
                "    "
            ],
            "metadata": {
                "azdata_cell_guid": "4eef16a4-24b2-463f-b544-aa6c8dc8abe7"
            },
            "attachments": {}
        },
        {
            "cell_type": "markdown",
            "source": [
                "### 4. Distinction between mutable and immutable data types\n",
                "\n",
                "The distinction between mutable and immutable data types in Python is important for several reasons:\n",
                "\n",
                "1. **Predictable Behavior:** Immutable objects are predictable because they can't be changed after creation. This property makes them suitable for use as keys in dictionaries and elements in sets because their values won't change unexpectedly.\n",
                "2. **Safety:** Immutable objects are safe to use in situations where you want to ensure that the data remains unchanged. For example, when you pass an immutable object as an argument to a function, you can be confident that the function won't inadvertently modify the object.\n",
                "3. **Hashability:** Immutable objects can be hashed, which means they can be used as keys in dictionaries and elements in sets. Mutable objects like lists and dictionaries cannot be used as dictionary keys or set elements because their values can change, which would disrupt the internal data structures used for indexing and searching.\n",
                "4. **Efficiency:** Immutable objects can be cached and reused more effectively by Python's runtime. This can lead to performance improvements in some cases.\n",
                "\n",
                "Understanding the distinction between mutable and immutable data types helps you write more robust, efficient, and predictable Python code. It also guides you in choosing the appropriate data type for a particular task or problem."
            ],
            "metadata": {
                "azdata_cell_guid": "3847b3b2-581b-44b2-b896-5b41e6db9c40"
            },
            "attachments": {}
        },
        {
            "cell_type": "markdown",
            "source": [
                "### 5. Practical Application of Mutable and Immutable Datatypes in the Real World:\n",
                "\n",
                "- **Database Operations:** Immutable objects are commonly used in database operations, ensuring that data integrity is maintained.\n",
                "\n",
                "- **Configuration Settings:** Immutable objects are useful for storing configuration settings that should not be changed during runtime.\n",
                "\n",
                "- **Financial transactions**: Immutable records maintain accuracy and audit trails.\n",
                "\n",
                "### 6. Peculiarities and Considerations \n",
                "- **Hashability:** Immutable objects are hashable and can be used as keys in dictionaries. Mutable objects are not hashable.\n",
                "\n",
                "- **In-Place vs. New Objects:** Mutable objects allow in-place modifications, while immutable objects create new objects with modifications.\n",
                "\n",
                "- **Assignment**: Assigning a mutable object to a new variable creates a reference, not a copy.\n",
                "\n",
                "- **Modifying immutable objects**: Attempting to change them creates a new object instead.\n",
                "\n",
                "- Methods: Some mutable types offer methods to modify their contents (e.g., append() for lists).\n",
                "\n",
                "### 7. Common Mistakes \n",
                "\n",
                "- **Unexpected Modifications:** Forgetting that a data structure is mutable can lead to unexpected modifications and bugs.\n",
                "\n",
                "```python\n",
                "# Incorrect\n",
                "my_tuple = (1, 2, 3)\n",
                "# The line below mistakenly tries to modify the tuple\n",
                "# my_tuple[0] = 10  # Error: Tuples are immutable\n",
                "```\n",
                "\n",
                "- Assuming all data types are mutable.\n",
                "\n",
                "- Creating unintended object sharing through references."
            ],
            "metadata": {
                "azdata_cell_guid": "58db3ac0-0837-45c3-940e-3d8b52a631b9"
            },
            "attachments": {}
        },
        {
            "cell_type": "markdown",
            "source": [
                "### 9. Hands On\n",
                "\n",
                "#### Question 1:\n",
                "Create a list and modify its second element to be double its original value.\n",
                "\n",
                "**Solution:**"
            ],
            "metadata": {
                "azdata_cell_guid": "84fc04dd-d27a-4587-9aa2-020bf81cb43e"
            },
            "attachments": {}
        },
        {
            "cell_type": "code",
            "source": [
                "my_list = [1, 2, 3]\n",
                "my_list[1] = my_list[1] * 2\n",
                "print(\"Modified List:\", my_list)"
            ],
            "metadata": {
                "azdata_cell_guid": "89f2d846-2c59-4ed6-8019-0e79849ac48b",
                "language": "python"
            },
            "outputs": [
                {
                    "output_type": "stream",
                    "name": "stdout",
                    "text": "Modified List: [1, 4, 3]\n"
                }
            ],
            "execution_count": 1
        },
        {
            "cell_type": "markdown",
            "source": [
                "#### Question 2:\n",
                "Create a tuple and attempt to modify its first element. Explain the result.\n",
                "\n",
                "**Solution:**"
            ],
            "metadata": {
                "azdata_cell_guid": "6f8e1744-6610-44f1-ae17-4a89c98604ad"
            },
            "attachments": {}
        },
        {
            "cell_type": "code",
            "source": [
                "my_tuple = (1, 2, 3)\n",
                "# Uncommenting the line below would result in an error\n",
                "# my_tuple[0] = 10  # Error: Tuples are immutable"
            ],
            "metadata": {
                "azdata_cell_guid": "485fcc88-4835-47cb-aa4b-0c4d04d9a4bd",
                "language": "python"
            },
            "outputs": [],
            "execution_count": 2
        },
        {
            "cell_type": "markdown",
            "source": [
                "#### Question 3:\n",
                "Try to change a character in a string.\n",
                "\n",
                "**Solution:**"
            ],
            "metadata": {
                "language": "python",
                "azdata_cell_guid": "686be773-dcc7-4f77-b5f1-326f2ea9941a"
            },
            "attachments": {}
        },
        {
            "cell_type": "code",
            "source": [
                "name = \"Alice\"\n",
                "name[0] = \"B\"  # TypeError: 'str' object does not support item assignment\n",
                ""
            ],
            "metadata": {
                "language": "python",
                "azdata_cell_guid": "1227890a-525b-4e6f-9421-8a8bc3ef3a0c"
            },
            "outputs": [
                {
                    "output_type": "error",
                    "ename": "TypeError",
                    "evalue": "'str' object does not support item assignment",
                    "traceback": [
                        "\u001b[0;31m---------------------------------------------------------------------------\u001b[0m",
                        "\u001b[0;31mTypeError\u001b[0m                                 Traceback (most recent call last)",
                        "Cell \u001b[0;32mIn[3], line 2\u001b[0m\n\u001b[1;32m      1\u001b[0m name \u001b[38;5;241m=\u001b[39m \u001b[38;5;124m\"\u001b[39m\u001b[38;5;124mAlice\u001b[39m\u001b[38;5;124m\"\u001b[39m\n\u001b[0;32m----> 2\u001b[0m name[\u001b[38;5;241m0\u001b[39m] \u001b[38;5;241m=\u001b[39m \u001b[38;5;124m\"\u001b[39m\u001b[38;5;124mB\u001b[39m\u001b[38;5;124m\"\u001b[39m\n",
                        "\u001b[0;31mTypeError\u001b[0m: 'str' object does not support item assignment"
                    ]
                }
            ],
            "execution_count": 3
        },
        {
            "cell_type": "markdown",
            "source": [
                "#### Question 4:\n",
                "Create a tuple and try to add an element to it.\n",
                "\n",
                "**Solution:**"
            ],
            "metadata": {
                "language": "python",
                "azdata_cell_guid": "3fed51e1-b0f1-4028-a54f-1095c24ff7fe"
            },
            "attachments": {}
        },
        {
            "cell_type": "code",
            "source": [
                "coordinates = (10, 20)\n",
                "coordinates.append(30)  # AttributeError: 'tuple' object has no attribute 'append'\n",
                ""
            ],
            "metadata": {
                "language": "python",
                "azdata_cell_guid": "ffe72758-292d-4f97-9de9-67a6796d2370"
            },
            "outputs": [
                {
                    "output_type": "error",
                    "ename": "AttributeError",
                    "evalue": "'tuple' object has no attribute 'append'",
                    "traceback": [
                        "\u001b[0;31m---------------------------------------------------------------------------\u001b[0m",
                        "\u001b[0;31mAttributeError\u001b[0m                            Traceback (most recent call last)",
                        "Cell \u001b[0;32mIn[4], line 2\u001b[0m\n\u001b[1;32m      1\u001b[0m coordinates \u001b[38;5;241m=\u001b[39m (\u001b[38;5;241m10\u001b[39m, \u001b[38;5;241m20\u001b[39m)\n\u001b[0;32m----> 2\u001b[0m \u001b[43mcoordinates\u001b[49m\u001b[38;5;241;43m.\u001b[39;49m\u001b[43mappend\u001b[49m(\u001b[38;5;241m30\u001b[39m)\n",
                        "\u001b[0;31mAttributeError\u001b[0m: 'tuple' object has no attribute 'append'"
                    ]
                }
            ],
            "execution_count": 4
        },
        {
            "cell_type": "markdown",
            "source": [
                "#### Question 5:\n",
                "Copy a list and modify the copy without affecting the original.\n",
                "\n",
                "**Solution:**"
            ],
            "metadata": {
                "language": "python",
                "azdata_cell_guid": "b751d543-c3e9-4a71-92b1-a395e18316c8"
            },
            "attachments": {}
        },
        {
            "cell_type": "code",
            "source": [
                "original_list = [1, 2, 3]\n",
                "copied_list = original_list.copy()  # Create a new list\n",
                "copied_list[0] = 5\n",
                "print(original_list)  # Output: [1, 2, 3] (unchanged)\n",
                "print(copied_list)  # Output: [5, 2, 3]\n",
                ""
            ],
            "metadata": {
                "language": "python",
                "azdata_cell_guid": "5bbf9513-e92a-49c4-9506-e0ed49debcd4"
            },
            "outputs": [
                {
                    "output_type": "stream",
                    "name": "stdout",
                    "text": "[1, 2, 3]\n[5, 2, 3]\n"
                }
            ],
            "execution_count": 5
        },
        {
            "cell_type": "markdown",
            "source": [
                "#### Question 6:\n",
                "Use a string as a dictionary key and explain why it works.\n",
                "\n",
                "**Solution:**"
            ],
            "metadata": {
                "language": "python",
                "azdata_cell_guid": "d682dd02-aafd-4a55-9533-0ff9e35d919f"
            },
            "attachments": {}
        },
        {
            "cell_type": "code",
            "source": [
                "my_dict = {\"name\": \"John\", \"age\": 30}  # Strings are immutable keys\n",
                ""
            ],
            "metadata": {
                "language": "python",
                "azdata_cell_guid": "40909600-cdd0-4ce4-8815-48092a830361"
            },
            "outputs": [],
            "execution_count": 7
        },
        {
            "cell_type": "markdown",
            "source": [
                "### 10. Practice Questions\n",
                "\n",
                "#### Question 1:\n",
                "Create a dictionary with mutable and immutable values as keys. Observe the behavior.\n",
                "\n",
                "#### Question 2:\n",
                "Write a function that accepts a list and modifies it in place to remove duplicate elements.\n",
                "\n",
                "### 11. Do you know ?\n",
                "\n",
                "- **Heartbleed bug**: A security vulnerability in OpenSSL (C library) related to mutable memory management.\n",
                "\n",
                "- Immutable datatypes provide safety and consistency, making them suitable for scenarios where data integrity and stability are crucial.\n",
                "\n",
                "- Accidental modifications to mutable objects can lead to unexpected behavior and bugs in a program. It's essential to be aware of the mutability of data structures used in different parts of the code."
            ],
            "metadata": {
                "language": "python",
                "azdata_cell_guid": "7635da02-bfe0-4c56-895a-14fef35682e2"
            },
            "attachments": {}
        }
    ]
}