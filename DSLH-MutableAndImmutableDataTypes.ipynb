{
    "metadata": {
        "kernelspec": {
            "name": "python3",
            "display_name": "Python 3",
            "language": "python"
        },
        "language_info": {
            "name": "python",
            "version": "3.10.9",
            "mimetype": "text/x-python",
            "codemirror_mode": {
                "name": "ipython",
                "version": 3
            },
            "pygments_lexer": "ipython3",
            "nbconvert_exporter": "python",
            "file_extension": ".py"
        }
    },
    "nbformat_minor": 2,
    "nbformat": 4,
    "cells": [
        {
            "cell_type": "markdown",
            "source": [
                "# **Data Science Learners Hub - Python**\n",
                "\n",
                "**Module : Python**\n",
                "\n",
                "**Topic :** <span style=\"font-size: 12px; caret-color: rgb(31, 31, 31); white-space-collapse: preserve; background-color: rgb(255, 255, 255);\">Mutable and Immutable Data types in Python</span>\n",
                "\n",
                "**email** : [datasciencelearnershub@gmail.com](https://github.com/rathodlaxman/DataScienceLearnersHub/blob/50de48da0c8f7145a545dd9942457c8b9cfc8fc5//mailto:datasciencelearnershub@gmail.com)"
            ],
            "metadata": {
                "azdata_cell_guid": "2850be45-2c1e-4a7c-af99-316e3705ad83"
            },
            "attachments": {}
        },
        {
            "cell_type": "markdown",
            "source": [
                "## **# Mutable and Immutable Data types in Python**"
            ],
            "metadata": {
                "azdata_cell_guid": "10a56dbf-6574-4f1e-955d-c4dfe44d0056"
            },
            "attachments": {}
        },
        {
            "cell_type": "markdown",
            "source": [
                "### 1. What are Mutable and Immutable Datatypes in Python?\n",
                "\n",
                "In Python, data types are categorized into two main groups based on their mutability:\n",
                "\n",
                "- **Mutable Datatypes:** Objects of mutable data types can be modified after creation. Changes made to the object affect its content, and the object's identity remains the same.\n",
                "\n",
                "  Examples: Lists, Sets, Dictionaries.\n",
                "\n",
                "- **Immutable Datatypes:** Objects of immutable data types cannot be modified after creation. Any operation that appears to modify the object actually creates a new object with the modified content.\n",
                "\n",
                "  Examples: Integers, Floats, Strings, Tuples.\n",
                "\n",
                "### 2. Why do we Require Mutable and Immutable Datatypes in Programming Languages?\n",
                "\n",
                "- **Mutability and Immutability:** Choosing between mutable and immutable data types allows programmers to decide whether they want objects to be modifiable or remain constant.\n",
                "\n",
                "- **Safety:** Immutable objects are safer in multi-threaded environments since their values cannot be changed by other threads.\n",
                "\n",
                "- **Performance:** Immutable objects can be more efficient in certain scenarios, as they can be cached or used as keys in dictionaries.\n",
                "\n",
                "- **Predictability**: Mutable types allow for in-place modifications, enabling dynamic updates.\n",
                "\n",
                "- **Data integrity**: Immutable types guarantee that values remain consistent, preventing unintended side effects.\n",
                "\n",
                "### 3. What Happens When a Mutable and Immutable Datatypes is Executed/Interpreted?\n",
                "\n",
                "- **Mutable Datatypes:** Changes to mutable objects modify the existing object in place. The identity of the object remains the same.\n",
                "\n",
                "- **Immutable Datatypes:** Operations on immutable objects create new objects with modified content. The original object remains unchanged, and the modified object has a different identity.\n",
                "\n",
                "\n",
                "### 4. Examples of Mutable and Immutable Datatypes in Python:\n",
                "\n",
                "#### Mutable Datatype - List:\n",
                "\n",
                "```python\n",
                "my_list = [1, 2, 3]\n",
                "my_list[0] = 10\n",
                "print(\"Modified List:\", my_list)\n",
                "```\n",
                "\n",
                "#### Immutable Datatype - Tuple:\n",
                "\n",
                "```python\n",
                "my_tuple = (1, 2, 3)\n",
                "# Uncommenting the line below would result in an error\n",
                "# my_tuple[0] = 10  # Error: Tuples are immutable\n",
                "```\n",
                "\n",
                "### 5. Practical Application of Mutable and Immutable Datatypes in the Real World:\n",
                "\n",
                "- **Database Operations:** Immutable objects are commonly used in database operations, ensuring that data integrity is maintained.\n",
                "\n",
                "- **Configuration Settings:** Immutable objects are useful for storing configuration settings that should not be changed during runtime.\n",
                "\n",
                "- **Financial transactions**: Immutable records maintain accuracy and audit trails.\n",
                "\n",
                "### 6. Peculiarities and Considerations \n",
                "- **Hashability:** Immutable objects are hashable and can be used as keys in dictionaries. Mutable objects are not hashable.\n",
                "\n",
                "- **In-Place vs. New Objects:** Mutable objects allow in-place modifications, while immutable objects create new objects with modifications.\n",
                "\n",
                "- **Assignment**: Assigning a mutable object to a new variable creates a reference, not a copy.\n",
                "\n",
                "- **Modifying immutable objects**: Attempting to change them creates a new object instead.\n",
                "\n",
                "- Methods: Some mutable types offer methods to modify their contents (e.g., append() for lists).\n",
                "\n",
                "### 7. Common Mistakes \n",
                "\n",
                "- **Unexpected Modifications:** Forgetting that a data structure is mutable can lead to unexpected modifications and bugs.\n",
                "\n",
                "```python\n",
                "# Incorrect\n",
                "my_tuple = (1, 2, 3)\n",
                "# The line below mistakenly tries to modify the tuple\n",
                "# my_tuple[0] = 10  # Error: Tuples are immutable\n",
                "```\n",
                "\n",
                "- Assuming all data types are mutable.\n",
                "\n",
                "- Creating unintended object sharing through references.\n",
                ""
            ],
            "metadata": {
                "azdata_cell_guid": "ee60c47e-f3fe-42c9-87e8-fd2613a99f00"
            },
            "attachments": {}
        },
        {
            "cell_type": "markdown",
            "source": [
                "### 9. Hands On\n",
                "\n",
                "#### Question 1:\n",
                "Create a list and modify its second element to be double its original value.\n",
                "\n",
                "**Solution:**"
            ],
            "metadata": {
                "azdata_cell_guid": "84fc04dd-d27a-4587-9aa2-020bf81cb43e"
            },
            "attachments": {}
        },
        {
            "cell_type": "code",
            "source": [
                "my_list = [1, 2, 3]\n",
                "my_list[1] = my_list[1] * 2\n",
                "print(\"Modified List:\", my_list)"
            ],
            "metadata": {
                "azdata_cell_guid": "89f2d846-2c59-4ed6-8019-0e79849ac48b",
                "language": ""
            },
            "outputs": [
                {
                    "name": "stdout",
                    "text": "Modified List: [1, 4, 3]\n",
                    "output_type": "stream"
                }
            ],
            "execution_count": 1
        },
        {
            "cell_type": "markdown",
            "source": [
                "#### Question 2:\n",
                "Create a tuple and attempt to modify its first element. Explain the result.\n",
                "\n",
                "**Solution:**"
            ],
            "metadata": {
                "azdata_cell_guid": "6f8e1744-6610-44f1-ae17-4a89c98604ad"
            },
            "attachments": {}
        },
        {
            "cell_type": "code",
            "source": [
                "my_tuple = (1, 2, 3)\n",
                "# Uncommenting the line below would result in an error\n",
                "# my_tuple[0] = 10  # Error: Tuples are immutable"
            ],
            "metadata": {
                "azdata_cell_guid": "485fcc88-4835-47cb-aa4b-0c4d04d9a4bd",
                "language": "python"
            },
            "outputs": [],
            "execution_count": 2
        },
        {
            "cell_type": "markdown",
            "source": [
                "#### Question 3:\n",
                "Try to change a character in a string.\n",
                "\n",
                "**Solution:**"
            ],
            "metadata": {
                "language": "python",
                "azdata_cell_guid": "686be773-dcc7-4f77-b5f1-326f2ea9941a"
            },
            "attachments": {}
        },
        {
            "cell_type": "code",
            "source": [
                "name = \"Alice\"\n",
                "name[0] = \"B\"  # TypeError: 'str' object does not support item assignment\n",
                ""
            ],
            "metadata": {
                "language": "python",
                "azdata_cell_guid": "1227890a-525b-4e6f-9421-8a8bc3ef3a0c"
            },
            "outputs": [
                {
                    "traceback": [
                        "\u001b[0;31m---------------------------------------------------------------------------\u001b[0m",
                        "\u001b[0;31mTypeError\u001b[0m                                 Traceback (most recent call last)",
                        "Cell \u001b[0;32mIn[3], line 2\u001b[0m\n\u001b[1;32m      1\u001b[0m name \u001b[38;5;241m=\u001b[39m \u001b[38;5;124m\"\u001b[39m\u001b[38;5;124mAlice\u001b[39m\u001b[38;5;124m\"\u001b[39m\n\u001b[0;32m----> 2\u001b[0m name[\u001b[38;5;241m0\u001b[39m] \u001b[38;5;241m=\u001b[39m \u001b[38;5;124m\"\u001b[39m\u001b[38;5;124mB\u001b[39m\u001b[38;5;124m\"\u001b[39m\n",
                        "\u001b[0;31mTypeError\u001b[0m: 'str' object does not support item assignment"
                    ],
                    "ename": "TypeError",
                    "evalue": "'str' object does not support item assignment",
                    "output_type": "error"
                }
            ],
            "execution_count": 3
        },
        {
            "cell_type": "markdown",
            "source": [
                "#### Question 4:\n",
                "Create a tuple and try to add an element to it.\n",
                "\n",
                "**Solution:**"
            ],
            "metadata": {
                "language": "python",
                "azdata_cell_guid": "3fed51e1-b0f1-4028-a54f-1095c24ff7fe"
            },
            "attachments": {}
        },
        {
            "cell_type": "code",
            "source": [
                "coordinates = (10, 20)\n",
                "coordinates.append(30)  # AttributeError: 'tuple' object has no attribute 'append'\n",
                ""
            ],
            "metadata": {
                "language": "python",
                "azdata_cell_guid": "ffe72758-292d-4f97-9de9-67a6796d2370"
            },
            "outputs": [
                {
                    "traceback": [
                        "\u001b[0;31m---------------------------------------------------------------------------\u001b[0m",
                        "\u001b[0;31mAttributeError\u001b[0m                            Traceback (most recent call last)",
                        "Cell \u001b[0;32mIn[4], line 2\u001b[0m\n\u001b[1;32m      1\u001b[0m coordinates \u001b[38;5;241m=\u001b[39m (\u001b[38;5;241m10\u001b[39m, \u001b[38;5;241m20\u001b[39m)\n\u001b[0;32m----> 2\u001b[0m \u001b[43mcoordinates\u001b[49m\u001b[38;5;241;43m.\u001b[39;49m\u001b[43mappend\u001b[49m(\u001b[38;5;241m30\u001b[39m)\n",
                        "\u001b[0;31mAttributeError\u001b[0m: 'tuple' object has no attribute 'append'"
                    ],
                    "ename": "AttributeError",
                    "evalue": "'tuple' object has no attribute 'append'",
                    "output_type": "error"
                }
            ],
            "execution_count": 4
        },
        {
            "cell_type": "markdown",
            "source": [
                "#### Question 5:\n",
                "Copy a list and modify the copy without affecting the original.\n",
                "\n",
                "**Solution:**"
            ],
            "metadata": {
                "language": "python",
                "azdata_cell_guid": "b751d543-c3e9-4a71-92b1-a395e18316c8"
            },
            "attachments": {}
        },
        {
            "cell_type": "code",
            "source": [
                "original_list = [1, 2, 3]\n",
                "copied_list = original_list.copy()  # Create a new list\n",
                "copied_list[0] = 5\n",
                "print(original_list)  # Output: [1, 2, 3] (unchanged)\n",
                "print(copied_list)  # Output: [5, 2, 3]\n",
                ""
            ],
            "metadata": {
                "language": "python",
                "azdata_cell_guid": "5bbf9513-e92a-49c4-9506-e0ed49debcd4"
            },
            "outputs": [
                {
                    "name": "stdout",
                    "text": "[1, 2, 3]\n[5, 2, 3]\n",
                    "output_type": "stream"
                }
            ],
            "execution_count": 5
        },
        {
            "cell_type": "markdown",
            "source": [
                "#### Question 6:\n",
                "Use a string as a dictionary key and explain why it works.\n",
                "\n",
                "**Solution:**"
            ],
            "metadata": {
                "language": "python",
                "azdata_cell_guid": "d682dd02-aafd-4a55-9533-0ff9e35d919f"
            },
            "attachments": {}
        },
        {
            "cell_type": "code",
            "source": [
                "my_dict = {\"name\": \"John\", \"age\": 30}  # Strings are immutable keys\n",
                ""
            ],
            "metadata": {
                "language": "python",
                "azdata_cell_guid": "40909600-cdd0-4ce4-8815-48092a830361"
            },
            "outputs": [],
            "execution_count": 7
        },
        {
            "cell_type": "markdown",
            "source": [
                "### 10. Practice Questions\n",
                "\n",
                "#### Question 1:\n",
                "Create a dictionary with mutable and immutable values as keys. Observe the behavior.\n",
                "\n",
                "#### Question 2:\n",
                "Write a function that accepts a list and modifies it in place to remove duplicate elements.\n",
                "\n",
                "### 11. Do you know ?\n",
                "\n",
                "- **Heartbleed bug**: A security vulnerability in OpenSSL (C library) related to mutable memory management.\n",
                "\n",
                "- Immutable datatypes provide safety and consistency, making them suitable for scenarios where data integrity and stability are crucial.\n",
                "\n",
                "- Accidental modifications to mutable objects can lead to unexpected behavior and bugs in a program. It's essential to be aware of the mutability of data structures used in different parts of the code."
            ],
            "metadata": {
                "language": "python",
                "azdata_cell_guid": "7635da02-bfe0-4c56-895a-14fef35682e2"
            },
            "attachments": {}
        }
    ]
}