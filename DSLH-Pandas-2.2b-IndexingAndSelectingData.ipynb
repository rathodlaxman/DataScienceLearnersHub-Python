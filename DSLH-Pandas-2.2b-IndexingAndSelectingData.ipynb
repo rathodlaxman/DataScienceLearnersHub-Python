{
    "metadata": {
        "kernelspec": {
            "name": "python3",
            "display_name": "Python 3",
            "language": "python"
        },
        "language_info": {
            "name": "python",
            "version": "3.10.9",
            "mimetype": "text/x-python",
            "codemirror_mode": {
                "name": "ipython",
                "version": 3
            },
            "pygments_lexer": "ipython3",
            "nbconvert_exporter": "python",
            "file_extension": ".py"
        }
    },
    "nbformat_minor": 2,
    "nbformat": 4,
    "cells": [
        {
            "cell_type": "markdown",
            "source": [
                "# **`Data Science Learners Hub`**\n",
                "\n",
                "**Module : Python**\n",
                "\n",
                "**email** : [datasciencelearnershub@gmail.com](mailto:datasciencelearnershub@gmail.com)"
            ],
            "metadata": {
                "azdata_cell_guid": "aa3f7673-b9b1-4851-8522-db9bfc2151b4"
            },
            "attachments": {}
        },
        {
            "cell_type": "markdown",
            "source": [
                "## **`#2: DataFrames in Depth`**\n",
                "\n",
                "4. **Creating DataFrames**\n",
                "    \n",
                "    - From lists, dictionaries, and arrays\n",
                "    - Reading data from CSV, Excel, and other formats\n",
                "5. **Basic DataFrame Operations**\n",
                "    \n",
                "    - Inspecting the DataFrame\n",
                "    - Indexing and selecting data\n",
                "    - Descriptive statistics\n",
                "6. **Data Cleaning and Handling Missing Data**\n",
                "    \n",
                "    - Handling missing values\n",
                "    - Dropping or filling missing values\n",
                "    - Removing duplicates"
            ],
            "metadata": {
                "azdata_cell_guid": "fba658d7-85c3-4e88-8feb-b632b9d2266e"
            },
            "attachments": {}
        },
        {
            "cell_type": "markdown",
            "source": [
                "### **`5. Basic DataFrame Operations`**"
            ],
            "metadata": {
                "azdata_cell_guid": "4294f58f-5258-4182-b804-f389aa87e471"
            },
            "attachments": {}
        },
        {
            "cell_type": "markdown",
            "source": [
                "#### **`Indexing and Selecting Data in a DataFrame`**\n",
                "\n",
                "**Introduction:**\n",
                "Indexing and selecting data in a Pandas DataFrame are fundamental operations for extracting specific subsets of information. Two main methods for this purpose are `loc[]` and `iloc[]`. In this prompt, we'll explore these methods and provide examples of conditional indexing and boolean indexing."
            ],
            "metadata": {
                "azdata_cell_guid": "98738c2a-7052-4847-b607-51eb6a266862"
            },
            "attachments": {}
        },
        {
            "cell_type": "markdown",
            "source": [
                "**Using `loc[]` for Label-Based Indexing:**"
            ],
            "metadata": {
                "azdata_cell_guid": "80319575-4bdb-4775-bfeb-a8aa0a08a854"
            },
            "attachments": {}
        },
        {
            "cell_type": "markdown",
            "source": [
                "1. **Selecting Rows by Label:**\n",
                "   - Use `loc[]` to select rows based on their labels (index values):"
            ],
            "metadata": {
                "azdata_cell_guid": "22238360-fa24-4b9e-918a-5c31903c860b"
            },
            "attachments": {}
        },
        {
            "cell_type": "code",
            "source": [
                "import pandas as pd\n",
                "\n",
                "# Read the CSV file without setting index\n",
                "df = pd.read_csv('data.csv')\n",
                "\n",
                "# Display the DataFrame to inspect its structure\n",
                "print(df)\n",
                "\n",
                "# Set 'ID' column as the index\n",
                "# df = pd.read_csv('data.csv', index_col='ID')\n",
                "\n",
                "# Try to select the row with index 2\n",
                "selected_row = df.loc[2]\n",
                "print(selected_row)\n",
                ""
            ],
            "metadata": {
                "language": "python",
                "azdata_cell_guid": "31ad02d3-d597-4620-a45a-2c91a16a0979"
            },
            "outputs": [
                {
                    "output_type": "stream",
                    "name": "stdout",
                    "text": "      Name  Age          City\n0   Laxman   25          Pune\n1   Rajesh   30     Hyderabad\n2      Ram   22  Mahabubnagar\n3    Ganga   32  Mahabubnagar\n4   Jamuna   32          Pune\n5  Namrata   15          Pune\n6   Varsha   16     Hyderabad\n7   Vamshi   22     Hyderabad\n8   Ananya   14  Mahabubnagar\nName             Ram\nAge               22\nCity    Mahabubnagar\nName: 2, dtype: object\n"
                }
            ],
            "execution_count": 1
        },
        {
            "cell_type": "markdown",
            "source": [
                "2. **Selecting Specific Columns for a Row:**\n",
                "   - Specify both row label and column label to select a specific value:"
            ],
            "metadata": {
                "language": "python",
                "azdata_cell_guid": "17a832cd-80f9-4f8b-b5d1-dfd904cc5b4e"
            },
            "attachments": {}
        },
        {
            "cell_type": "code",
            "source": [
                "specific_value = df.loc[2, 'Name']  # Select 'Name' for row with index 2\n",
                "print(specific_value)"
            ],
            "metadata": {
                "language": "python",
                "azdata_cell_guid": "261458f3-a0d2-4c9c-b73a-f493e52dfadc",
                "tags": []
            },
            "outputs": [
                {
                    "output_type": "stream",
                    "name": "stdout",
                    "text": "Ram\n"
                }
            ],
            "execution_count": 2
        },
        {
            "cell_type": "markdown",
            "source": [
                "3. **Slicing Rows:**\n",
                "   - Use slicing with labels to select a range of rows:"
            ],
            "metadata": {
                "language": "python",
                "azdata_cell_guid": "fd7aca30-a437-48af-922b-2301ee9fd6e1"
            },
            "attachments": {}
        },
        {
            "cell_type": "code",
            "source": [
                "sliced_rows = df.loc[2:5]  # Select rows with indices 2 to 5 (inclusive)\n",
                "print(sliced_rows)"
            ],
            "metadata": {
                "language": "python",
                "azdata_cell_guid": "9bf0c760-65a3-4a64-9e63-8ebe49e53519"
            },
            "outputs": [
                {
                    "output_type": "stream",
                    "name": "stdout",
                    "text": "      Name  Age          City\n2      Ram   22  Mahabubnagar\n3    Ganga   32  Mahabubnagar\n4   Jamuna   32          Pune\n5  Namrata   15          Pune\n"
                }
            ],
            "execution_count": 3
        },
        {
            "cell_type": "markdown",
            "source": [
                "#### Explanation fr why stop is inclusive in slicing in case of loc[]\n",
                "\n",
                "In the code snippet below:\n",
                "\n",
                "```python\n",
                "sliced_rows = df.loc[2:5]  # Select rows with indices 2 to 5 (inclusive)\n",
                "print(sliced_rows)\n",
                "```\n",
                "\n",
                "- `df`: This is assumed to be a Pandas DataFrame.\n",
                "- `loc`: This is a method in Pandas used for label-based indexing. It is not a function or constant. The `loc` method is primarily used to access a group of rows and columns by labels or a boolean array. In this case, it is used to select rows with index labels ranging from 2 to 5 (inclusive).\n",
                "\n",
                "The syntax for the `loc` method generally follows the pattern `df.loc[row_indexer, column_indexer]`, where `row_indexer` is used to specify the rows you want to select based on their labels.\n",
                "\n",
                "Regarding your question about slicing:\n",
                "\n",
                "While in general Python slicing uses a stop value that is exclusive, Pandas' `loc` method is designed to be inclusive for both the start and stop values. When using `loc` for label-based indexing, both the start and stop values are considered inclusive. So, in the expression `df.loc[2:5]`, it will select rows with index labels 2, 3, 4, and 5.\n",
                "\n",
                "In contrast, if you were using integer-based indexing or slicing with `iloc`, the stop value would be exclusive, following the standard Python slicing convention. However, with `loc`, which is label-based, inclusivity is maintained for consistency and to avoid potential confusion when working with labeled data."
            ],
            "metadata": {
                "language": "python",
                "azdata_cell_guid": "2b2b4517-d3e6-41c6-b058-9823a2420c5c"
            },
            "attachments": {}
        },
        {
            "cell_type": "markdown",
            "source": [
                "#### Is loc[] a function or constant or attribute ?\n",
                "\n",
                "In Python, methods and attributes are accessed without parentheses in certain cases. This is because, in some contexts, you are accessing the method or attribute itself, not invoking it.\n",
                "\n",
                "In the case of Pandas' `loc`, it is used for label-based indexing, and when you use it, you're providing labels to select specific rows and columns. It doesn't require parentheses because you're not calling or invoking the method; you're using it to perform a specific operation.\n",
                "\n",
                "Here's a brief explanation:\n",
                "\n",
                "- **Accessing Method or Attribute**: When you access a method or attribute without using parentheses, you are referring to the method or attribute itself, not calling or executing it.\n",
                "\n",
                "- **Calling or Invoking Method**: When you use parentheses, you are invoking or calling the method, executing the code associated with that method.\n",
                "\n",
                "In the case of Pandas' `loc`, consider the following:\n",
                "\n",
                "- **Accessing the Method (without parentheses)**:\n",
                "  ```python\n",
                "  selected_rows = df.loc[2:5]  # accessing the loc method, not invoking it\n",
                "  ```\n",
                "\n",
                "- **Calling the Method (with parentheses)**:\n",
                "  ```python\n",
                "  selected_rows = df.loc[2:5]()  # would be incorrect; loc is not called with parentheses in this context\n",
                "  ```\n",
                "\n",
                "So, `df.loc[2:5]` is using the `loc` method to select rows based on labels, and the absence of parentheses is consistent with the way Pandas designed the label-based indexing syntax."
            ],
            "metadata": {
                "language": "python",
                "azdata_cell_guid": "89bd37b8-f62d-4e4a-b04d-d6596228b540"
            },
            "attachments": {}
        },
        {
            "cell_type": "markdown",
            "source": [
                "4. **Selecting Rows and Columns Simultaneously:**\n",
                "   - Use `loc[]` to select specific rows and columns:"
            ],
            "metadata": {
                "language": "python",
                "azdata_cell_guid": "d1b7aee7-316f-46cc-b8bb-c06d29563e28"
            },
            "attachments": {}
        },
        {
            "cell_type": "code",
            "source": [
                "selected_data = df.loc[2:5, ['Name', 'Age']]\n",
                "print(selected_data)"
            ],
            "metadata": {
                "language": "python",
                "azdata_cell_guid": "891e47a1-23fd-4530-b07a-e49e5e679f07",
                "tags": []
            },
            "outputs": [
                {
                    "output_type": "stream",
                    "name": "stdout",
                    "text": "      Name  Age\n2      Ram   22\n3    Ganga   32\n4   Jamuna   32\n5  Namrata   15\n"
                }
            ],
            "execution_count": 4
        },
        {
            "cell_type": "code",
            "source": [
                "selected_data = df.loc[2:5, ['Age', 'Name']]\n",
                "print(selected_data)\n",
                "\n",
                "# Note Order of columns dosent matter"
            ],
            "metadata": {
                "azdata_cell_guid": "0d7ec36a-cfc5-45b6-a6b1-07d81e8bb382",
                "language": "python"
            },
            "outputs": [
                {
                    "output_type": "stream",
                    "name": "stdout",
                    "text": "   Age     Name\n2   22      Ram\n3   32    Ganga\n4   32   Jamuna\n5   15  Namrata\n"
                }
            ],
            "execution_count": 5
        },
        {
            "cell_type": "code",
            "source": [
                "selected_data = df.loc[[3,2,5], ['Age', 'Name']]\n",
                "print(selected_data)\n",
                "\n",
                "# Note : We can also select rows selectively"
            ],
            "metadata": {
                "language": "python",
                "azdata_cell_guid": "0cf7a9c8-da86-4643-81af-3e7c1d38b26d"
            },
            "outputs": [
                {
                    "output_type": "stream",
                    "name": "stdout",
                    "text": "   Age     Name\n3   32    Ganga\n2   22      Ram\n5   15  Namrata\n"
                }
            ],
            "execution_count": 7
        },
        {
            "cell_type": "markdown",
            "source": [
                "**Using `iloc[]` for Position-Based Indexing:**"
            ],
            "metadata": {
                "azdata_cell_guid": "882fbe41-d458-495e-bfe1-89f598f37430"
            },
            "attachments": {}
        },
        {
            "cell_type": "markdown",
            "source": [
                "1. **Selecting Rows by Position:**\n",
                "   - Use `iloc[]` to select rows based on their integer positions:"
            ],
            "metadata": {
                "azdata_cell_guid": "7925578e-83d5-4cd2-be5a-2fdd27c1818a"
            },
            "attachments": {}
        },
        {
            "cell_type": "code",
            "source": [
                "print(df)\n",
                "print(\"-------------\")\n",
                "selected_row_position = df.iloc[1]  # Select the second row (position 1)\n",
                "print(selected_row_position)"
            ],
            "metadata": {
                "azdata_cell_guid": "11c57a45-8b8e-4182-a27a-7604a279ad33",
                "language": "python"
            },
            "outputs": [
                {
                    "output_type": "stream",
                    "name": "stdout",
                    "text": "      Name  Age          City\n0   Laxman   25          Pune\n1   Rajesh   30     Hyderabad\n2      Ram   22  Mahabubnagar\n3    Ganga   32  Mahabubnagar\n4   Jamuna   32          Pune\n5  Namrata   15          Pune\n6   Varsha   16     Hyderabad\n7   Vamshi   22     Hyderabad\n8   Ananya   14  Mahabubnagar\n-------------\nName       Rajesh\nAge            30\nCity    Hyderabad\nName: 1, dtype: object\n"
                }
            ],
            "execution_count": 28
        },
        {
            "cell_type": "markdown",
            "source": [
                "2. **Selecting Specific Columns for a Row by Position:**\n",
                "   - Specify both row position and column position to select a specific value:"
            ],
            "metadata": {
                "language": "python",
                "azdata_cell_guid": "afb85725-d1ab-4b6f-966c-f63ff6303d77"
            },
            "attachments": {}
        },
        {
            "cell_type": "code",
            "source": [
                "specific_value_position = df.iloc[1, 0]  # Select the first column for the second row\n",
                "print(specific_value_position)"
            ],
            "metadata": {
                "language": "python",
                "azdata_cell_guid": "eaaacad6-fc7f-4446-add4-09b672629f1e"
            },
            "outputs": [
                {
                    "output_type": "stream",
                    "name": "stdout",
                    "text": "Rajesh\n"
                }
            ],
            "execution_count": 25
        },
        {
            "cell_type": "markdown",
            "source": [
                "3. **Slicing Rows by Position:**\n",
                "   - Use slicing with integer positions to select a range of rows:"
            ],
            "metadata": {
                "language": "python",
                "azdata_cell_guid": "a654eb48-c9a7-46a8-95a2-36e3959ef7e0"
            },
            "attachments": {}
        },
        {
            "cell_type": "code",
            "source": [
                "sliced_rows_position = df.iloc[1:4]  # Select rows with positions 1 to 3\n",
                "print(sliced_rows_position)"
            ],
            "metadata": {
                "language": "python",
                "azdata_cell_guid": "6056e3c5-3678-4c3b-95e2-2bcdf2ae1076"
            },
            "outputs": [
                {
                    "output_type": "stream",
                    "name": "stdout",
                    "text": "     Name  Age          City\n1  Rajesh   30     Hyderabad\n2     Ram   22  Mahabubnagar\n3   Ganga   32  Mahabubnagar\n"
                }
            ],
            "execution_count": 26
        },
        {
            "cell_type": "markdown",
            "source": [
                "4. **Selecting Rows and Columns Simultaneously by Position:**\n",
                "   - Use `iloc[]` to select specific rows and columns by position:"
            ],
            "metadata": {
                "language": "python",
                "azdata_cell_guid": "d30ce138-1902-4e91-b155-af09ba45363d"
            },
            "attachments": {}
        },
        {
            "cell_type": "code",
            "source": [
                "selected_data_position = df.iloc[1:4, [0, 1]]\n",
                "print(selected_data_position)"
            ],
            "metadata": {
                "language": "python",
                "azdata_cell_guid": "686424a9-f4b9-436b-86bf-3650fbc19564"
            },
            "outputs": [
                {
                    "output_type": "stream",
                    "name": "stdout",
                    "text": "     Name  Age\n1  Rajesh   30\n2     Ram   22\n3   Ganga   32\n"
                }
            ],
            "execution_count": 29
        },
        {
            "cell_type": "markdown",
            "source": [
                "**Conditional Indexing and Boolean Indexing:**"
            ],
            "metadata": {
                "language": "python",
                "azdata_cell_guid": "aa992996-5a8d-45e2-accc-69d2c6f2b72c"
            },
            "attachments": {}
        },
        {
            "cell_type": "markdown",
            "source": [
                "1. **Conditional Indexing:**\n",
                "   - Use boolean conditions to filter rows based on a specific criterion:"
            ],
            "metadata": {
                "language": "python",
                "azdata_cell_guid": "68c06e23-2278-4093-a1f9-9fddca8cbd9d"
            },
            "attachments": {}
        },
        {
            "cell_type": "code",
            "source": [
                "condition = df['Age'] > 30\n",
                "conditionally_selected = df.loc[condition]\n",
                "print(conditionally_selected)"
            ],
            "metadata": {
                "language": "python",
                "azdata_cell_guid": "872edde2-eb0f-42e9-bb32-3bc377ee3c21"
            },
            "outputs": [
                {
                    "output_type": "stream",
                    "name": "stdout",
                    "text": "     Name  Age          City\n3   Ganga   32  Mahabubnagar\n4  Jamuna   32          Pune\n"
                }
            ],
            "execution_count": 30
        },
        {
            "cell_type": "markdown",
            "source": [
                "2. **Boolean Indexing:**\n",
                "   - Use boolean arrays directly for filtering:"
            ],
            "metadata": {
                "language": "python",
                "azdata_cell_guid": "8b471744-f519-4487-87e3-ca6bc5fc8433"
            },
            "attachments": {}
        },
        {
            "cell_type": "code",
            "source": [
                "boolean_selected = df[df['Age'] > 30]\n",
                "print(boolean_selected)"
            ],
            "metadata": {
                "language": "python",
                "azdata_cell_guid": "7b136498-b0a0-4387-a517-8261fe8c6039"
            },
            "outputs": [
                {
                    "output_type": "stream",
                    "name": "stdout",
                    "text": "     Name  Age          City\n3   Ganga   32  Mahabubnagar\n4  Jamuna   32          Pune\n"
                }
            ],
            "execution_count": 31
        },
        {
            "cell_type": "markdown",
            "source": [
                "**Conclusion:**\n",
                "Indexing and selecting data in a Pandas DataFrame using `loc[]` and `iloc[]` are powerful techniques. These methods allow you to retrieve specific rows and columns based on labels or positions. Additionally, conditional indexing and boolean indexing enable you to filter data efficiently based on specific criteria."
            ],
            "metadata": {
                "language": "python",
                "azdata_cell_guid": "bfd45e41-e36d-4752-95bd-c25ff892db07"
            },
            "attachments": {}
        },
        {
            "cell_type": "markdown",
            "source": [
                "#### Example:\n",
                ""
            ],
            "metadata": {
                "language": "python",
                "azdata_cell_guid": "b2d81cb0-1669-4c54-8f49-347407f534a6"
            },
            "attachments": {}
        },
        {
            "cell_type": "code",
            "source": [
                "import pandas as pd\n",
                "\n",
                "# Creating a sample DataFrame\n",
                "data = {\n",
                "    'Name': ['Laxman', 'Rajesh', 'Chanakya', 'Dravid', 'Emanuel'],\n",
                "    'Age': [25, 30, 35, 22, 28],\n",
                "    'Salary': [50000, 60000, 75000, 48000, 55000],\n",
                "    'Experience': [3, 5, 8, 2, 4],\n",
                "}\n",
                "\n",
                "df = pd.DataFrame(data)\n",
                "df.set_index('Name', inplace=True)  # Set 'Name' column as the index\n",
                "\n",
                "# Using loc[] for Label-Based Indexing\n",
                "selected_row = df.loc['Rajesh']\n",
                "specific_value = df.loc['Rajesh', 'Age']\n",
                "sliced_rows = df.loc['Rajesh':'Dravid']\n",
                "selected_data = df.loc[['Rajesh', 'Dravid'], ['Age', 'Salary']]\n",
                "\n",
                "# Using iloc[] for Position-Based Indexing\n",
                "selected_row_position = df.iloc[1]\n",
                "specific_value_position = df.iloc[1, 0]\n",
                "sliced_rows_position = df.iloc[1:4]\n",
                "selected_data_position = df.iloc[1:4, [0, 1]]\n",
                "\n",
                "# Conditional Indexing and Boolean Indexing\n",
                "condition = df['Age'] > 30\n",
                "conditionally_selected = df.loc[condition]\n",
                "boolean_selected = df[df['Age'] > 30]\n",
                "\n",
                "# Displaying the results\n",
                "print(\"Using loc[] for Label-Based Indexing:\")\n",
                "print(\"Selected Row:\\n\", selected_row)\n",
                "print(\"Specific Value:\\n\", specific_value)\n",
                "print(\"Sliced Rows:\\n\", sliced_rows)\n",
                "print(\"Selected Data:\\n\", selected_data)\n",
                "\n",
                "print(\"\\nUsing iloc[] for Position-Based Indexing:\")\n",
                "print(\"Selected Row by Position:\\n\", selected_row_position)\n",
                "print(\"Specific Value by Position:\\n\", specific_value_position)\n",
                "print(\"Sliced Rows by Position:\\n\", sliced_rows_position)\n",
                "print(\"Selected Data by Position:\\n\", selected_data_position)\n",
                "\n",
                "print(\"\\nConditional Indexing and Boolean Indexing:\")\n",
                "print(\"Conditionally Selected:\\n\", conditionally_selected)\n",
                "print(\"Boolean Selected:\\n\", boolean_selected)\n",
                ""
            ],
            "metadata": {
                "language": "python",
                "azdata_cell_guid": "218108e5-28ab-43e3-a20a-15a63ffe5ae1"
            },
            "outputs": [
                {
                    "output_type": "stream",
                    "name": "stdout",
                    "text": "Using loc[] for Label-Based Indexing:\nSelected Row:\n Age              30\nSalary        60000\nExperience        5\nName: Rajesh, dtype: int64\nSpecific Value:\n 30\nSliced Rows:\n           Age  Salary  Experience\nName                             \nRajesh     30   60000           5\nChanakya   35   75000           8\nDravid     22   48000           2\nSelected Data:\n         Age  Salary\nName               \nRajesh   30   60000\nDravid   22   48000\n\nUsing iloc[] for Position-Based Indexing:\nSelected Row by Position:\n Age              30\nSalary        60000\nExperience        5\nName: Rajesh, dtype: int64\nSpecific Value by Position:\n 30\nSliced Rows by Position:\n           Age  Salary  Experience\nName                             \nRajesh     30   60000           5\nChanakya   35   75000           8\nDravid     22   48000           2\nSelected Data by Position:\n           Age  Salary\nName                 \nRajesh     30   60000\nChanakya   35   75000\nDravid     22   48000\n\nConditional Indexing and Boolean Indexing:\nConditionally Selected:\n           Age  Salary  Experience\nName                             \nChanakya   35   75000           8\nBoolean Selected:\n           Age  Salary  Experience\nName                             \nChanakya   35   75000           8\n"
                }
            ],
            "execution_count": 33
        },
        {
            "cell_type": "markdown",
            "source": [
                "#### Real-world Scenario:\n",
                "Imagine you have a dataset containing information about employees in a company, including their ID, name, department, salary, and performance ratings. You want to perform various operations to analyze and extract specific information about employees."
            ],
            "metadata": {
                "azdata_cell_guid": "e06d1c8c-798b-4e19-8f16-9e1443a0c583"
            },
            "attachments": {}
        },
        {
            "cell_type": "code",
            "source": [
                "import pandas as pd\n",
                "\n",
                "# Sample employee data\n",
                "employee_data = {\n",
                "    'EmployeeID': [101, 102, 103, 104, 105],\n",
                "    'Name': ['Radhika', 'Shanaya', 'Khushi', 'Bhanu', 'Swapna'],\n",
                "    'Department': ['HR', 'IT', 'Sales', 'Finance', 'Marketing'],\n",
                "    'Salary': [60000, 75000, 80000, 90000, 70000],\n",
                "    'PerformanceRating': [8.5, 9.2, 7.8, 8.9, 9.5],\n",
                "}\n",
                "\n",
                "# Creating a DataFrame from the employee data\n",
                "df_employees = pd.DataFrame(employee_data)\n",
                "\n",
                "# Indexing and selecting data\n",
                "selected_employee = df_employees.loc[df_employees['Name'] == 'Khushi']\n",
                "high_performance_employees = df_employees[df_employees['PerformanceRating'] > 9.0]\n",
                "selected_columns = df_employees.loc[:, ['Name', 'Department', 'Salary']]\n",
                "\n",
                "# Displaying the selected data\n",
                "print(\"Selected Employee (Khushi):\\n\", selected_employee)\n",
                "print(\"\\nHigh-Performance Employees:\\n\", high_performance_employees)\n",
                "print(\"\\nSelected Columns:\\n\", selected_columns)\n",
                ""
            ],
            "metadata": {
                "azdata_cell_guid": "9ce9ef8b-2fcd-41ac-9307-efd675d65ded",
                "language": "python"
            },
            "outputs": [
                {
                    "output_type": "stream",
                    "name": "stdout",
                    "text": "Selected Employee (Khushi):\n    EmployeeID    Name Department  Salary  PerformanceRating\n2         103  Khushi      Sales   80000                7.8\n\nHigh-Performance Employees:\n    EmployeeID     Name Department  Salary  PerformanceRating\n1         102  Shanaya         IT   75000                9.2\n4         105   Swapna  Marketing   70000                9.5\n\nSelected Columns:\n       Name Department  Salary\n0  Radhika         HR   60000\n1  Shanaya         IT   75000\n2   Khushi      Sales   80000\n3    Bhanu    Finance   90000\n4   Swapna  Marketing   70000\n"
                }
            ],
            "execution_count": 9
        },
        {
            "cell_type": "markdown",
            "source": [
                "#### Considerations or Peculiarities:\n",
                "\n",
                "- **Indexing Choice:** Choose an appropriate column as the index based on your analysis needs. It could be a unique identifier like employee ID or another column that is relevant to your analysis.\n",
                "\n",
                "- **Boolean Indexing:** Understand how to use boolean indexing effectively. It allows you to filter data based on conditions, as shown in the example with high-performance employees.\n",
                "\n",
                "- **Column Selection:** Be mindful of the columns you select. If you only need specific columns, it's more efficient to select those rather than the entire DataFrame.\n",
                "\n",
                "#### Common Mistakes:\n",
                "\n",
                "- **Incorrect Syntax:** Incorrect use of square brackets, parentheses, or quotation marks in the indexing conditions can lead to errors. Always double-check syntax.\n",
                "\n",
                "- **Using `==` for Float Comparison:** When comparing float values, be cautious due to potential precision issues. Using methods like `np.isclose()` is recommended for float comparisons.\n",
                "\n",
                "- **Misunderstanding Boolean Indexing:** Developers may mistakenly think that boolean indexing is limited to exact matches, but it can be used for various conditions.\n",
                "\n",
                "Indexing and selecting data are crucial skills for extracting relevant information from a DataFrame. Adjust the example code and considerations based on the specifics of your real-world scenarios and datasets.\n",
                ""
            ],
            "metadata": {
                "azdata_cell_guid": "d2fc728c-09f3-4184-9d46-72ef7b33850d"
            },
            "attachments": {}
        }
    ]
}