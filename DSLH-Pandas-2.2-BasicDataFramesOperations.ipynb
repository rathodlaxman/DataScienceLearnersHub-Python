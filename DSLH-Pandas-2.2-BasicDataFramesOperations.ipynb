{
    "metadata": {
        "kernelspec": {
            "name": "python3",
            "display_name": "Python 3",
            "language": "python"
        },
        "language_info": {
            "name": "python",
            "version": "3.10.9",
            "mimetype": "text/x-python",
            "codemirror_mode": {
                "name": "ipython",
                "version": 3
            },
            "pygments_lexer": "ipython3",
            "nbconvert_exporter": "python",
            "file_extension": ".py"
        }
    },
    "nbformat_minor": 2,
    "nbformat": 4,
    "cells": [
        {
            "cell_type": "markdown",
            "source": [
                "# **`Data Science Learners Hub`**\n",
                "\n",
                "**Module : Python**\n",
                "\n",
                "**email** : [datasciencelearnershub@gmail.com](mailto:datasciencelearnershub@gmail.com)"
            ],
            "metadata": {
                "azdata_cell_guid": "aa3f7673-b9b1-4851-8522-db9bfc2151b4"
            },
            "attachments": {}
        },
        {
            "cell_type": "markdown",
            "source": [
                "## **`#2: DataFrames in Depth`**\n",
                "\n",
                "4. **Creating DataFrames**\n",
                "    \n",
                "    - From lists, dictionaries, and arrays\n",
                "    - Reading data from CSV, Excel, and other formats\n",
                "5. **Basic DataFrame Operations**\n",
                "    \n",
                "    - Inspecting the DataFrame\n",
                "    - Indexing and selecting data\n",
                "    - Descriptive statistics\n",
                "6. **Data Cleaning and Handling Missing Data**\n",
                "    \n",
                "    - Handling missing values\n",
                "    - Dropping or filling missing values\n",
                "    - Removing duplicates"
            ],
            "metadata": {
                "azdata_cell_guid": "fba658d7-85c3-4e88-8feb-b632b9d2266e"
            },
            "attachments": {}
        },
        {
            "cell_type": "markdown",
            "source": [
                "### **`5. Basic DataFrame Operations`**"
            ],
            "metadata": {
                "azdata_cell_guid": "4294f58f-5258-4182-b804-f389aa87e471"
            },
            "attachments": {}
        },
        {
            "cell_type": "markdown",
            "source": [
                "#### **`Inspecting the DataFrame`**\n",
                "\n",
                "**Introduction:**\n",
                "Inspecting a DataFrame is an essential step in understanding its structure and contents. Pandas provides several methods that allow you to gain insights into the data quickly. In this prompt, we'll explore common methods such as `head()`, `tail()`, `info()`, `shape`, and `describe()`."
            ],
            "metadata": {
                "azdata_cell_guid": "2e1aab93-68d7-4317-a866-9b0474f14d00"
            },
            "attachments": {}
        },
        {
            "cell_type": "markdown",
            "source": [
                "**Using `head()` and `tail()`:**\n",
                "\n",
                "1. **`head(n)`:**\n",
                "   - The `head()` method displays the first `n` rows of the DataFrame. It is useful for quickly getting an overview of the dataset."
            ],
            "metadata": {
                "azdata_cell_guid": "82323113-28f3-4b6f-8e70-81bd164551c2"
            },
            "attachments": {}
        },
        {
            "cell_type": "code",
            "source": [
                "import pandas as pd\n",
                "\n",
                "df = pd.read_csv('data.csv')\n",
                "df_head = df.head(5)  # Display the first 5 rows\n",
                "\n",
                "print(df_head)"
            ],
            "metadata": {
                "azdata_cell_guid": "9e0cf005-773c-4700-9341-e1cae483f889",
                "language": "python"
            },
            "outputs": [
                {
                    "output_type": "stream",
                    "name": "stdout",
                    "text": "     Name  Age          City\n0  Laxman   25          Pune\n1  Rajesh   30     Hyderabad\n2     Ram   22  Mahabubnagar\n3   Ganga   32  Mahabubnagar\n4  Jamuna   32          Pune\n"
                }
            ],
            "execution_count": 2
        },
        {
            "cell_type": "markdown",
            "source": [
                "2. **`tail(n)`:**\n",
                "   - The `tail()` method shows the last `n` rows of the DataFrame, allowing you to inspect the end of the dataset."
            ],
            "metadata": {
                "language": "python",
                "azdata_cell_guid": "e18d9af1-6b2c-416c-9f35-83543db3497e"
            },
            "attachments": {}
        },
        {
            "cell_type": "code",
            "source": [
                "df_tail = df.tail(5)  # Display the last 5 rows\n",
                "\n",
                "print(df_tail)"
            ],
            "metadata": {
                "language": "python",
                "azdata_cell_guid": "c90d95c3-c830-4cd1-b5f5-6edd11571024"
            },
            "outputs": [
                {
                    "output_type": "stream",
                    "name": "stdout",
                    "text": "      Name  Age          City\n4   Jamuna   32          Pune\n5  Namrata   15          Pune\n6   Varsha   16     Hyderabad\n7   Vamshi   22     Hyderabad\n8   Ananya   14  Mahabubnagar\n"
                }
            ],
            "execution_count": 3
        },
        {
            "cell_type": "markdown",
            "source": [
                "**Using `info()`:**\n",
                "\n",
                "1. **`info()`:**\n",
                "   - The `info()` method provides a concise summary of the DataFrame, including the data types, non-null counts, and memory usage."
            ],
            "metadata": {
                "language": "python",
                "azdata_cell_guid": "52d9a6b5-428b-42e8-8038-4fadfb5c2e66"
            },
            "attachments": {}
        },
        {
            "cell_type": "code",
            "source": [
                "df_info = df.info()\n",
                "\n",
                "print(df_info)"
            ],
            "metadata": {
                "language": "python",
                "azdata_cell_guid": "3d9ddcc4-422b-4198-9276-1d5706b15d7e"
            },
            "outputs": [
                {
                    "output_type": "stream",
                    "name": "stdout",
                    "text": "<class 'pandas.core.frame.DataFrame'>\nRangeIndex: 9 entries, 0 to 8\nData columns (total 3 columns):\n #   Column  Non-Null Count  Dtype \n---  ------  --------------  ----- \n 0   Name    9 non-null      object\n 1   Age     9 non-null      int64 \n 2   City    9 non-null      object\ndtypes: int64(1), object(2)\nmemory usage: 344.0+ bytes\nNone\n"
                }
            ],
            "execution_count": 4
        },
        {
            "cell_type": "markdown",
            "source": [
                "**Using `shape`:**\n",
                "\n",
                "1. **`shape`:**\n",
                "   - The `shape` attribute returns a tuple representing the dimensions of the DataFrame (number of rows, number of columns)."
            ],
            "metadata": {
                "language": "python",
                "azdata_cell_guid": "7886feab-810a-47f0-93d4-2ca0b15f8f2a"
            },
            "attachments": {}
        },
        {
            "cell_type": "code",
            "source": [
                "df_shape = df.shape\n",
                "\n",
                "print(df_shape)"
            ],
            "metadata": {
                "language": "python",
                "azdata_cell_guid": "250a23b3-00ca-4cfa-a9b5-01d6107b9fc5"
            },
            "outputs": [
                {
                    "output_type": "stream",
                    "name": "stdout",
                    "text": "(9, 3)\n"
                }
            ],
            "execution_count": 5
        },
        {
            "cell_type": "markdown",
            "source": [
                "**Using `describe()`:**\n",
                "\n",
                "1. **`describe()`:**\n",
                "   - The `describe()` method generates descriptive statistics, including measures of central tendency, dispersion, and shape of the distribution."
            ],
            "metadata": {
                "language": "python",
                "azdata_cell_guid": "fc542a0b-15b4-4f00-85fc-dd1baf3582cc"
            },
            "attachments": {}
        },
        {
            "cell_type": "code",
            "source": [
                "df_describe = df.describe()\n",
                "\n",
                "print(df_describe)\n",
                "\n",
                "# Note : In the output only numerical columns are displayed\n",
                "# Name, City are not displayed "
            ],
            "metadata": {
                "language": "python",
                "azdata_cell_guid": "fa2553c9-994f-4198-84be-d5d6eb29452f"
            },
            "outputs": [
                {
                    "output_type": "stream",
                    "name": "stdout",
                    "text": "             Age\ncount   9.000000\nmean   23.111111\nstd     7.166667\nmin    14.000000\n25%    16.000000\n50%    22.000000\n75%    30.000000\nmax    32.000000\n"
                }
            ],
            "execution_count": 6
        },
        {
            "cell_type": "markdown",
            "source": [
                "2. **Customizing `describe()`:**\n",
                "   - You can customize the output of `describe()` to include specific percentiles or types of statistics."
            ],
            "metadata": {
                "language": "python",
                "azdata_cell_guid": "aa1cedb0-00b8-47ca-983f-f57071a65b9b"
            },
            "attachments": {}
        },
        {
            "cell_type": "code",
            "source": [
                "custom_describe = df.describe(percentiles=[0.386, 0.5, 0.618, 0.786], include='all')\n",
                "\n",
                "print(custom_describe)"
            ],
            "metadata": {
                "language": "python",
                "azdata_cell_guid": "90145e05-36f0-4564-9d21-b46f98372c33"
            },
            "outputs": [
                {
                    "output_type": "stream",
                    "name": "stdout",
                    "text": "          Name        Age  City\ncount        9   9.000000     9\nunique       9        NaN     3\ntop     Laxman        NaN  Pune\nfreq         1        NaN     3\nmean       NaN  23.111111   NaN\nstd        NaN   7.166667   NaN\nmin        NaN  14.000000   NaN\n38.6%      NaN  22.000000   NaN\n50%        NaN  22.000000   NaN\n61.8%      NaN  24.832000   NaN\n78.6%      NaN  30.576000   NaN\nmax        NaN  32.000000   NaN\n"
                }
            ],
            "execution_count": 8
        },
        {
            "cell_type": "markdown",
            "source": [
                "#### Explanation:\n",
                "\n",
                "In the Pandas `describe()` method, the `include` parameter is used to specify the types of columns to be included in the summary statistics. It allows you to control whether to include only numeric columns, only object (string) columns, or include all columns regardless of their data types. The `include` parameter accepts different values:\n",
                "\n",
                "- `'all'`: This includes all columns, regardless of their data types. Both numeric and non-numeric columns will be summarized.\n",
                "\n",
                "- `'number'`: This includes only numeric columns in the summary. Non-numeric columns, such as strings or categorical data, will be excluded from the output.\n",
                "\n",
                "- `'object'`: This includes only object (string) columns in the summary. Numeric columns will be excluded.\n",
                "\n",
                "Here's an example to illustrate the usage of the `include` parameter:\n",
                ""
            ],
            "metadata": {
                "language": "python",
                "azdata_cell_guid": "3666f1a1-9437-45ed-a1ec-2fdcee4e63c8"
            },
            "attachments": {}
        },
        {
            "cell_type": "code",
            "source": [
                "import pandas as pd\n",
                "\n",
                "# Creating a sample DataFrame\n",
                "data = {\n",
                "    'numeric_col': [1, 2, 3, 4, 5],\n",
                "    'string_col': ['apple', 'banana', 'orange', 'grape', 'kiwi']\n",
                "}\n",
                "\n",
                "df = pd.DataFrame(data)\n",
                "\n",
                "# Using describe with different include values\n",
                "all_columns_describe = df.describe(include='all')\n",
                "numeric_columns_describe = df.describe(include='number')\n",
                "object_columns_describe = df.describe(include='object')\n",
                "\n",
                "print(\"Describe All Columns:\")\n",
                "print(all_columns_describe)\n",
                "\n",
                "print(\"\\nDescribe Numeric Columns Only:\")\n",
                "print(numeric_columns_describe)\n",
                "\n",
                "print(\"\\nDescribe Object (String) Columns Only:\")\n",
                "print(object_columns_describe)\n",
                ""
            ],
            "metadata": {
                "language": "python",
                "azdata_cell_guid": "aa185661-ebf2-46de-8242-b2dc2135b0a9"
            },
            "outputs": [
                {
                    "output_type": "stream",
                    "name": "stdout",
                    "text": "Describe All Columns:\n        numeric_col string_col\ncount      5.000000          5\nunique          NaN          5\ntop             NaN      apple\nfreq            NaN          1\nmean       3.000000        NaN\nstd        1.581139        NaN\nmin        1.000000        NaN\n25%        2.000000        NaN\n50%        3.000000        NaN\n75%        4.000000        NaN\nmax        5.000000        NaN\n\nDescribe Numeric Columns Only:\n       numeric_col\ncount     5.000000\nmean      3.000000\nstd       1.581139\nmin       1.000000\n25%       2.000000\n50%       3.000000\n75%       4.000000\nmax       5.000000\n\nDescribe Object (String) Columns Only:\n       string_col\ncount           5\nunique          5\ntop         apple\nfreq            1\n"
                }
            ],
            "execution_count": 9
        },
        {
            "cell_type": "markdown",
            "source": [
                "**Conclusion:**\n",
                "Inspecting a DataFrame is a crucial step in the data analysis process. Methods such as `head()`, `tail()`, `info()`, `shape`, and `describe()` provide valuable information about the structure, contents, and statistical summary of the dataset. Using these methods allows you to quickly assess the data and make informed decisions about further analysis."
            ],
            "metadata": {
                "azdata_cell_guid": "36dced88-a733-430c-916c-9537ee0f01aa"
            },
            "attachments": {}
        },
        {
            "cell_type": "markdown",
            "source": [
                "#### Examples"
            ],
            "metadata": {
                "azdata_cell_guid": "f9bc008f-1f49-4aea-9a2b-914f3bbe661f"
            },
            "attachments": {}
        },
        {
            "cell_type": "code",
            "source": [
                "import pandas as pd\n",
                "\n",
                "# Creating a sample DataFrame\n",
                "data = {\n",
                "    'Name': ['Laxman', 'Laxmikanth', 'Ashwanth', 'Ashok', 'Venky'],\n",
                "    'Age': [25, 30, 35, 22, 28],\n",
                "    'Salary': [50000, 60000, 75000, 48000, 55000],\n",
                "    'Experience': [3, 5, 8, 2, 4],\n",
                "}\n",
                "\n",
                "df = pd.DataFrame(data)\n",
                "\n",
                "# Displaying the DataFrame\n",
                "print(\"Original DataFrame:\")\n",
                "print(df)\n",
                "\n",
                "# Using head() and tail() for an overview\n",
                "print(\"\\nFirst 3 Rows (head()):\")\n",
                "print(df.head(3))\n",
                "\n",
                "print(\"\\nLast 2 Rows (tail()):\")\n",
                "print(df.tail(2))\n",
                "\n",
                "# Using info() for a summary\n",
                "print(\"\\nDataFrame Info:\")\n",
                "df_info = df.info()\n",
                "print(df_info)\n",
                "\n",
                "# Using shape to get dimensions\n",
                "df_shape = df.shape\n",
                "print(\"\\nDataFrame Shape:\", df_shape)\n",
                "\n",
                "# Using describe() for summary statistics\n",
                "df_describe = df.describe()\n",
                "print(\"\\nSummary Statistics:\\n\", df_describe)\n",
                "\n",
                "# Displaying the results\n",
                "print(\"\\nResults:\")\n",
                "\n",
                "\n",
                "\n",
                ""
            ],
            "metadata": {
                "azdata_cell_guid": "c7539f09-19c6-4cb9-a7ce-7920d9811278",
                "language": "python"
            },
            "outputs": [
                {
                    "output_type": "stream",
                    "name": "stdout",
                    "text": "Original DataFrame:\n         Name  Age  Salary  Experience\n0      Laxman   25   50000           3\n1  Laxmikanth   30   60000           5\n2    Ashwanth   35   75000           8\n3       Ashok   22   48000           2\n4       Venky   28   55000           4\n\nFirst 3 Rows (head()):\n         Name  Age  Salary  Experience\n0      Laxman   25   50000           3\n1  Laxmikanth   30   60000           5\n2    Ashwanth   35   75000           8\n\nLast 2 Rows (tail()):\n    Name  Age  Salary  Experience\n3  Ashok   22   48000           2\n4  Venky   28   55000           4\n\nDataFrame Info:\n<class 'pandas.core.frame.DataFrame'>\nRangeIndex: 5 entries, 0 to 4\nData columns (total 4 columns):\n #   Column      Non-Null Count  Dtype \n---  ------      --------------  ----- \n 0   Name        5 non-null      object\n 1   Age         5 non-null      int64 \n 2   Salary      5 non-null      int64 \n 3   Experience  5 non-null      int64 \ndtypes: int64(3), object(1)\nmemory usage: 288.0+ bytes\nNone\n\nDataFrame Shape: (5, 4)\n\nSummary Statistics:\n              Age        Salary  Experience\ncount   5.000000      5.000000    5.000000\nmean   28.000000  57600.000000    4.400000\nstd     4.949747  10784.247772    2.302173\nmin    22.000000  48000.000000    2.000000\n25%    25.000000  50000.000000    3.000000\n50%    28.000000  55000.000000    4.000000\n75%    30.000000  60000.000000    5.000000\nmax    35.000000  75000.000000    8.000000\n\nResults:\n"
                }
            ],
            "execution_count": 12
        },
        {
            "cell_type": "markdown",
            "source": [
                "#### Real-world Scenario:\n",
                "Consider a scenario where you have a dataset containing information about sales transactions for an e-commerce platform. You want to inspect the data to understand its structure, check for missing values, and get a quick overview of the sales performance."
            ],
            "metadata": {
                "language": "python",
                "azdata_cell_guid": "6b530756-293a-49bb-9384-b744bcc86cce"
            },
            "attachments": {}
        },
        {
            "cell_type": "code",
            "source": [
                "import pandas as pd\n",
                "\n",
                "# Sample e-commerce sales data\n",
                "sales_data = {\n",
                "    'OrderID': [101, 102, 103, 104, 105],\n",
                "    'Product': ['Laptop', 'Smartphone', 'Tablet', 'Headphones', 'Camera'],\n",
                "    'Quantity': [2, 1, 3, 2, 1],\n",
                "    'Price': [1200, 800, 300, 150, 700],\n",
                "    'CustomerID': [101, 102, 103, 104, 105],\n",
                "    'Date': ['2022-01-01', '2022-01-02', '2022-01-02', '2022-01-03', '2022-01-03'],\n",
                "}\n",
                "\n",
                "# Creating a DataFrame from the sales data\n",
                "df_sales = pd.DataFrame(sales_data)\n",
                "\n",
                "# Inspecting the DataFrame\n",
                "print(\"Overview of Sales Data:\")\n",
                "print(df_sales.head())\n",
                "print(\"\\nStructure of Sales Data:\")\n",
                "print(df_sales.info())\n",
                "print(\"\\nSummary Statistics of Sales Data:\")\n",
                "print(df_sales.describe())"
            ],
            "metadata": {
                "language": "python",
                "azdata_cell_guid": "7ac54802-7368-48c1-81fc-bf13d620f9d3"
            },
            "outputs": [
                {
                    "output_type": "stream",
                    "name": "stdout",
                    "text": "Overview of Sales Data:\n   OrderID     Product  Quantity  Price  CustomerID        Date\n0      101      Laptop         2   1200         101  2022-01-01\n1      102  Smartphone         1    800         102  2022-01-02\n2      103      Tablet         3    300         103  2022-01-02\n3      104  Headphones         2    150         104  2022-01-03\n4      105      Camera         1    700         105  2022-01-03\n\nStructure of Sales Data:\n<class 'pandas.core.frame.DataFrame'>\nRangeIndex: 5 entries, 0 to 4\nData columns (total 6 columns):\n #   Column      Non-Null Count  Dtype \n---  ------      --------------  ----- \n 0   OrderID     5 non-null      int64 \n 1   Product     5 non-null      object\n 2   Quantity    5 non-null      int64 \n 3   Price       5 non-null      int64 \n 4   CustomerID  5 non-null      int64 \n 5   Date        5 non-null      object\ndtypes: int64(4), object(2)\nmemory usage: 368.0+ bytes\nNone\n\nSummary Statistics of Sales Data:\n          OrderID  Quantity        Price  CustomerID\ncount    5.000000   5.00000     5.000000    5.000000\nmean   103.000000   1.80000   630.000000  103.000000\nstd      1.581139   0.83666   417.731971    1.581139\nmin    101.000000   1.00000   150.000000  101.000000\n25%    102.000000   1.00000   300.000000  102.000000\n50%    103.000000   2.00000   700.000000  103.000000\n75%    104.000000   2.00000   800.000000  104.000000\nmax    105.000000   3.00000  1200.000000  105.000000\n"
                }
            ],
            "execution_count": 13
        },
        {
            "cell_type": "markdown",
            "source": [
                "#### Considerations or Peculiarities:\n",
                "\n",
                "- **Data Types:** Ensure that data types are appropriate for each column. Dates should be in datetime format, and numerical columns should have the correct data type.\n",
                "\n",
                "- **Missing Values:** Check for missing values using methods like `isnull()` or `info()`. Decide on a strategy to handle missing data if needed.\n",
                "\n",
                "- **Categorical Columns:** Identify and encode categorical columns appropriately. Some columns may have a finite set of categories, and using the `astype('category')` method can save memory.\n",
                "\n",
                "#### Common Mistakes:\n",
                "\n",
                "- **Neglecting Missing Values:** Ignoring missing values during inspection can lead to incorrect analyses. Always check for missing data and decide how to handle it.\n",
                "\n",
                "- **Not Understanding Data Types:** Misinterpreting data types may lead to errors in analysis. Make sure to understand the meaning and representation of each column's data type.\n",
                "\n",
                "- **Overlooking Categorical Variables:** Categorical variables may not always be automatically identified. Check and convert categorical columns if needed, especially if they are nominal or ordinal.\n",
                "\n",
                "Inspecting the DataFrame is a crucial step to understand the data's characteristics and make informed decisions during data analysis. Adapt the example code and considerations based on the specifics of your real-world datasets."
            ],
            "metadata": {
                "azdata_cell_guid": "66e30204-745e-4f0b-95cc-edb26ead6055"
            },
            "attachments": {}
        },
        {
            "cell_type": "markdown",
            "source": [
                "#### **`Indexing and Selecting Data in a DataFrame`**\n",
                "\n",
                "**Introduction:**\n",
                "Indexing and selecting data in a Pandas DataFrame are fundamental operations for extracting specific subsets of information. Two main methods for this purpose are `loc[]` and `iloc[]`. In this prompt, we'll explore these methods and provide examples of conditional indexing and boolean indexing."
            ],
            "metadata": {
                "azdata_cell_guid": "98738c2a-7052-4847-b607-51eb6a266862"
            },
            "attachments": {}
        },
        {
            "cell_type": "markdown",
            "source": [
                "**Using `loc[]` for Label-Based Indexing:**"
            ],
            "metadata": {
                "azdata_cell_guid": "80319575-4bdb-4775-bfeb-a8aa0a08a854"
            },
            "attachments": {}
        },
        {
            "cell_type": "markdown",
            "source": [
                "1. **Selecting Rows by Label:**\n",
                "   - Use `loc[]` to select rows based on their labels (index values):"
            ],
            "metadata": {
                "azdata_cell_guid": "22238360-fa24-4b9e-918a-5c31903c860b"
            },
            "attachments": {}
        },
        {
            "cell_type": "code",
            "source": [
                "import pandas as pd\n",
                "\n",
                "# Read the CSV file without setting index\n",
                "df = pd.read_csv('data.csv')\n",
                "\n",
                "# Display the DataFrame to inspect its structure\n",
                "print(df)\n",
                "\n",
                "# Set 'ID' column as the index\n",
                "# df = pd.read_csv('data.csv', index_col='ID')\n",
                "\n",
                "# Try to select the row with index 2\n",
                "selected_row = df.loc[2]\n",
                "print(selected_row)\n",
                ""
            ],
            "metadata": {
                "language": "python",
                "azdata_cell_guid": "31ad02d3-d597-4620-a45a-2c91a16a0979"
            },
            "outputs": [
                {
                    "name": "stdout",
                    "text": "      Name  Age          City\n0   Laxman   25          Pune\n1   Rajesh   30     Hyderabad\n2      Ram   22  Mahabubnagar\n3    Ganga   32  Mahabubnagar\n4   Jamuna   32          Pune\n5  Namrata   15          Pune\n6   Varsha   16     Hyderabad\n7   Vamshi   22     Hyderabad\n8   Ananya   14  Mahabubnagar\nName             Ram\nAge               22\nCity    Mahabubnagar\nName: 2, dtype: object\n",
                    "output_type": "stream"
                }
            ],
            "execution_count": 1
        },
        {
            "cell_type": "markdown",
            "source": [
                "2. **Selecting Specific Columns for a Row:**\n",
                "   - Specify both row label and column label to select a specific value:"
            ],
            "metadata": {
                "language": "python",
                "azdata_cell_guid": "17a832cd-80f9-4f8b-b5d1-dfd904cc5b4e"
            },
            "attachments": {}
        },
        {
            "cell_type": "code",
            "source": [
                "specific_value = df.loc[2, 'Name']  # Select 'Name' for row with index 2\n",
                "print(specific_value)"
            ],
            "metadata": {
                "language": "python",
                "azdata_cell_guid": "261458f3-a0d2-4c9c-b73a-f493e52dfadc",
                "tags": []
            },
            "outputs": [
                {
                    "name": "stdout",
                    "text": "Ram\n",
                    "output_type": "stream"
                }
            ],
            "execution_count": 2
        },
        {
            "cell_type": "markdown",
            "source": [
                "3. **Slicing Rows:**\n",
                "   - Use slicing with labels to select a range of rows:"
            ],
            "metadata": {
                "language": "python",
                "azdata_cell_guid": "fd7aca30-a437-48af-922b-2301ee9fd6e1"
            },
            "attachments": {}
        },
        {
            "cell_type": "code",
            "source": [
                "sliced_rows = df.loc[2:5]  # Select rows with indices 2 to 5 (inclusive)\n",
                "print(sliced_rows)"
            ],
            "metadata": {
                "language": "python",
                "azdata_cell_guid": "9bf0c760-65a3-4a64-9e63-8ebe49e53519"
            },
            "outputs": [
                {
                    "name": "stdout",
                    "text": "      Name  Age          City\n2      Ram   22  Mahabubnagar\n3    Ganga   32  Mahabubnagar\n4   Jamuna   32          Pune\n5  Namrata   15          Pune\n",
                    "output_type": "stream"
                }
            ],
            "execution_count": 3
        },
        {
            "cell_type": "markdown",
            "source": [
                "#### Explanation fr why stop is inclusive in slicing in case of loc[]\n",
                "\n",
                "In the code snippet below:\n",
                "\n",
                "```python\n",
                "sliced_rows = df.loc[2:5]  # Select rows with indices 2 to 5 (inclusive)\n",
                "print(sliced_rows)\n",
                "```\n",
                "\n",
                "- `df`: This is assumed to be a Pandas DataFrame.\n",
                "- `loc`: This is a method in Pandas used for label-based indexing. It is not a function or constant. The `loc` method is primarily used to access a group of rows and columns by labels or a boolean array. In this case, it is used to select rows with index labels ranging from 2 to 5 (inclusive).\n",
                "\n",
                "The syntax for the `loc` method generally follows the pattern `df.loc[row_indexer, column_indexer]`, where `row_indexer` is used to specify the rows you want to select based on their labels.\n",
                "\n",
                "Regarding your question about slicing:\n",
                "\n",
                "While in general Python slicing uses a stop value that is exclusive, Pandas' `loc` method is designed to be inclusive for both the start and stop values. When using `loc` for label-based indexing, both the start and stop values are considered inclusive. So, in the expression `df.loc[2:5]`, it will select rows with index labels 2, 3, 4, and 5.\n",
                "\n",
                "In contrast, if you were using integer-based indexing or slicing with `iloc`, the stop value would be exclusive, following the standard Python slicing convention. However, with `loc`, which is label-based, inclusivity is maintained for consistency and to avoid potential confusion when working with labeled data."
            ],
            "metadata": {
                "language": "python",
                "azdata_cell_guid": "2b2b4517-d3e6-41c6-b058-9823a2420c5c"
            },
            "attachments": {}
        },
        {
            "cell_type": "markdown",
            "source": [
                "#### Is loc[] a function or constant or attribute ?\n",
                "\n",
                "In Python, methods and attributes are accessed without parentheses in certain cases. This is because, in some contexts, you are accessing the method or attribute itself, not invoking it.\n",
                "\n",
                "In the case of Pandas' `loc`, it is used for label-based indexing, and when you use it, you're providing labels to select specific rows and columns. It doesn't require parentheses because you're not calling or invoking the method; you're using it to perform a specific operation.\n",
                "\n",
                "Here's a brief explanation:\n",
                "\n",
                "- **Accessing Method or Attribute**: When you access a method or attribute without using parentheses, you are referring to the method or attribute itself, not calling or executing it.\n",
                "\n",
                "- **Calling or Invoking Method**: When you use parentheses, you are invoking or calling the method, executing the code associated with that method.\n",
                "\n",
                "In the case of Pandas' `loc`, consider the following:\n",
                "\n",
                "- **Accessing the Method (without parentheses)**:\n",
                "  ```python\n",
                "  selected_rows = df.loc[2:5]  # accessing the loc method, not invoking it\n",
                "  ```\n",
                "\n",
                "- **Calling the Method (with parentheses)**:\n",
                "  ```python\n",
                "  selected_rows = df.loc[2:5]()  # would be incorrect; loc is not called with parentheses in this context\n",
                "  ```\n",
                "\n",
                "So, `df.loc[2:5]` is using the `loc` method to select rows based on labels, and the absence of parentheses is consistent with the way Pandas designed the label-based indexing syntax."
            ],
            "metadata": {
                "language": "python",
                "azdata_cell_guid": "89bd37b8-f62d-4e4a-b04d-d6596228b540"
            },
            "attachments": {}
        },
        {
            "cell_type": "markdown",
            "source": [
                "4. **Selecting Rows and Columns Simultaneously:**\n",
                "   - Use `loc[]` to select specific rows and columns:"
            ],
            "metadata": {
                "language": "python",
                "azdata_cell_guid": "d1b7aee7-316f-46cc-b8bb-c06d29563e28"
            },
            "attachments": {}
        },
        {
            "cell_type": "code",
            "source": [
                "selected_data = df.loc[2:5, ['Name', 'Age']]\n",
                "print(selected_data)"
            ],
            "metadata": {
                "language": "python",
                "azdata_cell_guid": "891e47a1-23fd-4530-b07a-e49e5e679f07",
                "tags": []
            },
            "outputs": [
                {
                    "name": "stdout",
                    "text": "      Name  Age\n2      Ram   22\n3    Ganga   32\n4   Jamuna   32\n5  Namrata   15\n",
                    "output_type": "stream"
                }
            ],
            "execution_count": 4
        },
        {
            "cell_type": "code",
            "source": [
                "selected_data = df.loc[2:5, ['Age', 'Name']]\n",
                "print(selected_data)\n",
                "\n",
                "# Note Order of columns dosent matter"
            ],
            "metadata": {
                "azdata_cell_guid": "0d7ec36a-cfc5-45b6-a6b1-07d81e8bb382",
                "language": "python"
            },
            "outputs": [
                {
                    "name": "stdout",
                    "text": "   Age     Name\n2   22      Ram\n3   32    Ganga\n4   32   Jamuna\n5   15  Namrata\n",
                    "output_type": "stream"
                }
            ],
            "execution_count": 5
        },
        {
            "cell_type": "code",
            "source": [
                "selected_data = df.loc[[3,2,5], ['Age', 'Name']]\n",
                "print(selected_data)\n",
                "\n",
                "# Note : We can also select rows selectively"
            ],
            "metadata": {
                "language": "python",
                "azdata_cell_guid": "0cf7a9c8-da86-4643-81af-3e7c1d38b26d"
            },
            "outputs": [
                {
                    "name": "stdout",
                    "text": "   Age     Name\n3   32    Ganga\n2   22      Ram\n5   15  Namrata\n",
                    "output_type": "stream"
                }
            ],
            "execution_count": 7
        },
        {
            "cell_type": "markdown",
            "source": [
                "**Using `iloc[]` for Position-Based Indexing:**"
            ],
            "metadata": {
                "azdata_cell_guid": "882fbe41-d458-495e-bfe1-89f598f37430"
            },
            "attachments": {}
        },
        {
            "cell_type": "markdown",
            "source": [
                "1. **Selecting Rows by Position:**\n",
                "   - Use `iloc[]` to select rows based on their integer positions:"
            ],
            "metadata": {
                "azdata_cell_guid": "7925578e-83d5-4cd2-be5a-2fdd27c1818a"
            },
            "attachments": {}
        },
        {
            "cell_type": "code",
            "source": [
                "print(df)\n",
                "print(\"-------------\")\n",
                "selected_row_position = df.iloc[1]  # Select the second row (position 1)\n",
                "print(selected_row_position)"
            ],
            "metadata": {
                "azdata_cell_guid": "11c57a45-8b8e-4182-a27a-7604a279ad33",
                "language": "python"
            },
            "outputs": [
                {
                    "output_type": "stream",
                    "name": "stdout",
                    "text": "      Name  Age          City\n0   Laxman   25          Pune\n1   Rajesh   30     Hyderabad\n2      Ram   22  Mahabubnagar\n3    Ganga   32  Mahabubnagar\n4   Jamuna   32          Pune\n5  Namrata   15          Pune\n6   Varsha   16     Hyderabad\n7   Vamshi   22     Hyderabad\n8   Ananya   14  Mahabubnagar\n-------------\nName       Rajesh\nAge            30\nCity    Hyderabad\nName: 1, dtype: object\n"
                }
            ],
            "execution_count": 28
        },
        {
            "cell_type": "markdown",
            "source": [
                "2. **Selecting Specific Columns for a Row by Position:**\n",
                "   - Specify both row position and column position to select a specific value:"
            ],
            "metadata": {
                "language": "python",
                "azdata_cell_guid": "afb85725-d1ab-4b6f-966c-f63ff6303d77"
            },
            "attachments": {}
        },
        {
            "cell_type": "code",
            "source": [
                "specific_value_position = df.iloc[1, 0]  # Select the first column for the second row\n",
                "print(specific_value_position)"
            ],
            "metadata": {
                "language": "python",
                "azdata_cell_guid": "eaaacad6-fc7f-4446-add4-09b672629f1e"
            },
            "outputs": [
                {
                    "output_type": "stream",
                    "name": "stdout",
                    "text": "Rajesh\n"
                }
            ],
            "execution_count": 25
        },
        {
            "cell_type": "markdown",
            "source": [
                "3. **Slicing Rows by Position:**\n",
                "   - Use slicing with integer positions to select a range of rows:"
            ],
            "metadata": {
                "language": "python",
                "azdata_cell_guid": "a654eb48-c9a7-46a8-95a2-36e3959ef7e0"
            },
            "attachments": {}
        },
        {
            "cell_type": "code",
            "source": [
                "sliced_rows_position = df.iloc[1:4]  # Select rows with positions 1 to 3\n",
                "print(sliced_rows_position)"
            ],
            "metadata": {
                "language": "python",
                "azdata_cell_guid": "6056e3c5-3678-4c3b-95e2-2bcdf2ae1076"
            },
            "outputs": [
                {
                    "output_type": "stream",
                    "name": "stdout",
                    "text": "     Name  Age          City\n1  Rajesh   30     Hyderabad\n2     Ram   22  Mahabubnagar\n3   Ganga   32  Mahabubnagar\n"
                }
            ],
            "execution_count": 26
        },
        {
            "cell_type": "markdown",
            "source": [
                "4. **Selecting Rows and Columns Simultaneously by Position:**\n",
                "   - Use `iloc[]` to select specific rows and columns by position:"
            ],
            "metadata": {
                "language": "python",
                "azdata_cell_guid": "d30ce138-1902-4e91-b155-af09ba45363d"
            },
            "attachments": {}
        },
        {
            "cell_type": "code",
            "source": [
                "selected_data_position = df.iloc[1:4, [0, 1]]\n",
                "print(selected_data_position)"
            ],
            "metadata": {
                "language": "python",
                "azdata_cell_guid": "686424a9-f4b9-436b-86bf-3650fbc19564"
            },
            "outputs": [
                {
                    "output_type": "stream",
                    "name": "stdout",
                    "text": "     Name  Age\n1  Rajesh   30\n2     Ram   22\n3   Ganga   32\n"
                }
            ],
            "execution_count": 29
        },
        {
            "cell_type": "markdown",
            "source": [
                "**Conditional Indexing and Boolean Indexing:**"
            ],
            "metadata": {
                "language": "python",
                "azdata_cell_guid": "aa992996-5a8d-45e2-accc-69d2c6f2b72c"
            },
            "attachments": {}
        },
        {
            "cell_type": "markdown",
            "source": [
                "1. **Conditional Indexing:**\n",
                "   - Use boolean conditions to filter rows based on a specific criterion:"
            ],
            "metadata": {
                "language": "python",
                "azdata_cell_guid": "68c06e23-2278-4093-a1f9-9fddca8cbd9d"
            },
            "attachments": {}
        },
        {
            "cell_type": "code",
            "source": [
                "condition = df['Age'] > 30\n",
                "conditionally_selected = df.loc[condition]\n",
                "print(conditionally_selected)"
            ],
            "metadata": {
                "language": "python",
                "azdata_cell_guid": "872edde2-eb0f-42e9-bb32-3bc377ee3c21"
            },
            "outputs": [
                {
                    "output_type": "stream",
                    "name": "stdout",
                    "text": "     Name  Age          City\n3   Ganga   32  Mahabubnagar\n4  Jamuna   32          Pune\n"
                }
            ],
            "execution_count": 30
        },
        {
            "cell_type": "markdown",
            "source": [
                "2. **Boolean Indexing:**\n",
                "   - Use boolean arrays directly for filtering:"
            ],
            "metadata": {
                "language": "python",
                "azdata_cell_guid": "8b471744-f519-4487-87e3-ca6bc5fc8433"
            },
            "attachments": {}
        },
        {
            "cell_type": "code",
            "source": [
                "boolean_selected = df[df['Age'] > 30]\n",
                "print(boolean_selected)"
            ],
            "metadata": {
                "language": "python",
                "azdata_cell_guid": "7b136498-b0a0-4387-a517-8261fe8c6039"
            },
            "outputs": [
                {
                    "output_type": "stream",
                    "name": "stdout",
                    "text": "     Name  Age          City\n3   Ganga   32  Mahabubnagar\n4  Jamuna   32          Pune\n"
                }
            ],
            "execution_count": 31
        },
        {
            "cell_type": "markdown",
            "source": [
                "**Conclusion:**\n",
                "Indexing and selecting data in a Pandas DataFrame using `loc[]` and `iloc[]` are powerful techniques. These methods allow you to retrieve specific rows and columns based on labels or positions. Additionally, conditional indexing and boolean indexing enable you to filter data efficiently based on specific criteria."
            ],
            "metadata": {
                "language": "python",
                "azdata_cell_guid": "bfd45e41-e36d-4752-95bd-c25ff892db07"
            },
            "attachments": {}
        },
        {
            "cell_type": "markdown",
            "source": [
                "#### Example:\n",
                ""
            ],
            "metadata": {
                "language": "python",
                "azdata_cell_guid": "b2d81cb0-1669-4c54-8f49-347407f534a6"
            },
            "attachments": {}
        },
        {
            "cell_type": "code",
            "source": [
                "import pandas as pd\n",
                "\n",
                "# Creating a sample DataFrame\n",
                "data = {\n",
                "    'Name': ['Laxman', 'Rajesh', 'Chanakya', 'Dravid', 'Emanuel'],\n",
                "    'Age': [25, 30, 35, 22, 28],\n",
                "    'Salary': [50000, 60000, 75000, 48000, 55000],\n",
                "    'Experience': [3, 5, 8, 2, 4],\n",
                "}\n",
                "\n",
                "df = pd.DataFrame(data)\n",
                "df.set_index('Name', inplace=True)  # Set 'Name' column as the index\n",
                "\n",
                "# Using loc[] for Label-Based Indexing\n",
                "selected_row = df.loc['Rajesh']\n",
                "specific_value = df.loc['Rajesh', 'Age']\n",
                "sliced_rows = df.loc['Rajesh':'Dravid']\n",
                "selected_data = df.loc[['Rajesh', 'Dravid'], ['Age', 'Salary']]\n",
                "\n",
                "# Using iloc[] for Position-Based Indexing\n",
                "selected_row_position = df.iloc[1]\n",
                "specific_value_position = df.iloc[1, 0]\n",
                "sliced_rows_position = df.iloc[1:4]\n",
                "selected_data_position = df.iloc[1:4, [0, 1]]\n",
                "\n",
                "# Conditional Indexing and Boolean Indexing\n",
                "condition = df['Age'] > 30\n",
                "conditionally_selected = df.loc[condition]\n",
                "boolean_selected = df[df['Age'] > 30]\n",
                "\n",
                "# Displaying the results\n",
                "print(\"Using loc[] for Label-Based Indexing:\")\n",
                "print(\"Selected Row:\\n\", selected_row)\n",
                "print(\"Specific Value:\\n\", specific_value)\n",
                "print(\"Sliced Rows:\\n\", sliced_rows)\n",
                "print(\"Selected Data:\\n\", selected_data)\n",
                "\n",
                "print(\"\\nUsing iloc[] for Position-Based Indexing:\")\n",
                "print(\"Selected Row by Position:\\n\", selected_row_position)\n",
                "print(\"Specific Value by Position:\\n\", specific_value_position)\n",
                "print(\"Sliced Rows by Position:\\n\", sliced_rows_position)\n",
                "print(\"Selected Data by Position:\\n\", selected_data_position)\n",
                "\n",
                "print(\"\\nConditional Indexing and Boolean Indexing:\")\n",
                "print(\"Conditionally Selected:\\n\", conditionally_selected)\n",
                "print(\"Boolean Selected:\\n\", boolean_selected)\n",
                ""
            ],
            "metadata": {
                "language": "python",
                "azdata_cell_guid": "218108e5-28ab-43e3-a20a-15a63ffe5ae1"
            },
            "outputs": [
                {
                    "output_type": "stream",
                    "name": "stdout",
                    "text": "Using loc[] for Label-Based Indexing:\nSelected Row:\n Age              30\nSalary        60000\nExperience        5\nName: Rajesh, dtype: int64\nSpecific Value:\n 30\nSliced Rows:\n           Age  Salary  Experience\nName                             \nRajesh     30   60000           5\nChanakya   35   75000           8\nDravid     22   48000           2\nSelected Data:\n         Age  Salary\nName               \nRajesh   30   60000\nDravid   22   48000\n\nUsing iloc[] for Position-Based Indexing:\nSelected Row by Position:\n Age              30\nSalary        60000\nExperience        5\nName: Rajesh, dtype: int64\nSpecific Value by Position:\n 30\nSliced Rows by Position:\n           Age  Salary  Experience\nName                             \nRajesh     30   60000           5\nChanakya   35   75000           8\nDravid     22   48000           2\nSelected Data by Position:\n           Age  Salary\nName                 \nRajesh     30   60000\nChanakya   35   75000\nDravid     22   48000\n\nConditional Indexing and Boolean Indexing:\nConditionally Selected:\n           Age  Salary  Experience\nName                             \nChanakya   35   75000           8\nBoolean Selected:\n           Age  Salary  Experience\nName                             \nChanakya   35   75000           8\n"
                }
            ],
            "execution_count": 33
        },
        {
            "cell_type": "markdown",
            "source": [
                "#### Real-world Scenario:\n",
                "Imagine you have a dataset containing information about employees in a company, including their ID, name, department, salary, and performance ratings. You want to perform various operations to analyze and extract specific information about employees."
            ],
            "metadata": {
                "azdata_cell_guid": "e06d1c8c-798b-4e19-8f16-9e1443a0c583"
            },
            "attachments": {}
        },
        {
            "cell_type": "code",
            "source": [
                "import pandas as pd\n",
                "\n",
                "# Sample employee data\n",
                "employee_data = {\n",
                "    'EmployeeID': [101, 102, 103, 104, 105],\n",
                "    'Name': ['Radhika', 'Shanaya', 'Khushi', 'Bhanu', 'Swapna'],\n",
                "    'Department': ['HR', 'IT', 'Sales', 'Finance', 'Marketing'],\n",
                "    'Salary': [60000, 75000, 80000, 90000, 70000],\n",
                "    'PerformanceRating': [8.5, 9.2, 7.8, 8.9, 9.5],\n",
                "}\n",
                "\n",
                "# Creating a DataFrame from the employee data\n",
                "df_employees = pd.DataFrame(employee_data)\n",
                "\n",
                "# Indexing and selecting data\n",
                "selected_employee = df_employees.loc[df_employees['Name'] == 'Khushi']\n",
                "high_performance_employees = df_employees[df_employees['PerformanceRating'] > 9.0]\n",
                "selected_columns = df_employees.loc[:, ['Name', 'Department', 'Salary']]\n",
                "\n",
                "# Displaying the selected data\n",
                "print(\"Selected Employee (Khushi):\\n\", selected_employee)\n",
                "print(\"\\nHigh-Performance Employees:\\n\", high_performance_employees)\n",
                "print(\"\\nSelected Columns:\\n\", selected_columns)\n",
                ""
            ],
            "metadata": {
                "azdata_cell_guid": "9ce9ef8b-2fcd-41ac-9307-efd675d65ded",
                "language": "python"
            },
            "outputs": [
                {
                    "name": "stdout",
                    "text": "Selected Employee (Khushi):\n    EmployeeID    Name Department  Salary  PerformanceRating\n2         103  Khushi      Sales   80000                7.8\n\nHigh-Performance Employees:\n    EmployeeID     Name Department  Salary  PerformanceRating\n1         102  Shanaya         IT   75000                9.2\n4         105   Swapna  Marketing   70000                9.5\n\nSelected Columns:\n       Name Department  Salary\n0  Radhika         HR   60000\n1  Shanaya         IT   75000\n2   Khushi      Sales   80000\n3    Bhanu    Finance   90000\n4   Swapna  Marketing   70000\n",
                    "output_type": "stream"
                }
            ],
            "execution_count": 9
        },
        {
            "cell_type": "markdown",
            "source": [
                "#### Considerations or Peculiarities:\n",
                "\n",
                "- **Indexing Choice:** Choose an appropriate column as the index based on your analysis needs. It could be a unique identifier like employee ID or another column that is relevant to your analysis.\n",
                "\n",
                "- **Boolean Indexing:** Understand how to use boolean indexing effectively. It allows you to filter data based on conditions, as shown in the example with high-performance employees.\n",
                "\n",
                "- **Column Selection:** Be mindful of the columns you select. If you only need specific columns, it's more efficient to select those rather than the entire DataFrame.\n",
                "\n",
                "#### Common Mistakes:\n",
                "\n",
                "- **Incorrect Syntax:** Incorrect use of square brackets, parentheses, or quotation marks in the indexing conditions can lead to errors. Always double-check syntax.\n",
                "\n",
                "- **Using `==` for Float Comparison:** When comparing float values, be cautious due to potential precision issues. Using methods like `np.isclose()` is recommended for float comparisons.\n",
                "\n",
                "- **Misunderstanding Boolean Indexing:** Developers may mistakenly think that boolean indexing is limited to exact matches, but it can be used for various conditions.\n",
                "\n",
                "Indexing and selecting data are crucial skills for extracting relevant information from a DataFrame. Adjust the example code and considerations based on the specifics of your real-world scenarios and datasets.\n",
                ""
            ],
            "metadata": {
                "azdata_cell_guid": "d2fc728c-09f3-4184-9d46-72ef7b33850d"
            },
            "attachments": {}
        },
        {
            "cell_type": "markdown",
            "source": [
                "\n",
                "### **`Descriptive Statistics in Pandas`**\n",
                "\n",
                "**Introduction:**\n",
                "Descriptive statistics aim to summarize and describe the main features of a dataset. Pandas provides various functions to compute descriptive statistics for each column in a DataFrame.\n",
                "\n",
                "**1. Mean:**\n",
                "   - **Definition:** The mean, also known as the average, is the sum of all values in a dataset divided by the number of observations.\n",
                "   - **Pandas Code:**\n",
                "     ```python\n",
                "     mean_values = df.mean()\n",
                "     ```\n",
                "   - **Interpretation:** The mean provides a measure of central tendency, indicating the typical value in a dataset.\n",
                "\n",
                "**2. Median:**\n",
                "   - **Definition:** The median is the middle value in a dataset when it is sorted in ascending order. It is less sensitive to extreme values than the mean.\n",
                "   - **Pandas Code:**\n",
                "     ```python\n",
                "     median_values = df.median()\n",
                "     ```\n",
                "   - **Interpretation:** The median gives insight into the central position of the data, especially in the presence of outliers.\n",
                "\n",
                "**3. Mode:**\n",
                "   - **Definition:** The mode represents the most frequently occurring value(s) in a dataset.\n",
                "   - **Pandas Code:**\n",
                "     ```python\n",
                "     mode_values = df.mode().iloc[0]\n",
                "     ```\n",
                "   - **Interpretation:** Identifying the mode helps in understanding the most common values in a dataset.\n",
                "\n",
                "**4. Standard Deviation:**\n",
                "   - **Definition:** The standard deviation measures the amount of variation or dispersion in a set of values. A higher standard deviation indicates greater variability.\n",
                "   - **Pandas Code:**\n",
                "     ```python\n",
                "     std_deviation = df.std()\n",
                "     ```\n",
                "   - **Interpretation:** Standard deviation is crucial for assessing the spread of values around the mean.\n",
                "\n",
                "**5. Variance:**\n",
                "   - **Definition:** Variance is the average of the squared differences from the mean. It is the square of the standard deviation.\n",
                "   - **Pandas Code:**\n",
                "     ```python\n",
                "     variance_values = df.var()\n",
                "     ```\n",
                "   - **Interpretation:** Variance provides another measure of data dispersion, useful in comparing the spread of different datasets.\n",
                "\n",
                "**6. Quantiles and Percentiles:**\n",
                "   - **Definition:** Quantiles divide a dataset into intervals with equal probabilities. Percentiles are specific quantiles expressed as percentages.\n",
                "   - **Pandas Code:**\n",
                "     ```python\n",
                "     quantiles = df.quantile([0.25, 0.5, 0.75])\n",
                "     ```\n",
                "   - **Interpretation:** Quantiles help in understanding the distribution and identifying central points in the data.\n",
                "\n",
                "**7. Interquartile Range (IQR):**\n",
                "   - **Definition:** IQR is the range between the first quartile (25th percentile) and the third quartile (75th percentile). It provides a measure of statistical dispersion.\n",
                "   - **Pandas Code:**\n",
                "     ```python\n",
                "     iqr_values = quantiles.loc[0.75] - quantiles.loc[0.25]\n",
                "     ```\n",
                "   - **Interpretation:** IQR is useful for identifying potential outliers and understanding the bulk of the data distribution.\n",
                "\n",
                "**8. Skewness:**\n",
                "   - **Definition:** Skewness measures the asymmetry of a distribution. Positive skewness indicates a right-skewed distribution, while negative skewness indicates a left-skewed distribution.\n",
                "   - **Pandas Code:**\n",
                "     ```python\n",
                "     skewness_values = df.skew()\n",
                "     ```\n",
                "   - **Interpretation:** Skewness provides insights into the shape of the distribution.\n",
                "\n",
                "**9. Kurtosis:**\n",
                "   - **Definition:** Kurtosis measures the sharpness of the peak (or tails) of a distribution. High kurtosis indicates a sharp peak and heavy tails.\n",
                "   - **Pandas Code:**\n",
                "     ```python\n",
                "     kurtosis_values = df.kurt()\n",
                "     ```\n",
                "   - **Interpretation:** Kurtosis helps in understanding the tails' thickness and the presence of outliers.\n",
                "\n",
                "**10. Correlation and Covariance:**\n",
                "   - **Definition:** Correlation measures the linear relationship between two variables, while covariance measures their joint variability.\n",
                "   - **Pandas Code:**\n",
                "     ```python\n",
                "     correlation_matrix = df.corr()\n",
                "     covariance_matrix = df.cov()\n",
                "     ```\n",
                "   - **Interpretation:** Correlation and covariance are crucial for understanding relationships between variables.\n",
                "\n",
                "**Conclusion:**\n",
                "Descriptive statistics in Pandas provide a comprehensive view of the distribution, relationships, and variability within a dataset. Understanding these measures is fundamental for data analysis and decision-making. The choice of which statistics to use depends on the nature of the data and the questions you want to answer."
            ],
            "metadata": {
                "azdata_cell_guid": "8d9f88a0-a5da-4f37-b3b6-f9f83ab1c775"
            },
            "attachments": {}
        },
        {
            "cell_type": "markdown",
            "source": [
                "#### Example :\n",
                ""
            ],
            "metadata": {
                "azdata_cell_guid": "b9000f6a-e8db-4ee2-a14f-782212d81150"
            },
            "attachments": {}
        },
        {
            "cell_type": "code",
            "source": [
                "import pandas as pd\n",
                "import numpy as np\n",
                "\n",
                "# Creating a sample DataFrame\n",
                "data = {\n",
                "    'Age': [25, 30, 35, 22, 28],\n",
                "    'Salary': [50000, 60000, 75000, 48000, 55000],\n",
                "    'Experience': [3, 5, 8, 2, 4],\n",
                "}\n",
                "\n",
                "df = pd.DataFrame(data)\n",
                "\n",
                "# Mean, Median, and Mode\n",
                "mean_values = df.mean()\n",
                "median_values = df.median()\n",
                "mode_values = df.mode().iloc[0]\n",
                "\n",
                "# Measures of Dispersion\n",
                "std_deviation = df.std()\n",
                "variance_values = df.var()\n",
                "\n",
                "# Quantiles and Percentiles\n",
                "quantiles = df.quantile([0.25, 0.5, 0.75])\n",
                "iqr_values = quantiles.loc[0.75] - quantiles.loc[0.25]\n",
                "\n",
                "# Summary Statistics\n",
                "summary_stats = df.describe()\n",
                "\n",
                "# Skewness and Kurtosis\n",
                "skewness_values = df.skew()\n",
                "kurtosis_values = df.kurt()\n",
                "\n",
                "# Correlation and Covariance\n",
                "correlation_matrix = df.corr()\n",
                "covariance_matrix = df.cov()\n",
                "\n",
                "# Displaying the results\n",
                "print(\"Mean Values:\\n\", mean_values)\n",
                "print(\"\\nMedian Values:\\n\", median_values)\n",
                "print(\"\\nMode Values:\\n\", mode_values)\n",
                "print(\"\\nStandard Deviation:\\n\", std_deviation)\n",
                "print(\"\\nVariance Values:\\n\", variance_values)\n",
                "print(\"\\nQuantiles:\\n\", quantiles)\n",
                "print(\"\\nInterquartile Range (IQR):\\n\", iqr_values)\n",
                "print(\"\\nSummary Statistics:\\n\", summary_stats)\n",
                "print(\"\\nSkewness Values:\\n\", skewness_values)\n",
                "print(\"\\nKurtosis Values:\\n\", kurtosis_values)\n",
                "print(\"\\nCorrelation Matrix:\\n\", correlation_matrix)\n",
                "print(\"\\nCovariance Matrix:\\n\", covariance_matrix)\n",
                ""
            ],
            "metadata": {
                "azdata_cell_guid": "573be691-7905-4f75-a137-33f34f435da9",
                "language": "python"
            },
            "outputs": [
                {
                    "name": "stdout",
                    "text": "Mean Values:\n Age              28.0\nSalary        57600.0\nExperience        4.4\ndtype: float64\n\nMedian Values:\n Age              28.0\nSalary        55000.0\nExperience        4.0\ndtype: float64\n\nMode Values:\n Age              22\nSalary        48000\nExperience        2\nName: 0, dtype: int64\n\nStandard Deviation:\n Age               4.949747\nSalary        10784.247772\nExperience        2.302173\ndtype: float64\n\nVariance Values:\n Age                  24.5\nSalary        116300000.0\nExperience            5.3\ndtype: float64\n\nQuantiles:\n        Age   Salary  Experience\n0.25  25.0  50000.0         3.0\n0.50  28.0  55000.0         4.0\n0.75  30.0  60000.0         5.0\n\nInterquartile Range (IQR):\n Age               5.0\nSalary        10000.0\nExperience        2.0\ndtype: float64\n\nSummary Statistics:\n              Age        Salary  Experience\ncount   5.000000      5.000000    5.000000\nmean   28.000000  57600.000000    4.400000\nstd     4.949747  10784.247772    2.302173\nmin    22.000000  48000.000000    2.000000\n25%    25.000000  50000.000000    3.000000\n50%    28.000000  55000.000000    4.000000\n75%    30.000000  60000.000000    5.000000\nmax    35.000000  75000.000000    8.000000\n\nSkewness Values:\n Age           0.371076\nSalary        1.309113\nExperience    1.032659\ndtype: float64\n\nKurtosis Values:\n Age          -0.099125\nSalary        1.571802\nExperience    1.128515\ndtype: float64\n\nCorrelation Matrix:\n                  Age    Salary  Experience\nAge         1.000000  0.969477    0.987260\nSalary      0.969477  1.000000    0.994876\nExperience  0.987260  0.994876    1.000000\n\nCovariance Matrix:\n                  Age       Salary  Experience\nAge            24.50      51750.0       11.25\nSalary      51750.00  116300000.0    24700.00\nExperience     11.25      24700.0        5.30\n",
                    "output_type": "stream"
                }
            ],
            "execution_count": 10
        },
        {
            "cell_type": "markdown",
            "source": [
                "#### Real-world Scenario:\n",
                "Consider a scenario where you have a dataset containing information about the performance of students in an educational institution. The dataset includes student IDs, exam scores in different subjects, attendance percentages, and participation in extracurricular activities. You want to extract descriptive statistics to gain insights into the students' academic performance."
            ],
            "metadata": {
                "azdata_cell_guid": "118fd246-ad8b-4f40-b2f7-1d1d7e258cd0"
            },
            "attachments": {}
        },
        {
            "cell_type": "code",
            "source": [
                "import pandas as pd\n",
                "\n",
                "# Sample student performance data\n",
                "student_data = {\n",
                "    'StudentID': [1, 2, 3, 4, 5],\n",
                "    'Math_Score': [85, 90, 78, 92, 88],\n",
                "    'English_Score': [75, 85, 80, 88, 92],\n",
                "    'Attendance_Percentage': [92, 95, 88, 97, 93],\n",
                "    'Extracurricular_Participation': [2, 3, 1, 4, 2],\n",
                "}\n",
                "\n",
                "# Creating a DataFrame from the student data\n",
                "df_students = pd.DataFrame(student_data)\n",
                "\n",
                "# Extracting Descriptive Statistics\n",
                "mean_scores = df_students.mean()\n",
                "median_scores = df_students.median()\n",
                "std_deviation_scores = df_students.std()\n",
                "attendance_summary = df_students['Attendance_Percentage'].describe()\n",
                "correlation_matrix = df_students.corr()\n",
                "\n",
                "# Displaying the Descriptive Statistics\n",
                "print(\"Mean Scores:\\n\", mean_scores)\n",
                "print(\"\\nMedian Scores:\\n\", median_scores)\n",
                "print(\"\\nStandard Deviation of Scores:\\n\", std_deviation_scores)\n",
                "print(\"\\nAttendance Summary:\\n\", attendance_summary)\n",
                "print(\"\\nCorrelation Matrix:\\n\", correlation_matrix)\n",
                ""
            ],
            "metadata": {
                "azdata_cell_guid": "0be49869-bf4b-497f-bb88-44dca6d72ddf",
                "language": "python"
            },
            "outputs": [
                {
                    "name": "stdout",
                    "text": "Mean Scores:\n StudentID                         3.0\nMath_Score                       86.6\nEnglish_Score                    84.0\nAttendance_Percentage            93.0\nExtracurricular_Participation     2.4\ndtype: float64\n\nMedian Scores:\n StudentID                         3.0\nMath_Score                       88.0\nEnglish_Score                    85.0\nAttendance_Percentage            93.0\nExtracurricular_Participation     2.0\ndtype: float64\n\nStandard Deviation of Scores:\n StudentID                        1.581139\nMath_Score                       5.458938\nEnglish_Score                    6.670832\nAttendance_Percentage            3.391165\nExtracurricular_Participation    1.140175\ndtype: float64\n\nAttendance Summary:\n count     5.000000\nmean     93.000000\nstd       3.391165\nmin      88.000000\n25%      92.000000\n50%      93.000000\n75%      95.000000\nmax      97.000000\nName: Attendance_Percentage, dtype: float64\n\nCorrelation Matrix:\n                                StudentID  Math_Score  English_Score  \\\nStudentID                       1.000000    0.231714       0.876984   \nMath_Score                      0.231714    1.000000       0.583540   \nEnglish_Score                   0.876984    0.583540       1.000000   \nAttendance_Percentage           0.186501    0.985839       0.519408   \nExtracurricular_Participation   0.138675    0.915788       0.427299   \n\n                               Attendance_Percentage  \\\nStudentID                                   0.186501   \nMath_Score                                  0.985839   \nEnglish_Score                               0.519408   \nAttendance_Percentage                       1.000000   \nExtracurricular_Participation               0.969864   \n\n                               Extracurricular_Participation  \nStudentID                                           0.138675  \nMath_Score                                          0.915788  \nEnglish_Score                                       0.427299  \nAttendance_Percentage                               0.969864  \nExtracurricular_Participation                       1.000000  \n",
                    "output_type": "stream"
                }
            ],
            "execution_count": 11
        }
    ]
}