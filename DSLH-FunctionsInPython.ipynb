{
    "metadata": {
        "kernelspec": {
            "name": "python3",
            "display_name": "Python 3",
            "language": "python"
        },
        "language_info": {
            "name": "python",
            "version": "3.10.9",
            "mimetype": "text/x-python",
            "codemirror_mode": {
                "name": "ipython",
                "version": 3
            },
            "pygments_lexer": "ipython3",
            "nbconvert_exporter": "python",
            "file_extension": ".py"
        }
    },
    "nbformat_minor": 2,
    "nbformat": 4,
    "cells": [
        {
            "cell_type": "markdown",
            "source": [
                "# **Data Science Learners Hub - Python**\n",
                "\n",
                "**Module : Python**\n",
                "\n",
                "**Topic :** <span style=\"font-size: 12px; caret-color: rgb(31, 31, 31); white-space-collapse: preserve; background-color: rgb(255, 255, 255);\">Functions in Python</span>\n",
                "\n",
                "**email** : [datasciencelearnershub@gmail.com](https://github.com/rathodlaxman/DataScienceLearnersHub/blob/50de48da0c8f7145a545dd9942457c8b9cfc8fc5//mailto:datasciencelearnershub@gmail.com)"
            ],
            "metadata": {
                "azdata_cell_guid": "810ca94f-b395-4139-b610-43b7248ec2be"
            },
            "attachments": {}
        },
        {
            "cell_type": "markdown",
            "source": [
                "## **# Functions in Python**"
            ],
            "metadata": {
                "azdata_cell_guid": "fa51c5f1-636f-4388-89db-3a585fb921f2"
            },
            "attachments": {}
        },
        {
            "cell_type": "markdown",
            "source": [
                "### 1. What are Functions in Python?\n",
                "\n",
                "- Functions are self-contained blocks of code that perform specific tasks.\n",
                "- They can be called multiple times from different parts of your program.\n",
                "- They help organize code, improve readability, and reduce redundancy.\n",
                "\n",
                "### 2. Why do we Require Functions in Programming Languages?\n",
                "\n",
                "- **Modularity:** Functions allow you to break down a program into smaller, manageable parts, promoting modular programming.\n",
                "  \n",
                "- **Reusability:** Once defined, functions can be reused in different parts of a program, reducing code duplication.\n",
                "  \n",
                "- **Readability:** Functions enhance code readability by encapsulating logic into well-named blocks.\n",
                "\n",
                "- **Abstraction**: Hide implementation details and make code easier to understand.\n",
                "\n",
                "- **Testability**: Test individual functions independently for easier debugging.\n",
                "\n",
                "### 3. What Happens When a Function is Executed/Interpreted?\n",
                "\n",
                "- **Function Call:** When a function is called, the program jumps to the function's code and executes it.\n",
                "\n",
                "- **Return Statement:** If the function has a return statement, the result is sent back to the caller."
            ],
            "metadata": {
                "azdata_cell_guid": "5cc02cf8-a871-44d7-b046-491e03959650"
            },
            "attachments": {}
        },
        {
            "cell_type": "markdown",
            "source": [
                "### 4. Syntax of Functions\n",
                "The syntax of a function in Python follows a specific structure. Here is the basic syntax:\n",
                "\n",
                "```python\n",
                "def function_name(parameters):\n",
                "    \"\"\"\n",
                "    Docstring: Optional documentation string describing the function.\n",
                "    \"\"\"\n",
                "    # Function body: Code block to perform a specific task.\n",
                "    # It may include statements, expressions, and return statements.\n",
                "\n",
                "    # Optional: Return statement to send a value back to the caller.\n",
                "    return result\n",
                "```\n",
                "\n",
                "Let's break down the components of this syntax:\n",
                "\n",
                "- **`def` keyword:** It is used to declare the beginning of a function definition.\n",
                "\n",
                "- **`function_name:`** This is the name of the function. It should follow the rules for naming identifiers in Python. The name is followed by parentheses containing parameters (if any).\n",
                "\n",
                "- **`parameters:`** These are optional and represent the input values that the function receives. If a function takes no parameters, the parentheses are still required.\n",
                "\n",
                "- **Docstring (`\"\"\" ... \"\"\"`):** This is an optional multiline string placed immediately after the function header. It is used to provide documentation about the purpose and usage of the function.\n",
                "\n",
                "- **Function Body:** This is the indented block of code beneath the function header. It contains the statements and expressions that define the behavior of the function.\n",
                "\n",
                "- **Return Statement:** This is optional and is used to send a value back to the caller. A function may have multiple return statements or none at all. If there is no return statement, the function returns `None` by default.\n",
                "\n",
                "Here's a simple example to illustrate the syntax:\n",
                "\n",
                "```python\n",
                "def add_numbers(a, b):\n",
                "    \"\"\"\n",
                "    This function takes two numbers as parameters and returns their sum.\n",
                "    \"\"\"\n",
                "    result = a + b\n",
                "    return result\n",
                "\n",
                "# Function call\n",
                "sum_result = add_numbers(3, 5)\n",
                "print(\"Sum:\", sum_result)\n",
                "```\n",
                "\n",
                "In this example:\n",
                "- `add_numbers` is the function name.\n",
                "- `(a, b)` are the parameters.\n",
                "- The docstring provides a brief description of the function.\n",
                "- The function body calculates the sum of `a` and `b`.\n",
                "- The `return result` statement sends the result back to the caller.\n",
                "\n",
                "Understanding and using functions is fundamental to writing organized, modular, and reusable code in Python. Functions make it easier to manage and scale code, contributing to better code organization and readability.\n",
                ""
            ],
            "metadata": {
                "azdata_cell_guid": "8c5e3736-80bb-4345-a63b-35854af3651b"
            },
            "attachments": {}
        },
        {
            "cell_type": "markdown",
            "source": [
                "### 5. Examples of Functions in Python:\n",
                ""
            ],
            "metadata": {
                "azdata_cell_guid": "ef253890-85a3-4c27-ab85-bb25a19e6989"
            },
            "attachments": {}
        },
        {
            "cell_type": "code",
            "source": [
                "# Example 1: Function without parameters and return statement\n",
                "def greet():\n",
                "    print(\"Hello, welcome!\")"
            ],
            "metadata": {
                "azdata_cell_guid": "3fb8ba47-aa23-421d-87cb-939a885b78ab",
                "language": "python"
            },
            "outputs": [],
            "execution_count": 2
        },
        {
            "cell_type": "code",
            "source": [
                "# Example 2: Function with parameters and return statement\n",
                "def add_numbers(a, b):\n",
                "    return a + b"
            ],
            "metadata": {
                "azdata_cell_guid": "c15c9188-71b0-4e98-b242-5a1e99bf7537",
                "language": "python"
            },
            "outputs": [],
            "execution_count": 3
        },
        {
            "cell_type": "code",
            "source": [
                "# Function calls\n",
                "greet()\n",
                "result = add_numbers(3, 5)\n",
                "print(\"Sum:\", result)"
            ],
            "metadata": {
                "language": "python",
                "azdata_cell_guid": "39bc7ffb-67ae-4818-afc4-ad3aa11a14bc"
            },
            "outputs": [
                {
                    "output_type": "stream",
                    "name": "stdout",
                    "text": "Hello, welcome!\nSum: 8\n"
                }
            ],
            "execution_count": 4
        },
        {
            "cell_type": "markdown",
            "source": [
                "### 6. Practical Application of Functions in Real World:\n",
                "\n",
                "- **Data Processing:** Functions can be used to process and analyze data in data science or data engineering tasks.\n",
                "\n",
                "- **Web Development:** Functions are crucial in building web applications, where different parts of the application are encapsulated into functions.\n",
                "\n",
                "### 7. Peculiarities and Considerations for Functions in Python:\n",
                "\n",
                "- **Scope:** Variables defined inside a function are local to that function unless explicitly declared as global.\n",
                "\n",
                "- **Function Signature:** The function name, parameters, and their types constitute the function signature.\n",
                "\n",
                "- **Indentation**: Indentation defines function blocks, as with other control flow statements.\n",
                "- **Parameters**: Functions can take input values as parameters.\n",
                "- **Return values**: Functions can return results using the return statement.\n",
                "- **Default values**: You can set default values for parameters.\n",
                "- **Docstrings**: Document functions with docstrings for clarity and understanding.\n",
                "\n",
                "### 8. Most Common Mistakes Done While Using Functions in Python:\n",
                "\n",
                "- **Variable Scope Confusion:**\n",
                "  ```python\n",
                "  def my_function():\n",
                "      result = 10\n",
                "  print(result)  # This will result in an error - 'result' is not defined\n",
                "  ```\n",
                "\n",
                "- **Omitting the Return Statement:**\n",
                "  ```python\n",
                "  def calculate_sum(a, b):\n",
                "      a + b  # Missing return statement\n",
                "  result = calculate_sum(3, 5)\n",
                "  print(result)  # This will print 'None'\n",
                "  ```\n",
                "\n",
                "- **Indentation errors**: Misaligned indentation can cause syntax errors.\n",
                "- **Incorrect parameter passing**: Ensure you pass the correct number and types of arguments."
            ],
            "metadata": {
                "language": "python",
                "azdata_cell_guid": "3b2bcee2-a0df-44db-87cb-def6fd2a6d31"
            },
            "attachments": {}
        },
        {
            "cell_type": "markdown",
            "source": [
                "### 9. Handson\n",
                "\n",
                "#### Question 1:\n",
                "Write a function `multiply_numbers` that takes two parameters and returns their product.\n",
                "\n",
                "**Solution:**"
            ],
            "metadata": {
                "azdata_cell_guid": "91d9fbe6-2756-4eac-aae4-c6ef077b48f5"
            },
            "attachments": {}
        },
        {
            "cell_type": "code",
            "source": [
                "def multiply_numbers(a, b):\n",
                "    return a * b\n",
                "\n",
                "result = multiply_numbers(4, 6)\n",
                "print(\"Product:\", result)"
            ],
            "metadata": {
                "azdata_cell_guid": "2263af6b-ce2d-4c90-98e3-ce5b5b6ddb27",
                "language": "python"
            },
            "outputs": [
                {
                    "output_type": "stream",
                    "name": "stdout",
                    "text": "Product: 24\n"
                }
            ],
            "execution_count": 5
        },
        {
            "cell_type": "markdown",
            "source": [
                "#### Question 2:\n",
                "Write a function `find_max` that takes three parameters and returns the maximum of the three.\n",
                "\n",
                "**Solution:**"
            ],
            "metadata": {
                "language": "python",
                "azdata_cell_guid": "7a1e9bfa-655d-4e5c-8204-f962351949ca"
            },
            "attachments": {}
        },
        {
            "cell_type": "code",
            "source": [
                "def find_max(a, b, c):\n",
                "    return max(a, b, c)\n",
                "\n",
                "result = find_max(8, 3, 12)\n",
                "print(\"Maximum:\", result)"
            ],
            "metadata": {
                "language": "python",
                "azdata_cell_guid": "b1b6960f-1981-4e99-a275-30d24e606baf"
            },
            "outputs": [
                {
                    "output_type": "stream",
                    "name": "stdout",
                    "text": "Maximum: 12\n"
                }
            ],
            "execution_count": 6
        },
        {
            "cell_type": "markdown",
            "source": [
                "### 9. Sample Questions for Practice to Enhance Skills on Functions:\n",
                "\n",
                "#### Question 3:\n",
                "Write a function `calculate_average` that takes a list of numbers and returns their average.\n",
                "\n",
                "**Hint:** Use the `sum()` and `len()` functions.\n",
                "\n",
                "#### Question 4:\n",
                "Write a function `is_even` that takes an integer as a parameter and returns `True` if it's even and `False` otherwise.\n",
                "\n",
                "**Hint:** Use the modulo operator `%`."
            ],
            "metadata": {
                "language": "python",
                "azdata_cell_guid": "de60a163-4414-4e7b-9ff6-0c9f4a55d023"
            },
            "attachments": {}
        },
        {
            "cell_type": "markdown",
            "source": [
                "### 10. Famous Mishap or Advantage Due to Functions:\n",
                "\n",
                "- **Advantage in Software Engineering:**\n",
                "  - Functions play a crucial role in software engineering by promoting code reuse, maintainability, and collaboration among team members.\n",
                "\n",
                "- **Mishap:**\n",
                "  - Inadequate handling of function input parameters or ignoring return values can lead to unexpected behavior or errors in a program. It's essential to understand the function's contract and use it correctly."
            ],
            "metadata": {
                "language": "python",
                "azdata_cell_guid": "4c76b18f-2147-46d7-b1f9-01401691fd87"
            },
            "attachments": {}
        },
        {
            "cell_type": "markdown",
            "source": [
                "### 11. Extra Innings"
            ],
            "metadata": {
                "language": "python",
                "azdata_cell_guid": "a64a7e96-abd3-4430-83a7-1f13c09fda79"
            },
            "attachments": {}
        },
        {
            "cell_type": "code",
            "source": [
                "# Understanding Default values in function with parameteres\n",
                "\n",
                "def add_default(x=5, y=8):\n",
                "    return x+y\n",
                "\n",
                "print(\"add_default() : \", add_default())\n",
                "print(\"add_default(x=7) : \", add_default(x=7))\n",
                "print(\"add_default(y=10) : \", add_default(y=10))\n",
                "print(\"add_default(4) : \", add_default(4))\n",
                "print(\"add_default(6,9) : \", add_default(6,9))\n",
                ""
            ],
            "metadata": {
                "language": "python",
                "azdata_cell_guid": "5dbf36bf-4915-4a80-a5af-31a0bc61416c"
            },
            "outputs": [
                {
                    "output_type": "stream",
                    "name": "stdout",
                    "text": "add_default() :  13\nadd_default(x=7) :  15\nadd_default(y=10) :  15\nadd_default(4) :  12\nadd_default(6,9) :  15\n"
                }
            ],
            "execution_count": 9
        },
        {
            "cell_type": "code",
            "source": [
                "print(\"add_default(x=7, 10) : \", add_default(x=7,10)) \n",
                "# Note : Gives error  positional argument follows keyword argument"
            ],
            "metadata": {
                "language": "python",
                "azdata_cell_guid": "f8b674dd-ecbb-4288-8f00-e6a28a6b5fd4"
            },
            "outputs": [
                {
                    "output_type": "error",
                    "ename": "SyntaxError",
                    "evalue": "positional argument follows keyword argument (<ipython-input-10-fe76d625b982>, line 1)",
                    "traceback": [
                        "\u001b[0;36m  Cell \u001b[0;32mIn[10], line 1\u001b[0;36m\u001b[0m\n\u001b[0;31m    print(\"add_default(x=7, 10) : \", add_default(x=7,10))\u001b[0m\n\u001b[0m                                                       ^\u001b[0m\n\u001b[0;31mSyntaxError\u001b[0m\u001b[0;31m:\u001b[0m positional argument follows keyword argument\n"
                    ]
                }
            ],
            "execution_count": 10
        },
        {
            "cell_type": "markdown",
            "source": [
                "### 11. **What is the difference between functions and methods**\n",
                "\n",
                "In programming, a function is a block of code that performs a specific task. It can be called from anywhere in the program, and it can be passed parameters to provide it with input. `A method is a type of function that is associated with an object.` Methods can be used to access and modify the object's properties.\n",
                "\n",
                "Here are some of the key differences between functions and methods:\n",
                "\n",
                "- **Scope:** A function has a global scope, meaning that it can be called from anywhere in the program. A method has a local scope, meaning that it can only be called from within the class that it is defined in.\n",
                "- **Parameters:** A function can be passed parameters to provide it with input. `A method cannot be passed parameters.`\n",
                "- **Access to object properties:** Methods can be used to access and modify the object's properties. `Functions cannot access or modify object properties.`\n",
                "\n",
                "In general, `functions are used to perform tasks that are not specific to any particular object. Methods are used to perform tasks that are specific to an object.`\n",
                "\n",
                "Here are some examples of functions:\n",
                "\n",
                "- A function that calculates the area of a circle.\n",
                "- A function that sorts a list of numbers.\n",
                "- A function that prints a message to the console.\n",
                "\n",
                "Here are some examples of methods:\n",
                "\n",
                "- A method that sets the object's name.\n",
                "- A method that gets the object's age.\n",
                "- A method that adds a new item to the object's list of friends.\n",
                "\n",
                "Functions and methods are both important tools in programming. They can be used to make code more modular and reusable."
            ],
            "metadata": {
                "language": "python",
                "azdata_cell_guid": "a90e6ed7-9f20-4712-b874-adfc36c90364"
            },
            "attachments": {}
        },
        {
            "cell_type": "markdown",
            "source": [
                "### 12. **What is \\*\\*kwargs ?**\n",
                "\n",
                "- *kwargs is a special keyword in Python that allows you to pass a variable number of keyword arguments to a function. When you use **kwargs in a function definition, the function will receive a dictionary object containing all of the keyword arguments that were passed to it.\n",
                "\n",
                "For example, the following function definition uses **kwargs to accept any number of keyword arguments:\n",
                "\n",
                "\n",
                "\n",
                "```\n",
                "def my_function(**kwargs):\n",
                "  print(kwargs)\n",
                "\n",
                "```\n",
                "\n",
                "\n",
                "You can then call this function with any number of keyword arguments, like this:\n",
                "\n",
                "\n",
                "\n",
                "```\n",
                "my_function(a=1, b=2, c=3)\n",
                "\n",
                "```\n",
                "\n",
                "\n",
                "\n",
                "When the function is called, the **kwargs dictionary will contain the following key-value pairs:\n",
                "\n",
                "\n",
                "\n",
                "```\n",
                "{'a': 1, 'b': 2, 'c': 3}\n",
                "\n",
                "```\n",
                "\n",
                "\n",
                "\n",
                "You can then access the values in the **kwargs dictionary using the key names. For example, the following code will print the value of the `a` key:\n",
                "\n",
                "\n",
                "\n",
                "```\n",
                "print(my_kwargs['a'])\n",
                "\n",
                "```\n",
                "\n",
                "\n",
                "\n",
                "- *kwargs can be a very useful tool for making your functions more flexible and reusable. It can also be used to make your functions more concise, by eliminating the need to define a separate function for each possible set of keyword arguments.\n",
                "\n",
                "Here are some additional things to keep in mind about **kwargs:\n",
                "\n",
                "- The **kwargs keyword must be the last parameter in a function definition.\n",
                "- The **kwargs dictionary will always contain strings as keys.\n",
                "- The **kwargs dictionary will always contain the values that were passed to the function as keyword arguments."
            ],
            "metadata": {
                "language": "python",
                "azdata_cell_guid": "fbf1de3e-de78-4a6b-b25e-6edf91da2381"
            },
            "attachments": {}
        },
        {
            "cell_type": "markdown",
            "source": [
                ""
            ],
            "metadata": {
                "language": "python",
                "azdata_cell_guid": "c3de45a9-a037-4c6e-9df4-ee45b33bacb0"
            }
        }
    ]
}