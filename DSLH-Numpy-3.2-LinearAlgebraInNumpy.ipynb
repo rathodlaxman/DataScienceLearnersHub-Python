{
    "metadata": {
        "kernelspec": {
            "name": "python3",
            "display_name": "Python 3",
            "language": "python"
        },
        "language_info": {
            "name": "python",
            "version": "3.10.9",
            "mimetype": "text/x-python",
            "codemirror_mode": {
                "name": "ipython",
                "version": 3
            },
            "pygments_lexer": "ipython3",
            "nbconvert_exporter": "python",
            "file_extension": ".py"
        }
    },
    "nbformat_minor": 2,
    "nbformat": 4,
    "cells": [
        {
            "cell_type": "markdown",
            "source": [
                "# **`Data Science Learners Hub`**\n",
                "\n",
                "**Module : Python**\n",
                "\n",
                "**email** : [datasciencelearnershub@gmail.com](mailto:datasciencelearnershub@gmail.com)"
            ],
            "metadata": {
                "azdata_cell_guid": "b729783d-941c-4d4d-aa3f-53f56bfa2905"
            },
            "attachments": {}
        },
        {
            "cell_type": "markdown",
            "source": [
                "### **`#3: Advanced Topics in NumPy`**\n",
                "\n",
                "1. **Broadcasting:**\n",
                "   - Understanding how NumPy handles operations on arrays of different shapes.\n",
                "   - Examples illustrating broadcasting.\n",
                "\n",
                "2. **Linear Algebra with NumPy:**\n",
                "   - Matrix multiplication.\n",
                "   - Solving linear equations using NumPy.\n",
                "\n",
                "3. **Random in NumPy:**\n",
                "   - Generating random numbers with `np.random`.\n",
                "   - Simulating random processes.\n",
                "\n",
                "4. **File I/O with NumPy:**\n",
                "   - Reading and writing data to files using `np.loadtxt` and `np.savetxt`.\n",
                "   - Saving and loading NumPy arrays using `np.save` and `np.load`.\n",
                "\n",
                "\n",
                ""
            ],
            "metadata": {
                "azdata_cell_guid": "20157677-2656-485e-9bb4-c83bcaad29e4"
            },
            "attachments": {}
        },
        {
            "cell_type": "markdown",
            "source": [
                "### **`3.2. Linear Algebra with NumPy:`**"
            ],
            "metadata": {
                "language": "python",
                "azdata_cell_guid": "1af612cc-91c9-4464-b89d-6ec3c3d4c62c"
            },
            "attachments": {}
        },
        {
            "cell_type": "markdown",
            "source": [
                "**1. Matrix Multiplication:**\n",
                "\n",
                "- **Scenario:** Financial Portfolio Optimization\n",
                "- **Application:** Matrix multiplication is crucial in finance for optimizing a portfolio. If `A` represents the returns of different assets and `B` represents the weights of these assets in the portfolio, then the product `C = A * B` gives the expected portfolio returns."
            ],
            "metadata": {
                "language": "python",
                "azdata_cell_guid": "23fbf1b2-736a-48f4-b73c-4e45f511285a"
            },
            "attachments": {}
        },
        {
            "cell_type": "code",
            "source": [
                "import numpy as np\n",
                "\n",
                "returns = np.array([[0.05, 0.03], [0.02, 0.04]])  # Asset returns matrix\n",
                "weights = np.array([[0.4], [0.6]])  # Portfolio weights matrix\n",
                "\n",
                "# Portfolio returns: C = A * B\n",
                "portfolio_returns = np.dot(returns, weights)\n",
                "\n",
                "print(portfolio_returns)"
            ],
            "metadata": {
                "language": "python",
                "azdata_cell_guid": "7b78562e-62f1-45be-b0aa-4c1579f97873",
                "tags": []
            },
            "outputs": [
                {
                    "output_type": "stream",
                    "name": "stdout",
                    "text": "[[0.038]\n [0.032]]\n"
                }
            ],
            "execution_count": 6
        },
        {
            "cell_type": "markdown",
            "source": [
                "**2. Solving Linear Equations:**\n",
                "\n",
                "- **Scenario:** Engineering Stress Analysis\n",
                "- **Application:** Linear algebra is used in engineering to solve systems of linear equations. If `A` represents the material properties, `B` represents the applied forces, and `X` represents the resulting strains, then the equation `AX = B` can be solved using NumPy."
            ],
            "metadata": {
                "language": "python",
                "azdata_cell_guid": "c7f421ea-82cd-404e-90af-9fec911bb02a"
            },
            "attachments": {}
        },
        {
            "cell_type": "code",
            "source": [
                "import numpy as np\n",
                "\n",
                "material_properties = np.array([[2, -1], [1, 3]])  # Material properties matrix\n",
                "applied_forces = np.array([[10], [5]])  # Applied forces matrix\n",
                "\n",
                "# Solve linear equations: AX = B\n",
                "strains = np.linalg.solve(material_properties, applied_forces)\n",
                "\n",
                "print(strains)"
            ],
            "metadata": {
                "language": "python",
                "azdata_cell_guid": "b0df2a0e-1b5c-406b-8040-f066fa086150",
                "tags": []
            },
            "outputs": [
                {
                    "output_type": "stream",
                    "name": "stdout",
                    "text": "[[5.]\n [0.]]\n"
                }
            ],
            "execution_count": 7
        },
        {
            "cell_type": "markdown",
            "source": [
                "**Real-world Examples:**"
            ],
            "metadata": {
                "language": "python",
                "azdata_cell_guid": "9687ea52-50e3-4925-a819-238c9685f108"
            },
            "attachments": {}
        },
        {
            "cell_type": "markdown",
            "source": [
                "1. **Structural Engineering: Finite Element Analysis**\n",
                "   - **Scenario:** Analyzing stresses and strains in structural elements.\n",
                "   - **Application:** Linear algebra operations are employed to solve complex systems of linear equations arising in finite element analysis for structural engineering."
            ],
            "metadata": {
                "language": "python",
                "azdata_cell_guid": "810999f9-bcf3-4798-8d1e-0812374d88e7"
            },
            "attachments": {}
        },
        {
            "cell_type": "code",
            "source": [
                "import numpy as np\n",
                "\n",
                "stiffness_matrix = np.array([[1000, -500], [-500, 800]])  # Stiffness matrix\n",
                "applied_forces = np.array([[100], [50]])  # Applied forces matrix\n",
                "\n",
                "# Solve linear equations: AX = B\n",
                "displacements = np.linalg.solve(stiffness_matrix, applied_forces)\n",
                "\n",
                "print(displacements)"
            ],
            "metadata": {
                "language": "python",
                "azdata_cell_guid": "d5415342-7148-428b-accf-d4a6fc5adb87",
                "tags": []
            },
            "outputs": [
                {
                    "output_type": "stream",
                    "name": "stdout",
                    "text": "[[0.19090909]\n [0.18181818]]\n"
                }
            ],
            "execution_count": 10
        },
        {
            "cell_type": "markdown",
            "source": [
                "2. **Machine Learning: Linear Regression**\n",
                "   - **Scenario:** Predicting house prices based on features.\n",
                "   - **Application:** Linear algebra is used in linear regression models. If `X` represents feature values, `Y` represents target values, and `W` represents weights, then the equation `Y = XW` involves matrix multiplication."
            ],
            "metadata": {
                "language": "python",
                "azdata_cell_guid": "db8eecce-381c-45ae-829e-8f75c578f2ef"
            },
            "attachments": {}
        },
        {
            "cell_type": "code",
            "source": [
                "import numpy as np\n",
                "\n",
                "features = np.array([[1, 2000], [1, 2500], [1, 1800]])  # Features matrix\n",
                "weights = np.array([[500], [0.2]])  # Weights matrix\n",
                "\n",
                "# Predict house prices: Y = XW\n",
                "predicted_prices = np.dot(features, weights)\n",
                "\n",
                "print(predicted_prices)"
            ],
            "metadata": {
                "language": "python",
                "azdata_cell_guid": "a5f59122-a56a-4bd3-863a-f4a10b7930f8",
                "tags": []
            },
            "outputs": [
                {
                    "output_type": "stream",
                    "name": "stdout",
                    "text": "[[ 900.]\n [1000.]\n [ 860.]]\n"
                }
            ],
            "execution_count": 11
        },
        {
            "cell_type": "markdown",
            "source": [
                "**Key Takeaway:**\n",
                "\n",
                "NumPy's linear algebra capabilities make it a powerful tool for solving problems in various fields. Whether it's optimizing financial portfolios, analyzing stress in engineering structures, performing image transformations, or implementing machine learning algorithms, linear algebra with NumPy provides a versatile and efficient framework for numerical computations."
            ],
            "metadata": {
                "language": "python",
                "azdata_cell_guid": "90ea68cb-d716-4a99-9652-539d57b702f8"
            },
            "attachments": {}
        },
        {
            "cell_type": "markdown",
            "source": [
                "#### **`Understanding Matrices`**\n",
                "\n",
                "**Matrix Addition** : https://www.youtube.com/watch?v=ZCmVpGv6_1g\n",
                "\n",
                "**Matrix Multiplication**: \n",
                "\n",
                "https://www.youtube.com/watch?v=o6tGHLkZvVM\n",
                "\n",
                "https://youtu.be/RE-nDY2aWso\n",
                "\n",
                "Multiplication in Numpy is of two types\n",
                "- Element wise mul\n",
                "- dot product mul\n",
                ""
            ],
            "metadata": {
                "language": "python",
                "azdata_cell_guid": "cbaaf8de-08b7-400f-9816-cbd041cb5935"
            },
            "attachments": {}
        },
        {
            "cell_type": "code",
            "source": [
                "# What is the output of this ?\n",
                "\n",
                "import numpy as np\n",
                "\n",
                "A = np.array([[1,2],[3,4]])\n",
                "B = np.array([[5,6],[7,8]])\n",
                "\n",
                "print(\"-----Matrix A------\")\n",
                "print(A)\n",
                "print(\"-----Matrix B------\")\n",
                "print(B)\n",
                "print(\"-----A*B------\") #Element wise multiplication\n",
                "print(a*b)\n",
                "\n",
                "C = np.matmul(A,B)\n",
                "print(\"-----Matrix Mul------\")\n",
                "print(C)\n",
                "\n",
                "D = np.dot(A,B)\n",
                "print(\"-----Dot Mul------\")\n",
                "print(D)\n",
                "\n",
                "# Note : the output of a*b, c and d\n",
                ""
            ],
            "metadata": {
                "language": "python",
                "azdata_cell_guid": "6b145dab-b5f5-4aff-aa95-7768bf4ffbf9",
                "tags": []
            },
            "outputs": [
                {
                    "name": "stdout",
                    "text": "-----Matrix A------\n[[1 2]\n [3 4]]\n-----Matrix B------\n[[5 6]\n [7 8]]\n-----A*B------\n[[ 5 12]\n [21 32]]\n-----Matrix Mul------\n[[19 22]\n [43 50]]\n-----Dot Mul------\n[[19 22]\n [43 50]]\n",
                    "output_type": "stream"
                }
            ],
            "execution_count": 2
        },
        {
            "cell_type": "markdown",
            "source": [
                "#### Explanation:\n",
                "\n",
                "- **`matmul()` vs. `dot()` Difference:**\n",
                "  - In the context of 2D arrays (matrices), both `matmul()` and `dot()` functions perform matrix multiplication (dot product).\n",
                "  - The key difference is how they handle 2D arrays versus higher-dimensional arrays:\n",
                "    - `matmul()` is specifically designed for matrix multiplication. It treats both 1-D and 2-D arrays as matrices and performs matrix multiplication accordingly.\n",
                "    - `dot()` has more flexibility. It handles matrix multiplication for 2-D arrays but behaves differently for higher-dimensional arrays.\n",
                "\n",
                "In most cases involving 2D arrays, `matmul()` and `dot()` will produce the same result. However, for clarity and readability, it is recommended to use `matmul()` when explicitly performing matrix multiplication to convey the intent of the operation."
            ],
            "metadata": {
                "azdata_cell_guid": "2ac8af53-8e5d-46ec-a5a4-4de0508e2eeb"
            },
            "attachments": {}
        },
        {
            "cell_type": "markdown",
            "source": [
                "#### Note:\n",
                "\n",
                "- Matrices A(mxn), B(nxp) then 'n' should be matching in case of Dot products. The resultant matrix will have order of mxn\n",
                "- Dot product of A.B is not equal to B.A i.e they dont have associative product."
            ],
            "metadata": {
                "language": "python",
                "azdata_cell_guid": "5c862da2-b296-4276-9660-942210dc3e70"
            },
            "attachments": {}
        }
    ]
}