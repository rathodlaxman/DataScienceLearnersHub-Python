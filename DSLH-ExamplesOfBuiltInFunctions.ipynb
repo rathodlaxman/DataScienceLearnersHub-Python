{
    "metadata": {
        "kernelspec": {
            "name": "python3",
            "display_name": "Python 3",
            "language": "python"
        },
        "language_info": {
            "name": "python",
            "version": "3.10.9",
            "mimetype": "text/x-python",
            "codemirror_mode": {
                "name": "ipython",
                "version": 3
            },
            "pygments_lexer": "ipython3",
            "nbconvert_exporter": "python",
            "file_extension": ".py"
        }
    },
    "nbformat_minor": 2,
    "nbformat": 4,
    "cells": [
        {
            "cell_type": "markdown",
            "source": [
                "# **Data Science Learners Hub - Python**\n",
                "\n",
                "**Module : Python**\n",
                "\n",
                "**Topic :** <span style=\"font-size: 12px; caret-color: rgb(31, 31, 31); white-space-collapse: preserve; background-color: rgb(255, 255, 255);\">Examples of Built-In Functions for Strings</span>\n",
                "\n",
                "**email** : [datasciencelearnershub@gmail.com](https://github.com/rathodlaxman/DataScienceLearnersHub/blob/50de48da0c8f7145a545dd9942457c8b9cfc8fc5//mailto:datasciencelearnershub@gmail.com)"
            ],
            "metadata": {
                "azdata_cell_guid": "65178aa6-ec13-4ca5-96cd-0c0e71131cee"
            },
            "attachments": {}
        },
        {
            "cell_type": "markdown",
            "source": [
                "## **\\# Examples of Built-In Functions for Strings**"
            ],
            "metadata": {
                "azdata_cell_guid": "ce853e98-55d7-4b02-9b54-5f2bad96cfc6"
            },
            "attachments": {}
        },
        {
            "cell_type": "markdown",
            "source": [
                "### Python provides a wide range of built-in functions and methods for working with strings. Here are some of the most commonly used built-in functions for strings:"
            ],
            "metadata": {
                "azdata_cell_guid": "f09b265c-3268-48ec-9570-340fa2b8977b"
            },
            "attachments": {}
        },
        {
            "cell_type": "markdown",
            "source": [
                "1. **len()**: Returns the length (the number of characters) of a string."
            ],
            "metadata": {
                "azdata_cell_guid": "5579cc5b-9e74-4b2c-911a-0c595910b7cb"
            },
            "attachments": {}
        },
        {
            "cell_type": "code",
            "source": [
                "my_string = \"Hello, World!\"\n",
                "length = len(my_string)\n",
                "print(length) "
            ],
            "metadata": {
                "azdata_cell_guid": "3ae23658-dd83-45c0-8812-4e26ecbade74",
                "language": "python"
            },
            "outputs": [
                {
                    "output_type": "stream",
                    "name": "stdout",
                    "text": "13\n"
                }
            ],
            "execution_count": 1
        },
        {
            "cell_type": "markdown",
            "source": [
                "2. **str()**: Converts an object into a string."
            ],
            "metadata": {
                "language": "python",
                "azdata_cell_guid": "ef01a13e-64c1-4e3c-b530-42bc7aa3e71b"
            },
            "attachments": {}
        },
        {
            "cell_type": "code",
            "source": [
                "number = 42\n",
                "str_number = str(number)\n",
                "print(str_number)  # Output: \"42\""
            ],
            "metadata": {
                "language": "python",
                "azdata_cell_guid": "d124c646-1a4f-4e8f-9b64-bc994a009c33"
            },
            "outputs": [
                {
                    "output_type": "stream",
                    "name": "stdout",
                    "text": "42\n"
                }
            ],
            "execution_count": 2
        },
        {
            "cell_type": "markdown",
            "source": [
                "3. **lower()**: Converts all characters in a string to lowercase."
            ],
            "metadata": {
                "language": "python",
                "azdata_cell_guid": "3ff43263-dee3-4fca-8b92-02e6da09af4a"
            },
            "attachments": {}
        },
        {
            "cell_type": "code",
            "source": [
                "my_string = \"Hello, World!\"\n",
                "lower_string = my_string.lower()\n",
                "print(lower_string)  # Output: \"hello, world!\""
            ],
            "metadata": {
                "language": "python",
                "azdata_cell_guid": "83e35cf4-4048-4f64-85ac-dbf60bde4a64"
            },
            "outputs": [
                {
                    "output_type": "stream",
                    "name": "stdout",
                    "text": "hello, world!\n"
                }
            ],
            "execution_count": 3
        },
        {
            "cell_type": "markdown",
            "source": [
                "4. **upper()**: Converts all characters in a string to uppercase."
            ],
            "metadata": {
                "language": "python",
                "azdata_cell_guid": "2f1eb4e2-339d-4d02-952f-76332fc8781f"
            },
            "attachments": {}
        },
        {
            "cell_type": "code",
            "source": [
                "my_string = \"Hello, World!\"\n",
                "upper_string = my_string.upper()\n",
                "print(upper_string)  # Output: \"HELLO, WORLD!\""
            ],
            "metadata": {
                "language": "python",
                "azdata_cell_guid": "ed070e65-c3b2-41a9-9d27-e418421a9465"
            },
            "outputs": [
                {
                    "output_type": "stream",
                    "name": "stdout",
                    "text": "HELLO, WORLD!\n"
                }
            ],
            "execution_count": 4
        },
        {
            "cell_type": "markdown",
            "source": [
                "5. **strip()**: Removes leading and trailing whitespace characters from a string."
            ],
            "metadata": {
                "language": "python",
                "azdata_cell_guid": "ab3eb26f-b769-44c5-a5c5-3cee4e9f6887"
            },
            "attachments": {}
        },
        {
            "cell_type": "code",
            "source": [
                "my_string = \"   Hello, World!   \"\n",
                "stripped_string = my_string.strip()\n",
                "print(stripped_string)  # Output: \"Hello, World!\""
            ],
            "metadata": {
                "language": "python",
                "azdata_cell_guid": "1f394f90-bbfb-4b69-9376-30e31773ae4c"
            },
            "outputs": [
                {
                    "output_type": "stream",
                    "name": "stdout",
                    "text": "Hello, World!\n"
                }
            ],
            "execution_count": 5
        },
        {
            "cell_type": "markdown",
            "source": [
                "6. **replace()**: Replaces a specified substring with another substring."
            ],
            "metadata": {
                "language": "python",
                "azdata_cell_guid": "69ff52b8-d546-495a-9868-1000f8df0352"
            },
            "attachments": {}
        },
        {
            "cell_type": "code",
            "source": [
                "my_string = \"Hello, World!\"\n",
                "new_string = my_string.replace(\"World\", \"Python\")\n",
                "print(new_string)  # Output: \"Hello, Python!\""
            ],
            "metadata": {
                "language": "python",
                "azdata_cell_guid": "8a5b5cbb-be3f-444d-bec3-b52a983d64a1"
            },
            "outputs": [
                {
                    "output_type": "stream",
                    "name": "stdout",
                    "text": "Hello, Python!\n"
                }
            ],
            "execution_count": 6
        },
        {
            "cell_type": "markdown",
            "source": [
                "7. **split()**: Splits a string into a list of substrings based on a specified delimiter."
            ],
            "metadata": {
                "language": "python",
                "azdata_cell_guid": "81b97bd0-fed2-4c0e-a9e8-8ce47d08b93d"
            },
            "attachments": {}
        },
        {
            "cell_type": "code",
            "source": [
                "my_string = \"apple,banana,cherry\"\n",
                "fruits = my_string.split(\",\")\n",
                "print(fruits)  # Output: ['apple', 'banana', 'cherry']"
            ],
            "metadata": {
                "language": "python",
                "azdata_cell_guid": "cb9fcaa9-f6d0-4263-9f69-59b5c1fa6db3"
            },
            "outputs": [
                {
                    "output_type": "stream",
                    "name": "stdout",
                    "text": "['apple', 'banana', 'cherry']\n"
                }
            ],
            "execution_count": 7
        },
        {
            "cell_type": "markdown",
            "source": [
                "8. **join()**: Joins a list of strings into a single string using a specified delimiter."
            ],
            "metadata": {
                "language": "python",
                "azdata_cell_guid": "c93aefe2-63ff-40fb-97a4-cd00d916e09b"
            },
            "attachments": {}
        },
        {
            "cell_type": "code",
            "source": [
                "fruits = ['apple', 'banana', 'cherry']\n",
                "fruit_string = \",\".join(fruits)\n",
                "print(fruit_string)  # Output: \"apple,banana,cherry\""
            ],
            "metadata": {
                "language": "python",
                "azdata_cell_guid": "d6c0f3cb-d82b-45f4-a77f-a804142d6358"
            },
            "outputs": [
                {
                    "output_type": "stream",
                    "name": "stdout",
                    "text": "apple,banana,cherry\n"
                }
            ],
            "execution_count": 8
        },
        {
            "cell_type": "markdown",
            "source": [
                "9. **find()**: Searches for a substring within a string and returns its starting index."
            ],
            "metadata": {
                "language": "python",
                "azdata_cell_guid": "4aa4ef66-3001-4fad-86ed-38e6e91f6f82"
            },
            "attachments": {}
        },
        {
            "cell_type": "code",
            "source": [
                "my_string = \"Hello, World!\"\n",
                "index = my_string.find(\"World\")\n",
                "print(index)  # Output: 7"
            ],
            "metadata": {
                "language": "python",
                "azdata_cell_guid": "4d980725-2517-4647-8f7e-341c7bf04464"
            },
            "outputs": [
                {
                    "output_type": "stream",
                    "name": "stdout",
                    "text": "7\n"
                }
            ],
            "execution_count": 9
        },
        {
            "cell_type": "markdown",
            "source": [
                "10. **count()**: Counts the number of occurrences of a substring within a string."
            ],
            "metadata": {
                "language": "python",
                "azdata_cell_guid": "42a35f3c-620c-4cd0-85aa-450479838bb4"
            },
            "attachments": {}
        },
        {
            "cell_type": "code",
            "source": [
                "my_string = \"Hello, World! Hello!\"\n",
                "count = my_string.count(\"Hello\")\n",
                "print(count)  # Output: 2"
            ],
            "metadata": {
                "language": "python",
                "azdata_cell_guid": "10e848f4-5783-4634-bac2-bb12d8b689e0"
            },
            "outputs": [
                {
                    "output_type": "stream",
                    "name": "stdout",
                    "text": "2\n"
                }
            ],
            "execution_count": 10
        },
        {
            "cell_type": "markdown",
            "source": [
                "11. **startswith()**: Checks if a string starts with a specified prefix and returns a boolean."
            ],
            "metadata": {
                "language": "python",
                "azdata_cell_guid": "de5595c7-d643-4ce3-889f-703798490497"
            },
            "attachments": {}
        },
        {
            "cell_type": "code",
            "source": [
                "my_string = \"Hello, World!\"\n",
                "starts_with_hello = my_string.startswith(\"Hello\")\n",
                "print(starts_with_hello)  # Output: True"
            ],
            "metadata": {
                "language": "python",
                "azdata_cell_guid": "addc458d-72c4-41dd-beac-3bb3c25bb8b6"
            },
            "outputs": [
                {
                    "output_type": "stream",
                    "name": "stdout",
                    "text": "True\n"
                }
            ],
            "execution_count": 1
        },
        {
            "cell_type": "markdown",
            "source": [
                "12. **endswith()**: Checks if a string ends with a specified suffix and returns a boolean."
            ],
            "metadata": {
                "language": "python",
                "azdata_cell_guid": "04590745-3aff-43aa-8232-dcf9641d78da"
            },
            "attachments": {}
        },
        {
            "cell_type": "code",
            "source": [
                "my_string = \"Hello, World!\"\n",
                "ends_with_world = my_string.endswith(\"World!\")\n",
                "print(ends_with_world)  # Output: True"
            ],
            "metadata": {
                "language": "python",
                "azdata_cell_guid": "e285e0e6-33de-480c-befa-6ee9b358a880"
            },
            "outputs": [
                {
                    "output_type": "stream",
                    "name": "stdout",
                    "text": "True\n"
                }
            ],
            "execution_count": 2
        },
        {
            "cell_type": "markdown",
            "source": [
                "13. **isalpha()**: Checks if all characters in a string are alphabetic."
            ],
            "metadata": {
                "language": "python",
                "azdata_cell_guid": "60db79a4-bf26-437c-9315-b3546774752c"
            },
            "attachments": {}
        },
        {
            "cell_type": "code",
            "source": [
                "alpha_string = \"abcDEF\"\n",
                "is_alpha = alpha_string.isalpha()\n",
                "print(is_alpha)  # Output: True"
            ],
            "metadata": {
                "language": "python",
                "azdata_cell_guid": "cbea78c6-67e2-47d7-b6fe-951b2f308802"
            },
            "outputs": [
                {
                    "output_type": "stream",
                    "name": "stdout",
                    "text": "True\n"
                }
            ],
            "execution_count": 9
        },
        {
            "cell_type": "markdown",
            "source": [
                "14. **isdigit()**: Checks if all characters in a string are digits."
            ],
            "metadata": {
                "language": "python",
                "azdata_cell_guid": "c16096d7-a572-418e-ba00-d44e8ec22252"
            },
            "attachments": {}
        },
        {
            "cell_type": "code",
            "source": [
                "digit_string = \"12345\"\n",
                "is_digit = digit_string.isdigit()\n",
                "print(is_digit)  # Output: True"
            ],
            "metadata": {
                "language": "python",
                "azdata_cell_guid": "341f7107-fe10-441a-be44-604c90be1ce7"
            },
            "outputs": [
                {
                    "output_type": "stream",
                    "name": "stdout",
                    "text": "True\n"
                }
            ],
            "execution_count": 10
        },
        {
            "cell_type": "markdown",
            "source": [
                "15. **isalnum()**: Checks if all characters in a string are alphanumeric (letters or digits)."
            ],
            "metadata": {
                "azdata_cell_guid": "dca2241d-f986-49e6-9bab-79e1f8ed60e2"
            },
            "attachments": {}
        },
        {
            "cell_type": "code",
            "source": [
                "alnum_string = \"abc123\"\n",
                "is_alnum = alnum_string.isalnum()\n",
                "print(is_alnum)  # Output: True"
            ],
            "metadata": {
                "azdata_cell_guid": "096d3c03-565e-4cf7-80ed-dbdd88413084",
                "language": "python"
            },
            "outputs": [
                {
                    "output_type": "stream",
                    "name": "stdout",
                    "text": "True\n"
                }
            ],
            "execution_count": 8
        },
        {
            "cell_type": "markdown",
            "source": [
                "16. **islower()**: Checks if all characters in a string are lowercase."
            ],
            "metadata": {
                "azdata_cell_guid": "09138893-f82d-41ff-b339-a9afc06dde44"
            },
            "attachments": {}
        },
        {
            "cell_type": "code",
            "source": [
                "lower_string = \"hello\"\n",
                "is_lower = lower_string.islower()\n",
                "print(is_lower)  # Output: True"
            ],
            "metadata": {
                "azdata_cell_guid": "737fa2a9-9691-4117-9d80-e5ace9a70555",
                "language": "python"
            },
            "outputs": [
                {
                    "output_type": "stream",
                    "name": "stdout",
                    "text": "True\n"
                }
            ],
            "execution_count": 7
        },
        {
            "cell_type": "markdown",
            "source": [
                "17. **isupper()**: Checks if all characters in a string are uppercase."
            ],
            "metadata": {
                "azdata_cell_guid": "51d120bc-13e7-4d53-999c-b2870cbe192f"
            },
            "attachments": {}
        },
        {
            "cell_type": "code",
            "source": [
                "upper_string = \"HELLO\"\n",
                "is_upper = upper_string.isupper()\n",
                "print(is_upper)  # Output: True"
            ],
            "metadata": {
                "azdata_cell_guid": "bf6c52ae-fa73-427e-9a64-c2dfff0d28f1",
                "language": "python"
            },
            "outputs": [
                {
                    "output_type": "stream",
                    "name": "stdout",
                    "text": "True\n"
                }
            ],
            "execution_count": 6
        },
        {
            "cell_type": "markdown",
            "source": [
                "18. **isspace()**: Checks if a string consists only of whitespace characters."
            ],
            "metadata": {
                "azdata_cell_guid": "56dfd632-e35a-48e5-8f15-e05d60f3f02d"
            },
            "attachments": {}
        },
        {
            "cell_type": "code",
            "source": [
                "space_string = \"   \"\n",
                "is_space = space_string.isspace()\n",
                "print(is_space)  # Output: True"
            ],
            "metadata": {
                "azdata_cell_guid": "ca2288b9-b369-4322-ba2d-fd0c8db9b306",
                "language": "python"
            },
            "outputs": [
                {
                    "output_type": "stream",
                    "name": "stdout",
                    "text": "True\n"
                }
            ],
            "execution_count": 5
        },
        {
            "cell_type": "markdown",
            "source": [
                "19. **capitalize()**: Capitalizes the first character of a string."
            ],
            "metadata": {
                "azdata_cell_guid": "3a4e65ff-bfb6-4fa7-98ac-52f650588758"
            },
            "attachments": {}
        },
        {
            "cell_type": "code",
            "source": [
                "my_string = \"hello, world!\"\n",
                "capitalized_string = my_string.capitalize()\n",
                "print(capitalized_string)  # Output: \"Hello, world!\""
            ],
            "metadata": {
                "azdata_cell_guid": "006e706c-6d29-4b62-8635-48133972842a",
                "language": "python"
            },
            "outputs": [
                {
                    "output_type": "stream",
                    "name": "stdout",
                    "text": "Hello, world!\n"
                }
            ],
            "execution_count": 4
        },
        {
            "cell_type": "markdown",
            "source": [
                "20. **title()**: Converts the first character of each word in a string to uppercase."
            ],
            "metadata": {
                "azdata_cell_guid": "23913159-1958-4c31-8dcd-4e5bb2822062"
            },
            "attachments": {}
        },
        {
            "cell_type": "code",
            "source": [
                "my_string = \"hello, world!\"\n",
                "title_string = my_string.title()\n",
                "print(title_string)  # Output: \"Hello, World!\""
            ],
            "metadata": {
                "azdata_cell_guid": "ec1fb28b-ec5f-4e57-b296-d34623435034",
                "language": "python",
                "tags": [
                    "hide_input"
                ]
            },
            "outputs": [
                {
                    "output_type": "stream",
                    "name": "stdout",
                    "text": "Hello, World!\n"
                }
            ],
            "execution_count": 3
        },
        {
            "cell_type": "markdown",
            "source": [
                "21. **center()**: Centers a string within a specified width, adding padding characters on both sides."
            ],
            "metadata": {
                "language": "python",
                "azdata_cell_guid": "e25d25bd-dd8a-4b95-a60a-6eeb88654d2e"
            },
            "attachments": {}
        },
        {
            "cell_type": "code",
            "source": [
                "my_string = \"Hello\"\n",
                "centered_string = my_string.center(10, \"-\")\n",
                "print(centered_string)  # Output: \"--Hello---\""
            ],
            "metadata": {
                "language": "python",
                "azdata_cell_guid": "5a19943e-9e2d-4d11-816d-2d64c0d1ee0f"
            },
            "outputs": [
                {
                    "output_type": "stream",
                    "name": "stdout",
                    "text": "--Hello---\n"
                }
            ],
            "execution_count": 11
        },
        {
            "cell_type": "markdown",
            "source": [
                "22. **ljust()**: Left-justifies a string within a specified width, adding padding characters on the right."
            ],
            "metadata": {
                "language": "python",
                "azdata_cell_guid": "4c360c0d-d96e-46b2-9d68-86b31ea3a733"
            },
            "attachments": {}
        },
        {
            "cell_type": "code",
            "source": [
                "my_string = \"Hello\"\n",
                "left_justified_string = my_string.ljust(10, \"-\")\n",
                "print(left_justified_string)  # Output: \"Hello-----\""
            ],
            "metadata": {
                "language": "python",
                "azdata_cell_guid": "56f878c7-9df8-40f4-87f1-049b8759fccc"
            },
            "outputs": [
                {
                    "output_type": "stream",
                    "name": "stdout",
                    "text": "Hello-----\n"
                }
            ],
            "execution_count": 12
        },
        {
            "cell_type": "markdown",
            "source": [
                "23. **rjust()**: Right-justifies a string within a specified width, adding padding characters on the left."
            ],
            "metadata": {
                "language": "python",
                "azdata_cell_guid": "845624ff-b27c-4ed0-96b8-899180e38234"
            },
            "attachments": {}
        },
        {
            "cell_type": "code",
            "source": [
                "my_string = \"Hello\"\n",
                "right_justified_string = my_string.rjust(10, \"-\")\n",
                "print(right_justified_string)  # Output: \"-----Hello\""
            ],
            "metadata": {
                "language": "python",
                "azdata_cell_guid": "a5ee203b-dac7-417d-8195-73fca907a098"
            },
            "outputs": [
                {
                    "output_type": "stream",
                    "name": "stdout",
                    "text": "-----Hello\n"
                }
            ],
            "execution_count": 13
        },
        {
            "cell_type": "markdown",
            "source": [
                "24. **zfill()**: Pads a numeric string with zeros on the left to a specified width."
            ],
            "metadata": {
                "language": "python",
                "azdata_cell_guid": "61093831-9a43-4d2a-a670-365ab9932b28"
            },
            "attachments": {}
        },
        {
            "cell_type": "code",
            "source": [
                "numeric_string = \"42\"\n",
                "zero_padded_string = numeric_string.zfill(5)\n",
                "print(zero_padded_string)  # Output: \"00042\""
            ],
            "metadata": {
                "language": "python",
                "azdata_cell_guid": "badd9a26-8561-4c22-8db9-5f488bd0bbfb"
            },
            "outputs": [
                {
                    "output_type": "stream",
                    "name": "stdout",
                    "text": "00042\n"
                }
            ],
            "execution_count": 14
        },
        {
            "cell_type": "markdown",
            "source": [
                "25. **expandtabs()**: Replaces tab characters with spaces based on a specified tab size."
            ],
            "metadata": {
                "language": "python",
                "azdata_cell_guid": "ceceddc5-671a-4f5d-a6da-075f5d0734de"
            },
            "attachments": {}
        },
        {
            "cell_type": "code",
            "source": [
                "tabbed_string = \"Hello\\\\\\tWorld\"\n",
                "expanded_string = tabbed_string.expandtabs(4)\n",
                "print(expanded_string)  # Output: \"Hello   World\""
            ],
            "metadata": {
                "language": "python",
                "azdata_cell_guid": "84565706-e9c6-4464-be70-17ec71bcd428"
            },
            "outputs": [
                {
                    "output_type": "stream",
                    "name": "stdout",
                    "text": "Hello\\  World\n"
                }
            ],
            "execution_count": 21
        },
        {
            "cell_type": "markdown",
            "source": [
                "26. **isdecimal()**: Checks if all characters in a string are decimal (0-9) characters."
            ],
            "metadata": {
                "language": "python",
                "azdata_cell_guid": "d7b4745c-9198-4887-81cf-bd9af00f0b6f"
            },
            "attachments": {}
        },
        {
            "cell_type": "code",
            "source": [
                "decimal_string = \"12345\"\n",
                "is_decimal = decimal_string.isdecimal()\n",
                "print(is_decimal)  # Output: True"
            ],
            "metadata": {
                "language": "python",
                "azdata_cell_guid": "dcfb4519-5255-4276-8b3f-da566e0fbfc7"
            },
            "outputs": [
                {
                    "output_type": "stream",
                    "name": "stdout",
                    "text": "True\n"
                }
            ],
            "execution_count": 22
        },
        {
            "cell_type": "markdown",
            "source": [
                "27. **isnumeric()**: Checks if all characters in a string are numeric characters."
            ],
            "metadata": {
                "language": "python",
                "azdata_cell_guid": "e668f6ef-fe02-4cd1-815c-5aa2c6942047"
            },
            "attachments": {}
        },
        {
            "cell_type": "code",
            "source": [
                "numeric_string = \"²346¾\"\n",
                "is_numeric = numeric_string.isnumeric()\n",
                "print(is_numeric)  # Output: True"
            ],
            "metadata": {
                "language": "python",
                "azdata_cell_guid": "dad35a51-a3ba-4b51-9fe6-d1587148ae26"
            },
            "outputs": [
                {
                    "output_type": "stream",
                    "name": "stdout",
                    "text": "True\n"
                }
            ],
            "execution_count": 23
        },
        {
            "cell_type": "markdown",
            "source": [
                "28. **isprintable()**: Checks if all characters in a string are printable (non-control) characters."
            ],
            "metadata": {
                "language": "python",
                "azdata_cell_guid": "71fd4208-9436-432d-b582-a63311bf1154"
            },
            "attachments": {}
        },
        {
            "cell_type": "code",
            "source": [
                "printable_string = \"Hello, World!\"\n",
                "is_printable = printable_string.isprintable()\n",
                "print(is_printable)  # Output: True"
            ],
            "metadata": {
                "language": "python",
                "azdata_cell_guid": "84fda872-9b46-4567-9fa9-9653a7fc74b3"
            },
            "outputs": [
                {
                    "output_type": "stream",
                    "name": "stdout",
                    "text": "True\n"
                }
            ],
            "execution_count": 24
        },
        {
            "cell_type": "markdown",
            "source": [
                "29. **isidentifier()**: Checks if a string is a valid Python identifier (variable name)."
            ],
            "metadata": {
                "language": "python",
                "azdata_cell_guid": "f4fc2b47-b3ef-4cdf-964b-1752b7b4840a"
            },
            "attachments": {}
        },
        {
            "cell_type": "code",
            "source": [
                "identifier_string = \"my_variable\"\n",
                "is_identifier = identifier_string.isidentifier()\n",
                "print(is_identifier)  # Output: True"
            ],
            "metadata": {
                "language": "python",
                "azdata_cell_guid": "b85a4590-390c-4dcc-a9e8-e100fa384773"
            },
            "outputs": [
                {
                    "output_type": "stream",
                    "name": "stdout",
                    "text": "True\n"
                }
            ],
            "execution_count": 25
        },
        {
            "cell_type": "code",
            "source": [
                "import math\n",
                "math.sqrt?"
            ],
            "metadata": {
                "language": "python",
                "azdata_cell_guid": "fae5c7aa-2eb4-44ef-a90b-5e3151ff6c83"
            },
            "outputs": [],
            "execution_count": 30
        }
    ]
}