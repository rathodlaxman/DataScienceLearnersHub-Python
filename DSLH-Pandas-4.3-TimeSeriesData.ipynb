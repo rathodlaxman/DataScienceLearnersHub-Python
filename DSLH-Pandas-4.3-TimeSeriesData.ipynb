{
    "metadata": {
        "kernelspec": {
            "name": "python3",
            "display_name": "Python 3",
            "language": "python"
        },
        "language_info": {
            "name": "python",
            "version": "3.10.9",
            "mimetype": "text/x-python",
            "codemirror_mode": {
                "name": "ipython",
                "version": 3
            },
            "pygments_lexer": "ipython3",
            "nbconvert_exporter": "python",
            "file_extension": ".py"
        }
    },
    "nbformat_minor": 2,
    "nbformat": 4,
    "cells": [
        {
            "cell_type": "markdown",
            "source": [
                "# **`Data Science Learners Hub`**\n",
                "\n",
                "**Module : Python**\n",
                "\n",
                "**email** : [datasciencelearnershub@gmail.com](mailto:datasciencelearnershub@gmail.com)"
            ],
            "metadata": {
                "azdata_cell_guid": "2fe53921-9fe6-448f-9a1a-be3c42e6d770"
            },
            "attachments": {}
        },
        {
            "cell_type": "markdown",
            "source": [
                "## **`#4: Advanced Data Manipulation`**\n",
                "\n",
                "10. **Merging and Concatenating DataFrames**\n",
                "    \n",
                "    - Combining DataFrames\n",
                "    - Concatenation and merging operations\n",
                "11. **Reshaping Data**\n",
                "    \n",
                "    - Pivoting and melting\n",
                "    - Stacking and unstacking\n",
                "12. **Time Series Data**\n",
                "    \n",
                "    - Handling time and date data\n",
                "    - Resampling and frequency conversion"
            ],
            "metadata": {
                "azdata_cell_guid": "e0f26979-7b5d-4082-8d0d-c7f6c25f631f"
            },
            "attachments": {}
        },
        {
            "cell_type": "markdown",
            "source": [
                "### **`12. Time Series Data`**"
            ],
            "metadata": {
                "azdata_cell_guid": "3255599d-a3b2-42af-a27b-7749257c0dc8"
            },
            "attachments": {}
        },
        {
            "cell_type": "markdown",
            "source": [
                "### **`Handling Time and Date Data in Pandas`**"
            ],
            "metadata": {
                "azdata_cell_guid": "9514edfa-6346-407f-bc10-43c6d5b6c3b0"
            },
            "attachments": {}
        },
        {
            "cell_type": "markdown",
            "source": [
                "#### Importance of Handling Time and Date Data:\n",
                "\n",
                "Handling time and date data is crucial in data analysis for various reasons:\n",
                "\n",
                "1. **Temporal Analysis:**\n",
                "   - Time-based insights, trends, and patterns are essential for understanding data.\n",
                "\n",
                "2. **Time Series Analysis:**\n",
                "   - Analyzing data collected over time for forecasting and trend identification.\n",
                "\n",
                "3. **Data Alignment:**\n",
                "   - Aligning datasets based on time indices for effective merging and analysis.\n",
                "\n",
                "4. **Event Sequencing:**\n",
                "   - Understanding the chronological order of events for context-aware analysis.\n",
                ""
            ],
            "metadata": {
                "azdata_cell_guid": "c5aaf969-d4dc-4532-bc48-d76cd93f5c36"
            },
            "attachments": {}
        },
        {
            "cell_type": "markdown",
            "source": [
                "#### `DatetimeIndex` in Pandas:\n",
                "\n",
                "Pandas provides the `DatetimeIndex`, a powerful tool for working with time and date data."
            ],
            "metadata": {
                "azdata_cell_guid": "475c2aed-a25c-479f-828e-5bf9e52161f0"
            },
            "attachments": {}
        },
        {
            "cell_type": "code",
            "source": [
                "import pandas as pd\n",
                "\n",
                "# Creating a DatetimeIndex\n",
                "date_rng = pd.date_range(start='2022-01-01', end='2022-01-10', freq='D')\n",
                "\n",
                "# Creating a DataFrame with DatetimeIndex\n",
                "df = pd.DataFrame(date_rng, columns=['date']) # This syntax is similar to the one we have learned for creating dataframe from array\n",
                "\n",
                "\n",
                "\n",
                "# Displaying the DataFrame\n",
                "print(\"DataFrame with DatetimeIndex:\")\n",
                "print(df)\n",
                "\n",
                "# Result :  The DataFrame contains a `DatetimeIndex` ranging from '2022-01-01' to '2022-01-10'.\n",
                ""
            ],
            "metadata": {
                "azdata_cell_guid": "508c2772-c09c-4430-879d-cc83bba89318",
                "language": "python"
            },
            "outputs": [
                {
                    "name": "stdout",
                    "text": "DataFrame with DatetimeIndex:\n        date\n0 2022-01-01\n1 2022-01-02\n2 2022-01-03\n3 2022-01-04\n4 2022-01-05\n5 2022-01-06\n6 2022-01-07\n7 2022-01-08\n8 2022-01-09\n9 2022-01-10\n",
                    "output_type": "stream"
                }
            ],
            "execution_count": 3
        },
        {
            "cell_type": "markdown",
            "source": [
                "***Explanation***:\n",
                "\n",
                "The above code uses the pandas library in Python to create a DataFrame with a DatetimeIndex. Let's break down the code step by step:\n",
                "\n",
                "1. **DatetimeIndex Creation:**\n",
                "   ```python\n",
                "   date_rng = pd.date_range(start='2022-01-01', end='2022-01-10', freq='D')\n",
                "   ```\n",
                "   - `pd.date_range`: This function generates a fixed-frequency DatetimeIndex.\n",
                "   - `start='2022-01-01'`: The starting date of the range.\n",
                "   - `end='2022-01-10'`: The ending date of the range.\n",
                "   - `freq='D'`: The frequency of the date range, in this case, 'D' stands for daily.\n",
                "\n",
                "   The result (`date_rng`) is a DatetimeIndex containing dates from '2022-01-01' to '2022-01-10', with a daily frequency.\n",
                "\n",
                "2. **Creating a DataFrame with DatetimeIndex:**\n",
                "   ```python\n",
                "   df = pd.DataFrame(date_rng, columns=['date'])\n",
                "   ```\n",
                "   - `pd.DataFrame`: This function creates a DataFrame.\n",
                "   - `date_rng`: The DatetimeIndex generated earlier is used as the data for the 'date' column in the DataFrame.\n",
                "   - `columns=['date']`: Specifies the name of the column in the DataFrame. Here, the column is named 'date'.\n",
                "\n",
                "   The resulting DataFrame (`df`) will have a single column named 'date', and the index of the DataFrame will be the DatetimeIndex (`date_rng`). Each row in the DataFrame corresponds to a date in the specified range.\n",
                "\n",
                "\n",
                "3. **date_range()** :\n",
                "The `pd.date_range()` function in pandas is used to generate a fixed frequency DatetimeIndex. It is particularly useful when working with time series data and requires creating a sequence of dates. Let's break down the parameters of `pd.date_range()`:\n",
                "\n",
                "```python\n",
                "pd.date_range(start=None, end=None, periods=None, freq=None, tz=None, normalize=False, name=None, closed=None, **kwargs)\n",
                "```\n",
                "\n",
                "- **`start`**: The start date of the sequence.\n",
                "- **`end`**: The end date of the sequence.\n",
                "- **`periods`**: The total number of periods (dates) to generate.\n",
                "- **`freq`**: The frequency of the data. This can be a string representing a frequency alias (e.g., 'D' for day, 'H' for hour) or an offset object.\n",
                "- **`tz`**: Time zone for the resulting DatetimeIndex.\n",
                "- **`normalize`**: If True, normalize the start and end dates.\n",
                "- **`name`**: Name to be stored in the resulting DatetimeIndex.\n",
                "- **`closed`**: Make the interval closed on the right, left, both, or neither ('right', 'left', 'both', 'neither').\n",
                "\n",
                ""
            ],
            "metadata": {
                "language": "python",
                "azdata_cell_guid": "77209118-8fc2-438f-ad47-4a5a1471cc0a"
            },
            "attachments": {}
        },
        {
            "cell_type": "markdown",
            "source": [
                "#### Manipulating Time Series Data:"
            ],
            "metadata": {
                "language": "python",
                "azdata_cell_guid": "2520d4bf-b441-4c6a-8164-4fa9114625d7"
            },
            "attachments": {}
        },
        {
            "cell_type": "code",
            "source": [
                "# Adding a new column with random values\n",
                "import numpy as np\n",
                "\n",
                "df['value'] = np.random.randint(0, 100, size=(len(date_rng)))\n",
                "\n",
                "# Displaying the updated DataFrame\n",
                "print(\"\\nDataFrame with Random Values:\")\n",
                "print(df)\n",
                "\n",
                "# Result : The DataFrame now includes a 'value' column with random integer values."
            ],
            "metadata": {
                "language": "python",
                "azdata_cell_guid": "ae032964-4144-4fbd-9698-bd2eb88c8656"
            },
            "outputs": [
                {
                    "name": "stdout",
                    "text": "\nDataFrame with Random Values:\n        date  value\n0 2022-01-01     34\n1 2022-01-02     65\n2 2022-01-03     75\n3 2022-01-04     92\n4 2022-01-05     52\n5 2022-01-06     16\n6 2022-01-07     58\n7 2022-01-08     44\n8 2022-01-09     31\n9 2022-01-10     82\n",
                    "output_type": "stream"
                }
            ],
            "execution_count": 5
        },
        {
            "cell_type": "markdown",
            "source": [
                "#### Time Series Operations:"
            ],
            "metadata": {
                "language": "python",
                "azdata_cell_guid": "6879fffb-4315-433b-ab44-24ffe3d9afb3"
            },
            "attachments": {}
        },
        {
            "cell_type": "code",
            "source": [
                "# Extracting components of the date\n",
                "df['year'] = df['date'].dt.year\n",
                "df['month'] = df['date'].dt.month\n",
                "df['day'] = df['date'].dt.day\n",
                "df['weekday'] = df['date'].dt.day_name()\n",
                "\n",
                "# Displaying the DataFrame with extracted components\n",
                "print(\"\\nDataFrame with Date Components:\")\n",
                "print(df)\n",
                "\n",
                "# Result : Additional columns are added for the year, month, day, and weekday of each date."
            ],
            "metadata": {
                "language": "python",
                "azdata_cell_guid": "a7fc8a5e-634c-45fa-b6d0-c2aafed3e4c6"
            },
            "outputs": [
                {
                    "name": "stdout",
                    "text": "\nDataFrame with Date Components:\n        date  value  year  month  day    weekday\n0 2022-01-01     34  2022      1    1   Saturday\n1 2022-01-02     65  2022      1    2     Sunday\n2 2022-01-03     75  2022      1    3     Monday\n3 2022-01-04     92  2022      1    4    Tuesday\n4 2022-01-05     52  2022      1    5  Wednesday\n5 2022-01-06     16  2022      1    6   Thursday\n6 2022-01-07     58  2022      1    7     Friday\n7 2022-01-08     44  2022      1    8   Saturday\n8 2022-01-09     31  2022      1    9     Sunday\n9 2022-01-10     82  2022      1   10     Monday\n",
                    "output_type": "stream"
                }
            ],
            "execution_count": 6
        },
        {
            "cell_type": "markdown",
            "source": [
                "***Explanation:***\n",
                "\n",
                "In the above code, `dt` is the accessor used to access the datetime properties of a Series in pandas. This is commonly used when you have a column with datetime values in a DataFrame. Let's break down the code:\n",
                "\n",
                "1. **Extracting Year, Month, and Day:**\n",
                "   ```python\n",
                "   df['year'] = df['date'].dt.year\n",
                "   df['month'] = df['date'].dt.month\n",
                "   df['day'] = df['date'].dt.day\n",
                "   ```\n",
                "   - `df['date'].dt.year`: Accesses the year component of the 'date' column and creates a new column named 'year' in the DataFrame.\n",
                "   - `df['date'].dt.month`: Accesses the month component of the 'date' column and creates a new column named 'month' in the DataFrame.\n",
                "   - `df['date'].dt.day`: Accesses the day component of the 'date' column and creates a new column named 'day' in the DataFrame.\n",
                "\n",
                "2. **Extracting Weekday:**\n",
                "   ```python\n",
                "   df['weekday'] = df['date'].dt.day_name()\n",
                "   ```\n",
                "   - `df['date'].dt.day_name()`: Accesses the day name (e.g., Monday, Tuesday) of each date in the 'date' column and creates a new column named 'weekday' in the DataFrame.\n",
                "\n",
                "The `dt` accessor is used to make these datetime-related operations concise and easy. It's important to note that the 'date' column must contain datetime values for these operations to work. If 'date' is not a datetime column, you would need to convert it to datetime using `pd.to_datetime` before using the `dt` accessor.\n",
                "\n",
                "For example, if 'date' is not already a datetime column, you can convert it as follows:\n",
                "\n",
                "```python\n",
                "df['date'] = pd.to_datetime(df['date'])\n",
                "```\n",
                "\n",
                "After this conversion, you can use the `dt` accessor as shown in the original code."
            ],
            "metadata": {
                "language": "python",
                "azdata_cell_guid": "085674bb-6a9e-4f9e-8859-327c53117186"
            },
            "attachments": {}
        },
        {
            "cell_type": "markdown",
            "source": [
                "#### Time Resampling:"
            ],
            "metadata": {
                "azdata_cell_guid": "17e750e9-01ea-4efd-9f19-52b8ff349b75"
            },
            "attachments": {}
        },
        {
            "cell_type": "code",
            "source": [
                "# Resampling the DataFrame to weekly frequency\n",
                "weekly_df = df.resample('W-Mon', on='date').sum()\n",
                "\n",
                "# Displaying the resampled DataFrame\n",
                "print(\"\\nResampled DataFrame (Weekly):\")\n",
                "print(weekly_df)\n",
                "\n",
                "# Result : The DataFrame is resampled to a weekly frequency, aggregating values based on the sum."
            ],
            "metadata": {
                "azdata_cell_guid": "ee21203f-79e6-4fe3-ae15-8f2aabab3603",
                "language": ""
            },
            "outputs": [
                {
                    "name": "stdout",
                    "text": "\nResampled DataFrame (Weekly):\n            value   year  month  day\ndate                                \n2022-01-03    174   6066      3    6\n2022-01-10    375  14154      7   49\n",
                    "output_type": "stream"
                },
                {
                    "name": "stderr",
                    "text": "<ipython-input-7-28915bc88b0e>:2: FutureWarning: The default value of numeric_only in DataFrameGroupBy.sum is deprecated. In a future version, numeric_only will default to False. Either specify numeric_only or select only columns which should be valid for the function.\n  weekly_df = df.resample('W-Mon', on='date').sum()\n",
                    "output_type": "stream"
                }
            ],
            "execution_count": 7
        },
        {
            "cell_type": "markdown",
            "source": [
                "***Explanation***\n",
                "\n",
                "The above code is using the `resample()` method in pandas to resample a DataFrame based on a specified frequency. Let's break down the code:\n",
                "\n",
                "```python\n",
                "# Resampling the DataFrame to weekly frequency\n",
                "weekly_df = df.resample('W-Mon', on='date').sum()\n",
                "```\n",
                "\n",
                "- **`df.resample('W-Mon', on='date')`**: This part of the code uses the `resample()` method to resample the DataFrame (`df`) based on a weekly frequency. The argument `'W-Mon'` specifies that the resampling should be done on a weekly basis, and the `'Mon'` indicates that the week should start on a Monday. This is the frequency string for weekly resampling starting on Monday.\n",
                "\n",
                "- **`.sum()`**: After resampling, the `.sum()` method is applied to aggregate the values for each week by summing them up. This means that for each week, the sum of the values in the original DataFrame will be calculated.\n",
                "\n",
                "- **`weekly_df`**: The result of the resampling and aggregation is stored in a new DataFrame named `weekly_df`.\n",
                "\n",
                "```python\n",
                "# Displaying the resampled DataFrame\n",
                "print(\"\\nResampled DataFrame (Weekly):\")\n",
                "print(weekly_df)\n",
                "```\n",
                "\n",
                "The above code then prints the resulting DataFrame `weekly_df`, which contains the aggregated values for each week.\n",
                "\n",
                "**Explanation of `resample()`**:\n",
                "\n",
                "The `resample()` method in pandas is used for time-based resampling of time series data. It allows you to change the frequency of your time series data, such as converting daily data to monthly data or weekly data. The syntax generally looks like:\n",
                "\n",
                "```python\n",
                "df.resample(rule, on=None, ...)\n",
                "```\n",
                "\n",
                "- **`rule`**: A string specifying the frequency at which to resample the data (e.g., 'D' for daily, 'M' for monthly, 'W' for weekly). It can also include an anchor such as 'W-Mon' to specify the starting day of the week.\n",
                "\n",
                "- **`on`**: The name of the datetime-like column on which to perform the resampling.\n",
                "\n",
                "After applying `resample()`, you often chain aggregation functions (like `sum()`, `mean()`, etc.) to perform some operation on the data within each resampled interval.\n",
                "\n",
                "In the provided code, the DataFrame is resampled to a weekly frequency, and the values for each week are summed up. This is a common operation when dealing with time series data to get a summarized view at a different frequency."
            ],
            "metadata": {
                "azdata_cell_guid": "2e5a814e-cd83-458c-8f9e-68da985ded73"
            },
            "attachments": {}
        },
        {
            "cell_type": "markdown",
            "source": [
                "#### Considerations:\n",
                "\n",
                "- **Date Components:**\n",
                "  - Extracting date components facilitates detailed analysis and reporting.\n",
                "\n",
                "- **Resampling Frequency:**\n",
                "  - Choose the appropriate frequency when resampling data to suit analysis requirements.\n",
                "\n",
                "#### Tips:\n",
                "\n",
                "- **Time Zone Handling:**\n",
                "  - Consider time zone information when working with data from different regions.\n",
                "\n",
                "- **Periods and Durations:**\n",
                "  - Explore Pandas' `Period` and `Timedelta` for handling periods and durations.\n",
                "\n",
                "Handling time and date data with Pandas' `DatetimeIndex` enables effective analysis, visualization, and manipulation of time series data. Leveraging these functionalities enhances the ability to derive meaningful insights from datasets with temporal components.\n",
                ""
            ],
            "metadata": {
                "azdata_cell_guid": "b3fc6377-a691-4685-8631-689053a9daf3"
            },
            "attachments": {}
        },
        {
            "cell_type": "markdown",
            "source": [
                "### **`Resampling and Frequency Conversion in Pandas`**"
            ],
            "metadata": {
                "azdata_cell_guid": "58c21552-72d0-4120-984f-16415f6165f3"
            },
            "attachments": {}
        },
        {
            "cell_type": "markdown",
            "source": [
                "#### Resampling and Frequency Conversion Concepts:\n",
                "\n",
                "Resampling involves changing the frequency of time series data, either increasing or decreasing the frequency, to suit analysis or visualization needs. It is a crucial operation in time series analysis.\n",
                "\n",
                "#### Using `resample()` in Pandas:\n",
                "\n",
                "The `resample()` function in Pandas allows for flexible and powerful resampling of time series data."
            ],
            "metadata": {
                "azdata_cell_guid": "dcfee1e3-c3a2-4408-bea9-7f319f0e3009"
            },
            "attachments": {}
        },
        {
            "cell_type": "code",
            "source": [
                "import pandas as pd\n",
                "\n",
                "# Sample DataFrame with DatetimeIndex\n",
                "date_rng = pd.date_range(start='2022-01-01', end='2022-01-10', freq='D')\n",
                "df = pd.DataFrame(date_rng, columns=['date'])\n",
                "df['value'] = [10, 20, 30, 40, 50, 60, 70, 80, 90, 100]\n",
                "\n",
                "# Resampling to weekly frequency\n",
                "weekly_df = df.resample('W-Mon', on='date').sum()\n",
                "\n",
                "# Displaying the resampled DataFrame\n",
                "print(\"Resampled DataFrame (Weekly):\")\n",
                "print(weekly_df)\n",
                "\n",
                "# Result : The DataFrame is resampled to a weekly frequency (every Monday), and the values are summed for each week.\n",
                ""
            ],
            "metadata": {
                "azdata_cell_guid": "af2e976e-f530-4baa-a1d7-625d64e50d0b",
                "language": "python"
            },
            "outputs": [
                {
                    "name": "stdout",
                    "text": "Resampled DataFrame (Weekly):\n            value\ndate             \n2022-01-03     60\n2022-01-10    490\n",
                    "output_type": "stream"
                }
            ],
            "execution_count": 8
        },
        {
            "cell_type": "markdown",
            "source": [
                "#### Handling Missing Values during Resampling:"
            ],
            "metadata": {
                "language": "python",
                "azdata_cell_guid": "0fa7d17e-cd34-41d9-881c-9158fce9869e"
            },
            "attachments": {}
        },
        {
            "cell_type": "code",
            "source": [
                "# Adding some missing values to the DataFrame\n",
                "df.loc[df['date'] == '2022-01-03', 'value'] = None\n",
                "df.loc[df['date'] == '2022-01-07', 'value'] = None\n",
                "\n",
                "# Resampling with handling missing values using forward fill (ffill)\n",
                "resampled_filled = df.resample('D', on='date').sum().ffill()\n",
                "\n",
                "# Displaying the resampled and filled DataFrame\n",
                "print(\"\\nResampled DataFrame with Forward Fill for Missing Values:\")\n",
                "print(resampled_filled)\n",
                "\n",
                "# Result : Missing values are filled using forward fill (`ffill`) during the resampling process."
            ],
            "metadata": {
                "language": "python",
                "azdata_cell_guid": "fd6ed237-825d-434c-aa28-eff111ca545b"
            },
            "outputs": [
                {
                    "name": "stdout",
                    "text": "\nResampled DataFrame with Forward Fill for Missing Values:\n            value\ndate             \n2022-01-01   10.0\n2022-01-02   20.0\n2022-01-03    0.0\n2022-01-04   40.0\n2022-01-05   50.0\n2022-01-06   60.0\n2022-01-07    0.0\n2022-01-08   80.0\n2022-01-09   90.0\n2022-01-10  100.0\n",
                    "output_type": "stream"
                }
            ],
            "execution_count": 9
        },
        {
            "cell_type": "markdown",
            "source": [
                "***Explanation***\n",
                "\n",
                "```python\n",
                "# Adding some missing values to the DataFrame\n",
                "df.loc[df['date'] == '2022-01-03', 'value'] = None\n",
                "df.loc[df['date'] == '2022-01-07', 'value'] = None\n",
                "```\n",
                "\n",
                "Here, missing values (represented by `None`) are added to the 'value' column of the DataFrame `df` at specific dates ('2022-01-03' and '2022-01-07').\n",
                "\n",
                "```python\n",
                "# Resampling with handling missing values using forward fill (ffill)\n",
                "resampled_filled = df.resample('D', on='date').sum().ffill()\n",
                "```\n",
                "\n",
                "The DataFrame `df` is then resampled with a daily frequency ('D') using the `resample` method. During this resampling, the missing values are filled using forward fill (`ffill`). Forward fill means that missing values are replaced by the last valid observation, effectively propagating the last valid value forward in time.\n",
                "\n",
                "```python\n",
                "# Displaying the resampled and filled DataFrame\n",
                "print(\"\\nResampled DataFrame with Forward Fill for Missing Values:\")\n",
                "print(resampled_filled)\n",
                "```\n",
                "\n",
                "The resulting DataFrame `resampled_filled` is then printed, showing the resampled data with missing values filled using forward fill.\n",
                "\n",
                "In summary, this code snippet demonstrates how to add missing values to a DataFrame at specific dates and then use resampling with forward fill to handle those missing values and create a new DataFrame with a regular time frequency."
            ],
            "metadata": {
                "azdata_cell_guid": "abc15054-440d-41bd-9ca3-23c1062f60ec"
            },
            "attachments": {}
        },
        {
            "cell_type": "markdown",
            "source": [
                "#### Applications:\n",
                "\n",
                "- **Aggregating Data:**\n",
                "  - Summarize data over larger time intervals for higher-level insights.\n",
                "\n",
                "- **Handling Missing Values:**\n",
                "  - Address missing values during resampling using methods like forward fill or interpolation.\n",
                "\n",
                "#### Considerations:\n",
                "\n",
                "- **Resampling Rule:**\n",
                "  - Choose the appropriate resampling rule ('D' for day, 'W' for week, etc.) based on analysis requirements.\n",
                "\n",
                "- **Handling Missing Values:**\n",
                "  - Consider the method for handling missing values during resampling, such as forward fill, backward fill, or interpolation.\n",
                "\n",
                "#### Tips:\n",
                "\n",
                "- **Custom Resampling Rules:**\n",
                "  - Create custom resampling rules to fit specific business requirements.\n",
                "\n",
                "- **Chaining Operations:**\n",
                "  - Chain operations like resampling and aggregations for more complex analysis.\n",
                "\n",
                "Resampling and frequency conversion in Pandas are powerful techniques for adjusting the temporal granularity of time series data. These operations facilitate meaningful analysis and visualization, ensuring that the data aligns with the desired temporal context.\n",
                ""
            ],
            "metadata": {
                "language": "python",
                "azdata_cell_guid": "f63df832-2bcd-44b8-91a9-8573767bb377"
            },
            "attachments": {}
        }
    ]
}