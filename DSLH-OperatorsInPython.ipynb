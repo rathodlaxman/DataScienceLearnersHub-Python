{
    "metadata": {
        "kernelspec": {
            "name": "python3",
            "display_name": "Python 3",
            "language": "python"
        },
        "language_info": {
            "name": "python",
            "version": "3.10.9",
            "mimetype": "text/x-python",
            "codemirror_mode": {
                "name": "ipython",
                "version": 3
            },
            "pygments_lexer": "ipython3",
            "nbconvert_exporter": "python",
            "file_extension": ".py"
        }
    },
    "nbformat_minor": 2,
    "nbformat": 4,
    "cells": [
        {
            "cell_type": "markdown",
            "source": [
                "# **Data Science Learners Hub - Python**\n",
                "\n",
                "**Module : Python**\n",
                "\n",
                "**Topic :** Operators in Python\n",
                "\n",
                "**email** : [datasciencelearnershub@gmail.com](https://github.com/rathodlaxman/DataScienceLearnersHub/blob/50de48da0c8f7145a545dd9942457c8b9cfc8fc5//mailto:datasciencelearnershub@gmail.com)"
            ],
            "metadata": {
                "azdata_cell_guid": "f1080ab4-aa83-44be-b3bc-8b6ab51944fa"
            },
            "attachments": {}
        },
        {
            "cell_type": "markdown",
            "source": [
                "## **Operators in Python**"
            ],
            "metadata": {
                "azdata_cell_guid": "7376b9b7-76c7-4402-a8d1-a5a7259380d2"
            },
            "attachments": {}
        },
        {
            "cell_type": "markdown",
            "source": [
                "### **1\\. What are Operators in Python?**\n",
                "\n",
                "  \n",
                "\n",
                "**Operators** in Python are special symbols or keywords that perform operations on operands. They are the building blocks for creating expressions, allowing you to manipulate and perform computations on data."
            ],
            "metadata": {
                "azdata_cell_guid": "23c5a5dc-7323-4aef-b298-6236da8dd042"
            },
            "attachments": {}
        },
        {
            "cell_type": "markdown",
            "source": [
                "### **2\\. Why do we Require Operators in Programming Languages?**\n",
                "\n",
                "  \n",
                "\n",
                "\\- **Data Manipulation:** Operators enable the manipulation of data by performing various operations like addition, subtraction, multiplication, and more.\n",
                "\n",
                "  \n",
                "\n",
                "\\- **Control Flow:** Operators are essential for constructing conditions and loops, allowing programmers to control the flow of execution in a program.\n",
                "\n",
                "  \n",
                "\n",
                "\\- **Expression Evaluation:** Expressions, which consist of operands and operators, are used to evaluate and produce results in programming."
            ],
            "metadata": {
                "azdata_cell_guid": "d51c66c5-1dc1-46b8-b32e-1224251ba873"
            },
            "attachments": {}
        },
        {
            "cell_type": "markdown",
            "source": [
                "### **3\\. What Happens When an Operator is Executed/Interpreted?**\n",
                "\n",
                "  \n",
                "\n",
                "\\- When an operator is encountered in a program, the Python interpreter performs a specific operation on the given operands based on the type of operator.\n",
                "\n",
                "  \n",
                "\n",
                "\\- The result of the operation is then used in the context of the larger expression or statement."
            ],
            "metadata": {
                "azdata_cell_guid": "7efc5614-ef54-44df-adc7-58cb0b6f5f2f"
            },
            "attachments": {}
        },
        {
            "cell_type": "markdown",
            "source": [
                "### **4\\. Various Operators in Python**"
            ],
            "metadata": {
                "azdata_cell_guid": "084e6ec0-9fde-42d4-96ef-0053285ebbe5"
            },
            "attachments": {}
        },
        {
            "cell_type": "markdown",
            "source": [
                "### **4.1 Arithmetic Operators**"
            ],
            "metadata": {
                "azdata_cell_guid": "a3f23de6-6660-46d8-a193-3eff05273df5"
            },
            "attachments": {}
        },
        {
            "cell_type": "markdown",
            "source": [
                "**a. <span style=\"color: rgb(0, 0, 0); font-family: &quot;Helvetica Neue&quot;; font-size: 13px;\">`+`: Addition</span>**\n",
                "\n",
                "  - Syntax: \\`result = operand1 + operand2\\`\n",
                "\n",
                "  - Example: \\`sum = 5 + 3\\`"
            ],
            "metadata": {
                "azdata_cell_guid": "28f82585-595c-441a-a4d3-a6532f5baf16"
            },
            "attachments": {}
        },
        {
            "cell_type": "markdown",
            "source": [
                "**b. \\`-\\`: Subtraction**\n",
                "\n",
                "  \\- Syntax: \\`result = operand1 - operand2\\`\n",
                "\n",
                "  \\- Example: \\`difference = 8 - 3\\`"
            ],
            "metadata": {
                "azdata_cell_guid": "8e0b2147-061d-4951-8556-a6db1aeaade2"
            },
            "attachments": {}
        },
        {
            "cell_type": "markdown",
            "source": [
                "**c. \\`\\*\\`: Multiplication**\n",
                "\n",
                "  \\- **Syntax:** \\`result = operand1 \\* operand2\\`\n",
                "\n",
                "  \\- **Example:** \\`product = 4 \\* 5\\`"
            ],
            "metadata": {
                "azdata_cell_guid": "1b010618-51fc-4aeb-bb99-38099680403c"
            },
            "attachments": {}
        },
        {
            "cell_type": "markdown",
            "source": [
                "**d. \\`/\\`: Division**\n",
                "\n",
                "  \\- **Syntax:** \\`result = operand1 / operand2\\`\n",
                "\n",
                "  \\- **Example:** \\`quotient = 10 / 2\\`"
            ],
            "metadata": {
                "azdata_cell_guid": "db7562d8-57bd-4fd8-9de5-3b6d513da45a"
            },
            "attachments": {}
        },
        {
            "cell_type": "markdown",
            "source": [
                "**e. <span style=\"color: rgb(0, 0, 0); font-family: &quot;Helvetica Neue&quot;; font-size: 13px;\">`%`: Modulus (Remainder)</span>**\n",
                "\n",
                "  - **Syntax**: \\`result = operand1 % operand2\\`\n",
                "\n",
                "  - **Example:** \\`remainder = 11 % 3\\`"
            ],
            "metadata": {
                "azdata_cell_guid": "baa2fbd4-ceb7-476c-9592-74329964261a"
            },
            "attachments": {}
        },
        {
            "cell_type": "markdown",
            "source": [
                "**f. \\`\\*\\*\\`: Exponentiation (Power)**\n",
                "\n",
                "  \\- **Syntax:** \\`result = operand1 \\*\\* operand2\\`\n",
                "\n",
                "  \\- **Example:** \\`power = 2 \\*\\* 3\\`"
            ],
            "metadata": {
                "azdata_cell_guid": "aa0887fe-6a5f-408b-9014-f87db3199047"
            },
            "attachments": {}
        },
        {
            "cell_type": "markdown",
            "source": [
                "**g. \\`//\\`: Floor Division (Quotient without remainder)**\n",
                "\n",
                "  \\- **Syntax:** \\`result = operand1 // operand2\\`\n",
                "\n",
                "  \\- **Example:** \\`quotient\\_without\\_remainder = 10 // 3\\`"
            ],
            "metadata": {
                "azdata_cell_guid": "50288b71-3751-482d-8b59-ef9251666c5a"
            },
            "attachments": {}
        },
        {
            "cell_type": "markdown",
            "source": [
                "### **4.2 Comparison Operators**"
            ],
            "metadata": {
                "azdata_cell_guid": "bc0af171-6879-45b5-8322-d1fcf279252a"
            },
            "attachments": {}
        },
        {
            "cell_type": "markdown",
            "source": [
                "**a. <span style=\"color: rgb(0, 0, 0); font-family: &quot;Helvetica Neue&quot;; font-size: 13px;\">`==`: Equal to</span>**\n",
                "\n",
                "  - **Syntax:** \\`result = operand1 == operand2\\`\n",
                "\n",
                "  - **Example:** \\`is\\_equal = 5 == 5\\`"
            ],
            "metadata": {
                "azdata_cell_guid": "ff9d49d6-6230-4a41-a492-f326a574012d"
            },
            "attachments": {}
        },
        {
            "cell_type": "markdown",
            "source": [
                "**b. \\`!=\\`: Not equal to**\n",
                "\n",
                "  \\- **Syntax:** \\`result = operand1 != operand2\\`\n",
                "\n",
                "  \\- **Example**: \\`is\\_not\\_equal = 7 != 3\\`"
            ],
            "metadata": {
                "azdata_cell_guid": "69d03a24-9709-4349-8089-e1e22dd7785d"
            },
            "attachments": {}
        },
        {
            "cell_type": "markdown",
            "source": [
                "**c. \\`\\<\\`: Less than\\*\\***\n",
                "\n",
                "  \\- **Syntax:** \\`result = operand1 \\< operand2\\`\n",
                "\n",
                "  \\- **Example:** \\`is\\_less\\_than = 2 \\< 5\\`"
            ],
            "metadata": {
                "azdata_cell_guid": "e6737a01-fd18-478e-af1e-58a1873bdbc3"
            },
            "attachments": {}
        },
        {
            "cell_type": "markdown",
            "source": [
                "**d. \\`\\>\\`: Greater than**\n",
                "\n",
                "  \\- **Syntax:** \\`result = operand1 \\> operand2\\`\n",
                "\n",
                "  \\- **Example:** \\`is\\_greater\\_than = 8 \\> 3\\`"
            ],
            "metadata": {
                "azdata_cell_guid": "2b887baf-fc9c-498a-937b-7262edcce7de"
            },
            "attachments": {}
        },
        {
            "cell_type": "markdown",
            "source": [
                "**e. \\`\\<=\\`: Less than or equal to**\n",
                "\n",
                "  \\- **Syntax:** \\`result = operand1 \\<= operand2\\`\n",
                "\n",
                "  \\- **Example:** \\`is\\_less\\_or\\_equal = 4 \\<= 4\\`"
            ],
            "metadata": {
                "azdata_cell_guid": "79f38711-9f35-4d34-8e93-b7fec8dfe672"
            },
            "attachments": {}
        },
        {
            "cell_type": "markdown",
            "source": [
                "**f. \\`\\>=\\`: Greater than or equal to**\n",
                "\n",
                "  \\- **Syntax:** \\`result = operand1 \\>= operand2\\`\n",
                "\n",
                "  \\- **Example:** \\`is\\_greater\\_or\\_equal = 6 \\>= 3\\`"
            ],
            "metadata": {
                "azdata_cell_guid": "eb13bd9d-6fad-4e4c-ab5e-8758c795c024"
            },
            "attachments": {}
        },
        {
            "cell_type": "markdown",
            "source": [
                "### **4.3 Logical Operators**"
            ],
            "metadata": {
                "azdata_cell_guid": "2feef009-7d1f-46bb-97fc-1efe9fdccd5f"
            },
            "attachments": {}
        },
        {
            "cell_type": "markdown",
            "source": [
                "**a. <span style=\"color: rgb(0, 0, 0); font-family: &quot;Helvetica Neue&quot;; font-size: 13px;\">`and`: Logical AND</span>**\n",
                "\n",
                "  \\- **Syntax:** \\`result = operand1 and operand2\\`\n",
                "\n",
                "  \\- **Example:** \\`result = (5 \\> 3) and (7 \\< 10)\\`"
            ],
            "metadata": {
                "azdata_cell_guid": "e9c26707-02b7-47b7-b1b9-f11523289a7c"
            },
            "attachments": {}
        },
        {
            "cell_type": "markdown",
            "source": [
                "**b. \\`or\\`: Logical OR**\n",
                "\n",
                "  \\- **Syntax:** \\`result = operand1 or operand2\\`\n",
                "\n",
                "  \\- **Example:** \\`result = (5 \\> 3) or (7 \\> 10)\\`"
            ],
            "metadata": {
                "azdata_cell_guid": "734ffce2-6a46-44c1-897b-2fb5380bac6f"
            },
            "attachments": {}
        },
        {
            "cell_type": "markdown",
            "source": [
                "**c. <span style=\"color: rgb(0, 0, 0); font-family: &quot;Helvetica Neue&quot;; font-size: 13px;\">`not`: Logical NOT</span>**\n",
                "\n",
                "  \\- **Syntax:** \\`result = not operand\\`\n",
                "\n",
                "  \\- **Example:** \\`result = not (5 \\> 3)\\`"
            ],
            "metadata": {
                "azdata_cell_guid": "79c3e7a4-b208-4367-a3db-3ceca9ea86dd"
            },
            "attachments": {}
        },
        {
            "cell_type": "markdown",
            "source": [
                "### **4.4 Assignment Operators**"
            ],
            "metadata": {
                "azdata_cell_guid": "fd8eb1bb-30cb-48fc-af83-b7c27ee56c5c"
            },
            "attachments": {}
        },
        {
            "cell_type": "markdown",
            "source": [
                "**a. \\`=\\`: Assignment**\n",
                "\n",
                "  \\- **Syntax:** \\`variable = expression\\`\n",
                "\n",
                "  \\- **Example:** \\`x = 10\\`"
            ],
            "metadata": {
                "azdata_cell_guid": "7293ed64-2ac9-453f-93b4-149b5a264a6c"
            },
            "attachments": {}
        },
        {
            "cell_type": "markdown",
            "source": [
                "**b. \\`+=\\`: Addition Assignment**\n",
                "\n",
                "  \\- **Syntax:** \\`variable += expression\\` (Equivalent to \\`variable = variable + expression\\`)\n",
                "\n",
                "  \\- **Example:** \\`total += 5\\`"
            ],
            "metadata": {
                "azdata_cell_guid": "b5e9fa15-14a9-4514-a930-33d1662f77cd"
            },
            "attachments": {}
        },
        {
            "cell_type": "markdown",
            "source": [
                "**c. <span style=\"color: rgb(0, 0, 0); font-family: &quot;Helvetica Neue&quot;; font-size: 13px;\">`-=`: Subtraction Assignment</span>**\n",
                "\n",
                "  \\- **Syntax:** \\`variable -= expression\\` (Equivalent to \\`variable = variable - expression\\`)\n",
                "\n",
                "  \\- **Example:** \\`balance -= 20\\`"
            ],
            "metadata": {
                "azdata_cell_guid": "79bb6265-9de5-4164-98e3-645b0a649bd9"
            },
            "attachments": {}
        },
        {
            "cell_type": "markdown",
            "source": [
                "### **4.5 Membership Operators**"
            ],
            "metadata": {
                "azdata_cell_guid": "2cee9098-f05f-47e1-a87d-e9353f8eac07"
            },
            "attachments": {}
        },
        {
            "cell_type": "markdown",
            "source": [
                "**a. <span style=\"color: rgb(0, 0, 0); font-family: &quot;Helvetica Neue&quot;; font-size: 13px;\">`in`: Membership - True if a value is found in the specified sequence</span>**\n",
                "\n",
                "  \\- **Syntax:** \\`result = value in sequence\\`\n",
                "\n",
                "  \\- **Example:** \\`is\\_present = 5 in \\[1, 3, 5\\]\\`"
            ],
            "metadata": {
                "azdata_cell_guid": "9f7d7e7a-6859-47ff-a9fb-0e3475d95a14"
            },
            "attachments": {}
        },
        {
            "cell_type": "markdown",
            "source": [
                "**b. <span style=\"color: rgb(0, 0, 0); font-family: &quot;Helvetica Neue&quot;; font-size: 13px;\">`not in`: Membership - True if a value is not found in the specified sequence</span>**\n",
                "\n",
                "  \\- **Syntax:** \\`result = value not in sequence\\`\n",
                "\n",
                "  \\- **Example:** \\`is\\_not\\_present = 7 not in \\[1, 3, 5\\]\\`"
            ],
            "metadata": {
                "azdata_cell_guid": "b21875e7-9870-4c64-8981-de3f3c2abe4c"
            },
            "attachments": {}
        },
        {
            "cell_type": "markdown",
            "source": [
                "### **4.6 Bitwise Operators**\n",
                "\n",
                "- &  (bitwise AND)\n",
                "- | (bitwise OR)\n",
                "- ^ (bitwise XOR)\n",
                "- ~ (bitwise NOT)\n",
                "- \\<\\< (left shift)\n",
                "- \\\\>\\> (right shift)"
            ],
            "metadata": {
                "azdata_cell_guid": "df5e7183-1d84-4ab7-ad7c-ac9f9e4ad23b"
            },
            "attachments": {}
        },
        {
            "cell_type": "markdown",
            "source": [
                "### **4.7 Identity Operator**\n",
                "\n",
                "  - **is** (checks if two operands refer to the same object)\n",
                "\n",
                "  - **is not** (checks if two operands do not refer to the same object)"
            ],
            "metadata": {
                "azdata_cell_guid": "cfeff930-6485-4c1f-8ecd-6a93f3164839"
            },
            "attachments": {}
        },
        {
            "cell_type": "markdown",
            "source": [
                "### **5\\. Practical Application of Operators in the Real World**\n",
                "\n",
                "  \n",
                "\n",
                "\\- **Financial Calculations**: Arithmetic operators are used for financial calculations, such as interest rate calculations, profit margins, etc.\n",
                "\n",
                "  \n",
                "\n",
                "\\- **Data Filtering:** Comparison and logical operators are used in data filtering conditions, such as selecting records from a database based on specific criteria.\n",
                "\n",
                "  \n",
                "\n",
                "\\- **Control Structures:** Logical operators are essential in constructing control structures like if statements and loops to control the flow of a program."
            ],
            "metadata": {
                "azdata_cell_guid": "b01c6bba-29c7-4de6-b21c-00a2a44253a9"
            },
            "attachments": {}
        },
        {
            "cell_type": "markdown",
            "source": [
                "### **6\\. Peculiarities and Considerations for Operators in Python**\n",
                "\n",
                "  \n",
                "\n",
                "\\- **Operator Precedence:** Operators have different precedence levels. Understanding the precedence helps in determining the order of evaluation in complex expressions.\n",
                "\n",
                "  \n",
                "\n",
                "\\- **Associativity:** Some operators are left-associative (evaluate from left to right), while others are right-associative (evaluate from right to left).\n",
                "\n",
                "  \n",
                "\n",
                "\\- **Chaining comparison operators**: Multiple comparisons can be combined (e.g., 1 \\< x \\< 10\n",
                "\n",
                "  \n",
                "\n",
                "\\- **Augmented assignment operators**: Combine assignment and operation (e.g., x += 5 is equivalent to x = x + 5)\n",
                "\n",
                "  \n",
                "\n",
                "\\- **Operator precedence:** PEMDAS (Parentheses, Exponents, Multiplication/Division, Addition/Subtraction)"
            ],
            "metadata": {
                "azdata_cell_guid": "59268448-696d-4932-b458-1b968a13862c"
            },
            "attachments": {}
        },
        {
            "cell_type": "markdown",
            "source": [
                "### **7\\. Most Common Mistakes Done While Using Operators in Python**"
            ],
            "metadata": {
                "azdata_cell_guid": "f4240e75-86ad-4e5c-81b4-fe3717cea8d6"
            },
            "attachments": {}
        },
        {
            "cell_type": "markdown",
            "source": [
                "a. Forgetting operator precedence rules\n",
                "\n",
                "b. Using incorrect logical operator\n",
                "\n",
                "c. Not considering operator chaining"
            ],
            "metadata": {
                "azdata_cell_guid": "cec813e4-d75f-4854-8ac4-d72c4f81bf67"
            },
            "attachments": {}
        },
        {
            "cell_type": "markdown",
            "source": [
                "**d.** <span style=\"color: rgb(0, 0, 0); font-family: &quot;Helvetica Neue&quot;; font-size: 13px;\"><b>Confusion with Assignment vs. Comparison:</b> Mixing up the assignment operator (<code>=</code>) with the comparison operator (<code>==</code>).</span>"
            ],
            "metadata": {
                "azdata_cell_guid": "f8098c24-4e5c-4166-af62-6c02b7d47794"
            },
            "attachments": {}
        },
        {
            "cell_type": "code",
            "source": [
                "x = 5   # Correct (assignment)\n",
                "if x == 10:   # Correct (comparison)"
            ],
            "metadata": {
                "azdata_cell_guid": "a88d8764-8fa2-4db0-a0bd-bba8ab59144b",
                "language": "python"
            },
            "outputs": [],
            "execution_count": null
        },
        {
            "cell_type": "markdown",
            "source": [
                "**e.** <span style=\"color: rgb(0, 0, 0); font-family: &quot;Helvetica Neue&quot;; font-size: 13px;\"><b>Missing Parentheses in Complex Expressions:</b> Forgetting to use parentheses to clarify the order of operations in complex expressions.</span>"
            ],
            "metadata": {
                "language": "python",
                "azdata_cell_guid": "597cc2c8-410d-4896-b0b7-44f6640c4864"
            },
            "attachments": {}
        },
        {
            "cell_type": "code",
            "source": [
                "result = 5 + 3 * 2   # May not produce the expected result without parentheses"
            ],
            "metadata": {
                "language": "python",
                "azdata_cell_guid": "8422603e-0cdf-4965-bffb-03f702198095"
            },
            "outputs": [],
            "execution_count": null
        },
        {
            "cell_type": "markdown",
            "source": [
                "### **8\\. Do You Know ?**\n",
                "\n",
                "\\- **Y2K Bug (Year 2000 Problem):** The Y2K bug was a computer bug related to the representation of years using two digits. The use of two digits for the year caused concerns that computer systems might interpret the year 2000 as 1900, leading to potential issues in date calculations and storage.\n",
                "\n",
                "  \n",
                "\n",
                "\\- **Advantage of Bitwise Operators in Data Compression:** Bitwise operators are often used in low-level programming and data compression algorithms to efficiently manipulate individual bits, leading to more compact data storage.  \n",
                "  \n",
                "\n",
                "\\- **Mars Climate Orbiter:** Miscalculation due to unit conversion (metric vs. imperial) led to spacecraft loss."
            ],
            "metadata": {
                "language": "python",
                "azdata_cell_guid": "628b071f-3eea-4206-b5ad-5cda535873be"
            },
            "attachments": {}
        },
        {
            "cell_type": "markdown",
            "source": [
                "**Note** : <span style=\"color: rgb(0, 0, 0); font-family: &quot;Helvetica Neue&quot;; font-size: 13px;\">Understanding operators and their correct usage is crucial for writing efficient and bug-free code. It plays a fundamental role in various aspects of programming, from simple arithmetic operations to complex logical conditions and assignments.</span>"
            ],
            "metadata": {
                "language": "python",
                "azdata_cell_guid": "fd4239f5-da86-4633-a75d-bd44fc89842d"
            },
            "attachments": {}
        }
    ]
}