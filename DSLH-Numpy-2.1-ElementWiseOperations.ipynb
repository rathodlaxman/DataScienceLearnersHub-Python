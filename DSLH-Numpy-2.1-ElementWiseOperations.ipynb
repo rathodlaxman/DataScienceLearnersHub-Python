{
    "metadata": {
        "kernelspec": {
            "name": "python3",
            "display_name": "Python 3",
            "language": "python"
        },
        "language_info": {
            "name": "python",
            "version": "3.10.9",
            "mimetype": "text/x-python",
            "codemirror_mode": {
                "name": "ipython",
                "version": 3
            },
            "pygments_lexer": "ipython3",
            "nbconvert_exporter": "python",
            "file_extension": ".py"
        }
    },
    "nbformat_minor": 2,
    "nbformat": 4,
    "cells": [
        {
            "cell_type": "markdown",
            "source": [
                "# **`Data Science Learners Hub`**\n",
                "\n",
                "**Module : Python**\n",
                "\n",
                "**email** : [datasciencelearnershub@gmail.com](mailto:datasciencelearnershub@gmail.com)"
            ],
            "metadata": {
                "azdata_cell_guid": "1c9d735c-382a-4e1b-ad76-44a1a9b7c9e4"
            },
            "attachments": {}
        },
        {
            "cell_type": "markdown",
            "source": [
                "### **`#2: Operations on NumPy Arrays`**\n",
                "\n",
                "1. **Element-wise Operations:**\n",
                "   - Performing basic arithmetic operations on arrays.\n",
                "   - Universal functions (ufuncs) in NumPy.\n",
                "\n",
                "2. **Aggregation and Statistics:**\n",
                "   - Sum, mean, median, variance, and standard deviation.\n",
                "   - Min, max, and other aggregation functions.\n",
                "\n",
                "3. **Array Comparison and Boolean Operations:**\n",
                "   - Comparing arrays element-wise.\n",
                "   - Boolean indexing and masking.\n",
                "\n",
                "4. **Array Manipulation:**\n",
                "   - Reshaping arrays.\n",
                "   - Concatenation and splitting arrays."
            ],
            "metadata": {
                "azdata_cell_guid": "b227b4e7-7cdd-42d6-ba15-9c712564337a"
            },
            "attachments": {}
        },
        {
            "cell_type": "markdown",
            "source": [
                "### **`2.1. Element-wise Operations on NumPy Arrays:`**\n",
                "\n",
                "**Concept:**\n",
                "Element-wise operations in NumPy refer to performing operations on corresponding elements of two arrays. This means that each element in the result is obtained by applying the operation to the corresponding elements in the input arrays."
            ],
            "metadata": {
                "azdata_cell_guid": "4d8a46c8-5d7c-4db7-a860-4cc55d6d8cc0"
            },
            "attachments": {}
        },
        {
            "cell_type": "markdown",
            "source": [
                "**Examples:**\n",
                "Let's demonstrate basic arithmetic element-wise operations:\n",
                "\n",
                "1. **Addition (`+`):**\n",
                "   ```python\n",
                "   import numpy as np\n",
                "\n",
                "   arr1 = np.array([1, 2, 3])\n",
                "   arr2 = np.array([4, 5, 6])\n",
                "   result = arr1 + arr2\n",
                "   ```\n",
                "   Result:\n",
                "   ```\n",
                "   [5, 7, 9]\n",
                "   ```\n",
                "\n",
                "2. **Subtraction (`-`):**\n",
                "   ```python\n",
                "   import numpy as np\n",
                "\n",
                "   arr1 = np.array([4, 5, 6])\n",
                "   arr2 = np.array([1, 2, 3])\n",
                "   result = arr1 - arr2\n",
                "   ```\n",
                "   Result:\n",
                "   ```\n",
                "   [3, 3, 3]\n",
                "   ```\n",
                "\n",
                "3. **Multiplication (`*`):**\n",
                "   ```python\n",
                "   import numpy as np\n",
                "\n",
                "   arr1 = np.array([2, 3, 4])\n",
                "   arr2 = np.array([5, 2, 1])\n",
                "   result = arr1 * arr2\n",
                "   ```\n",
                "   Result:\n",
                "   ```\n",
                "   [10, 6, 4]\n",
                "   ```\n",
                "\n",
                "4. **Division (`/`):**\n",
                "   ```python\n",
                "   import numpy as np\n",
                "\n",
                "   arr1 = np.array([10, 15, 20])\n",
                "   arr2 = np.array([2, 3, 4])\n",
                "   result = arr1 / arr2\n",
                "   ```\n",
                "   Result:\n",
                "   ```\n",
                "   [5.0, 5.0, 5.0]\n",
                "   ```"
            ],
            "metadata": {
                "azdata_cell_guid": "81bb526e-46f6-48e8-9b36-198c07dfba9a"
            },
            "attachments": {}
        },
        {
            "cell_type": "markdown",
            "source": [
                "**Real-world Scenarios:**\n",
                "\n",
                "1. **Financial Analysis:**\n",
                "   - **Operation:** Calculating the return on investment for a series of investments.\n",
                "   - **Application:** Element-wise multiplication is used to calculate the returns for each investment, facilitating analysis.\n",
                "\n",
                "2. **Image Processing:**\n",
                "   - **Operation:** Adjusting the brightness of an image.\n",
                "   - **Application:** Element-wise addition or subtraction can be employed to change the brightness of each pixel in an image.\n",
                "\n",
                "3. **Scientific Experiments:**\n",
                "   - **Operation:** Analyzing experimental data collected at different time points.\n",
                "   - **Application:** Element-wise operations help compare and analyze data collected at different time intervals.\n",
                "\n",
                "4. **Weather Data Analysis:**\n",
                "   - **Operation:** Comparing temperatures recorded by different weather stations.\n",
                "   - **Application:** Element-wise subtraction allows for comparing temperature variations recorded by different stations.\n",
                "\n",
                "5. **Healthcare Data Analysis:**\n",
                "   - **Operation:** Analyzing patient vital signs over time.\n",
                "   - **Application:** Element-wise operations help analyze trends and changes in vital signs recorded at different time points.\n",
                "\n",
                "**Key Takeaway:**\n",
                "Element-wise operations in NumPy are fundamental for efficiently processing and analyzing numerical data, especially in scenarios where operations need to be performed on corresponding elements across arrays. They find wide application in fields such as finance, image processing, scientific research, meteorology, and healthcare."
            ],
            "metadata": {
                "azdata_cell_guid": "5c40304b-642e-4ec1-a12e-8eebbe721610"
            },
            "attachments": {}
        }
    ]
}