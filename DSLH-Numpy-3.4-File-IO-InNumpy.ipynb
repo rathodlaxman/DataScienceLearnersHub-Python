{
    "metadata": {
        "kernelspec": {
            "name": "python3",
            "display_name": "Python 3",
            "language": "python"
        },
        "language_info": {
            "name": "python",
            "version": "3.10.9",
            "mimetype": "text/x-python",
            "codemirror_mode": {
                "name": "ipython",
                "version": 3
            },
            "pygments_lexer": "ipython3",
            "nbconvert_exporter": "python",
            "file_extension": ".py"
        }
    },
    "nbformat_minor": 2,
    "nbformat": 4,
    "cells": [
        {
            "cell_type": "markdown",
            "source": [
                "# **`Data Science Learners Hub`**\n",
                "\n",
                "**Module : Python**\n",
                "\n",
                "**email** : [datasciencelearnershub@gmail.com](mailto:datasciencelearnershub@gmail.com)"
            ],
            "metadata": {
                "azdata_cell_guid": "b729783d-941c-4d4d-aa3f-53f56bfa2905"
            },
            "attachments": {}
        },
        {
            "cell_type": "markdown",
            "source": [
                "### **`#3: Advanced Topics in NumPy`**\n",
                "\n",
                "1. **Broadcasting:**\n",
                "   - Understanding how NumPy handles operations on arrays of different shapes.\n",
                "   - Examples illustrating broadcasting.\n",
                "\n",
                "2. **Linear Algebra with NumPy:**\n",
                "   - Matrix multiplication.\n",
                "   - Solving linear equations using NumPy.\n",
                "\n",
                "3. **Random in NumPy:**\n",
                "   - Generating random numbers with `np.random`.\n",
                "   - Simulating random processes.\n",
                "\n",
                "4. **File I/O with NumPy:**\n",
                "   - Reading and writing data to files using `np.loadtxt` and `np.savetxt`.\n",
                "   - Saving and loading NumPy arrays using `np.save` and `np.load`.\n",
                "\n",
                "\n",
                ""
            ],
            "metadata": {
                "azdata_cell_guid": "20157677-2656-485e-9bb4-c83bcaad29e4"
            },
            "attachments": {}
        },
        {
            "cell_type": "markdown",
            "source": [
                "#### **`4. File I/O with NumPy:`**\n",
                "\n",
                "NumPy provides convenient functions for reading and writing data to files, making it easy to handle data persistence in various formats. Here are key functions for file I/O in NumPy:"
            ],
            "metadata": {
                "language": "python",
                "azdata_cell_guid": "432d10c0-5fa6-4294-8c7b-a55c4ba0b464"
            },
            "attachments": {}
        },
        {
            "cell_type": "markdown",
            "source": [
                "1. **`np.savetxt`:** Saves an array to a text file."
            ],
            "metadata": {
                "language": "python",
                "azdata_cell_guid": "db83fc4b-ebfe-4edc-89d2-ad46c1994514"
            },
            "attachments": {}
        },
        {
            "cell_type": "code",
            "source": [
                "import numpy as np\n",
                "\n",
                "data = np.array([[1, 2, 3], [4, 5, 6]])\n",
                "np.savetxt('output.txt', data, delimiter=',')\n",
                "\n",
                "# Note : 'output.txt' file gets created in ur current working directory"
            ],
            "metadata": {
                "language": "python",
                "azdata_cell_guid": "4d9056c4-809b-4006-b0fa-bdff67e7c99c"
            },
            "outputs": [],
            "execution_count": 20
        },
        {
            "cell_type": "markdown",
            "source": [
                "2. **`np.loadtxt`:** Loads data from a text file."
            ],
            "metadata": {
                "language": "python",
                "azdata_cell_guid": "53e30d89-f439-4b1e-aa63-22f61586b94f"
            },
            "attachments": {}
        },
        {
            "cell_type": "code",
            "source": [
                "import numpy as np\n",
                "\n",
                "loaded_data = np.loadtxt('input.txt', delimiter=',')\n",
                "\n",
                "print(loaded_data)"
            ],
            "metadata": {
                "language": "python",
                "azdata_cell_guid": "d5fa6278-15eb-4a96-9aaa-b094c42f24da"
            },
            "outputs": [
                {
                    "output_type": "stream",
                    "name": "stdout",
                    "text": "[12. 12. 13.  2.]\n"
                }
            ],
            "execution_count": 23
        },
        {
            "cell_type": "markdown",
            "source": [
                "3. **`np.save`:** Saves a single array to a binary file with a `.npy` extension."
            ],
            "metadata": {
                "language": "python",
                "azdata_cell_guid": "ec4a4238-9fe2-4bdb-8d50-4fbad6da58ea"
            },
            "attachments": {}
        },
        {
            "cell_type": "code",
            "source": [
                "import numpy as np\n",
                "\n",
                "data = np.array([1, 2, 3, 4, 5])\n",
                "np.save('output.npy', data)\n",
                "\n",
                "# Note : 'output.npy' file gets created in ur current working directory"
            ],
            "metadata": {
                "language": "python",
                "azdata_cell_guid": "289898c4-6db7-4396-b8c4-2ce72d7d5378"
            },
            "outputs": [],
            "execution_count": 24
        },
        {
            "cell_type": "markdown",
            "source": [
                "4. **`np.load`:** Loads a `.npy` file."
            ],
            "metadata": {
                "language": "python",
                "azdata_cell_guid": "602bbdc1-1538-4c91-abc3-c113145d2aa4"
            },
            "attachments": {}
        },
        {
            "cell_type": "code",
            "source": [
                "import numpy as np\n",
                "\n",
                "loaded_data = np.load('input.npy')\n",
                "\n",
                "print(loaded_data)"
            ],
            "metadata": {
                "language": "python",
                "azdata_cell_guid": "6d3fc2c3-7c9d-4e85-b65e-d461ed7adf6c"
            },
            "outputs": [
                {
                    "output_type": "stream",
                    "name": "stdout",
                    "text": "[1 2 3 4 5]\n"
                }
            ],
            "execution_count": 25
        },
        {
            "cell_type": "markdown",
            "source": [
                "**Real-world Examples:**\n",
                "\n",
                "1. **Scientific Data Logging:**\n",
                "   - **Scenario:** Recording experimental data.\n",
                "   - **Application:** In scientific experiments, data collected from sensors or instruments can be saved to a file using `np.savetxt` for later analysis or sharing.\n",
                "\n",
                "   ```python\n",
                "   import numpy as np\n",
                "\n",
                "   experiment_data = np.array([[time1, sensor1_value], [time2, sensor2_value], ...])\n",
                "   np.savetxt('experiment_results.txt', experiment_data, delimiter=',', header='Time, Sensor Value', comments='')\n",
                "   ```\n",
                "\n",
                "2. **Financial Data Storage:**\n",
                "   - **Scenario:** Saving stock price data.\n",
                "   - **Application:** In finance, historical stock prices can be stored in a file using `np.savetxt` for building and backtesting trading strategies.\n",
                "\n",
                "   ```python\n",
                "   import numpy as np\n",
                "\n",
                "   stock_prices = np.array([[date1, price1], [date2, price2], ...])\n",
                "   np.savetxt('stock_prices.csv', stock_prices, delimiter=',', header='Date, Closing Price', comments='')\n",
                "   ```\n",
                "\n",
                "\n",
                "3. **Simulation Results Storage:**\n",
                "   - **Scenario:** Storing simulation outcomes.\n",
                "   - **Application:** In simulations, results can be saved to a file using `np.savetxt` for subsequent analysis or comparison.\n",
                "\n",
                "   ```python\n",
                "   import numpy as np\n",
                "\n",
                "   simulation_results = np.array([[iteration1, outcome1], [iteration2, outcome2], ...])\n",
                "   np.savetxt('simulation_results.txt', simulation_results, delimiter=',', header='Iteration, Outcome', comments='')\n",
                "   ```\n",
                ""
            ],
            "metadata": {
                "language": "python",
                "azdata_cell_guid": "83909b20-6c83-4c12-9cf8-a0c7a24e1845"
            },
            "attachments": {}
        },
        {
            "cell_type": "markdown",
            "source": [
                "**Key Takeaway:**\n",
                "\n",
                "NumPy's file I/O functions are valuable for handling data in various formats, whether for scientific experiments, financial analysis, machine learning, or simulations. These functions provide a seamless way to save and load numerical data, promoting data persistence and facilitating collaboration and reproducibility in data-driven workflows."
            ],
            "metadata": {
                "azdata_cell_guid": "7b146281-a907-4553-90b5-799c912fdc40"
            },
            "attachments": {}
        }
    ]
}