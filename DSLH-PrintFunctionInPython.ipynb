{
    "metadata": {
        "kernelspec": {
            "name": "python3",
            "display_name": "Python 3",
            "language": "python"
        },
        "language_info": {
            "name": "python",
            "version": "3.10.9",
            "mimetype": "text/x-python",
            "codemirror_mode": {
                "name": "ipython",
                "version": 3
            },
            "pygments_lexer": "ipython3",
            "nbconvert_exporter": "python",
            "file_extension": ".py"
        }
    },
    "nbformat_minor": 2,
    "nbformat": 4,
    "cells": [
        {
            "cell_type": "markdown",
            "source": [
                "# **Data Science Learners Hub - Python**\n",
                "\n",
                "**Module : Python**\n",
                "\n",
                "**Topic :** <span style=\"font-size: 12px; caret-color: rgb(31, 31, 31); white-space-collapse: preserve; background-color: rgb(255, 255, 255);\">Understanding print() function</span>\n",
                "\n",
                "**email** : [datasciencelearnershub@gmail.com](https://github.com/rathodlaxman/DataScienceLearnersHub/blob/50de48da0c8f7145a545dd9942457c8b9cfc8fc5//mailto:datasciencelearnershub@gmail.com)"
            ],
            "metadata": {
                "azdata_cell_guid": "f78b1b1f-9d03-4ebb-ac8a-5954ea330259"
            },
            "attachments": {}
        },
        {
            "cell_type": "markdown",
            "source": [
                "## **# Understanding print() function**"
            ],
            "metadata": {
                "azdata_cell_guid": "4593c036-9fb1-4af6-bf25-9a3dd6683be7"
            },
            "attachments": {}
        },
        {
            "cell_type": "markdown",
            "source": [
                "In Python, the `print` statement is used to display output to the console or terminal. Over different versions of Python, there have been variations in how the `print` statement is used and formatted. Here are some of the main variations:\n",
                "\n",
                "1. **Python 2.x:** In Python 2.x, `print` is a statement and does not require parentheses. It can be used like this:\n",
                "    \n",
                "    ```python\n",
                "    print \"Hello, World!\"\n",
                "    \n",
                "    ```\n",
                "    \n",
                "2. **Python 3.x:** In Python 3.x, `print` is a function, and you need to use parentheses around the content you want to print:\n",
                "    \n",
                "    ```python\n",
                "    print(\"Hello, World!\")\n",
                "    \n",
                "    ```\n",
                "    \n",
                "    This change was made to make the language more consistent and improve its support for functions and expressions.\n",
                "    \n",
                "3. **Print Multiple Items:** You can print multiple items by separating them with commas:\n",
                "    \n",
                "    ```python\n",
                "    x = 10\n",
                "    y = 20\n",
                "    print(\"The value of x is\", x, \"and the value of y is\", y)\n",
                "    \n",
                "    ```\n",
                "    \n",
                "    In this case, Python will automatically insert spaces between the items.\n",
                "    \n",
                "4. **Formatted Output:** You can use the `%` operator or the `.format()` method for formatted output. In Python 2.x, the `%` operator is commonly used:\n",
                "    \n",
                "    ```python\n",
                "    name = \"Alice\"\n",
                "    age = 30\n",
                "    print(\"Name: %s, Age: %d\" % (name, age))\n",
                "    \n",
                "    ```\n",
                "    \n",
                "    In Python 3.x and later, the `.format()` method is preferred:\n",
                "    \n",
                "    ```python\n",
                "    name = \"Alice\"\n",
                "    age = 30\n",
                "    print(\"Name: {}, Age: {}\".format(name, age))\n",
                "    \n",
                "    ```\n",
                "\n",
                "\n",
                "5. **f-strings (Python 3.6+):** Python introduced f-strings, which are a concise way to embed expressions inside string literals:\n",
                "    \n",
                "    ```python\n",
                "    name = \"Alice\"\n",
                "    age = 30\n",
                "    print(f\"Name: {name}, Age: {age}\")\n",
                "    \n",
                "    ```\n",
                "    \n",
                "    F-strings start with an 'f' before the opening quote and allow you to directly include variable names or expressions within curly braces `{}`.\n",
                "    \n",
                "6. **Print to a File:** You can direct the `print` output to a file by specifying the `file` parameter:\n",
                "    \n",
                "    ```python\n",
                "    with open(\"output.txt\", \"w\") as f:\n",
                "        print(\"Hello, World!\", file=f)\n",
                "    \n",
                "    ```\n",
                "    \n",
                "\n",
                "These are some of the common variations of the `print` statement in Python, and the choice of which one to use depends on the Python version you are working with and your specific formatting needs."
            ],
            "metadata": {
                "azdata_cell_guid": "62b53578-934d-408d-9ab0-18b36671080c"
            },
            "attachments": {}
        },
        {
            "cell_type": "markdown",
            "source": [
                ""
            ],
            "metadata": {
                "azdata_cell_guid": "92e1775d-4ed0-4644-968b-7c1e47fdc520"
            }
        }
    ]
}