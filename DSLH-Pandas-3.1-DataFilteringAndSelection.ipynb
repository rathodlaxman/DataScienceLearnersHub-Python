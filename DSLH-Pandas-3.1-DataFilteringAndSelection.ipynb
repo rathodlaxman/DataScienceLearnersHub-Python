{
    "metadata": {
        "kernelspec": {
            "name": "python3",
            "display_name": "Python 3",
            "language": "python"
        },
        "language_info": {
            "name": "python",
            "version": "3.10.9",
            "mimetype": "text/x-python",
            "codemirror_mode": {
                "name": "ipython",
                "version": 3
            },
            "pygments_lexer": "ipython3",
            "nbconvert_exporter": "python",
            "file_extension": ".py"
        }
    },
    "nbformat_minor": 2,
    "nbformat": 4,
    "cells": [
        {
            "cell_type": "markdown",
            "source": [
                "# **`Data Science Learners Hub`**\n",
                "\n",
                "**Module : Python**\n",
                "\n",
                "**email** : [datasciencelearnershub@gmail.com](mailto:datasciencelearnershub@gmail.com)"
            ],
            "metadata": {
                "azdata_cell_guid": "3c2d0b22-c0b2-43ed-89e2-62a9145007ab"
            },
            "attachments": {}
        },
        {
            "cell_type": "markdown",
            "source": [
                "## **`#3: Data Manipulation with Pandas`**\n",
                "7. **Data Filtering and Selection**\n",
                "   - Conditional selection\n",
                "   - Using boolean indexing\n",
                "\n",
                "8. **Data Sorting and Ranking**\n",
                "   - Sorting by columns\n",
                "   - Ranking data\n",
                "\n",
                "9. **Grouping and Aggregation**\n",
                "   - GroupBy operations\n",
                "   - Aggregation functions (sum, mean, count, etc.)"
            ],
            "metadata": {
                "azdata_cell_guid": "1bc40856-341c-4311-b17b-d51827f1fd86"
            },
            "attachments": {}
        },
        {
            "cell_type": "markdown",
            "source": [
                "### **`7. Data Filtering and Selection`**"
            ],
            "metadata": {
                "azdata_cell_guid": "45079c84-3da9-4575-bf14-4ca6d1c71e3e"
            },
            "attachments": {}
        },
        {
            "cell_type": "markdown",
            "source": [
                "#### `Conditional Selection in Pandas DataFrame`"
            ],
            "metadata": {
                "azdata_cell_guid": "c83ea6f1-4db1-4b0e-aef8-80ce99e182eb"
            },
            "attachments": {}
        },
        {
            "cell_type": "markdown",
            "source": [
                "#### Filtering Data Based on Conditions:\n",
                "\n",
                "Pandas allows for efficient conditional selection of data in a DataFrame using boolean expressions. This involves creating a boolean mask based on specific conditions and applying it to the DataFrame.\n",
                "\n",
                "Note : What is boolean mask ? explained at the end of this notebook.\n",
                "\n",
                "#### Example with Comparison Operators:"
            ],
            "metadata": {
                "azdata_cell_guid": "bcc503ad-ee9f-42f7-bc81-1add202fbe55"
            },
            "attachments": {}
        },
        {
            "cell_type": "code",
            "source": [
                "import pandas as pd\n",
                "\n",
                "# Sample DataFrame\n",
                "data = {'Name': ['Laxman', 'Rajesh', 'Ganga', 'Jamuna'],\n",
                "        'Age': [25, 30, 22, 35],\n",
                "        'Salary': [50000, 60000, 45000, 70000]}\n",
                "\n",
                "df = pd.DataFrame(data)\n",
                "\n",
                "# Filtering based on Age greater than 25\n",
                "age_condition = df['Age'] > 25\n",
                "filtered_data = df[age_condition]\n",
                "\n",
                "# Displaying the filtered DataFrame\n",
                "print(\"DataFrame with Age > 25:\")\n",
                "print(filtered_data)"
            ],
            "metadata": {
                "azdata_cell_guid": "84831a7a-c8c9-4c3b-92d7-d1021a74369d",
                "language": "python"
            },
            "outputs": [
                {
                    "output_type": "stream",
                    "name": "stdout",
                    "text": "DataFrame with Age > 25:\n     Name  Age  Salary\n1  Rajesh   30   60000\n3  Jamuna   35   70000\n"
                }
            ],
            "execution_count": 1
        },
        {
            "cell_type": "markdown",
            "source": [
                "#### Example with Logical Conditions:"
            ],
            "metadata": {
                "language": "python",
                "azdata_cell_guid": "956def37-489a-4a05-b7fb-332a2f369d59"
            },
            "attachments": {}
        },
        {
            "cell_type": "code",
            "source": [
                "# Filtering based on multiple conditions (Age > 25 and Salary > 50000)\n",
                "combined_condition = (df['Age'] > 25) & (df['Salary'] > 50000)\n",
                "filtered_data_combined = df[combined_condition]\n",
                "\n",
                "# Displaying the DataFrame with combined conditions\n",
                "print(\"\\nDataFrame with Age > 25 and Salary > 50000:\")\n",
                "print(filtered_data_combined)"
            ],
            "metadata": {
                "language": "python",
                "azdata_cell_guid": "df02f79d-3ca2-4ed2-ad0b-0bedf5f19912"
            },
            "outputs": [
                {
                    "output_type": "stream",
                    "name": "stdout",
                    "text": "\nDataFrame with Age > 25 and Salary > 50000:\n     Name  Age  Salary\n1  Rajesh   30   60000\n3  Jamuna   35   70000\n"
                }
            ],
            "execution_count": 2
        },
        {
            "cell_type": "markdown",
            "source": [
                "#### Explanation:\n",
                "\n",
                "- **Comparison Operators:**\n",
                "  - Comparison operators like `>`, `<`, `==`, `!=` create boolean Series based on the conditions.\n",
                "\n",
                "- **Logical Conditions:**\n",
                "  - Logical operators `&` (and), `|` (or), `~` (not) can be used for combining conditions.\n",
                "\n",
                "- **Boolean Mask:**\n",
                "  - The boolean condition creates a boolean mask, where `True` represents rows that satisfy the condition.\n",
                "\n",
                "- **Conditional Selection:**\n",
                "  - Applying the boolean mask to the DataFrame (`df[condition]`) extracts rows satisfying the condition.\n",
                "\n",
                "#### Use Cases:\n",
                "\n",
                "1. **Filtering Employees:**\n",
                "   - Extract employees older than 30 with a salary greater than $60,000.\n",
                "\n",
                "2. **Analyzing Sales Data:**\n",
                "   - Select rows where both the quantity sold is greater than 10 and revenue is above $500.\n",
                "\n",
                "3. **Data Cleaning:**\n",
                "   - Identify and remove outliers by filtering data based on certain thresholds.\n",
                "\n",
                "4. **Time Series Analysis:**\n",
                "   - Filter time series data for specific time periods or events.\n",
                "\n",
                "#### Tips:\n",
                "\n",
                "- **Parentheses for Clarity:**\n",
                "  - Use parentheses for clear and unambiguous logical conditions.\n",
                "\n",
                "- **Understanding Operator Precedence:**\n",
                "  - Be mindful of operator precedence when combining multiple conditions.\n",
                "\n",
                "- **Efficiency:**\n",
                "  - For large DataFrames, consider using the `.loc[]` indexer for better performance.\n",
                "\n",
                "Conditional selection is a powerful tool for extracting relevant information from a DataFrame based on specific criteria. It is widely used in data analysis, filtering, and preprocessing tasks."
            ],
            "metadata": {
                "language": "python",
                "azdata_cell_guid": "1d168010-8240-48a6-bc7e-730eda745180"
            },
            "attachments": {}
        },
        {
            "cell_type": "markdown",
            "source": [
                "#### **`Using Boolean Indexing in Pandas DataFrame`**"
            ],
            "metadata": {
                "language": "python",
                "azdata_cell_guid": "c541e4f6-dd9d-4321-bb19-c0d9db3f38e7"
            },
            "attachments": {}
        },
        {
            "cell_type": "markdown",
            "source": [
                "#### Concept of Boolean Indexing:\n",
                "\n",
                "Boolean indexing in Pandas involves selecting subsets of data based on boolean conditions. It allows for flexible and expressive ways to filter both rows and columns of a DataFrame.\n",
                "\n",
                "#### Application in Filtering Rows:"
            ],
            "metadata": {
                "language": "python",
                "azdata_cell_guid": "7911aba6-c4b7-49cb-a344-7e7f4c9a3534"
            },
            "attachments": {}
        },
        {
            "cell_type": "code",
            "source": [
                "import pandas as pd\n",
                "\n",
                "# Sample DataFrame\n",
                "data = {'Name': ['Laxman', 'Rajesh', 'Ganesh', 'Dinesh'],\n",
                "        'Age': [25, 30, 22, 35],\n",
                "        'Salary': [50000, 60000, 45000, 70000]}\n",
                "\n",
                "df = pd.DataFrame(data)\n",
                "\n",
                "# Applying boolean indexing to filter rows\n",
                "filtered_rows = df[df['Age'] > 25]\n",
                "\n",
                "# Displaying the DataFrame with filtered rows\n",
                "print(\"DataFrame with Age > 25:\")\n",
                "print(filtered_rows)"
            ],
            "metadata": {
                "language": "python",
                "azdata_cell_guid": "015d9587-07f4-4e9e-85d8-c7a3e9a3f030"
            },
            "outputs": [
                {
                    "output_type": "stream",
                    "name": "stdout",
                    "text": "DataFrame with Age > 25:\n     Name  Age  Salary\n1  Rajesh   30   60000\n3  Dinesh   35   70000\n"
                }
            ],
            "execution_count": 3
        },
        {
            "cell_type": "markdown",
            "source": [
                "#### Application in Filtering Columns:"
            ],
            "metadata": {
                "language": "python",
                "azdata_cell_guid": "7fd616c7-8c78-42ab-adc8-fcebe935a987"
            },
            "attachments": {}
        },
        {
            "cell_type": "code",
            "source": [
                "# Applying boolean indexing to filter columns\n",
                "filtered_columns = df.loc[:, df.columns != 'Salary']\n",
                "\n",
                "# Displaying the DataFrame with filtered columns\n",
                "print(\"\\nDataFrame without the 'Salary' column:\")\n",
                "print(filtered_columns)"
            ],
            "metadata": {
                "language": "python",
                "azdata_cell_guid": "eaf73e69-5a75-49f1-9b10-f3b2bffabdf6"
            },
            "outputs": [
                {
                    "output_type": "stream",
                    "name": "stdout",
                    "text": "\nDataFrame without the 'Salary' column:\n     Name  Age\n0  Laxman   25\n1  Rajesh   30\n2  Ganesh   22\n3  Dinesh   35\n"
                }
            ],
            "execution_count": 4
        },
        {
            "cell_type": "markdown",
            "source": [
                "#### Combining Boolean Indexing with Other Operations:"
            ],
            "metadata": {
                "language": "python",
                "azdata_cell_guid": "c2fe2002-8fc5-41b1-a6f5-1b0355edb36d"
            },
            "attachments": {}
        },
        {
            "cell_type": "code",
            "source": [
                "# Combining boolean indexing with other operations\n",
                "complex_condition = (df['Age'] > 25) & (df['Salary'] > 50000)\n",
                "complex_filtered_data = df.loc[complex_condition, ['Name', 'Age']]\n",
                "\n",
                "print(complex_condition)\n",
                "\n",
                "# Displaying the DataFrame with complex filtered data\n",
                "print(\"\\nDataFrame with Age > 25 and Salary > 50000, showing 'Name' and 'Age':\")\n",
                "print(complex_filtered_data)\n",
                "\n",
                "# Note : More about loc accessor is explained at the end of the notebook"
            ],
            "metadata": {
                "language": "python",
                "azdata_cell_guid": "73e48930-00a2-47ed-9dab-93505ca9d2ed"
            },
            "outputs": [
                {
                    "output_type": "stream",
                    "name": "stdout",
                    "text": "0    False\n1     True\n2    False\n3     True\ndtype: bool\n\nDataFrame with Age > 25 and Salary > 50000, showing 'Name' and 'Age':\n     Name  Age\n1  Rajesh   30\n3  Dinesh   35\n"
                }
            ],
            "execution_count": 6
        },
        {
            "cell_type": "markdown",
            "source": [
                "#### Explanation:\n",
                "\n",
                "- **Filtering Rows:**\n",
                "  - Rows are filtered based on a boolean condition applied to a specific column (`df['Age'] > 25`).\n",
                "\n",
                "- **Filtering Columns:**\n",
                "  - Columns are filtered based on a boolean condition applied to column names (`df.loc[:, df.columns != 'Salary']`).\n",
                "\n",
                "- **Combining Conditions:**\n",
                "  - Multiple conditions can be combined using logical operators (`&`, `|`, `~`) to create complex boolean conditions.\n",
                "\n",
                "- **Selecting Specific Columns:**\n",
                "  - Specific columns can be selected along with boolean conditions to extract a subset of data.\n",
                "\n",
                "#### Use Cases:\n",
                "\n",
                "1. **Selective Row Extraction:**\n",
                "   - Extract rows of customers with purchases exceeding a certain amount.\n",
                "\n",
                "2. **Column Exclusion:**\n",
                "   - Exclude columns with sensitive information from being displayed.\n",
                "\n",
                "3. **Filtering with Complex Conditions:**\n",
                "   - Extract specific columns for rows meeting complex conditions, useful in targeted analyses.\n",
                "\n",
                "4. **Data Cleaning:**\n",
                "   - Selectively remove or replace values based on conditions.\n",
                "\n",
                "#### Tips:\n",
                "\n",
                "- **Boolean Indexing for Both Rows and Columns:**\n",
                "  - Boolean indexing can be applied to both rows and columns simultaneously, providing flexibility.\n",
                "\n",
                "- **Combining Conditions:**\n",
                "  - Logical operators help create intricate conditions, useful for nuanced data extraction.\n",
                "\n",
                "- **Efficiency Considerations:**\n",
                "  - Use boolean indexing efficiently, especially with large datasets, to avoid unnecessary memory usage.\n",
                "\n",
                "Boolean indexing is a versatile technique for selectively extracting information from a DataFrame. It is widely used in data filtering, cleaning, and preparation for further analysis. Understanding how to combine boolean indexing with other operations enhances its utility in complex data extraction tasks."
            ],
            "metadata": {
                "language": "python",
                "azdata_cell_guid": "4b93e62d-3f7a-4c0e-b7a6-8752b7eba94b"
            },
            "attachments": {}
        },
        {
            "cell_type": "markdown",
            "source": [
                "#### **`Hands On Experience:`**\n",
                "\n",
                "Conditional Selection and Boolean Indexing\n",
                ""
            ],
            "metadata": {
                "azdata_cell_guid": "a0aca5a8-4203-43f9-97b9-afd946559422"
            },
            "attachments": {}
        },
        {
            "cell_type": "markdown",
            "source": [
                "#### Example 1: Employee Data Analysis\n",
                "\n",
                "##### Scenario:\n",
                "Consider a dataset of employee information, including age, department, and salary. You want to analyze employees aged 30 or younger in the 'Marketing' department."
            ],
            "metadata": {
                "azdata_cell_guid": "9475b881-71b6-49c7-b6a5-2af7cdd77207"
            },
            "attachments": {}
        },
        {
            "cell_type": "code",
            "source": [
                "import pandas as pd\n",
                "\n",
                "# Reading Employee Data\n",
                "employee_data = {'Name': ['Laxman', 'Rajesh', 'Ganga', 'Jamuna'],\n",
                "                 'Age': [25, 30, 22, 35],\n",
                "                 'Department': ['Marketing', 'HR', 'Marketing', 'IT'],\n",
                "                 'Salary': [50000, 60000, 45000, 70000]}\n",
                "\n",
                "df_employees = pd.DataFrame(employee_data)\n",
                "\n",
                "# Conditional Selection\n",
                "young_marketing_employees = df_employees[(df_employees['Age'] <= 30) & (df_employees['Department'] == 'Marketing')]\n",
                "\n",
                "# Displaying the Result\n",
                "print(\"Young Employees in Marketing Department:\")\n",
                "print(young_marketing_employees)\n",
                "\n",
                "# print(df_employees)"
            ],
            "metadata": {
                "azdata_cell_guid": "8b5ab70a-2e34-4773-950b-29a675455adb",
                "language": "python"
            },
            "outputs": [
                {
                    "output_type": "stream",
                    "name": "stdout",
                    "text": "Young Employees in Marketing Department:\n     Name  Age Department  Salary\n0  Laxman   25  Marketing   50000\n2   Ganga   22  Marketing   45000\n"
                }
            ],
            "execution_count": 9
        },
        {
            "cell_type": "markdown",
            "source": [
                "#### Considerations:\n",
                "- **Column Selection:**\n",
                "  - Select only the relevant columns to avoid unnecessary data processing.\n",
                "- **Multiple Conditions:**\n",
                "  - Ensure proper use of parentheses when combining multiple conditions for clarity."
            ],
            "metadata": {
                "language": "python",
                "azdata_cell_guid": "efaa2839-3db2-40a3-9e28-f00204ca4d42"
            },
            "attachments": {}
        },
        {
            "cell_type": "markdown",
            "source": [
                "#### Example 2: Sales Data Analysis\n",
                "\n",
                "##### Scenario:\n",
                "You have a sales dataset with product information, quantity sold, and revenue. Identify products where the quantity sold is above 10 and revenue exceeds $500.\n",
                "\n",
                "##### Solution:"
            ],
            "metadata": {
                "language": "python",
                "azdata_cell_guid": "6ba3a610-ec58-4845-b4d8-c01706636acb"
            },
            "attachments": {}
        },
        {
            "cell_type": "code",
            "source": [
                "# Reading Sales Data\n",
                "sales_data = {'Product': ['Laptop', 'Smartphone', 'Tablet', 'Camera'],\n",
                "              'Quantity': [15, 8, 12, 5],\n",
                "              'Revenue': [12000, 8000, 4500, 6000]}\n",
                "\n",
                "df_sales = pd.DataFrame(sales_data)\n",
                "\n",
                "# Boolean Indexing\n",
                "high_revenue_products = df_sales.loc[(df_sales['Quantity'] > 10) & (df_sales['Revenue'] > 500), 'Product']\n",
                "\n",
                "# Displaying the Result\n",
                "print(\"\\nHigh Revenue Products with Quantity > 10:\")\n",
                "print(high_revenue_products)"
            ],
            "metadata": {
                "language": "python",
                "azdata_cell_guid": "9ca8b38e-8df1-40a5-8c5d-ecb384b79074"
            },
            "outputs": [
                {
                    "output_type": "stream",
                    "name": "stdout",
                    "text": "\nHigh Revenue Products with Quantity > 10:\n0    Laptop\n2    Tablet\nName: Product, dtype: object\n"
                }
            ],
            "execution_count": 10
        },
        {
            "cell_type": "markdown",
            "source": [
                "#### Considerations:\n",
                "- **Column Selection:**\n",
                "  - Use boolean indexing to extract specific columns relevant to the analysis.\n",
                "- **Condition Complexity:**\n",
                "  - Carefully structure complex conditions for accurate filtering."
            ],
            "metadata": {
                "language": "python",
                "azdata_cell_guid": "529058d0-569a-4adc-b057-fa8f51327fad"
            },
            "attachments": {}
        },
        {
            "cell_type": "markdown",
            "source": [
                "#### Common Mistakes by Developers/Students:\n",
                "\n",
                "1. **Overlooking Parentheses:**\n",
                "   - Mistakenly omitting parentheses when combining multiple conditions can lead to unexpected results.\n",
                "\n",
                "2. **Incorrect Column Names:**\n",
                "   - Using incorrect column names in conditions may result in errors or inaccurate filtering.\n",
                "\n",
                "3. **Not Handling Edge Cases:**\n",
                "   - Failing to consider edge cases or missing values in conditions may impact the accuracy of the analysis.\n",
                "\n",
                "4. **Misinterpreting Logical Operators:**\n",
                "   - Misunderstanding how logical operators (`&`, `|`, `~`) work can lead to incorrect boolean conditions.\n",
                "\n",
                "\n",
                "#### Interesting Facts:\n",
                "\n",
                "1. **Query-like Syntax:**\n",
                "   - Pandas allows using a query-like syntax for conditional selection, making it more readable and similar to SQL.\n",
                "\n",
                "2. **Chaining Conditions:**\n",
                "   - Chaining conditions with logical operators enables complex and nuanced filtering, enhancing data extraction capabilities.\n",
                "\n",
                "3. **Efficient Memory Usage:**\n",
                "   - Properly using boolean indexing can optimize memory usage, especially crucial for large datasets.\n",
                "\n",
                "4. **Combining with Other Operations:**\n",
                "   - Boolean indexing seamlessly integrates with other Pandas operations, providing a powerful toolkit for data manipulation.\n",
                "\n",
                "Understanding real-world scenarios, considerations, and potential mistakes enhances the application of conditional selection and boolean indexing in practical data analysis tasks."
            ],
            "metadata": {
                "language": "python",
                "azdata_cell_guid": "00aaf96c-5207-4ea8-9300-9bcef09f33db"
            },
            "attachments": {}
        },
        {
            "cell_type": "markdown",
            "source": [
                "### **`Extra Innings`**"
            ],
            "metadata": {
                "azdata_cell_guid": "c5d37c82-48e3-4056-912c-b41bee3e3a5c"
            },
            "attachments": {}
        },
        {
            "cell_type": "markdown",
            "source": [
                "#### **`Understanding Boolean Mask:`**"
            ],
            "metadata": {
                "azdata_cell_guid": "32209803-b5ad-4525-a36d-a5a3e6e6a324"
            },
            "attachments": {}
        },
        {
            "cell_type": "markdown",
            "source": [
                "\n",
                "The term \"boolean mask\" refers to a binary-valued mask derived from a condition or set of conditions applied to an array or DataFrame. In the context of data manipulation with libraries like NumPy or pandas, a boolean mask is essentially an array of the same shape as the original data, where each element is either `True` or `False` based on whether the corresponding element in the original array or DataFrame satisfies a specified condition.\n",
                "\n",
                "Here's an example using NumPy:\n",
                "\n",
                "```python\n",
                "import numpy as np\n",
                "\n",
                "# Create a NumPy array\n",
                "arr = np.array([1, 2, 3, 4, 5])\n",
                "\n",
                "# Create a boolean mask based on a condition (e.g., values greater than 3)\n",
                "mask = arr > 3\n",
                "\n",
                "# The boolean mask\n",
                "print(mask)\n",
                "# Output: [False False False  True  True]\n",
                "```\n",
                "\n",
                "In this example, the boolean mask `mask` is `True` for elements greater than 3 and `False` otherwise. This mask can be used to index or filter the original array, selecting only the elements that satisfy the specified condition:\n",
                "\n",
                "```python\n",
                "# Use the boolean mask to filter the original array\n",
                "filtered_arr = arr[mask]\n",
                "\n",
                "# The filtered array\n",
                "print(filtered_arr)\n",
                "# Output: [4 5]\n",
                "```\n",
                "\n",
                "In the context of pandas DataFrames, boolean masks are frequently used for filtering rows based on conditions. For instance:\n",
                "\n",
                "```python\n",
                "import pandas as pd\n",
                "\n",
                "# Create a DataFrame\n",
                "df = pd.DataFrame({'A': [1, 2, 3, 4, 5], 'B': [10, 20, 30, 40, 50]})\n",
                "\n",
                "# Create a boolean mask based on a condition (e.g., values in column 'A' greater than 3)\n",
                "mask = df['A'] > 3\n",
                "\n",
                "# Use the boolean mask to filter the DataFrame\n",
                "filtered_df = df[mask]\n",
                "\n",
                "# The filtered DataFrame\n",
                "print(filtered_df)\n",
                "# Output:\n",
                "#    A   B\n",
                "# 3  4  40\n",
                "# 4  5  50\n",
                "```\n",
                "\n",
                "In summary, a boolean mask is a powerful tool for conditionally selecting or modifying elements in arrays or DataFrames based on specific criteria. It provides a convenient way to filter data based on logical conditions, facilitating efficient data manipulation and analysis."
            ],
            "metadata": {
                "azdata_cell_guid": "11fbedd1-16c9-4319-98c8-b7215c97414a"
            },
            "attachments": {}
        },
        {
            "cell_type": "markdown",
            "source": [
                "#### **`Understanding loc accessor:`**"
            ],
            "metadata": {
                "language": "python",
                "azdata_cell_guid": "a55e704d-db5d-4bf8-8731-69921d1b83e0"
            },
            "attachments": {}
        },
        {
            "cell_type": "markdown",
            "source": [
                "The `loc` accessor in pandas is used for label-based indexing and selecting data in a DataFrame. It provides a powerful way to subset or filter rows and columns based on labels (either index labels or column names). Here's a more detailed explanation of `df.loc`:\n",
                "\n",
                "### Basic Syntax:\n",
                "```python\n",
                "df.loc[row_labels, column_labels]\n",
                "```\n",
                "\n",
                "- `row_labels`: This can be a single label, a list of labels, or a boolean array. It specifies the rows you want to select based on their index labels.\n",
                "  \n",
                "- `column_labels`: This can be a single label, a list of labels, or a boolean array. It specifies the columns you want to select based on their column names.\n",
                "\n",
                "### Examples:\n",
                "\n",
                "1. **Selecting Specific Rows and Columns by Labels:**\n",
                "   ```python\n",
                "   df.loc[[1, 3, 5], ['Name', 'Age']]\n",
                "   ```\n",
                "   This selects rows with index labels 1, 3, and 5 and columns 'Name' and 'Age'.\n",
                "\n",
                "2. **Boolean Indexing with `loc`:**\n",
                "   ```python\n",
                "   condition = df['Age'] > 25\n",
                "   df.loc[condition, ['Name', 'Salary']]\n",
                "   ```\n",
                "   This selects rows where the 'Age' column is greater than 25 and includes only the 'Name' and 'Salary' columns.\n",
                "\n",
                "3. **Slicing with `loc`:**\n",
                "   ```python\n",
                "   df.loc[1:3, 'Name':'Salary']\n",
                "   ```\n",
                "   This selects rows with index labels 1 to 3 (inclusive) and columns from 'Name' to 'Salary' (inclusive).\n",
                "\n",
                "4. **Selecting All Rows for Specific Columns:**\n",
                "   ```python\n",
                "   df.loc[:, ['Name', 'Age']]\n",
                "   ```\n",
                "   This selects all rows for the columns 'Name' and 'Age'.\n",
                "\n",
                "### Key Points:\n",
                "\n",
                "- `loc` is label-based, which means it uses the actual index and column names, inclusive of the end.\n",
                "\n",
                "- It is commonly used for more complex selection operations, such as boolean indexing, selecting by conditions, or combining both row and column selections.\n",
                "\n",
                "- `loc` returns a view of the DataFrame, not a new DataFrame. Modifications to the view will affect the original DataFrame.\n",
                "\n",
                "- Be cautious when using `loc` with boolean conditions to avoid setting values on a copy of a slice from a DataFrame.\n",
                "\n",
                "In your specific example:\n",
                "```python\n",
                "complex_condition = (df['Age'] > 25) & (df['Salary'] > 50000)\n",
                "complex_filtered_data = df.loc[complex_condition, ['Name', 'Age']]\n",
                "```\n",
                "The `loc` is used to filter rows based on the boolean condition (`complex_condition`) and select only the 'Name' and 'Age' columns for the matching rows."
            ],
            "metadata": {
                "language": "python",
                "azdata_cell_guid": "df54a090-0408-4055-9c63-2aa12d092c28"
            },
            "attachments": {}
        }
    ]
}