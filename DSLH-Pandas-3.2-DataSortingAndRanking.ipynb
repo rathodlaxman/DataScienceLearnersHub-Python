{
    "metadata": {
        "kernelspec": {
            "name": "python3",
            "display_name": "Python 3",
            "language": "python"
        },
        "language_info": {
            "name": "python",
            "version": "3.10.9",
            "mimetype": "text/x-python",
            "codemirror_mode": {
                "name": "ipython",
                "version": 3
            },
            "pygments_lexer": "ipython3",
            "nbconvert_exporter": "python",
            "file_extension": ".py"
        }
    },
    "nbformat_minor": 2,
    "nbformat": 4,
    "cells": [
        {
            "cell_type": "markdown",
            "source": [
                "# **`Data Science Learners Hub`**\n",
                "\n",
                "**Module : Python**\n",
                "\n",
                "**email** : [datasciencelearnershub@gmail.com](mailto:datasciencelearnershub@gmail.com)"
            ],
            "metadata": {
                "azdata_cell_guid": "7611e45f-ea92-4a9c-97b0-9e5d8fb40005"
            },
            "attachments": {}
        },
        {
            "cell_type": "markdown",
            "source": [
                "## **`#3: Data Manipulation with Pandas`**\n",
                "7. **Data Filtering and Selection**\n",
                "   - Conditional selection\n",
                "   - Using boolean indexing\n",
                "\n",
                "8. **Data Sorting and Ranking**\n",
                "   - Sorting by columns\n",
                "   - Ranking data\n",
                "\n",
                "9. **Grouping and Aggregation**\n",
                "   - GroupBy operations\n",
                "   - Aggregation functions (sum, mean, count, etc.)"
            ],
            "metadata": {
                "azdata_cell_guid": "3522fd0a-de77-4c38-8768-21291d6f10a0"
            },
            "attachments": {}
        },
        {
            "cell_type": "markdown",
            "source": [
                "### **`8. Data Sorting and Ranking`**"
            ],
            "metadata": {
                "azdata_cell_guid": "9dd6669c-907e-49f3-a0c1-9df3a4629d46"
            },
            "attachments": {}
        },
        {
            "cell_type": "markdown",
            "source": [
                "#### **`Sorting a Pandas DataFrame by Columns`**"
            ],
            "metadata": {
                "azdata_cell_guid": "b4b570e5-271e-4670-8d6b-681b02d210f9"
            },
            "attachments": {}
        },
        {
            "cell_type": "markdown",
            "source": [
                "#### Sorting Basics:\n",
                "\n",
                "Sorting in Pandas involves arranging the rows of a DataFrame based on the values in one or more columns. The `sort_values()` method is commonly used for this purpose.\n",
                "\n",
                "#### Sorting by a Single Column:"
            ],
            "metadata": {
                "azdata_cell_guid": "8eaa12ac-96dc-4b9f-935d-019881f83e34"
            },
            "attachments": {}
        },
        {
            "cell_type": "code",
            "source": [
                "import pandas as pd\n",
                "\n",
                "# Sample DataFrame\n",
                "data = {'Name': ['Laxman', 'Rajesh', 'Ganga', 'Jamuna'],\n",
                "        'Age': [25, 30, 22, 35],\n",
                "        'Salary': [50000, 60000, 45000, 70000]}\n",
                "\n",
                "df = pd.DataFrame(data)\n",
                "\n",
                "# Sorting by the 'Age' column in ascending order\n",
                "sorted_df_age_asc = df.sort_values(by='Age', ascending=True)\n",
                "\n",
                "# Displaying the sorted DataFrame\n",
                "print(\"DataFrame Sorted by Age in Ascending Order:\")\n",
                "print(sorted_df_age_asc)"
            ],
            "metadata": {
                "azdata_cell_guid": "cf90a7ed-7fca-4288-a235-111769bbfeea",
                "language": "python"
            },
            "outputs": [
                {
                    "name": "stdout",
                    "text": "DataFrame Sorted by Age in Ascending Order:\n     Name  Age  Salary\n2   Ganga   22   45000\n0  Laxman   25   50000\n1  Rajesh   30   60000\n3  Jamuna   35   70000\n",
                    "output_type": "stream"
                }
            ],
            "execution_count": 1
        },
        {
            "cell_type": "markdown",
            "source": [
                "#### Sorting by Multiple Columns:"
            ],
            "metadata": {
                "language": "python",
                "azdata_cell_guid": "91e889f8-4cdb-4a88-8d8d-f69a86876fa3"
            },
            "attachments": {}
        },
        {
            "cell_type": "code",
            "source": [
                "import pandas as pd\n",
                "\n",
                "# Sample DataFrame\n",
                "data = {'Name': ['Laxman', 'Rajesh', 'Ganga', 'Jamuna'],\n",
                "        'Age': [25, 30, 22, 35],\n",
                "        'Salary': [50000, 60000, 45000, 70000],\n",
                "        'Department': ['HR', 'IT', 'Marketing', 'IT']}\n",
                "\n",
                "df = pd.DataFrame(data)\n",
                "\n",
                "# Sorting by 'Department' in ascending order, then 'Salary' in descending order\n",
                "sorted_df_multi_columns = df.sort_values(by=['Department', 'Salary'], ascending=[True, False])\n",
                "\n",
                "# Displaying the sorted DataFrame with multiple columns\n",
                "print(\"DataFrame Sorted by Department (Asc) and Salary (Desc):\")\n",
                "print(sorted_df_multi_columns)\n",
                ""
            ],
            "metadata": {
                "language": "python",
                "azdata_cell_guid": "940da219-e9bc-4092-a157-c8d29e28e74e"
            },
            "outputs": [
                {
                    "name": "stdout",
                    "text": "DataFrame Sorted by Department (Asc) and Salary (Desc):\n     Name  Age  Salary Department\n0  Laxman   25   50000         HR\n3  Jamuna   35   70000         IT\n1  Rajesh   30   60000         IT\n2   Ganga   22   45000  Marketing\n",
                    "output_type": "stream"
                }
            ],
            "execution_count": 2
        },
        {
            "cell_type": "markdown",
            "source": [
                "#### Explanation:\n",
                "\n",
                "- **Single Column Sorting:**\n",
                "  - `df.sort_values(by='Column_Name')` sorts the DataFrame based on the specified column.\n",
                "  - `ascending=True` sorts in ascending order; set to `False` for descending order.\n",
                "\n",
                "- **Multiple Columns Sorting:**\n",
                "  - `by=['Column1', 'Column2']` sorts by multiple columns in the specified order.\n",
                "  - `ascending=[True, False]` controls the sorting order for each column.\n",
                "\n",
                "#### Scenarios for Sorting:\n",
                "\n",
                "1. **Top Performers Analysis:**\n",
                "   - Sort by a performance metric (e.g., sales, ratings) to identify top performers.\n",
                "\n",
                "2. **Time Series Data:**\n",
                "   - Sort time series data by date or timestamp for chronological analysis.\n",
                "\n",
                "3. **Hierarchical Sorting:**\n",
                "   - Sort by one column, then another, for hierarchical analysis (e.g., sorting by department, then salary).\n",
                "\n",
                "4. **Identifying Outliers:**\n",
                "   - Sort by numerical columns to identify outliers or extremes in the dataset.\n",
                "\n",
                "#### Considerations:\n",
                "\n",
                "- **Preserving Index:**\n",
                "  - **`Note :`**Sorting may change the DataFrame's index. Use `ignore_index=True` to reset the index.\n",
                "\n",
                "- **In-Place Sorting:**\n",
                "  - Use `inplace=True` to perform sorting in-place and modify the original DataFrame.\n",
                "\n",
                "#### Tips:\n",
                "\n",
                "- **Chaining Sorting Conditions:**\n",
                "  - Chain sorting conditions for nuanced analysis, ensuring the correct order of sorting.\n",
                "\n",
                "- **Numeric vs. Lexicographic Sorting:**\n",
                "  - Be aware of numeric vs. lexicographic (string-based) sorting when working with mixed data types.\n",
                "\n",
                "Sorting is crucial for organizing and analyzing data in a meaningful way. It is employed in various scenarios to extract insights and identify patterns within a dataset. Understanding the `sort_values()` method and its parameters enables efficient data sorting in Pandas.\n",
                ""
            ],
            "metadata": {
                "language": "python",
                "azdata_cell_guid": "609a104e-6b0c-451e-b78d-7d6822bd86ec"
            },
            "attachments": {}
        },
        {
            "cell_type": "markdown",
            "source": [
                "#### **`Ranking Data in a Pandas DataFrame`**"
            ],
            "metadata": {
                "azdata_cell_guid": "0961a164-f7db-48da-957c-fdd2a3af8e7e"
            },
            "attachments": {}
        },
        {
            "cell_type": "markdown",
            "source": [
                "#### Ranking Basics:\n",
                "\n",
                "Ranking in Pandas involves assigning ranks to the values in a DataFrame based on certain criteria. The `rank()` method is commonly used for this purpose.\n",
                "\n",
                "#### Basic Ranking:\n",
                ""
            ],
            "metadata": {
                "azdata_cell_guid": "a5557b47-814b-48f3-b536-9cefd92bbc02"
            },
            "attachments": {}
        },
        {
            "cell_type": "code",
            "source": [
                "import pandas as pd\n",
                "\n",
                "# Sample DataFrame\n",
                "data = {'Name': ['Laxman', 'Rajesh', 'Ganga', 'Jamuna'],\n",
                "        'Score': [85, 90, 85, 92]}\n",
                "\n",
                "df = pd.DataFrame(data)\n",
                "\n",
                "# Ranking by 'Score' in ascending order\n",
                "df['Rank'] = df['Score'].rank()\n",
                "\n",
                "# Displaying the DataFrame with ranks\n",
                "print(\"DataFrame with Ranks:\")\n",
                "print(df)"
            ],
            "metadata": {
                "azdata_cell_guid": "370c6065-2d1a-4f9c-b365-94f107cba34b",
                "language": "python"
            },
            "outputs": [
                {
                    "name": "stdout",
                    "text": "DataFrame with Ranks:\n     Name  Score  Rank\n0  Laxman     85   1.5\n1  Rajesh     90   3.0\n2   Ganga     85   1.5\n3  Jamuna     92   4.0\n",
                    "output_type": "stream"
                }
            ],
            "execution_count": 3
        },
        {
            "cell_type": "markdown",
            "source": [
                "Explanation:\n",
                "- The rank() function in pandas assigns ranks to values in ascending order by default. When there are tied values in the 'Score' column (values that are the same), the rank() function assigns them the average rank."
            ],
            "metadata": {
                "language": "python",
                "azdata_cell_guid": "bd2ea128-4cc4-434b-a95b-cfdb749fa369"
            },
            "attachments": {}
        },
        {
            "cell_type": "markdown",
            "source": [
                "#### Handling Ties:"
            ],
            "metadata": {
                "language": "python",
                "azdata_cell_guid": "6fdd5a44-9fd9-412d-8dc1-238a62ddeac2"
            },
            "attachments": {}
        },
        {
            "cell_type": "code",
            "source": [
                "# Handling ties by averaging ranks\n",
                "df['Rank_Avg'] = df['Score'].rank(method='average')\n",
                "\n",
                "# Displaying the DataFrame with averaged ranks for ties\n",
                "print(\"\\nDataFrame with Averaged Ranks for Ties:\")\n",
                "print(df)"
            ],
            "metadata": {
                "language": "python",
                "azdata_cell_guid": "47b1109c-cc62-41ff-bfd0-7c0438208884"
            },
            "outputs": [
                {
                    "name": "stdout",
                    "text": "\nDataFrame with Averaged Ranks for Ties:\n     Name  Score  Rank  Rank_Avg\n0  Laxman     85   1.5       1.5\n1  Rajesh     90   3.0       3.0\n2   Ganga     85   1.5       1.5\n3  Jamuna     92   4.0       4.0\n",
                    "output_type": "stream"
                }
            ],
            "execution_count": 4
        },
        {
            "cell_type": "markdown",
            "source": [
                "Explanation:\n",
                "\n",
                "- In pandas, the rank() method is used to assign ranks to elements in a DataFrame or Series. The method parameter allows you to specify how to handle ties (cases where two or more elements have the same value). The default method is 'average', but there are other options available."
            ],
            "metadata": {
                "language": "python",
                "azdata_cell_guid": "0728d86c-804e-4b02-9ac6-8b6687e105ac"
            },
            "attachments": {}
        },
        {
            "cell_type": "markdown",
            "source": [
                "#### rank() with different methods:"
            ],
            "metadata": {
                "language": "python",
                "azdata_cell_guid": "64aa86b8-d015-4b7b-b180-f9820e06a924"
            },
            "attachments": {}
        },
        {
            "cell_type": "code",
            "source": [
                "import pandas as pd\n",
                "\n",
                "# Sample DataFrame with additional data\n",
                "data = {'Name': ['Laxman', 'Rajesh', 'Ganga', 'Jamuna', 'Ram', 'Sita', 'Hanuman'],\n",
                "        'Score': [85, 90, 85, 92, 88, 90, 92]}\n",
                "\n",
                "df = pd.DataFrame(data)\n",
                "\n",
                "# Ranking by 'Score' with various methods\n",
                "df['Rank'] = df['Score'].rank()                       # Uses the default method ('average')\n",
                "df['Rank_min'] = df['Score'].rank(method='min')        # Assigns the minimum rank to tied values\n",
                "df['Rank_max'] = df['Score'].rank(method='max')        # Assigns the maximum rank to tied values\n",
                "df['Rank_first'] = df['Score'].rank(method='first')    # Assigns ranks in the order they appear in the array\n",
                "df['Rank_dense'] = df['Score'].rank(method='dense')    # Like 'min', but the rank increases by 1 between tied values\n",
                "\n",
                "# Displaying the DataFrame with ranks using different methods\n",
                "print(\"DataFrame with Ranks:\")\n",
                "print(df)\n",
                ""
            ],
            "metadata": {
                "language": "python",
                "azdata_cell_guid": "542a2da8-e130-4eee-94f7-d2c3c904c66c"
            },
            "outputs": [
                {
                    "name": "stdout",
                    "text": "DataFrame with Ranks:\n      Name  Score  Rank  Rank_min  Rank_max  Rank_first  Rank_dense\n0   Laxman     85   1.5       1.0       2.0         1.0         1.0\n1   Rajesh     90   4.5       4.0       5.0         4.0         3.0\n2    Ganga     85   1.5       1.0       2.0         2.0         1.0\n3   Jamuna     92   6.5       6.0       7.0         6.0         4.0\n4      Ram     88   3.0       3.0       3.0         3.0         2.0\n5     Sita     90   4.5       4.0       5.0         5.0         3.0\n6  Hanuman     92   6.5       6.0       7.0         7.0         4.0\n",
                    "output_type": "stream"
                }
            ],
            "execution_count": 6
        },
        {
            "cell_type": "markdown",
            "source": [
                "#### Customizing Ranking Method:"
            ],
            "metadata": {
                "language": "python",
                "azdata_cell_guid": "54f68ab6-156d-465b-b2a4-a0d0bcac332e"
            },
            "attachments": {}
        },
        {
            "cell_type": "code",
            "source": [
                "# Customizing ranking method to assign the lowest rank to tied values\n",
                "df['Rank_Min'] = df['Score'].rank(method='min')\n",
                "\n",
                "# Displaying the DataFrame with the lowest ranks for ties\n",
                "print(\"\\nDataFrame with Lowest Ranks for Ties:\")\n",
                "print(df)"
            ],
            "metadata": {
                "language": "python",
                "azdata_cell_guid": "f07d60d7-c446-43ff-b828-e64b6dd1c77f"
            },
            "outputs": [
                {
                    "name": "stdout",
                    "text": "\nDataFrame with Lowest Ranks for Ties:\n     Name  Score  Rank  Rank_Avg  Rank_Min\n0  Laxman     85   1.5       1.5       1.0\n1  Rajesh     90   3.0       3.0       3.0\n2   Ganga     85   1.5       1.5       1.0\n3  Jamuna     92   4.0       4.0       4.0\n",
                    "output_type": "stream"
                }
            ],
            "execution_count": 5
        },
        {
            "cell_type": "markdown",
            "source": [
                "#### Explanation:\n",
                "\n",
                "- **Basic Ranking:**\n",
                "  - `df['Score'].rank()` assigns ranks to values in the 'Score' column in ascending order.\n",
                "\n",
                "- **Handling Ties:**\n",
                "  - `method='average'` (default) averages ranks for tied values.\n",
                "  - Other methods include `'min'`, `'max'`, `'first'`, and `'dense'`.\n",
                "\n",
                "- **Customizing Ranking Method:**\n",
                "  - `method='min'` assigns the minimum rank to tied values.\n",
                "\n",
                "#### Scenarios for Ranking:\n",
                "\n",
                "1. **Competition Results:**\n",
                "   - Rank participants based on their scores in a competition.\n",
                "\n",
                "2. **Academic Performance:**\n",
                "   - Rank students based on their exam scores.\n",
                "\n",
                "3. **Sales Performance:**\n",
                "   - Rank sales representatives based on their sales figures.\n",
                "\n",
                "4. **Sporting Events:**\n",
                "   - Rank teams or athletes based on their performance.\n",
                "\n",
                "#### Considerations:\n",
                "\n",
                "- **Ties Handling:**\n",
                "  - Choose a tie-breaking method based on the nature of your analysis.\n",
                "\n",
                "- **Numeric vs. Lexicographic Ranking:**\n",
                "  - Understand the difference between numeric and lexicographic ranking for mixed data types.\n",
                "\n",
                "#### Tips:\n",
                "\n",
                "- **Ascending vs. Descending Order:**\n",
                "  - Use `ascending=False` to rank in descending order.\n",
                "\n",
                "- **Ranking Specific Columns:**\n",
                "  - Apply ranking to specific columns for targeted analysis.\n",
                "\n",
                "Ranking is a valuable tool for analyzing and comparing values within a dataset. Understanding the various ranking methods and how to handle ties provides flexibility in adapting ranking to different scenarios.\n",
                ""
            ],
            "metadata": {
                "language": "python",
                "azdata_cell_guid": "dc7b7119-7dd2-46c2-a052-d0d8e95974af"
            },
            "attachments": {}
        }
    ]
}