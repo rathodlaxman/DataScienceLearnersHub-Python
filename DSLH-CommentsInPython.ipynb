{
    "metadata": {
        "kernelspec": {
            "name": "python3",
            "display_name": "Python 3",
            "language": "python"
        },
        "language_info": {
            "name": "python",
            "version": "3.10.9",
            "mimetype": "text/x-python",
            "codemirror_mode": {
                "name": "ipython",
                "version": 3
            },
            "pygments_lexer": "ipython3",
            "nbconvert_exporter": "python",
            "file_extension": ".py"
        }
    },
    "nbformat_minor": 2,
    "nbformat": 4,
    "cells": [
        {
            "cell_type": "markdown",
            "source": [
                "# **Data Science Learners Hub - Python**\n",
                "\n",
                "**Module : Python**\n",
                "\n",
                "**Topic :** <span style=\"font-size: 12px; caret-color: rgb(31, 31, 31); white-space-collapse: preserve; background-color: rgb(255, 255, 255);\">Single line and multi- lines comments in Python</span>\n",
                "\n",
                "**email** : [datasciencelearnershub@gmail.com](https://github.com/rathodlaxman/DataScienceLearnersHub/blob/50de48da0c8f7145a545dd9942457c8b9cfc8fc5//mailto:datasciencelearnershub@gmail.com)"
            ],
            "metadata": {
                "azdata_cell_guid": "789c1446-38ac-4e79-85da-94dc989b8860"
            },
            "attachments": {}
        },
        {
            "cell_type": "markdown",
            "source": [
                "## **\\# Single line and multi- lines comments in Python**"
            ],
            "metadata": {
                "azdata_cell_guid": "f6526b13-6aed-402f-9754-00daa31599db"
            },
            "attachments": {}
        },
        {
            "cell_type": "markdown",
            "source": [
                "In Python, you can use two types of comments: single-line comments and multi-line comments (also known as block comments).\n",
                "\n",
                "1. Single-Line Comments:\n",
                "    - Single-line comments are used to add explanatory notes or comments on a single line.\n",
                "    - <mark>To create a single-line comment, you can use the hash symbol `#` followed by your comment text.</mark>\n",
                "    \n",
                "    Example:\n",
                "    \n",
                "    ```python\n",
                "    # This is a single-line comment\n",
                "    print(\"Hello, World!\")  # This comment explains the following line of code\n",
                "    \n",
                "    ```\n",
                "    \n",
                "2. Multi-Line Comments (Block Comments):\n",
                "    - <mark>Python does not have a built-in multi-line comment syntax like some other programming languages</mark>. <mark>However, you can create multi-line comments using triple-quotes (either triple single-quotes or triple double-quotes).</mark>\n",
                "    - A<mark>lthough these are technically string literals, they are often used as multi-line comments because they are not assigned to any variable or used in the program's execution.</mark>\n",
                "    \n",
                "    Example:\n",
                "    \n",
                "    ```python\n",
                "    '''\n",
                "    This is a multi-line comment.\n",
                "    It can span across multiple lines.\n",
                "    Use triple-quotes to create it.\n",
                "    '''\n",
                "    \n",
                "    \"\"\"\n",
                "    This is another way to create a multi-line comment.\n",
                "    Triple double-quotes also work.\n",
                "    \"\"\"\n",
                "    \n",
                "    ```\n",
                "    \n",
                "\n",
                "<mark>It's important to note that multi-line comments using triple-quotes are not ignored by Python but are simply treated as string literals. They are often used for docstrings (documentation strings) to provide documentation for modules, classes, functions, or methods. These docstrings can be accessed using the `help()` function or various documentation generation tools.</mark>"
            ],
            "metadata": {
                "azdata_cell_guid": "ff7c8d24-34dc-4018-b553-87568da17cb4"
            },
            "attachments": {}
        }
    ]
}