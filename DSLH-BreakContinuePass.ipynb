{
    "metadata": {
        "kernelspec": {
            "name": "python3",
            "display_name": "Python 3",
            "language": "python"
        },
        "language_info": {
            "name": "python",
            "version": "3.10.9",
            "mimetype": "text/x-python",
            "codemirror_mode": {
                "name": "ipython",
                "version": 3
            },
            "pygments_lexer": "ipython3",
            "nbconvert_exporter": "python",
            "file_extension": ".py"
        }
    },
    "nbformat_minor": 2,
    "nbformat": 4,
    "cells": [
        {
            "cell_type": "markdown",
            "source": [
                "# **Data Science Learners Hub - Python**\n",
                "\n",
                "**Module : Python**\n",
                "\n",
                "**Topic :** <span style=\"font-size: 12px; caret-color: rgb(31, 31, 31); white-space-collapse: preserve; background-color: rgb(255, 255, 255);\">Break, Case and Pass</span>\n",
                "\n",
                "**email** : [datasciencelearnershub@gmail.com](https://github.com/rathodlaxman/DataScienceLearnersHub/blob/50de48da0c8f7145a545dd9942457c8b9cfc8fc5//mailto:datasciencelearnershub@gmail.com)"
            ],
            "metadata": {
                "azdata_cell_guid": "41af6f95-8dbb-4091-9ef0-a8570b8ae190"
            },
            "attachments": {}
        },
        {
            "cell_type": "markdown",
            "source": [
                "## **\\# Python's Break, Continue, and Pass: Fine-Tuning Your Loops**"
            ],
            "metadata": {
                "azdata_cell_guid": "ef11b31b-e936-4a78-bc4d-fcfc11619ad0"
            },
            "attachments": {}
        },
        {
            "cell_type": "markdown",
            "source": [
                "### **1\\. What are Break, Continue, and Pass in Python?**\n",
                "\n",
                "\\- **Break:** The \\`break\\` statement is used to exit a loop prematurely, before its normal completion.\n",
                "\n",
                "\\- **Continue:** The \\`continue\\` statement is used to skip the rest of the code in the current iteration of a loop and move to the next iteration.\n",
                "\n",
                "\\- **Pass:** The \\`pass\\` statement is a no-operation statement. It serves as a placeholder and does nothing when executed. It is often used when a statement is syntactically required but no action is desired."
            ],
            "metadata": {
                "azdata_cell_guid": "11fff40b-a1c8-4c7c-b69d-73fd369e5f3e"
            },
            "attachments": {}
        },
        {
            "cell_type": "markdown",
            "source": [
                "### **2\\. Why do we need these statements?**\n",
                "\n",
                "\\- **Flexibility**: They provide more control over loop execution, allowing for efficient handling of specific conditions.\n",
                "\n",
                "  \n",
                "\n",
                "\\- **Optimization**: They can help avoid unnecessary iterations and improve code readability.\n",
                "\n",
                "  \n",
                "\n",
                "\\- **Error handling**: They can be used to prevent infinite loops or handle unexpected situations gracefully."
            ],
            "metadata": {
                "azdata_cell_guid": "24d885eb-f794-4b2f-bfa5-0da6ae45c219"
            },
            "attachments": {}
        },
        {
            "cell_type": "markdown",
            "source": [
                "### **3\\. What Happens When Break, Continue, Pass is Executed/Interpreted?**\n",
                "\n",
                "  \n",
                "\n",
                "\\- **Break:** When a \\`break\\` statement is encountered, the loop is immediately terminated, and the program continues with the next statement after the loop.\n",
                "\n",
                "  \n",
                "\n",
                "\\- **Continue:** When a \\`continue\\` statement is encountered, the rest of the code in the current iteration is skipped, and the loop proceeds to the next iteration.\n",
                "\n",
                "  \n",
                "\n",
                "\\- **Pass:** The \\`pass\\` statement has no effect on program execution. It simply proceeds to the next statement."
            ],
            "metadata": {
                "azdata_cell_guid": "c453a04e-2dcb-4df7-9182-b46add652e16"
            },
            "attachments": {}
        },
        {
            "cell_type": "markdown",
            "source": [
                "### **4\\. Examples of Break, Continue, Pass in Python**"
            ],
            "metadata": {
                "azdata_cell_guid": "6b548c67-f8d3-4176-bef1-5521fecc852a"
            },
            "attachments": {}
        },
        {
            "cell_type": "markdown",
            "source": [
                "**4.1 Break**"
            ],
            "metadata": {
                "azdata_cell_guid": "1fde086f-d5cf-42ad-b043-f93319715752"
            },
            "attachments": {}
        },
        {
            "cell_type": "code",
            "source": [
                "# Example of break in a while loop\n",
                "count = 0\n",
                "while count < 5:\n",
                "    print(count)\n",
                "    if count == 2:\n",
                "        break  # Exit the loop when count is 2\n",
                "    count += 1"
            ],
            "metadata": {
                "azdata_cell_guid": "b6a7d191-be2f-4002-b29e-757cae864eea",
                "language": "python"
            },
            "outputs": [
                {
                    "output_type": "stream",
                    "name": "stdout",
                    "text": "0\n1\n2\n"
                }
            ],
            "execution_count": 1
        },
        {
            "cell_type": "markdown",
            "source": [
                "**4.2 Continue**"
            ],
            "metadata": {
                "azdata_cell_guid": "1f33a4e8-4042-4c40-80d1-32315847fd4e"
            },
            "attachments": {}
        },
        {
            "cell_type": "code",
            "source": [
                "# Example of continue in a for loop\n",
                "for i in range(5):\n",
                "    if i == 2:\n",
                "        continue  # Skip the rest of the code in this iteration when i is 2\n",
                "    print(i)"
            ],
            "metadata": {
                "azdata_cell_guid": "e53fa990-3ffc-4960-a039-6def84411912",
                "language": "python"
            },
            "outputs": [
                {
                    "output_type": "stream",
                    "name": "stdout",
                    "text": "0\n1\n3\n4\n"
                }
            ],
            "execution_count": 2
        },
        {
            "cell_type": "markdown",
            "source": [
                "**4.3 Pass**"
            ],
            "metadata": {
                "language": "python",
                "azdata_cell_guid": "d77ee61b-2664-429a-878b-3a53ad33c8c9"
            },
            "attachments": {}
        },
        {
            "cell_type": "code",
            "source": [
                "# Example of pass in an if statement\n",
                "x = 5\n",
                "if x > 0:\n",
                "    pass  # Placeholder for future code\n",
                "else:\n",
                "    print(\"Negative\")"
            ],
            "metadata": {
                "language": "python",
                "azdata_cell_guid": "96d895c5-56d6-4c2e-b378-3b0883f556b4"
            },
            "outputs": [],
            "execution_count": 5
        },
        {
            "cell_type": "markdown",
            "source": [
                "### **5\\. Practical Applications :**\n",
                "\n",
                "  \n",
                "\n",
                "\\- **Break:** Useful when searching for a specific item in a list. If the item is found, there's no need to continue searching.\n",
                "\n",
                "  \n",
                "\n",
                "\\- **Continue:** Beneficial when processing a sequence but skipping specific elements based on certain conditions.\n",
                "\n",
                "  \n",
                "\n",
                "\\- **Pass:** Used when defining empty functions, classes, or code blocks temporarily, maintaining syntactic correctness."
            ],
            "metadata": {
                "language": "python",
                "azdata_cell_guid": "cf01a935-8cb3-4fab-85d6-eab3b4eeed9c"
            },
            "attachments": {}
        },
        {
            "cell_type": "markdown",
            "source": [
                "### **6\\. Peculiarities and Considerations** \n",
                "\n",
                "  \n",
                "\n",
                "\\- **Nested loops**: break and continue apply to the innermost loop by default.\n",
                "\n",
                "  \n",
                "\n",
                "\\- **else clause in loops**: Executes only if the loop completes normally (not by break).\n",
                "\n",
                "  \n",
                "\n",
                "\\- **pass doesn't affect indentation:** It's often used to maintain correct code structure.\n",
                "\n",
                "  \n",
                "\n",
                "\\- **Use with Caution:** While these statements provide flexibility, excessive use of \\`break\\` and \\`continue\\` may lead to less readable and harder-to-maintain code."
            ],
            "metadata": {
                "language": "python",
                "azdata_cell_guid": "70025d28-9206-4e0c-9d2a-ad560f0de3dd"
            },
            "attachments": {}
        },
        {
            "cell_type": "markdown",
            "source": [
                "### **7\\. Most Common Mistakes** \n",
                "\n",
                "\\- **Using break prematurely:** Consider alternative approaches to avoid unnecessary loop termination.\n",
                "\n",
                "  \n",
                "\n",
                "\\- **Overusing continue:** It can make code harder to read and debug.\n",
                "\n",
                "  \n",
                "\n",
                "\\- **Forgetting pass in empty code blocks:** This can lead to syntax errors.\n",
                "\n",
                "  \n",
                "\n",
                "\\- **Missing Increment/Decrement:** Forgetting to update loop variables inside a loop may lead to an infinite loop."
            ],
            "metadata": {
                "language": "python",
                "azdata_cell_guid": "c1a02056-c0c1-4767-839e-080be48af97d"
            },
            "attachments": {}
        },
        {
            "cell_type": "code",
            "source": [
                "# Incorrect usage of break without updating the loop variable\n",
                "count = 0\n",
                "while count < 5:\n",
                "    print(count)\n",
                "    break  # This will cause an infinite loop"
            ],
            "metadata": {
                "language": "python",
                "azdata_cell_guid": "b641bcc1-af01-45b6-a389-b068ba798c52"
            },
            "outputs": [
                {
                    "output_type": "stream",
                    "name": "stdout",
                    "text": "0\n"
                }
            ],
            "execution_count": 6
        },
        {
            "cell_type": "markdown",
            "source": [
                "### **8\\. Famous examples**\n",
                "\n",
                "  \n",
                "\n",
                "\\- **Ariane 5 Flight 501 (1996)**: Just 40 seconds after liftoff, the Ariane 5 rocket veered off its intended trajectory and self-destructed. The failure was attributed to a critical software issue related to the conversion of a 64-bit floating-point number to a 16-bit signed integer.\n",
                "\n",
                "  \n",
                "\n",
                "\\- **Advantage in Search Algorithms**: Break is commonly used in search algorithms, such as linear search, where once the target element is found, there's no need to continue searching.\n",
                "\n",
                "  \n",
                "\n",
                "\\- **Infinite loops**: Misuse of break or continue can create endless loops.\n",
                "\n",
                "\\- Buffer overflow attacks: Loop vulnerabilities have been exploited to compromise computer systems."
            ],
            "metadata": {
                "azdata_cell_guid": "6282bd27-d55e-4fd1-b46a-f6303aa0f442"
            },
            "attachments": {}
        },
        {
            "cell_type": "markdown",
            "source": [
                "**Note :** <span style=\"color: rgb(0, 0, 0); font-family: &quot;Helvetica Neue&quot;; font-size: 13px;\">Understanding when and how to use `break`, `continue`, and `pass` is essential for writing efficient and readable code. These statements provide control over the flow of execution and are powerful tools when used appropriately.</span>"
            ],
            "metadata": {
                "azdata_cell_guid": "84daf67c-0283-496b-a8d4-1af7bee6e5f1"
            },
            "attachments": {}
        },
        {
            "cell_type": "markdown",
            "source": [
                "### **9\\. Hands on**"
            ],
            "metadata": {
                "azdata_cell_guid": "dd39ace8-be1b-467e-ae66-c9eaddf51bdb"
            },
            "attachments": {}
        },
        {
            "cell_type": "markdown",
            "source": [
                " **Exercise 1: Break**\n",
                "\n",
                "  \n",
                "\n",
                "Write a program that takes a list of numbers as input and prints the sum of the numbers until a negative number is encountered. Use the \\`break\\` statement to exit the loop when a negative number is encountered.  \n",
                "  \n",
                "\n",
                "**Example :**\n",
                "\n",
                "Input:  \\[5, 3, 8, 2, -1, 7, 10\\]\n",
                "\n",
                "Output: Sum of numbers: 18"
            ],
            "metadata": {
                "azdata_cell_guid": "2723037c-1238-4931-8d1b-1d04b8fe67b1"
            },
            "attachments": {}
        },
        {
            "cell_type": "code",
            "source": [
                "# Solution\n",
                "\n",
                "numbers = [5, 3, 8, 2, -1, 7, 10]\n",
                "sum_numbers = 0\n",
                "\n",
                "for num in numbers:\n",
                "    if num < 0:\n",
                "        break\n",
                "    sum_numbers += num\n",
                "\n",
                "print(\"Sum of numbers:\", sum_numbers)"
            ],
            "metadata": {
                "azdata_cell_guid": "04f6f7dc-3920-492a-85ac-c94c7451a1d0",
                "language": "python"
            },
            "outputs": [
                {
                    "name": "stdout",
                    "text": "Sum of numbers: 18\n",
                    "output_type": "stream"
                }
            ],
            "execution_count": 1
        },
        {
            "cell_type": "markdown",
            "source": [
                "**Exercise 2: Continue**\n",
                "\n",
                "  \n",
                "\n",
                "Write a program that prints the squares of even numbers in a given list. Use the \\`continue\\` statement to skip odd numbers.\n",
                "\n",
                "  \n",
                "\n",
                "**Example**:\n",
                "\n",
                "  \n",
                "\n",
                "Input:  \\[1, 4, 7, 2, 9, 6, 8\\]\n",
                "\n",
                "Output: Squares of even numbers: 16 4 36 64"
            ],
            "metadata": {
                "language": "python",
                "azdata_cell_guid": "ee9720c1-cff8-4eb4-9549-6d99718a310a"
            },
            "attachments": {}
        },
        {
            "cell_type": "code",
            "source": [
                "# Solution\n",
                "\n",
                "numbers = [1, 4, 7, 2, 9, 6, 8]\n",
                "\n",
                "for num in numbers:\n",
                "    if num % 2 != 0:\n",
                "        continue\n",
                "    print(num ** 2, end=\" \")"
            ],
            "metadata": {
                "language": "python",
                "azdata_cell_guid": "656e78f4-91c1-46c0-855c-c0665be4ed28"
            },
            "outputs": [],
            "execution_count": null
        },
        {
            "cell_type": "markdown",
            "source": [
                "**Exercise 3: Pass**\n",
                "\n",
                "  \n",
                "\n",
                "Write a program to check if a number is positive, negative, or zero. Use the \\`pass\\` statement to leave the blocks empty for positive and negative cases.\n",
                "\n",
                "  \n",
                "\n",
                "**Example**:\n",
                "\n",
                "  \n",
                "\n",
                "Input:  \\-5\n",
                "\n",
                "Output: Negative"
            ],
            "metadata": {
                "language": "python",
                "azdata_cell_guid": "f02d64a2-a17f-4e94-bed0-d8136f708fbb"
            },
            "attachments": {}
        },
        {
            "cell_type": "code",
            "source": [
                "# Solution\n",
                "\n",
                "num = int(input(\"Enter a number: \"))\n",
                "\n",
                "if num > 0:\n",
                "    pass  # Positive numbers - No action needed for positive case\n",
                "elif num < 0:\n",
                "    pass  # Negative numbers - No action needed for negative case\n",
                "else:\n",
                "    print(\"Zero\")"
            ],
            "metadata": {
                "language": "python",
                "azdata_cell_guid": "793d55bd-0427-4a84-9bfe-5205fcc8ce57"
            },
            "outputs": [],
            "execution_count": 2
        },
        {
            "cell_type": "markdown",
            "source": [
                "**Exercise 4: Break in Nested Loop**\n",
                "\n",
                "  \n",
                "\n",
                "Write a program to find the first pair of numbers in two lists whose sum is equal to a given target. Use the \\`break\\` statement to exit the loop when the pair is found.\n",
                "\n",
                "  \n",
                "\n",
                "**Example:**\n",
                "\n",
                "  \n",
                "\n",
                "Input:  list1 = \\[2, 7, 11, 15\\], list2 = \\[3, 5, 9, 12\\], target = 18\n",
                "\n",
                "Output: Pair found: (7, 11)"
            ],
            "metadata": {
                "language": "python",
                "azdata_cell_guid": "ca696f67-a3d0-40a0-8bcc-10527f25182b"
            },
            "attachments": {}
        },
        {
            "cell_type": "code",
            "source": [
                "# Solution\n",
                "\n",
                "list1 = [2, 7, 11, 15]\n",
                "list2 = [3, 5, 9, 12]\n",
                "target = 18\n",
                "\n",
                "for num1 in list1:\n",
                "    for num2 in list2:\n",
                "        if num1 + num2 == target:\n",
                "            print(\"Pair found:\", (num1, num2))\n",
                "            break  # Exit the loop when the pair is found\n",
                "    else:\n",
                "        continue\n",
                "    break"
            ],
            "metadata": {
                "language": "python",
                "azdata_cell_guid": "e17e7942-3417-4e7e-8ab2-4c9c67840a85"
            },
            "outputs": [
                {
                    "name": "stdout",
                    "text": "Pair found: (15, 3)\n",
                    "output_type": "stream"
                }
            ],
            "execution_count": 3
        }
    ]
}