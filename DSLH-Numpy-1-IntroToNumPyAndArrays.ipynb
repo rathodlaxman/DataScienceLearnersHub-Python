{
    "metadata": {
        "kernelspec": {
            "name": "python3",
            "display_name": "Python 3",
            "language": "python"
        },
        "language_info": {
            "name": "python",
            "version": "3.10.9",
            "mimetype": "text/x-python",
            "codemirror_mode": {
                "name": "ipython",
                "version": 3
            },
            "pygments_lexer": "ipython3",
            "nbconvert_exporter": "python",
            "file_extension": ".py"
        }
    },
    "nbformat_minor": 2,
    "nbformat": 4,
    "cells": [
        {
            "cell_type": "markdown",
            "source": [
                "# **`Data Science Learners Hub`**\n",
                "\n",
                "**Module : Python**\n",
                "\n",
                "**email** : [datasciencelearnershub@gmail.com](mailto:datasciencelearnershub@gmail.com)"
            ],
            "metadata": {
                "azdata_cell_guid": "fa2db22e-c4f6-473d-bac1-441c0067390c"
            },
            "attachments": {}
        },
        {
            "cell_type": "markdown",
            "source": [
                "### **`#1: Introduction to NumPy and Arrays in Python`**\n",
                "\n",
                "1. **Overview of NumPy:**\n",
                "   - What is NumPy?\n",
                "   - Importance in scientific computing and data analysis.\n",
                "\n",
                "2. **Installation and Importing:**\n",
                "   - Installing NumPy using pip.\n",
                "   - Importing NumPy in a Python script or Jupyter notebook.\n",
                "\n",
                "3. **NumPy Arrays:**\n",
                "   - Understanding arrays as the core data structure.\n",
                "   - Creating arrays: `np.array()`, `np.zeros()`, `np.ones()`, `np.arange()`, `np.linspace()`.\n",
                "\n",
                "4. **Array Attributes:**\n",
                "   - Shape, size, and dimensions of arrays.\n",
                "   - Data types in NumPy arrays.\n",
                "\n",
                "5. **Indexing and Slicing:**\n",
                "   - Accessing elements and subarrays in NumPy arrays.\n",
                "   - Slicing and its importance."
            ],
            "metadata": {
                "azdata_cell_guid": "e88cad57-c3c4-4a70-b63a-f0c69c01203b"
            },
            "attachments": {}
        },
        {
            "cell_type": "markdown",
            "source": [
                "#### **`1. Overview of NumPy:`**\n",
                "\n",
                "NumPy, short for Numerical Python, is a powerful open-source library in Python designed for numerical and mathematical operations. It provides support for large, multi-dimensional arrays and matrices, along with an extensive collection of high-level mathematical functions to operate on these arrays. NumPy is a fundamental library in the Python data science ecosystem and is widely used in various scientific and engineering disciplines.\n",
                "\n",
                "**Significance in Scientific Computing:**\n",
                "\n",
                "1. **Efficient Array Operations:**\n",
                "   - NumPy's core feature is its ability to handle arrays efficiently. These arrays are the building blocks for numerical computation in Python.\n",
                "   - `Example`: In physics simulations, representing vectors and matrices efficiently is crucial. NumPy's arrays make these operations faster and more memory-efficient.\n",
                "\n",
                "2. **Mathematical Functions:**\n",
                "   - NumPy provides a vast array of mathematical functions, including trigonometric, logarithmic, statistical, and linear algebra operations.\n",
                "   - `Example`: In statistical analysis, calculating mean, median, and standard deviation of a dataset can be done succinctly with NumPy functions.\n",
                "\n",
                "3. **Broadcasting:**\n",
                "   - NumPy allows operations on arrays of different shapes and sizes, a feature known as broadcasting. This simplifies element-wise operations and makes code more readable.\n",
                "   - `Example`: In image processing, when you want to add a constant value to each pixel, broadcasting in NumPy streamlines the operation.\n",
                "\n",
                "4. **Integration with Other Libraries:**\n",
                "   - NumPy seamlessly integrates with other libraries in the Python ecosystem, such as pandas for data manipulation and Matplotlib for data visualization.\n",
                "   - `Example`: In a data analysis project, NumPy arrays can be easily passed to pandas DataFrames for advanced data manipulations.\n",
                "\n",
                "**Real-world Examples:**\n",
                "\n",
                "1. **Medical Imaging:**\n",
                "   - NumPy is extensively used in medical imaging for tasks such as processing, analyzing, and visualizing medical images.\n",
                "   - `Example`: MRI or CT scan data, represented as NumPy arrays, can be manipulated to extract meaningful information about tissues and organs.\n",
                "\n",
                "2. **Physics Simulations:**\n",
                "   - In physics, simulations often involve complex mathematical operations on large datasets. NumPy accelerates these simulations.\n",
                "   - `Example`: Modeling the behavior of particles in a collider, where numerical simulations require efficient array operations for position and velocity calculations.\n",
                "\n",
                "3. **Financial Modeling:**\n",
                "   - Financial analysts use NumPy for modeling and analyzing financial data due to its efficient array operations and mathematical functions.\n",
                "   - `Example`: Portfolio optimization, where arrays represent asset prices and NumPy functions help in calculating returns and risks.\n",
                "\n",
                "4. **Machine Learning:**\n",
                "   - NumPy is a foundational library in machine learning. It is used for handling input data, representing parameters in models, and performing mathematical operations.\n",
                "   - `Example`: In a neural network, weights and biases are often represented as NumPy arrays, and operations involve efficient array manipulations.\n",
                "\n",
                "NumPy's efficiency, flexibility, and rich functionality make it an indispensable tool in scientific computing, data analysis, and various research domains, contributing significantly to the Python ecosystem's strength in these areas."
            ],
            "metadata": {
                "azdata_cell_guid": "5e1ee05d-b735-4464-834b-710cdd346e3a"
            },
            "attachments": {}
        },
        {
            "cell_type": "markdown",
            "source": [
                "#### **`2. Installing and Importing of NumPy:`**\n",
                "\n",
                "**Installing NumPy using pip:**\n",
                "To install NumPy using pip, you can use the following command in your terminal or command prompt:\n",
                "\n",
                "```bash\n",
                "pip install numpy\n",
                "```\n",
                "\n",
                "This command fetches the latest version of NumPy from the Python Package Index (PyPI) and installs it on your system.\n",
                "\n",
                "**Common Installation Issues and Resolutions:**\n",
                "\n",
                "1. **Outdated pip:**\n",
                "   - **Issue:** An outdated pip version might cause installation problems.\n",
                "   - **Resolution:** Upgrade pip using the command: `pip install --upgrade pip`.\n",
                "\n",
                "2. **Dependencies:**\n",
                "   - **Issue:** NumPy relies on certain dependencies, and missing or outdated ones can lead to installation failures.\n",
                "   - **Resolution:** Ensure that you have the necessary build tools and development libraries installed. On Windows, you might need Microsoft Visual C++ Build Tools. On Linux, you can install them using package managers like `apt` or `yum`.\n",
                "\n",
                "3. **Virtual Environment:**\n",
                "   - **Issue:** Installing NumPy in a virtual environment may cause conflicts with system packages.\n",
                "   - **Resolution:** Activate the virtual environment before running the installation command.\n",
                "\n",
                "**Importing NumPy:**\n",
                "\n",
                "Once NumPy is installed, you can import it into your Python script or Jupyter notebook for use in your projects.\n",
                "\n",
                "**Importing in Python Script:**\n",
                "```python\n",
                "# Importing NumPy in a Python script\n",
                "import numpy as np\n",
                "\n",
                "# Now, you can use NumPy functions and arrays\n",
                "arr = np.array([1, 2, 3])\n",
                "print(arr)\n",
                "```\n",
                "\n",
                "**Importing in Jupyter Notebook:**\n",
                "```python\n",
                "# Importing NumPy in a Jupyter notebook\n",
                "import numpy as np\n",
                "\n",
                "# Now, you can use NumPy functions and arrays\n",
                "arr = np.array([1, 2, 3])\n",
                "print(arr)\n",
                "```\n",
                "\n",
                "In both cases, `np` is a commonly used alias for NumPy. This alias helps keep the code concise, and it is a widely adopted convention in the Python community.\n",
                "\n",
                "**Additional Tips:**\n",
                "\n",
                "- If you encounter issues, check the official [NumPy installation guide](https://numpy.org/install/) for platform-specific instructions and troubleshooting.\n",
                "- Consider using virtual environments to manage dependencies cleanly.\n",
                "- For Jupyter notebooks, ensure that the notebook kernel is associated with the correct virtual environment, if any.\n",
                "\n",
                ""
            ],
            "metadata": {
                "azdata_cell_guid": "17e8c3e0-182f-459b-9003-7490489c25bd"
            },
            "attachments": {}
        },
        {
            "cell_type": "markdown",
            "source": [
                "#### **`3. NumPy Arrays:`**\n",
                "\n",
                "**Creating NumPy Arrays:**\n",
                "\n",
                "NumPy arrays are the foundation of numerical computing in Python. They are homogeneous, multi-dimensional data structures that efficiently store and manipulate numerical data. Here are various methods to create NumPy arrays:"
            ],
            "metadata": {
                "azdata_cell_guid": "9e7d424d-c35d-49af-815c-326379340c11"
            },
            "attachments": {}
        },
        {
            "cell_type": "markdown",
            "source": [
                "| Method      | Syntax                           | Return Type | Input Parameters                                          | In-Place or Copy | One-liner Explanation                                     | Peculiarities/Considerations                        |\n",
                "|-------------|----------------------------------|-------------|------------------------------------------------------------|------------------|-----------------------------------------------------------|------------------------------------------------------|\n",
                "| `array()`   | `np.array(object, ...)`          | `ndarray`   | `object`: Input data, such as a list or tuple               | Copy             | Create an array from an existing Python list or tuple.    |                                                      |\n",
                "| `zeros()`   | `np.zeros(shape, ...) `          | `ndarray`   | `shape`: Tuple specifying array dimensions                  | In-Place         | Create an array filled with zeros.                         | Default data type is `float64`.                      |\n",
                "| `ones()`    | `np.ones(shape, ...)  `          | `ndarray`   | `shape`: Tuple specifying array dimensions                  | In-Place         | Create an array filled with ones.                          | Default data type is `float64`.                      |\n",
                "| `arange()`  | `np.arange([start, ]stop, [step, ])` | `ndarray` | `start`, `stop`, `step`: Parameters defining range         | Copy             | Generate an array with regularly spaced values.           | The `stop` value is exclusive.                      |\n",
                "| `linspace()`| `np.linspace(start, stop, num=50, ...) `| `ndarray`| `start`, `stop`: Range limits, `num`: Number of points     | Copy             | Generate an array with a specified number of evenly spaced values. | Commonly used for creating time intervals.         |\n",
                "| `empty()`   | `np.empty(shape, ...) `          | `ndarray`   | `shape`: Tuple specifying array dimensions                  | In-Place         | Create an uninitialized array with shape and dtype.       | Content of the array is not initialized; it may contain garbage values. |\n",
                "| `full()`    | `np.full(shape, fill_value, ...) ` | `ndarray`  | `shape`: Tuple specifying array dimensions, `fill_value`: Constant value | In-Place | Create an array of specified shape and fill it with a constant value. | Useful for initializing arrays with a specific value. |\n",
                "| `logspace()`| `np.logspace(start, stop, num=50, ...) `| `ndarray`| `start`, `stop`: Range limits, `num`: Number of points     | Copy             | Generate an array with a specified number of logarithmically spaced values. | Useful for creating logarithmically spaced scales.|\n",
                ""
            ],
            "metadata": {
                "azdata_cell_guid": "5f829e00-916e-49bd-9e1f-bdd83dffe061"
            },
            "attachments": {}
        },
        {
            "cell_type": "markdown",
            "source": [
                "1. **`np.array()`:**\n",
                "   - The most basic way to create a NumPy array is by converting an existing Python list or tuple."
            ],
            "metadata": {
                "azdata_cell_guid": "9c6e5ac2-677b-4c1a-9c9f-ddbfab528e74"
            },
            "attachments": {}
        },
        {
            "cell_type": "code",
            "source": [
                "import numpy as np\n",
                "\n",
                "arr_from_list = np.array([1, 2, 3, 4, 5])\n",
                "print(arr_from_list)\n",
                "print(type(arr_from_list))"
            ],
            "metadata": {
                "azdata_cell_guid": "63ca0328-9fc3-4dde-93cd-78ffc174f07c",
                "language": "python"
            },
            "outputs": [
                {
                    "output_type": "stream",
                    "name": "stdout",
                    "text": "[1 2 3 4 5]\n<class 'numpy.ndarray'>\n"
                }
            ],
            "execution_count": 4
        },
        {
            "cell_type": "markdown",
            "source": [
                "**`Note`** : Observe that unlike lists datatypes there are no commas in output incase of NumPy arrays"
            ],
            "metadata": {
                "language": "python",
                "azdata_cell_guid": "b0b28bda-022c-424a-bd9f-ea86b8be2dc7"
            },
            "attachments": {}
        },
        {
            "cell_type": "markdown",
            "source": [
                "2. **`np.zeros()`:**\n",
                "   - Creates an array filled with zeros of a specified shape."
            ],
            "metadata": {
                "language": "python",
                "azdata_cell_guid": "f8ed7e2e-5d65-461b-a073-7a035daa395c"
            },
            "attachments": {}
        },
        {
            "cell_type": "code",
            "source": [
                "import numpy as np\n",
                "\n",
                "zeros_array = np.zeros((2, 3))\n",
                "print(zeros_array)\n",
                "\n",
                "# Note : (2,3) is tuple\n",
                "# Why there is '.' after the number '0' ?"
            ],
            "metadata": {
                "language": "python",
                "azdata_cell_guid": "e226cc15-2935-44a4-84a5-c88ef132b2d9"
            },
            "outputs": [
                {
                    "output_type": "stream",
                    "name": "stdout",
                    "text": "[[0. 0. 0.]\n [0. 0. 0.]]\n"
                }
            ],
            "execution_count": 5
        },
        {
            "cell_type": "markdown",
            "source": [
                "3. **`np.ones()`:**\n",
                "   - Creates an array filled with ones of a specified shape."
            ],
            "metadata": {
                "language": "python",
                "azdata_cell_guid": "4091a25d-15a1-48fd-b2c7-3939e8eb4cb0"
            },
            "attachments": {}
        },
        {
            "cell_type": "code",
            "source": [
                "import numpy as np\n",
                "\n",
                "ones_array = np.ones((3, 2))\n",
                "print(ones_array)\n",
                "\n",
                "# Note : (3,2) is tuple\n",
                "# Why there is '.' after the number '1' ?"
            ],
            "metadata": {
                "language": "python",
                "azdata_cell_guid": "38a71f35-b32a-479a-b1fd-c387bdae0b39"
            },
            "outputs": [
                {
                    "output_type": "stream",
                    "name": "stdout",
                    "text": "[[1. 1.]\n [1. 1.]\n [1. 1.]]\n"
                }
            ],
            "execution_count": 6
        },
        {
            "cell_type": "markdown",
            "source": [
                "4. **`np.full()`:**\n",
                "   - Create an array of specified shape and fill it with a constant value"
            ],
            "metadata": {
                "language": "python",
                "azdata_cell_guid": "750d96b3-f02e-4cfd-adb7-b376b00284f3"
            },
            "attachments": {}
        },
        {
            "cell_type": "code",
            "source": [
                "import numpy as np\n",
                "\n",
                "full_array = np.full((3, 2),6)\n",
                "print(full_array)\n",
                "\n",
                "# Note : (3,2) is tuple\n",
                "# Why there is no '.' after the number '6' ?"
            ],
            "metadata": {
                "language": "python",
                "azdata_cell_guid": "a775d86d-bbfb-4cd0-8077-624c1b0e8f70"
            },
            "outputs": [
                {
                    "name": "stdout",
                    "text": "[[6 6]\n [6 6]\n [6 6]]\n",
                    "output_type": "stream"
                }
            ],
            "execution_count": 1
        },
        {
            "cell_type": "markdown",
            "source": [
                "5. **`np.arange()`:**\n",
                "   - Generates an array with regularly spaced values within a given range."
            ],
            "metadata": {
                "language": "python",
                "azdata_cell_guid": "01885eed-14db-4861-a4cd-57faa4e41365"
            },
            "attachments": {}
        },
        {
            "cell_type": "code",
            "source": [
                "import numpy as np\n",
                "\n",
                "range_array = np.arange(0, 10, 2)  # start, stop (exclusive), step\n",
                "print(range_array)"
            ],
            "metadata": {
                "language": "python",
                "azdata_cell_guid": "6688efd6-b6dd-48a5-b495-37c8647c2a3a"
            },
            "outputs": [
                {
                    "output_type": "stream",
                    "name": "stdout",
                    "text": "[0 2 4 6 8]\n"
                }
            ],
            "execution_count": 7
        },
        {
            "cell_type": "markdown",
            "source": [
                "#### Explanation:\n",
                "\n",
                "**Is stop inclusive or exclusive in case of arange()?**\n",
                "In the case of np.arange(), the stop value is exclusive, meaning the generated array stops just before reaching the specified stop value. In the example, the array includes values up to, but not including, 10."
            ],
            "metadata": {
                "language": "python",
                "azdata_cell_guid": "0ff45be7-0931-4f68-9563-d4383f369e68"
            },
            "attachments": {}
        },
        {
            "cell_type": "markdown",
            "source": [
                "6. **`np.linspace()`:**\n",
                "   - Generates an array with a specified number of evenly spaced values within a given range."
            ],
            "metadata": {
                "language": "python",
                "azdata_cell_guid": "6918f7cb-1114-4b5f-8da3-943949b9b889"
            },
            "attachments": {}
        },
        {
            "cell_type": "code",
            "source": [
                "import numpy as np\n",
                "\n",
                "linspace_array = np.linspace(0, 1, 5)  # start, stop, number of points\n",
                "print(linspace_array)\n",
                "\n",
                "# Does the number 1(stop) get included in the output"
            ],
            "metadata": {
                "language": "python",
                "azdata_cell_guid": "dff551e7-d68f-41dc-b95d-0cfc8a1f4fd2"
            },
            "outputs": [
                {
                    "output_type": "stream",
                    "name": "stdout",
                    "text": "[0.   0.25 0.5  0.75 1.  ]\n"
                }
            ],
            "execution_count": 8
        },
        {
            "cell_type": "markdown",
            "source": [
                "#### Explanation :\n",
                "\n",
                "- **`np.linspace(0, 1, 5)`:**\n",
                "   - Generates an array of 5 evenly spaced values between 0 and 1 (inclusive).\n",
                "   - The `linspace()` function takes three arguments: `start`, `stop`, and `num` (number of points).\n",
                "   - In this case, it generates an array of 5 points between 0 and 1 (both inclusive).\n",
                "\n",
                "- **Does the number 1 (stop) get included in the output?**\n",
                "  - Yes, the number 1 (the `stop` value) is included in the output because the `linspace()` function generates values up to and including the specified `stop` value. In this case, the array includes 1 as one of its values.\n",
                ""
            ],
            "metadata": {
                "language": "python",
                "azdata_cell_guid": "a5a67f6e-9597-4664-8f7d-a70e2ac9c79d"
            },
            "attachments": {}
        },
        {
            "cell_type": "markdown",
            "source": [
                "7. **`np.logspace()`:**\n",
                "- Generate an array with a specified number of logarithmically spaced values."
            ],
            "metadata": {
                "language": "python",
                "azdata_cell_guid": "a3198681-0f00-49e2-ba30-6ac8a5c3ea47"
            },
            "attachments": {}
        },
        {
            "cell_type": "code",
            "source": [
                "import numpy as np\n",
                "\n",
                "logspace_array = np.logspace(0, 1, 5)  # start, stop, number of points\n",
                "print(logspace_array)"
            ],
            "metadata": {
                "language": "python",
                "azdata_cell_guid": "9109af99-b55a-4b3d-aaf8-5a3eaa048539"
            },
            "outputs": [
                {
                    "name": "stdout",
                    "text": "[ 1.          1.77827941  3.16227766  5.62341325 10.        ]\n",
                    "output_type": "stream"
                }
            ],
            "execution_count": 2
        },
        {
            "cell_type": "markdown",
            "source": [
                "#### Explanation:\n",
                "\n",
                "- `np.logspace(0, 1, 5)`: This function generates an array of values on a logarithmic scale. The parameters are as follows:\n",
                "  - `0`: Start exponent of the sequence. In this case, it starts at 10^0, which is 1.\n",
                "  - `1`: Stop exponent of the sequence. It stops at 10^1, which is 10.\n",
                "  - `5`: Number of points to generate. In this case, it will generate 5 points.\n",
                ""
            ],
            "metadata": {
                "language": "python",
                "azdata_cell_guid": "00f3a2e2-70e6-4fcb-b6c9-535e5152d736"
            },
            "attachments": {}
        },
        {
            "cell_type": "markdown",
            "source": [
                "8. **`np.empty()`:**\n",
                "- Create an uninitialized array with shape and dtype.\n",
                "- Content of the array is not initialized; **`it may contain garbage values.`**"
            ],
            "metadata": {
                "language": "python",
                "azdata_cell_guid": "d7ecd1aa-fdcd-4499-a476-5b3566b2cb52"
            },
            "attachments": {}
        },
        {
            "cell_type": "code",
            "source": [
                "import numpy as np\n",
                "np.empty((2,3))"
            ],
            "metadata": {
                "language": "python",
                "azdata_cell_guid": "44f8fbac-d859-4f8e-8ba5-fecd75750bbe"
            },
            "outputs": [
                {
                    "data": {
                        "text/plain": "array([[0., 0., 0.],\n       [0., 0., 0.]])"
                    },
                    "metadata": {},
                    "execution_count": 6,
                    "output_type": "execute_result"
                }
            ],
            "execution_count": 6
        },
        {
            "cell_type": "markdown",
            "source": [
                "#### More about empty()\n",
                "In NumPy, the `empty()` function is used to create an array with a specified shape and data type without initializing the elements to any particular values. The content of the array is not set, and it may contain arbitrary or \"garbage\" values.\n",
                "\n",
                "The syntax for the `empty()` function is as follows:\n",
                "\n",
                "```python\n",
                "numpy.empty(shape, dtype=float, order='C')\n",
                "```\n",
                "\n",
                "- `shape`: Tuple specifying the dimensions of the array.\n",
                "- `dtype`: Data type of the array. Optional, and the default is `float64`.\n",
                "- `order`: Specifies whether to store the array data in row-major (`'C'`, default) or column-major (`'F'`) order.\n",
                "\n",
                "Here's an example of using `empty()`:\n",
                "\n",
                "```python\n",
                "import numpy as np\n",
                "\n",
                "empty_array = np.empty((2, 3))\n",
                "print(empty_array)\n",
                "```\n",
                "\n",
                "In this example, `empty((2, 3))` creates a 2x3 array without initializing the elements. The actual values in the array will depend on the current state of the memory and are not meaningful. It's important to note that if you need an array with initialized values, you should consider using `zeros()`, `ones()`, or another appropriate function depending on your requirements. The `empty()` function is typically used when you need to allocate memory for an array but do not necessarily care about the initial values."
            ],
            "metadata": {
                "language": "python",
                "azdata_cell_guid": "6b24b81e-6940-439c-ad38-8c66d4dc7750"
            },
            "attachments": {}
        },
        {
            "cell_type": "markdown",
            "source": [
                "**Real-world Examples:**\n",
                "\n",
                "1. **Temperature Data:**\n",
                "   - **Scenario:** You have daily temperature readings for a week.\n",
                "   - **Application:** Create a NumPy array to store and manipulate temperature data."
            ],
            "metadata": {
                "language": "python",
                "azdata_cell_guid": "acf86ef6-9ee6-4804-9755-3b2030cf13a1"
            },
            "attachments": {}
        },
        {
            "cell_type": "code",
            "source": [
                "temperature_readings = np.array([22.5, 24.0, 23.8, 25.3, 21.7, 22.1, 23.5])\n",
                "print(temperature_readings)"
            ],
            "metadata": {
                "language": "python",
                "azdata_cell_guid": "5bd4c114-b1ec-498f-9d59-0a97ecbdc3e8"
            },
            "outputs": [
                {
                    "output_type": "stream",
                    "name": "stdout",
                    "text": "[22.5 24.  23.8 25.3 21.7 22.1 23.5]\n"
                }
            ],
            "execution_count": 9
        },
        {
            "cell_type": "markdown",
            "source": [
                "2. **Financial Modeling:**\n",
                "   - **Scenario:** You are modeling monthly sales figures for a company.\n",
                "   - **Application:** Use `np.zeros()` to initialize an array for monthly sales and update it as new data becomes available."
            ],
            "metadata": {
                "language": "python",
                "azdata_cell_guid": "224336b8-746b-45bd-ad0e-6d156e672168"
            },
            "attachments": {}
        },
        {
            "cell_type": "code",
            "source": [
                "monthly_sales = np.zeros(12)\n",
                "print(monthly_sales)\n",
                "\n",
                "# Note the output is 1D because no dimensions mentioned in zeros()"
            ],
            "metadata": {
                "language": "python",
                "azdata_cell_guid": "4c3115bb-11e9-4b55-bfce-2da0469f16f5"
            },
            "outputs": [
                {
                    "output_type": "stream",
                    "name": "stdout",
                    "text": "[0. 0. 0. 0. 0. 0. 0. 0. 0. 0. 0. 0.]\n"
                }
            ],
            "execution_count": 10
        },
        {
            "cell_type": "markdown",
            "source": [
                "3. **Time Series Analysis:**\n",
                "   - **Scenario:** You need a time series of timestamps at regular intervals.\n",
                "   - **Application:** Generate a time series using `np.arange()` or `np.linspace()`."
            ],
            "metadata": {
                "language": "python",
                "azdata_cell_guid": "d5ead4bb-5015-4712-893d-48abfa8fac4b"
            },
            "attachments": {}
        },
        {
            "cell_type": "code",
            "source": [
                "from datetime import datetime, timedelta\n",
                "\n",
                "start_date = datetime(2022, 1, 1)\n",
                "time_series = np.array([start_date + timedelta(days=i) for i in range(10)])\n",
                "print(time_series)\n",
                ""
            ],
            "metadata": {
                "language": "python",
                "azdata_cell_guid": "610d0a25-734a-4f0a-a665-a02774c3c052"
            },
            "outputs": [
                {
                    "output_type": "stream",
                    "name": "stdout",
                    "text": "[datetime.datetime(2022, 1, 1, 0, 0) datetime.datetime(2022, 1, 2, 0, 0)\n datetime.datetime(2022, 1, 3, 0, 0) datetime.datetime(2022, 1, 4, 0, 0)\n datetime.datetime(2022, 1, 5, 0, 0) datetime.datetime(2022, 1, 6, 0, 0)\n datetime.datetime(2022, 1, 7, 0, 0) datetime.datetime(2022, 1, 8, 0, 0)\n datetime.datetime(2022, 1, 9, 0, 0) datetime.datetime(2022, 1, 10, 0, 0)]\n"
                }
            ],
            "execution_count": 11
        },
        {
            "cell_type": "markdown",
            "source": [
                "4. **Physical Simulation:**\n",
                "   - **Scenario:** Simulating the trajectory of a projectile over time.\n",
                "   - **Application:** Use `np.linspace()` to generate time intervals and create an array representing the projectile's position at each time step."
            ],
            "metadata": {
                "language": "python",
                "azdata_cell_guid": "1066373e-2bbb-46fe-869f-d17d2ff4bd15"
            },
            "attachments": {}
        },
        {
            "cell_type": "code",
            "source": [
                "time_intervals = np.linspace(0, 5, 100)  # 100 time points from 0 to 5 seconds\n",
                "print(time_intervals)"
            ],
            "metadata": {
                "language": "python",
                "azdata_cell_guid": "05612605-2aea-448d-8176-f8be1dfca804"
            },
            "outputs": [
                {
                    "output_type": "stream",
                    "name": "stdout",
                    "text": "[0.         0.05050505 0.1010101  0.15151515 0.2020202  0.25252525\n 0.3030303  0.35353535 0.4040404  0.45454545 0.50505051 0.55555556\n 0.60606061 0.65656566 0.70707071 0.75757576 0.80808081 0.85858586\n 0.90909091 0.95959596 1.01010101 1.06060606 1.11111111 1.16161616\n 1.21212121 1.26262626 1.31313131 1.36363636 1.41414141 1.46464646\n 1.51515152 1.56565657 1.61616162 1.66666667 1.71717172 1.76767677\n 1.81818182 1.86868687 1.91919192 1.96969697 2.02020202 2.07070707\n 2.12121212 2.17171717 2.22222222 2.27272727 2.32323232 2.37373737\n 2.42424242 2.47474747 2.52525253 2.57575758 2.62626263 2.67676768\n 2.72727273 2.77777778 2.82828283 2.87878788 2.92929293 2.97979798\n 3.03030303 3.08080808 3.13131313 3.18181818 3.23232323 3.28282828\n 3.33333333 3.38383838 3.43434343 3.48484848 3.53535354 3.58585859\n 3.63636364 3.68686869 3.73737374 3.78787879 3.83838384 3.88888889\n 3.93939394 3.98989899 4.04040404 4.09090909 4.14141414 4.19191919\n 4.24242424 4.29292929 4.34343434 4.39393939 4.44444444 4.49494949\n 4.54545455 4.5959596  4.64646465 4.6969697  4.74747475 4.7979798\n 4.84848485 4.8989899  4.94949495 5.        ]\n"
                }
            ],
            "execution_count": 12
        },
        {
            "cell_type": "markdown",
            "source": [
                "#### **`4. Array Attributes:`**\n",
                "\n",
                "**Exploring NumPy Array Attributes:**\n",
                "\n",
                "NumPy arrays come with several attributes that provide crucial information about their structure and content. Understanding these attributes is essential for effective array manipulation and analysis. Here are some key attributes:\n",
                "\n",
                "**Note:**\n",
                "- `shape`, `ndim` (number of dimensions), `size` and `dtype` are attributes of NumPy arrays, not functions or constants. Attributes are properties associated with an object, and in this context, they provide information about the structure and characteristics of a NumPy array.\n",
                "\n",
                "Here's a brief explanation of each:"
            ],
            "metadata": {
                "azdata_cell_guid": "0cdd799f-e0ca-4fa7-a0d4-94fc39b87943"
            },
            "attachments": {}
        },
        {
            "cell_type": "markdown",
            "source": [
                "1. **Shape (`shape`):**\n",
                "   - Represents the dimensions of the array, indicating the size along each axis.\n",
                "   - Example:\n",
                "     ```python\n",
                "     import numpy as np\n",
                "\n",
                "     arr = np.array([[1, 2, 3], [4, 5, 6]])\n",
                "     print(\"Array Shape:\", arr.shape)  # Output: (2, 3)\n",
                "     ```\n",
                "\n",
                "2. **Size (`size`):**\n",
                "   - Denotes the total number of elements in the array.\n",
                "   - Example:\n",
                "     ```python\n",
                "     import numpy as np\n",
                "\n",
                "     arr = np.array([[1, 2, 3], [4, 5, 6]])\n",
                "     print(\"Array Size:\", arr.size)  # Output: 6\n",
                "     ```\n",
                "\n",
                "3. **Dimensions (`ndim`):**\n",
                "   - Indicates the number of axes or dimensions of the array.\n",
                "   - Example:\n",
                "     ```python\n",
                "     import numpy as np\n",
                "\n",
                "     arr = np.array([[1, 2, 3], [4, 5, 6]])\n",
                "     print(\"Number of Dimensions:\", arr.ndim)  # Output: 2\n",
                "     ```\n",
                "\n",
                "4. **Data Type (`dtype`):**\n",
                "   - Specifies the type of elements in the array, such as integers, floats, or others.\n",
                "   - Example:\n",
                "     ```python\n",
                "     import numpy as np\n",
                "\n",
                "     arr = np.array([1, 2, 3], dtype=float)\n",
                "     print(\"Array Data Type:\", arr.dtype)  # Output: float64\n",
                "     ```\n",
                ""
            ],
            "metadata": {
                "azdata_cell_guid": "28411546-88c1-42b0-96ec-33b1bf36d267"
            },
            "attachments": {}
        },
        {
            "cell_type": "markdown",
            "source": [
                "**Importance of Understanding Attributes:**"
            ],
            "metadata": {
                "azdata_cell_guid": "cadea8f0-640c-45f7-9d45-8dbc21cfd7cf"
            },
            "attachments": {}
        },
        {
            "cell_type": "markdown",
            "source": [
                "1. **Shape and Broadcasting:**\n",
                "   - **Scenario:** You have two arrays of different shapes, and you want to perform element-wise operations.\n",
                "   - **Application:** Understanding the shapes of arrays helps in deciding whether broadcasting (element-wise operations on arrays of different shapes) is possible."
            ],
            "metadata": {
                "azdata_cell_guid": "3135d262-d7f8-4633-849e-46ad6386699d"
            },
            "attachments": {}
        },
        {
            "cell_type": "code",
            "source": [
                "import numpy as np\n",
                "\n",
                "arr1 = np.array([[1, 2, 3], [4, 5, 6]]) # 2D array\n",
                "arr2 = np.array([10, 20, 30]) # Note : here arr2 shape is (3,) its 1D array with 3 columns\n",
                "result = arr1 + arr2  # Broadcasting works due to matching shapes\n",
                "print(arr1.shape)\n",
                "print(arr2.shape)\n",
                "\n",
                "print(result)"
            ],
            "metadata": {
                "azdata_cell_guid": "febf29a8-1210-4f7b-af74-1510fc2479f2",
                "language": "python"
            },
            "outputs": [
                {
                    "output_type": "stream",
                    "name": "stdout",
                    "text": "(2, 3)\n(3,)\n[[11 22 33]\n [14 25 36]]\n"
                }
            ],
            "execution_count": 1
        },
        {
            "cell_type": "markdown",
            "source": [
                "2. **Memory Usage with Size:**\n",
                "   - **Scenario:** You are working with large datasets and need to manage memory efficiently.\n",
                "   - **Application:** Knowing the size of an array allows you to estimate its memory requirements and optimize your program accordingly."
            ],
            "metadata": {
                "language": "python",
                "azdata_cell_guid": "4d101d8e-5122-43b4-8614-190cc8ee20cf"
            },
            "attachments": {}
        },
        {
            "cell_type": "code",
            "source": [
                "import numpy as np\n",
                "\n",
                "big_array = np.random.random((1000, 1000))\n",
                "print(\"Memory Usage (MB):\", big_array.nbytes / (1024 * 1024))"
            ],
            "metadata": {
                "language": "python",
                "azdata_cell_guid": "1d743ee4-f270-4d08-aceb-579bcc75627f"
            },
            "outputs": [
                {
                    "output_type": "stream",
                    "name": "stdout",
                    "text": "Memory Usage (MB): 7.62939453125\n"
                }
            ],
            "execution_count": 15
        },
        {
            "cell_type": "markdown",
            "source": [
                "3. **Dimensionality and Data Analysis:**\n",
                "   - **Scenario:** You are analyzing a dataset with multiple variables.\n",
                "   - **Application:** The number of dimensions (`ndim`) indicates the number of variables, aiding in data exploration and analysis."
            ],
            "metadata": {
                "language": "python",
                "azdata_cell_guid": "f97959cc-f434-4078-b6f3-c6205331adfd"
            },
            "attachments": {}
        },
        {
            "cell_type": "code",
            "source": [
                "import numpy as np\n",
                "\n",
                "data = np.array([[1, 2, 3], [4, 5, 6], [7, 8, 9]])\n",
                "print(\"Number of Variables:\", data.ndim)  # Output: 2\n",
                "print(data.shape)"
            ],
            "metadata": {
                "language": "python",
                "azdata_cell_guid": "42091050-e126-4e54-897f-d5e49b1a29bf"
            },
            "outputs": [
                {
                    "output_type": "stream",
                    "name": "stdout",
                    "text": "Number of Variables: 2\n(3, 3)\n"
                }
            ],
            "execution_count": 2
        },
        {
            "cell_type": "markdown",
            "source": [
                "4. **Data Type and Precision:**\n",
                "   - **Scenario:** You are working with financial data and need precise calculations.\n",
                "   - **Application:** Specifying the data type helps control the precision of calculations, which is crucial in financial and scientific applications."
            ],
            "metadata": {
                "language": "python",
                "azdata_cell_guid": "4bdcb7a6-89ff-4f3d-989d-e3ee1ec65af9"
            },
            "attachments": {}
        },
        {
            "cell_type": "code",
            "source": [
                "import numpy as np\n",
                "\n",
                "financial_data = np.array([100.25, 150.67, 200.32], dtype=np.float32)\n",
                "print(financial_data)"
            ],
            "metadata": {
                "language": "python",
                "azdata_cell_guid": "88cc0202-f7a9-4188-a6b7-d1d01cfc34ec"
            },
            "outputs": [
                {
                    "output_type": "stream",
                    "name": "stdout",
                    "text": "[100.25 150.67 200.32]\n"
                }
            ],
            "execution_count": 17
        },
        {
            "cell_type": "markdown",
            "source": [
                "Understanding these attributes enhances your ability to manipulate and analyze data efficiently, leading to more effective use of NumPy in practical scenarios."
            ],
            "metadata": {
                "azdata_cell_guid": "5648744a-1153-4e2e-b564-f8668df5a043"
            },
            "attachments": {}
        },
        {
            "cell_type": "markdown",
            "source": [
                "#### **`5. Indexing and Slicing in NumPy:`**\n",
                ""
            ],
            "metadata": {
                "azdata_cell_guid": "c616f38a-a6ed-45b1-b42e-f1d8037b2c52"
            },
            "attachments": {}
        },
        {
            "cell_type": "markdown",
            "source": [
                "**Accessing Elements:**\n",
                "\n",
                "1. **Indexing:**\n",
                "   - Individual elements in a NumPy array can be accessed using square brackets and indices.\n",
                "   - Example:\n",
                "     ```python\n",
                "     import numpy as np\n",
                "\n",
                "     arr = np.array([10, 20, 30, 40, 50])\n",
                "     element = arr[2]  # Access the element at index 2\n",
                "     ```\n",
                "\n",
                "2. **Slicing:**\n",
                "   - Slicing allows you to extract a portion of an array by specifying a range of indices.\n",
                "   - Example:\n",
                "     ```python\n",
                "     import numpy as np\n",
                "\n",
                "     arr = np.array([10, 20, 30, 40, 50])\n",
                "     subarray = arr[1:4]  # Extract elements from index 1 to 3\n",
                "     ```"
            ],
            "metadata": {
                "azdata_cell_guid": "f43b6ce0-d66b-4d05-a9d3-c3d40b731ab6"
            },
            "attachments": {}
        },
        {
            "cell_type": "markdown",
            "source": [
                "**Accessing Subarrays:**\n",
                "\n",
                "1. **Indexing for 2D Arrays:**\n",
                "   - For 2D arrays, use indexing with multiple indices or a tuple of indices to access elements.\n",
                "   - Example:\n",
                "\n",
                ""
            ],
            "metadata": {
                "azdata_cell_guid": "1ae74c69-fb1f-4850-9711-9a179b5a5f05"
            },
            "attachments": {}
        },
        {
            "cell_type": "code",
            "source": [
                "import numpy as np\n",
                "\n",
                "arr_2d = np.array([[1, 2, 3], [4, 5, 6], [7, 8, 9]])\n",
                "element = arr_2d[1, 2]  # Access the element at row 1, column 2\n",
                "print(element)\n",
                "\n",
                "# Note : rows and columns start with 0"
            ],
            "metadata": {
                "azdata_cell_guid": "83125d6f-7059-44a3-826f-540a7aae3f6a",
                "language": "python"
            },
            "outputs": [
                {
                    "output_type": "stream",
                    "name": "stdout",
                    "text": "6\n"
                }
            ],
            "execution_count": 18
        },
        {
            "cell_type": "markdown",
            "source": [
                "\n",
                "2. **Slicing for 2D Arrays:**\n",
                "   - Slicing works along each axis, allowing the extraction of subarrays.\n",
                "   - Example:\n",
                " "
            ],
            "metadata": {
                "language": "python",
                "azdata_cell_guid": "5344c53b-5c80-4921-a0ee-ae96df0d0ce4"
            },
            "attachments": {}
        },
        {
            "cell_type": "code",
            "source": [
                "import numpy as np\n",
                "\n",
                "arr_2d = np.array([[1, 2, 3], [4, 5, 6], [7, 8, 9]])\n",
                "subarray = arr_2d[0:2, 1:3]  # Extract a subarray from rows 0 to 1 and columns 1 to 2\n",
                "print(subarray)"
            ],
            "metadata": {
                "language": "python",
                "azdata_cell_guid": "4c0dbf10-cf5c-45f9-b191-68979aeb7c27"
            },
            "outputs": [
                {
                    "output_type": "stream",
                    "name": "stdout",
                    "text": "[[2 3]\n [5 6]]\n"
                }
            ],
            "execution_count": 19
        },
        {
            "cell_type": "markdown",
            "source": [
                "**Explanation:**\n",
                "\n",
                "2. **Creating a 2D NumPy Array:**\n",
                "   - `arr_2d = np.array([[1, 2, 3], [4, 5, 6], [7, 8, 9]])`: Creates a 2D NumPy array (`arr_2d`) with three rows and three columns.\n",
                "\n",
                "3. **Extracting a Subarray:**\n",
                "   - `subarray = arr_2d[0:2, 1:3]`: Uses slicing to extract a subarray from `arr_2d`. \n",
                "     - `0:2` specifies the rows from index 0 (inclusive) to 2 (exclusive), which includes rows 0 and 1.\n",
                "     - `1:3` specifies the columns from index 1 (inclusive) to 3 (exclusive), which includes columns 1 and 2.\n",
                "   - The resulting subarray is a 2x2 matrix.\n",
                "\n",
                "4. **Printing the Subarray:**\n",
                "   - `print(subarray)`: Outputs the extracted subarray.\n",
                "  \n",
                "**Explanation:**\n",
                "\n",
                "The original array `arr_2d` looks like this:\n",
                "```\n",
                "[[1, 2, 3],\n",
                " [4, 5, 6],\n",
                " [7, 8, 9]]\n",
                "```\n",
                "\n",
                "The slicing operation `arr_2d[0:2, 1:3]` extracts the subarray consisting of rows 0 and 1, and columns 1 and 2. The resulting `subarray` is:\n",
                "```\n",
                "[[2, 3],\n",
                " [5, 6]]\n",
                "```\n",
                "\n",
                "So, when you run the code and print `subarray`, the output will be:\n",
                "```\n",
                "[[2, 3],\n",
                " [5, 6]]\n",
                "```\n",
                "\n",
                "This demonstrates how NumPy's slicing capabilities allow you to efficiently extract specific portions of a multi-dimensional array, which is particularly useful in various data manipulation and analysis tasks."
            ],
            "metadata": {
                "language": "python",
                "azdata_cell_guid": "e0a346bb-d682-4b15-80d5-0040364f1813"
            },
            "attachments": {}
        },
        {
            "cell_type": "markdown",
            "source": [
                "**Real-world Examples:**"
            ],
            "metadata": {
                "azdata_cell_guid": "f40fd1ca-95c5-4a9d-a6d3-44081c09b5b9"
            },
            "attachments": {}
        },
        {
            "cell_type": "markdown",
            "source": [
                "1. **Time Series Analysis:**\n",
                "   - **Scenario:** Analyzing a specific time window in a time series dataset.\n",
                "   - **Application:** Use slicing to extract data for a specific time period, aiding in trend analysis."
            ],
            "metadata": {
                "language": "python",
                "azdata_cell_guid": "9a385a9b-9ba2-403f-a67f-54212d1ea179"
            },
            "attachments": {}
        },
        {
            "cell_type": "code",
            "source": [
                "import numpy as np\n",
                "\n",
                "time_series = np.array([10, 15, 20, 25, 30, 35, 40])\n",
                "specific_period = time_series[2:5]  # Extract data for time steps 2 to 4\n",
                "print(specific_period)"
            ],
            "metadata": {
                "language": "python",
                "azdata_cell_guid": "b27458dc-6e27-4116-9b76-3b3add33f86d"
            },
            "outputs": [
                {
                    "output_type": "stream",
                    "name": "stdout",
                    "text": "[20 25 30]\n"
                }
            ],
            "execution_count": 22
        },
        {
            "cell_type": "markdown",
            "source": [
                "2. **Financial Data Analysis:**\n",
                "   - **Scenario:** Analyzing stock prices during a specific period.\n",
                "   - **Application:** Use slicing to extract data for a specific date range, facilitating trend analysis."
            ],
            "metadata": {
                "language": "python",
                "azdata_cell_guid": "13e1c895-58ce-463a-889d-ce6702bf28f7"
            },
            "attachments": {}
        },
        {
            "cell_type": "code",
            "source": [
                "import numpy as np\n",
                "\n",
                "stock_prices = np.array([150.5, 155.2, 160.8, 156.3, 162.0])\n",
                "specific_period = stock_prices[1:4]  # Extract prices for a specific date range\n",
                "print(specific_period)"
            ],
            "metadata": {
                "language": "python",
                "azdata_cell_guid": "19fb778d-5c94-4b6e-9ccb-a447c423b137"
            },
            "outputs": [
                {
                    "output_type": "stream",
                    "name": "stdout",
                    "text": "[155.2 160.8 156.3]\n"
                }
            ],
            "execution_count": 23
        },
        {
            "cell_type": "markdown",
            "source": [
                "**Efficient Analysis of Large Datasets:**\n",
                "\n",
                "- **Memory Efficiency:**\n",
                "  - Slicing allows working with a subset of data without loading the entire dataset into memory, making it memory-efficient.\n",
                "  \n",
                "- **Parallel Processing:**\n",
                "  - NumPy's ability to efficiently slice arrays enables parallel processing, essential for analyzing large datasets in parallel.\n",
                "\n",
                "- **Speed Optimization:**\n",
                "  - By slicing and accessing only the necessary portions of data, computations become more efficient, leading to faster analysis.\n",
                "\n",
                "In summary, indexing and slicing in NumPy are powerful tools for extracting specific elements or subarrays, and they play a crucial role in various real-world scenarios, particularly in handling and analyzing large datasets efficiently."
            ],
            "metadata": {
                "language": "python",
                "azdata_cell_guid": "ced704b7-9641-408b-9292-95c5980c0d9e"
            },
            "attachments": {}
        },
        {
            "cell_type": "markdown",
            "source": [
                "#### **`Understanding Matrices`**\n",
                "\n",
                "**Matrix Addition** : https://www.youtube.com/watch?v=ZCmVpGv6_1g\n",
                "\n",
                "**Matrix Multiplication**: \n",
                "\n",
                "https://www.youtube.com/watch?v=o6tGHLkZvVM\n",
                "\n",
                "https://youtu.be/RE-nDY2aWso\n",
                "\n",
                "Multiplication in Numpy is of two types\n",
                "- Element wise mul\n",
                "- dot product mul\n",
                ""
            ],
            "metadata": {
                "azdata_cell_guid": "46a9a766-a1d9-46bb-9e0d-af80f02da4b6"
            },
            "attachments": {}
        },
        {
            "cell_type": "code",
            "source": [
                "import numpy as np\n",
                "\n",
                "a = np.array([[1,2], [3,4]])\n",
                "b = np.array ([[3,9], [5,8]])"
            ],
            "metadata": {
                "azdata_cell_guid": "74605984-1517-4424-aa92-ccaf126aa034",
                "language": "python"
            },
            "outputs": [],
            "execution_count": 3
        },
        {
            "cell_type": "code",
            "source": [
                "a*b # by default its doing element wise mul"
            ],
            "metadata": {
                "language": "python",
                "azdata_cell_guid": "8d325e3b-ae1f-4811-99a9-7098a926fbd4"
            },
            "outputs": [
                {
                    "output_type": "execute_result",
                    "execution_count": 5,
                    "data": {
                        "text/plain": "array([[ 3, 18],\n       [15, 32]])"
                    },
                    "metadata": {}
                }
            ],
            "execution_count": 5
        },
        {
            "cell_type": "markdown",
            "source": [
                "#### Dot Multiplication"
            ],
            "metadata": {
                "language": "python",
                "azdata_cell_guid": "c6a2c8a4-4860-4be1-a97d-2ad86406a235"
            },
            "attachments": {}
        },
        {
            "cell_type": "code",
            "source": [
                "np.dot(a,b)"
            ],
            "metadata": {
                "language": "python",
                "azdata_cell_guid": "703dbaf8-3259-4c9a-a4d7-c1780b5097bf"
            },
            "outputs": [
                {
                    "output_type": "execute_result",
                    "execution_count": 6,
                    "data": {
                        "text/plain": "array([[13, 25],\n       [29, 59]])"
                    },
                    "metadata": {}
                }
            ],
            "execution_count": 6
        },
        {
            "cell_type": "markdown",
            "source": [
                "#### Note:\n",
                "- Matrices A(mxn), B(nxp) then 'n' should be matching in case of Dot products. The resultant matrix will have order of mxn\n",
                "- Dot product of A.B is not equal to B.A i.e they dont have associative product.\n",
                "- "
            ],
            "metadata": {
                "language": "python",
                "azdata_cell_guid": "dc7a773c-ee79-444c-a449-ef5a2a0adbf2"
            },
            "attachments": {}
        },
        {
            "cell_type": "markdown",
            "source": [
                "#### **`Understanding Broadcasting`**\n",
                "\n",
                "**YouTube Videos** :\n",
                "\n",
                "[https://youtu.be/0u9OzBSRZec](https://youtu.be/0u9OzBSRZec)\n",
                "\n",
                "[https://youtu.be/oG1t3qlzq14](https://youtu.be/oG1t3qlzq14)"
            ],
            "metadata": {
                "language": "python",
                "azdata_cell_guid": "1d5e016f-54d4-4312-a727-1510741dec78"
            },
            "attachments": {}
        },
        {
            "cell_type": "markdown",
            "source": [
                "#### **`Broadcasting Rules in NumPy`:**\n",
                "\n",
                "NumPy's broadcasting rules determine how arrays with different shapes are combined in element-wise operations. Broadcasting allows NumPy to perform operations on arrays of different shapes without the need for explicit looping. The key broadcasting rules are as follows:\n",
                "\n",
                "1. **Dimensions Compatibility:**\n",
                "   - Two dimensions are compatible when they are equal or one of them is 1.\n",
                "   - For example, a 3x5 array can be broadcasted with a 1x5 array, as their dimensions are compatible.\n",
                "\n",
                "2. **Size Compatibility:**\n",
                "   - Arrays with smaller dimensions are padded with ones on their left side until their shapes match.\n",
                "   - For example, a 3x1 array can be broadcasted with a 3x5 array by duplicating its column along the new axis.\n",
                "\n",
                "3. **Arrays with the Same Number of Dimensions:**\n",
                "   - If two arrays have the same number of dimensions, their shapes must be compatible along each dimension.\n",
                "   - For example, a 3x5 array can be broadcasted with another 3x5 array.\n",
                "\n",
                "4. **Broadcasting Along Multiple Dimensions:**\n",
                "   - Broadcasting extends to multiple dimensions simultaneously, but it must follow the rules for each dimension.\n",
                "   - For example, a 3x1x5 array can be broadcasted with a 1x4x1 array.\n",
                "\n",
                "5. **Size of 1 Dimensions:**\n",
                "   - Any dimension with size 1 is considered to be effectively stretched or repeated.\n",
                "   - For example, a 3x1 array can be broadcasted with a 1x5 array.\n",
                "\n",
                "6. **No Broadcasting:**\n",
                "   - If the sizes along a particular dimension do not match and none of them is 1, NumPy raises a \"ValueError\" indicating an incompatible shape for broadcasting.\n",
                "\n",
                "### Examples:\n",
                "\n",
                "Here are a few examples illustrating these rules:\n",
                "\n",
                "```python\n",
                "import numpy as np\n",
                "\n",
                "# Example 1: Broadcasting with a scalar\n",
                "arr1 = np.array([[1, 2, 3], [4, 5, 6]])\n",
                "scalar_value = 10\n",
                "result = arr1 + scalar_value\n",
                "\n",
                "# Example 2: Broadcasting with a 1D array\n",
                "arr1 = np.array([[1, 2, 3], [4, 5, 6]])\n",
                "arr2 = np.array([10, 20, 30])\n",
                "result = arr1 + arr2\n",
                "\n",
                "# Example 3: Broadcasting with a 2D array\n",
                "arr1 = np.array([[1, 2, 3], [4, 5, 6]])\n",
                "arr2 = np.array([[10], [20]])\n",
                "result = arr1 + arr2\n",
                "```\n",
                "\n",
                "These examples showcase how NumPy follows the broadcasting rules to perform element-wise operations efficiently across arrays with different shapes. Broadcasting is a powerful feature that simplifies operations and enhances the flexibility of array manipulation in NumPy."
            ],
            "metadata": {
                "azdata_cell_guid": "b04eacf3-4772-40da-b30c-eea5f2257660"
            },
            "attachments": {}
        },
        {
            "cell_type": "markdown",
            "source": [
                "\n",
                "#### Example 1: Broadcasting with a Scalar\n",
                "\n",
                "```\n",
                "import numpy as np\n",
                "\n",
                "arr1 = np.array([[1, 2, 3], [4, 5, 6]])\n",
                "scalar_value = 10\n",
                "result = arr1 + scalar_value\n",
                "print(\"Original Array:\")\n",
                "print(arr1)\n",
                "print(\"\\nBroadcasting with Scalar:\")\n",
                "print(result)\n",
                "\n",
                "```\n",
                "\n",
                "**Output:**\n",
                "\n",
                "```\n",
                "Original Array:\n",
                "[[1 2 3]\n",
                " [4 5 6]]\n",
                "\n",
                "Broadcasting with Scalar:\n",
                "[[11 12 13]\n",
                " [14 15 16]]\n",
                "\n",
                "```\n",
                "\n",
                "In this example, the scalar value (10) is broadcasted to each element of the array `arr1`.\n",
                "\n",
                "**Explanation:**\n",
                "\n",
                "- **Broadcasting Operation:** The scalar value (10) is broadcasted to each element of the array `arr1`.\n",
                "- **Broadcasting Rule:** Broadcasting with a scalar involves extending the scalar to match the shape of the array.\n",
                "- **Result:** Each element of `arr1` is added to the scalar value, resulting in the broadcasted array `result`.\n",
                "\n",
                "#### Example 2: Broadcasting with a 1D Array\n",
                "\n",
                "```\n",
                "import numpy as np\n",
                "\n",
                "arr1 = np.array([[1, 2, 3], [4, 5, 6]])\n",
                "arr2 = np.array([10, 20, 30])\n",
                "result = arr1 + arr2\n",
                "print(\"Original Arrays:\")\n",
                "print(arr1)\n",
                "print(arr2)\n",
                "print(\"\\nBroadcasting with 1D Array:\")\n",
                "print(result)\n",
                "\n",
                "```\n",
                "\n",
                "**Output:**\n",
                "\n",
                "```\n",
                "Original Arrays:\n",
                "[[1 2 3]\n",
                " [4 5 6]]\n",
                "[10 20 30]\n",
                "\n",
                "Broadcasting with 1D Array:\n",
                "[[11 22 33]\n",
                " [14 25 36]]\n",
                "\n",
                "```\n",
                "\n",
                "In this example, the 1D array `arr2` is broadcasted along its axis to match the shape of `arr1`, and element-wise addition is performed.\n",
                "\n",
                "**Explanation:**\n",
                "\n",
                "- **Broadcasting Operation:** The 1D array `arr2` is broadcasted along its axis to match the shape of `arr1`.\n",
                "- **Broadcasting Rule:** Broadcasting with a 1D array involves extending the smaller dimension (here, the row) to match the larger dimension (row-wise broadcasting).\n",
                "- **Result:** Element-wise addition is performed between `arr1` and the broadcasted `arr2`, resulting in the broadcasted array `result`.\n",
                "\n",
                "#### Example 3: Broadcasting with a 2D Array\n",
                "\n",
                "```\n",
                "import numpy as np\n",
                "\n",
                "arr1 = np.array([[1, 2, 3], [4, 5, 6]])\n",
                "arr2 = np.array([[10], [20]])\n",
                "result = arr1 + arr2\n",
                "print(\"Original Arrays:\")\n",
                "print(arr1)\n",
                "print(arr2)\n",
                "print(\"\\nBroadcasting with 2D Array:\")\n",
                "print(result)\n",
                "\n",
                "```\n",
                "\n",
                "**Output:**\n",
                "\n",
                "```\n",
                "Original Arrays:\n",
                "[[1 2 3]\n",
                " [4 5 6]]\n",
                "[[10]\n",
                " [20]]\n",
                "\n",
                "Broadcasting with 2D Array:\n",
                "[[11 12 13]\n",
                " [24 25 26]]\n",
                "\n",
                "```\n",
                "\n",
                "In this example, the 2D array `arr2` is broadcasted along its axis to match the shape of `arr1`, and element-wise addition is performed.\n",
                "\n",
                "**Explanation:**\n",
                "\n",
                "- **Broadcasting Operation:** The 2D array `arr2` is broadcasted along its axis to match the shape of `arr1`.\n",
                "- **Broadcasting Rule:** Broadcasting with a 2D array involves extending both dimensions to match the larger shape (both row-wise and column-wise broadcasting).\n",
                "- **Result:** Element-wise addition is performed between `arr1` and the broadcasted `arr2`, resulting in the broadcasted array `result`.\n",
                "\n",
                "In summary, broadcasting involves extending smaller dimensions to match larger dimensions, enabling element-wise operations between arrays with different shapes. It allows NumPy to perform operations efficiently and without the need for explicit looping or copying of data. The broadcasting rules ensure that the shapes align correctly for element-wise operations.\n",
                "\n",
                "These examples demonstrate how broadcasting works in different scenarios, allowing NumPy to handle operations between arrays with different shapes in a convenient and efficient manner."
            ],
            "metadata": {
                "azdata_cell_guid": "25b81174-32b0-44d1-ade9-f9fa67bb9b6e"
            },
            "attachments": {}
        }
    ]
}