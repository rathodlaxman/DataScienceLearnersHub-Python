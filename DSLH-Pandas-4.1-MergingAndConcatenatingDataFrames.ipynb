{
    "metadata": {
        "kernelspec": {
            "name": "python3",
            "display_name": "Python 3",
            "language": "python"
        },
        "language_info": {
            "name": "python",
            "version": "3.10.9",
            "mimetype": "text/x-python",
            "codemirror_mode": {
                "name": "ipython",
                "version": 3
            },
            "pygments_lexer": "ipython3",
            "nbconvert_exporter": "python",
            "file_extension": ".py"
        }
    },
    "nbformat_minor": 2,
    "nbformat": 4,
    "cells": [
        {
            "cell_type": "markdown",
            "source": [
                "# **`Data Science Learners Hub`**\n",
                "\n",
                "**Module : Python**\n",
                "\n",
                "**email** : [datasciencelearnershub@gmail.com](mailto:datasciencelearnershub@gmail.com)"
            ],
            "metadata": {
                "azdata_cell_guid": "efc1581c-7bef-4e93-aaad-2a0f50276281"
            },
            "attachments": {}
        },
        {
            "cell_type": "markdown",
            "source": [
                "## **`#4: Advanced Data Manipulation`**\n",
                "10. **Merging and Concatenating DataFrames**\n",
                "    - Combining DataFrames\n",
                "    - Concatenation and merging operations\n",
                "\n",
                "11. **Reshaping Data**\n",
                "    - Pivoting and melting\n",
                "    - Stacking and unstacking\n",
                "\n",
                "12. **Time Series Data**\n",
                "    - Handling time and date data\n",
                "    - Resampling and frequency conversion"
            ],
            "metadata": {
                "azdata_cell_guid": "c504e14c-ed48-4f80-9a93-2869fdfdb1c1"
            },
            "attachments": {}
        },
        {
            "cell_type": "markdown",
            "source": [
                "### **`10. Merging and Concatenating DataFrames`**"
            ],
            "metadata": {
                "azdata_cell_guid": "3338c052-b67a-49f3-8110-784638d057da"
            },
            "attachments": {}
        },
        {
            "cell_type": "markdown",
            "source": [
                "#### **`Combining DataFrames in Pandas`**"
            ],
            "metadata": {
                "azdata_cell_guid": "096807d2-b29f-42a0-8432-0bf087816c5b"
            },
            "attachments": {}
        },
        {
            "cell_type": "markdown",
            "source": [
                "#### Concept of Combining DataFrames:\n",
                "\n",
                "Combining or merging DataFrames in Pandas involves bringing together information from two or more DataFrames based on a common key or index. This is particularly useful when dealing with related datasets or when you want to integrate information from multiple sources.\n",
                "\n",
                "#### Scenarios for DataFrame Combination:\n",
                "\n",
                "1. **Data Integration:**\n",
                "   - Combine datasets with shared information to create a unified view.\n",
                "\n",
                "2. **Relational Databases:**\n",
                "   - Mimic relational database joins for complex data relationships.\n",
                "\n",
                "3. **Time Series Alignment:**\n",
                "   - Align datasets based on time indices for time series analysis.\n",
                "\n",
                "4. **Handling Missing Data:**\n",
                "   - Fill in missing information by combining datasets with complementary information."
            ],
            "metadata": {
                "azdata_cell_guid": "f95f2b04-1061-4795-aafd-3a53861f1086"
            },
            "attachments": {}
        },
        {
            "cell_type": "markdown",
            "source": [
                "#### Types of Merges:\n",
                "\n",
                "##### 1. Inner Merge:"
            ],
            "metadata": {
                "azdata_cell_guid": "ee73d0ea-e1ab-4bfd-b144-87b6fc0599b6"
            },
            "attachments": {}
        },
        {
            "cell_type": "code",
            "source": [
                "import pandas as pd\n",
                "\n",
                "# Sample DataFrames\n",
                "df1 = pd.DataFrame({'ID': [1, 2, 3], 'Name': ['laxman', 'harshita', 'naina']})\n",
                "df2 = pd.DataFrame({'ID': [2, 3, 4], 'Salary': [60000, 45000, 70000]})\n",
                "\n",
                "# Inner Merge on 'ID'\n",
                "merged_inner = pd.merge(df1, df2, on='ID', how='inner')\n",
                "\n",
                "# Displaying the merged DataFrame\n",
                "print(\"Inner Merge Result:\")\n",
                "print(merged_inner)\n",
                "\n",
                "# Result : Only rows with common 'ID' values in both DataFrames are retained.\n",
                ""
            ],
            "metadata": {
                "azdata_cell_guid": "a7b60ef0-864e-4516-a0f3-760d6337f346",
                "language": "python"
            },
            "outputs": [
                {
                    "name": "stdout",
                    "text": "Inner Merge Result:\n   ID      Name  Salary\n0   2  harshita   60000\n1   3     naina   45000\n",
                    "output_type": "stream"
                }
            ],
            "execution_count": 1
        },
        {
            "cell_type": "markdown",
            "source": [
                "##### 2. Outer Merge:"
            ],
            "metadata": {
                "language": "python",
                "azdata_cell_guid": "e6b9d14f-c2e7-416a-927a-0735f22c0ead"
            },
            "attachments": {}
        },
        {
            "cell_type": "code",
            "source": [
                "# Outer Merge on 'ID'\n",
                "merged_outer = pd.merge(df1, df2, on='ID', how='outer')\n",
                "\n",
                "# Displaying the merged DataFrame\n",
                "print(\"\\nOuter Merge Result:\")\n",
                "print(merged_outer)\n",
                "\n",
                "# Result : All rows from both DataFrames are included. NaN is used for missing values."
            ],
            "metadata": {
                "language": "python",
                "azdata_cell_guid": "5e73cdc4-99d1-4fdd-afbf-8435d9ddd857"
            },
            "outputs": [
                {
                    "name": "stdout",
                    "text": "\nOuter Merge Result:\n   ID      Name   Salary\n0   1    laxman      NaN\n1   2  harshita  60000.0\n2   3     naina  45000.0\n3   4       NaN  70000.0\n",
                    "output_type": "stream"
                }
            ],
            "execution_count": 2
        },
        {
            "cell_type": "markdown",
            "source": [
                "##### 3. Left Merge:"
            ],
            "metadata": {
                "language": "python",
                "azdata_cell_guid": "1df244bd-ebd6-4511-a66b-701c71ae8d5f"
            },
            "attachments": {}
        },
        {
            "cell_type": "code",
            "source": [
                "# Left Merge on 'ID'\n",
                "merged_left = pd.merge(df1, df2, on='ID', how='left')\n",
                "\n",
                "# Displaying the merged DataFrame\n",
                "print(\"\\nLeft Merge Result:\")\n",
                "print(merged_left)\n",
                "\n",
                "# Result : All rows from the left DataFrame (df1) are retained. NaN for missing values in the right DataFrame.\n",
                ""
            ],
            "metadata": {
                "language": "python",
                "azdata_cell_guid": "3b05888c-ff3e-47cc-807f-8dc4db758067"
            },
            "outputs": [
                {
                    "name": "stdout",
                    "text": "\nLeft Merge Result:\n   ID      Name   Salary\n0   1    laxman      NaN\n1   2  harshita  60000.0\n2   3     naina  45000.0\n",
                    "output_type": "stream"
                }
            ],
            "execution_count": 3
        },
        {
            "cell_type": "markdown",
            "source": [
                "##### 4. Right Merge:"
            ],
            "metadata": {
                "language": "python",
                "azdata_cell_guid": "e3cc60b6-1d82-4774-bcd2-62193fd30745"
            },
            "attachments": {}
        },
        {
            "cell_type": "code",
            "source": [
                "# Right Merge on 'ID'\n",
                "merged_right = pd.merge(df1, df2, on='ID', how='right')\n",
                "\n",
                "# Displaying the merged DataFrame\n",
                "print(\"\\nRight Merge Result:\")\n",
                "print(merged_right)\n",
                "\n",
                "# Result : All rows from the right DataFrame (df2) are retained. NaN for missing values in the left DataFrame."
            ],
            "metadata": {
                "language": "python",
                "azdata_cell_guid": "db0638a7-15de-4f47-8f9a-690e4a522f66"
            },
            "outputs": [
                {
                    "name": "stdout",
                    "text": "\nRight Merge Result:\n   ID      Name  Salary\n0   2  harshita   60000\n1   3     naina   45000\n2   4       NaN   70000\n",
                    "output_type": "stream"
                }
            ],
            "execution_count": 4
        },
        {
            "cell_type": "markdown",
            "source": [
                "#### Implications of Merge Types:\n",
                "\n",
                "- **Inner Merge:**\n",
                "  - Retains only rows with matching keys in both DataFrames.\n",
                "\n",
                "- **Outer Merge:**\n",
                "  - Retains all rows from both DataFrames, filling in missing values with NaN.\n",
                "\n",
                "- **Left Merge:**\n",
                "  - Retains all rows from the left DataFrame, filling in missing values with NaN.\n",
                "\n",
                "- **Right Merge:**\n",
                "  - Retains all rows from the right DataFrame, filling in missing values with NaN.\n",
                "\n",
                "#### Considerations:\n",
                "\n",
                "- **Key Column(s):**\n",
                "  - Specify the key column(s) on which to merge the DataFrames.\n",
                "\n",
                "- **Duplicate Keys:**\n",
                "  - Be cautious about duplicate keys; they can result in unexpected behavior.\n",
                "\n",
                "- **Multiple Key Columns:**\n",
                "  - Merge on multiple columns for more complex relationships.\n",
                "\n",
                "#### Tips:\n",
                "\n",
                "- **Suffixes:**\n",
                "  - Use `suffixes` parameter to differentiate columns with the same name in the merged DataFrames.\n",
                "\n",
                "- **Index-Based Merge:**\n",
                "  - Merge based on indices using `left_index` and `right_index` parameters.\n",
                "\n",
                "Merging DataFrames is a crucial aspect of data manipulation in Pandas, enabling the combination of information from diverse sources. Understanding the types of merges and their implications empowers efficient data integration and analysis."
            ],
            "metadata": {
                "language": "python",
                "azdata_cell_guid": "e4de1d6b-44c1-4a18-a9a2-3049d38235a0"
            },
            "attachments": {}
        },
        {
            "cell_type": "markdown",
            "source": [
                "#### **`Concatenation and Merging Operations in Pandas`**"
            ],
            "metadata": {
                "azdata_cell_guid": "1b5c6510-e090-475e-9dfe-7fe218847e14"
            },
            "attachments": {}
        },
        {
            "cell_type": "markdown",
            "source": [
                "#### Concatenation with `concat()`:\n",
                "\n",
                "Concatenation in Pandas involves combining DataFrames either vertically or horizontally.\n",
                "\n",
                "##### 1. Vertical Concatenation:"
            ],
            "metadata": {
                "azdata_cell_guid": "cd69c929-eb38-4530-9f58-9f11c74309a7"
            },
            "attachments": {}
        },
        {
            "cell_type": "code",
            "source": [
                "import pandas as pd\n",
                "\n",
                "# Sample DataFrames\n",
                "df1 = pd.DataFrame({'A': ['A0', 'A1'], 'B': ['B0', 'B1']})\n",
                "df2 = pd.DataFrame({'A': ['A2', 'A3'], 'B': ['B2', 'B3']})\n",
                "\n",
                "# Vertical Concatenation\n",
                "concatenated_vertical = pd.concat([df1, df2])\n",
                "\n",
                "# Displaying the concatenated DataFrame\n",
                "print(\"Vertical Concatenation Result:\")\n",
                "print(concatenated_vertical)\n",
                "\n",
                "# Result : Rows from both the datframe are stacked vertically"
            ],
            "metadata": {
                "azdata_cell_guid": "e5943fad-9ca4-4f9b-9d71-6102b9e1eb9f",
                "language": ""
            },
            "outputs": [
                {
                    "name": "stdout",
                    "text": "Vertical Concatenation Result:\n    A   B\n0  A0  B0\n1  A1  B1\n0  A2  B2\n1  A3  B3\n",
                    "output_type": "stream"
                }
            ],
            "execution_count": 5
        },
        {
            "cell_type": "markdown",
            "source": [
                "***Explanation:***\n",
                "\n",
                "- The above code demonstrates how to perform vertical concatenation using the `pd.concat` function in pandas. Vertical concatenation is the process of stacking DataFrames on top of each other along the rows (axis 0). This is the default for concat()\n",
                "\n",
                "- Here's a breakdown of the code:\n",
                "\n",
                "***Vertical Concatenation:***\n",
                "```python\n",
                "concatenated_vertical = pd.concat([df1, df2])\n",
                "```\n",
                "- The `pd.concat` function is used to concatenate the DataFrames `df1` and `df2` vertically. The argument `[df1, df2]` specifies a list of DataFrames to be concatenated. The result (`concatenated_vertical`) is a new DataFrame where the rows from `df2` are stacked below the rows from `df1`.\n",
                "\n",
                "\n",
                "- The final DataFrame (`concatenated_vertical`) has four rows, with the rows from `df2` appearing below the rows from `df1`.\n",
                "\n",
                ""
            ],
            "metadata": {
                "azdata_cell_guid": "11884897-9e31-456d-b2ec-4139a04247ea"
            },
            "attachments": {}
        },
        {
            "cell_type": "markdown",
            "source": [
                "##### 2. Horizontal Concatenation:"
            ],
            "metadata": {
                "azdata_cell_guid": "a1085a2c-fd09-4508-9378-230e208bf560"
            },
            "attachments": {}
        },
        {
            "cell_type": "code",
            "source": [
                "# Sample DataFrames\n",
                "df3 = pd.DataFrame({'C': ['C0', 'C1'], 'D': ['D0', 'D1']})\n",
                "\n",
                "# Horizontal Concatenation\n",
                "concatenated_horizontal = pd.concat([df1, df3], axis=1)\n",
                "\n",
                "# Displaying the concatenated DataFrame\n",
                "print(\"\\nHorizontal Concatenation Result:\")\n",
                "print(concatenated_horizontal)\n",
                "\n",
                "# Result : Columns from both DataFrames are joined horizontally."
            ],
            "metadata": {
                "azdata_cell_guid": "6945ad4c-d7ce-4cb7-90bb-3133a1a31900",
                "language": "python"
            },
            "outputs": [
                {
                    "name": "stdout",
                    "text": "\nHorizontal Concatenation Result:\n    A   B   C   D\n0  A0  B0  C0  D0\n1  A1  B1  C1  D1\n",
                    "output_type": "stream"
                }
            ],
            "execution_count": 6
        },
        {
            "cell_type": "markdown",
            "source": [
                "#### Merging with `merge()`:\n",
                "\n",
                "The `merge()` function combines DataFrames based on specified columns."
            ],
            "metadata": {
                "language": "python",
                "azdata_cell_guid": "fffc170c-abc8-4de4-b719-a4898d9653e8"
            },
            "attachments": {}
        },
        {
            "cell_type": "code",
            "source": [
                "# Sample DataFrames\n",
                "df4 = pd.DataFrame({'ID': [1, 2], 'Name': ['Alice', 'Bob']})\n",
                "df5 = pd.DataFrame({'ID': [2, 3], 'Salary': [60000, 45000]})\n",
                "\n",
                "# Merging on 'ID'\n",
                "merged_result = pd.merge(df4, df5, on='ID', how='inner')\n",
                "\n",
                "# Displaying the merged DataFrame\n",
                "print(\"\\nMerge Result:\")\n",
                "print(merged_result)\n",
                "\n",
                "# Result : Inner merge on 'ID' retains only rows with common 'ID' values."
            ],
            "metadata": {
                "language": "",
                "azdata_cell_guid": "2d41b0c7-1668-443d-b20a-c9a1f8fc4ef4"
            },
            "outputs": [
                {
                    "name": "stdout",
                    "text": "\nMerge Result:\n   ID Name  Salary\n0   2  Bob   60000\n",
                    "output_type": "stream"
                }
            ],
            "execution_count": 7
        },
        {
            "cell_type": "markdown",
            "source": [
                "#### Merging Parameters:\n",
                "\n",
                "- **`how`:**\n",
                "  - Specifies the type of merge (e.g., 'inner', 'outer', 'left', 'right').\n",
                "\n",
                "- **`on`:**\n",
                "  - Specifies the key column(s) for merging.\n",
                "\n",
                "- **`suffixes`:**\n",
                "  - Appends suffixes to duplicate column names in case of overlap.\n",
                "\n",
                "#### Considerations:\n",
                "\n",
                "- **Common Key Columns:**\n",
                "  - Ensure the key columns have the same name and contain common values.\n",
                "\n",
                "- **Duplicate Columns:**\n",
                "  - Be cautious about duplicate columns; use `suffixes` to handle them.\n",
                "\n",
                "#### Tips:\n",
                "\n",
                "- **Multiple Key Columns:**\n",
                "  - Merge on multiple columns for complex relationships using a list in the `on` parameter.\n",
                "\n",
                "- **Index-Based Merge:**\n",
                "  - Merge based on indices using `left_index` and `right_index` parameters.\n",
                "\n",
                "Combining DataFrames using `concat()` and `merge()` provides flexibility in managing and integrating data. Understanding these functions and their parameters allows for efficient data manipulation and analysis in various scenarios.\n",
                ""
            ],
            "metadata": {
                "azdata_cell_guid": "7ff37c4a-5f59-45d2-b76b-e4b34d3ecaf5"
            },
            "attachments": {}
        }
    ]
}