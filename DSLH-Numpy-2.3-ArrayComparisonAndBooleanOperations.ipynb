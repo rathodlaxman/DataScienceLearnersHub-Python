{
    "metadata": {
        "kernelspec": {
            "name": "python3",
            "display_name": "Python 3",
            "language": "python"
        },
        "language_info": {
            "name": "python",
            "version": "3.10.9",
            "mimetype": "text/x-python",
            "codemirror_mode": {
                "name": "ipython",
                "version": 3
            },
            "pygments_lexer": "ipython3",
            "nbconvert_exporter": "python",
            "file_extension": ".py"
        }
    },
    "nbformat_minor": 2,
    "nbformat": 4,
    "cells": [
        {
            "cell_type": "markdown",
            "source": [
                "# **`Data Science Learners Hub`**\n",
                "\n",
                "**Module : Python**\n",
                "\n",
                "**email** : [datasciencelearnershub@gmail.com](mailto:datasciencelearnershub@gmail.com)"
            ],
            "metadata": {
                "azdata_cell_guid": "1c9d735c-382a-4e1b-ad76-44a1a9b7c9e4"
            },
            "attachments": {}
        },
        {
            "cell_type": "markdown",
            "source": [
                "### **`#2: Operations on NumPy Arrays`**\n",
                "\n",
                "1. **Element-wise Operations:**\n",
                "   - Performing basic arithmetic operations on arrays.\n",
                "   - Universal functions (ufuncs) in NumPy.\n",
                "\n",
                "2. **Aggregation and Statistics:**\n",
                "   - Sum, mean, median, variance, and standard deviation.\n",
                "   - Min, max, and other aggregation functions.\n",
                "\n",
                "3. **Array Comparison and Boolean Operations:**\n",
                "   - Comparing arrays element-wise.\n",
                "   - Boolean indexing and masking.\n",
                "\n",
                "4. **Array Manipulation:**\n",
                "   - Reshaping arrays.\n",
                "   - Concatenation and splitting arrays."
            ],
            "metadata": {
                "azdata_cell_guid": "b227b4e7-7cdd-42d6-ba15-9c712564337a"
            },
            "attachments": {}
        },
        {
            "cell_type": "markdown",
            "source": [
                "### **`2.3. Array Comparison and Boolean Operations in NumPy:`**\n",
                "\n",
                "**Importance:**\n",
                "\n",
                "Array comparison and boolean operations in NumPy are fundamental for creating conditions, filtering data, and making logical decisions. These operations involve comparing elements in arrays and generating boolean arrays as a result.\n",
                "\n",
                "**Scenarios:**"
            ],
            "metadata": {
                "azdata_cell_guid": "1f0f2bdf-d7ad-4ff9-a186-ef7b0d0384d7"
            },
            "attachments": {}
        },
        {
            "cell_type": "markdown",
            "source": [
                "1. **Filtering Data:**\n",
                "   - **Scenario:** Identifying temperatures above a certain threshold in weather data.\n",
                "   - **Application:** Use boolean operations to filter temperatures exceeding a specified threshold for further analysis."
            ],
            "metadata": {
                "azdata_cell_guid": "9e542ce9-01d6-4678-809d-78259f092af1"
            },
            "attachments": {}
        },
        {
            "cell_type": "code",
            "source": [
                "import numpy as np\n",
                "\n",
                "temperatures = np.array([22, 25, 30, 35, 28, 24, 32])\n",
                "above_threshold = temperatures > 25\n",
                "filtered_temperatures = temperatures[above_threshold]\n",
                "print(filtered_temperatures)"
            ],
            "metadata": {
                "azdata_cell_guid": "4db5a176-170c-4862-b15e-2114f88b57b1",
                "language": "python"
            },
            "outputs": [
                {
                    "output_type": "stream",
                    "name": "stdout",
                    "text": "[30 35 28 32]\n"
                }
            ],
            "execution_count": 6
        },
        {
            "cell_type": "markdown",
            "source": [
                "2. **Scientific Experiments:**\n",
                "   - **Scenario:** Analyzing experimental results based on specific criteria.\n",
                "   - **Application:** Use boolean operations to filter and analyze experimental data meeting specific conditions."
            ],
            "metadata": {
                "language": "python",
                "azdata_cell_guid": "abb43095-e7c7-41ef-bd2a-c368c9719f5a"
            },
            "attachments": {}
        },
        {
            "cell_type": "code",
            "source": [
                "import numpy as np\n",
                "\n",
                "experiment_results = np.array([12, 18, 22, 15, 30, 25, 20])\n",
                "successful_experiments = experiment_results >= 20\n",
                "analysis_data = experiment_results[successful_experiments]\n",
                "print(analysis_data)"
            ],
            "metadata": {
                "language": "python",
                "azdata_cell_guid": "4f4c712f-8ca4-4beb-aac3-f3f37886a8bc"
            },
            "outputs": [
                {
                    "output_type": "stream",
                    "name": "stdout",
                    "text": "[22 30 25 20]\n"
                }
            ],
            "execution_count": 7
        },
        {
            "cell_type": "markdown",
            "source": [
                "3. **Financial Analysis:**\n",
                "   - **Scenario:** Identifying profitable stock trades based on certain indicators.\n",
                "   - **Application:** Use boolean operations to filter stock trades with favorable conditions."
            ],
            "metadata": {
                "language": "python",
                "azdata_cell_guid": "9fe33f12-6627-4f06-944b-e01370a199b8"
            },
            "attachments": {}
        },
        {
            "cell_type": "code",
            "source": [
                "import numpy as np\n",
                "\n",
                "stock_prices = np.array([150, 160, 140, 170, 180, 130])\n",
                "profitable_trades = stock_prices > 150\n",
                "selected_trades = stock_prices[profitable_trades]\n",
                "print(selected_trades)"
            ],
            "metadata": {
                "language": "python",
                "azdata_cell_guid": "11cdb18a-ec3b-4449-b7d1-6160b31f676b"
            },
            "outputs": [
                {
                    "output_type": "stream",
                    "name": "stdout",
                    "text": "[160 170 180]\n"
                }
            ],
            "execution_count": 8
        },
        {
            "cell_type": "markdown",
            "source": [
                "**Real-world Examples:**\n",
                "\n",
                "1. **Medical Research:**\n",
                "   - **Scenario:** Analyzing patient data for specific conditions.\n",
                "   - **Application:** Identify patients with a certain health parameter above a threshold using boolean operations for targeted medical analysis.\n",
                "\n",
                "2. **Environmental Monitoring:**\n",
                "   - **Scenario:** Identifying pollution levels above safety standards.\n",
                "   - **Application:** Use boolean operations to filter data from environmental sensors, focusing on instances when pollution levels exceed acceptable standards.\n",
                "\n",
                "3. **Educational Assessment:**\n",
                "   - **Scenario:** Identifying students who scored above a passing grade.\n",
                "   - **Application:** Use boolean operations to filter and analyze student scores, focusing on those who met or exceeded passing criteria.\n",
                "\n",
                "**Key Takeaway:**\n",
                "\n",
                "Array comparison and boolean operations in NumPy provide a powerful mechanism for filtering and analyzing data based on specific conditions. These operations are crucial in various real-world applications, including weather analysis, scientific experiments, financial decision-making, medical research, environmental monitoring, and educational assessments. They enable users to focus on relevant data subsets, make informed decisions, and extract meaningful insights from datasets."
            ],
            "metadata": {
                "language": "python",
                "azdata_cell_guid": "29441d53-d7d8-417c-b644-09143102f509"
            },
            "attachments": {}
        }
    ]
}