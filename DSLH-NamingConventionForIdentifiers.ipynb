{
    "metadata": {
        "kernelspec": {
            "name": "python3",
            "display_name": "Python 3",
            "language": "python"
        },
        "language_info": {
            "name": "python",
            "version": "3.10.9",
            "mimetype": "text/x-python",
            "codemirror_mode": {
                "name": "ipython",
                "version": 3
            },
            "pygments_lexer": "ipython3",
            "nbconvert_exporter": "python",
            "file_extension": ".py"
        }
    },
    "nbformat_minor": 2,
    "nbformat": 4,
    "cells": [
        {
            "cell_type": "markdown",
            "source": [
                "# **Data Science Learners Hub - Python**\n",
                "\n",
                "**Module : Python**\n",
                "\n",
                "**Topic :** <span style=\"font-size: 12px; caret-color: rgb(31, 31, 31); white-space-collapse: preserve; background-color: rgb(255, 255, 255);\">Naming Convention for Identifiers in Python</span>\n",
                "\n",
                "**email** : [datasciencelearnershub@gmail.com](https://github.com/rathodlaxman/DataScienceLearnersHub/blob/50de48da0c8f7145a545dd9942457c8b9cfc8fc5//mailto:datasciencelearnershub@gmail.com)"
            ],
            "metadata": {
                "azdata_cell_guid": "19bf3330-e096-467c-b036-5173b6a0c5f9"
            },
            "attachments": {}
        },
        {
            "cell_type": "markdown",
            "source": [
                "## **# Naming Convention for Identifiers in Python**"
            ],
            "metadata": {
                "azdata_cell_guid": "aa3b1532-77a1-4dbf-80b3-28239c621a61"
            },
            "attachments": {}
        },
        {
            "cell_type": "markdown",
            "source": [
                "In Python, there are some common naming conventions for identifiers (variables, functions, classes, etc.) to make your code more readable and maintainable. These conventions are described in PEP 8, which is the Python Enhancement Proposal that provides style guidelines for Python code. Here are some key points:\n",
                "\n",
                "1. **Snake Case for Variables and Functions:**\n",
                "    - Variable and function names should be in lowercase with words separated by underscores (`_`).\n",
                "    - Example: `my_variable`, `calculate_area()`\n",
                "\n",
                "2. **Camel Case for Class Names:**\n",
                "    - Class names should use CamelCase, which means each word begins with a capital letter and there are no underscores.\n",
                "    - Example: `MyClass`, `PersonInfo`\n",
                "\n",
                "3. **UPPER_CASE for Constants:**\n",
                "    - Constants should be in all uppercase letters with words separated by underscores.\n",
                "    - Example: `PI`, `MAX_VALUE`\n",
                "\n",
                "4. **Use Descriptive Names:**\n",
                "    - Choose meaningful and descriptive names for your identifiers. This makes your code more understandable.\n",
                "    - Example: Instead of `x`, use `length`; instead of `func`, use `calculate_area`.\n",
                "\n",
                "5. **Avoid Single-Character Names:**\n",
                "    - Except for some common iterators like `i`, `j`, and `k`, try to avoid using single-letter variable names. Use descriptive names instead.\n",
                "\n",
                "6. **Use Verbs for Function Names:**\n",
                "    - Function names should typically start with a verb and describe the action they perform.\n",
                "    - Example: `calculate_area()`, `print_results()`\n",
                "\n",
                "7. **Module and Package Names:**\n",
                "    - Module names should be short and lowercase.\n",
                "    - Package names should be short and lowercase.\n",
                "    - Avoid using hyphens in module or package names; use underscores instead.\n",
                "    \n",
                "8. **Avoid Reserved Words:**\n",
                "    - Do not use Python's reserved words (e.g., `if`, `while`, `for`) as identifiers.\n",
                "\n",
                "Here's an example that follows these naming conventions:\n",
                "\n",
                "```python\n",
                "# Constants\n",
                "PI = 3.14159\n",
                "MAX_VALUE = 100\n",
                "\n",
                "# Function using snake_case\n",
                "def calculate_area(radius):\n",
                "    return PI * radius * radius\n",
                "\n",
                "# Class using CamelCase\n",
                "class Circle:\n",
                "    def __init__(self, radius):\n",
                "        self.radius = radius\n",
                "\n",
                "# Variable using snake_case\n",
                "circle_radius = 5\n",
                "\n",
                "# Avoid single-letter variable names\n",
                "for i in range(MAX_VALUE):\n",
                "    if i % 2 == 0:\n",
                "        print(i)\n",
                "\n",
                "```\n",
                "\n",
                "By following these naming conventions, your code becomes more readable and consistent, making it easier for both you and others to understand and maintain."
            ],
            "metadata": {
                "azdata_cell_guid": "845fb0ea-2729-49cd-90c6-95edda1ca260"
            },
            "attachments": {}
        }
    ]
}