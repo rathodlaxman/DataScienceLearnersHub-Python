{
    "metadata": {
        "kernelspec": {
            "name": "python3",
            "display_name": "Python 3",
            "language": "python"
        },
        "language_info": {
            "name": "python",
            "version": "3.10.9",
            "mimetype": "text/x-python",
            "codemirror_mode": {
                "name": "ipython",
                "version": 3
            },
            "pygments_lexer": "ipython3",
            "nbconvert_exporter": "python",
            "file_extension": ".py"
        }
    },
    "nbformat_minor": 2,
    "nbformat": 4,
    "cells": [
        {
            "cell_type": "markdown",
            "source": [
                "# **`Data Science Learners Hub`**\n",
                "\n",
                "**Module : Python**\n",
                "\n",
                "**Topic : OOPS**\n",
                "\n",
                "**email** : [datasciencelearnershub@gmail.com](mailto:datasciencelearnershub@gmail.com)"
            ],
            "metadata": {
                "azdata_cell_guid": "f43a56c1-a324-4ac8-b3d8-06f79d2471ee"
            },
            "attachments": {}
        },
        {
            "cell_type": "markdown",
            "source": [
                "#### Differences Between Instance Method and Class Method\n",
                "\n",
                "| Feature                | Instance Method                            | Class Method                                |\n",
                "|------------------------|--------------------------------------------|---------------------------------------------|\n",
                "| Definition                | An instance method is a method that is called on an instance of a class.       | A class method is a method that is <mark>bound to the class and not the instance of the class.</mark>                          |\n",
                "| Binding                | <mark>Bound to the instance of the class </mark>        | <mark>Bound to the class </mark>                         |\n",
                "| Instance of class                | Require instance of class       | <mark>`Does not require instance of a class`</mark>                         |\n",
                "| Access                 | <mark>Can access and modify instance attributes `and also access class attributes`</mark>  | <mark>Can only access and modify class attributes or call other class methods</mark>     |\n",
                "| First Parameter        | `self` (refers to the instance)            | `cls` (refers to the class)                 |\n",
                "| Call                   | <mark>Called on an instance </mark>                     | <mark>**Called on the class or an instance**</mark>         |\n",
                "| Use Case               | <mark>Operate on instance data </mark>                  | Operate on class data                       |\n",
                "| Decorator              | None                                        | <mark>**`@classmethod`**</mark>                           |\n",
                "| Example Usage          | <mark>`instance.method()`</mark>                       | <mark>**`Class.method()` or `instance.method()`**</mark>    |\n",
                "\n",
                ""
            ],
            "metadata": {
                "azdata_cell_guid": "cf2704be-cc3f-4b19-9842-c9c8222f12bd"
            },
            "attachments": {}
        },
        {
            "cell_type": "code",
            "source": [
                "### Example\n",
                "\n",
                "class MyClass:\n",
                "    class_attribute = \"I am a class attribute\"\n",
                "    \n",
                "    def __init__(self, instance_attribute):\n",
                "        self.instance_attribute = instance_attribute\n",
                "    \n",
                "    # Instance method\n",
                "    def instance_method(self):\n",
                "        print(f\"Instance attribute: {self.instance_attribute}\")\n",
                "        print(f\"Class attribute: {self.class_attribute}\")\n",
                "\n",
                "    # Class method\n",
                "    @classmethod\n",
                "    def class_method(cls):\n",
                "        print(f\"Class attribute: {cls.class_attribute}\")\n",
                "\n",
                "# Creating an instance of MyClass\n",
                "my_instance = MyClass(\"I am an instance attribute\")\n",
                "\n",
                "# Calling instance method\n",
                "my_instance.instance_method()\n",
                "\n",
                "# Calling class method\n",
                "MyClass.class_method()\n",
                ""
            ],
            "metadata": {
                "azdata_cell_guid": "18c52097-7ec9-4a43-87f6-be9536b8c0d6",
                "language": "python"
            },
            "outputs": [
                {
                    "name": "stdout",
                    "text": "Instance attribute: I am an instance attribute\nClass attribute: I am a class attribute\nClass attribute: I am a class attribute\n",
                    "output_type": "stream"
                }
            ],
            "execution_count": 2
        },
        {
            "cell_type": "markdown",
            "source": [
                "#### Can a class access instance method ?"
            ],
            "metadata": {
                "azdata_cell_guid": "ad0c86b9-e66a-43f9-b12a-953f9c18db73"
            },
            "attachments": {}
        },
        {
            "cell_type": "code",
            "source": [
                "class MyClass:\n",
                "    class_attribute = \"I am a class attribute\"\n",
                "    \n",
                "    def __init__(self, instance_attribute):\n",
                "        self.instance_attribute = instance_attribute\n",
                "    \n",
                "    # Instance method\n",
                "    def instance_method(self):\n",
                "        print(f\"Instance attribute: {self.instance_attribute}\")\n",
                "        print(f\"Class attribute: {self.class_attribute}\")\n",
                "\n",
                "    # Class method\n",
                "    @classmethod\n",
                "    def class_method(cls):\n",
                "        print(f\"Class attribute: {cls.class_attribute}\")\n",
                "\n",
                "# Creating an instance of MyClass\n",
                "my_instance = MyClass(\"I am an instance attribute\")\n",
                "\n",
                "# Calling instance method\n",
                "my_instance.instance_method()\n",
                "\n",
                "# Calling class method\n",
                "MyClass.class_method()\n",
                "\n",
                "# Class accessing instance method\n",
                "print('Class accessiing instance method')\n",
                "MyClass.instance_method()\n",
                ""
            ],
            "metadata": {
                "azdata_cell_guid": "0bd334fb-dfc4-48e9-bc5f-3ace25a21171",
                "language": "python"
            },
            "outputs": [
                {
                    "name": "stdout",
                    "text": "Instance attribute: I am an instance attribute\nClass attribute: I am a class attribute\nClass attribute: I am a class attribute\nClass accessiing instance method\n",
                    "output_type": "stream"
                },
                {
                    "traceback": [
                        "\u001b[0;31m---------------------------------------------------------------------------\u001b[0m",
                        "\u001b[0;31mTypeError\u001b[0m                                 Traceback (most recent call last)",
                        "Cell \u001b[0;32mIn[3], line 28\u001b[0m\n\u001b[1;32m     26\u001b[0m \u001b[38;5;66;03m# Class accessing instance method\u001b[39;00m\n\u001b[1;32m     27\u001b[0m \u001b[38;5;28mprint\u001b[39m(\u001b[38;5;124m'\u001b[39m\u001b[38;5;124mClass accessiing instance method\u001b[39m\u001b[38;5;124m'\u001b[39m)\n\u001b[0;32m---> 28\u001b[0m \u001b[43mMyClass\u001b[49m\u001b[38;5;241;43m.\u001b[39;49m\u001b[43minstance_method\u001b[49m\u001b[43m(\u001b[49m\u001b[43m)\u001b[49m\n",
                        "\u001b[0;31mTypeError\u001b[0m: MyClass.instance_method() missing 1 required positional argument: 'self'"
                    ],
                    "ename": "TypeError",
                    "evalue": "MyClass.instance_method() missing 1 required positional argument: 'self'",
                    "output_type": "error"
                }
            ],
            "execution_count": 3
        },
        {
            "cell_type": "markdown",
            "source": [
                "#### Explanation\n",
                "\n",
                "- <mark>You cannot directly call an instance method on the class itself</mark> (MyClass.instance_method()). Instead, you need to call it on an instance of the class, like my_instance.instance_method().\n",
                "\n",
                "- `Instance methods` operate on specific instances of the class. <mark>`They have access to both the instance's attributes (self.instance_attribute) and the class's attributes (MyClass.class_attribute)`</mark>\n",
                "- `Class methods` <mark>are used to work with the class itself rather than instances</mark>. They are decorated with @classmethod and receive the class itself (cls) as the first argument."
            ],
            "metadata": {
                "azdata_cell_guid": "bc61862b-a954-4f2a-9941-5a6a4d473b6a"
            },
            "attachments": {}
        },
        {
            "cell_type": "markdown",
            "source": [
                "#### Can an instance of a class access class method as seen on line no 28 below ?"
            ],
            "metadata": {
                "azdata_cell_guid": "ac2fe1e9-7dc4-427b-b6fe-eb5a1b4b7fbd"
            },
            "attachments": {}
        },
        {
            "cell_type": "code",
            "source": [
                "class MyClass:\n",
                "    class_attribute = \"I am a class attribute\"\n",
                "    \n",
                "    def __init__(self, instance_attribute):\n",
                "        self.instance_attribute = instance_attribute\n",
                "    \n",
                "    # Instance method\n",
                "    def instance_method(self):\n",
                "        print(f\"Instance attribute: {self.instance_attribute}\")\n",
                "        print(f\"Class attribute: {self.class_attribute}\")\n",
                "\n",
                "    # Class method\n",
                "    @classmethod\n",
                "    def class_method(cls):\n",
                "        print(f\"Class attribute: {cls.class_attribute}\")\n",
                "\n",
                "# Creating an instance of MyClass\n",
                "my_instance = MyClass(\"I am an instance attribute\")\n",
                "\n",
                "# Calling instance method\n",
                "my_instance.instance_method()\n",
                "\n",
                "# Calling class method\n",
                "MyClass.class_method()\n",
                "\n",
                "\n",
                "# Class accessing instance method\n",
                "print('----------------------------------')\n",
                "print('instance accessiing class method')\n",
                "my_instance.class_method()\n",
                ""
            ],
            "metadata": {
                "azdata_cell_guid": "87401dda-03b1-4be5-8134-7149cbe4be70",
                "language": "python"
            },
            "outputs": [
                {
                    "name": "stdout",
                    "text": "Instance attribute: I am an instance attribute\nClass attribute: I am a class attribute\nClass attribute: I am a class attribute\n----------------------------------\ninstance accessiing class method\nClass attribute: I am a class attribute\n",
                    "output_type": "stream"
                }
            ],
            "execution_count": 5
        }
    ]
}