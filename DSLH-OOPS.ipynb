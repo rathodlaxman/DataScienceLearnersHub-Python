{
    "metadata": {
        "kernelspec": {
            "name": "python3",
            "display_name": "Python 3",
            "language": "python"
        },
        "language_info": {
            "name": "python",
            "version": "3.10.9",
            "mimetype": "text/x-python",
            "codemirror_mode": {
                "name": "ipython",
                "version": 3
            },
            "pygments_lexer": "ipython3",
            "nbconvert_exporter": "python",
            "file_extension": ".py"
        }
    },
    "nbformat_minor": 2,
    "nbformat": 4,
    "cells": [
        {
            "cell_type": "markdown",
            "source": [
                "# **`Data Science Learners Hub`**\n",
                "\n",
                "**Module : Python**\n",
                "\n",
                "**Topic : OOPS**\n",
                "\n",
                "**email** : [datasciencelearnershub@gmail.com](mailto:datasciencelearnershub@gmail.com)"
            ],
            "metadata": {
                "azdata_cell_guid": "f43a56c1-a324-4ac8-b3d8-06f79d2471ee"
            },
            "attachments": {}
        },
        {
            "cell_type": "markdown",
            "source": [
                "#### Differences Between Instance Method and Class Method\n",
                "\n",
                "| Feature                | Instance Method                            | Class Method                                |\n",
                "|------------------------|--------------------------------------------|---------------------------------------------|\n",
                "| Definition                | An instance method is a method that is called on an instance of a class.       | A class method is a method that is <mark>bound to the class and not the instance of the class.</mark>                          |\n",
                "| Binding                | <mark>Bound to the instance of the class </mark>        | <mark>Bound to the class </mark>                         |\n",
                "| Instance of class                | Require instance of class       | <mark>`Does not require instance of a class`</mark>                         |\n",
                "| Access                 | <mark>Can access and modify instance attributes `and also access class attributes`</mark>  | <mark>Can only access and modify class attributes or call other class methods</mark>     |\n",
                "| First Parameter        | `self` (refers to the instance)            | `cls` (refers to the class)                 |\n",
                "| Call                   | <mark>Called on an instance </mark>                     | <mark>**Called on the class or an instance**</mark>         |\n",
                "| Use Case               | <mark>Operate on instance data </mark>                  | Operate on class data                       |\n",
                "| Decorator              | None                                        | <mark>**`@classmethod`**</mark>                           |\n",
                "| Example Usage          | <mark>`instance.method()`</mark>                       | <mark>**`Class.method()` or `instance.method()`**</mark>    |\n",
                "\n",
                ""
            ],
            "metadata": {
                "azdata_cell_guid": "cf2704be-cc3f-4b19-9842-c9c8222f12bd"
            },
            "attachments": {}
        },
        {
            "cell_type": "code",
            "source": [
                "### Example\n",
                "\n",
                "class MyClass:\n",
                "    class_attribute = \"I am a class attribute\"\n",
                "    \n",
                "    def __init__(self, instance_attribute):\n",
                "        self.instance_attribute = instance_attribute\n",
                "    \n",
                "    # Instance method\n",
                "    def instance_method(self):\n",
                "        print(f\"Instance attribute: {self.instance_attribute}\")\n",
                "        print(f\"Class attribute: {self.class_attribute}\")\n",
                "\n",
                "    # Class method\n",
                "    @classmethod\n",
                "    def class_method(cls):\n",
                "        print(f\"Class attribute: {cls.class_attribute}\")\n",
                "\n",
                "# Creating an instance of MyClass\n",
                "my_instance = MyClass(\"I am an instance attribute\")\n",
                "\n",
                "# Calling instance method\n",
                "my_instance.instance_method()\n",
                "\n",
                "# Calling class method\n",
                "MyClass.class_method()\n",
                ""
            ],
            "metadata": {
                "azdata_cell_guid": "18c52097-7ec9-4a43-87f6-be9536b8c0d6",
                "language": "python"
            },
            "outputs": [
                {
                    "name": "stdout",
                    "text": "Instance attribute: I am an instance attribute\nClass attribute: I am a class attribute\nClass attribute: I am a class attribute\n",
                    "output_type": "stream"
                }
            ],
            "execution_count": 2
        }
    ]
}