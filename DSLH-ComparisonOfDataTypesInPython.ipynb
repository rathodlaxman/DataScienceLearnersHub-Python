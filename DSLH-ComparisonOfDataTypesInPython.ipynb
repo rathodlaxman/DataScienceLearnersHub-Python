{
    "metadata": {
        "kernelspec": {
            "name": "python3",
            "display_name": "Python 3",
            "language": "python"
        },
        "language_info": {
            "name": "python",
            "version": "3.10.9",
            "mimetype": "text/x-python",
            "codemirror_mode": {
                "name": "ipython",
                "version": 3
            },
            "pygments_lexer": "ipython3",
            "nbconvert_exporter": "python",
            "file_extension": ".py"
        }
    },
    "nbformat_minor": 2,
    "nbformat": 4,
    "cells": [
        {
            "cell_type": "markdown",
            "source": [
                "# **`Data Science Learners Hub`**\n",
                "\n",
                "**Module : Python**\n",
                "\n",
                "**email** : [datasciencelearnershub@gmail.com](mailto:datasciencelearnershub@gmail.com)"
            ],
            "metadata": {
                "azdata_cell_guid": "040b9576-1309-4e5a-9f1a-4095e7673643"
            },
            "attachments": {}
        },
        {
            "cell_type": "markdown",
            "source": [
                "### **`# Comparison of Data Types in Python`**"
            ],
            "metadata": {
                "azdata_cell_guid": "649aff3a-17a1-4e03-bf46-6dfc96dcc8ff"
            },
            "attachments": {}
        },
        {
            "cell_type": "markdown",
            "source": [
                "\n",
                "\n",
                "| Key Points                  | String      | List         | Tuple        | Dictionary   | Set          |\n",
                "|-----------------------------|-------------|--------------|--------------|--------------|--------------|\n",
                "| Ordered/Unordered           | Ordered     | Ordered      | Ordered      | Unordered    | Unordered    |\n",
                "| Mutable/Immutable           | Immutable   | Mutable      | Immutable   | Mutable      | Mutable      |\n",
                "| Performance                | Efficient for small to medium-sized strings | Efficient for dynamic collections | Slightly faster than lists | Efficient for key-value pairs | Efficient for unique elements |\n",
                "| Better Used At              | Text processing, characters | Dynamic collections, sequences | Read-only collections | Key-value pairs, quick lookups | Ensuring unique elements |\n",
                "| Peculiarities/Considerations | Immutability prevents direct modification of characters | Mutable, allowing easy modification, insertion, and deletion | Immutability ensures data integrity; suitable for fixed collections | Keys must be immutable; allows efficient key-based data retrieval | Stores only unique elements; useful for mathematical operations |\n",
                "| Methods Specific to Datatype Only | capitalize(), lower(), upper(), strip(), etc. | append(), extend(), pop(), insert(), remove(), sort(), etc. | count(), index(), slicing | keys(), values(), items(), get(), update(), pop(), etc. | add(), remove(), pop(), union(), intersection(), difference() |\n",
                "| Memory Efficiency           | Immutable strings may be more memory-efficient | May require more memory due to dynamic resizing | More memory-efficient compared to lists | Memory-efficient for key-value pairs | Compact representation for unique elements |\n",
                "| Use Cases                   | Text manipulation, representation | Dynamic collections requiring flexibility | Read-only collections, function arguments | Storing and retrieving key-value pairs | Efficiently handling and comparing unique elements |\n",
                "| Iteration Performance       | Efficient for sequential access | Efficient for sequential access | Slightly faster than lists | Iteration based on keys, values, or items | Efficient for iteration over unique elements |\n",
                "| Insertion/Deletion Performance | Inefficient due to immutability | Efficient, especially at the end | Immutable, no direct insertion or deletion | Efficient for key-based insertion and deletion | Efficient for adding or removing unique elements |\n",
                "| Popularity                  | Commonly used for text processing | Widely used for various data manipulations | Frequently used for read-only scenarios | Widely used for key-value storage | Frequently used for set operations |\n",
                "\n",
                ""
            ],
            "metadata": {
                "azdata_cell_guid": "5a6428bb-051b-4463-abca-5a62e7e4c1ae"
            },
            "attachments": {}
        }
    ]
}