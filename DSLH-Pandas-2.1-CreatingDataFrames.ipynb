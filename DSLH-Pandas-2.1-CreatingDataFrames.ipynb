{
    "metadata": {
        "kernelspec": {
            "name": "python3",
            "display_name": "Python 3",
            "language": "python"
        },
        "language_info": {
            "name": "python",
            "version": "3.10.9",
            "mimetype": "text/x-python",
            "codemirror_mode": {
                "name": "ipython",
                "version": 3
            },
            "pygments_lexer": "ipython3",
            "nbconvert_exporter": "python",
            "file_extension": ".py"
        }
    },
    "nbformat_minor": 2,
    "nbformat": 4,
    "cells": [
        {
            "cell_type": "markdown",
            "source": [
                "# **`Data Science Learners Hub`**\n",
                "\n",
                "**Module : Python**\n",
                "\n",
                "**email** : [datasciencelearnershub@gmail.com](mailto:datasciencelearnershub@gmail.com)"
            ],
            "metadata": {
                "azdata_cell_guid": "f8c8cadc-dcc8-4034-8431-80a42190d436"
            },
            "attachments": {}
        },
        {
            "cell_type": "markdown",
            "source": [
                "## **`#2: DataFrames in Depth`**\n",
                "4. **Creating DataFrames**\n",
                "   - From lists, dictionaries, and arrays\n",
                "   - Reading data from CSV, Excel, and other formats\n",
                "\n",
                "5. **Basic DataFrame Operations**\n",
                "   - Inspecting the DataFrame\n",
                "   - Indexing and selecting data\n",
                "   - Descriptive statistics\n",
                "\n",
                "6. **Data Cleaning and Handling Missing Data**\n",
                "   - Handling missing values\n",
                "   - Dropping or filling missing values\n",
                "   - Removing duplicates"
            ],
            "metadata": {
                "azdata_cell_guid": "9c2d4f7a-9df1-4d2a-a382-3a089e5a3756"
            },
            "attachments": {}
        },
        {
            "cell_type": "markdown",
            "source": [
                "### **`4. Creating DataFrames: `**"
            ],
            "metadata": {
                "azdata_cell_guid": "1c73ace3-6c7d-4af2-97d3-b04855ce28ab"
            },
            "attachments": {}
        },
        {
            "cell_type": "markdown",
            "source": [
                "#### `From Lists, Dictionaries, and Arrays`\n",
                "\n",
                "**Introduction:**\n",
                "Creating a Pandas DataFrame is a fundamental step in data analysis. In this prompt, we will explore three common methods for creating DataFrames: using lists, dictionaries, and arrays."
            ],
            "metadata": {
                "azdata_cell_guid": "41a0bf7c-a258-408b-bdd6-f10ecef3ce53"
            },
            "attachments": {}
        },
        {
            "cell_type": "markdown",
            "source": [
                "**From Lists:**\n",
                "\n",
                "1. **Using Lists as Columns:**\n",
                "   - You can create a DataFrame by using lists as columns. Each list represents a column, and the lengths of the lists must match."
            ],
            "metadata": {
                "azdata_cell_guid": "e3e6bf50-93e5-4a82-8ad6-e407630c10c8"
            },
            "attachments": {}
        },
        {
            "cell_type": "code",
            "source": [
                "     import pandas as pd\n",
                "\n",
                "     names = ['Laxman', 'Rajesh', 'Ramulu']\n",
                "     ages = [25, 30, 35]\n",
                "     cities = ['Srinagar', 'Pune', 'Mahabubnagar']\n",
                "\n",
                "     df_from_lists = pd.DataFrame({'Name': names, 'Age': ages, 'City': cities})\n",
                "\n",
                "     print(df_from_lists)"
            ],
            "metadata": {
                "azdata_cell_guid": "cb94e248-6b9d-4f1c-8de3-f5b5ae470863",
                "language": "python"
            },
            "outputs": [
                {
                    "output_type": "stream",
                    "name": "stdout",
                    "text": "     Name  Age          City\n0  Laxman   25      Srinagar\n1  Rajesh   30          Pune\n2  Ramulu   35  Mahabubnagar\n"
                }
            ],
            "execution_count": 1
        },
        {
            "cell_type": "markdown",
            "source": [
                "2. **Specifying Index:**\n",
                "   - You can specify a custom index for the DataFrame:"
            ],
            "metadata": {
                "language": "python",
                "azdata_cell_guid": "0b0d600b-415f-498d-9a3b-6e5ba76694e5"
            },
            "attachments": {}
        },
        {
            "cell_type": "code",
            "source": [
                "     custom_index = ['person1', 'person2', 'person3']\n",
                "     df_from_lists_custom_index = pd.DataFrame({'Name': names, 'Age': ages, 'City': cities}, index=custom_index)\n",
                "\n",
                "     print(df_from_lists_custom_index)"
            ],
            "metadata": {
                "language": "python",
                "azdata_cell_guid": "8fa54fca-0662-4c70-a8d0-1df7366c0a17"
            },
            "outputs": [
                {
                    "output_type": "stream",
                    "name": "stdout",
                    "text": "           Name  Age          City\nperson1  Laxman   25      Srinagar\nperson2  Rajesh   30          Pune\nperson3  Ramulu   35  Mahabubnagar\n"
                }
            ],
            "execution_count": 2
        },
        {
            "cell_type": "markdown",
            "source": [
                "**From Dictionaries:**\n",
                "\n",
                "1. **Using Dictionary Keys as Columns:**\n",
                "   - Creating a DataFrame from a dictionary allows you to use the keys as column names."
            ],
            "metadata": {
                "language": "python",
                "azdata_cell_guid": "ee58ebc1-2997-40eb-9431-631b20268239"
            },
            "attachments": {}
        },
        {
            "cell_type": "code",
            "source": [
                "data_dict = {'Name': ['Harshita', 'Naina', 'Sai'],\n",
                "            'Age': [25, 30, 35],\n",
                "            'City': ['Pune', 'Pune', 'Hyderabad']}\n",
                "\n",
                "df_from_dict = pd.DataFrame(data_dict)\n",
                "print(df_from_dict)"
            ],
            "metadata": {
                "language": "python",
                "azdata_cell_guid": "7085d3b6-b768-44ec-b8fc-b1aaddeb89c9"
            },
            "outputs": [
                {
                    "output_type": "stream",
                    "name": "stdout",
                    "text": "       Name  Age       City\n0  Harshita   25       Pune\n1     Naina   30       Pune\n2       Sai   35  Hyderabad\n"
                }
            ],
            "execution_count": 3
        },
        {
            "cell_type": "markdown",
            "source": [
                "2. **Specifying Index:**\n",
                "   - Similar to the list method, you can specify a custom index:"
            ],
            "metadata": {
                "azdata_cell_guid": "3d4420d6-6c14-4776-90a1-1b9d0bc511a5"
            },
            "attachments": {}
        },
        {
            "cell_type": "code",
            "source": [
                "df_from_dict_custom_index = pd.DataFrame(data_dict, index=custom_index)\n",
                "\n",
                "print(df_from_dict_custom_index)"
            ],
            "metadata": {
                "azdata_cell_guid": "24a63fbb-59be-4602-8790-c9a44283051b",
                "language": "python"
            },
            "outputs": [
                {
                    "output_type": "stream",
                    "name": "stdout",
                    "text": "             Name  Age       City\nperson1  Harshita   25       Pune\nperson2     Naina   30       Pune\nperson3       Sai   35  Hyderabad\n"
                }
            ],
            "execution_count": 4
        },
        {
            "cell_type": "markdown",
            "source": [
                "**From Arrays:**\n",
                "\n",
                "1. **Using NumPy Arrays:**\n",
                "   - NumPy arrays can be used to create DataFrames. Ensure that the dimensions match for each array."
            ],
            "metadata": {
                "language": "python",
                "azdata_cell_guid": "f4098b23-d6cd-4595-a2c9-3ae0823228e6"
            },
            "attachments": {}
        },
        {
            "cell_type": "code",
            "source": [
                "import numpy as np\n",
                "\n",
                "names_array = np.array(['Alice', 'Bob', 'Charlie'])\n",
                "ages_array = np.array([25, 30, 35])\n",
                "cities_array = np.array(['New York', 'San Francisco', 'Los Angeles'])\n",
                "\n",
                "df_from_arrays = pd.DataFrame({'Name': names_array, 'Age': ages_array, 'City': cities_array})\n",
                "\n",
                "print(df_from_arrays)"
            ],
            "metadata": {
                "language": "python",
                "azdata_cell_guid": "b3f43f16-57de-40c9-9bfe-59654f4b9a65"
            },
            "outputs": [
                {
                    "output_type": "stream",
                    "name": "stdout",
                    "text": "      Name  Age           City\n0    Alice   25       New York\n1      Bob   30  San Francisco\n2  Charlie   35    Los Angeles\n"
                }
            ],
            "execution_count": 5
        },
        {
            "cell_type": "markdown",
            "source": [
                "2. **Specifying Index:**\n",
                "   - As before, you can specify a custom index:"
            ],
            "metadata": {
                "language": "python",
                "azdata_cell_guid": "f2131731-0396-404d-9854-b70c08ec1e1f"
            },
            "attachments": {}
        },
        {
            "cell_type": "code",
            "source": [
                "df_from_arrays_custom_index = pd.DataFrame({'Name': names_array, 'Age': ages_array, 'City': cities_array}, index=custom_index)\n",
                "print(df_from_arrays_custom_index)"
            ],
            "metadata": {
                "language": "python",
                "azdata_cell_guid": "6ce8b2b4-95da-49a8-a0b7-2721e8a6e29d"
            },
            "outputs": [
                {
                    "output_type": "stream",
                    "name": "stdout",
                    "text": "            Name  Age           City\nperson1    Alice   25       New York\nperson2      Bob   30  San Francisco\nperson3  Charlie   35    Los Angeles\n"
                }
            ],
            "execution_count": 6
        },
        {
            "cell_type": "markdown",
            "source": [
                "**Importance of Specifying Column Names and Indices:**\n",
                "\n",
                "1. **Clarity and Readability:**\n",
                "   - Specifying meaningful column names enhances the clarity and readability of your code and data.\n",
                "\n",
                "2. **Consistency in Analysis:**\n",
                "   - A consistent index allows for smoother and more predictable data analysis, especially when combining DataFrames or performing complex operations.\n",
                "\n",
                "3. **Avoiding Ambiguity:**\n",
                "   - Explicitly defining column names and indices avoids ambiguity and ensures that each piece of data is correctly associated with its intended category.\n",
                "\n",
                "**Conclusion:**\n",
                "Creating DataFrames in Pandas using lists, dictionaries, and arrays provides flexibility and versatility in handling different types of data. Specifying column names and indices during DataFrame creation is essential for clarity and consistency in subsequent data analysis tasks."
            ],
            "metadata": {
                "language": "python",
                "azdata_cell_guid": "53569a44-b94b-41f0-aedc-4ee1cbb3399a"
            },
            "attachments": {}
        },
        {
            "cell_type": "markdown",
            "source": [
                "#### Example :"
            ],
            "metadata": {
                "language": "python",
                "azdata_cell_guid": "80b82975-ef7b-43c6-8bce-2aa033637c90"
            },
            "attachments": {}
        },
        {
            "cell_type": "code",
            "source": [
                "import pandas as pd\n",
                "import numpy as np\n",
                "\n",
                "# Creating a DataFrame from Lists\n",
                "list_data = {\n",
                "    'Name': ['Laxman', 'Rajesh', 'Bala', 'Ramulu', 'Padma'],\n",
                "    'Age': [25, 30, 35, 22, 28],\n",
                "    'Salary': [50000, 60000, 75000, 48000, 55000],\n",
                "    'Experience': [3, 5, 8, 2, 4],\n",
                "}\n",
                "\n",
                "df_from_lists = pd.DataFrame(list_data)\n",
                "\n",
                "# Creating a DataFrame from a Dictionary\n",
                "dict_data = {\n",
                "    'ID': [1, 2, 3, 4, 5],\n",
                "    'Subject': ['Math', 'Physics', 'Chemistry', 'Biology', 'English'],\n",
                "    'Score': [85, 92, 78, 89, 95],\n",
                "}\n",
                "\n",
                "df_from_dict = pd.DataFrame(dict_data)\n",
                "\n",
                "# Creating a DataFrame from Arrays (using NumPy)\n",
                "array_data = np.array([\n",
                "    [1, 'Apple', 3],\n",
                "    [2, 'Banana', 6],\n",
                "    [3, 'Orange', 4],\n",
                "])\n",
                "\n",
                "df_from_arrays = pd.DataFrame(array_data, columns=['ID', 'Fruit', 'Quantity'])\n",
                "\n",
                "# Displaying the DataFrames\n",
                "print(\"DataFrame from Lists:\")\n",
                "print(df_from_lists)\n",
                "\n",
                "print(\"\\nDataFrame from Dictionary:\")\n",
                "print(df_from_dict)\n",
                "\n",
                "print(\"\\nDataFrame from Arrays:\")\n",
                "print(df_from_arrays)\n",
                ""
            ],
            "metadata": {
                "language": "python",
                "azdata_cell_guid": "a5d9237a-bf30-45ab-b742-34c404ee9951"
            },
            "outputs": [
                {
                    "output_type": "stream",
                    "name": "stdout",
                    "text": "DataFrame from Lists:\n     Name  Age  Salary  Experience\n0  Laxman   25   50000           3\n1  Rajesh   30   60000           5\n2    Bala   35   75000           8\n3  Ramulu   22   48000           2\n4   Padma   28   55000           4\n\nDataFrame from Dictionary:\n   ID    Subject  Score\n0   1       Math     85\n1   2    Physics     92\n2   3  Chemistry     78\n3   4    Biology     89\n4   5    English     95\n\nDataFrame from Arrays:\n  ID   Fruit Quantity\n0  1   Apple        3\n1  2  Banana        6\n2  3  Orange        4\n"
                }
            ],
            "execution_count": 8
        },
        {
            "cell_type": "markdown",
            "source": [
                "#### Real World Scenario:\n",
                "Imagine you have survey data from a group of people regarding their preferences for various types of electronic devices. Each person's data includes their ID, name, age, and the ratings (out of 10) they gave to different devices like smartphones, laptops, and smartwatches."
            ],
            "metadata": {
                "azdata_cell_guid": "b4be5985-ef4f-45c1-91a2-629a6ddbe5e9"
            },
            "attachments": {}
        },
        {
            "cell_type": "code",
            "source": [
                "import pandas as pd\n",
                "\n",
                "# Sample survey data\n",
                "survey_data = {\n",
                "    'ID': [1, 2, 3, 4, 5],\n",
                "    'Name': ['Laxman', 'Rajesh', 'Padma', 'Harshita', 'Naina'],\n",
                "    'Age': [25, 30, 35, 22, 28],\n",
                "    'Smartphone_Rating': [9, 8, 7, 9, 8],\n",
                "    'Laptop_Rating': [8, 7, 9, 6, 8],\n",
                "    'Smartwatch_Rating': [7, 6, 8, 7, 9],\n",
                "}\n",
                "\n",
                "# Creating a DataFrame from the survey data\n",
                "df_survey = pd.DataFrame(survey_data)\n",
                "\n",
                "# Displaying the DataFrame\n",
                "print(\"Survey Data DataFrame:\")\n",
                "print(df_survey)"
            ],
            "metadata": {
                "azdata_cell_guid": "759fcb6f-8457-4c46-a562-335e8818780b",
                "language": "python"
            },
            "outputs": [
                {
                    "output_type": "stream",
                    "name": "stdout",
                    "text": "Survey Data DataFrame:\n   ID      Name  Age  Smartphone_Rating  Laptop_Rating  Smartwatch_Rating\n0   1    Laxman   25                  9              8                  7\n1   2    Rajesh   30                  8              7                  6\n2   3     Padma   35                  7              9                  8\n3   4  Harshita   22                  9              6                  7\n4   5     Naina   28                  8              8                  9\n"
                }
            ],
            "execution_count": 9
        },
        {
            "cell_type": "markdown",
            "source": [
                "#### Considerations or Peculiarities:\n",
                "\n",
                "- **Column Consistency:** Ensure consistency in the length of lists or arrays when creating a DataFrame. All lists should have the same length, or dictionaries should have the same set of keys.\n",
                "\n",
                "- **Data Types:** Be mindful of the data types within lists or arrays. Pandas will attempt to infer data types, but it's helpful to explicitly specify them if needed.\n",
                "\n",
                "- **Indexing:** Decide whether you need to set a specific column as the index. In the example above, 'ID' is set as the index, but you may choose another column or leave it with the default integer index."
            ],
            "metadata": {
                "language": "python",
                "azdata_cell_guid": "4d08bbd3-32dd-4a68-82cb-21fa8a1d3d25"
            },
            "attachments": {}
        },
        {
            "cell_type": "markdown",
            "source": [
                "#### Common Mistakes:\n",
                "\n",
                "- **Mismatched Lengths:** Forgetting to check and ensure that all lists or arrays used to create a DataFrame have the same length can lead to errors.\n",
                "\n",
                "- **Misspelled Column Names:** When creating a DataFrame from a dictionary, ensure that the keys represent column names. Misspelling a key may result in the creation of a new column instead of using an existing one.\n",
                "\n",
                "- **Incorrect Data Types:** If your data types are not appropriate, it can lead to unexpected results. Check that numeric columns are treated as numbers, and categorical columns are specified as such."
            ],
            "metadata": {
                "language": "python",
                "azdata_cell_guid": "50a4e301-759e-44b2-ad6f-19aaf8657b49"
            },
            "attachments": {}
        },
        {
            "cell_type": "markdown",
            "source": [
                "#### `Reading Data into a DataFrame from Various Formats`\n",
                "\n",
                "**Introduction:**\n",
                "Pandas provides versatile functions to read data from different file formats, making it a powerful tool for handling diverse data sources. In this prompt, we will explore how to read data into a DataFrame from common formats such as CSV and Excel, and discuss additional formats supported by Pandas."
            ],
            "metadata": {
                "language": "python",
                "azdata_cell_guid": "8cedd79b-c016-4dbe-bf0b-4f4757e6f08a"
            },
            "attachments": {}
        },
        {
            "cell_type": "markdown",
            "source": [
                "**Reading from CSV:**\n",
                "\n",
                "1. **Using `read_csv` Function:**\n",
                "   - Reading data from a CSV file is straightforward using the `read_csv` function:"
            ],
            "metadata": {
                "language": "python",
                "azdata_cell_guid": "2dcdc5ee-c068-420a-9751-ad7d88b1d9a9"
            },
            "attachments": {}
        },
        {
            "cell_type": "code",
            "source": [
                "import pandas as pd\n",
                "\n",
                "df_csv = pd.read_csv('data.csv')\n",
                "\n",
                "print(df_csv)"
            ],
            "metadata": {
                "language": "python",
                "azdata_cell_guid": "da59c58b-5838-453a-8efb-f3f01bc8090e"
            },
            "outputs": [
                {
                    "output_type": "stream",
                    "name": "stdout",
                    "text": "     Name  Age          City\n0  Laxman   25          Pune\n1  Rajesh   30     Hyderabad\n2     Ram   22  Mahabubnagar\n"
                }
            ],
            "execution_count": 10
        },
        {
            "cell_type": "markdown",
            "source": [
                "2. **Customizing Parameters:**\n",
                "   - You can customize parameters such as delimiter, encoding, and header during reading:"
            ],
            "metadata": {
                "language": "python",
                "azdata_cell_guid": "2c4815b9-14fa-4818-bae1-339be0902514"
            },
            "attachments": {}
        },
        {
            "cell_type": "code",
            "source": [
                "df_custom_csv = pd.read_csv('data.csv', delimiter=';', encoding='utf-8', header=0)\n",
                "print(df_custom_csv)"
            ],
            "metadata": {
                "language": "python",
                "azdata_cell_guid": "85e744dc-6535-434f-84bb-961ae4272b6b"
            },
            "outputs": [
                {
                    "output_type": "stream",
                    "name": "stdout",
                    "text": "         Name,Age,City\n0       Laxman,25,Pune\n1  Rajesh,30,Hyderabad\n2  Ram,22,Mahabubnagar\n"
                }
            ],
            "execution_count": 11
        },
        {
            "cell_type": "markdown",
            "source": [
                "#### Explanation:\n",
                "\n",
                "\n",
                "1. `pd.read_csv('data.csv', delimiter=';', encoding='utf-8', header=0)`:\n",
                "   - `pd.read_csv`: This function is a part of the Pandas library and is used to read data from a CSV file into a DataFrame.\n",
                "   - `'data.csv'`: Specifies the name of the CSV file to be read. Make sure the file exists in the specified location.\n",
                "   - `delimiter=';'`: Specifies the delimiter used in the CSV file. In this case, it's set to a semicolon (`;`).\n",
                "   - `encoding='utf-8'`: Specifies the character encoding of the file. 'utf-8' is a widely used encoding format for text files.\n",
                "   - `header=0`: Indicates that the first row of the CSV file contains column names. This is used as the header row for the DataFrame.\n",
                "\n",
                "2. `print(df_custom_csv)`: This line prints the DataFrame (`df_custom_csv`) to the console. The DataFrame is a tabular data structure that organizes data into rows and columns.\n",
                ""
            ],
            "metadata": {
                "language": "python",
                "azdata_cell_guid": "0f982e30-545a-49f8-b237-74f7627d0f88"
            },
            "attachments": {}
        },
        {
            "cell_type": "markdown",
            "source": [
                "**Reading from Excel:**\n",
                "\n",
                "1. **Using `read_excel` Function:**\n",
                "   - Reading data from an Excel file is accomplished with the `read_excel` function:"
            ],
            "metadata": {
                "language": "python",
                "azdata_cell_guid": "f16a8389-f3f3-4dfe-abb1-0dbe87717c7e"
            },
            "attachments": {}
        },
        {
            "cell_type": "code",
            "source": [
                "df_excel = pd.read_excel('data.xlsx', sheet_name='Sheet1')\n",
                "\n",
                "print(df_excel)"
            ],
            "metadata": {
                "language": "python",
                "azdata_cell_guid": "9a497400-755b-42ed-b364-fdc59757f577"
            },
            "outputs": [
                {
                    "output_type": "stream",
                    "name": "stdout",
                    "text": "       Name  Age          City\n0  Harshita    8          Pune\n1     Naina    1          Pune\n2       Sai    5  Mahabubnagar\n3   Aanchal    3        Ongole\n4    Laxman   36      Srinagar\n5     Padma   29          Pune\n6     Ganga   32  Mahabubnagar\n7    Rajesh   30          Pune\n"
                }
            ],
            "execution_count": 12
        },
        {
            "cell_type": "markdown",
            "source": [
                "2. **Specifying Columns:**\n",
                "   - You can specify columns to read from Excel:"
            ],
            "metadata": {
                "language": "python",
                "azdata_cell_guid": "eb96831f-1dcc-464b-90da-0301c573f747"
            },
            "attachments": {}
        },
        {
            "cell_type": "code",
            "source": [
                "df_excel_columns = pd.read_excel('data.xlsx', sheet_name='Sheet1', usecols=['Name', 'Age'])\n",
                "\n",
                "print(df_excel_columns)"
            ],
            "metadata": {
                "language": "python",
                "azdata_cell_guid": "87b758d3-8912-4524-8968-79c91e203ea9"
            },
            "outputs": [
                {
                    "output_type": "stream",
                    "name": "stdout",
                    "text": "       Name  Age\n0  Harshita    8\n1     Naina    1\n2       Sai    5\n3   Aanchal    3\n4    Laxman   36\n5     Padma   29\n6     Ganga   32\n7    Rajesh   30\n"
                }
            ],
            "execution_count": 13
        },
        {
            "cell_type": "markdown",
            "source": [
                "**Reading from Other Formats:**\n",
                "\n",
                "1. **JSON:**\n",
                "   - Pandas supports reading data from JSON files:\n",
                "     ```python\n",
                "     df_json = pd.read_json('data.json')\n",
                "     ```\n",
                "\n",
                "2. **HTML (Web Scraping):**\n",
                "   - Reading tables from HTML pages (web scraping) is possible using `read_html`:\n",
                "     ```python\n",
                "     url = 'https://example.com/table'\n",
                "     df_html = pd.read_html(url)[0]  # [0] selects the first table from the page\n",
                "     ```\n",
                "\n",
                "3. **SQL Databases:**\n",
                "   - Reading data from SQL databases using `read_sql`:\n",
                "     ```python\n",
                "     from sqlalchemy import create_engine\n",
                "\n",
                "     engine = create_engine('sqlite:///example.db')\n",
                "     query = 'SELECT * FROM my_table'\n",
                "     df_sql = pd.read_sql(query, engine)\n",
                "     ```\n",
                "\n",
                "**Flexibility in Handling Diverse Data Sources:**\n",
                "\n",
                "1. **URLs and HTTP(S):**\n",
                "   - Reading data directly from URLs:\n",
                "     ```python\n",
                "     url = 'https://example.com/data.csv'\n",
                "     df_url = pd.read_csv(url)\n",
                "     ```\n",
                "\n",
                "2. **ZIP Archives:**\n",
                "   - Reading data from files within a ZIP archive:\n",
                "     ```python\n",
                "     df_zip = pd.read_csv('archive.zip', compression='zip', header=0)\n",
                "     ```\n",
                "\n",
                "3. **Reading from Clipboard:**\n",
                "   - Copying data to the clipboard and reading it directly into a DataFrame:\n",
                "     ```python\n",
                "     df_clipboard = pd.read_clipboard()\n",
                "     ```\n",
                "\n",
                "**Conclusion:**\n",
                "Pandas' flexibility in reading data from various formats, including CSV, Excel, JSON, HTML, SQL databases, and more, makes it a versatile tool for handling diverse data sources. The ability to read directly from URLs, ZIP archives, and the clipboard enhances its capabilities for real-world data scenarios."
            ],
            "metadata": {
                "language": "python",
                "azdata_cell_guid": "faf52f94-221d-4646-979a-1f5ea8df4c3c"
            },
            "attachments": {}
        },
        {
            "cell_type": "markdown",
            "source": [
                "Output of shape : (1,2,3)\n",
                "1 : How many 2D arrays we have\n",
                "2,3 : represents the shape of the 2D arrays"
            ],
            "metadata": {
                "azdata_cell_guid": "08857ae4-9c7e-428d-ac6d-3b8e756bf3a3"
            },
            "attachments": {}
        }
    ]
}