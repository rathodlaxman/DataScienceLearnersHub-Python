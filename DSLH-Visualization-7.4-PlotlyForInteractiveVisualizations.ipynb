{
    "metadata": {
        "kernelspec": {
            "name": "python3",
            "display_name": "Python 3",
            "language": "python"
        },
        "language_info": {
            "name": "python",
            "version": "3.10.9",
            "mimetype": "text/x-python",
            "codemirror_mode": {
                "name": "ipython",
                "version": 3
            },
            "pygments_lexer": "ipython3",
            "nbconvert_exporter": "python",
            "file_extension": ".py"
        }
    },
    "nbformat_minor": 2,
    "nbformat": 4,
    "cells": [
        {
            "cell_type": "markdown",
            "source": [
                "# **`Data Science Learners Hub`**\n",
                "\n",
                "**Module : Python**\n",
                "\n",
                "**email** : [datasciencelearnershub@gmail.com](mailto:datasciencelearnershub@gmail.com)"
            ],
            "metadata": {
                "azdata_cell_guid": "76a2e3e1-9575-43ed-9c20-f50469aa0d9a"
            },
            "attachments": {}
        },
        {
            "cell_type": "markdown",
            "source": [
                "## **`#4: Plotly for Interactive Visualizations`**\n",
                "\n",
                "10. **Introduction to Plotly**\n",
                "    - Installing Plotly\n",
                "    - Basic Plotly charts\n",
                "\n",
                "11. **Interactive Line and Scatter Plots**\n",
                "    - Creating interactive line and scatter plots\n",
                "    - Customizing interactive features\n",
                "\n",
                "12. **Dash for Interactive Dashboards**\n",
                "    - Overview of Dash for building interactive web-based dashboards\n",
                "    - Creating a simple dashboard with Dash"
            ],
            "metadata": {
                "azdata_cell_guid": "672e3f5b-9ea3-4ed7-a788-7e21f73bc7f8"
            },
            "attachments": {}
        },
        {
            "cell_type": "markdown",
            "source": [
                "### **`10. Introduction to Plotly: Creating Interactive Visualizations`**"
            ],
            "metadata": {
                "azdata_cell_guid": "20d39e33-13e5-4c64-a670-797608bb509c"
            },
            "attachments": {}
        },
        {
            "cell_type": "markdown",
            "source": [
                "#### Installing Plotly:\n",
                "Before diving into Plotly, you need to install it. You can install Plotly using pip:\n",
                "\n",
                "```bash\n",
                "pip install plotly\n",
                "```\n",
                "\n",
                "#### Significance of Plotly:\n",
                "Plotly is a powerful Python library that enables the creation of interactive and visually appealing visualizations. Its significance lies in the ability to produce dynamic charts, dashboards, and interactive plots, making it an excellent choice for data exploration and presentation.\n",
                "\n",
                "#### Basic Plotly Charts:\n",
                "\n",
                "##### Scatter Plot:\n",
                "A simple scatter plot using Plotly can be created as follows:"
            ],
            "metadata": {
                "azdata_cell_guid": "218bdf58-b78f-4040-9232-d0d5375b7545"
            },
            "attachments": {}
        },
        {
            "cell_type": "code",
            "source": [
                "import plotly.express as px\n",
                "import plotly.io as pio\n",
                "\n",
                "# Example data\n",
                "data = px.data.iris()\n",
                "\n",
                "# Creating a scatter plot\n",
                "fig = px.scatter(data, x='sepal_width', y='sepal_length', color='species', size='petal_length')\n",
                "\n",
                "# Show the plot\n",
                "pio.show(fig)"
            ],
            "metadata": {
                "azdata_cell_guid": "56f34c41-dc63-4d5f-aa30-65243cbc1bb7",
                "language": "python"
            },
            "outputs": [
                {
                    "data": {
                        "application/vnd.plotly.v1+json": {
                            "data": [
                                {
                                    "hovertemplate": "species=setosa<br>sepal_width=%{x}<br>sepal_length=%{y}<br>petal_length=%{marker.size}<extra></extra>",
                                    "legendgroup": "setosa",
                                    "marker": {
                                        "color": "#636efa",
                                        "size": [
                                            1.4,
                                            1.4,
                                            1.3,
                                            1.5,
                                            1.4,
                                            1.7,
                                            1.4,
                                            1.5,
                                            1.4,
                                            1.5,
                                            1.5,
                                            1.6,
                                            1.4,
                                            1.1,
                                            1.2,
                                            1.5,
                                            1.3,
                                            1.4,
                                            1.7,
                                            1.5,
                                            1.7,
                                            1.5,
                                            1,
                                            1.7,
                                            1.9,
                                            1.6,
                                            1.6,
                                            1.5,
                                            1.4,
                                            1.6,
                                            1.6,
                                            1.5,
                                            1.5,
                                            1.4,
                                            1.5,
                                            1.2,
                                            1.3,
                                            1.5,
                                            1.3,
                                            1.5,
                                            1.3,
                                            1.3,
                                            1.3,
                                            1.6,
                                            1.9,
                                            1.4,
                                            1.6,
                                            1.4,
                                            1.5,
                                            1.4
                                        ],
                                        "sizemode": "area",
                                        "sizeref": 0.01725,
                                        "symbol": "circle"
                                    },
                                    "mode": "markers",
                                    "name": "setosa",
                                    "orientation": "v",
                                    "showlegend": true,
                                    "x": [
                                        3.5,
                                        3,
                                        3.2,
                                        3.1,
                                        3.6,
                                        3.9,
                                        3.4,
                                        3.4,
                                        2.9,
                                        3.1,
                                        3.7,
                                        3.4,
                                        3,
                                        3,
                                        4,
                                        4.4,
                                        3.9,
                                        3.5,
                                        3.8,
                                        3.8,
                                        3.4,
                                        3.7,
                                        3.6,
                                        3.3,
                                        3.4,
                                        3,
                                        3.4,
                                        3.5,
                                        3.4,
                                        3.2,
                                        3.1,
                                        3.4,
                                        4.1,
                                        4.2,
                                        3.1,
                                        3.2,
                                        3.5,
                                        3.1,
                                        3,
                                        3.4,
                                        3.5,
                                        2.3,
                                        3.2,
                                        3.5,
                                        3.8,
                                        3,
                                        3.8,
                                        3.2,
                                        3.7,
                                        3.3
                                    ],
                                    "xaxis": "x",
                                    "y": [
                                        5.1,
                                        4.9,
                                        4.7,
                                        4.6,
                                        5,
                                        5.4,
                                        4.6,
                                        5,
                                        4.4,
                                        4.9,
                                        5.4,
                                        4.8,
                                        4.8,
                                        4.3,
                                        5.8,
                                        5.7,
                                        5.4,
                                        5.1,
                                        5.7,
                                        5.1,
                                        5.4,
                                        5.1,
                                        4.6,
                                        5.1,
                                        4.8,
                                        5,
                                        5,
                                        5.2,
                                        5.2,
                                        4.7,
                                        4.8,
                                        5.4,
                                        5.2,
                                        5.5,
                                        4.9,
                                        5,
                                        5.5,
                                        4.9,
                                        4.4,
                                        5.1,
                                        5,
                                        4.5,
                                        4.4,
                                        5,
                                        5.1,
                                        4.8,
                                        5.1,
                                        4.6,
                                        5.3,
                                        5
                                    ],
                                    "yaxis": "y",
                                    "type": "scatter"
                                },
                                {
                                    "hovertemplate": "species=versicolor<br>sepal_width=%{x}<br>sepal_length=%{y}<br>petal_length=%{marker.size}<extra></extra>",
                                    "legendgroup": "versicolor",
                                    "marker": {
                                        "color": "#EF553B",
                                        "size": [
                                            4.7,
                                            4.5,
                                            4.9,
                                            4,
                                            4.6,
                                            4.5,
                                            4.7,
                                            3.3,
                                            4.6,
                                            3.9,
                                            3.5,
                                            4.2,
                                            4,
                                            4.7,
                                            3.6,
                                            4.4,
                                            4.5,
                                            4.1,
                                            4.5,
                                            3.9,
                                            4.8,
                                            4,
                                            4.9,
                                            4.7,
                                            4.3,
                                            4.4,
                                            4.8,
                                            5,
                                            4.5,
                                            3.5,
                                            3.8,
                                            3.7,
                                            3.9,
                                            5.1,
                                            4.5,
                                            4.5,
                                            4.7,
                                            4.4,
                                            4.1,
                                            4,
                                            4.4,
                                            4.6,
                                            4,
                                            3.3,
                                            4.2,
                                            4.2,
                                            4.2,
                                            4.3,
                                            3,
                                            4.1
                                        ],
                                        "sizemode": "area",
                                        "sizeref": 0.01725,
                                        "symbol": "circle"
                                    },
                                    "mode": "markers",
                                    "name": "versicolor",
                                    "orientation": "v",
                                    "showlegend": true,
                                    "x": [
                                        3.2,
                                        3.2,
                                        3.1,
                                        2.3,
                                        2.8,
                                        2.8,
                                        3.3,
                                        2.4,
                                        2.9,
                                        2.7,
                                        2,
                                        3,
                                        2.2,
                                        2.9,
                                        2.9,
                                        3.1,
                                        3,
                                        2.7,
                                        2.2,
                                        2.5,
                                        3.2,
                                        2.8,
                                        2.5,
                                        2.8,
                                        2.9,
                                        3,
                                        2.8,
                                        3,
                                        2.9,
                                        2.6,
                                        2.4,
                                        2.4,
                                        2.7,
                                        2.7,
                                        3,
                                        3.4,
                                        3.1,
                                        2.3,
                                        3,
                                        2.5,
                                        2.6,
                                        3,
                                        2.6,
                                        2.3,
                                        2.7,
                                        3,
                                        2.9,
                                        2.9,
                                        2.5,
                                        2.8
                                    ],
                                    "xaxis": "x",
                                    "y": [
                                        7,
                                        6.4,
                                        6.9,
                                        5.5,
                                        6.5,
                                        5.7,
                                        6.3,
                                        4.9,
                                        6.6,
                                        5.2,
                                        5,
                                        5.9,
                                        6,
                                        6.1,
                                        5.6,
                                        6.7,
                                        5.6,
                                        5.8,
                                        6.2,
                                        5.6,
                                        5.9,
                                        6.1,
                                        6.3,
                                        6.1,
                                        6.4,
                                        6.6,
                                        6.8,
                                        6.7,
                                        6,
                                        5.7,
                                        5.5,
                                        5.5,
                                        5.8,
                                        6,
                                        5.4,
                                        6,
                                        6.7,
                                        6.3,
                                        5.6,
                                        5.5,
                                        5.5,
                                        6.1,
                                        5.8,
                                        5,
                                        5.6,
                                        5.7,
                                        5.7,
                                        6.2,
                                        5.1,
                                        5.7
                                    ],
                                    "yaxis": "y",
                                    "type": "scatter"
                                },
                                {
                                    "hovertemplate": "species=virginica<br>sepal_width=%{x}<br>sepal_length=%{y}<br>petal_length=%{marker.size}<extra></extra>",
                                    "legendgroup": "virginica",
                                    "marker": {
                                        "color": "#00cc96",
                                        "size": [
                                            6,
                                            5.1,
                                            5.9,
                                            5.6,
                                            5.8,
                                            6.6,
                                            4.5,
                                            6.3,
                                            5.8,
                                            6.1,
                                            5.1,
                                            5.3,
                                            5.5,
                                            5,
                                            5.1,
                                            5.3,
                                            5.5,
                                            6.7,
                                            6.9,
                                            5,
                                            5.7,
                                            4.9,
                                            6.7,
                                            4.9,
                                            5.7,
                                            6,
                                            4.8,
                                            4.9,
                                            5.6,
                                            5.8,
                                            6.1,
                                            6.4,
                                            5.6,
                                            5.1,
                                            5.6,
                                            6.1,
                                            5.6,
                                            5.5,
                                            4.8,
                                            5.4,
                                            5.6,
                                            5.1,
                                            5.1,
                                            5.9,
                                            5.7,
                                            5.2,
                                            5,
                                            5.2,
                                            5.4,
                                            5.1
                                        ],
                                        "sizemode": "area",
                                        "sizeref": 0.01725,
                                        "symbol": "circle"
                                    },
                                    "mode": "markers",
                                    "name": "virginica",
                                    "orientation": "v",
                                    "showlegend": true,
                                    "x": [
                                        3.3,
                                        2.7,
                                        3,
                                        2.9,
                                        3,
                                        3,
                                        2.5,
                                        2.9,
                                        2.5,
                                        3.6,
                                        3.2,
                                        2.7,
                                        3,
                                        2.5,
                                        2.8,
                                        3.2,
                                        3,
                                        3.8,
                                        2.6,
                                        2.2,
                                        3.2,
                                        2.8,
                                        2.8,
                                        2.7,
                                        3.3,
                                        3.2,
                                        2.8,
                                        3,
                                        2.8,
                                        3,
                                        2.8,
                                        3.8,
                                        2.8,
                                        2.8,
                                        2.6,
                                        3,
                                        3.4,
                                        3.1,
                                        3,
                                        3.1,
                                        3.1,
                                        3.1,
                                        2.7,
                                        3.2,
                                        3.3,
                                        3,
                                        2.5,
                                        3,
                                        3.4,
                                        3
                                    ],
                                    "xaxis": "x",
                                    "y": [
                                        6.3,
                                        5.8,
                                        7.1,
                                        6.3,
                                        6.5,
                                        7.6,
                                        4.9,
                                        7.3,
                                        6.7,
                                        7.2,
                                        6.5,
                                        6.4,
                                        6.8,
                                        5.7,
                                        5.8,
                                        6.4,
                                        6.5,
                                        7.7,
                                        7.7,
                                        6,
                                        6.9,
                                        5.6,
                                        7.7,
                                        6.3,
                                        6.7,
                                        7.2,
                                        6.2,
                                        6.1,
                                        6.4,
                                        7.2,
                                        7.4,
                                        7.9,
                                        6.4,
                                        6.3,
                                        6.1,
                                        7.7,
                                        6.3,
                                        6.4,
                                        6,
                                        6.9,
                                        6.7,
                                        6.9,
                                        5.8,
                                        6.8,
                                        6.7,
                                        6.7,
                                        6.3,
                                        6.5,
                                        6.2,
                                        5.9
                                    ],
                                    "yaxis": "y",
                                    "type": "scatter"
                                }
                            ],
                            "layout": {
                                "template": {
                                    "data": {
                                        "histogram2dcontour": [
                                            {
                                                "type": "histogram2dcontour",
                                                "colorbar": {
                                                    "outlinewidth": 0,
                                                    "ticks": ""
                                                },
                                                "colorscale": [
                                                    [
                                                        0,
                                                        "#0d0887"
                                                    ],
                                                    [
                                                        0.1111111111111111,
                                                        "#46039f"
                                                    ],
                                                    [
                                                        0.2222222222222222,
                                                        "#7201a8"
                                                    ],
                                                    [
                                                        0.3333333333333333,
                                                        "#9c179e"
                                                    ],
                                                    [
                                                        0.4444444444444444,
                                                        "#bd3786"
                                                    ],
                                                    [
                                                        0.5555555555555556,
                                                        "#d8576b"
                                                    ],
                                                    [
                                                        0.6666666666666666,
                                                        "#ed7953"
                                                    ],
                                                    [
                                                        0.7777777777777778,
                                                        "#fb9f3a"
                                                    ],
                                                    [
                                                        0.8888888888888888,
                                                        "#fdca26"
                                                    ],
                                                    [
                                                        1,
                                                        "#f0f921"
                                                    ]
                                                ]
                                            }
                                        ],
                                        "choropleth": [
                                            {
                                                "type": "choropleth",
                                                "colorbar": {
                                                    "outlinewidth": 0,
                                                    "ticks": ""
                                                }
                                            }
                                        ],
                                        "histogram2d": [
                                            {
                                                "type": "histogram2d",
                                                "colorbar": {
                                                    "outlinewidth": 0,
                                                    "ticks": ""
                                                },
                                                "colorscale": [
                                                    [
                                                        0,
                                                        "#0d0887"
                                                    ],
                                                    [
                                                        0.1111111111111111,
                                                        "#46039f"
                                                    ],
                                                    [
                                                        0.2222222222222222,
                                                        "#7201a8"
                                                    ],
                                                    [
                                                        0.3333333333333333,
                                                        "#9c179e"
                                                    ],
                                                    [
                                                        0.4444444444444444,
                                                        "#bd3786"
                                                    ],
                                                    [
                                                        0.5555555555555556,
                                                        "#d8576b"
                                                    ],
                                                    [
                                                        0.6666666666666666,
                                                        "#ed7953"
                                                    ],
                                                    [
                                                        0.7777777777777778,
                                                        "#fb9f3a"
                                                    ],
                                                    [
                                                        0.8888888888888888,
                                                        "#fdca26"
                                                    ],
                                                    [
                                                        1,
                                                        "#f0f921"
                                                    ]
                                                ]
                                            }
                                        ],
                                        "heatmap": [
                                            {
                                                "type": "heatmap",
                                                "colorbar": {
                                                    "outlinewidth": 0,
                                                    "ticks": ""
                                                },
                                                "colorscale": [
                                                    [
                                                        0,
                                                        "#0d0887"
                                                    ],
                                                    [
                                                        0.1111111111111111,
                                                        "#46039f"
                                                    ],
                                                    [
                                                        0.2222222222222222,
                                                        "#7201a8"
                                                    ],
                                                    [
                                                        0.3333333333333333,
                                                        "#9c179e"
                                                    ],
                                                    [
                                                        0.4444444444444444,
                                                        "#bd3786"
                                                    ],
                                                    [
                                                        0.5555555555555556,
                                                        "#d8576b"
                                                    ],
                                                    [
                                                        0.6666666666666666,
                                                        "#ed7953"
                                                    ],
                                                    [
                                                        0.7777777777777778,
                                                        "#fb9f3a"
                                                    ],
                                                    [
                                                        0.8888888888888888,
                                                        "#fdca26"
                                                    ],
                                                    [
                                                        1,
                                                        "#f0f921"
                                                    ]
                                                ]
                                            }
                                        ],
                                        "heatmapgl": [
                                            {
                                                "type": "heatmapgl",
                                                "colorbar": {
                                                    "outlinewidth": 0,
                                                    "ticks": ""
                                                },
                                                "colorscale": [
                                                    [
                                                        0,
                                                        "#0d0887"
                                                    ],
                                                    [
                                                        0.1111111111111111,
                                                        "#46039f"
                                                    ],
                                                    [
                                                        0.2222222222222222,
                                                        "#7201a8"
                                                    ],
                                                    [
                                                        0.3333333333333333,
                                                        "#9c179e"
                                                    ],
                                                    [
                                                        0.4444444444444444,
                                                        "#bd3786"
                                                    ],
                                                    [
                                                        0.5555555555555556,
                                                        "#d8576b"
                                                    ],
                                                    [
                                                        0.6666666666666666,
                                                        "#ed7953"
                                                    ],
                                                    [
                                                        0.7777777777777778,
                                                        "#fb9f3a"
                                                    ],
                                                    [
                                                        0.8888888888888888,
                                                        "#fdca26"
                                                    ],
                                                    [
                                                        1,
                                                        "#f0f921"
                                                    ]
                                                ]
                                            }
                                        ],
                                        "contourcarpet": [
                                            {
                                                "type": "contourcarpet",
                                                "colorbar": {
                                                    "outlinewidth": 0,
                                                    "ticks": ""
                                                }
                                            }
                                        ],
                                        "contour": [
                                            {
                                                "type": "contour",
                                                "colorbar": {
                                                    "outlinewidth": 0,
                                                    "ticks": ""
                                                },
                                                "colorscale": [
                                                    [
                                                        0,
                                                        "#0d0887"
                                                    ],
                                                    [
                                                        0.1111111111111111,
                                                        "#46039f"
                                                    ],
                                                    [
                                                        0.2222222222222222,
                                                        "#7201a8"
                                                    ],
                                                    [
                                                        0.3333333333333333,
                                                        "#9c179e"
                                                    ],
                                                    [
                                                        0.4444444444444444,
                                                        "#bd3786"
                                                    ],
                                                    [
                                                        0.5555555555555556,
                                                        "#d8576b"
                                                    ],
                                                    [
                                                        0.6666666666666666,
                                                        "#ed7953"
                                                    ],
                                                    [
                                                        0.7777777777777778,
                                                        "#fb9f3a"
                                                    ],
                                                    [
                                                        0.8888888888888888,
                                                        "#fdca26"
                                                    ],
                                                    [
                                                        1,
                                                        "#f0f921"
                                                    ]
                                                ]
                                            }
                                        ],
                                        "surface": [
                                            {
                                                "type": "surface",
                                                "colorbar": {
                                                    "outlinewidth": 0,
                                                    "ticks": ""
                                                },
                                                "colorscale": [
                                                    [
                                                        0,
                                                        "#0d0887"
                                                    ],
                                                    [
                                                        0.1111111111111111,
                                                        "#46039f"
                                                    ],
                                                    [
                                                        0.2222222222222222,
                                                        "#7201a8"
                                                    ],
                                                    [
                                                        0.3333333333333333,
                                                        "#9c179e"
                                                    ],
                                                    [
                                                        0.4444444444444444,
                                                        "#bd3786"
                                                    ],
                                                    [
                                                        0.5555555555555556,
                                                        "#d8576b"
                                                    ],
                                                    [
                                                        0.6666666666666666,
                                                        "#ed7953"
                                                    ],
                                                    [
                                                        0.7777777777777778,
                                                        "#fb9f3a"
                                                    ],
                                                    [
                                                        0.8888888888888888,
                                                        "#fdca26"
                                                    ],
                                                    [
                                                        1,
                                                        "#f0f921"
                                                    ]
                                                ]
                                            }
                                        ],
                                        "mesh3d": [
                                            {
                                                "type": "mesh3d",
                                                "colorbar": {
                                                    "outlinewidth": 0,
                                                    "ticks": ""
                                                }
                                            }
                                        ],
                                        "scatter": [
                                            {
                                                "fillpattern": {
                                                    "fillmode": "overlay",
                                                    "size": 10,
                                                    "solidity": 0.2
                                                },
                                                "type": "scatter"
                                            }
                                        ],
                                        "parcoords": [
                                            {
                                                "type": "parcoords",
                                                "line": {
                                                    "colorbar": {
                                                        "outlinewidth": 0,
                                                        "ticks": ""
                                                    }
                                                }
                                            }
                                        ],
                                        "scatterpolargl": [
                                            {
                                                "type": "scatterpolargl",
                                                "marker": {
                                                    "colorbar": {
                                                        "outlinewidth": 0,
                                                        "ticks": ""
                                                    }
                                                }
                                            }
                                        ],
                                        "bar": [
                                            {
                                                "error_x": {
                                                    "color": "#2a3f5f"
                                                },
                                                "error_y": {
                                                    "color": "#2a3f5f"
                                                },
                                                "marker": {
                                                    "line": {
                                                        "color": "#E5ECF6",
                                                        "width": 0.5
                                                    },
                                                    "pattern": {
                                                        "fillmode": "overlay",
                                                        "size": 10,
                                                        "solidity": 0.2
                                                    }
                                                },
                                                "type": "bar"
                                            }
                                        ],
                                        "scattergeo": [
                                            {
                                                "type": "scattergeo",
                                                "marker": {
                                                    "colorbar": {
                                                        "outlinewidth": 0,
                                                        "ticks": ""
                                                    }
                                                }
                                            }
                                        ],
                                        "scatterpolar": [
                                            {
                                                "type": "scatterpolar",
                                                "marker": {
                                                    "colorbar": {
                                                        "outlinewidth": 0,
                                                        "ticks": ""
                                                    }
                                                }
                                            }
                                        ],
                                        "histogram": [
                                            {
                                                "marker": {
                                                    "pattern": {
                                                        "fillmode": "overlay",
                                                        "size": 10,
                                                        "solidity": 0.2
                                                    }
                                                },
                                                "type": "histogram"
                                            }
                                        ],
                                        "scattergl": [
                                            {
                                                "type": "scattergl",
                                                "marker": {
                                                    "colorbar": {
                                                        "outlinewidth": 0,
                                                        "ticks": ""
                                                    }
                                                }
                                            }
                                        ],
                                        "scatter3d": [
                                            {
                                                "type": "scatter3d",
                                                "line": {
                                                    "colorbar": {
                                                        "outlinewidth": 0,
                                                        "ticks": ""
                                                    }
                                                },
                                                "marker": {
                                                    "colorbar": {
                                                        "outlinewidth": 0,
                                                        "ticks": ""
                                                    }
                                                }
                                            }
                                        ],
                                        "scattermapbox": [
                                            {
                                                "type": "scattermapbox",
                                                "marker": {
                                                    "colorbar": {
                                                        "outlinewidth": 0,
                                                        "ticks": ""
                                                    }
                                                }
                                            }
                                        ],
                                        "scatterternary": [
                                            {
                                                "type": "scatterternary",
                                                "marker": {
                                                    "colorbar": {
                                                        "outlinewidth": 0,
                                                        "ticks": ""
                                                    }
                                                }
                                            }
                                        ],
                                        "scattercarpet": [
                                            {
                                                "type": "scattercarpet",
                                                "marker": {
                                                    "colorbar": {
                                                        "outlinewidth": 0,
                                                        "ticks": ""
                                                    }
                                                }
                                            }
                                        ],
                                        "carpet": [
                                            {
                                                "aaxis": {
                                                    "endlinecolor": "#2a3f5f",
                                                    "gridcolor": "white",
                                                    "linecolor": "white",
                                                    "minorgridcolor": "white",
                                                    "startlinecolor": "#2a3f5f"
                                                },
                                                "baxis": {
                                                    "endlinecolor": "#2a3f5f",
                                                    "gridcolor": "white",
                                                    "linecolor": "white",
                                                    "minorgridcolor": "white",
                                                    "startlinecolor": "#2a3f5f"
                                                },
                                                "type": "carpet"
                                            }
                                        ],
                                        "table": [
                                            {
                                                "cells": {
                                                    "fill": {
                                                        "color": "#EBF0F8"
                                                    },
                                                    "line": {
                                                        "color": "white"
                                                    }
                                                },
                                                "header": {
                                                    "fill": {
                                                        "color": "#C8D4E3"
                                                    },
                                                    "line": {
                                                        "color": "white"
                                                    }
                                                },
                                                "type": "table"
                                            }
                                        ],
                                        "barpolar": [
                                            {
                                                "marker": {
                                                    "line": {
                                                        "color": "#E5ECF6",
                                                        "width": 0.5
                                                    },
                                                    "pattern": {
                                                        "fillmode": "overlay",
                                                        "size": 10,
                                                        "solidity": 0.2
                                                    }
                                                },
                                                "type": "barpolar"
                                            }
                                        ],
                                        "pie": [
                                            {
                                                "automargin": true,
                                                "type": "pie"
                                            }
                                        ]
                                    },
                                    "layout": {
                                        "autotypenumbers": "strict",
                                        "colorway": [
                                            "#636efa",
                                            "#EF553B",
                                            "#00cc96",
                                            "#ab63fa",
                                            "#FFA15A",
                                            "#19d3f3",
                                            "#FF6692",
                                            "#B6E880",
                                            "#FF97FF",
                                            "#FECB52"
                                        ],
                                        "font": {
                                            "color": "#2a3f5f"
                                        },
                                        "hovermode": "closest",
                                        "hoverlabel": {
                                            "align": "left"
                                        },
                                        "paper_bgcolor": "white",
                                        "plot_bgcolor": "#E5ECF6",
                                        "polar": {
                                            "bgcolor": "#E5ECF6",
                                            "angularaxis": {
                                                "gridcolor": "white",
                                                "linecolor": "white",
                                                "ticks": ""
                                            },
                                            "radialaxis": {
                                                "gridcolor": "white",
                                                "linecolor": "white",
                                                "ticks": ""
                                            }
                                        },
                                        "ternary": {
                                            "bgcolor": "#E5ECF6",
                                            "aaxis": {
                                                "gridcolor": "white",
                                                "linecolor": "white",
                                                "ticks": ""
                                            },
                                            "baxis": {
                                                "gridcolor": "white",
                                                "linecolor": "white",
                                                "ticks": ""
                                            },
                                            "caxis": {
                                                "gridcolor": "white",
                                                "linecolor": "white",
                                                "ticks": ""
                                            }
                                        },
                                        "coloraxis": {
                                            "colorbar": {
                                                "outlinewidth": 0,
                                                "ticks": ""
                                            }
                                        },
                                        "colorscale": {
                                            "sequential": [
                                                [
                                                    0,
                                                    "#0d0887"
                                                ],
                                                [
                                                    0.1111111111111111,
                                                    "#46039f"
                                                ],
                                                [
                                                    0.2222222222222222,
                                                    "#7201a8"
                                                ],
                                                [
                                                    0.3333333333333333,
                                                    "#9c179e"
                                                ],
                                                [
                                                    0.4444444444444444,
                                                    "#bd3786"
                                                ],
                                                [
                                                    0.5555555555555556,
                                                    "#d8576b"
                                                ],
                                                [
                                                    0.6666666666666666,
                                                    "#ed7953"
                                                ],
                                                [
                                                    0.7777777777777778,
                                                    "#fb9f3a"
                                                ],
                                                [
                                                    0.8888888888888888,
                                                    "#fdca26"
                                                ],
                                                [
                                                    1,
                                                    "#f0f921"
                                                ]
                                            ],
                                            "sequentialminus": [
                                                [
                                                    0,
                                                    "#0d0887"
                                                ],
                                                [
                                                    0.1111111111111111,
                                                    "#46039f"
                                                ],
                                                [
                                                    0.2222222222222222,
                                                    "#7201a8"
                                                ],
                                                [
                                                    0.3333333333333333,
                                                    "#9c179e"
                                                ],
                                                [
                                                    0.4444444444444444,
                                                    "#bd3786"
                                                ],
                                                [
                                                    0.5555555555555556,
                                                    "#d8576b"
                                                ],
                                                [
                                                    0.6666666666666666,
                                                    "#ed7953"
                                                ],
                                                [
                                                    0.7777777777777778,
                                                    "#fb9f3a"
                                                ],
                                                [
                                                    0.8888888888888888,
                                                    "#fdca26"
                                                ],
                                                [
                                                    1,
                                                    "#f0f921"
                                                ]
                                            ],
                                            "diverging": [
                                                [
                                                    0,
                                                    "#8e0152"
                                                ],
                                                [
                                                    0.1,
                                                    "#c51b7d"
                                                ],
                                                [
                                                    0.2,
                                                    "#de77ae"
                                                ],
                                                [
                                                    0.3,
                                                    "#f1b6da"
                                                ],
                                                [
                                                    0.4,
                                                    "#fde0ef"
                                                ],
                                                [
                                                    0.5,
                                                    "#f7f7f7"
                                                ],
                                                [
                                                    0.6,
                                                    "#e6f5d0"
                                                ],
                                                [
                                                    0.7,
                                                    "#b8e186"
                                                ],
                                                [
                                                    0.8,
                                                    "#7fbc41"
                                                ],
                                                [
                                                    0.9,
                                                    "#4d9221"
                                                ],
                                                [
                                                    1,
                                                    "#276419"
                                                ]
                                            ]
                                        },
                                        "xaxis": {
                                            "gridcolor": "white",
                                            "linecolor": "white",
                                            "ticks": "",
                                            "title": {
                                                "standoff": 15
                                            },
                                            "zerolinecolor": "white",
                                            "automargin": true,
                                            "zerolinewidth": 2
                                        },
                                        "yaxis": {
                                            "gridcolor": "white",
                                            "linecolor": "white",
                                            "ticks": "",
                                            "title": {
                                                "standoff": 15
                                            },
                                            "zerolinecolor": "white",
                                            "automargin": true,
                                            "zerolinewidth": 2
                                        },
                                        "scene": {
                                            "xaxis": {
                                                "backgroundcolor": "#E5ECF6",
                                                "gridcolor": "white",
                                                "linecolor": "white",
                                                "showbackground": true,
                                                "ticks": "",
                                                "zerolinecolor": "white",
                                                "gridwidth": 2
                                            },
                                            "yaxis": {
                                                "backgroundcolor": "#E5ECF6",
                                                "gridcolor": "white",
                                                "linecolor": "white",
                                                "showbackground": true,
                                                "ticks": "",
                                                "zerolinecolor": "white",
                                                "gridwidth": 2
                                            },
                                            "zaxis": {
                                                "backgroundcolor": "#E5ECF6",
                                                "gridcolor": "white",
                                                "linecolor": "white",
                                                "showbackground": true,
                                                "ticks": "",
                                                "zerolinecolor": "white",
                                                "gridwidth": 2
                                            }
                                        },
                                        "shapedefaults": {
                                            "line": {
                                                "color": "#2a3f5f"
                                            }
                                        },
                                        "annotationdefaults": {
                                            "arrowcolor": "#2a3f5f",
                                            "arrowhead": 0,
                                            "arrowwidth": 1
                                        },
                                        "geo": {
                                            "bgcolor": "white",
                                            "landcolor": "#E5ECF6",
                                            "subunitcolor": "white",
                                            "showland": true,
                                            "showlakes": true,
                                            "lakecolor": "white"
                                        },
                                        "title": {
                                            "x": 0.05
                                        },
                                        "mapbox": {
                                            "style": "light"
                                        }
                                    }
                                },
                                "xaxis": {
                                    "anchor": "y",
                                    "domain": [
                                        0,
                                        1
                                    ],
                                    "title": {
                                        "text": "sepal_width"
                                    }
                                },
                                "yaxis": {
                                    "anchor": "x",
                                    "domain": [
                                        0,
                                        1
                                    ],
                                    "title": {
                                        "text": "sepal_length"
                                    }
                                },
                                "legend": {
                                    "title": {
                                        "text": "species"
                                    },
                                    "tracegroupgap": 0,
                                    "itemsizing": "constant"
                                },
                                "margin": {
                                    "t": 60
                                }
                            },
                            "config": {
                                "plotlyServerURL": "https://plot.ly"
                            }
                        }
                    },
                    "metadata": {},
                    "output_type": "display_data"
                }
            ],
            "execution_count": 1
        },
        {
            "cell_type": "markdown",
            "source": [
                "In this example, the `scatter` function from Plotly Express is used to create a scatter plot. The `color` and `size` parameters allow for additional dimensions to be visualized.\n",
                "\n",
                "##### Bar Chart:\n",
                "Creating a bar chart in Plotly is straightforward:"
            ],
            "metadata": {
                "language": "python",
                "azdata_cell_guid": "f4262ff9-1d71-4a41-9141-bde06371afbc"
            },
            "attachments": {}
        },
        {
            "cell_type": "code",
            "source": [
                "import plotly.express as px\n",
                "import plotly.io as pio\n",
                "\n",
                "# Example data\n",
                "data = px.data.tips()\n",
                "\n",
                "# Creating a bar chart\n",
                "fig = px.bar(data, x='day', y='total_bill', color='sex', barmode='group')\n",
                "\n",
                "# Show the plot\n",
                "pio.show(fig)"
            ],
            "metadata": {
                "language": "python",
                "azdata_cell_guid": "2424dfda-0ba6-4833-9d3f-0bef8b9b633b"
            },
            "outputs": [
                {
                    "data": {
                        "application/vnd.plotly.v1+json": {
                            "data": [
                                {
                                    "alignmentgroup": "True",
                                    "hovertemplate": "sex=Female<br>day=%{x}<br>total_bill=%{y}<extra></extra>",
                                    "legendgroup": "Female",
                                    "marker": {
                                        "color": "#636efa",
                                        "pattern": {
                                            "shape": ""
                                        }
                                    },
                                    "name": "Female",
                                    "offsetgroup": "Female",
                                    "orientation": "v",
                                    "showlegend": true,
                                    "textposition": "auto",
                                    "x": [
                                        "Sun",
                                        "Sun",
                                        "Sun",
                                        "Sun",
                                        "Sun",
                                        "Sun",
                                        "Sat",
                                        "Sat",
                                        "Sat",
                                        "Sat",
                                        "Sat",
                                        "Sat",
                                        "Sun",
                                        "Sun",
                                        "Sat",
                                        "Sat",
                                        "Sat",
                                        "Sat",
                                        "Sat",
                                        "Sat",
                                        "Sat",
                                        "Thur",
                                        "Thur",
                                        "Fri",
                                        "Fri",
                                        "Fri",
                                        "Fri",
                                        "Fri",
                                        "Sat",
                                        "Sat",
                                        "Sat",
                                        "Sat",
                                        "Sat",
                                        "Sun",
                                        "Sun",
                                        "Thur",
                                        "Thur",
                                        "Thur",
                                        "Thur",
                                        "Thur",
                                        "Thur",
                                        "Thur",
                                        "Thur",
                                        "Thur",
                                        "Thur",
                                        "Thur",
                                        "Thur",
                                        "Thur",
                                        "Thur",
                                        "Thur",
                                        "Thur",
                                        "Thur",
                                        "Thur",
                                        "Thur",
                                        "Thur",
                                        "Thur",
                                        "Thur",
                                        "Sun",
                                        "Sun",
                                        "Sun",
                                        "Sun",
                                        "Sun",
                                        "Sat",
                                        "Sat",
                                        "Sun",
                                        "Sun",
                                        "Sun",
                                        "Thur",
                                        "Thur",
                                        "Thur",
                                        "Thur",
                                        "Thur",
                                        "Thur",
                                        "Thur",
                                        "Sat",
                                        "Sat",
                                        "Sat",
                                        "Sat",
                                        "Sat",
                                        "Fri",
                                        "Fri",
                                        "Fri",
                                        "Fri",
                                        "Sat",
                                        "Sat",
                                        "Sat",
                                        "Thur"
                                    ],
                                    "xaxis": "x",
                                    "y": [
                                        16.99,
                                        24.59,
                                        35.26,
                                        14.83,
                                        10.33,
                                        16.97,
                                        20.29,
                                        15.77,
                                        19.65,
                                        15.06,
                                        20.69,
                                        16.93,
                                        10.29,
                                        34.81,
                                        26.41,
                                        16.45,
                                        3.07,
                                        17.07,
                                        26.86,
                                        25.28,
                                        14.73,
                                        10.07,
                                        34.83,
                                        5.75,
                                        16.32,
                                        22.75,
                                        11.35,
                                        15.38,
                                        44.3,
                                        22.42,
                                        20.92,
                                        14.31,
                                        7.25,
                                        25.71,
                                        17.31,
                                        10.65,
                                        12.43,
                                        24.08,
                                        13.42,
                                        12.48,
                                        29.8,
                                        14.52,
                                        11.38,
                                        20.27,
                                        11.17,
                                        12.26,
                                        18.26,
                                        8.51,
                                        10.33,
                                        14.15,
                                        13.16,
                                        17.47,
                                        27.05,
                                        16.43,
                                        8.35,
                                        18.64,
                                        11.87,
                                        29.85,
                                        25,
                                        13.39,
                                        16.21,
                                        17.51,
                                        10.59,
                                        10.63,
                                        9.6,
                                        20.9,
                                        18.15,
                                        19.81,
                                        43.11,
                                        13,
                                        12.74,
                                        13,
                                        16.4,
                                        16.47,
                                        12.76,
                                        13.27,
                                        28.17,
                                        12.9,
                                        30.14,
                                        13.42,
                                        15.98,
                                        16.27,
                                        10.09,
                                        22.12,
                                        35.83,
                                        27.18,
                                        18.78
                                    ],
                                    "yaxis": "y",
                                    "type": "bar"
                                },
                                {
                                    "alignmentgroup": "True",
                                    "hovertemplate": "sex=Male<br>day=%{x}<br>total_bill=%{y}<extra></extra>",
                                    "legendgroup": "Male",
                                    "marker": {
                                        "color": "#EF553B",
                                        "pattern": {
                                            "shape": ""
                                        }
                                    },
                                    "name": "Male",
                                    "offsetgroup": "Male",
                                    "orientation": "v",
                                    "showlegend": true,
                                    "textposition": "auto",
                                    "x": [
                                        "Sun",
                                        "Sun",
                                        "Sun",
                                        "Sun",
                                        "Sun",
                                        "Sun",
                                        "Sun",
                                        "Sun",
                                        "Sun",
                                        "Sun",
                                        "Sun",
                                        "Sun",
                                        "Sun",
                                        "Sat",
                                        "Sat",
                                        "Sat",
                                        "Sat",
                                        "Sat",
                                        "Sat",
                                        "Sat",
                                        "Sat",
                                        "Sat",
                                        "Sat",
                                        "Sat",
                                        "Sat",
                                        "Sat",
                                        "Sat",
                                        "Sat",
                                        "Sat",
                                        "Sun",
                                        "Sun",
                                        "Sun",
                                        "Sun",
                                        "Sun",
                                        "Sun",
                                        "Sun",
                                        "Sun",
                                        "Sun",
                                        "Sun",
                                        "Sun",
                                        "Sun",
                                        "Sun",
                                        "Sat",
                                        "Sat",
                                        "Sat",
                                        "Sat",
                                        "Sat",
                                        "Sat",
                                        "Sat",
                                        "Sat",
                                        "Sat",
                                        "Sat",
                                        "Sat",
                                        "Sat",
                                        "Sat",
                                        "Sat",
                                        "Thur",
                                        "Thur",
                                        "Thur",
                                        "Thur",
                                        "Thur",
                                        "Thur",
                                        "Thur",
                                        "Thur",
                                        "Thur",
                                        "Thur",
                                        "Thur",
                                        "Fri",
                                        "Fri",
                                        "Fri",
                                        "Fri",
                                        "Fri",
                                        "Fri",
                                        "Fri",
                                        "Sat",
                                        "Sat",
                                        "Sat",
                                        "Sat",
                                        "Sat",
                                        "Sun",
                                        "Sun",
                                        "Sun",
                                        "Thur",
                                        "Thur",
                                        "Thur",
                                        "Thur",
                                        "Thur",
                                        "Thur",
                                        "Thur",
                                        "Thur",
                                        "Thur",
                                        "Thur",
                                        "Thur",
                                        "Sun",
                                        "Sun",
                                        "Sun",
                                        "Sun",
                                        "Sun",
                                        "Sun",
                                        "Sun",
                                        "Sun",
                                        "Sun",
                                        "Sun",
                                        "Sun",
                                        "Sun",
                                        "Sun",
                                        "Sat",
                                        "Sat",
                                        "Sun",
                                        "Sun",
                                        "Sun",
                                        "Sun",
                                        "Sun",
                                        "Sun",
                                        "Sun",
                                        "Sun",
                                        "Sun",
                                        "Sun",
                                        "Sun",
                                        "Sun",
                                        "Sun",
                                        "Sun",
                                        "Sun",
                                        "Sun",
                                        "Thur",
                                        "Thur",
                                        "Thur",
                                        "Thur",
                                        "Thur",
                                        "Thur",
                                        "Thur",
                                        "Thur",
                                        "Sat",
                                        "Sat",
                                        "Sat",
                                        "Sat",
                                        "Sat",
                                        "Sat",
                                        "Sat",
                                        "Sat",
                                        "Sat",
                                        "Fri",
                                        "Fri",
                                        "Fri",
                                        "Sat",
                                        "Sat",
                                        "Sat",
                                        "Sat",
                                        "Sat",
                                        "Sat",
                                        "Sat",
                                        "Sat",
                                        "Sat",
                                        "Sat",
                                        "Sat",
                                        "Sat",
                                        "Sat"
                                    ],
                                    "xaxis": "x",
                                    "y": [
                                        10.34,
                                        21.01,
                                        23.68,
                                        25.29,
                                        8.77,
                                        26.88,
                                        15.04,
                                        14.78,
                                        10.27,
                                        15.42,
                                        18.43,
                                        21.58,
                                        16.29,
                                        20.65,
                                        17.92,
                                        39.42,
                                        19.82,
                                        17.81,
                                        13.37,
                                        12.69,
                                        21.7,
                                        9.55,
                                        18.35,
                                        17.78,
                                        24.06,
                                        16.31,
                                        18.69,
                                        31.27,
                                        16.04,
                                        17.46,
                                        13.94,
                                        9.68,
                                        30.4,
                                        18.29,
                                        22.23,
                                        32.4,
                                        28.55,
                                        18.04,
                                        12.54,
                                        9.94,
                                        25.56,
                                        19.49,
                                        38.01,
                                        11.24,
                                        48.27,
                                        20.29,
                                        13.81,
                                        11.02,
                                        18.29,
                                        17.59,
                                        20.08,
                                        20.23,
                                        15.01,
                                        12.02,
                                        10.51,
                                        17.92,
                                        27.2,
                                        22.76,
                                        17.29,
                                        19.44,
                                        16.66,
                                        32.68,
                                        15.98,
                                        13.03,
                                        18.28,
                                        24.71,
                                        21.16,
                                        28.97,
                                        22.49,
                                        40.17,
                                        27.28,
                                        12.03,
                                        21.01,
                                        12.46,
                                        15.36,
                                        20.49,
                                        25.21,
                                        18.24,
                                        14,
                                        38.07,
                                        23.95,
                                        29.93,
                                        11.69,
                                        14.26,
                                        15.95,
                                        8.52,
                                        22.82,
                                        19.08,
                                        16,
                                        34.3,
                                        41.19,
                                        9.78,
                                        7.51,
                                        14.07,
                                        13.13,
                                        17.26,
                                        24.55,
                                        19.77,
                                        48.17,
                                        16.49,
                                        21.5,
                                        12.66,
                                        13.81,
                                        24.52,
                                        20.76,
                                        31.71,
                                        50.81,
                                        15.81,
                                        7.25,
                                        31.85,
                                        16.82,
                                        32.9,
                                        17.89,
                                        14.48,
                                        34.63,
                                        34.65,
                                        23.33,
                                        45.35,
                                        23.17,
                                        40.55,
                                        20.69,
                                        30.46,
                                        23.1,
                                        15.69,
                                        28.44,
                                        15.48,
                                        16.58,
                                        7.56,
                                        10.34,
                                        13.51,
                                        18.71,
                                        20.53,
                                        26.59,
                                        38.73,
                                        24.27,
                                        30.06,
                                        25.89,
                                        48.33,
                                        28.15,
                                        11.59,
                                        7.74,
                                        12.16,
                                        8.58,
                                        13.42,
                                        20.45,
                                        13.28,
                                        24.01,
                                        15.69,
                                        11.61,
                                        10.77,
                                        15.53,
                                        10.07,
                                        12.6,
                                        32.83,
                                        29.03,
                                        22.67,
                                        17.82
                                    ],
                                    "yaxis": "y",
                                    "type": "bar"
                                }
                            ],
                            "layout": {
                                "template": {
                                    "data": {
                                        "histogram2dcontour": [
                                            {
                                                "type": "histogram2dcontour",
                                                "colorbar": {
                                                    "outlinewidth": 0,
                                                    "ticks": ""
                                                },
                                                "colorscale": [
                                                    [
                                                        0,
                                                        "#0d0887"
                                                    ],
                                                    [
                                                        0.1111111111111111,
                                                        "#46039f"
                                                    ],
                                                    [
                                                        0.2222222222222222,
                                                        "#7201a8"
                                                    ],
                                                    [
                                                        0.3333333333333333,
                                                        "#9c179e"
                                                    ],
                                                    [
                                                        0.4444444444444444,
                                                        "#bd3786"
                                                    ],
                                                    [
                                                        0.5555555555555556,
                                                        "#d8576b"
                                                    ],
                                                    [
                                                        0.6666666666666666,
                                                        "#ed7953"
                                                    ],
                                                    [
                                                        0.7777777777777778,
                                                        "#fb9f3a"
                                                    ],
                                                    [
                                                        0.8888888888888888,
                                                        "#fdca26"
                                                    ],
                                                    [
                                                        1,
                                                        "#f0f921"
                                                    ]
                                                ]
                                            }
                                        ],
                                        "choropleth": [
                                            {
                                                "type": "choropleth",
                                                "colorbar": {
                                                    "outlinewidth": 0,
                                                    "ticks": ""
                                                }
                                            }
                                        ],
                                        "histogram2d": [
                                            {
                                                "type": "histogram2d",
                                                "colorbar": {
                                                    "outlinewidth": 0,
                                                    "ticks": ""
                                                },
                                                "colorscale": [
                                                    [
                                                        0,
                                                        "#0d0887"
                                                    ],
                                                    [
                                                        0.1111111111111111,
                                                        "#46039f"
                                                    ],
                                                    [
                                                        0.2222222222222222,
                                                        "#7201a8"
                                                    ],
                                                    [
                                                        0.3333333333333333,
                                                        "#9c179e"
                                                    ],
                                                    [
                                                        0.4444444444444444,
                                                        "#bd3786"
                                                    ],
                                                    [
                                                        0.5555555555555556,
                                                        "#d8576b"
                                                    ],
                                                    [
                                                        0.6666666666666666,
                                                        "#ed7953"
                                                    ],
                                                    [
                                                        0.7777777777777778,
                                                        "#fb9f3a"
                                                    ],
                                                    [
                                                        0.8888888888888888,
                                                        "#fdca26"
                                                    ],
                                                    [
                                                        1,
                                                        "#f0f921"
                                                    ]
                                                ]
                                            }
                                        ],
                                        "heatmap": [
                                            {
                                                "type": "heatmap",
                                                "colorbar": {
                                                    "outlinewidth": 0,
                                                    "ticks": ""
                                                },
                                                "colorscale": [
                                                    [
                                                        0,
                                                        "#0d0887"
                                                    ],
                                                    [
                                                        0.1111111111111111,
                                                        "#46039f"
                                                    ],
                                                    [
                                                        0.2222222222222222,
                                                        "#7201a8"
                                                    ],
                                                    [
                                                        0.3333333333333333,
                                                        "#9c179e"
                                                    ],
                                                    [
                                                        0.4444444444444444,
                                                        "#bd3786"
                                                    ],
                                                    [
                                                        0.5555555555555556,
                                                        "#d8576b"
                                                    ],
                                                    [
                                                        0.6666666666666666,
                                                        "#ed7953"
                                                    ],
                                                    [
                                                        0.7777777777777778,
                                                        "#fb9f3a"
                                                    ],
                                                    [
                                                        0.8888888888888888,
                                                        "#fdca26"
                                                    ],
                                                    [
                                                        1,
                                                        "#f0f921"
                                                    ]
                                                ]
                                            }
                                        ],
                                        "heatmapgl": [
                                            {
                                                "type": "heatmapgl",
                                                "colorbar": {
                                                    "outlinewidth": 0,
                                                    "ticks": ""
                                                },
                                                "colorscale": [
                                                    [
                                                        0,
                                                        "#0d0887"
                                                    ],
                                                    [
                                                        0.1111111111111111,
                                                        "#46039f"
                                                    ],
                                                    [
                                                        0.2222222222222222,
                                                        "#7201a8"
                                                    ],
                                                    [
                                                        0.3333333333333333,
                                                        "#9c179e"
                                                    ],
                                                    [
                                                        0.4444444444444444,
                                                        "#bd3786"
                                                    ],
                                                    [
                                                        0.5555555555555556,
                                                        "#d8576b"
                                                    ],
                                                    [
                                                        0.6666666666666666,
                                                        "#ed7953"
                                                    ],
                                                    [
                                                        0.7777777777777778,
                                                        "#fb9f3a"
                                                    ],
                                                    [
                                                        0.8888888888888888,
                                                        "#fdca26"
                                                    ],
                                                    [
                                                        1,
                                                        "#f0f921"
                                                    ]
                                                ]
                                            }
                                        ],
                                        "contourcarpet": [
                                            {
                                                "type": "contourcarpet",
                                                "colorbar": {
                                                    "outlinewidth": 0,
                                                    "ticks": ""
                                                }
                                            }
                                        ],
                                        "contour": [
                                            {
                                                "type": "contour",
                                                "colorbar": {
                                                    "outlinewidth": 0,
                                                    "ticks": ""
                                                },
                                                "colorscale": [
                                                    [
                                                        0,
                                                        "#0d0887"
                                                    ],
                                                    [
                                                        0.1111111111111111,
                                                        "#46039f"
                                                    ],
                                                    [
                                                        0.2222222222222222,
                                                        "#7201a8"
                                                    ],
                                                    [
                                                        0.3333333333333333,
                                                        "#9c179e"
                                                    ],
                                                    [
                                                        0.4444444444444444,
                                                        "#bd3786"
                                                    ],
                                                    [
                                                        0.5555555555555556,
                                                        "#d8576b"
                                                    ],
                                                    [
                                                        0.6666666666666666,
                                                        "#ed7953"
                                                    ],
                                                    [
                                                        0.7777777777777778,
                                                        "#fb9f3a"
                                                    ],
                                                    [
                                                        0.8888888888888888,
                                                        "#fdca26"
                                                    ],
                                                    [
                                                        1,
                                                        "#f0f921"
                                                    ]
                                                ]
                                            }
                                        ],
                                        "surface": [
                                            {
                                                "type": "surface",
                                                "colorbar": {
                                                    "outlinewidth": 0,
                                                    "ticks": ""
                                                },
                                                "colorscale": [
                                                    [
                                                        0,
                                                        "#0d0887"
                                                    ],
                                                    [
                                                        0.1111111111111111,
                                                        "#46039f"
                                                    ],
                                                    [
                                                        0.2222222222222222,
                                                        "#7201a8"
                                                    ],
                                                    [
                                                        0.3333333333333333,
                                                        "#9c179e"
                                                    ],
                                                    [
                                                        0.4444444444444444,
                                                        "#bd3786"
                                                    ],
                                                    [
                                                        0.5555555555555556,
                                                        "#d8576b"
                                                    ],
                                                    [
                                                        0.6666666666666666,
                                                        "#ed7953"
                                                    ],
                                                    [
                                                        0.7777777777777778,
                                                        "#fb9f3a"
                                                    ],
                                                    [
                                                        0.8888888888888888,
                                                        "#fdca26"
                                                    ],
                                                    [
                                                        1,
                                                        "#f0f921"
                                                    ]
                                                ]
                                            }
                                        ],
                                        "mesh3d": [
                                            {
                                                "type": "mesh3d",
                                                "colorbar": {
                                                    "outlinewidth": 0,
                                                    "ticks": ""
                                                }
                                            }
                                        ],
                                        "scatter": [
                                            {
                                                "fillpattern": {
                                                    "fillmode": "overlay",
                                                    "size": 10,
                                                    "solidity": 0.2
                                                },
                                                "type": "scatter"
                                            }
                                        ],
                                        "parcoords": [
                                            {
                                                "type": "parcoords",
                                                "line": {
                                                    "colorbar": {
                                                        "outlinewidth": 0,
                                                        "ticks": ""
                                                    }
                                                }
                                            }
                                        ],
                                        "scatterpolargl": [
                                            {
                                                "type": "scatterpolargl",
                                                "marker": {
                                                    "colorbar": {
                                                        "outlinewidth": 0,
                                                        "ticks": ""
                                                    }
                                                }
                                            }
                                        ],
                                        "bar": [
                                            {
                                                "error_x": {
                                                    "color": "#2a3f5f"
                                                },
                                                "error_y": {
                                                    "color": "#2a3f5f"
                                                },
                                                "marker": {
                                                    "line": {
                                                        "color": "#E5ECF6",
                                                        "width": 0.5
                                                    },
                                                    "pattern": {
                                                        "fillmode": "overlay",
                                                        "size": 10,
                                                        "solidity": 0.2
                                                    }
                                                },
                                                "type": "bar"
                                            }
                                        ],
                                        "scattergeo": [
                                            {
                                                "type": "scattergeo",
                                                "marker": {
                                                    "colorbar": {
                                                        "outlinewidth": 0,
                                                        "ticks": ""
                                                    }
                                                }
                                            }
                                        ],
                                        "scatterpolar": [
                                            {
                                                "type": "scatterpolar",
                                                "marker": {
                                                    "colorbar": {
                                                        "outlinewidth": 0,
                                                        "ticks": ""
                                                    }
                                                }
                                            }
                                        ],
                                        "histogram": [
                                            {
                                                "marker": {
                                                    "pattern": {
                                                        "fillmode": "overlay",
                                                        "size": 10,
                                                        "solidity": 0.2
                                                    }
                                                },
                                                "type": "histogram"
                                            }
                                        ],
                                        "scattergl": [
                                            {
                                                "type": "scattergl",
                                                "marker": {
                                                    "colorbar": {
                                                        "outlinewidth": 0,
                                                        "ticks": ""
                                                    }
                                                }
                                            }
                                        ],
                                        "scatter3d": [
                                            {
                                                "type": "scatter3d",
                                                "line": {
                                                    "colorbar": {
                                                        "outlinewidth": 0,
                                                        "ticks": ""
                                                    }
                                                },
                                                "marker": {
                                                    "colorbar": {
                                                        "outlinewidth": 0,
                                                        "ticks": ""
                                                    }
                                                }
                                            }
                                        ],
                                        "scattermapbox": [
                                            {
                                                "type": "scattermapbox",
                                                "marker": {
                                                    "colorbar": {
                                                        "outlinewidth": 0,
                                                        "ticks": ""
                                                    }
                                                }
                                            }
                                        ],
                                        "scatterternary": [
                                            {
                                                "type": "scatterternary",
                                                "marker": {
                                                    "colorbar": {
                                                        "outlinewidth": 0,
                                                        "ticks": ""
                                                    }
                                                }
                                            }
                                        ],
                                        "scattercarpet": [
                                            {
                                                "type": "scattercarpet",
                                                "marker": {
                                                    "colorbar": {
                                                        "outlinewidth": 0,
                                                        "ticks": ""
                                                    }
                                                }
                                            }
                                        ],
                                        "carpet": [
                                            {
                                                "aaxis": {
                                                    "endlinecolor": "#2a3f5f",
                                                    "gridcolor": "white",
                                                    "linecolor": "white",
                                                    "minorgridcolor": "white",
                                                    "startlinecolor": "#2a3f5f"
                                                },
                                                "baxis": {
                                                    "endlinecolor": "#2a3f5f",
                                                    "gridcolor": "white",
                                                    "linecolor": "white",
                                                    "minorgridcolor": "white",
                                                    "startlinecolor": "#2a3f5f"
                                                },
                                                "type": "carpet"
                                            }
                                        ],
                                        "table": [
                                            {
                                                "cells": {
                                                    "fill": {
                                                        "color": "#EBF0F8"
                                                    },
                                                    "line": {
                                                        "color": "white"
                                                    }
                                                },
                                                "header": {
                                                    "fill": {
                                                        "color": "#C8D4E3"
                                                    },
                                                    "line": {
                                                        "color": "white"
                                                    }
                                                },
                                                "type": "table"
                                            }
                                        ],
                                        "barpolar": [
                                            {
                                                "marker": {
                                                    "line": {
                                                        "color": "#E5ECF6",
                                                        "width": 0.5
                                                    },
                                                    "pattern": {
                                                        "fillmode": "overlay",
                                                        "size": 10,
                                                        "solidity": 0.2
                                                    }
                                                },
                                                "type": "barpolar"
                                            }
                                        ],
                                        "pie": [
                                            {
                                                "automargin": true,
                                                "type": "pie"
                                            }
                                        ]
                                    },
                                    "layout": {
                                        "autotypenumbers": "strict",
                                        "colorway": [
                                            "#636efa",
                                            "#EF553B",
                                            "#00cc96",
                                            "#ab63fa",
                                            "#FFA15A",
                                            "#19d3f3",
                                            "#FF6692",
                                            "#B6E880",
                                            "#FF97FF",
                                            "#FECB52"
                                        ],
                                        "font": {
                                            "color": "#2a3f5f"
                                        },
                                        "hovermode": "closest",
                                        "hoverlabel": {
                                            "align": "left"
                                        },
                                        "paper_bgcolor": "white",
                                        "plot_bgcolor": "#E5ECF6",
                                        "polar": {
                                            "bgcolor": "#E5ECF6",
                                            "angularaxis": {
                                                "gridcolor": "white",
                                                "linecolor": "white",
                                                "ticks": ""
                                            },
                                            "radialaxis": {
                                                "gridcolor": "white",
                                                "linecolor": "white",
                                                "ticks": ""
                                            }
                                        },
                                        "ternary": {
                                            "bgcolor": "#E5ECF6",
                                            "aaxis": {
                                                "gridcolor": "white",
                                                "linecolor": "white",
                                                "ticks": ""
                                            },
                                            "baxis": {
                                                "gridcolor": "white",
                                                "linecolor": "white",
                                                "ticks": ""
                                            },
                                            "caxis": {
                                                "gridcolor": "white",
                                                "linecolor": "white",
                                                "ticks": ""
                                            }
                                        },
                                        "coloraxis": {
                                            "colorbar": {
                                                "outlinewidth": 0,
                                                "ticks": ""
                                            }
                                        },
                                        "colorscale": {
                                            "sequential": [
                                                [
                                                    0,
                                                    "#0d0887"
                                                ],
                                                [
                                                    0.1111111111111111,
                                                    "#46039f"
                                                ],
                                                [
                                                    0.2222222222222222,
                                                    "#7201a8"
                                                ],
                                                [
                                                    0.3333333333333333,
                                                    "#9c179e"
                                                ],
                                                [
                                                    0.4444444444444444,
                                                    "#bd3786"
                                                ],
                                                [
                                                    0.5555555555555556,
                                                    "#d8576b"
                                                ],
                                                [
                                                    0.6666666666666666,
                                                    "#ed7953"
                                                ],
                                                [
                                                    0.7777777777777778,
                                                    "#fb9f3a"
                                                ],
                                                [
                                                    0.8888888888888888,
                                                    "#fdca26"
                                                ],
                                                [
                                                    1,
                                                    "#f0f921"
                                                ]
                                            ],
                                            "sequentialminus": [
                                                [
                                                    0,
                                                    "#0d0887"
                                                ],
                                                [
                                                    0.1111111111111111,
                                                    "#46039f"
                                                ],
                                                [
                                                    0.2222222222222222,
                                                    "#7201a8"
                                                ],
                                                [
                                                    0.3333333333333333,
                                                    "#9c179e"
                                                ],
                                                [
                                                    0.4444444444444444,
                                                    "#bd3786"
                                                ],
                                                [
                                                    0.5555555555555556,
                                                    "#d8576b"
                                                ],
                                                [
                                                    0.6666666666666666,
                                                    "#ed7953"
                                                ],
                                                [
                                                    0.7777777777777778,
                                                    "#fb9f3a"
                                                ],
                                                [
                                                    0.8888888888888888,
                                                    "#fdca26"
                                                ],
                                                [
                                                    1,
                                                    "#f0f921"
                                                ]
                                            ],
                                            "diverging": [
                                                [
                                                    0,
                                                    "#8e0152"
                                                ],
                                                [
                                                    0.1,
                                                    "#c51b7d"
                                                ],
                                                [
                                                    0.2,
                                                    "#de77ae"
                                                ],
                                                [
                                                    0.3,
                                                    "#f1b6da"
                                                ],
                                                [
                                                    0.4,
                                                    "#fde0ef"
                                                ],
                                                [
                                                    0.5,
                                                    "#f7f7f7"
                                                ],
                                                [
                                                    0.6,
                                                    "#e6f5d0"
                                                ],
                                                [
                                                    0.7,
                                                    "#b8e186"
                                                ],
                                                [
                                                    0.8,
                                                    "#7fbc41"
                                                ],
                                                [
                                                    0.9,
                                                    "#4d9221"
                                                ],
                                                [
                                                    1,
                                                    "#276419"
                                                ]
                                            ]
                                        },
                                        "xaxis": {
                                            "gridcolor": "white",
                                            "linecolor": "white",
                                            "ticks": "",
                                            "title": {
                                                "standoff": 15
                                            },
                                            "zerolinecolor": "white",
                                            "automargin": true,
                                            "zerolinewidth": 2
                                        },
                                        "yaxis": {
                                            "gridcolor": "white",
                                            "linecolor": "white",
                                            "ticks": "",
                                            "title": {
                                                "standoff": 15
                                            },
                                            "zerolinecolor": "white",
                                            "automargin": true,
                                            "zerolinewidth": 2
                                        },
                                        "scene": {
                                            "xaxis": {
                                                "backgroundcolor": "#E5ECF6",
                                                "gridcolor": "white",
                                                "linecolor": "white",
                                                "showbackground": true,
                                                "ticks": "",
                                                "zerolinecolor": "white",
                                                "gridwidth": 2
                                            },
                                            "yaxis": {
                                                "backgroundcolor": "#E5ECF6",
                                                "gridcolor": "white",
                                                "linecolor": "white",
                                                "showbackground": true,
                                                "ticks": "",
                                                "zerolinecolor": "white",
                                                "gridwidth": 2
                                            },
                                            "zaxis": {
                                                "backgroundcolor": "#E5ECF6",
                                                "gridcolor": "white",
                                                "linecolor": "white",
                                                "showbackground": true,
                                                "ticks": "",
                                                "zerolinecolor": "white",
                                                "gridwidth": 2
                                            }
                                        },
                                        "shapedefaults": {
                                            "line": {
                                                "color": "#2a3f5f"
                                            }
                                        },
                                        "annotationdefaults": {
                                            "arrowcolor": "#2a3f5f",
                                            "arrowhead": 0,
                                            "arrowwidth": 1
                                        },
                                        "geo": {
                                            "bgcolor": "white",
                                            "landcolor": "#E5ECF6",
                                            "subunitcolor": "white",
                                            "showland": true,
                                            "showlakes": true,
                                            "lakecolor": "white"
                                        },
                                        "title": {
                                            "x": 0.05
                                        },
                                        "mapbox": {
                                            "style": "light"
                                        }
                                    }
                                },
                                "xaxis": {
                                    "anchor": "y",
                                    "domain": [
                                        0,
                                        1
                                    ],
                                    "title": {
                                        "text": "day"
                                    }
                                },
                                "yaxis": {
                                    "anchor": "x",
                                    "domain": [
                                        0,
                                        1
                                    ],
                                    "title": {
                                        "text": "total_bill"
                                    }
                                },
                                "legend": {
                                    "title": {
                                        "text": "sex"
                                    },
                                    "tracegroupgap": 0
                                },
                                "margin": {
                                    "t": 60
                                },
                                "barmode": "group"
                            },
                            "config": {
                                "plotlyServerURL": "https://plot.ly"
                            }
                        }
                    },
                    "metadata": {},
                    "output_type": "display_data"
                }
            ],
            "execution_count": 2
        },
        {
            "cell_type": "markdown",
            "source": [
                "Here, the `bar` function is utilized to create a bar chart. The `barmode` parameter is set to 'group' to create grouped bars.\n",
                "\n",
                "#### Interactive Capabilities:\n",
                "Plotly's strength lies in its interactive capabilities. Zooming, panning, and hover-over interactions come built-in with Plotly charts, providing a rich exploration experience.\n",
                "\n",
                "#### Conclusion:\n",
                "Plotly is a versatile library that adds interactivity and aesthetics to data visualizations. Whether creating basic charts or advanced interactive dashboards, Plotly is a valuable tool in the data scientist's toolkit."
            ],
            "metadata": {
                "language": "python",
                "azdata_cell_guid": "06592044-8fc3-4184-9d98-55e34b944393"
            },
            "attachments": {}
        },
        {
            "cell_type": "markdown",
            "source": [
                "### **`11. Interactive Line and Scatter Plots with Plotly`**"
            ],
            "metadata": {
                "language": "python",
                "azdata_cell_guid": "8161e325-0989-4667-bcdf-cd6b0ffa1467"
            },
            "attachments": {}
        },
        {
            "cell_type": "markdown",
            "source": [
                "#### Creating Interactive Line Plot:"
            ],
            "metadata": {
                "language": "python",
                "azdata_cell_guid": "5b3a4c9a-733d-4fb1-be47-fb9519564d77"
            },
            "attachments": {}
        },
        {
            "cell_type": "code",
            "source": [
                "import plotly.express as px\n",
                "import plotly.io as pio\n",
                "\n",
                "# Example data\n",
                "data = px.data.gapminder().query(\"country == 'India'\")\n",
                "\n",
                "# Creating an interactive line plot\n",
                "fig = px.line(data, x='year', y='gdpPercap', title='GDP Per Capita Over Time in India')\n",
                "\n",
                "# Customizing interactive features\n",
                "fig.update_layout(\n",
                "    xaxis=dict(title='Year'),\n",
                "    yaxis=dict(title='GDP Per Capita'),\n",
                "    hovermode='closest',  # Display closest data point on hover\n",
                "    template='plotly_dark'  # Dark theme for better visualization\n",
                ")\n",
                "\n",
                "# Show the plot\n",
                "pio.show(fig)"
            ],
            "metadata": {
                "language": "python",
                "azdata_cell_guid": "a8198493-ed34-45fb-8bf8-d1f4d7ecb516"
            },
            "outputs": [
                {
                    "data": {
                        "application/vnd.plotly.v1+json": {
                            "data": [
                                {
                                    "hovertemplate": "year=%{x}<br>gdpPercap=%{y}<extra></extra>",
                                    "legendgroup": "",
                                    "line": {
                                        "color": "#636efa",
                                        "dash": "solid"
                                    },
                                    "marker": {
                                        "symbol": "circle"
                                    },
                                    "mode": "lines",
                                    "name": "",
                                    "orientation": "v",
                                    "showlegend": false,
                                    "x": [
                                        1952,
                                        1957,
                                        1962,
                                        1967,
                                        1972,
                                        1977,
                                        1982,
                                        1987,
                                        1992,
                                        1997,
                                        2002,
                                        2007
                                    ],
                                    "xaxis": "x",
                                    "y": [
                                        546.5657493,
                                        590.061996,
                                        658.3471509,
                                        700.7706107000001,
                                        724.032527,
                                        813.3373230000002,
                                        855.7235377000002,
                                        976.5126756,
                                        1164.406809,
                                        1458.817442,
                                        1746.769454,
                                        2452.210407
                                    ],
                                    "yaxis": "y",
                                    "type": "scatter"
                                }
                            ],
                            "layout": {
                                "template": {
                                    "data": {
                                        "barpolar": [
                                            {
                                                "marker": {
                                                    "line": {
                                                        "color": "rgb(17,17,17)",
                                                        "width": 0.5
                                                    },
                                                    "pattern": {
                                                        "fillmode": "overlay",
                                                        "size": 10,
                                                        "solidity": 0.2
                                                    }
                                                },
                                                "type": "barpolar"
                                            }
                                        ],
                                        "bar": [
                                            {
                                                "error_x": {
                                                    "color": "#f2f5fa"
                                                },
                                                "error_y": {
                                                    "color": "#f2f5fa"
                                                },
                                                "marker": {
                                                    "line": {
                                                        "color": "rgb(17,17,17)",
                                                        "width": 0.5
                                                    },
                                                    "pattern": {
                                                        "fillmode": "overlay",
                                                        "size": 10,
                                                        "solidity": 0.2
                                                    }
                                                },
                                                "type": "bar"
                                            }
                                        ],
                                        "carpet": [
                                            {
                                                "aaxis": {
                                                    "endlinecolor": "#A2B1C6",
                                                    "gridcolor": "#506784",
                                                    "linecolor": "#506784",
                                                    "minorgridcolor": "#506784",
                                                    "startlinecolor": "#A2B1C6"
                                                },
                                                "baxis": {
                                                    "endlinecolor": "#A2B1C6",
                                                    "gridcolor": "#506784",
                                                    "linecolor": "#506784",
                                                    "minorgridcolor": "#506784",
                                                    "startlinecolor": "#A2B1C6"
                                                },
                                                "type": "carpet"
                                            }
                                        ],
                                        "choropleth": [
                                            {
                                                "colorbar": {
                                                    "outlinewidth": 0,
                                                    "ticks": ""
                                                },
                                                "type": "choropleth"
                                            }
                                        ],
                                        "contourcarpet": [
                                            {
                                                "colorbar": {
                                                    "outlinewidth": 0,
                                                    "ticks": ""
                                                },
                                                "type": "contourcarpet"
                                            }
                                        ],
                                        "contour": [
                                            {
                                                "colorbar": {
                                                    "outlinewidth": 0,
                                                    "ticks": ""
                                                },
                                                "colorscale": [
                                                    [
                                                        0,
                                                        "#0d0887"
                                                    ],
                                                    [
                                                        0.1111111111111111,
                                                        "#46039f"
                                                    ],
                                                    [
                                                        0.2222222222222222,
                                                        "#7201a8"
                                                    ],
                                                    [
                                                        0.3333333333333333,
                                                        "#9c179e"
                                                    ],
                                                    [
                                                        0.4444444444444444,
                                                        "#bd3786"
                                                    ],
                                                    [
                                                        0.5555555555555556,
                                                        "#d8576b"
                                                    ],
                                                    [
                                                        0.6666666666666666,
                                                        "#ed7953"
                                                    ],
                                                    [
                                                        0.7777777777777778,
                                                        "#fb9f3a"
                                                    ],
                                                    [
                                                        0.8888888888888888,
                                                        "#fdca26"
                                                    ],
                                                    [
                                                        1,
                                                        "#f0f921"
                                                    ]
                                                ],
                                                "type": "contour"
                                            }
                                        ],
                                        "heatmapgl": [
                                            {
                                                "colorbar": {
                                                    "outlinewidth": 0,
                                                    "ticks": ""
                                                },
                                                "colorscale": [
                                                    [
                                                        0,
                                                        "#0d0887"
                                                    ],
                                                    [
                                                        0.1111111111111111,
                                                        "#46039f"
                                                    ],
                                                    [
                                                        0.2222222222222222,
                                                        "#7201a8"
                                                    ],
                                                    [
                                                        0.3333333333333333,
                                                        "#9c179e"
                                                    ],
                                                    [
                                                        0.4444444444444444,
                                                        "#bd3786"
                                                    ],
                                                    [
                                                        0.5555555555555556,
                                                        "#d8576b"
                                                    ],
                                                    [
                                                        0.6666666666666666,
                                                        "#ed7953"
                                                    ],
                                                    [
                                                        0.7777777777777778,
                                                        "#fb9f3a"
                                                    ],
                                                    [
                                                        0.8888888888888888,
                                                        "#fdca26"
                                                    ],
                                                    [
                                                        1,
                                                        "#f0f921"
                                                    ]
                                                ],
                                                "type": "heatmapgl"
                                            }
                                        ],
                                        "heatmap": [
                                            {
                                                "colorbar": {
                                                    "outlinewidth": 0,
                                                    "ticks": ""
                                                },
                                                "colorscale": [
                                                    [
                                                        0,
                                                        "#0d0887"
                                                    ],
                                                    [
                                                        0.1111111111111111,
                                                        "#46039f"
                                                    ],
                                                    [
                                                        0.2222222222222222,
                                                        "#7201a8"
                                                    ],
                                                    [
                                                        0.3333333333333333,
                                                        "#9c179e"
                                                    ],
                                                    [
                                                        0.4444444444444444,
                                                        "#bd3786"
                                                    ],
                                                    [
                                                        0.5555555555555556,
                                                        "#d8576b"
                                                    ],
                                                    [
                                                        0.6666666666666666,
                                                        "#ed7953"
                                                    ],
                                                    [
                                                        0.7777777777777778,
                                                        "#fb9f3a"
                                                    ],
                                                    [
                                                        0.8888888888888888,
                                                        "#fdca26"
                                                    ],
                                                    [
                                                        1,
                                                        "#f0f921"
                                                    ]
                                                ],
                                                "type": "heatmap"
                                            }
                                        ],
                                        "histogram2dcontour": [
                                            {
                                                "colorbar": {
                                                    "outlinewidth": 0,
                                                    "ticks": ""
                                                },
                                                "colorscale": [
                                                    [
                                                        0,
                                                        "#0d0887"
                                                    ],
                                                    [
                                                        0.1111111111111111,
                                                        "#46039f"
                                                    ],
                                                    [
                                                        0.2222222222222222,
                                                        "#7201a8"
                                                    ],
                                                    [
                                                        0.3333333333333333,
                                                        "#9c179e"
                                                    ],
                                                    [
                                                        0.4444444444444444,
                                                        "#bd3786"
                                                    ],
                                                    [
                                                        0.5555555555555556,
                                                        "#d8576b"
                                                    ],
                                                    [
                                                        0.6666666666666666,
                                                        "#ed7953"
                                                    ],
                                                    [
                                                        0.7777777777777778,
                                                        "#fb9f3a"
                                                    ],
                                                    [
                                                        0.8888888888888888,
                                                        "#fdca26"
                                                    ],
                                                    [
                                                        1,
                                                        "#f0f921"
                                                    ]
                                                ],
                                                "type": "histogram2dcontour"
                                            }
                                        ],
                                        "histogram2d": [
                                            {
                                                "colorbar": {
                                                    "outlinewidth": 0,
                                                    "ticks": ""
                                                },
                                                "colorscale": [
                                                    [
                                                        0,
                                                        "#0d0887"
                                                    ],
                                                    [
                                                        0.1111111111111111,
                                                        "#46039f"
                                                    ],
                                                    [
                                                        0.2222222222222222,
                                                        "#7201a8"
                                                    ],
                                                    [
                                                        0.3333333333333333,
                                                        "#9c179e"
                                                    ],
                                                    [
                                                        0.4444444444444444,
                                                        "#bd3786"
                                                    ],
                                                    [
                                                        0.5555555555555556,
                                                        "#d8576b"
                                                    ],
                                                    [
                                                        0.6666666666666666,
                                                        "#ed7953"
                                                    ],
                                                    [
                                                        0.7777777777777778,
                                                        "#fb9f3a"
                                                    ],
                                                    [
                                                        0.8888888888888888,
                                                        "#fdca26"
                                                    ],
                                                    [
                                                        1,
                                                        "#f0f921"
                                                    ]
                                                ],
                                                "type": "histogram2d"
                                            }
                                        ],
                                        "histogram": [
                                            {
                                                "marker": {
                                                    "pattern": {
                                                        "fillmode": "overlay",
                                                        "size": 10,
                                                        "solidity": 0.2
                                                    }
                                                },
                                                "type": "histogram"
                                            }
                                        ],
                                        "mesh3d": [
                                            {
                                                "colorbar": {
                                                    "outlinewidth": 0,
                                                    "ticks": ""
                                                },
                                                "type": "mesh3d"
                                            }
                                        ],
                                        "parcoords": [
                                            {
                                                "line": {
                                                    "colorbar": {
                                                        "outlinewidth": 0,
                                                        "ticks": ""
                                                    }
                                                },
                                                "type": "parcoords"
                                            }
                                        ],
                                        "pie": [
                                            {
                                                "automargin": true,
                                                "type": "pie"
                                            }
                                        ],
                                        "scatter3d": [
                                            {
                                                "line": {
                                                    "colorbar": {
                                                        "outlinewidth": 0,
                                                        "ticks": ""
                                                    }
                                                },
                                                "marker": {
                                                    "colorbar": {
                                                        "outlinewidth": 0,
                                                        "ticks": ""
                                                    }
                                                },
                                                "type": "scatter3d"
                                            }
                                        ],
                                        "scattercarpet": [
                                            {
                                                "marker": {
                                                    "colorbar": {
                                                        "outlinewidth": 0,
                                                        "ticks": ""
                                                    }
                                                },
                                                "type": "scattercarpet"
                                            }
                                        ],
                                        "scattergeo": [
                                            {
                                                "marker": {
                                                    "colorbar": {
                                                        "outlinewidth": 0,
                                                        "ticks": ""
                                                    }
                                                },
                                                "type": "scattergeo"
                                            }
                                        ],
                                        "scattergl": [
                                            {
                                                "marker": {
                                                    "line": {
                                                        "color": "#283442"
                                                    }
                                                },
                                                "type": "scattergl"
                                            }
                                        ],
                                        "scattermapbox": [
                                            {
                                                "marker": {
                                                    "colorbar": {
                                                        "outlinewidth": 0,
                                                        "ticks": ""
                                                    }
                                                },
                                                "type": "scattermapbox"
                                            }
                                        ],
                                        "scatterpolargl": [
                                            {
                                                "marker": {
                                                    "colorbar": {
                                                        "outlinewidth": 0,
                                                        "ticks": ""
                                                    }
                                                },
                                                "type": "scatterpolargl"
                                            }
                                        ],
                                        "scatterpolar": [
                                            {
                                                "marker": {
                                                    "colorbar": {
                                                        "outlinewidth": 0,
                                                        "ticks": ""
                                                    }
                                                },
                                                "type": "scatterpolar"
                                            }
                                        ],
                                        "scatter": [
                                            {
                                                "marker": {
                                                    "line": {
                                                        "color": "#283442"
                                                    }
                                                },
                                                "type": "scatter"
                                            }
                                        ],
                                        "scatterternary": [
                                            {
                                                "marker": {
                                                    "colorbar": {
                                                        "outlinewidth": 0,
                                                        "ticks": ""
                                                    }
                                                },
                                                "type": "scatterternary"
                                            }
                                        ],
                                        "surface": [
                                            {
                                                "colorbar": {
                                                    "outlinewidth": 0,
                                                    "ticks": ""
                                                },
                                                "colorscale": [
                                                    [
                                                        0,
                                                        "#0d0887"
                                                    ],
                                                    [
                                                        0.1111111111111111,
                                                        "#46039f"
                                                    ],
                                                    [
                                                        0.2222222222222222,
                                                        "#7201a8"
                                                    ],
                                                    [
                                                        0.3333333333333333,
                                                        "#9c179e"
                                                    ],
                                                    [
                                                        0.4444444444444444,
                                                        "#bd3786"
                                                    ],
                                                    [
                                                        0.5555555555555556,
                                                        "#d8576b"
                                                    ],
                                                    [
                                                        0.6666666666666666,
                                                        "#ed7953"
                                                    ],
                                                    [
                                                        0.7777777777777778,
                                                        "#fb9f3a"
                                                    ],
                                                    [
                                                        0.8888888888888888,
                                                        "#fdca26"
                                                    ],
                                                    [
                                                        1,
                                                        "#f0f921"
                                                    ]
                                                ],
                                                "type": "surface"
                                            }
                                        ],
                                        "table": [
                                            {
                                                "cells": {
                                                    "fill": {
                                                        "color": "#506784"
                                                    },
                                                    "line": {
                                                        "color": "rgb(17,17,17)"
                                                    }
                                                },
                                                "header": {
                                                    "fill": {
                                                        "color": "#2a3f5f"
                                                    },
                                                    "line": {
                                                        "color": "rgb(17,17,17)"
                                                    }
                                                },
                                                "type": "table"
                                            }
                                        ]
                                    },
                                    "layout": {
                                        "annotationdefaults": {
                                            "arrowcolor": "#f2f5fa",
                                            "arrowhead": 0,
                                            "arrowwidth": 1
                                        },
                                        "autotypenumbers": "strict",
                                        "coloraxis": {
                                            "colorbar": {
                                                "outlinewidth": 0,
                                                "ticks": ""
                                            }
                                        },
                                        "colorscale": {
                                            "diverging": [
                                                [
                                                    0,
                                                    "#8e0152"
                                                ],
                                                [
                                                    0.1,
                                                    "#c51b7d"
                                                ],
                                                [
                                                    0.2,
                                                    "#de77ae"
                                                ],
                                                [
                                                    0.3,
                                                    "#f1b6da"
                                                ],
                                                [
                                                    0.4,
                                                    "#fde0ef"
                                                ],
                                                [
                                                    0.5,
                                                    "#f7f7f7"
                                                ],
                                                [
                                                    0.6,
                                                    "#e6f5d0"
                                                ],
                                                [
                                                    0.7,
                                                    "#b8e186"
                                                ],
                                                [
                                                    0.8,
                                                    "#7fbc41"
                                                ],
                                                [
                                                    0.9,
                                                    "#4d9221"
                                                ],
                                                [
                                                    1,
                                                    "#276419"
                                                ]
                                            ],
                                            "sequential": [
                                                [
                                                    0,
                                                    "#0d0887"
                                                ],
                                                [
                                                    0.1111111111111111,
                                                    "#46039f"
                                                ],
                                                [
                                                    0.2222222222222222,
                                                    "#7201a8"
                                                ],
                                                [
                                                    0.3333333333333333,
                                                    "#9c179e"
                                                ],
                                                [
                                                    0.4444444444444444,
                                                    "#bd3786"
                                                ],
                                                [
                                                    0.5555555555555556,
                                                    "#d8576b"
                                                ],
                                                [
                                                    0.6666666666666666,
                                                    "#ed7953"
                                                ],
                                                [
                                                    0.7777777777777778,
                                                    "#fb9f3a"
                                                ],
                                                [
                                                    0.8888888888888888,
                                                    "#fdca26"
                                                ],
                                                [
                                                    1,
                                                    "#f0f921"
                                                ]
                                            ],
                                            "sequentialminus": [
                                                [
                                                    0,
                                                    "#0d0887"
                                                ],
                                                [
                                                    0.1111111111111111,
                                                    "#46039f"
                                                ],
                                                [
                                                    0.2222222222222222,
                                                    "#7201a8"
                                                ],
                                                [
                                                    0.3333333333333333,
                                                    "#9c179e"
                                                ],
                                                [
                                                    0.4444444444444444,
                                                    "#bd3786"
                                                ],
                                                [
                                                    0.5555555555555556,
                                                    "#d8576b"
                                                ],
                                                [
                                                    0.6666666666666666,
                                                    "#ed7953"
                                                ],
                                                [
                                                    0.7777777777777778,
                                                    "#fb9f3a"
                                                ],
                                                [
                                                    0.8888888888888888,
                                                    "#fdca26"
                                                ],
                                                [
                                                    1,
                                                    "#f0f921"
                                                ]
                                            ]
                                        },
                                        "colorway": [
                                            "#636efa",
                                            "#EF553B",
                                            "#00cc96",
                                            "#ab63fa",
                                            "#FFA15A",
                                            "#19d3f3",
                                            "#FF6692",
                                            "#B6E880",
                                            "#FF97FF",
                                            "#FECB52"
                                        ],
                                        "font": {
                                            "color": "#f2f5fa"
                                        },
                                        "geo": {
                                            "bgcolor": "rgb(17,17,17)",
                                            "lakecolor": "rgb(17,17,17)",
                                            "landcolor": "rgb(17,17,17)",
                                            "showlakes": true,
                                            "showland": true,
                                            "subunitcolor": "#506784"
                                        },
                                        "hoverlabel": {
                                            "align": "left"
                                        },
                                        "hovermode": "closest",
                                        "mapbox": {
                                            "style": "dark"
                                        },
                                        "paper_bgcolor": "rgb(17,17,17)",
                                        "plot_bgcolor": "rgb(17,17,17)",
                                        "polar": {
                                            "angularaxis": {
                                                "gridcolor": "#506784",
                                                "linecolor": "#506784",
                                                "ticks": ""
                                            },
                                            "bgcolor": "rgb(17,17,17)",
                                            "radialaxis": {
                                                "gridcolor": "#506784",
                                                "linecolor": "#506784",
                                                "ticks": ""
                                            }
                                        },
                                        "scene": {
                                            "xaxis": {
                                                "backgroundcolor": "rgb(17,17,17)",
                                                "gridcolor": "#506784",
                                                "gridwidth": 2,
                                                "linecolor": "#506784",
                                                "showbackground": true,
                                                "ticks": "",
                                                "zerolinecolor": "#C8D4E3"
                                            },
                                            "yaxis": {
                                                "backgroundcolor": "rgb(17,17,17)",
                                                "gridcolor": "#506784",
                                                "gridwidth": 2,
                                                "linecolor": "#506784",
                                                "showbackground": true,
                                                "ticks": "",
                                                "zerolinecolor": "#C8D4E3"
                                            },
                                            "zaxis": {
                                                "backgroundcolor": "rgb(17,17,17)",
                                                "gridcolor": "#506784",
                                                "gridwidth": 2,
                                                "linecolor": "#506784",
                                                "showbackground": true,
                                                "ticks": "",
                                                "zerolinecolor": "#C8D4E3"
                                            }
                                        },
                                        "shapedefaults": {
                                            "line": {
                                                "color": "#f2f5fa"
                                            }
                                        },
                                        "sliderdefaults": {
                                            "bgcolor": "#C8D4E3",
                                            "bordercolor": "rgb(17,17,17)",
                                            "borderwidth": 1,
                                            "tickwidth": 0
                                        },
                                        "ternary": {
                                            "aaxis": {
                                                "gridcolor": "#506784",
                                                "linecolor": "#506784",
                                                "ticks": ""
                                            },
                                            "baxis": {
                                                "gridcolor": "#506784",
                                                "linecolor": "#506784",
                                                "ticks": ""
                                            },
                                            "bgcolor": "rgb(17,17,17)",
                                            "caxis": {
                                                "gridcolor": "#506784",
                                                "linecolor": "#506784",
                                                "ticks": ""
                                            }
                                        },
                                        "title": {
                                            "x": 0.05
                                        },
                                        "updatemenudefaults": {
                                            "bgcolor": "#506784",
                                            "borderwidth": 0
                                        },
                                        "xaxis": {
                                            "automargin": true,
                                            "gridcolor": "#283442",
                                            "linecolor": "#506784",
                                            "ticks": "",
                                            "title": {
                                                "standoff": 15
                                            },
                                            "zerolinecolor": "#283442",
                                            "zerolinewidth": 2
                                        },
                                        "yaxis": {
                                            "automargin": true,
                                            "gridcolor": "#283442",
                                            "linecolor": "#506784",
                                            "ticks": "",
                                            "title": {
                                                "standoff": 15
                                            },
                                            "zerolinecolor": "#283442",
                                            "zerolinewidth": 2
                                        }
                                    }
                                },
                                "xaxis": {
                                    "anchor": "y",
                                    "domain": [
                                        0,
                                        1
                                    ],
                                    "title": {
                                        "text": "Year"
                                    }
                                },
                                "yaxis": {
                                    "anchor": "x",
                                    "domain": [
                                        0,
                                        1
                                    ],
                                    "title": {
                                        "text": "GDP Per Capita"
                                    }
                                },
                                "legend": {
                                    "tracegroupgap": 0
                                },
                                "title": {
                                    "text": "GDP Per Capita Over Time in India"
                                },
                                "hovermode": "closest"
                            },
                            "config": {
                                "plotlyServerURL": "https://plot.ly"
                            }
                        }
                    },
                    "metadata": {},
                    "output_type": "display_data"
                }
            ],
            "execution_count": 3
        },
        {
            "cell_type": "markdown",
            "source": [
                "In this example, the `line` function from Plotly Express is used to create an interactive line plot. The `update_layout` method is employed to customize the axes' titles, set the hovermode to 'closest', and apply a dark theme for better visibility."
            ],
            "metadata": {
                "azdata_cell_guid": "967ac69b-0b92-401c-af2c-e7c4b146f476"
            },
            "attachments": {}
        },
        {
            "cell_type": "markdown",
            "source": [
                "#### Creating Interactive Scatter Plot:"
            ],
            "metadata": {
                "azdata_cell_guid": "0e01d40f-aad1-422e-b23f-fad1bc4e6cb9"
            },
            "attachments": {}
        },
        {
            "cell_type": "code",
            "source": [
                "import plotly.express as px\n",
                "import plotly.io as pio\n",
                "\n",
                "# Example data\n",
                "data = px.data.iris()\n",
                "\n",
                "# Creating an interactive scatter plot\n",
                "fig = px.scatter(data, x='sepal_width', y='sepal_length', color='species', size='petal_length', title='Iris Dataset')\n",
                "\n",
                "# Customizing interactive features\n",
                "fig.update_layout(\n",
                "    xaxis=dict(title='Sepal Width'),\n",
                "    yaxis=dict(title='Sepal Length'),\n",
                "    hovermode='closest',  # Display closest data point on hover\n",
                "    template='plotly_dark'  # Dark theme for better visualization\n",
                ")\n",
                "\n",
                "# Show the plot\n",
                "pio.show(fig)"
            ],
            "metadata": {
                "azdata_cell_guid": "507a8e6f-8cc0-41a7-8f37-d75d54150c81",
                "language": "python"
            },
            "outputs": [
                {
                    "data": {
                        "application/vnd.plotly.v1+json": {
                            "data": [
                                {
                                    "hovertemplate": "species=setosa<br>sepal_width=%{x}<br>sepal_length=%{y}<br>petal_length=%{marker.size}<extra></extra>",
                                    "legendgroup": "setosa",
                                    "marker": {
                                        "color": "#636efa",
                                        "size": [
                                            1.4,
                                            1.4,
                                            1.3,
                                            1.5,
                                            1.4,
                                            1.7,
                                            1.4,
                                            1.5,
                                            1.4,
                                            1.5,
                                            1.5,
                                            1.6,
                                            1.4,
                                            1.1,
                                            1.2,
                                            1.5,
                                            1.3,
                                            1.4,
                                            1.7,
                                            1.5,
                                            1.7,
                                            1.5,
                                            1,
                                            1.7,
                                            1.9,
                                            1.6,
                                            1.6,
                                            1.5,
                                            1.4,
                                            1.6,
                                            1.6,
                                            1.5,
                                            1.5,
                                            1.4,
                                            1.5,
                                            1.2,
                                            1.3,
                                            1.5,
                                            1.3,
                                            1.5,
                                            1.3,
                                            1.3,
                                            1.3,
                                            1.6,
                                            1.9,
                                            1.4,
                                            1.6,
                                            1.4,
                                            1.5,
                                            1.4
                                        ],
                                        "sizemode": "area",
                                        "sizeref": 0.01725,
                                        "symbol": "circle"
                                    },
                                    "mode": "markers",
                                    "name": "setosa",
                                    "orientation": "v",
                                    "showlegend": true,
                                    "x": [
                                        3.5,
                                        3,
                                        3.2,
                                        3.1,
                                        3.6,
                                        3.9,
                                        3.4,
                                        3.4,
                                        2.9,
                                        3.1,
                                        3.7,
                                        3.4,
                                        3,
                                        3,
                                        4,
                                        4.4,
                                        3.9,
                                        3.5,
                                        3.8,
                                        3.8,
                                        3.4,
                                        3.7,
                                        3.6,
                                        3.3,
                                        3.4,
                                        3,
                                        3.4,
                                        3.5,
                                        3.4,
                                        3.2,
                                        3.1,
                                        3.4,
                                        4.1,
                                        4.2,
                                        3.1,
                                        3.2,
                                        3.5,
                                        3.1,
                                        3,
                                        3.4,
                                        3.5,
                                        2.3,
                                        3.2,
                                        3.5,
                                        3.8,
                                        3,
                                        3.8,
                                        3.2,
                                        3.7,
                                        3.3
                                    ],
                                    "xaxis": "x",
                                    "y": [
                                        5.1,
                                        4.9,
                                        4.7,
                                        4.6,
                                        5,
                                        5.4,
                                        4.6,
                                        5,
                                        4.4,
                                        4.9,
                                        5.4,
                                        4.8,
                                        4.8,
                                        4.3,
                                        5.8,
                                        5.7,
                                        5.4,
                                        5.1,
                                        5.7,
                                        5.1,
                                        5.4,
                                        5.1,
                                        4.6,
                                        5.1,
                                        4.8,
                                        5,
                                        5,
                                        5.2,
                                        5.2,
                                        4.7,
                                        4.8,
                                        5.4,
                                        5.2,
                                        5.5,
                                        4.9,
                                        5,
                                        5.5,
                                        4.9,
                                        4.4,
                                        5.1,
                                        5,
                                        4.5,
                                        4.4,
                                        5,
                                        5.1,
                                        4.8,
                                        5.1,
                                        4.6,
                                        5.3,
                                        5
                                    ],
                                    "yaxis": "y",
                                    "type": "scatter"
                                },
                                {
                                    "hovertemplate": "species=versicolor<br>sepal_width=%{x}<br>sepal_length=%{y}<br>petal_length=%{marker.size}<extra></extra>",
                                    "legendgroup": "versicolor",
                                    "marker": {
                                        "color": "#EF553B",
                                        "size": [
                                            4.7,
                                            4.5,
                                            4.9,
                                            4,
                                            4.6,
                                            4.5,
                                            4.7,
                                            3.3,
                                            4.6,
                                            3.9,
                                            3.5,
                                            4.2,
                                            4,
                                            4.7,
                                            3.6,
                                            4.4,
                                            4.5,
                                            4.1,
                                            4.5,
                                            3.9,
                                            4.8,
                                            4,
                                            4.9,
                                            4.7,
                                            4.3,
                                            4.4,
                                            4.8,
                                            5,
                                            4.5,
                                            3.5,
                                            3.8,
                                            3.7,
                                            3.9,
                                            5.1,
                                            4.5,
                                            4.5,
                                            4.7,
                                            4.4,
                                            4.1,
                                            4,
                                            4.4,
                                            4.6,
                                            4,
                                            3.3,
                                            4.2,
                                            4.2,
                                            4.2,
                                            4.3,
                                            3,
                                            4.1
                                        ],
                                        "sizemode": "area",
                                        "sizeref": 0.01725,
                                        "symbol": "circle"
                                    },
                                    "mode": "markers",
                                    "name": "versicolor",
                                    "orientation": "v",
                                    "showlegend": true,
                                    "x": [
                                        3.2,
                                        3.2,
                                        3.1,
                                        2.3,
                                        2.8,
                                        2.8,
                                        3.3,
                                        2.4,
                                        2.9,
                                        2.7,
                                        2,
                                        3,
                                        2.2,
                                        2.9,
                                        2.9,
                                        3.1,
                                        3,
                                        2.7,
                                        2.2,
                                        2.5,
                                        3.2,
                                        2.8,
                                        2.5,
                                        2.8,
                                        2.9,
                                        3,
                                        2.8,
                                        3,
                                        2.9,
                                        2.6,
                                        2.4,
                                        2.4,
                                        2.7,
                                        2.7,
                                        3,
                                        3.4,
                                        3.1,
                                        2.3,
                                        3,
                                        2.5,
                                        2.6,
                                        3,
                                        2.6,
                                        2.3,
                                        2.7,
                                        3,
                                        2.9,
                                        2.9,
                                        2.5,
                                        2.8
                                    ],
                                    "xaxis": "x",
                                    "y": [
                                        7,
                                        6.4,
                                        6.9,
                                        5.5,
                                        6.5,
                                        5.7,
                                        6.3,
                                        4.9,
                                        6.6,
                                        5.2,
                                        5,
                                        5.9,
                                        6,
                                        6.1,
                                        5.6,
                                        6.7,
                                        5.6,
                                        5.8,
                                        6.2,
                                        5.6,
                                        5.9,
                                        6.1,
                                        6.3,
                                        6.1,
                                        6.4,
                                        6.6,
                                        6.8,
                                        6.7,
                                        6,
                                        5.7,
                                        5.5,
                                        5.5,
                                        5.8,
                                        6,
                                        5.4,
                                        6,
                                        6.7,
                                        6.3,
                                        5.6,
                                        5.5,
                                        5.5,
                                        6.1,
                                        5.8,
                                        5,
                                        5.6,
                                        5.7,
                                        5.7,
                                        6.2,
                                        5.1,
                                        5.7
                                    ],
                                    "yaxis": "y",
                                    "type": "scatter"
                                },
                                {
                                    "hovertemplate": "species=virginica<br>sepal_width=%{x}<br>sepal_length=%{y}<br>petal_length=%{marker.size}<extra></extra>",
                                    "legendgroup": "virginica",
                                    "marker": {
                                        "color": "#00cc96",
                                        "size": [
                                            6,
                                            5.1,
                                            5.9,
                                            5.6,
                                            5.8,
                                            6.6,
                                            4.5,
                                            6.3,
                                            5.8,
                                            6.1,
                                            5.1,
                                            5.3,
                                            5.5,
                                            5,
                                            5.1,
                                            5.3,
                                            5.5,
                                            6.7,
                                            6.9,
                                            5,
                                            5.7,
                                            4.9,
                                            6.7,
                                            4.9,
                                            5.7,
                                            6,
                                            4.8,
                                            4.9,
                                            5.6,
                                            5.8,
                                            6.1,
                                            6.4,
                                            5.6,
                                            5.1,
                                            5.6,
                                            6.1,
                                            5.6,
                                            5.5,
                                            4.8,
                                            5.4,
                                            5.6,
                                            5.1,
                                            5.1,
                                            5.9,
                                            5.7,
                                            5.2,
                                            5,
                                            5.2,
                                            5.4,
                                            5.1
                                        ],
                                        "sizemode": "area",
                                        "sizeref": 0.01725,
                                        "symbol": "circle"
                                    },
                                    "mode": "markers",
                                    "name": "virginica",
                                    "orientation": "v",
                                    "showlegend": true,
                                    "x": [
                                        3.3,
                                        2.7,
                                        3,
                                        2.9,
                                        3,
                                        3,
                                        2.5,
                                        2.9,
                                        2.5,
                                        3.6,
                                        3.2,
                                        2.7,
                                        3,
                                        2.5,
                                        2.8,
                                        3.2,
                                        3,
                                        3.8,
                                        2.6,
                                        2.2,
                                        3.2,
                                        2.8,
                                        2.8,
                                        2.7,
                                        3.3,
                                        3.2,
                                        2.8,
                                        3,
                                        2.8,
                                        3,
                                        2.8,
                                        3.8,
                                        2.8,
                                        2.8,
                                        2.6,
                                        3,
                                        3.4,
                                        3.1,
                                        3,
                                        3.1,
                                        3.1,
                                        3.1,
                                        2.7,
                                        3.2,
                                        3.3,
                                        3,
                                        2.5,
                                        3,
                                        3.4,
                                        3
                                    ],
                                    "xaxis": "x",
                                    "y": [
                                        6.3,
                                        5.8,
                                        7.1,
                                        6.3,
                                        6.5,
                                        7.6,
                                        4.9,
                                        7.3,
                                        6.7,
                                        7.2,
                                        6.5,
                                        6.4,
                                        6.8,
                                        5.7,
                                        5.8,
                                        6.4,
                                        6.5,
                                        7.7,
                                        7.7,
                                        6,
                                        6.9,
                                        5.6,
                                        7.7,
                                        6.3,
                                        6.7,
                                        7.2,
                                        6.2,
                                        6.1,
                                        6.4,
                                        7.2,
                                        7.4,
                                        7.9,
                                        6.4,
                                        6.3,
                                        6.1,
                                        7.7,
                                        6.3,
                                        6.4,
                                        6,
                                        6.9,
                                        6.7,
                                        6.9,
                                        5.8,
                                        6.8,
                                        6.7,
                                        6.7,
                                        6.3,
                                        6.5,
                                        6.2,
                                        5.9
                                    ],
                                    "yaxis": "y",
                                    "type": "scatter"
                                }
                            ],
                            "layout": {
                                "template": {
                                    "data": {
                                        "barpolar": [
                                            {
                                                "marker": {
                                                    "line": {
                                                        "color": "rgb(17,17,17)",
                                                        "width": 0.5
                                                    },
                                                    "pattern": {
                                                        "fillmode": "overlay",
                                                        "size": 10,
                                                        "solidity": 0.2
                                                    }
                                                },
                                                "type": "barpolar"
                                            }
                                        ],
                                        "bar": [
                                            {
                                                "error_x": {
                                                    "color": "#f2f5fa"
                                                },
                                                "error_y": {
                                                    "color": "#f2f5fa"
                                                },
                                                "marker": {
                                                    "line": {
                                                        "color": "rgb(17,17,17)",
                                                        "width": 0.5
                                                    },
                                                    "pattern": {
                                                        "fillmode": "overlay",
                                                        "size": 10,
                                                        "solidity": 0.2
                                                    }
                                                },
                                                "type": "bar"
                                            }
                                        ],
                                        "carpet": [
                                            {
                                                "aaxis": {
                                                    "endlinecolor": "#A2B1C6",
                                                    "gridcolor": "#506784",
                                                    "linecolor": "#506784",
                                                    "minorgridcolor": "#506784",
                                                    "startlinecolor": "#A2B1C6"
                                                },
                                                "baxis": {
                                                    "endlinecolor": "#A2B1C6",
                                                    "gridcolor": "#506784",
                                                    "linecolor": "#506784",
                                                    "minorgridcolor": "#506784",
                                                    "startlinecolor": "#A2B1C6"
                                                },
                                                "type": "carpet"
                                            }
                                        ],
                                        "choropleth": [
                                            {
                                                "colorbar": {
                                                    "outlinewidth": 0,
                                                    "ticks": ""
                                                },
                                                "type": "choropleth"
                                            }
                                        ],
                                        "contourcarpet": [
                                            {
                                                "colorbar": {
                                                    "outlinewidth": 0,
                                                    "ticks": ""
                                                },
                                                "type": "contourcarpet"
                                            }
                                        ],
                                        "contour": [
                                            {
                                                "colorbar": {
                                                    "outlinewidth": 0,
                                                    "ticks": ""
                                                },
                                                "colorscale": [
                                                    [
                                                        0,
                                                        "#0d0887"
                                                    ],
                                                    [
                                                        0.1111111111111111,
                                                        "#46039f"
                                                    ],
                                                    [
                                                        0.2222222222222222,
                                                        "#7201a8"
                                                    ],
                                                    [
                                                        0.3333333333333333,
                                                        "#9c179e"
                                                    ],
                                                    [
                                                        0.4444444444444444,
                                                        "#bd3786"
                                                    ],
                                                    [
                                                        0.5555555555555556,
                                                        "#d8576b"
                                                    ],
                                                    [
                                                        0.6666666666666666,
                                                        "#ed7953"
                                                    ],
                                                    [
                                                        0.7777777777777778,
                                                        "#fb9f3a"
                                                    ],
                                                    [
                                                        0.8888888888888888,
                                                        "#fdca26"
                                                    ],
                                                    [
                                                        1,
                                                        "#f0f921"
                                                    ]
                                                ],
                                                "type": "contour"
                                            }
                                        ],
                                        "heatmapgl": [
                                            {
                                                "colorbar": {
                                                    "outlinewidth": 0,
                                                    "ticks": ""
                                                },
                                                "colorscale": [
                                                    [
                                                        0,
                                                        "#0d0887"
                                                    ],
                                                    [
                                                        0.1111111111111111,
                                                        "#46039f"
                                                    ],
                                                    [
                                                        0.2222222222222222,
                                                        "#7201a8"
                                                    ],
                                                    [
                                                        0.3333333333333333,
                                                        "#9c179e"
                                                    ],
                                                    [
                                                        0.4444444444444444,
                                                        "#bd3786"
                                                    ],
                                                    [
                                                        0.5555555555555556,
                                                        "#d8576b"
                                                    ],
                                                    [
                                                        0.6666666666666666,
                                                        "#ed7953"
                                                    ],
                                                    [
                                                        0.7777777777777778,
                                                        "#fb9f3a"
                                                    ],
                                                    [
                                                        0.8888888888888888,
                                                        "#fdca26"
                                                    ],
                                                    [
                                                        1,
                                                        "#f0f921"
                                                    ]
                                                ],
                                                "type": "heatmapgl"
                                            }
                                        ],
                                        "heatmap": [
                                            {
                                                "colorbar": {
                                                    "outlinewidth": 0,
                                                    "ticks": ""
                                                },
                                                "colorscale": [
                                                    [
                                                        0,
                                                        "#0d0887"
                                                    ],
                                                    [
                                                        0.1111111111111111,
                                                        "#46039f"
                                                    ],
                                                    [
                                                        0.2222222222222222,
                                                        "#7201a8"
                                                    ],
                                                    [
                                                        0.3333333333333333,
                                                        "#9c179e"
                                                    ],
                                                    [
                                                        0.4444444444444444,
                                                        "#bd3786"
                                                    ],
                                                    [
                                                        0.5555555555555556,
                                                        "#d8576b"
                                                    ],
                                                    [
                                                        0.6666666666666666,
                                                        "#ed7953"
                                                    ],
                                                    [
                                                        0.7777777777777778,
                                                        "#fb9f3a"
                                                    ],
                                                    [
                                                        0.8888888888888888,
                                                        "#fdca26"
                                                    ],
                                                    [
                                                        1,
                                                        "#f0f921"
                                                    ]
                                                ],
                                                "type": "heatmap"
                                            }
                                        ],
                                        "histogram2dcontour": [
                                            {
                                                "colorbar": {
                                                    "outlinewidth": 0,
                                                    "ticks": ""
                                                },
                                                "colorscale": [
                                                    [
                                                        0,
                                                        "#0d0887"
                                                    ],
                                                    [
                                                        0.1111111111111111,
                                                        "#46039f"
                                                    ],
                                                    [
                                                        0.2222222222222222,
                                                        "#7201a8"
                                                    ],
                                                    [
                                                        0.3333333333333333,
                                                        "#9c179e"
                                                    ],
                                                    [
                                                        0.4444444444444444,
                                                        "#bd3786"
                                                    ],
                                                    [
                                                        0.5555555555555556,
                                                        "#d8576b"
                                                    ],
                                                    [
                                                        0.6666666666666666,
                                                        "#ed7953"
                                                    ],
                                                    [
                                                        0.7777777777777778,
                                                        "#fb9f3a"
                                                    ],
                                                    [
                                                        0.8888888888888888,
                                                        "#fdca26"
                                                    ],
                                                    [
                                                        1,
                                                        "#f0f921"
                                                    ]
                                                ],
                                                "type": "histogram2dcontour"
                                            }
                                        ],
                                        "histogram2d": [
                                            {
                                                "colorbar": {
                                                    "outlinewidth": 0,
                                                    "ticks": ""
                                                },
                                                "colorscale": [
                                                    [
                                                        0,
                                                        "#0d0887"
                                                    ],
                                                    [
                                                        0.1111111111111111,
                                                        "#46039f"
                                                    ],
                                                    [
                                                        0.2222222222222222,
                                                        "#7201a8"
                                                    ],
                                                    [
                                                        0.3333333333333333,
                                                        "#9c179e"
                                                    ],
                                                    [
                                                        0.4444444444444444,
                                                        "#bd3786"
                                                    ],
                                                    [
                                                        0.5555555555555556,
                                                        "#d8576b"
                                                    ],
                                                    [
                                                        0.6666666666666666,
                                                        "#ed7953"
                                                    ],
                                                    [
                                                        0.7777777777777778,
                                                        "#fb9f3a"
                                                    ],
                                                    [
                                                        0.8888888888888888,
                                                        "#fdca26"
                                                    ],
                                                    [
                                                        1,
                                                        "#f0f921"
                                                    ]
                                                ],
                                                "type": "histogram2d"
                                            }
                                        ],
                                        "histogram": [
                                            {
                                                "marker": {
                                                    "pattern": {
                                                        "fillmode": "overlay",
                                                        "size": 10,
                                                        "solidity": 0.2
                                                    }
                                                },
                                                "type": "histogram"
                                            }
                                        ],
                                        "mesh3d": [
                                            {
                                                "colorbar": {
                                                    "outlinewidth": 0,
                                                    "ticks": ""
                                                },
                                                "type": "mesh3d"
                                            }
                                        ],
                                        "parcoords": [
                                            {
                                                "line": {
                                                    "colorbar": {
                                                        "outlinewidth": 0,
                                                        "ticks": ""
                                                    }
                                                },
                                                "type": "parcoords"
                                            }
                                        ],
                                        "pie": [
                                            {
                                                "automargin": true,
                                                "type": "pie"
                                            }
                                        ],
                                        "scatter3d": [
                                            {
                                                "line": {
                                                    "colorbar": {
                                                        "outlinewidth": 0,
                                                        "ticks": ""
                                                    }
                                                },
                                                "marker": {
                                                    "colorbar": {
                                                        "outlinewidth": 0,
                                                        "ticks": ""
                                                    }
                                                },
                                                "type": "scatter3d"
                                            }
                                        ],
                                        "scattercarpet": [
                                            {
                                                "marker": {
                                                    "colorbar": {
                                                        "outlinewidth": 0,
                                                        "ticks": ""
                                                    }
                                                },
                                                "type": "scattercarpet"
                                            }
                                        ],
                                        "scattergeo": [
                                            {
                                                "marker": {
                                                    "colorbar": {
                                                        "outlinewidth": 0,
                                                        "ticks": ""
                                                    }
                                                },
                                                "type": "scattergeo"
                                            }
                                        ],
                                        "scattergl": [
                                            {
                                                "marker": {
                                                    "line": {
                                                        "color": "#283442"
                                                    }
                                                },
                                                "type": "scattergl"
                                            }
                                        ],
                                        "scattermapbox": [
                                            {
                                                "marker": {
                                                    "colorbar": {
                                                        "outlinewidth": 0,
                                                        "ticks": ""
                                                    }
                                                },
                                                "type": "scattermapbox"
                                            }
                                        ],
                                        "scatterpolargl": [
                                            {
                                                "marker": {
                                                    "colorbar": {
                                                        "outlinewidth": 0,
                                                        "ticks": ""
                                                    }
                                                },
                                                "type": "scatterpolargl"
                                            }
                                        ],
                                        "scatterpolar": [
                                            {
                                                "marker": {
                                                    "colorbar": {
                                                        "outlinewidth": 0,
                                                        "ticks": ""
                                                    }
                                                },
                                                "type": "scatterpolar"
                                            }
                                        ],
                                        "scatter": [
                                            {
                                                "marker": {
                                                    "line": {
                                                        "color": "#283442"
                                                    }
                                                },
                                                "type": "scatter"
                                            }
                                        ],
                                        "scatterternary": [
                                            {
                                                "marker": {
                                                    "colorbar": {
                                                        "outlinewidth": 0,
                                                        "ticks": ""
                                                    }
                                                },
                                                "type": "scatterternary"
                                            }
                                        ],
                                        "surface": [
                                            {
                                                "colorbar": {
                                                    "outlinewidth": 0,
                                                    "ticks": ""
                                                },
                                                "colorscale": [
                                                    [
                                                        0,
                                                        "#0d0887"
                                                    ],
                                                    [
                                                        0.1111111111111111,
                                                        "#46039f"
                                                    ],
                                                    [
                                                        0.2222222222222222,
                                                        "#7201a8"
                                                    ],
                                                    [
                                                        0.3333333333333333,
                                                        "#9c179e"
                                                    ],
                                                    [
                                                        0.4444444444444444,
                                                        "#bd3786"
                                                    ],
                                                    [
                                                        0.5555555555555556,
                                                        "#d8576b"
                                                    ],
                                                    [
                                                        0.6666666666666666,
                                                        "#ed7953"
                                                    ],
                                                    [
                                                        0.7777777777777778,
                                                        "#fb9f3a"
                                                    ],
                                                    [
                                                        0.8888888888888888,
                                                        "#fdca26"
                                                    ],
                                                    [
                                                        1,
                                                        "#f0f921"
                                                    ]
                                                ],
                                                "type": "surface"
                                            }
                                        ],
                                        "table": [
                                            {
                                                "cells": {
                                                    "fill": {
                                                        "color": "#506784"
                                                    },
                                                    "line": {
                                                        "color": "rgb(17,17,17)"
                                                    }
                                                },
                                                "header": {
                                                    "fill": {
                                                        "color": "#2a3f5f"
                                                    },
                                                    "line": {
                                                        "color": "rgb(17,17,17)"
                                                    }
                                                },
                                                "type": "table"
                                            }
                                        ]
                                    },
                                    "layout": {
                                        "annotationdefaults": {
                                            "arrowcolor": "#f2f5fa",
                                            "arrowhead": 0,
                                            "arrowwidth": 1
                                        },
                                        "autotypenumbers": "strict",
                                        "coloraxis": {
                                            "colorbar": {
                                                "outlinewidth": 0,
                                                "ticks": ""
                                            }
                                        },
                                        "colorscale": {
                                            "diverging": [
                                                [
                                                    0,
                                                    "#8e0152"
                                                ],
                                                [
                                                    0.1,
                                                    "#c51b7d"
                                                ],
                                                [
                                                    0.2,
                                                    "#de77ae"
                                                ],
                                                [
                                                    0.3,
                                                    "#f1b6da"
                                                ],
                                                [
                                                    0.4,
                                                    "#fde0ef"
                                                ],
                                                [
                                                    0.5,
                                                    "#f7f7f7"
                                                ],
                                                [
                                                    0.6,
                                                    "#e6f5d0"
                                                ],
                                                [
                                                    0.7,
                                                    "#b8e186"
                                                ],
                                                [
                                                    0.8,
                                                    "#7fbc41"
                                                ],
                                                [
                                                    0.9,
                                                    "#4d9221"
                                                ],
                                                [
                                                    1,
                                                    "#276419"
                                                ]
                                            ],
                                            "sequential": [
                                                [
                                                    0,
                                                    "#0d0887"
                                                ],
                                                [
                                                    0.1111111111111111,
                                                    "#46039f"
                                                ],
                                                [
                                                    0.2222222222222222,
                                                    "#7201a8"
                                                ],
                                                [
                                                    0.3333333333333333,
                                                    "#9c179e"
                                                ],
                                                [
                                                    0.4444444444444444,
                                                    "#bd3786"
                                                ],
                                                [
                                                    0.5555555555555556,
                                                    "#d8576b"
                                                ],
                                                [
                                                    0.6666666666666666,
                                                    "#ed7953"
                                                ],
                                                [
                                                    0.7777777777777778,
                                                    "#fb9f3a"
                                                ],
                                                [
                                                    0.8888888888888888,
                                                    "#fdca26"
                                                ],
                                                [
                                                    1,
                                                    "#f0f921"
                                                ]
                                            ],
                                            "sequentialminus": [
                                                [
                                                    0,
                                                    "#0d0887"
                                                ],
                                                [
                                                    0.1111111111111111,
                                                    "#46039f"
                                                ],
                                                [
                                                    0.2222222222222222,
                                                    "#7201a8"
                                                ],
                                                [
                                                    0.3333333333333333,
                                                    "#9c179e"
                                                ],
                                                [
                                                    0.4444444444444444,
                                                    "#bd3786"
                                                ],
                                                [
                                                    0.5555555555555556,
                                                    "#d8576b"
                                                ],
                                                [
                                                    0.6666666666666666,
                                                    "#ed7953"
                                                ],
                                                [
                                                    0.7777777777777778,
                                                    "#fb9f3a"
                                                ],
                                                [
                                                    0.8888888888888888,
                                                    "#fdca26"
                                                ],
                                                [
                                                    1,
                                                    "#f0f921"
                                                ]
                                            ]
                                        },
                                        "colorway": [
                                            "#636efa",
                                            "#EF553B",
                                            "#00cc96",
                                            "#ab63fa",
                                            "#FFA15A",
                                            "#19d3f3",
                                            "#FF6692",
                                            "#B6E880",
                                            "#FF97FF",
                                            "#FECB52"
                                        ],
                                        "font": {
                                            "color": "#f2f5fa"
                                        },
                                        "geo": {
                                            "bgcolor": "rgb(17,17,17)",
                                            "lakecolor": "rgb(17,17,17)",
                                            "landcolor": "rgb(17,17,17)",
                                            "showlakes": true,
                                            "showland": true,
                                            "subunitcolor": "#506784"
                                        },
                                        "hoverlabel": {
                                            "align": "left"
                                        },
                                        "hovermode": "closest",
                                        "mapbox": {
                                            "style": "dark"
                                        },
                                        "paper_bgcolor": "rgb(17,17,17)",
                                        "plot_bgcolor": "rgb(17,17,17)",
                                        "polar": {
                                            "angularaxis": {
                                                "gridcolor": "#506784",
                                                "linecolor": "#506784",
                                                "ticks": ""
                                            },
                                            "bgcolor": "rgb(17,17,17)",
                                            "radialaxis": {
                                                "gridcolor": "#506784",
                                                "linecolor": "#506784",
                                                "ticks": ""
                                            }
                                        },
                                        "scene": {
                                            "xaxis": {
                                                "backgroundcolor": "rgb(17,17,17)",
                                                "gridcolor": "#506784",
                                                "gridwidth": 2,
                                                "linecolor": "#506784",
                                                "showbackground": true,
                                                "ticks": "",
                                                "zerolinecolor": "#C8D4E3"
                                            },
                                            "yaxis": {
                                                "backgroundcolor": "rgb(17,17,17)",
                                                "gridcolor": "#506784",
                                                "gridwidth": 2,
                                                "linecolor": "#506784",
                                                "showbackground": true,
                                                "ticks": "",
                                                "zerolinecolor": "#C8D4E3"
                                            },
                                            "zaxis": {
                                                "backgroundcolor": "rgb(17,17,17)",
                                                "gridcolor": "#506784",
                                                "gridwidth": 2,
                                                "linecolor": "#506784",
                                                "showbackground": true,
                                                "ticks": "",
                                                "zerolinecolor": "#C8D4E3"
                                            }
                                        },
                                        "shapedefaults": {
                                            "line": {
                                                "color": "#f2f5fa"
                                            }
                                        },
                                        "sliderdefaults": {
                                            "bgcolor": "#C8D4E3",
                                            "bordercolor": "rgb(17,17,17)",
                                            "borderwidth": 1,
                                            "tickwidth": 0
                                        },
                                        "ternary": {
                                            "aaxis": {
                                                "gridcolor": "#506784",
                                                "linecolor": "#506784",
                                                "ticks": ""
                                            },
                                            "baxis": {
                                                "gridcolor": "#506784",
                                                "linecolor": "#506784",
                                                "ticks": ""
                                            },
                                            "bgcolor": "rgb(17,17,17)",
                                            "caxis": {
                                                "gridcolor": "#506784",
                                                "linecolor": "#506784",
                                                "ticks": ""
                                            }
                                        },
                                        "title": {
                                            "x": 0.05
                                        },
                                        "updatemenudefaults": {
                                            "bgcolor": "#506784",
                                            "borderwidth": 0
                                        },
                                        "xaxis": {
                                            "automargin": true,
                                            "gridcolor": "#283442",
                                            "linecolor": "#506784",
                                            "ticks": "",
                                            "title": {
                                                "standoff": 15
                                            },
                                            "zerolinecolor": "#283442",
                                            "zerolinewidth": 2
                                        },
                                        "yaxis": {
                                            "automargin": true,
                                            "gridcolor": "#283442",
                                            "linecolor": "#506784",
                                            "ticks": "",
                                            "title": {
                                                "standoff": 15
                                            },
                                            "zerolinecolor": "#283442",
                                            "zerolinewidth": 2
                                        }
                                    }
                                },
                                "xaxis": {
                                    "anchor": "y",
                                    "domain": [
                                        0,
                                        1
                                    ],
                                    "title": {
                                        "text": "Sepal Width"
                                    }
                                },
                                "yaxis": {
                                    "anchor": "x",
                                    "domain": [
                                        0,
                                        1
                                    ],
                                    "title": {
                                        "text": "Sepal Length"
                                    }
                                },
                                "legend": {
                                    "title": {
                                        "text": "species"
                                    },
                                    "tracegroupgap": 0,
                                    "itemsizing": "constant"
                                },
                                "title": {
                                    "text": "Iris Dataset"
                                },
                                "hovermode": "closest"
                            },
                            "config": {
                                "plotlyServerURL": "https://plot.ly"
                            }
                        }
                    },
                    "metadata": {},
                    "output_type": "display_data"
                }
            ],
            "execution_count": 4
        },
        {
            "cell_type": "markdown",
            "source": [
                "Here, the `scatter` function is utilized to create an interactive scatter plot. The `update_layout` method is again used to customize axes' titles, set hovermode, and apply a dark theme.\n",
                "\n",
                "#### Interactive Features:\n",
                "\n",
                "- **Zooming:** Users can zoom in on specific sections of the plot for a closer look.\n",
                "- **Panning:** The ability to pan across the plot, useful for exploring different regions.\n",
                "- **Tooltips:** Hovering over data points displays detailed information, enhancing interpretability.\n",
                "\n",
                "#### Conclusion:\n",
                "\n",
                "Plotly provides a straightforward yet powerful way to create interactive line and scatter plots. Customizing interactive features allows for a more engaging and informative visualization experience."
            ],
            "metadata": {
                "azdata_cell_guid": "2c260000-f3d2-4c49-89ad-a2a3ebd9768b"
            },
            "attachments": {}
        },
        {
            "cell_type": "markdown",
            "source": [
                "### **`12. Building Interactive Dashboards with Dash`**\n",
                "\n",
                "#### Overview of Dash:\n",
                "\n",
                "Dash is a Python framework for building analytical web applications. It enables the creation of interactive, web-based dashboards using Python code. Dash is particularly useful for data scientists and analysts who want to share their insights through interactive and customizable dashboards.\n",
                "\n",
                "#### Installing Dash:\n",
                "\n",
                "```bash\n",
                "pip install dash\n",
                "```\n",
                "\n",
                "#### Creating a Simple Dashboard:\n",
                "\n",
                "```python\n",
                "import dash\n",
                "from dash import dcc, html\n",
                "import plotly.express as px\n",
                "\n",
                "# Example data\n",
                "data = px.data.gapminder().query(\"continent == 'Asia'\")\n",
                "\n",
                "# Initialize the Dash app\n",
                "app = dash.Dash(__name__)\n",
                "\n",
                "# Define the layout of the dashboard\n",
                "app.layout = html.Div(children=[\n",
                "    html.H1(children='Gapminder Dashboard'),\n",
                "    \n",
                "    # Dropdown for selecting a country\n",
                "    dcc.Dropdown(\n",
                "        id='country-dropdown',\n",
                "        options=[{'label': country, 'value': country} for country in data['country'].unique()],\n",
                "        value='India',  # Default selected value\n",
                "        multi=False\n",
                "    ),\n",
                "\n",
                "    # Line plot for GDP per Capita over time\n",
                "    dcc.Graph(\n",
                "        id='gdp-line-plot'\n",
                "    )\n",
                "])\n",
                "\n",
                "# Define callback to update the line plot based on dropdown selection\n",
                "@app.callback(\n",
                "    dash.dependencies.Output('gdp-line-plot', 'figure'),\n",
                "    [dash.dependencies.Input('country-dropdown', 'value')]\n",
                ")\n",
                "def update_line_plot(selected_country):\n",
                "    filtered_data = data[data['country'] == selected_country]\n",
                "    fig = px.line(filtered_data, x='year', y='gdpPercap', title=f'GDP Per Capita Over Time in {selected_country}')\n",
                "    return fig\n",
                "\n",
                "# Run the app\n",
                "if __name__ == '__main__':\n",
                "    app.run_server(debug=True)\n",
                "```\n",
                "\n",
                "#### Explanation:\n",
                "\n",
                "1. **Dash App Initialization:**\n",
                "   - The Dash app is initialized using `dash.Dash(__name__)`.\n",
                "\n",
                "2. **Layout Definition:**\n",
                "   - The layout of the dashboard is defined using HTML and Dash components. In this example, it includes an H1 title, a dropdown for selecting a country, and a line plot.\n",
                "\n",
                "3. **Dropdown and Graph Components:**\n",
                "   - `dcc.Dropdown` is used to create an interactive dropdown for selecting a country.\n",
                "   - `dcc.Graph` is used to create an empty graph for displaying the line plot.\n",
                "\n",
                "4. **Callback Function:**\n",
                "   - A callback function is defined to update the line plot based on the selected country in the dropdown.\n",
                "\n",
                "5. **Running the App:**\n",
                "   - The app is run using `app.run_server(debug=True)`.\n",
                "\n",
                "#### Running the Dashboard:\n",
                "\n",
                "1. Save the code in a file (e.g., `dashboard.py`).\n",
                "2. Open a terminal and navigate to the directory containing the file.\n",
                "3. Run the command: `python dashboard.py`.\n",
                "\n",
                "This simple dashboard allows users to select a country from the dropdown, and the line plot dynamically updates based on the selected country's GDP per Capita over time."
            ],
            "metadata": {
                "azdata_cell_guid": "31d55565-3423-4db0-9a5e-8f45b9d0616d"
            },
            "attachments": {}
        },
        {
            "cell_type": "code",
            "source": [
                "# NOTE : Write this code in separate dasboard.py file as mentioned \n",
                "# in above instruction\n",
                "\n",
                "import dash\n",
                "from dash import dcc, html\n",
                "import plotly.express as px\n",
                "\n",
                "# Example data\n",
                "data = px.data.gapminder().query(\"continent == 'Asia'\")\n",
                "\n",
                "# Initialize the Dash app\n",
                "app = dash.Dash(__name__)\n",
                "\n",
                "# Define the layout of the dashboard\n",
                "app.layout = html.Div(children=[\n",
                "    html.H1(children='Gapminder Dashboard'),\n",
                "    \n",
                "    # Dropdown for selecting a country\n",
                "    dcc.Dropdown(\n",
                "        id='country-dropdown',\n",
                "        options=[{'label': country, 'value': country} for country in data['country'].unique()],\n",
                "        value='India',  # Default selected value\n",
                "        multi=False\n",
                "    ),\n",
                "\n",
                "    # Line plot for GDP per Capita over time\n",
                "    dcc.Graph(\n",
                "        id='gdp-line-plot'\n",
                "    )\n",
                "])\n",
                "\n",
                "# Define callback to update the line plot based on dropdown selection\n",
                "@app.callback(\n",
                "    dash.dependencies.Output('gdp-line-plot', 'figure'),\n",
                "    [dash.dependencies.Input('country-dropdown', 'value')]\n",
                ")\n",
                "def update_line_plot(selected_country):\n",
                "    filtered_data = data[data['country'] == selected_country]\n",
                "    fig = px.line(filtered_data, x='year', y='gdpPercap', title=f'GDP Per Capita Over Time in {selected_country}')\n",
                "    return fig\n",
                "\n",
                "# Run the app\n",
                "if __name__ == '__main__':\n",
                "    app.run_server(debug=True)\n",
                ""
            ],
            "metadata": {
                "azdata_cell_guid": "2c6b9673-e9e0-4b34-acd1-95b4da28a9b6",
                "language": "python",
                "tags": []
            },
            "outputs": [
                {
                    "data": {
                        "text/plain": "<IPython.lib.display.IFrame at 0x1351f96f0>",
                        "text/html": "\n        <iframe\n            width=\"100%\"\n            height=\"650\"\n            src=\"http://127.0.0.1:8050/\"\n            frameborder=\"0\"\n            allowfullscreen\n            \n        ></iframe>\n        "
                    },
                    "metadata": {},
                    "output_type": "display_data"
                }
            ],
            "execution_count": 6
        }
    ]
}