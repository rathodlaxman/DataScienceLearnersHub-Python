{
    "metadata": {
        "kernelspec": {
            "name": "python3",
            "display_name": "Python 3",
            "language": "python"
        },
        "language_info": {
            "name": "python",
            "version": "3.10.9",
            "mimetype": "text/x-python",
            "codemirror_mode": {
                "name": "ipython",
                "version": 3
            },
            "pygments_lexer": "ipython3",
            "nbconvert_exporter": "python",
            "file_extension": ".py"
        }
    },
    "nbformat_minor": 2,
    "nbformat": 4,
    "cells": [
        {
            "cell_type": "markdown",
            "source": [
                "# **`Data Science Learners Hub`**\n",
                "\n",
                "**Module : Python**\n",
                "\n",
                "**email** : [datasciencelearnershub@gmail.com](mailto:datasciencelearnershub@gmail.com)"
            ],
            "metadata": {
                "azdata_cell_guid": "8592aab6-4379-4e73-8c4d-b7bed457b214"
            },
            "attachments": {}
        },
        {
            "cell_type": "markdown",
            "source": [
                "### **`# Exploring 'Tuple' Data Type in Python`**"
            ],
            "metadata": {
                "azdata_cell_guid": "75ef5de1-675c-480f-932e-791b419491c0"
            },
            "attachments": {}
        },
        {
            "cell_type": "markdown",
            "source": [
                "### 1. Introduction\n",
                "\n",
                "- A tuple in Python is a collection similar to a list. However, tuples are  immutable, meaning their values cannot be changed once they are assigned. They are defined using parentheses `()`.\n",
                "\n",
                "### 2. Why Learn This Topic\n",
                "\n",
                "Learning about tuples is essential because:\n",
                "- **Immutability:** Tuples are immutable, making them suitable for situations where you want to ensure that the data remains constant.\n",
                "- **Performance:** Tuples are generally faster than lists, especially for read-only operations.\n",
                "- **Function Return Values:** Many functions in Python return tuples, and understanding tuples allows for effective handling of these return values.\n",
                "\n",
                "### 3. Real-world Scenario\n",
                "\n",
                "- Imagine you have the coordinates of a point in 2D space: `(x, y)`. Here, the use of a tuple is evident. Once you set the coordinates, you don't want them to change, making tuples a perfect choice.\n",
                "\n",
                "### 4. Practical Applications\n",
                "\n",
                "\n",
                "- Representing fixed collections of values (e.g., RGB color codes).\n",
                " - In database operations, tuples can be used to represent a -record where each element is a field in the record.\n",
                "- Storing geographical coordinates.\n",
                "- Returning multiple values from a function.\n",
                "\n",
                "### 5. Interpretation and Execution\n",
                "* When a tuple is created, Python allocates memory to hold its elements.\n",
                "* It remains unchanged throughout its lifetime, ensuring predictability and consistency.\n",
                ""
            ],
            "metadata": {
                "azdata_cell_guid": "53496993-9ddd-4db7-b71e-3ff2dd0de998"
            },
            "attachments": {}
        },
        {
            "cell_type": "markdown",
            "source": [
                "### 6. Common Tuple Methods and Functions\n",
                "\n",
                "`Note` :  that in below table since the Tuple datatype is immutable hence any modification is done and copy only and in-place modification dosent happens\n",
                "\n",
                "\n",
                "\n",
                "| Method          | Syntax                       | Return Type | In-Place or Copy | Input Parameters    | One-liner Explanation                                      | Peculiarities/Considerations                              |\n",
                "| --------------- | ---------------------------- | ----------- | ---------------- | -------------------- | ---------------------------------------------------------- | --------------------------------------------------------- |\n",
                "| count(x)        | `tuple.count(x)`             | int         | Copy             | x: Element to count  | Counts occurrences of the specified element in the tuple. | -                                                         |\n",
                "| index(x)        | `tuple.index(x)`             | int         | Copy             | x: Element to find  | Returns the index of the first occurrence of the element. | Raises `ValueError` if the element is not in the tuple.    |\n",
                "| Concatenation   | `tuple1 + tuple2`            | tuple       | Copy             | tuple1, tuple2      | Combines two tuples into a new tuple.                       | -                                                         |\n",
                "| len()           | `len(tuple)`                 | int         | Copy             | tuple: Target tuple | Returns the number of elements in the tuple.               | -                                                         |\n",
                "| Repetition      | `tuple * n`                  | tuple       | Copy             | n: Repetition count | Creates a new tuple with repeated elements.               | `n` should be a non-negative integer.                      |\n",
                "| Membership      | `element in tuple`           | bool        | Copy             | element: Target     | Checks if an element exists in the tuple.                  | -                                                         |\n",
                "| Membership      | `element not in tuple`       | bool        | Copy             | element: Target     | Checks if an element does not exist in the tuple.          | -                                                         |\n",
                "| Slicing         | `tuple[start:stop:step]`     | tuple       | Copy             | start, stop, step   | Extracts specific elements using slicing.                 | -                                                         |\n",
                "\n",
                "`Note`:\n",
                "- \"In-Place or Copy\" refers to whether the operation modifies the original tuple in-place or creates a new copy.\n",
                "- \"Input Parameters\" indicates the parameters that need to be provided for the method/function.\n",
                "- \"Peculiarities/Considerations\" includes any special notes or considerations for each method/function.\n",
                "\n",
                "\n",
                "#### Other methods/ functions used with tuples\n",
                "\n",
                "Certainly! Here are a few more methods/functions related to the Tuple data type that can be added to the table:\n",
                "\n",
                "| Method          | Syntax                       | Return Type | In-Place or Copy | Input Parameters    | One-liner Explanation                                      | Peculiarities/Considerations                              |\n",
                "| --------------- | ---------------------------- | ----------- | ---------------- | -------------------- | ---------------------------------------------------------- | --------------------------------------------------------- |\n",
                "| max()           | `max(tuple)`                 | element     | Copy             | tuple: Target tuple | Returns the maximum element in the tuple.                  | Elements must be comparable, and non-empty tuple required. |\n",
                "| min()           | `min(tuple)`                 | element     | Copy             | tuple: Target tuple | Returns the minimum element in the tuple.                  | Elements must be comparable, and non-empty tuple required. |\n",
                "| sorted()        | `sorted(tuple, key=None)`    | list        | Copy             | tuple: Target tuple | Returns a sorted list from the elements of the tuple.      | Does not modify the original tuple.                        |\n",
                "| any()           | `any(tuple)`                 | bool        | Copy             | tuple: Target tuple | Returns True if at least one element is True in the tuple. | -                                                         |\n",
                "| all()           | `all(tuple)`                 | bool        | Copy             | tuple: Target tuple | Returns True if all elements are True in the tuple.        | -                                                         |\n",
                "| tuple()         | `tuple(iterable)`            | tuple       | Copy             | iterable: Iterable   | Converts an iterable (list, string, etc.) to a tuple.      | -                                                         |\n",
                "| reversed()      | `reversed(tuple)`            | iterator    | Copy             | tuple: Target tuple | Returns a reversed iterator over the elements of the tuple.| Does not modify the original tuple.                        |\n",
                "\n",
                "`Note`:\n",
                "- \"max\" and \"min\" functions work if the elements are comparable and the tuple is non-empty.\n",
                "- \"sorted\" returns a new sorted list and does not modify the original tuple.\n",
                "- \"any\" returns True if at least one element is True; otherwise, it returns False.\n",
                "- \"all\" returns True if all elements are True; otherwise, it returns False.\n",
                "- \"tuple\" function converts an iterable to a tuple.\n",
                "- \"reversed\" returns a reversed iterator over the elements of the tuple without modifying the original tuple."
            ],
            "metadata": {
                "azdata_cell_guid": "e903e762-b813-4c90-9f57-9e8bb1469e79"
            },
            "attachments": {}
        },
        {
            "cell_type": "markdown",
            "source": [
                "### 5. Syntax and Example\n",
                "\n",
                "**Syntax:**\n",
                "```python\n",
                "my_tuple = (value1, value2, value3, ...)\n",
                "```\n",
                "\n",
                "**Example:**\n",
                "```python\n",
                "coordinates = (4, 7)\n",
                "```"
            ],
            "metadata": {
                "azdata_cell_guid": "181e5f95-7e06-40b3-a009-1af270045a02"
            },
            "attachments": {}
        },
        {
            "cell_type": "markdown",
            "source": [
                "### 7. Tuple Methods\n",
                "\n",
                "Tuples in Python have a few specific methods that are commonly used. Here are some of them:\n",
                "\n",
                "1. **count(value):**\n",
                "   - **Syntax:** `tuple.count(value)`\n",
                "   - Returns the number of occurrences of the specified value in the tuple.\n",
                "   - Example:\n",
                "     ```python\n",
                "     fruits = ('apple', 'banana', 'apple', 'orange')\n",
                "     count_apple = fruits.count('apple')\n",
                "     # count_apple will be 2\n",
                "     ```\n",
                "\n",
                "2. **index(value):**\n",
                "   - **Syntax:** `tuple.index(value)`\n",
                "   - Returns the index of the first occurrence of the specified value.\n",
                "   - Example:\n",
                "     ```python\n",
                "     fruits = ('apple', 'banana', 'orange')\n",
                "     banana_index = fruits.index('banana')\n",
                "     # banana_index will be 1\n",
                "     ```\n",
                "\n",
                "3. **len(tuple):**\n",
                "   - Returns the number of elements in the tuple.\n",
                "   - Example:\n",
                "     ```python\n",
                "     my_tuple = (1, 2, 3, 4, 5)\n",
                "     length = len(my_tuple)\n",
                "     # length will be 5\n",
                "     ```\n",
                "\n",
                "4. **tuple(iterable):**\n",
                "   - **Syntax:** `tuple(iterable)`\n",
                "   - Converts an iterable (e.g., a list or string) into a tuple.\n",
                "   - Example:\n",
                "     ```python\n",
                "     my_list = [1, 2, 3]\n",
                "     tuple_from_list = tuple(my_list)\n",
                "     # tuple_from_list will be (1, 2, 3)\n",
                "     ```\n",
                "\n",
                "5. **sorted(iterable, key=None, reverse=False):**\n",
                "   - **Syntax:** `sorted(iterable, key=None, reverse=False)`\n",
                "   - Returns a new sorted list or tuple from the elements of an iterable.\n",
                "   - Example:\n",
                "     ```python\n",
                "     numbers = (5, 3, 8, 1)\n",
                "     sorted_numbers = tuple(sorted(numbers))\n",
                "     # sorted_numbers will be (1, 3, 5, 8)\n",
                "     ```\n",
                "\n",
                "6. **min(tuple):**\n",
                "   - Returns the minimum value of the elements in the tuple.\n",
                "   - Example:\n",
                "     ```python\n",
                "     temperatures = (25, 18, 30, 15)\n",
                "     min_temp = min(temperatures)\n",
                "     # min_temp will be 15\n",
                "     ```\n",
                "\n",
                "7. **max(tuple):**\n",
                "   - Returns the maximum value of the elements in the tuple.\n",
                "   - Example:\n",
                "     ```python\n",
                "     temperatures = (25, 18, 30, 15)\n",
                "     max_temp = max(temperatures)\n",
                "     # max_temp will be 30\n",
                "     ```\n",
                "\n",
                "These methods provide essential functionality for working with tuples, including counting occurrences, finding indices, obtaining the length, converting from iterables, sorting, and finding minimum and maximum values."
            ],
            "metadata": {
                "azdata_cell_guid": "8ce39508-09d1-45c4-9a39-5d5a59ecb7b6"
            },
            "attachments": {}
        },
        {
            "cell_type": "markdown",
            "source": [
                "### 8. Considerations\n",
                "\n",
                "- Tuples are immutable, so you cannot modify their elements once they are assigned.\n",
                "- Use tuples when the data should remain constant throughout the program.\n",
                "- Due to their immutability, tuples have a smaller memory footprint compared to lists.\n",
                "\n",
                "### 9. Common Mistakes\n",
                "\n",
                "- Forgetting the parentheses when defining a tuple.\n",
                "- Attempting to modify a tuple, which is not allowed.\n",
                "- Forgetting the comma when creating a singleton tuple: singleton_tuple = (1,)\n",
                "- Packing and unpacking: Assigning multiple values to variables or passing them to functions in a concise way."
            ],
            "metadata": {
                "azdata_cell_guid": "385e58ef-e7d1-492a-b734-884916a0a748"
            },
            "attachments": {}
        },
        {
            "cell_type": "markdown",
            "source": [
                "### 10. Hands-on Experience"
            ],
            "metadata": {
                "azdata_cell_guid": "7c12a5dd-45f2-4a38-8a31-324ed8a0311d"
            },
            "attachments": {}
        },
        {
            "cell_type": "markdown",
            "source": [
                "**Question 1:** Create a tuple with three elements: 'apple', 3.14, and True."
            ],
            "metadata": {
                "azdata_cell_guid": "a89abc0c-ef91-4238-abef-3a68f8560a8a"
            },
            "attachments": {}
        },
        {
            "cell_type": "code",
            "source": [
                "my_tuple = ('apple', 3.14, True)\n",
                "print(my_tuple)"
            ],
            "metadata": {
                "azdata_cell_guid": "a1a3506e-5131-429c-9251-ad17a69564e4",
                "language": "python"
            },
            "outputs": [
                {
                    "output_type": "stream",
                    "name": "stdout",
                    "text": "('apple', 3.14, True)\n"
                }
            ],
            "execution_count": 1
        },
        {
            "cell_type": "markdown",
            "source": [
                "**Question 2:** Retrieve the index of the element 'banana' from the tuple ('apple', 'banana', 'orange')."
            ],
            "metadata": {
                "language": "python",
                "azdata_cell_guid": "cfd46a05-ec89-463c-b7a8-551d4d8c89fc"
            },
            "attachments": {}
        },
        {
            "cell_type": "code",
            "source": [
                "fruits = ('apple', 'banana', 'orange')\n",
                "index_of_banana = fruits.index('banana')\n",
                "print(index_of_banana)"
            ],
            "metadata": {
                "language": "python",
                "azdata_cell_guid": "f08cc321-137b-437d-9722-1c075f438b95"
            },
            "outputs": [
                {
                    "output_type": "stream",
                    "name": "stdout",
                    "text": "1\n"
                }
            ],
            "execution_count": 2
        },
        {
            "cell_type": "markdown",
            "source": [
                "**Question 3:** Count the number of occurrences of 'apple' in the tuple ('apple', 'banana', 'apple', 'orange')."
            ],
            "metadata": {
                "language": "python",
                "azdata_cell_guid": "522d7cc1-1de5-465e-b66b-07e7174c1754"
            },
            "attachments": {}
        },
        {
            "cell_type": "code",
            "source": [
                "fruits = ('apple', 'banana', 'apple', 'orange')\n",
                "count_of_apple = fruits.count('apple')  \n",
                "print(count_of_apple)"
            ],
            "metadata": {
                "language": "python",
                "azdata_cell_guid": "6544f41f-e30b-45e0-86b4-4697dd708d11"
            },
            "outputs": [
                {
                    "output_type": "stream",
                    "name": "stdout",
                    "text": "2\n"
                }
            ],
            "execution_count": 3
        },
        {
            "cell_type": "markdown",
            "source": [
                " **Question 4:** Create a tuple with a single element 'cat'."
            ],
            "metadata": {
                "language": "python",
                "azdata_cell_guid": "7407cf53-c7f3-4ddf-b3cf-b9e4c9608abb"
            },
            "attachments": {}
        },
        {
            "cell_type": "code",
            "source": [
                "singleton_tuple = ('cat',)\n",
                "print(singleton_tuple)\n",
                "\n",
                "# Notice the comma after the first element"
            ],
            "metadata": {
                "language": "python",
                "azdata_cell_guid": "1d4a9150-e657-4031-8240-c021f2788cf7"
            },
            "outputs": [
                {
                    "output_type": "stream",
                    "name": "stdout",
                    "text": "('cat',)\n"
                }
            ],
            "execution_count": 4
        },
        {
            "cell_type": "markdown",
            "source": [
                "**Question 5:** Explain the difference between a tuple and a list in Python.\n",
                "\n",
                "- Solution: A tuple is immutable, while a list is mutable."
            ],
            "metadata": {
                "language": "python",
                "azdata_cell_guid": "25767c64-555c-4145-a6d1-94818cf42912"
            },
            "attachments": {}
        },
        {
            "cell_type": "markdown",
            "source": [
                "#### Question 6:\n",
                "Write a Python program that takes a tuple of numbers and returns a new tuple with only unique elements."
            ],
            "metadata": {
                "language": "python",
                "azdata_cell_guid": "9fac17e1-586a-4b4b-aae5-fee4799439e8"
            },
            "attachments": {}
        },
        {
            "cell_type": "code",
            "source": [
                "def unique_elements(input_tuple):\n",
                "    return tuple(set(input_tuple))\n",
                "\n",
                "numbers = (1, 2, 3, 2, 4, 5, 6, 5)\n",
                "result = unique_elements(numbers)\n",
                "print(result)"
            ],
            "metadata": {
                "language": "python",
                "azdata_cell_guid": "0d0bb1db-c91f-4a81-96c9-eb7c14cea253"
            },
            "outputs": [
                {
                    "output_type": "stream",
                    "name": "stdout",
                    "text": "(1, 2, 3, 4, 5, 6)\n"
                }
            ],
            "execution_count": 5
        },
        {
            "cell_type": "markdown",
            "source": [
                "#### Question 7:\n",
                "Write a Python program to find the common elements between two tuples."
            ],
            "metadata": {
                "language": "python",
                "azdata_cell_guid": "2766615a-9677-4dcb-9682-0141318f926c"
            },
            "attachments": {}
        },
        {
            "cell_type": "code",
            "source": [
                "def common_elements(tuple1, tuple2):\n",
                "    return tuple(set(tuple1) & set(tuple2))\n",
                "\n",
                "tuple1 = (1, 2, 3, 4)\n",
                "tuple2 = (3, 4, 5, 6)\n",
                "result = common_elements(tuple1, tuple2)\n",
                "print(result)"
            ],
            "metadata": {
                "language": "python",
                "azdata_cell_guid": "80bab66c-1ccb-4554-96ae-672be3b7d711"
            },
            "outputs": [
                {
                    "output_type": "stream",
                    "name": "stdout",
                    "text": "(3, 4)\n"
                }
            ],
            "execution_count": 6
        },
        {
            "cell_type": "markdown",
            "source": [
                "#### Explanation:\n",
                "\n",
                "The provided code defines a function named `common_elements` that takes two tuples, `tuple1` and `tuple2`, as input and returns a new tuple containing the common elements between the two input tuples. Let's break down the code:\n",
                "\n",
                "```python\n",
                "def common_elements(tuple1, tuple2):\n",
                "    return tuple(set(tuple1) & set(tuple2))\n",
                "```\n",
                "\n",
                "Explanation:\n",
                "\n",
                "1. **Convert to Sets:**\n",
                "   ```python\n",
                "   set(tuple1)\n",
                "   ```\n",
                "   This converts `tuple1` to a set, which automatically removes any duplicate elements, resulting in a set of unique elements.\n",
                "\n",
                "2. **Intersection of Sets:**\n",
                "   ```python\n",
                "   set(tuple1) & set(tuple2)\n",
                "   ```\n",
                "   This calculates the intersection of the sets created from `tuple1` and `tuple2`. The `&` operator is used for set intersection, and it returns a set containing only the common elements between the two sets.\n",
                "\n",
                "3. **Convert to Tuple:**\n",
                "   ```python\n",
                "   tuple(set(tuple1) & set(tuple2))\n",
                "   ```\n",
                "   The result from the set intersection is converted back to a tuple. This ensures that the function returns the common elements in the form of a tuple.\n",
                "\n",
                "4. **Return Statement:**\n",
                "   ```python\n",
                "   return tuple(set(tuple1) & set(tuple2))\n",
                "   ```\n",
                "   The final tuple containing the common elements is returned from the function.\n",
                "\n",
                "In summary, the `common_elements` function leverages sets to efficiently find the common elements between two input tuples. The use of sets ensures uniqueness and simplifies the intersection operation. The resulting common elements are then converted back to a tuple before being returned."
            ],
            "metadata": {
                "language": "python",
                "azdata_cell_guid": "3228708b-d1b8-40a6-ac98-ec8dca42fc35"
            },
            "attachments": {}
        },
        {
            "cell_type": "markdown",
            "source": [
                "#### Question 8:\n",
                "Write a Python program to check if a given tuple is a subset of another tuple."
            ],
            "metadata": {
                "language": "python",
                "azdata_cell_guid": "efdb1ef9-9e3d-4292-84fc-07b436a7b2c1"
            },
            "attachments": {}
        },
        {
            "cell_type": "code",
            "source": [
                "def is_subset(subset, superset):\n",
                "    return all(element in superset for element in subset)\n",
                "\n",
                "tuple1 = (1, 2)\n",
                "tuple2 = (1, 2, 3, 4, 5)\n",
                "result = is_subset(tuple1, tuple2)\n",
                "print(result)"
            ],
            "metadata": {
                "language": "python",
                "azdata_cell_guid": "807fd4f5-eae4-44de-9966-8e777c8f0d2f"
            },
            "outputs": [
                {
                    "output_type": "stream",
                    "name": "stdout",
                    "text": "True\n"
                }
            ],
            "execution_count": 7
        },
        {
            "cell_type": "markdown",
            "source": [
                "#### Explanation\n",
                "\n",
                "The provided code defines a function named `is_subset` that checks if one tuple (`subset`) is a subset of another tuple (`superset`). The function returns `True` if every element in the `subset` is also present in the `superset`, and `False` otherwise. Let's break down the code:\n",
                "\n",
                "```python\n",
                "def is_subset(subset, superset):\n",
                "    return all(element in superset for element in subset)\n",
                "```\n",
                "\n",
                "Explanation:\n",
                "\n",
                "1. **Generator Expression:**\n",
                "   ```python\n",
                "   (element in superset for element in subset)\n",
                "   ```\n",
                "   This is a generator expression that iterates over each element in the `subset` and checks if it is present in the `superset`. The result is a sequence of `True` and `False` values.\n",
                "\n",
                "2. **`all` Function:**\n",
                "   ```python\n",
                "   all(element in superset for element in subset)\n",
                "   ```\n",
                "   The `all` function checks if all elements in the generator expression are `True`. If every element in the `subset` is present in the `superset`, the generator produces all `True` values, and `all` returns `True`. Otherwise, if at least one element is not found in the `superset`, `all` returns `False`.\n",
                "\n",
                "3. **Return Statement:**\n",
                "   ```python\n",
                "   return all(element in superset for element in subset)\n",
                "   ```\n",
                "   The final result from the `all` function is returned from the `is_subset` function.\n",
                "\n",
                "In summary, the `is_subset` function uses a generator expression and the `all` function to efficiently check if every element in the `subset` is also present in the `superset`. The use of the `all` function ensures that the function returns `True` only if every element is found in the `superset`, and `False` otherwise."
            ],
            "metadata": {
                "language": "python",
                "azdata_cell_guid": "32940f06-e2d2-4ccc-91f7-8a691e4e5259"
            },
            "attachments": {}
        },
        {
            "cell_type": "markdown",
            "source": [
                "#### Question 9:\n",
                "Write a Python program to merge two tuples into a single sorted tuple."
            ],
            "metadata": {
                "language": "python",
                "azdata_cell_guid": "dd63bc80-242c-47a6-b939-7cb90ed459dc"
            },
            "attachments": {}
        },
        {
            "cell_type": "code",
            "source": [
                "def merge_and_sort(tuple1, tuple2):\n",
                "    merged_tuple = tuple1 + tuple2\n",
                "    return tuple(sorted(merged_tuple))\n",
                "\n",
                "tuple1 = (5, 3, 8)\n",
                "tuple2 = (1, 4, 2)\n",
                "result = merge_and_sort(tuple1, tuple2)\n",
                "print(result)"
            ],
            "metadata": {
                "language": "python",
                "azdata_cell_guid": "79cf4a78-d0c8-49d5-9791-8e265bd3c374"
            },
            "outputs": [
                {
                    "output_type": "stream",
                    "name": "stdout",
                    "text": "(1, 2, 3, 4, 5, 8)\n"
                }
            ],
            "execution_count": 8
        },
        {
            "cell_type": "markdown",
            "source": [
                "#### Question 10:\n",
                "Write a Python program to find the index of a specified element in a tuple."
            ],
            "metadata": {
                "language": "python",
                "azdata_cell_guid": "455a7bfb-5d08-4b82-b855-b1cb8cf6bd34"
            },
            "attachments": {}
        },
        {
            "cell_type": "code",
            "source": [
                "def find_index(input_tuple, element):\n",
                "    try:\n",
                "        index = input_tuple.index(element)\n",
                "        return index\n",
                "    except ValueError:\n",
                "        return f\"{element} not found in the tuple.\"\n",
                "\n",
                "my_tuple = (10, 20, 30, 40, 50)\n",
                "element_to_find = 30\n",
                "result = find_index(my_tuple, element_to_find)\n",
                "print(result)"
            ],
            "metadata": {
                "language": "python",
                "azdata_cell_guid": "b3826c33-0703-4c63-9a28-d037cef189ec"
            },
            "outputs": [
                {
                    "output_type": "stream",
                    "name": "stdout",
                    "text": "2\n"
                }
            ],
            "execution_count": 9
        },
        {
            "cell_type": "markdown",
            "source": [
                "#### Question 11:\n",
                "Write a Python program to remove all occurrences of a specified element from a tuple."
            ],
            "metadata": {
                "language": "python",
                "azdata_cell_guid": "5635193c-da30-4f49-b352-fd5ccd0754c0"
            },
            "attachments": {}
        },
        {
            "cell_type": "code",
            "source": [
                "def remove_element(input_tuple, element_to_remove):\n",
                "    return tuple(filter(lambda x: x != element_to_remove, input_tuple))\n",
                "\n",
                "numbers = (1, 2, 3, 2, 4, 2, 5)\n",
                "element_to_remove = 2\n",
                "result = remove_element(numbers, element_to_remove)\n",
                "print(result)"
            ],
            "metadata": {
                "language": "python",
                "azdata_cell_guid": "da58886d-465c-41d5-8625-616eefa873e4"
            },
            "outputs": [
                {
                    "output_type": "stream",
                    "name": "stdout",
                    "text": "(1, 3, 4, 5)\n"
                }
            ],
            "execution_count": 10
        },
        {
            "cell_type": "markdown",
            "source": [
                "#### Explanation :\n",
                "\n",
                "The provided code defines a function named `remove_element` that takes a tuple (`input_tuple`) and an element to be removed (`element_to_remove`) as input. The function returns a new tuple with all occurrences of the specified element removed. Let's break down the code:\n",
                "\n",
                "```python\n",
                "def remove_element(input_tuple, element_to_remove):\n",
                "    return tuple(filter(lambda x: x != element_to_remove, input_tuple))\n",
                "```\n",
                "\n",
                "Explanation:\n",
                "\n",
                "1. **Lambda Function:**\n",
                "   ```python\n",
                "   lambda x: x != element_to_remove\n",
                "   ```\n",
                "   This is a lambda function that takes an argument `x` and returns `True` if `x` is not equal to `element_to_remove`, and `False` otherwise. It serves as the filtering condition.\n",
                "\n",
                "2. **`filter` Function:**\n",
                "   ```python\n",
                "   filter(lambda x: x != element_to_remove, input_tuple)\n",
                "   ```\n",
                "   The `filter` function is applied to the `input_tuple`. It creates an iterator that includes only the elements for which the lambda function returns `True`. In this case, it keeps all elements that are not equal to `element_to_remove`.\n",
                "\n",
                "3. **Convert to Tuple:**\n",
                "   ```python\n",
                "   tuple(filter(lambda x: x != element_to_remove, input_tuple))\n",
                "   ```\n",
                "   The result of the `filter` operation is converted back to a tuple using the `tuple` constructor. This ensures that the function returns a tuple as the final result.\n",
                "\n",
                "4. **Return Statement:**\n",
                "   ```python\n",
                "   return tuple(filter(lambda x: x != element_to_remove, input_tuple))\n",
                "   ```\n",
                "   The final tuple, excluding all occurrences of `element_to_remove`, is returned from the function.\n",
                "\n",
                "In summary, the `remove_element` function uses the `filter` function along with a lambda function to create a new tuple that excludes all occurrences of a specified element in the input tuple. The lambda function defines the condition for filtering, and the `filter` function applies this condition to each element in the input tuple."
            ],
            "metadata": {
                "language": "",
                "azdata_cell_guid": "235729ac-25fd-4113-b345-92916000af9b"
            },
            "attachments": {}
        },
        {
            "cell_type": "markdown",
            "source": [
                "**Question 12 : Employee Database:**\n",
                "- Create a program to manage an employee database using tuples. Each employee's information should be stored as a tuple, and the program should allow adding, updating, and displaying employee details."
            ],
            "metadata": {
                "language": "python",
                "azdata_cell_guid": "89586dbf-6ffc-46ce-a2bf-081252d51d18"
            },
            "attachments": {}
        },
        {
            "cell_type": "code",
            "source": [
                "employees = []\n",
                "def add_employee(emp):\n",
                "    employees.append(emp)\n",
                "\n",
                "def update_salary(emp_id, new_salary):\n",
                "    for i, emp in enumerate(employees):\n",
                "        if emp[0] == emp_id:\n",
                "            employees[i] = (emp_id, emp[1], new_salary)\n",
                "            break\n",
                "\n",
                "# Usage:\n",
                "add_employee((1, \"Laxman\", 50000))\n",
                "add_employee((2, \"Naina\", 60000))\n",
                "update_salary(1, 55000)\n",
                "print(employees)\n",
                ""
            ],
            "metadata": {
                "language": "python",
                "azdata_cell_guid": "92babf13-c933-4a2d-8cf4-d90e6694086c"
            },
            "outputs": [
                {
                    "output_type": "stream",
                    "name": "stdout",
                    "text": "[(1, 'Laxman', 55000), (2, 'Naina', 60000)]\n"
                }
            ],
            "execution_count": 16
        },
        {
            "cell_type": "markdown",
            "source": [
                "**Question 13 : Stock Portfolio:**\n",
                "  - Design a program to manage a stock portfolio using tuples. Each stock can be represented as a tuple containing the stock symbol, number of shares, and current price. Implement functions to calculate the total value of the portfolio."
            ],
            "metadata": {
                "language": "python",
                "azdata_cell_guid": "893f609b-0d05-4a6b-b838-6bddb5c3408e"
            },
            "attachments": {}
        },
        {
            "cell_type": "code",
            "source": [
                "portfolio = [(\"TITAN\", 10, 150.50), (\"SBIN\", 5, 2000.25)]\n",
                "\n",
                "def calculate_portfolio_value():\n",
                "    return sum(shares * price for _, shares, price in portfolio)\n",
                "\n",
                "# Usage:\n",
                "total_value = calculate_portfolio_value()\n",
                "print(\"Total Portfolio Value:\", total_value)"
            ],
            "metadata": {
                "language": "python",
                "azdata_cell_guid": "997dac21-809f-4795-900e-8d79be8e6897"
            },
            "outputs": [
                {
                    "output_type": "stream",
                    "name": "stdout",
                    "text": "Total Portfolio Value: 11506.25\n"
                }
            ],
            "execution_count": 18
        },
        {
            "cell_type": "markdown",
            "source": [
                "**Question 14 : Student Grades:**\n",
                "- Write a program to manage student grades using tuples. Each student's information should be stored as a tuple, and the program should allow calculating the average grade."
            ],
            "metadata": {
                "language": "python",
                "azdata_cell_guid": "c10a408c-ce85-45f6-9e53-bb23524111c4"
            },
            "attachments": {}
        },
        {
            "cell_type": "code",
            "source": [
                "students = [(\"Laxman\", (90, 85, 92)), (\"Rajesh\", (78, 80, 85))]\n",
                "\n",
                "def calculate_average_grade(student):\n",
                "    return sum(student[1]) / len(student[1])\n",
                "\n",
                "# Usage:\n",
                "laxman_average = calculate_average_grade(students[0])\n",
                "print(\"Laxman's Average Grade:\", laxman_average)"
            ],
            "metadata": {
                "language": "python",
                "azdata_cell_guid": "b434bd18-3dc6-4b75-bf57-c21a2fddc99d"
            },
            "outputs": [
                {
                    "output_type": "stream",
                    "name": "stdout",
                    "text": "Laxman's Average Grade: 89.0\n"
                }
            ],
            "execution_count": 19
        },
        {
            "cell_type": "markdown",
            "source": [
                "**Question 15 : Temperature Data:**\n",
                "  - Implement a program to process temperature data using tuples. Each tuple represents the temperature and location. Create a function to find the hottest and coldest temperatures."
            ],
            "metadata": {
                "language": "python",
                "azdata_cell_guid": "9c7fa0cb-772f-4a8b-87ea-de1a6e1ddfac"
            },
            "attachments": {}
        },
        {
            "cell_type": "code",
            "source": [
                "temperatures = [(28, \"CityA\"), (32, \"CityB\"), (25, \"CityC\")]\n",
                "\n",
                "def find_extreme_temperatures():\n",
                "    hottest = max(temperatures, key=lambda x: x[0])\n",
                "    coldest = min(temperatures, key=lambda x: x[0])\n",
                "    return hottest, coldest\n",
                "\n",
                "# Usage:\n",
                "hottest, coldest = find_extreme_temperatures()\n",
                "print(\"Hottest Temperature:\", hottest)\n",
                "print(\"Coldest Temperature:\", coldest)"
            ],
            "metadata": {
                "language": "python",
                "azdata_cell_guid": "a4f1e3d6-a864-4b52-98cb-fcae6833c3a9"
            },
            "outputs": [
                {
                    "output_type": "stream",
                    "name": "stdout",
                    "text": "Hottest Temperature: (32, 'CityB')\nColdest Temperature: (25, 'CityC')\n"
                }
            ],
            "execution_count": 20
        },
        {
            "cell_type": "markdown",
            "source": [
                "The provided code defines a list of temperature tuples representing different cities. The code also defines a function named `find_extreme_temperatures` that finds the city with the highest temperature and the city with the lowest temperature among the given data. Let's break down the code:\n",
                "\n",
                "```python\n",
                "temperatures = [(28, \"CityA\"), (32, \"CityB\"), (25, \"CityC\")]\n",
                "\n",
                "def find_extreme_temperatures():\n",
                "    hottest = max(temperatures, key=lambda x: x[0])\n",
                "    coldest = min(temperatures, key=lambda x: x[0])\n",
                "    return hottest, coldest\n",
                "```\n",
                "\n",
                "Explanation:\n",
                "\n",
                "1. **Lambda Function:**\n",
                "   ```python\n",
                "   lambda x: x[0]\n",
                "   ```\n",
                "   This is a lambda function that takes an element `x` (a temperature tuple) and returns the first element of the tuple (`x[0]`), which represents the temperature. This lambda function is used as the key function for finding the maximum and minimum temperatures.\n",
                "\n",
                "2. **`max` Function:**\n",
                "   ```python\n",
                "   max(temperatures, key=lambda x: x[0])\n",
                "   ```\n",
                "   The `max` function is used to find the tuple with the maximum temperature in the `temperatures` list. The `key` argument specifies the function by which the maximum value is determined. In this case, it uses the lambda function to compare temperatures.\n",
                "\n",
                "3. **`min` Function:**\n",
                "   ```python\n",
                "   min(temperatures, key=lambda x: x[0])\n",
                "   ```\n",
                "   Similarly, the `min` function is used to find the tuple with the minimum temperature in the `temperatures` list. The `key` argument specifies the function by which the minimum value is determined.\n",
                "\n",
                "4. **Return Statement:**\n",
                "   ```python\n",
                "   return hottest, coldest\n",
                "   ```\n",
                "   The function returns a tuple containing two elements: the tuple with the highest temperature (`hottest`) and the tuple with the lowest temperature (`coldest`).\n",
                "\n",
                "In summary, the `find_extreme_temperatures` function uses the `max` and `min` functions to find the tuples with the highest and lowest temperatures in the given list of temperature tuples. The lambda function is employed to extract the temperature values for comparison. The function then returns a tuple containing the hottest and coldest temperature tuples."
            ],
            "metadata": {
                "language": "python",
                "azdata_cell_guid": "9e5a03cd-203e-4143-9cbc-4c4c72745b32"
            },
            "attachments": {}
        },
        {
            "cell_type": "markdown",
            "source": [
                "**Question 16 : Shopping Cart:**\n",
                "   - Develop a program to simulate a shopping cart using tuples. Each item in the cart is represented as a tuple containing the item name, quantity, and price. Implement functions to calculate the total cost and apply discounts."
            ],
            "metadata": {
                "language": "python",
                "azdata_cell_guid": "0de00670-1637-4c90-b6c2-c3fb4e9738d1"
            },
            "attachments": {}
        },
        {
            "cell_type": "code",
            "source": [
                "cart = [(\"Laptop\", 2, 1200), (\"Headphones\", 1, 100), (\"Mouse\", 3, 20)]\n",
                "\n",
                "def calculate_total_cost():\n",
                "    return sum(quantity * price for _, quantity, price in cart)\n",
                "\n",
                "def apply_discount(discount_percentage):\n",
                "    discount_factor = 1 - discount_percentage / 100\n",
                "    discounted_cart = [(item, quantity, price * discount_factor) for item, quantity, price in cart]\n",
                "    return discounted_cart\n",
                "\n",
                "# Usage:\n",
                "total_cost = calculate_total_cost()\n",
                "print(\"Total Cost before Discount:\", total_cost)\n",
                "\n",
                "discounted_cart = apply_discount(10)\n",
                "discounted_cost = calculate_total_cost()\n",
                "print(\"Total Cost after 10% Discount:\", discounted_cost)"
            ],
            "metadata": {
                "language": "python",
                "azdata_cell_guid": "78a5b85e-494e-4cab-8572-8727358895f1"
            },
            "outputs": [
                {
                    "output_type": "stream",
                    "name": "stdout",
                    "text": "Total Cost before Discount: 2560\nTotal Cost after 10% Discount: 2560\n"
                }
            ],
            "execution_count": 21
        },
        {
            "cell_type": "markdown",
            "source": [
                "**Question 17 : Bookstore Inventory:**\n",
                "   - Create a program to manage a bookstore inventory using tuples. Each tuple should represent a book with information such as title, author, quantity in stock, and price. Implement functions to update stock levels and find the most expensive book."
            ],
            "metadata": {
                "language": "python",
                "azdata_cell_guid": "a17b69bf-75e2-4c7e-995b-e4b3018092a8"
            },
            "attachments": {}
        },
        {
            "cell_type": "code",
            "source": [
                "bookstore_inventory = [\n",
                "    (\"The Catcher in the Rye\", \"J.D. Salinger\", 20, 15.99),\n",
                "    (\"To Kill a Mockingbird\", \"Harper Lee\", 15, 12.50),\n",
                "    (\"1984\", \"George Orwell\", 25, 10.99)\n",
                "]\n",
                "\n",
                "def update_stock(book_title, new_stock):\n",
                "    for i, book in enumerate(bookstore_inventory):\n",
                "        if book[0] == book_title:\n",
                "            bookstore_inventory[i] = (book[0], book[1], new_stock, book[3])\n",
                "            break\n",
                "\n",
                "def find_most_expensive_book():\n",
                "    return max(bookstore_inventory, key=lambda x: x[3])\n",
                "\n",
                "# Usage:\n",
                "update_stock(\"To Kill a Mockingbird\", 18)\n",
                "most_expensive_book = find_most_expensive_book()\n",
                "print(\"Most Expensive Book:\", most_expensive_book)"
            ],
            "metadata": {
                "language": "python",
                "azdata_cell_guid": "026f1072-08c3-4e9d-af2b-e2b96f283457"
            },
            "outputs": [
                {
                    "output_type": "stream",
                    "name": "stdout",
                    "text": "Most Expensive Book: ('The Catcher in the Rye', 'J.D. Salinger', 20, 15.99)\n"
                }
            ],
            "execution_count": 22
        },
        {
            "cell_type": "markdown",
            "source": [
                "**Question 18 : Student Registration System:**\n",
                "- Design a program to manage student registration using tuples. Each student tuple should include student ID, name, courses enrolled, and grades. Implement functions to calculate GPA and display students with a specific grade."
            ],
            "metadata": {
                "language": "python",
                "azdata_cell_guid": "bd43f5e7-dbf9-4921-a3ff-461dbff38b08"
            },
            "attachments": {}
        },
        {
            "cell_type": "code",
            "source": [
                "students_data = [\n",
                "    (101, \"Laxman\", [\"Math\", \"Physics\", \"Chemistry\"], [90, 85, 92]),\n",
                "    (102, \"Rajesh\", [\"History\", \"English\", \"Biology\"], [78, 80, 85])\n",
                "]\n",
                "\n",
                "def calculate_gpa(student):\n",
                "    return sum(student[3]) / len(student[3])\n",
                "\n",
                "def students_with_grade(grade):\n",
                "    return [student for student in students_data if any(mark >= grade for mark in student[3])]\n",
                "\n",
                "# Usage:\n",
                "laxman_gpa = calculate_gpa(students_data[0])\n",
                "print(\"Laxman's GPA:\", laxman_gpa)\n",
                "\n",
                "grade_b_students = students_with_grade(80)\n",
                "print(\"Students with Grade B:\", grade_b_students)"
            ],
            "metadata": {
                "language": "python",
                "azdata_cell_guid": "91f5d1ed-bda7-49b6-9031-b475ed5134f1"
            },
            "outputs": [
                {
                    "output_type": "stream",
                    "name": "stdout",
                    "text": "Laxman's GPA: 89.0\nStudents with Grade B: [(101, 'Laxman', ['Math', 'Physics', 'Chemistry'], [90, 85, 92]), (102, 'Rajesh', ['History', 'English', 'Biology'], [78, 80, 85])]\n"
                }
            ],
            "execution_count": 23
        },
        {
            "cell_type": "markdown",
            "source": [
                "**Question 19 : Flight Booking System:**\n",
                "- Develop a program to manage flight bookings using tuples. Each tuple should represent a flight with details like flight number, destination, available seats, and price per seat. Implement functions to book seats and calculate total revenue."
            ],
            "metadata": {
                "language": "python",
                "azdata_cell_guid": "1fe521d5-665f-4389-aedb-07c3a30b5458"
            },
            "attachments": {}
        },
        {
            "cell_type": "code",
            "source": [
                "flights_data = [\n",
                "    (\"FL123\", \"New York\", 100, 250),\n",
                "    (\"FL456\", \"Los Angeles\", 80, 200),\n",
                "    (\"FL789\", \"Chicago\", 120, 180)\n",
                "]\n",
                "\n",
                "def book_seats(flight_number, seats_to_book):\n",
                "    for i, flight in enumerate(flights_data):\n",
                "        if flight[0] == flight_number and flight[2] >= seats_to_book:\n",
                "            flights_data[i] = (flight[0], flight[1], flight[2] - seats_to_book, flight[3])\n",
                "            return True\n",
                "    return False\n",
                "\n",
                "def calculate_total_revenue():\n",
                "    return sum((100 - flight[2]) * flight[3] for flight in flights_data)\n",
                "\n",
                "# Usage:\n",
                "booking_success = book_seats(\"FL123\", 5)\n",
                "total_revenue = calculate_total_revenue()\n",
                "print(\"Booking Successful:\", booking_success)\n",
                "print(\"Total Revenue:\", total_revenue)"
            ],
            "metadata": {
                "language": "python",
                "azdata_cell_guid": "c4e640ad-0960-4426-8e70-70a2e331fbde"
            },
            "outputs": [
                {
                    "output_type": "stream",
                    "name": "stdout",
                    "text": "Booking Successful: True\nTotal Revenue: 1650\n"
                }
            ],
            "execution_count": 24
        },
        {
            "cell_type": "markdown",
            "source": [
                "**Question 20 : Weather Data Analysis:**\n",
                "- Write a program to analyze weather data using tuples. Each tuple should represent daily weather information like date, temperature, and precipitation. Implement functions to find the average temperature and days with rain."
            ],
            "metadata": {
                "azdata_cell_guid": "02bb9170-bfa0-4bfd-9878-18a41f6e2621"
            },
            "attachments": {}
        },
        {
            "cell_type": "code",
            "source": [
                "weather_data = [\n",
                "    (\"2023-01-01\", 25, 0.2),\n",
                "    (\"2023-01-02\", 28, 0.0),\n",
                "    (\"2023-01-03\", 22, 0.5),\n",
                "    # ... more data ...\n",
                "]\n",
                "\n",
                "def average_temperature():\n",
                "    return sum(day[1] for day in weather_data) / len(weather_data)\n",
                "\n",
                "def rainy_days():\n",
                "    return [day for day in weather_data if day[2] > 0]\n",
                "\n",
                "# Usage:\n",
                "avg_temp = average_temperature()\n",
                "print(\"Average Temperature:\", avg_temp)\n",
                "\n",
                "rainy_days_list = rainy_days()\n",
                "print(\"Days with Rain:\", rainy_days_list)"
            ],
            "metadata": {
                "azdata_cell_guid": "0773c05d-90ce-4ff1-abf6-f66d637c7a22",
                "language": "python"
            },
            "outputs": [
                {
                    "output_type": "stream",
                    "name": "stdout",
                    "text": "Average Temperature: 25.0\nDays with Rain: [('2023-01-01', 25, 0.2), ('2023-01-03', 22, 0.5)]\n"
                }
            ],
            "execution_count": 25
        },
        {
            "cell_type": "markdown",
            "source": [
                "**Question 21 : Conference Schedule:**\n",
                "- Design a program to manage a conference schedule using tuples. Each tuple should represent a session with details like session name, speaker, and duration. Implement functions to find the longest session and total duration of all sessions."
            ],
            "metadata": {
                "language": "python",
                "azdata_cell_guid": "96f2fb21-6570-423f-b105-8c87c6fe6da6"
            },
            "attachments": {}
        },
        {
            "cell_type": "code",
            "source": [
                "conference_schedule = [\n",
                "    (\"Keynote Address\", \"Dr. Smith\", 60),\n",
                "    (\"Data Analytics Workshop\", \"Alice Johnson\", 90),\n",
                "    (\"Networking Lunch\", \"N/A\", 60),\n",
                "    (\"Machine Learning Panel\", \"Panelists\", 120)\n",
                "]\n",
                "\n",
                "def longest_session():\n",
                "    return max(conference_schedule, key=lambda x: x[2])\n",
                "\n",
                "def total_duration():\n",
                "    return sum(session[2] for session in conference_schedule)\n",
                "\n",
                "# Usage:\n",
                "longest_session_info = longest_session()\n",
                "total_duration_minutes = total_duration()\n",
                "print(\"Longest Session:\", longest_session_info)\n",
                "print(\"Total Duration:\", total_duration_minutes, \"minutes\")"
            ],
            "metadata": {
                "language": "python",
                "azdata_cell_guid": "bf951c5f-25ff-4724-b382-b6436abd3da9"
            },
            "outputs": [
                {
                    "output_type": "stream",
                    "name": "stdout",
                    "text": "Longest Session: ('Machine Learning Panel', 'Panelists', 120)\nTotal Duration: 330 minutes\n"
                }
            ],
            "execution_count": 26
        },
        {
            "cell_type": "markdown",
            "source": [
                "### 11. Homework Assignments:\n",
                "\n",
                "#### Part - 1\n",
                "\n",
                "1. **Tuple Operations:**\n",
                "   Write a Python program that takes two tuples as input and returns a new tuple containing elements that are unique to both tuples.\n",
                "\n",
                "2. **Tuple Intersection:**\n",
                "   Create a Python function that finds the intersection of two tuples and returns a tuple with common elements, maintaining the order of the first tuple.\n",
                "\n",
                "3. **Tuple Validation:**\n",
                "   Write a Python function that checks if a given tuple is a valid binary tuple (contains only 0s and 1s).\n",
                "\n",
                "4. **Tuple Concatenation:**\n",
                "   Implement a program that takes two tuples of strings and returns a new tuple with strings concatenated element-wise.\n",
                "\n",
                "5. **Tuple Element Frequency:**\n",
                "   Develop a Python program that counts the frequency of each element in a given tuple and returns the results in a dictionary.\n",
                "\n",
                "6. **Tuple Differences:**\n",
                "   Create a Python function that takes two tuples and returns a new tuple containing elements that are unique to each tuple.\n",
                "\n",
                "7. **Tuple Sorting:**\n",
                "   Write a program to sort a tuple of strings based on the length of each string.\n",
                "\n",
                "8. **Tuple Packing and Unpacking:**\n",
                "   Demonstrate the concept of tuple packing and unpacking using a function that returns multiple values as a tuple.\n",
                "\n",
                "9. **Tuple Swapping:**\n",
                "   Implement a Python program that swaps the first and last elements of a given tuple.\n",
                "\n",
                "10. **Tuple Filtering:**\n",
                "    Create a function that filters out odd numbers from a tuple of integers and returns a new tuple.\n",
                "\n",
                "\n",
                "#### Part - 2\n",
                "\n",
                "1. **Employee Information System:**\n",
                "   Create a program to manage employee information. Allow users to input tuples containing employee names, ages, and salaries. Implement functions to find the oldest and youngest employees and calculate the average salary.\n",
                "\n",
                "2. **Book Inventory System:**\n",
                "   Develop a program to track a bookstore's inventory. Allow users to input tuples representing book titles, authors, and prices. Create functions to find the most expensive and least expensive books and calculate the total inventory value.\n",
                "\n",
                "3. **Movie Ratings Analysis:**\n",
                "   Design a program that analyzes movie ratings. Allow users to input tuples containing movie titles and their ratings. Implement functions to find the highest and lowest-rated movies and calculate the average rating.\n",
                "\n",
                "4. **Student Enrollment System:**\n",
                "   Create a program to manage student enrollments. Allow users to input tuples with student names, IDs, and courses. Implement functions to find students enrolled in a specific course and identify courses with the most and least enrollment.\n",
                "\n",
                "5. **Health Tracker:**\n",
                "   Develop a program to track health-related data. Allow users to input tuples with information such as dates, steps taken, and calories burned. Create functions to find the day with the most steps, the average calories burned, and the overall progress."
            ],
            "metadata": {
                "language": "python",
                "azdata_cell_guid": "e3e88f34-6643-4f3a-842b-3a610e65d317"
            },
            "attachments": {}
        },
        {
            "cell_type": "markdown",
            "source": [
                "### 12. Interesting Facts\n",
                "\n",
                "- Tuples can be used as keys in dictionaries because they are immutable.\n",
                "- Tuple packing and unpacking allow multiple variables to be assigned in a\n",
                "- The syntax for creating a single-element tuple is (element,) with a trailing comma.\n",
                "- Tuples are hashable, making them suitable for use as keys in dictionaries.\n",
                "\n",
                "\n",
                "### 13. Do you know ?\n",
                "\n",
                "- NASA's Mars Climate Orbiter: A software bug involving a unit conversion issue (not directly related to tuples) led to the loss of the spacecraft in 1999. This highlights the importance of careful data handling and validation in programming, including the use of appropriate data types like tuples when immutability is crucial."
            ],
            "metadata": {
                "language": "python",
                "azdata_cell_guid": "0a187fce-b33c-48bf-aca0-d56c05e8acd0"
            },
            "attachments": {}
        },
        {
            "cell_type": "markdown",
            "source": [
                "**14. Extra Innings**"
            ],
            "metadata": {
                "language": "python",
                "azdata_cell_guid": "fe36254a-f786-4d99-ae6d-bcb5b9bd451d"
            },
            "attachments": {}
        },
        {
            "cell_type": "markdown",
            "source": [
                "You can create empty tuples in Python using various methods. Here are a few ways to create an empty tuple and methods to identify whether a tuple is empty:\n",
                "\n",
                "### Creating Empty Tuples:\n",
                "\n",
                "1. **Using Parentheses:**\n",
                "   ```python\n",
                "   empty_tuple = ()\n",
                "   ```\n",
                "\n",
                "2. **Using the `tuple()` Constructor:**\n",
                "   ```python\n",
                "   empty_tuple = tuple()\n",
                "   ```\n",
                "\n",
                "3. **Tuple Assignment:**\n",
                "   ```python\n",
                "   empty_tuple = tuple([])\n",
                "   ```\n",
                "\n",
                "### Identifying Empty Tuples:\n",
                "\n",
                "1. **Using `len()`:**\n",
                "   You can use the `len()` function to check the length of a tuple. An empty tuple will have a length of 0.\n",
                "   ```python\n",
                "   if len(my_tuple) == 0:\n",
                "       print(\"The tuple is empty.\")\n",
                "   ```\n",
                "\n",
                "2. **Using `not` with Boolean Evaluation:**\n",
                "   The `not` keyword can be used to check if a tuple is empty in a boolean context.\n",
                "   ```python\n",
                "   if not my_tuple:\n",
                "       print(\"The tuple is empty.\")\n",
                "   ```\n",
                "\n",
                "3. **Direct Comparison:**\n",
                "   You can directly compare the tuple to an empty tuple.\n",
                "   ```python\n",
                "   if my_tuple == ():\n",
                "       print(\"The tuple is empty.\")\n",
                "   ```\n",
                "\n",
                "Choose the method that suits your coding style and requirements. The `len()` and `not` methods are commonly used for simplicity and readability."
            ],
            "metadata": {
                "language": "python",
                "azdata_cell_guid": "b169f517-2c2f-41b4-8c0d-cb12e3e1ead5"
            },
            "attachments": {}
        },
        {
            "cell_type": "code",
            "source": [
                "# Define a tuple\n",
                "original_tuple = (1, 2, 3, 4, 5)\n",
                "\n",
                "# Scalar for arithmetic operations\n",
                "scalar = 2\n",
                "\n",
                "# Perform arithmetic operations on the tuple by the scalar\n",
                "result_addition = tuple(x + scalar for x in original_tuple)\n",
                "result_subtraction = tuple(x - scalar for x in original_tuple)\n",
                "result_multiplication = tuple(x * scalar for x in original_tuple)\n",
                "result_division = tuple(x / scalar for x in original_tuple)\n",
                "\n",
                "# Display the results\n",
                "print(\"Original Tuple:\", original_tuple)\n",
                "print(\"Addition:\", result_addition)\n",
                "print(\"Subtraction:\", result_subtraction)\n",
                "print(\"Multiplication:\", result_multiplication)\n",
                "print(\"Division:\", result_division)\n",
                ""
            ],
            "metadata": {
                "azdata_cell_guid": "641e0dc7-6978-4c52-b57a-088a866ac155",
                "language": "python"
            },
            "outputs": [
                {
                    "output_type": "stream",
                    "name": "stdout",
                    "text": "Original Tuple: (1, 2, 3, 4, 5)\nAddition: (3, 4, 5, 6, 7)\nSubtraction: (-1, 0, 1, 2, 3)\nMultiplication: (2, 4, 6, 8, 10)\nDivision: (0.5, 1.0, 1.5, 2.0, 2.5)\n"
                }
            ],
            "execution_count": 11
        },
        {
            "cell_type": "code",
            "source": [
                "original_tuple = (1, 2, 3, 4, 5) * 2\n",
                "\n",
                "print(original_tuple)\n",
                "\n",
                "# original_tuple = (1, 2, 3, 4, 5) + 2\n",
                "\n",
                "# print(original_tuple)\n",
                "\n",
                "original_tuple = (1, 2, 3, 4, 5) / 2\n",
                "\n",
                "print(original_tuple)"
            ],
            "metadata": {
                "language": "python",
                "azdata_cell_guid": "48d5146f-afaf-4d96-b4c7-16e2b2ecd903"
            },
            "outputs": [
                {
                    "output_type": "stream",
                    "name": "stdout",
                    "text": "(1, 2, 3, 4, 5, 1, 2, 3, 4, 5)\n"
                },
                {
                    "output_type": "error",
                    "ename": "TypeError",
                    "evalue": "unsupported operand type(s) for /: 'tuple' and 'int'",
                    "traceback": [
                        "\u001b[0;31m---------------------------------------------------------------------------\u001b[0m",
                        "\u001b[0;31mTypeError\u001b[0m                                 Traceback (most recent call last)",
                        "Cell \u001b[0;32mIn[15], line 9\u001b[0m\n\u001b[1;32m      3\u001b[0m \u001b[38;5;28mprint\u001b[39m(original_tuple)\n\u001b[1;32m      5\u001b[0m \u001b[38;5;66;03m# original_tuple = (1, 2, 3, 4, 5) + 2\u001b[39;00m\n\u001b[1;32m      6\u001b[0m \n\u001b[1;32m      7\u001b[0m \u001b[38;5;66;03m# print(original_tuple)\u001b[39;00m\n\u001b[0;32m----> 9\u001b[0m original_tuple \u001b[38;5;241m=\u001b[39m \u001b[43m(\u001b[49m\u001b[38;5;241;43m1\u001b[39;49m\u001b[43m,\u001b[49m\u001b[43m \u001b[49m\u001b[38;5;241;43m2\u001b[39;49m\u001b[43m,\u001b[49m\u001b[43m \u001b[49m\u001b[38;5;241;43m3\u001b[39;49m\u001b[43m,\u001b[49m\u001b[43m \u001b[49m\u001b[38;5;241;43m4\u001b[39;49m\u001b[43m,\u001b[49m\u001b[43m \u001b[49m\u001b[38;5;241;43m5\u001b[39;49m\u001b[43m)\u001b[49m\u001b[43m \u001b[49m\u001b[38;5;241;43m/\u001b[39;49m\u001b[43m \u001b[49m\u001b[38;5;241;43m2\u001b[39;49m\n\u001b[1;32m     11\u001b[0m \u001b[38;5;28mprint\u001b[39m(original_tuple)\n",
                        "\u001b[0;31mTypeError\u001b[0m: unsupported operand type(s) for /: 'tuple' and 'int'"
                    ]
                }
            ],
            "execution_count": 15
        }
    ]
}