{
    "metadata": {
        "kernelspec": {
            "name": "python3",
            "display_name": "Python 3",
            "language": "python"
        },
        "language_info": {
            "name": "python",
            "version": "3.10.9",
            "mimetype": "text/x-python",
            "codemirror_mode": {
                "name": "ipython",
                "version": 3
            },
            "pygments_lexer": "ipython3",
            "nbconvert_exporter": "python",
            "file_extension": ".py"
        }
    },
    "nbformat_minor": 2,
    "nbformat": 4,
    "cells": [
        {
            "cell_type": "markdown",
            "source": [
                "# **Data Science Learners Hub - Python**\n",
                "\n",
                "**Module : Python**\n",
                "\n",
                "**Topic :** <span style=\"background-color: rgb(255, 255, 255); color: rgb(31, 31, 31); font-family: &quot;Google Sans&quot;, Roboto, sans-serif; font-size: 12px; caret-color: rgb(31, 31, 31); white-space-collapse: preserve;\">Control Flow Statements (if, else, elif)</span>\n",
                "\n",
                "**email** : [datasciencelearnershub@gmail.com](https://github.com/rathodlaxman/DataScienceLearnersHub/blob/50de48da0c8f7145a545dd9942457c8b9cfc8fc5//mailto:datasciencelearnershub@gmail.com)"
            ],
            "metadata": {
                "azdata_cell_guid": "6e59ed8c-30d0-41f1-b362-ec6076e26652"
            },
            "attachments": {}
        },
        {
            "cell_type": "markdown",
            "source": [
                "## **Control Flow Statements(if, else, elif)**"
            ],
            "metadata": {
                "azdata_cell_guid": "42f7057f-8244-41b6-af17-7420a8dadbc0"
            },
            "attachments": {}
        },
        {
            "cell_type": "markdown",
            "source": [
                "### **1\\. What are Control Flow Statements (if, else, elif) in Python?**\n",
                "\n",
                "**Control Flow Statements** in Python are used to control the order of execution of statements in a program. They allow you to make decisions based on conditions, enabling the creation of branching and looping structures."
            ],
            "metadata": {
                "azdata_cell_guid": "2bdd4dc0-de70-4e64-9cb7-e64659270515"
            },
            "attachments": {}
        },
        {
            "cell_type": "markdown",
            "source": [
                "### **2\\. Why do we Require Control Flow Statements (if, else, elif) in Programming Languages?**\n",
                "\n",
                "\\- **Decision Making**: Control flow statements are crucial for decision-making in a program. They allow the program to execute different sets of statements based on certain conditions.\n",
                "\n",
                "\\- **Flow Control:** They provide a way to control the flow of execution, enabling the program to follow different paths depending on the situation.\n",
                "\n",
                "\\- **Error handling:** They can be used to prevent errors and handle unexpected situations gracefully."
            ],
            "metadata": {
                "azdata_cell_guid": "baf6d1f1-0d3c-4df6-89c1-dd3c0bfff60a"
            },
            "attachments": {}
        },
        {
            "cell_type": "markdown",
            "source": [
                "### **3\\. What Happens When a Control Flow Statement (if, else, elif) is Executed/Interpreted?**\n",
                "\n",
                "  \n",
                "\n",
                "\\- When a control flow statement is encountered, the Python interpreter evaluates the specified condition.\n",
                "\n",
                "  \n",
                "\n",
                "\\- If the condition is true, the statements within the block associated with the condition are executed. Otherwise, the interpreter proceeds to the next block."
            ],
            "metadata": {
                "azdata_cell_guid": "d20f214f-058b-4647-a8be-e3dd5f69cb51"
            },
            "attachments": {}
        },
        {
            "cell_type": "markdown",
            "source": [
                "### **4\\. Various Control Flow Statements (if, else, elif) in Python**"
            ],
            "metadata": {
                "azdata_cell_guid": "3c401ccf-2587-422f-82bb-9f94bf10d973"
            },
            "attachments": {}
        },
        {
            "cell_type": "markdown",
            "source": [
                "### **4.1 If Statement**\n",
                "\n",
                "  \n",
                "\n",
                "\\- **Usage:** Executes a block of code if a given condition is true.\n",
                "\n",
                "\\- **Syntax:**\n",
                "\n",
                "  \n",
                "\n",
                "  if condition:\n",
                "\n",
                "      \\# Code to execute if the condition is true"
            ],
            "metadata": {
                "azdata_cell_guid": "9a79efc0-17ff-41b0-acf8-f6a6715001b2"
            },
            "attachments": {}
        },
        {
            "cell_type": "code",
            "source": [
                "age = 25\n",
                "if age >= 18:\n",
                "    print(\"You are eligible to vote.\")"
            ],
            "metadata": {
                "azdata_cell_guid": "3f7bd98d-ab0b-451b-a0f8-390ab132f52e",
                "language": "python"
            },
            "outputs": [
                {
                    "output_type": "stream",
                    "name": "stdout",
                    "text": "You are eligible to vote.\n"
                }
            ],
            "execution_count": 1
        },
        {
            "cell_type": "markdown",
            "source": [
                "### **4.2 If-Else Statement**\n",
                "\n",
                "  \n",
                "\n",
                "\\- **Usage:** Executes one block of code if a condition is true and another block if it's false.\n",
                "\n",
                "\\- **Syntax:**\n",
                "\n",
                "  \n",
                "\n",
                "  if condition:\n",
                "\n",
                "      \\# Code to execute if the condition is true\n",
                "\n",
                "  else:\n",
                "\n",
                "      \\# Code to execute if the condition is false"
            ],
            "metadata": {
                "language": "python",
                "azdata_cell_guid": "6ee91430-7f87-4f57-8d7c-d47ba0e29156"
            },
            "attachments": {}
        },
        {
            "cell_type": "code",
            "source": [
                "temperature = 25\n",
                "if temperature > 30:\n",
                "    print(\"It's hot outside.\")\n",
                "else:\n",
                "    print(\"It's not too hot.\")"
            ],
            "metadata": {
                "language": "python",
                "azdata_cell_guid": "d28fc407-6e66-4db6-af46-7bd78e6c4272"
            },
            "outputs": [
                {
                    "output_type": "stream",
                    "name": "stdout",
                    "text": "It's not too hot.\n"
                }
            ],
            "execution_count": 2
        },
        {
            "cell_type": "markdown",
            "source": [
                "### **4.3 If-Elif-Else Statement**\n",
                "\n",
                "  \n",
                "\n",
                "\\- **Usage:** Executes one block among several possible blocks, depending on which condition is true.\n",
                "\n",
                "\\- **Syntax:**\n",
                "\n",
                "  \n",
                "\n",
                "  if condition1:\n",
                "\n",
                "      \\# Code to execute if condition1 is true\n",
                "\n",
                "  elif condition2:\n",
                "\n",
                "      \\# Code to execute if condition2 is true\n",
                "\n",
                "  else:\n",
                "\n",
                "      \\# Code to execute if none of the conditions are true"
            ],
            "metadata": {
                "language": "python",
                "azdata_cell_guid": "8b9653dd-006a-40d1-871b-205a41cb6aa6"
            },
            "attachments": {}
        },
        {
            "cell_type": "code",
            "source": [
                "score = 85\n",
                "if score >= 90:\n",
                "    print(\"Grade A\")\n",
                "elif score >= 80:\n",
                "    print(\"Grade B\")\n",
                "else:\n",
                "    print(\"Grade C\")"
            ],
            "metadata": {
                "language": "python",
                "azdata_cell_guid": "e786b987-84ac-472a-9827-f378f2cb285e"
            },
            "outputs": [
                {
                    "output_type": "stream",
                    "name": "stdout",
                    "text": "Grade B\n"
                }
            ],
            "execution_count": 3
        },
        {
            "cell_type": "markdown",
            "source": [
                "### **4.4 Nested if-else statements**\n",
                "\n",
                "\\- Nested if-else statements in Python allow you to have multiple levels of decision-making within your code. This means that an if-else statement can contain another if-else statement as one of its branches. Let me explain this with an example:"
            ],
            "metadata": {
                "language": "python",
                "azdata_cell_guid": "981c207c-89ed-43dd-8488-6a964a982670"
            },
            "attachments": {}
        },
        {
            "cell_type": "code",
            "source": [
                "# Nested if-else example\n",
                "\n",
                "# Assume we want to check a student's eligibility for a scholarship based on their grades and attendance.\n",
                "\n",
                "grade = 85\n",
                "attendance = 90\n",
                "\n",
                "if grade >= 80:\n",
                "    print(\"You are eligible for a scholarship.\")\n",
                "    if attendance >= 90:\n",
                "        print(\"Congratulations! You have excellent attendance.\")\n",
                "    else:\n",
                "        print(\"Please improve your attendance to maximize benefits.\")\n",
                "else:\n",
                "    print(\"Sorry, you are not eligible for a scholarship.\")"
            ],
            "metadata": {
                "language": "python",
                "azdata_cell_guid": "8d636802-5140-4325-bc48-5b6f1d1773d9"
            },
            "outputs": [],
            "execution_count": null
        },
        {
            "cell_type": "markdown",
            "source": [
                "**Explanation of above example:**\n",
                "\n",
                "  \n",
                "\n",
                "\\- The outer if-else statement checks if the student's grade is greater than or equal to 80. If true, it prints a message indicating scholarship eligibility. If false, it prints a message indicating ineligibility.\n",
                "\n",
                "  \n",
                "\n",
                "\\- If the student is eligible (grade \\>= 80), the program enters the inner if-else statement. This inner statement checks if the student's attendance is greater than or equal to 90. If true, it prints a message congratulating the student on excellent attendance. If false, it advises the student to improve attendance.\n",
                "\n",
                "  \n",
                "\n",
                "This is an example of a nested if-else statement. The indentation is crucial to indicate the level of nesting. Each level of indentation represents a different level of the decision-making structure.\n",
                "\n",
                "  \n",
                "\n",
                "Nested if-else statements are useful when you need to evaluate multiple conditions in a structured way, and the execution of one block of code depends on the outcome of another set of conditions."
            ],
            "metadata": {
                "language": "python",
                "azdata_cell_guid": "e858c322-f4f2-4cb7-a3be-fa364b2fa9aa"
            },
            "attachments": {}
        },
        {
            "cell_type": "markdown",
            "source": [
                "### **5\\. Practical Application of Control Flow Statements (if, else, elif) in Real World**\n",
                "\n",
                "  \n",
                "\n",
                "\\- **Decision-Making in Software:** In software applications, control flow statements are used to implement decision-making logic, such as user authentication, access control, and error handling.\n",
                "\n",
                "  \n",
                "\n",
                "\\- **Game Development:** In game development, control flow statements are used to handle game logic, such as determining whether a character has completed a level or achieved a certain score."
            ],
            "metadata": {
                "language": "python",
                "azdata_cell_guid": "29ddb11b-98e2-48b1-b350-dc697d0f679d"
            },
            "attachments": {}
        },
        {
            "cell_type": "markdown",
            "source": [
                "### **6\\. Peculiarities and Considerations for Control Flow Statements (if, else, elif) in Python**\n",
                "\n",
                "  \n",
                "\n",
                "\\- **Indentation:** Python uses indentation to define blocks of code. All statements within the same block must have the same level of indentation.\n",
                "\n",
                "  \n",
                "\n",
                "\\- **Nesting:** Control flow statements can be nested within each other to create more complex decision-making structures.\n",
                "\n",
                "  \n",
                "\n",
                "\\- **No switch statement:** Python doesn't have a traditional switch statement, but if-elif-else chains can achieve similar functionality."
            ],
            "metadata": {
                "language": "python",
                "azdata_cell_guid": "3b4a0738-68a8-428d-abc3-b6fb808206b0"
            },
            "attachments": {}
        },
        {
            "cell_type": "markdown",
            "source": [
                "### **7\\. Most Common Mistakes Done While Using Control Flow Statements (if, else, elif) in Python**"
            ],
            "metadata": {
                "language": "python",
                "azdata_cell_guid": "e8cb8e83-6eea-494b-a9cd-8d24a3b7e21e"
            },
            "attachments": {}
        },
        {
            "cell_type": "markdown",
            "source": [
                "a. Using = instead of == for comparison: Remember that = is for assignment, while == is for comparison.\n",
                "\n",
                "b. Not considering all possible conditions: Ensure your code covers all potential scenarios."
            ],
            "metadata": {
                "language": "python",
                "azdata_cell_guid": "82e014bb-294f-424c-9fd0-2311d00033dc"
            },
            "attachments": {}
        },
        {
            "cell_type": "markdown",
            "source": [
                "**c. Forgetting Colon**: It's common to forget to put a colon (\\`:\\`) after the condition or after the \\`else\\` keyword. This results in a syntax error."
            ],
            "metadata": {
                "language": "python",
                "azdata_cell_guid": "322fea5b-1066-4fab-8d2c-3b33589345be"
            },
            "attachments": {}
        },
        {
            "cell_type": "code",
            "source": [
                "if x > 5   # Missing colon\n",
                "    print(\"x is greater than 5\")"
            ],
            "metadata": {
                "language": "python",
                "azdata_cell_guid": "6a7dc4a6-e8ad-4393-aec1-c44cc9cf2aa7"
            },
            "outputs": [
                {
                    "output_type": "error",
                    "ename": "SyntaxError",
                    "evalue": "expected ':' (<ipython-input-4-aec81f6ad921>, line 1)",
                    "traceback": [
                        "\u001b[0;36m  Cell \u001b[0;32mIn[4], line 1\u001b[0;36m\u001b[0m\n\u001b[0;31m    if x > 5   # Missing colon\u001b[0m\n\u001b[0m               ^\u001b[0m\n\u001b[0;31mSyntaxError\u001b[0m\u001b[0;31m:\u001b[0m expected ':'\n"
                    ]
                }
            ],
            "execution_count": 4
        },
        {
            "cell_type": "markdown",
            "source": [
                "**d. Incorrect Indentation:** Incorrect indentation can lead to unexpected behavior. All statements in the same block should have the same level of indentation."
            ],
            "metadata": {
                "language": "python",
                "azdata_cell_guid": "cac46764-f232-4445-8f3a-124d843b5aa9"
            },
            "attachments": {}
        },
        {
            "cell_type": "code",
            "source": [
                "x = 6\n",
                "if x > 5:\n",
                "print(\"x is greater than 5\")   # Incorrect indentation"
            ],
            "metadata": {
                "language": "python",
                "azdata_cell_guid": "469ba36b-4c39-4784-8643-3ec6bc0b6ee8"
            },
            "outputs": [
                {
                    "output_type": "error",
                    "ename": "IndentationError",
                    "evalue": "expected an indented block after 'if' statement on line 2 (<ipython-input-7-873628588c30>, line 3)",
                    "traceback": [
                        "\u001b[0;36m  Cell \u001b[0;32mIn[7], line 3\u001b[0;36m\u001b[0m\n\u001b[0;31m    print(\"x is greater than 5\")   # Incorrect indentation\u001b[0m\n\u001b[0m    ^\u001b[0m\n\u001b[0;31mIndentationError\u001b[0m\u001b[0;31m:\u001b[0m expected an indented block after 'if' statement on line 2\n"
                    ]
                }
            ],
            "execution_count": 7
        },
        {
            "cell_type": "markdown",
            "source": [
                "### **8\\. Do you know ?**\n",
                "\n",
                "  \n",
                "\n",
                "\\- **Advantage in Space Exploration:** Control flow statements are crucial in space exploration software for making decisions about spacecraft operations, navigation, and data collection.\n",
                "\n",
                "  \n",
                "\n",
                "\\- **Self-driving car accidents:** Faulty control flow logic has contributed to accidents in autonomous vehicles."
            ],
            "metadata": {
                "language": "python",
                "azdata_cell_guid": "b068bd6d-2a4f-49e9-961d-27e427117421"
            },
            "attachments": {}
        },
        {
            "cell_type": "markdown",
            "source": [
                "**Note** : <span style=\"color: rgb(0, 0, 0); font-family: &quot;Helvetica Neue&quot;; font-size: 13px;\">Understanding control flow statements is fundamental to writing programs that can make decisions and respond to different scenarios, making your code more versatile and dynamic.</span>"
            ],
            "metadata": {
                "language": "python",
                "azdata_cell_guid": "f4e10f0f-ed49-4045-aa6c-dff83ba78699"
            },
            "attachments": {}
        }
    ]
}