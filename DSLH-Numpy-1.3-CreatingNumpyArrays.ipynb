{
    "metadata": {
        "kernelspec": {
            "name": "python3",
            "display_name": "Python 3",
            "language": "python"
        },
        "language_info": {
            "name": "python",
            "version": "3.10.9",
            "mimetype": "text/x-python",
            "codemirror_mode": {
                "name": "ipython",
                "version": 3
            },
            "pygments_lexer": "ipython3",
            "nbconvert_exporter": "python",
            "file_extension": ".py"
        }
    },
    "nbformat_minor": 2,
    "nbformat": 4,
    "cells": [
        {
            "cell_type": "markdown",
            "source": [
                "# **`Data Science Learners Hub`**\n",
                "\n",
                "**Module : Python**\n",
                "\n",
                "**email** : [datasciencelearnershub@gmail.com](mailto:datasciencelearnershub@gmail.com)"
            ],
            "metadata": {
                "azdata_cell_guid": "fa2db22e-c4f6-473d-bac1-441c0067390c"
            },
            "attachments": {}
        },
        {
            "cell_type": "markdown",
            "source": [
                "### **`1.3. NumPy Arrays:`**\n",
                "\n",
                "**Creating NumPy Arrays:**\n",
                "\n",
                "NumPy arrays are the foundation of numerical computing in Python. **<mark>They are homogeneous, multi-dimensional data structures that efficiently store and manipulate numerical data</mark>**. Here are various methods to create NumPy arrays:"
            ],
            "metadata": {
                "azdata_cell_guid": "9e7d424d-c35d-49af-815c-326379340c11"
            },
            "attachments": {}
        },
        {
            "cell_type": "markdown",
            "source": [
                "| Method | Syntax | Return Type | Input Parameters | In-Place or Copy | One-liner Explanation | Peculiarities/Considerations |\n",
                "| --- | --- | --- | --- | --- | --- | --- |\n",
                "| `array()` | `np.array(object, ...)` | `ndarray` | `object`: Input data, such as a list or tuple | Copy | <mark>**Create an array from an existing Python list or tuple.**</mark> |  |\n",
                "| `arange()` | `np.arange([start, ]stop, [step, ])` | `ndarray` | `start`, `stop`, `step`: Parameters defining range | Copy | Generate an array with <mark>**regularly spaced values**.</mark> | <mark>**The `stop` value is exclusive.**</mark> |\n",
                "| `empty()` | `np.empty(shape, ...)` | `ndarray` | `shape`: **<mark>Tuple specifying array dimensions</mark>** | In-Place | Create an uninitialized array with shape and dtype. | <mark>**Content of the array is not initialized; it may contain garbage values.**</mark> |\n",
                "| `zeros()` | `np.zeros(shape, ...)` | `ndarray` | `shape`: Tuple specifying array dimensions | In-Place | Create an array filled with zeros. | **<mark>Default data type is `float64`.</mark>** |\n",
                "| `ones()` | `np.ones(shape, ...)` | `ndarray` | `shape`: Tuple specifying array dimensions | In-Place | Create an array filled with ones. | **<mark>Default data type is `float64`.</mark>** |\n",
                "| `full()` | `np.full(shape, fill_value, ...)` | `ndarray` | `shape`: Tuple specifying array dimensions, **<mark>`fill_value`: Constant value</mark>** | In-Place | Create an array of specified shape and fill it with a constant value. | **<mark>Useful for initializing arrays with a specific value.</mark>** |\n",
                "| `linspace()` | `np.linspace(start, stop, num=50, ...)` | `ndarray` | `start`, `stop`: Range limits, **<mark>`num`: Number of points</mark>** | Copy | <mark>Generate an array with a specified number of evenly spaced values.</mark> | **<mark>Commonly used for creating time intervals.</mark>** |\n",
                "| `logspace()` | `np.logspace(start, stop, num=50, ...)` | `ndarray` | `start`, `stop`: Range limits, **<mark>`num`: Number of points</mark>** | Copy | Generate an array with a specified number of **<mark>logarithmically spaced values.</mark>** | Useful for creating logarithmically spaced scales. |\n",
                "| `eye()` | `np.eye(N, M=None, k=0, ...)` | `ndarray` | **<mark>`N`: Number of rows, `M`: Number of columns (default is N), `k`: Index of the diagonal (0 is the main diagonal)</mark>** | Copy | Create a **<mark>2D identity matrix (diagonal elements are 1, others are 0).</mark>** | Useful for linear algebra and transformations. |\n",
                "| `identity()` | `np.identity(n, dtype=None)` | `ndarray` | `n`: Number of rows (and columns) in the output | Copy | Create a square identity matrix of given size. | **<mark>Similar to `eye()`, but only creates square matrices.</mark>** |\n",
                "\n",
                "**`Note`** : <mark>**Shape is always given in tuple**</mark>"
            ],
            "metadata": {
                "azdata_cell_guid": "b0f128b5-d88b-42c7-910b-5319dc29c9f3",
                "language": ""
            },
            "attachments": {}
        },
        {
            "cell_type": "markdown",
            "source": [
                "1. **`np.array()`:**\n",
                "    - The most basic way to create a NumPy array is **<mark>by converting an existing Python list or tuple.</mark>**"
            ],
            "metadata": {
                "azdata_cell_guid": "9c6e5ac2-677b-4c1a-9c9f-ddbfab528e74"
            },
            "attachments": {}
        },
        {
            "cell_type": "code",
            "source": [
                "import numpy as np\n",
                "\n",
                "arr_from_list = np.array([1, 2, 3, 4, 5])\n",
                "print(arr_from_list)\n",
                "print(type(arr_from_list))"
            ],
            "metadata": {
                "azdata_cell_guid": "63ca0328-9fc3-4dde-93cd-78ffc174f07c",
                "language": "python"
            },
            "outputs": [
                {
                    "output_type": "stream",
                    "name": "stdout",
                    "text": "[1 2 3 4 5]\n<class 'numpy.ndarray'>\n"
                }
            ],
            "execution_count": 4
        },
        {
            "cell_type": "markdown",
            "source": [
                "**`Note`** : **<mark>Observe that unlike lists datatypes there are no commas in output incase of NumPy arrays</mark>**"
            ],
            "metadata": {
                "language": "python",
                "azdata_cell_guid": "b0b28bda-022c-424a-bd9f-ea86b8be2dc7"
            },
            "attachments": {}
        },
        {
            "cell_type": "markdown",
            "source": [
                "2. **`np.zeros()`:**\n",
                "   - Creates an array filled with zeros of a specified shape."
            ],
            "metadata": {
                "language": "python",
                "azdata_cell_guid": "f8ed7e2e-5d65-461b-a073-7a035daa395c"
            },
            "attachments": {}
        },
        {
            "cell_type": "code",
            "source": [
                "import numpy as np\n",
                "\n",
                "zeros_array = np.zeros((2, 3))\n",
                "print(zeros_array)\n",
                "\n",
                "# Note : (2,3) is tuple\n",
                "# Why there is '.' after the number '0' ?"
            ],
            "metadata": {
                "language": "python",
                "azdata_cell_guid": "e226cc15-2935-44a4-84a5-c88ef132b2d9"
            },
            "outputs": [
                {
                    "output_type": "stream",
                    "name": "stdout",
                    "text": "[[0. 0. 0.]\n [0. 0. 0.]]\n"
                }
            ],
            "execution_count": 5
        },
        {
            "cell_type": "markdown",
            "source": [
                "3. **`np.ones()`:**\n",
                "   - Creates an array filled with ones of a specified shape."
            ],
            "metadata": {
                "language": "python",
                "azdata_cell_guid": "4091a25d-15a1-48fd-b2c7-3939e8eb4cb0"
            },
            "attachments": {}
        },
        {
            "cell_type": "code",
            "source": [
                "import numpy as np\n",
                "\n",
                "ones_array = np.ones((3, 2))\n",
                "print(ones_array)\n",
                "\n",
                "# Note : (3,2) is tuple\n",
                "# Why there is '.' after the number '1' ?"
            ],
            "metadata": {
                "language": "python",
                "azdata_cell_guid": "38a71f35-b32a-479a-b1fd-c387bdae0b39"
            },
            "outputs": [
                {
                    "output_type": "stream",
                    "name": "stdout",
                    "text": "[[1. 1.]\n [1. 1.]\n [1. 1.]]\n"
                }
            ],
            "execution_count": 6
        },
        {
            "cell_type": "markdown",
            "source": [
                "4. **`np.full()`:**\n",
                "   - Create an array of specified shape and fill it with a constant value"
            ],
            "metadata": {
                "language": "python",
                "azdata_cell_guid": "750d96b3-f02e-4cfd-adb7-b376b00284f3"
            },
            "attachments": {}
        },
        {
            "cell_type": "code",
            "source": [
                "import numpy as np\n",
                "\n",
                "full_array = np.full((3, 2),6)\n",
                "print(full_array)\n",
                "\n",
                "# Note : (3,2) is tuple\n",
                "# Why there is no '.' after the number '6' ?"
            ],
            "metadata": {
                "language": "python",
                "azdata_cell_guid": "a775d86d-bbfb-4cd0-8077-624c1b0e8f70",
                "tags": [
                    "hide_input"
                ]
            },
            "outputs": [
                {
                    "output_type": "stream",
                    "name": "stdout",
                    "text": "[[6 6]\n [6 6]\n [6 6]]\n"
                }
            ],
            "execution_count": 1
        },
        {
            "cell_type": "markdown",
            "source": [
                "5. **`np.arange()`:**\n",
                "   - Generates an array with <mark>`regularly spaced values within a given range.`</mark>"
            ],
            "metadata": {
                "language": "python",
                "azdata_cell_guid": "01885eed-14db-4861-a4cd-57faa4e41365"
            },
            "attachments": {}
        },
        {
            "cell_type": "code",
            "source": [
                "import numpy as np\n",
                "\n",
                "range_array = np.arange(0, 10, 2)  # start, stop (exclusive), step\n",
                "print(range_array)"
            ],
            "metadata": {
                "language": "python",
                "azdata_cell_guid": "6688efd6-b6dd-48a5-b495-37c8647c2a3a"
            },
            "outputs": [
                {
                    "output_type": "stream",
                    "name": "stdout",
                    "text": "[0 2 4 6 8]\n"
                }
            ],
            "execution_count": 7
        },
        {
            "cell_type": "markdown",
            "source": [
                "#### Explanation:\n",
                "\n",
                "**Is stop inclusive or exclusive in case of arange()?**\n",
                "\n",
                "- In the case of np.arange(), **<mark>the stop value is exclusive</mark>**, meaning the generated array stops just before reaching the specified stop value. In the example, the array includes values up to, but not including, 10."
            ],
            "metadata": {
                "language": "python",
                "azdata_cell_guid": "0ff45be7-0931-4f68-9563-d4383f369e68"
            },
            "attachments": {}
        },
        {
            "cell_type": "markdown",
            "source": [
                "6. **`np.linspace()`:**\n",
                "    - Generates an array with a <mark>`specified number of evenly spaced values within a given range.`</mark>"
            ],
            "metadata": {
                "language": "python",
                "azdata_cell_guid": "6918f7cb-1114-4b5f-8da3-943949b9b889"
            },
            "attachments": {}
        },
        {
            "cell_type": "code",
            "source": [
                "import numpy as np\n",
                "\n",
                "linspace_array = np.linspace(0, 1, 5)  # start, stop, number of points\n",
                "print(linspace_array)\n",
                "\n",
                "# Does the number 1(stop) get included in the output"
            ],
            "metadata": {
                "language": "python",
                "azdata_cell_guid": "dff551e7-d68f-41dc-b95d-0cfc8a1f4fd2"
            },
            "outputs": [
                {
                    "output_type": "stream",
                    "name": "stdout",
                    "text": "[0.   0.25 0.5  0.75 1.  ]\n"
                }
            ],
            "execution_count": 2
        },
        {
            "cell_type": "markdown",
            "source": [
                "#### Explanation :\n",
                "\n",
                "- **`np.linspace(0, 1, 5)`:**\n",
                "    \n",
                "    - Generates an array of 5 evenly spaced values between 0 and 1 (inclusive).\n",
                "    - The `linspace()` function takes three arguments: `start`, `stop`, and `num` (number of points).\n",
                "    - In this case, it generates an array of 5 points between **<mark>0 and 1 (both inclusive).</mark>**\n",
                "- **Does the number 1 (stop) get included in the output?**\n",
                "    \n",
                "    - **Yes, the number 1 (the `stop` value) is included in the output** because the `linspace()` function generates values up to and including the specified `stop` value. In this case, the array includes 1 as one of its values."
            ],
            "metadata": {
                "language": "python",
                "azdata_cell_guid": "a5a67f6e-9597-4664-8f7d-a70e2ac9c79d"
            },
            "attachments": {}
        },
        {
            "cell_type": "markdown",
            "source": [
                "7. **`np.logspace()`:**\n",
                "- Generate an array with a <mark>`specified number of logarithmically spaced values.`</mark>"
            ],
            "metadata": {
                "language": "python",
                "azdata_cell_guid": "a3198681-0f00-49e2-ba30-6ac8a5c3ea47"
            },
            "attachments": {}
        },
        {
            "cell_type": "code",
            "source": [
                "import numpy as np\n",
                "\n",
                "logspace_array = np.logspace(0, 1, 5)  # start, stop, number of points\n",
                "print(logspace_array)"
            ],
            "metadata": {
                "language": "python",
                "azdata_cell_guid": "9109af99-b55a-4b3d-aaf8-5a3eaa048539"
            },
            "outputs": [
                {
                    "output_type": "stream",
                    "name": "stdout",
                    "text": "[ 1.          1.77827941  3.16227766  5.62341325 10.        ]\n"
                }
            ],
            "execution_count": 2
        },
        {
            "cell_type": "markdown",
            "source": [
                "#### Explanation:\n",
                "\n",
                "- `np.logspace(0, 1, 5)`: This function generates an array of values on a logarithmic scale. The parameters are as follows:\n",
                "  - `0`: Start exponent of the sequence. In this case, it starts at 10^0, which is 1.\n",
                "  - `1`: Stop exponent of the sequence. It stops at 10^1, which is 10.\n",
                "  - `5`: Number of points to generate. In this case, it will generate 5 points.\n",
                ""
            ],
            "metadata": {
                "language": "python",
                "azdata_cell_guid": "00f3a2e2-70e6-4fcb-b6c9-535e5152d736"
            },
            "attachments": {}
        },
        {
            "cell_type": "code",
            "source": [
                "import numpy as np\n",
                "\n",
                "logspace_array = np.logspace(0, 2, 5)  # start, stop, number of points\n",
                "print(logspace_array)\n",
                "\n",
                "# NOTE : Here values are in between 10^1 and 10^2"
            ],
            "metadata": {
                "language": "python",
                "azdata_cell_guid": "2b7f8c52-9c38-431d-852a-c1afd351ff9a"
            },
            "outputs": [
                {
                    "output_type": "stream",
                    "name": "stdout",
                    "text": "[  1.           3.16227766  10.          31.6227766  100.        ]\n"
                }
            ],
            "execution_count": 2
        },
        {
            "cell_type": "markdown",
            "source": [
                "8. **`np.empty()`:**\n",
                "- `Create an uninitialized array with shape and dtype`.\n",
                "- Content of the array is not initialized; **`it may contain garbage values.`**"
            ],
            "metadata": {
                "language": "python",
                "azdata_cell_guid": "d7ecd1aa-fdcd-4499-a476-5b3566b2cb52"
            },
            "attachments": {}
        },
        {
            "cell_type": "code",
            "source": [
                "import numpy as np\n",
                "np.empty((2,3))"
            ],
            "metadata": {
                "language": "python",
                "azdata_cell_guid": "44f8fbac-d859-4f8e-8ba5-fecd75750bbe"
            },
            "outputs": [
                {
                    "output_type": "execute_result",
                    "execution_count": 6,
                    "data": {
                        "text/plain": "array([[0., 0., 0.],\n       [0., 0., 0.]])"
                    },
                    "metadata": {}
                }
            ],
            "execution_count": 6
        },
        {
            "cell_type": "markdown",
            "source": [
                "#### More about syntax of empty()\n",
                "\n",
                "The syntax for the `empty()` function is as follows:\n",
                "\n",
                "```\n",
                "numpy.empty(shape, dtype=float, order='C')\n",
                "\n",
                "```\n",
                "\n",
                "- `shape`: Tuple specifying the dimensions of the array.\n",
                "- `dtype`: Data type of the array. <mark>Optional, and the default is `float64`.</mark>\n",
                "- `order`: **<mark>Specifies whether to store the array data in row-major (`'C'`, default) or column-major (`'F'`) order.</mark>**\n",
                "\n",
                "**Explanation of Order Parameter:**\n",
                "\n",
                "`'C' (C-style, row-major):` <mark>In a 2-dimensional array, **elements are stored row by row**. This means that **elements of the same row are adjacent in memory**.</mark>\n",
                "\n",
                "`'F' (Fortran-style, column-major):` <mark>In a 2-dimensional array, **elements are stored column by column**. This means that **elements of the same column are adjacent in memory.**</mark>\n",
                "\n",
                "The choice between 'C' and 'F' can affect performance in certain operations, especially when working with large arrays or performing operations that involve accessing elements in a specific order (such as matrix multiplication). By default, 'C' (row-major) is used, which is generally suitable for most applications unless you specifically need column-major storage for compatibility with Fortran or certain numerical algorithms.\n",
                ""
            ],
            "metadata": {
                "language": "python",
                "azdata_cell_guid": "6b24b81e-6940-439c-ad38-8c66d4dc7750"
            },
            "attachments": {}
        },
        {
            "cell_type": "markdown",
            "source": [
                "#### Explain `empty()` in Detail when to use and when not to \n",
                "\n",
                "```\n",
                "import numpy as np\n",
                "\n",
                "empty_array = np.empty((2, 3))\n",
                "print(empty_array)\n",
                "\n",
                "```\n",
                "\n",
                "In this example, `empty((2, 3))` creates a 2x3 array without initializing the elements. <mark>**The actual values in the array will depend on the current state of the memory and are not meaningful. It's important to note that if you need an array with initialized values, you should consider using `zeros()`, `ones()`, or another appropriate function depending on your requirements. The `empty()` function is typically used when you need to allocate memory for an array but do not necessarily care about the initial values.**</mark>"
            ],
            "metadata": {
                "language": "python",
                "azdata_cell_guid": "4e2ac86e-9fea-40d1-b0b0-08554504ef32"
            },
            "attachments": {}
        },
        {
            "cell_type": "markdown",
            "source": [
                "#### How to create a 1D array using empty() or ones() or zeros() ?"
            ],
            "metadata": {
                "language": "python",
                "azdata_cell_guid": "4456d04b-01fb-48ea-b77f-e25825bbe1d3"
            },
            "attachments": {}
        },
        {
            "cell_type": "code",
            "source": [
                "empty_array_1D = np.empty(8) \n",
                "print(empty_array_1D)\n",
                "\n",
                "# NOTE : Similarly we can create 1D array using ones(), zeros() etc "
            ],
            "metadata": {
                "language": "python",
                "azdata_cell_guid": "a1d3332b-ebad-4408-be19-77d5ff711653",
                "tags": []
            },
            "outputs": [
                {
                    "output_type": "stream",
                    "name": "stdout",
                    "text": "[0. 0. 0. 0. 0. 0. 0. 0.]\n"
                }
            ],
            "execution_count": 6
        },
        {
            "cell_type": "code",
            "source": [
                "ones_array_1D = np.ones(5)\n",
                "print(ones_array_1D)"
            ],
            "metadata": {
                "language": "python",
                "azdata_cell_guid": "602a40e2-3ed1-4038-aa7c-92e3bebdaed3"
            },
            "outputs": [
                {
                    "output_type": "stream",
                    "name": "stdout",
                    "text": "[1. 1. 1. 1. 1.]\n"
                }
            ],
            "execution_count": 8
        },
        {
            "cell_type": "markdown",
            "source": [
                "9. **`np.eye()`:**\n",
                "    - Create a **<mark>2D</mark>** identity matrix (<mark>**diagonal elements are 1, others are 0**</mark>).\n",
                "    - Using eye() u can create an identity matrix wich need not be square matrix by shifting the daigonal"
            ],
            "metadata": {
                "azdata_cell_guid": "d09c7686-b563-4e65-bcd8-5edf27676d01"
            },
            "attachments": {}
        },
        {
            "cell_type": "code",
            "source": [
                "import numpy as np\n",
                "\n",
                "# Create a 3x3 identity matrix\n",
                "eye_matrix = np.eye(3)\n",
                "print(\"3x3 Identity Matrix:\")\n",
                "print(eye_matrix)\n",
                "\n",
                "# Create a 4x5 identity matrix with the main diagonal shifted by 1\n",
                "eye_shifted = np.eye(4, 5, k=1)\n",
                "print(\"\\n4x5 Identity Matrix with Diagonal Shifted by 1:\")\n",
                "print(eye_shifted)\n",
                ""
            ],
            "metadata": {
                "azdata_cell_guid": "8fb612ac-3dad-429e-9c03-b4b9b765d308",
                "language": "python"
            },
            "outputs": [
                {
                    "output_type": "stream",
                    "name": "stdout",
                    "text": "3x3 Identity Matrix:\n[[1. 0. 0.]\n [0. 1. 0.]\n [0. 0. 1.]]\n\n4x5 Identity Matrix with Diagonal Shifted by 1:\n[[0. 1. 0. 0. 0.]\n [0. 0. 1. 0. 0.]\n [0. 0. 0. 1. 0.]\n [0. 0. 0. 0. 1.]]\n"
                }
            ],
            "execution_count": 1
        },
        {
            "cell_type": "markdown",
            "source": [
                "10. **`np.identity()`:**\n",
                "\n",
                "- Create a **<mark>square identity matrix</mark>** of given size."
            ],
            "metadata": {
                "azdata_cell_guid": "15625ffa-d7df-45aa-be61-8b46343fa7bb"
            },
            "attachments": {}
        },
        {
            "cell_type": "code",
            "source": [
                "import numpy as np\n",
                "\n",
                "# Create a 2x2 identity matrix\n",
                "identity_matrix = np.identity(2)\n",
                "print(\"2x2 Identity Matrix:\")\n",
                "print(identity_matrix)\n",
                "\n",
                "# Create a 5x5 identity matrix\n",
                "identity_5x5 = np.identity(5)\n",
                "print(\"\\n5x5 Identity Matrix:\")\n",
                "print(identity_5x5)\n",
                ""
            ],
            "metadata": {
                "azdata_cell_guid": "631bab73-b344-46b2-bfef-d3519bebda37",
                "language": "python"
            },
            "outputs": [
                {
                    "output_type": "stream",
                    "name": "stdout",
                    "text": "2x2 Identity Matrix:\n[[1. 0.]\n [0. 1.]]\n\n5x5 Identity Matrix:\n[[1. 0. 0. 0. 0.]\n [0. 1. 0. 0. 0.]\n [0. 0. 1. 0. 0.]\n [0. 0. 0. 1. 0.]\n [0. 0. 0. 0. 1.]]\n"
                }
            ],
            "execution_count": 2
        },
        {
            "cell_type": "markdown",
            "source": [
                "**Real-world Examples:**\n",
                "\n",
                "1. **Temperature Data:**\n",
                "   - **Scenario:** You have daily temperature readings for a week.\n",
                "   - **Application:** Create a NumPy array to store and manipulate temperature data."
            ],
            "metadata": {
                "language": "python",
                "azdata_cell_guid": "acf86ef6-9ee6-4804-9755-3b2030cf13a1"
            },
            "attachments": {}
        },
        {
            "cell_type": "code",
            "source": [
                "temperature_readings = np.array([22.5, 24.0, 23.8, 25.3, 21.7, 22.1, 23.5])\n",
                "print(temperature_readings)"
            ],
            "metadata": {
                "language": "python",
                "azdata_cell_guid": "5bd4c114-b1ec-498f-9d59-0a97ecbdc3e8"
            },
            "outputs": [
                {
                    "output_type": "stream",
                    "name": "stdout",
                    "text": "[22.5 24.  23.8 25.3 21.7 22.1 23.5]\n"
                }
            ],
            "execution_count": 9
        },
        {
            "cell_type": "markdown",
            "source": [
                "2. **Financial Modeling:**\n",
                "   - **Scenario:** You are modeling monthly sales figures for a company.\n",
                "   - **Application:** Use `np.zeros()` to initialize an array for monthly sales and update it as new data becomes available."
            ],
            "metadata": {
                "language": "python",
                "azdata_cell_guid": "224336b8-746b-45bd-ad0e-6d156e672168"
            },
            "attachments": {}
        },
        {
            "cell_type": "code",
            "source": [
                "monthly_sales = np.zeros(12)\n",
                "print(monthly_sales)\n",
                "\n",
                "# Note the output is 1D because no dimensions mentioned in zeros()"
            ],
            "metadata": {
                "language": "python",
                "azdata_cell_guid": "4c3115bb-11e9-4b55-bfce-2da0469f16f5"
            },
            "outputs": [
                {
                    "output_type": "stream",
                    "name": "stdout",
                    "text": "[0. 0. 0. 0. 0. 0. 0. 0. 0. 0. 0. 0.]\n"
                }
            ],
            "execution_count": 10
        },
        {
            "cell_type": "markdown",
            "source": [
                "3. **Time Series Analysis:**\n",
                "   - **Scenario:** You need a time series of timestamps at regular intervals.\n",
                "   - **Application:** Generate a time series using `np.arange()` or `np.linspace()`."
            ],
            "metadata": {
                "language": "python",
                "azdata_cell_guid": "d5ead4bb-5015-4712-893d-48abfa8fac4b"
            },
            "attachments": {}
        },
        {
            "cell_type": "code",
            "source": [
                "from datetime import datetime, timedelta\n",
                "\n",
                "start_date = datetime(2022, 1, 1)\n",
                "time_series = np.array([start_date + timedelta(days=i) for i in range(10)])\n",
                "print(time_series)\n",
                ""
            ],
            "metadata": {
                "language": "python",
                "azdata_cell_guid": "610d0a25-734a-4f0a-a665-a02774c3c052"
            },
            "outputs": [
                {
                    "output_type": "stream",
                    "name": "stdout",
                    "text": "[datetime.datetime(2022, 1, 1, 0, 0) datetime.datetime(2022, 1, 2, 0, 0)\n datetime.datetime(2022, 1, 3, 0, 0) datetime.datetime(2022, 1, 4, 0, 0)\n datetime.datetime(2022, 1, 5, 0, 0) datetime.datetime(2022, 1, 6, 0, 0)\n datetime.datetime(2022, 1, 7, 0, 0) datetime.datetime(2022, 1, 8, 0, 0)\n datetime.datetime(2022, 1, 9, 0, 0) datetime.datetime(2022, 1, 10, 0, 0)]\n"
                }
            ],
            "execution_count": 11
        },
        {
            "cell_type": "markdown",
            "source": [
                "4. **Physical Simulation:**\n",
                "   - **Scenario:** Simulating the trajectory of a projectile over time.\n",
                "   - **Application:** Use `np.linspace()` to generate time intervals and create an array representing the projectile's position at each time step."
            ],
            "metadata": {
                "language": "python",
                "azdata_cell_guid": "a80f9fdc-14ff-49cc-ae89-af6735829c02"
            },
            "attachments": {}
        },
        {
            "cell_type": "code",
            "source": [
                "import numpy as np\n",
                "time_intervals = np.linspace(0, 5, 100)  # 100 time points from 0 to 5 seconds\n",
                "print(time_intervals)"
            ],
            "metadata": {
                "language": "python",
                "azdata_cell_guid": "4c2ef8ac-ed37-4b4f-abbc-5d99a3a6946e"
            },
            "outputs": [
                {
                    "output_type": "stream",
                    "name": "stdout",
                    "text": "[0.         0.05050505 0.1010101  0.15151515 0.2020202  0.25252525\n 0.3030303  0.35353535 0.4040404  0.45454545 0.50505051 0.55555556\n 0.60606061 0.65656566 0.70707071 0.75757576 0.80808081 0.85858586\n 0.90909091 0.95959596 1.01010101 1.06060606 1.11111111 1.16161616\n 1.21212121 1.26262626 1.31313131 1.36363636 1.41414141 1.46464646\n 1.51515152 1.56565657 1.61616162 1.66666667 1.71717172 1.76767677\n 1.81818182 1.86868687 1.91919192 1.96969697 2.02020202 2.07070707\n 2.12121212 2.17171717 2.22222222 2.27272727 2.32323232 2.37373737\n 2.42424242 2.47474747 2.52525253 2.57575758 2.62626263 2.67676768\n 2.72727273 2.77777778 2.82828283 2.87878788 2.92929293 2.97979798\n 3.03030303 3.08080808 3.13131313 3.18181818 3.23232323 3.28282828\n 3.33333333 3.38383838 3.43434343 3.48484848 3.53535354 3.58585859\n 3.63636364 3.68686869 3.73737374 3.78787879 3.83838384 3.88888889\n 3.93939394 3.98989899 4.04040404 4.09090909 4.14141414 4.19191919\n 4.24242424 4.29292929 4.34343434 4.39393939 4.44444444 4.49494949\n 4.54545455 4.5959596  4.64646465 4.6969697  4.74747475 4.7979798\n 4.84848485 4.8989899  4.94949495 5.        ]\n"
                }
            ],
            "execution_count": 2
        },
        {
            "cell_type": "markdown",
            "source": [
                "## **Extra Innings**"
            ],
            "metadata": {
                "language": "python",
                "azdata_cell_guid": "3307a67f-8408-453d-92d9-79515e7597b0"
            },
            "attachments": {}
        },
        {
            "cell_type": "markdown",
            "source": [
                "#### `Flatten 2D NumPy Array to 1D NumPy array from a python list`\n",
                "\n",
                "**ravel()** :\n",
                "\n",
                "- In NumPy, **<mark>ravel() is a function that returns a flattened one-dimensional array from a multi-dimensional array</mark>**. It returns a contiguous flattened array. **<mark>A flattened array is a 1D array containing all the elements of the original array in row-major (C-style) order.</mark>**"
            ],
            "metadata": {
                "language": "python",
                "azdata_cell_guid": "ae0faba7-e7c0-4c39-81c4-3ed126008063"
            },
            "attachments": {}
        },
        {
            "cell_type": "code",
            "source": [
                "arr = np.array([[1,2,3],[3,4,5]])\n",
                "arr.ravel()"
            ],
            "metadata": {
                "language": "python",
                "azdata_cell_guid": "9feb41da-0919-4c16-9c7c-24107ed33f02"
            },
            "outputs": [
                {
                    "output_type": "execute_result",
                    "execution_count": 3,
                    "data": {
                        "text/plain": "array([1, 2, 3, 3, 4, 5])"
                    },
                    "metadata": {}
                }
            ],
            "execution_count": 3
        },
        {
            "cell_type": "code",
            "source": [
                "import numpy as np\n",
                "arr = np.array([[1,2,3],[3,4,5]])\n",
                "array_1D = arr.ravel()\n",
                "print(array_1D)"
            ],
            "metadata": {
                "language": "python",
                "azdata_cell_guid": "45e888fa-1c5b-4989-9b3a-50bd361dbfcf"
            },
            "outputs": [
                {
                    "name": "stdout",
                    "text": "[1 2 3 3 4 5]\n",
                    "output_type": "stream"
                }
            ],
            "execution_count": 2
        },
        {
            "cell_type": "markdown",
            "source": [
                "#### Why there is a difference in output for both the below code ?"
            ],
            "metadata": {
                "language": "python",
                "azdata_cell_guid": "4521fc00-0fac-4e50-974e-d3038883c7a1"
            },
            "attachments": {}
        },
        {
            "cell_type": "code",
            "source": [
                "import numpy as np\n",
                "\n",
                "arr = np.array([[1,2,3],[3,4,5]])\n",
                "\n",
                "array_1D = arr.ravel()\n",
                "\n",
                "print(array_1D)"
            ],
            "metadata": {
                "language": "python",
                "azdata_cell_guid": "35107e41-12f4-4c09-8372-59f25531c82f"
            },
            "outputs": [],
            "execution_count": null
        },
        {
            "cell_type": "code",
            "source": [
                "arr = np.array([[1,2,3],[3,4,5]])\n",
                "\n",
                "arr.ravel()"
            ],
            "metadata": {
                "language": "python",
                "azdata_cell_guid": "24d02637-20cc-44a0-ade8-f7917a2ffb61"
            },
            "outputs": [],
            "execution_count": null
        },
        {
            "cell_type": "markdown",
            "source": [
                "#### Explanation\n",
                "\n",
                "`First Snippet`: The print function is explicitly used to display the contents of the flattened array. This provides a simple list-like output.\n",
                "`Second Snippet`: Without print, the return value of arr.ravel() is automatically shown by the interactive environment, which includes the array type and shape information.\n",
                "\n",
                "`print(array_1D)` : The print function outputs the flattened array in a more human-readable format without explicitly showing it as a NumPy array object.\n",
                "\n",
                "`arr.ravel()` : The ravel method flattens the 2D array into a 1D array but does not assign it to any variable or print it. This line on its own will simply return the flattened array."
            ],
            "metadata": {
                "language": "python",
                "azdata_cell_guid": "787536b1-942c-4c23-8587-6f94bf0b0812"
            },
            "attachments": {}
        }
    ]
}