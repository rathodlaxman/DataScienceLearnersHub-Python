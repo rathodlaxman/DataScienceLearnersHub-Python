{
    "metadata": {
        "kernelspec": {
            "name": "python3",
            "display_name": "Python 3",
            "language": "python"
        },
        "language_info": {
            "name": "python",
            "version": "3.10.9",
            "mimetype": "text/x-python",
            "codemirror_mode": {
                "name": "ipython",
                "version": 3
            },
            "pygments_lexer": "ipython3",
            "nbconvert_exporter": "python",
            "file_extension": ".py"
        }
    },
    "nbformat_minor": 2,
    "nbformat": 4,
    "cells": [
        {
            "cell_type": "markdown",
            "source": [
                "# **Data Science Learners Hub - Python**\n",
                "\n",
                "**Module : Python**\n",
                "\n",
                "**Topic :** Variables in Python\n",
                "\n",
                "**email** : [datasciencelearnershub@gmail.com](https://github.com/rathodlaxman/DataScienceLearnersHub/blob/50de48da0c8f7145a545dd9942457c8b9cfc8fc5//mailto:datasciencelearnershub@gmail.com)"
            ],
            "metadata": {
                "azdata_cell_guid": "a0834cca-523b-49e3-aaab-a6eae01a94f2"
            },
            "attachments": {}
        },
        {
            "cell_type": "markdown",
            "source": [
                "## **Variables in Python**"
            ],
            "metadata": {
                "azdata_cell_guid": "c0432a13-3119-42c7-b924-ee83858527fe"
            },
            "attachments": {}
        },
        {
            "cell_type": "markdown",
            "source": [
                "### **1\\. What are variables in Python?**\n",
                "\n",
                "  \n",
                "\n",
                "- In Python, a variable is a named storage location used to store data values. It acts as a label for a memory location where a value is stored. Variables allow us to manipulate and process data within a program."
            ],
            "metadata": {
                "azdata_cell_guid": "018b0b01-ae30-4fa8-8851-4dd0101a4378"
            },
            "attachments": {}
        },
        {
            "cell_type": "markdown",
            "source": [
                "### **2\\. Naming Convention for Variables in Python**\n",
                "\n",
                "  \n",
                "\n",
                "\\- Variables must start with a letter (a-z, A-Z) or an underscore (\\_).\n",
                "\n",
                "\\- The subsequent characters can be letters, numbers, or underscores.\n",
                "\n",
                "\\- Python is case-sensitive, so \"myVariable\" and \"myvariable\" are different.\n",
                "\n",
                "\\- Avoid using reserved words (keywords) as variable names."
            ],
            "metadata": {
                "azdata_cell_guid": "84a61dbe-c9f9-42e7-9ca7-9d4cbad1a369"
            },
            "attachments": {}
        },
        {
            "cell_type": "markdown",
            "source": [
                "### **3\\. How Memory is Allocated to Variables in Python**\n",
                "\n",
                "  \n",
                "\n",
                "\\- Python uses dynamic typing, meaning you don't have to declare the type of a variable explicitly.\n",
                "\n",
                "\\- Memory is allocated dynamically based on the type and value assigned to the variable.\n",
                "\n",
                "\\- Python keeps track of variable types during runtime."
            ],
            "metadata": {
                "azdata_cell_guid": "a6e5d25c-f06f-4429-a991-922087e6f798"
            },
            "attachments": {}
        },
        {
            "cell_type": "markdown",
            "source": [
                "### **4\\. Examples to Explain the Concept of Variables**"
            ],
            "metadata": {
                "azdata_cell_guid": "a3642b76-bcd2-450a-8f77-89b968999ace"
            },
            "attachments": {}
        },
        {
            "cell_type": "code",
            "source": [
                "# Example 1: Integer Variable\n",
                "age = 25\n",
                "\n",
                "# Example 2: String Variable\n",
                "name = \"John Doe\"\n",
                "\n",
                "# Example 3: Float Variable\n",
                "salary = 50000.5\n",
                "\n",
                "# Example 4: Boolean Variable\n",
                "is_student = True\n",
                "\n",
                "\n",
                "print('age :', age)\n",
                "print('name :', name)\n",
                "print('salary :', salary)\n",
                "print('is_student :', is_student)\n",
                ""
            ],
            "metadata": {
                "azdata_cell_guid": "afcf2dcc-bc71-4c06-ac54-ccae7cf75eef",
                "language": "python"
            },
            "outputs": [
                {
                    "name": "stdout",
                    "text": "age : 25\nname : John Doe\nsalary : 50000.5\nis_student : True\n",
                    "output_type": "stream"
                }
            ],
            "execution_count": 2
        },
        {
            "cell_type": "markdown",
            "source": [
                "### **5\\. Practical Application of Variables in the Real World**\n",
                "\n",
                "  \n",
                "\n",
                "Variables are used in various real-world scenarios:\n",
                "\n",
                "  \n",
                "\n",
                "\\- **Data Storage**: Storing user input, database records, or any form of information.\n",
                "\n",
                "\\- **Mathematical Operations**: Performing calculations and storing results.\n",
                "\n",
                "\\- **Automation**: Storing configuration settings in scripts.\n",
                "\n",
                "\\- **User Interface**: Holding user preferences and input."
            ],
            "metadata": {
                "language": "python",
                "azdata_cell_guid": "4b20f4ac-df6b-45cc-8e79-4ef26b1e49a8"
            },
            "attachments": {}
        },
        {
            "cell_type": "markdown",
            "source": [
                "### **6\\. Peculiarities and Considerations for Variables in Python**"
            ],
            "metadata": {
                "language": "python",
                "azdata_cell_guid": "ace294e4-e1ba-420f-9b0b-bbb13f627451"
            },
            "attachments": {}
        },
        {
            "cell_type": "markdown",
            "source": [
                "a. <span style=\"color: rgb(0, 0, 0); font-family: &quot;Helvetica Neue&quot;; font-size: 13px;\"><b>Dynamic Typing</b>: Variables can change types during runtime.</span>"
            ],
            "metadata": {
                "language": "python",
                "azdata_cell_guid": "ab0f288a-a218-433d-b44c-c374ff59b8ea"
            },
            "attachments": {}
        },
        {
            "cell_type": "code",
            "source": [
                "  x = 5      # integer\n",
                "  print(x)\n",
                "  x = \"Hello\"   # string\n",
                "  print(x)"
            ],
            "metadata": {
                "language": "python",
                "azdata_cell_guid": "819f20f8-d462-4cf1-b69f-71c502775608"
            },
            "outputs": [
                {
                    "name": "stdout",
                    "text": "5\nHello\n",
                    "output_type": "stream"
                }
            ],
            "execution_count": 3
        },
        {
            "cell_type": "markdown",
            "source": [
                "b. <span style=\"color: rgb(0, 0, 0); font-family: &quot;Helvetica Neue&quot;; font-size: 13px;\"><b>Immutable vs. Mutable Types</b>: Some types, like integers and strings, are immutable (cannot be changed after creation), while lists and dictionaries are mutable.</span>"
            ],
            "metadata": {
                "language": "python",
                "azdata_cell_guid": "bc217045-d3c9-44e3-82a7-0aa588cc5db6"
            },
            "attachments": {}
        },
        {
            "cell_type": "code",
            "source": [
                "  # Immutable\n",
                "  age = 25\n",
                "  print(age,id(age))\n",
                "  age = age + 1  # Creates a new integer object\n",
                "  print(age,id(age))"
            ],
            "metadata": {
                "language": "",
                "azdata_cell_guid": "626a70de-19d8-4b1a-b0df-7a9bf95cff47"
            },
            "outputs": [
                {
                    "name": "stdout",
                    "text": "25 4332487664\n26 4332487696\n",
                    "output_type": "stream"
                }
            ],
            "execution_count": 5
        },
        {
            "cell_type": "code",
            "source": [
                "  # Mutable\n",
                "  my_list = [1, 2, 3]\n",
                "  print(my_list)\n",
                "  my_list.append(4)  # Modifies the existing list\n",
                "  print(my_list)\n",
                ""
            ],
            "metadata": {
                "azdata_cell_guid": "444b8834-2399-410c-8d1a-503b0b919382",
                "language": "python"
            },
            "outputs": [
                {
                    "name": "stdout",
                    "text": "[1, 2, 3]\n[1, 2, 3, 4]\n",
                    "output_type": "stream"
                }
            ],
            "execution_count": 6
        },
        {
            "cell_type": "markdown",
            "source": [
                "###  **7\\. Most Common Mistakes Done While Using Variables in Python**"
            ],
            "metadata": {
                "language": "python",
                "azdata_cell_guid": "6b45839b-6176-43e8-b263-8e31ba00e50e"
            },
            "attachments": {}
        },
        {
            "cell_type": "markdown",
            "source": [
                "a. <span style=\"color: rgb(0, 0, 0); font-family: &quot;Helvetica Neue&quot;; font-size: 13px;\"><b>NameError</b>: Using a variable before it's defined.</span>"
            ],
            "metadata": {
                "language": "python",
                "azdata_cell_guid": "1ec128d0-c5a4-4514-afd8-1615fc9f9cbd"
            },
            "attachments": {}
        },
        {
            "cell_type": "code",
            "source": [
                "  print(my_variable)  # Raises NameError\n",
                "  my_variable = 10"
            ],
            "metadata": {
                "language": "python",
                "azdata_cell_guid": "0e019c1a-6639-4e75-a234-0b4432d2937a"
            },
            "outputs": [
                {
                    "traceback": [
                        "\u001b[0;31m---------------------------------------------------------------------------\u001b[0m",
                        "\u001b[0;31mNameError\u001b[0m                                 Traceback (most recent call last)",
                        "Cell \u001b[0;32mIn[7], line 1\u001b[0m\n\u001b[0;32m----> 1\u001b[0m \u001b[38;5;28mprint\u001b[39m(\u001b[43mmy_variable\u001b[49m)  \u001b[38;5;66;03m# Raises NameError\u001b[39;00m\n\u001b[1;32m      2\u001b[0m my_variable \u001b[38;5;241m=\u001b[39m \u001b[38;5;241m10\u001b[39m\n",
                        "\u001b[0;31mNameError\u001b[0m: name 'my_variable' is not defined"
                    ],
                    "ename": "NameError",
                    "evalue": "name 'my_variable' is not defined",
                    "output_type": "error"
                }
            ],
            "execution_count": 7
        },
        {
            "cell_type": "markdown",
            "source": [
                "b. <span style=\"color: rgb(0, 0, 0); font-family: &quot;Helvetica Neue&quot;; font-size: 13px;\"><b>SyntaxError</b>: Incorrect variable naming or misuse of characters.</span>"
            ],
            "metadata": {
                "language": "python",
                "azdata_cell_guid": "63749a21-e6ad-4e40-b1ef-2a39ca31792f"
            },
            "attachments": {}
        },
        {
            "cell_type": "code",
            "source": [
                "1_variable = 5   # Raises SyntaxError because the variable name is starting with a digit"
            ],
            "metadata": {
                "language": "python",
                "azdata_cell_guid": "7f4cce08-1839-46ba-945b-945e2ea5b5c6"
            },
            "outputs": [
                {
                    "traceback": [
                        "\u001b[0;36m  Cell \u001b[0;32mIn[8], line 1\u001b[0;36m\u001b[0m\n\u001b[0;31m    1_variable = 5   # Raises SyntaxError\u001b[0m\n\u001b[0m     ^\u001b[0m\n\u001b[0;31mSyntaxError\u001b[0m\u001b[0;31m:\u001b[0m invalid decimal literal\n"
                    ],
                    "ename": "SyntaxError",
                    "evalue": "invalid decimal literal (<ipython-input-8-d3355e2d78a0>, line 1)",
                    "output_type": "error"
                }
            ],
            "execution_count": 8
        },
        {
            "cell_type": "markdown",
            "source": [
                "c. <span style=\"color: rgb(0, 0, 0); font-family: &quot;Helvetica Neue&quot;; font-size: 13px;\"><b>Forgetting Variable Type</b>: Not considering the dynamic typing nature of Python.</span>"
            ],
            "metadata": {
                "language": "python",
                "azdata_cell_guid": "3b5640c5-3881-4901-9147-c1c906ec8e18"
            },
            "attachments": {}
        },
        {
            "cell_type": "code",
            "source": [
                "  x = 5\n",
                "  x = \"Hello\"  # No error, but it changes the type"
            ],
            "metadata": {
                "language": "python",
                "azdata_cell_guid": "f9bba16f-1817-46bf-8d75-b14312415665"
            },
            "outputs": [],
            "execution_count": null
        },
        {
            "cell_type": "markdown",
            "source": [
                "d. **Overwriting Variables**: Accidentally reassigning a variable and losing its original value."
            ],
            "metadata": {
                "language": "python",
                "azdata_cell_guid": "7a6c6df8-116c-4a60-96dc-7dd40cd14a48"
            },
            "attachments": {}
        },
        {
            "cell_type": "code",
            "source": [
                "  age = 25\n",
                "  age = \"Unknown\"  # Overwrites the original value"
            ],
            "metadata": {
                "language": "python",
                "azdata_cell_guid": "feed132a-8f55-4276-9624-235666a441ee"
            },
            "outputs": [],
            "execution_count": null
        }
    ]
}