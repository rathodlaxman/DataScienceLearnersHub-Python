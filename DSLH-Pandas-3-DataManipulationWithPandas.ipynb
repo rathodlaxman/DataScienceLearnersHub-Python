{
    "metadata": {
        "kernelspec": {
            "name": "python3",
            "display_name": "Python 3",
            "language": "python"
        },
        "language_info": {
            "name": "python",
            "version": "3.10.9",
            "mimetype": "text/x-python",
            "codemirror_mode": {
                "name": "ipython",
                "version": 3
            },
            "pygments_lexer": "ipython3",
            "nbconvert_exporter": "python",
            "file_extension": ".py"
        }
    },
    "nbformat_minor": 2,
    "nbformat": 4,
    "cells": [
        {
            "cell_type": "markdown",
            "source": [
                "# **`Data Science Learners Hub`**\n",
                "\n",
                "**Module : Python**\n",
                "\n",
                "**email** : [datasciencelearnershub@gmail.com](mailto:datasciencelearnershub@gmail.com)"
            ],
            "metadata": {
                "azdata_cell_guid": "36fa462a-ad3c-43e9-8b11-56fe409f2c8f"
            },
            "attachments": {}
        },
        {
            "cell_type": "markdown",
            "source": [
                "## **`#3: Data Manipulation with Pandas`**\n",
                "7. **Data Filtering and Selection**\n",
                "   - Conditional selection\n",
                "   - Using boolean indexing\n",
                "\n",
                "8. **Data Sorting and Ranking**\n",
                "   - Sorting by columns\n",
                "   - Ranking data\n",
                "\n",
                "9. **Grouping and Aggregation**\n",
                "   - GroupBy operations\n",
                "   - Aggregation functions (sum, mean, count, etc.)"
            ],
            "metadata": {
                "azdata_cell_guid": "18dea761-b3e1-43c8-9f09-f4d539f123a3"
            },
            "attachments": {}
        },
        {
            "cell_type": "markdown",
            "source": [
                "### **`7. Data Filtering and Selection`**"
            ],
            "metadata": {
                "azdata_cell_guid": "8282d2de-258a-43c1-aa5c-c0cde112c3c3"
            },
            "attachments": {}
        },
        {
            "cell_type": "markdown",
            "source": [
                "#### `Conditional Selection in Pandas DataFrame`"
            ],
            "metadata": {
                "azdata_cell_guid": "a7f1ca63-4f07-4495-b077-f8156f0a2fe3"
            },
            "attachments": {}
        },
        {
            "cell_type": "markdown",
            "source": [
                "#### Filtering Data Based on Conditions:\n",
                "\n",
                "Pandas allows for efficient conditional selection of data in a DataFrame using boolean expressions. This involves creating a boolean mask based on specific conditions and applying it to the DataFrame.\n",
                "\n",
                "#### Example with Comparison Operators:"
            ],
            "metadata": {
                "azdata_cell_guid": "1c9f78a8-3794-4ff8-8a72-bc80495f9c31"
            },
            "attachments": {}
        },
        {
            "cell_type": "code",
            "source": [
                "import pandas as pd\n",
                "\n",
                "# Sample DataFrame\n",
                "data = {'Name': ['Alice', 'Bob', 'Charlie', 'David'],\n",
                "        'Age': [25, 30, 22, 35],\n",
                "        'Salary': [50000, 60000, 45000, 70000]}\n",
                "\n",
                "df = pd.DataFrame(data)\n",
                "\n",
                "# Filtering based on Age greater than 25\n",
                "age_condition = df['Age'] > 25\n",
                "filtered_data = df[age_condition]\n",
                "\n",
                "# Displaying the filtered DataFrame\n",
                "print(\"DataFrame with Age > 25:\")\n",
                "print(filtered_data)"
            ],
            "metadata": {
                "azdata_cell_guid": "ded24130-1ed8-4a2e-aa13-3e6dd9bd1f15",
                "language": "python"
            },
            "outputs": [
                {
                    "output_type": "stream",
                    "name": "stdout",
                    "text": "DataFrame with Age > 25:\n    Name  Age  Salary\n1    Bob   30   60000\n3  David   35   70000\n"
                }
            ],
            "execution_count": 2
        },
        {
            "cell_type": "markdown",
            "source": [
                "#### Example with Logical Conditions:"
            ],
            "metadata": {
                "language": "python",
                "azdata_cell_guid": "d5995afb-e36e-4149-88fe-3baa13c72915"
            },
            "attachments": {}
        },
        {
            "cell_type": "code",
            "source": [
                "# Filtering based on multiple conditions (Age > 25 and Salary > 50000)\n",
                "combined_condition = (df['Age'] > 25) & (df['Salary'] > 50000)\n",
                "filtered_data_combined = df[combined_condition]\n",
                "\n",
                "# Displaying the DataFrame with combined conditions\n",
                "print(\"\\nDataFrame with Age > 25 and Salary > 50000:\")\n",
                "print(filtered_data_combined)"
            ],
            "metadata": {
                "language": "python",
                "azdata_cell_guid": "69aba1fd-5eac-421a-8900-b7cd8c8647ba"
            },
            "outputs": [
                {
                    "output_type": "stream",
                    "name": "stdout",
                    "text": "\nDataFrame with Age > 25 and Salary > 50000:\n    Name  Age  Salary\n1    Bob   30   60000\n3  David   35   70000\n"
                }
            ],
            "execution_count": 3
        },
        {
            "cell_type": "markdown",
            "source": [
                "#### Explanation:\n",
                "\n",
                "- **Comparison Operators:**\n",
                "  - Comparison operators like `>`, `<`, `==`, `!=` create boolean Series based on the conditions.\n",
                "\n",
                "- **Logical Conditions:**\n",
                "  - Logical operators `&` (and), `|` (or), `~` (not) can be used for combining conditions.\n",
                "\n",
                "- **Boolean Mask:**\n",
                "  - The boolean condition creates a boolean mask, where `True` represents rows that satisfy the condition.\n",
                "\n",
                "- **Conditional Selection:**\n",
                "  - Applying the boolean mask to the DataFrame (`df[condition]`) extracts rows satisfying the condition.\n",
                "\n",
                "#### Use Cases:\n",
                "\n",
                "1. **Filtering Employees:**\n",
                "   - Extract employees older than 30 with a salary greater than $60,000.\n",
                "\n",
                "2. **Analyzing Sales Data:**\n",
                "   - Select rows where both the quantity sold is greater than 10 and revenue is above $500.\n",
                "\n",
                "3. **Data Cleaning:**\n",
                "   - Identify and remove outliers by filtering data based on certain thresholds.\n",
                "\n",
                "4. **Time Series Analysis:**\n",
                "   - Filter time series data for specific time periods or events.\n",
                "\n",
                "#### Tips:\n",
                "\n",
                "- **Parentheses for Clarity:**\n",
                "  - Use parentheses for clear and unambiguous logical conditions.\n",
                "\n",
                "- **Understanding Operator Precedence:**\n",
                "  - Be mindful of operator precedence when combining multiple conditions.\n",
                "\n",
                "- **Efficiency:**\n",
                "  - For large DataFrames, consider using the `.loc[]` indexer for better performance.\n",
                "\n",
                "Conditional selection is a powerful tool for extracting relevant information from a DataFrame based on specific criteria. It is widely used in data analysis, filtering, and preprocessing tasks."
            ],
            "metadata": {
                "language": "python",
                "azdata_cell_guid": "f223459d-f719-417f-a3e0-318c0e6cd59e"
            },
            "attachments": {}
        },
        {
            "cell_type": "markdown",
            "source": [
                "#### **`Using Boolean Indexing in Pandas DataFrame`**"
            ],
            "metadata": {
                "azdata_cell_guid": "fcd6c596-c1fa-4650-9116-8c29aef791eb"
            },
            "attachments": {}
        },
        {
            "cell_type": "markdown",
            "source": [
                "#### Concept of Boolean Indexing:\n",
                "\n",
                "Boolean indexing in Pandas involves selecting subsets of data based on boolean conditions. It allows for flexible and expressive ways to filter both rows and columns of a DataFrame.\n",
                "\n",
                "#### Application in Filtering Rows:"
            ],
            "metadata": {
                "azdata_cell_guid": "dd40056c-5f8a-40f7-982d-4468201753f7"
            },
            "attachments": {}
        },
        {
            "cell_type": "code",
            "source": [
                "import pandas as pd\n",
                "\n",
                "# Sample DataFrame\n",
                "data = {'Name': ['Alice', 'Bob', 'Charlie', 'David'],\n",
                "        'Age': [25, 30, 22, 35],\n",
                "        'Salary': [50000, 60000, 45000, 70000]}\n",
                "\n",
                "df = pd.DataFrame(data)\n",
                "\n",
                "# Applying boolean indexing to filter rows\n",
                "filtered_rows = df[df['Age'] > 25]\n",
                "\n",
                "# Displaying the DataFrame with filtered rows\n",
                "print(\"DataFrame with Age > 25:\")\n",
                "print(filtered_rows)"
            ],
            "metadata": {
                "azdata_cell_guid": "48d150c5-e024-4c1c-9366-3d3cc51684df",
                "language": "python"
            },
            "outputs": [
                {
                    "output_type": "stream",
                    "name": "stdout",
                    "text": "DataFrame with Age > 25:\n    Name  Age  Salary\n1    Bob   30   60000\n3  David   35   70000\n"
                }
            ],
            "execution_count": 4
        },
        {
            "cell_type": "markdown",
            "source": [
                "#### Application in Filtering Columns:"
            ],
            "metadata": {
                "language": "python",
                "azdata_cell_guid": "3d23d35a-5dca-4b48-b9aa-ff60d7dfa840"
            },
            "attachments": {}
        },
        {
            "cell_type": "code",
            "source": [
                "# Applying boolean indexing to filter columns\n",
                "filtered_columns = df.loc[:, df.columns != 'Salary']\n",
                "\n",
                "# Displaying the DataFrame with filtered columns\n",
                "print(\"\\nDataFrame without the 'Salary' column:\")\n",
                "print(filtered_columns)"
            ],
            "metadata": {
                "language": "python",
                "azdata_cell_guid": "ed1b9103-5431-448d-96a8-9f203364c83c"
            },
            "outputs": [
                {
                    "output_type": "stream",
                    "name": "stdout",
                    "text": "\nDataFrame without the 'Salary' column:\n      Name  Age\n0    Alice   25\n1      Bob   30\n2  Charlie   22\n3    David   35\n"
                }
            ],
            "execution_count": 5
        },
        {
            "cell_type": "markdown",
            "source": [
                "#### Combining Boolean Indexing with Other Operations:"
            ],
            "metadata": {
                "language": "python",
                "azdata_cell_guid": "7a26ce14-7b2e-43ee-8c7c-0ef8aa2eca3d"
            },
            "attachments": {}
        },
        {
            "cell_type": "code",
            "source": [
                "# Combining boolean indexing with other operations\n",
                "complex_condition = (df['Age'] > 25) & (df['Salary'] > 50000)\n",
                "complex_filtered_data = df.loc[complex_condition, ['Name', 'Age']]\n",
                "\n",
                "# Displaying the DataFrame with complex filtered data\n",
                "print(\"\\nDataFrame with Age > 25 and Salary > 50000, showing 'Name' and 'Age':\")\n",
                "print(complex_filtered_data)"
            ],
            "metadata": {
                "language": "python",
                "azdata_cell_guid": "9f2389da-d802-4fa3-adf3-8a5b9eb5e006"
            },
            "outputs": [
                {
                    "output_type": "stream",
                    "name": "stdout",
                    "text": "\nDataFrame with Age > 25 and Salary > 50000, showing 'Name' and 'Age':\n    Name  Age\n1    Bob   30\n3  David   35\n"
                }
            ],
            "execution_count": 6
        },
        {
            "cell_type": "markdown",
            "source": [
                "#### Explanation:\n",
                "\n",
                "- **Filtering Rows:**\n",
                "  - Rows are filtered based on a boolean condition applied to a specific column (`df['Age'] > 25`).\n",
                "\n",
                "- **Filtering Columns:**\n",
                "  - Columns are filtered based on a boolean condition applied to column names (`df.loc[:, df.columns != 'Salary']`).\n",
                "\n",
                "- **Combining Conditions:**\n",
                "  - Multiple conditions can be combined using logical operators (`&`, `|`, `~`) to create complex boolean conditions.\n",
                "\n",
                "- **Selecting Specific Columns:**\n",
                "  - Specific columns can be selected along with boolean conditions to extract a subset of data.\n",
                "\n",
                "#### Use Cases:\n",
                "\n",
                "1. **Selective Row Extraction:**\n",
                "   - Extract rows of customers with purchases exceeding a certain amount.\n",
                "\n",
                "2. **Column Exclusion:**\n",
                "   - Exclude columns with sensitive information from being displayed.\n",
                "\n",
                "3. **Filtering with Complex Conditions:**\n",
                "   - Extract specific columns for rows meeting complex conditions, useful in targeted analyses.\n",
                "\n",
                "4. **Data Cleaning:**\n",
                "   - Selectively remove or replace values based on conditions.\n",
                "\n",
                "#### Tips:\n",
                "\n",
                "- **Boolean Indexing for Both Rows and Columns:**\n",
                "  - Boolean indexing can be applied to both rows and columns simultaneously, providing flexibility.\n",
                "\n",
                "- **Combining Conditions:**\n",
                "  - Logical operators help create intricate conditions, useful for nuanced data extraction.\n",
                "\n",
                "- **Efficiency Considerations:**\n",
                "  - Use boolean indexing efficiently, especially with large datasets, to avoid unnecessary memory usage.\n",
                "\n",
                "Boolean indexing is a versatile technique for selectively extracting information from a DataFrame. It is widely used in data filtering, cleaning, and preparation for further analysis. Understanding how to combine boolean indexing with other operations enhances its utility in complex data extraction tasks."
            ],
            "metadata": {
                "language": "python",
                "azdata_cell_guid": "ddb667e8-7ab2-4f43-b623-61e309a465d5"
            },
            "attachments": {}
        },
        {
            "cell_type": "markdown",
            "source": [
                "#### **`Hands On Experience:`**\n",
                "\n",
                "Conditional Selection and Boolean Indexing\n",
                ""
            ],
            "metadata": {
                "azdata_cell_guid": "a5c68e52-55af-4ccb-a3d2-f696f9e646b4"
            },
            "attachments": {}
        },
        {
            "cell_type": "markdown",
            "source": [
                "#### Example 1: Employee Data Analysis\n",
                "\n",
                "##### Scenario:\n",
                "Consider a dataset of employee information, including age, department, and salary. You want to analyze employees aged 30 or younger in the 'Marketing' department."
            ],
            "metadata": {
                "azdata_cell_guid": "ffae39ae-87e0-4206-a9d1-6d166609f3e0"
            },
            "attachments": {}
        },
        {
            "cell_type": "code",
            "source": [
                "import pandas as pd\n",
                "\n",
                "# Reading Employee Data\n",
                "employee_data = {'Name': ['Alice', 'Bob', 'Charlie', 'David'],\n",
                "                 'Age': [25, 30, 22, 35],\n",
                "                 'Department': ['Marketing', 'HR', 'Marketing', 'IT'],\n",
                "                 'Salary': [50000, 60000, 45000, 70000]}\n",
                "\n",
                "df_employees = pd.DataFrame(employee_data)\n",
                "\n",
                "# Conditional Selection\n",
                "young_marketing_employees = df_employees[(df_employees['Age'] <= 30) & (df_employees['Department'] == 'Marketing')]\n",
                "\n",
                "# Displaying the Result\n",
                "print(\"Young Employees in Marketing Department:\")\n",
                "print(young_marketing_employees)"
            ],
            "metadata": {
                "azdata_cell_guid": "2c62c7ef-0fcf-4298-a95c-8d79da497b52",
                "language": "python"
            },
            "outputs": [
                {
                    "output_type": "stream",
                    "name": "stdout",
                    "text": "Young Employees in Marketing Department:\n      Name  Age Department  Salary\n0    Alice   25  Marketing   50000\n2  Charlie   22  Marketing   45000\n"
                }
            ],
            "execution_count": 1
        },
        {
            "cell_type": "markdown",
            "source": [
                "#### Considerations:\n",
                "- **Column Selection:**\n",
                "  - Select only the relevant columns to avoid unnecessary data processing.\n",
                "- **Multiple Conditions:**\n",
                "  - Ensure proper use of parentheses when combining multiple conditions for clarity."
            ],
            "metadata": {
                "language": "python",
                "azdata_cell_guid": "142e50df-eb43-4005-8c10-94444a983121"
            },
            "attachments": {}
        },
        {
            "cell_type": "markdown",
            "source": [
                "#### Example 2: Sales Data Analysis\n",
                "\n",
                "##### Scenario:\n",
                "You have a sales dataset with product information, quantity sold, and revenue. Identify products where the quantity sold is above 10 and revenue exceeds $500.\n",
                "\n",
                "##### Solution:"
            ],
            "metadata": {
                "language": "python",
                "azdata_cell_guid": "847393c1-b25a-42e0-8da2-dadf6eedd545"
            },
            "attachments": {}
        },
        {
            "cell_type": "code",
            "source": [
                "# Reading Sales Data\n",
                "sales_data = {'Product': ['Laptop', 'Smartphone', 'Tablet', 'Camera'],\n",
                "              'Quantity': [15, 8, 12, 5],\n",
                "              'Revenue': [12000, 8000, 4500, 6000]}\n",
                "\n",
                "df_sales = pd.DataFrame(sales_data)\n",
                "\n",
                "# Boolean Indexing\n",
                "high_revenue_products = df_sales.loc[(df_sales['Quantity'] > 10) & (df_sales['Revenue'] > 500), 'Product']\n",
                "\n",
                "# Displaying the Result\n",
                "print(\"\\nHigh Revenue Products with Quantity > 10:\")\n",
                "print(high_revenue_products)"
            ],
            "metadata": {
                "language": "python",
                "azdata_cell_guid": "97a1108d-d7d5-4e05-a504-2c0b977a0804"
            },
            "outputs": [
                {
                    "output_type": "stream",
                    "name": "stdout",
                    "text": "\nHigh Revenue Products with Quantity > 10:\n0    Laptop\n2    Tablet\nName: Product, dtype: object\n"
                }
            ],
            "execution_count": 2
        },
        {
            "cell_type": "markdown",
            "source": [
                "#### Considerations:\n",
                "- **Column Selection:**\n",
                "  - Use boolean indexing to extract specific columns relevant to the analysis.\n",
                "- **Condition Complexity:**\n",
                "  - Carefully structure complex conditions for accurate filtering."
            ],
            "metadata": {
                "language": "python",
                "azdata_cell_guid": "df8ba650-569e-45c2-9c91-87485988f34a"
            },
            "attachments": {}
        },
        {
            "cell_type": "markdown",
            "source": [
                "#### Common Mistakes by Developers/Students:\n",
                "\n",
                "1. **Overlooking Parentheses:**\n",
                "   - Mistakenly omitting parentheses when combining multiple conditions can lead to unexpected results.\n",
                "\n",
                "2. **Incorrect Column Names:**\n",
                "   - Using incorrect column names in conditions may result in errors or inaccurate filtering.\n",
                "\n",
                "3. **Not Handling Edge Cases:**\n",
                "   - Failing to consider edge cases or missing values in conditions may impact the accuracy of the analysis.\n",
                "\n",
                "4. **Misinterpreting Logical Operators:**\n",
                "   - Misunderstanding how logical operators (`&`, `|`, `~`) work can lead to incorrect boolean conditions.\n",
                "\n",
                "\n",
                "#### Interesting Facts:\n",
                "\n",
                "1. **Query-like Syntax:**\n",
                "   - Pandas allows using a query-like syntax for conditional selection, making it more readable and similar to SQL.\n",
                "\n",
                "2. **Chaining Conditions:**\n",
                "   - Chaining conditions with logical operators enables complex and nuanced filtering, enhancing data extraction capabilities.\n",
                "\n",
                "3. **Efficient Memory Usage:**\n",
                "   - Properly using boolean indexing can optimize memory usage, especially crucial for large datasets.\n",
                "\n",
                "4. **Combining with Other Operations:**\n",
                "   - Boolean indexing seamlessly integrates with other Pandas operations, providing a powerful toolkit for data manipulation.\n",
                "\n",
                "Understanding real-world scenarios, considerations, and potential mistakes enhances the application of conditional selection and boolean indexing in practical data analysis tasks."
            ],
            "metadata": {
                "language": "python",
                "azdata_cell_guid": "c0557408-8afc-4eed-8584-c1a5e26db724"
            },
            "attachments": {}
        },
        {
            "cell_type": "markdown",
            "source": [
                "### **`8. Data Sorting and Ranking`**"
            ],
            "metadata": {
                "azdata_cell_guid": "b885959e-b513-433f-95ab-4c3d27cd05fc"
            },
            "attachments": {}
        },
        {
            "cell_type": "markdown",
            "source": [
                "#### **`Sorting a Pandas DataFrame by Columns`**"
            ],
            "metadata": {
                "azdata_cell_guid": "8791e1e5-a580-4b79-8ee2-6bce74da9746"
            },
            "attachments": {}
        },
        {
            "cell_type": "markdown",
            "source": [
                "#### Sorting Basics:\n",
                "\n",
                "Sorting in Pandas involves arranging the rows of a DataFrame based on the values in one or more columns. The `sort_values()` method is commonly used for this purpose.\n",
                "\n",
                "#### Sorting by a Single Column:"
            ],
            "metadata": {
                "azdata_cell_guid": "7a5af4c8-33bb-4aa0-9cd0-76a0548c724b"
            },
            "attachments": {}
        },
        {
            "cell_type": "code",
            "source": [
                "import pandas as pd\n",
                "\n",
                "# Sample DataFrame\n",
                "data = {'Name': ['Laxman', 'Rajesh', 'Ganga', 'Jamuna'],\n",
                "        'Age': [25, 30, 22, 35],\n",
                "        'Salary': [50000, 60000, 45000, 70000]}\n",
                "\n",
                "df = pd.DataFrame(data)\n",
                "\n",
                "# Sorting by the 'Age' column in ascending order\n",
                "sorted_df_age_asc = df.sort_values(by='Age', ascending=True)\n",
                "\n",
                "# Displaying the sorted DataFrame\n",
                "print(\"DataFrame Sorted by Age in Ascending Order:\")\n",
                "print(sorted_df_age_asc)"
            ],
            "metadata": {
                "azdata_cell_guid": "d8a54fd6-503e-4841-8af5-25405c6c354c",
                "language": "python"
            },
            "outputs": [
                {
                    "name": "stdout",
                    "text": "DataFrame Sorted by Age in Ascending Order:\n     Name  Age  Salary\n2   Ganga   22   45000\n0  Laxman   25   50000\n1  Rajesh   30   60000\n3  Jamuna   35   70000\n",
                    "output_type": "stream"
                }
            ],
            "execution_count": 1
        },
        {
            "cell_type": "markdown",
            "source": [
                "#### Sorting by Multiple Columns:"
            ],
            "metadata": {
                "language": "python",
                "azdata_cell_guid": "7c6d870b-a8e5-474a-90e9-4c53e90aabf3"
            },
            "attachments": {}
        },
        {
            "cell_type": "code",
            "source": [
                "import pandas as pd\n",
                "\n",
                "# Sample DataFrame\n",
                "data = {'Name': ['Laxman', 'Rajesh', 'Ganga', 'Jamuna'],\n",
                "        'Age': [25, 30, 22, 35],\n",
                "        'Salary': [50000, 60000, 45000, 70000],\n",
                "        'Department': ['HR', 'IT', 'Marketing', 'IT']}\n",
                "\n",
                "df = pd.DataFrame(data)\n",
                "\n",
                "# Sorting by 'Department' in ascending order, then 'Salary' in descending order\n",
                "sorted_df_multi_columns = df.sort_values(by=['Department', 'Salary'], ascending=[True, False])\n",
                "\n",
                "# Displaying the sorted DataFrame with multiple columns\n",
                "print(\"DataFrame Sorted by Department (Asc) and Salary (Desc):\")\n",
                "print(sorted_df_multi_columns)\n",
                ""
            ],
            "metadata": {
                "language": "python",
                "azdata_cell_guid": "bc6544b9-0321-4a2f-bee4-7e20b50c7011"
            },
            "outputs": [
                {
                    "name": "stdout",
                    "text": "DataFrame Sorted by Department (Asc) and Salary (Desc):\n     Name  Age  Salary Department\n0  Laxman   25   50000         HR\n3  Jamuna   35   70000         IT\n1  Rajesh   30   60000         IT\n2   Ganga   22   45000  Marketing\n",
                    "output_type": "stream"
                }
            ],
            "execution_count": 2
        },
        {
            "cell_type": "markdown",
            "source": [
                "#### Explanation:\n",
                "\n",
                "- **Single Column Sorting:**\n",
                "  - `df.sort_values(by='Column_Name')` sorts the DataFrame based on the specified column.\n",
                "  - `ascending=True` sorts in ascending order; set to `False` for descending order.\n",
                "\n",
                "- **Multiple Columns Sorting:**\n",
                "  - `by=['Column1', 'Column2']` sorts by multiple columns in the specified order.\n",
                "  - `ascending=[True, False]` controls the sorting order for each column.\n",
                "\n",
                "#### Scenarios for Sorting:\n",
                "\n",
                "1. **Top Performers Analysis:**\n",
                "   - Sort by a performance metric (e.g., sales, ratings) to identify top performers.\n",
                "\n",
                "2. **Time Series Data:**\n",
                "   - Sort time series data by date or timestamp for chronological analysis.\n",
                "\n",
                "3. **Hierarchical Sorting:**\n",
                "   - Sort by one column, then another, for hierarchical analysis (e.g., sorting by department, then salary).\n",
                "\n",
                "4. **Identifying Outliers:**\n",
                "   - Sort by numerical columns to identify outliers or extremes in the dataset.\n",
                "\n",
                "#### Considerations:\n",
                "\n",
                "- **Preserving Index:**\n",
                "  - Sorting may change the DataFrame's index. Use `ignore_index=True` to reset the index.\n",
                "\n",
                "- **In-Place Sorting:**\n",
                "  - Use `inplace=True` to perform sorting in-place and modify the original DataFrame.\n",
                "\n",
                "#### Tips:\n",
                "\n",
                "- **Chaining Sorting Conditions:**\n",
                "  - Chain sorting conditions for nuanced analysis, ensuring the correct order of sorting.\n",
                "\n",
                "- **Numeric vs. Lexicographic Sorting:**\n",
                "  - Be aware of numeric vs. lexicographic (string-based) sorting when working with mixed data types.\n",
                "\n",
                "Sorting is crucial for organizing and analyzing data in a meaningful way. It is employed in various scenarios to extract insights and identify patterns within a dataset. Understanding the `sort_values()` method and its parameters enables efficient data sorting in Pandas.\n",
                ""
            ],
            "metadata": {
                "language": "python",
                "azdata_cell_guid": "f7c8662e-fb25-4177-8406-bec6ce6e39b8"
            },
            "attachments": {}
        },
        {
            "cell_type": "markdown",
            "source": [
                "#### **`Ranking Data in a Pandas DataFrame`**"
            ],
            "metadata": {
                "azdata_cell_guid": "e6df96c5-3f40-454c-b74a-88cb978d6d68"
            },
            "attachments": {}
        },
        {
            "cell_type": "markdown",
            "source": [
                "#### Ranking Basics:\n",
                "\n",
                "Ranking in Pandas involves assigning ranks to the values in a DataFrame based on certain criteria. The `rank()` method is commonly used for this purpose.\n",
                "\n",
                "#### Basic Ranking:\n",
                ""
            ],
            "metadata": {
                "azdata_cell_guid": "d49f0e40-6dcd-49b5-81bd-0ace4e58c043"
            },
            "attachments": {}
        },
        {
            "cell_type": "code",
            "source": [
                "import pandas as pd\n",
                "\n",
                "# Sample DataFrame\n",
                "data = {'Name': ['Laxman', 'Rajesh', 'Ganga', 'Jamuna'],\n",
                "        'Score': [85, 90, 85, 92]}\n",
                "\n",
                "df = pd.DataFrame(data)\n",
                "\n",
                "# Ranking by 'Score' in ascending order\n",
                "df['Rank'] = df['Score'].rank()\n",
                "\n",
                "# Displaying the DataFrame with ranks\n",
                "print(\"DataFrame with Ranks:\")\n",
                "print(df)"
            ],
            "metadata": {
                "azdata_cell_guid": "aca716da-b297-44a4-8463-89e28bfee96f",
                "language": "python",
                "tags": []
            },
            "outputs": [
                {
                    "name": "stdout",
                    "text": "DataFrame with Ranks:\n     Name  Score  Rank\n0  Laxman     85   1.5\n1  Rajesh     90   3.0\n2   Ganga     85   1.5\n3  Jamuna     92   4.0\n",
                    "output_type": "stream"
                }
            ],
            "execution_count": 3
        },
        {
            "cell_type": "markdown",
            "source": [
                "Explanation:\n",
                "- The rank() function in pandas assigns ranks to values in ascending order by default. When there are tied values in the 'Score' column (values that are the same), the rank() function assigns them the average rank."
            ],
            "metadata": {
                "azdata_cell_guid": "ef89ad5a-3b53-4a8c-9191-156b38185f49"
            },
            "attachments": {}
        },
        {
            "cell_type": "markdown",
            "source": [
                "#### Handling Ties:"
            ],
            "metadata": {
                "language": "python",
                "azdata_cell_guid": "f01a71d3-4a28-4914-a087-f35f50c00dd5"
            },
            "attachments": {}
        },
        {
            "cell_type": "code",
            "source": [
                "# Handling ties by averaging ranks\n",
                "df['Rank_Avg'] = df['Score'].rank(method='average')\n",
                "\n",
                "# Displaying the DataFrame with averaged ranks for ties\n",
                "print(\"\\nDataFrame with Averaged Ranks for Ties:\")\n",
                "print(df)"
            ],
            "metadata": {
                "language": "python",
                "azdata_cell_guid": "9b73e3bd-f2d6-4403-bf85-f832095ad4c9"
            },
            "outputs": [
                {
                    "output_type": "stream",
                    "name": "stdout",
                    "text": "\nDataFrame with Averaged Ranks for Ties:\n      Name  Score  Rank  Rank_Avg\n0    Alice     85   1.5       1.5\n1      Bob     90   3.0       3.0\n2  Charlie     85   1.5       1.5\n3    David     92   4.0       4.0\n"
                }
            ],
            "execution_count": 7
        },
        {
            "cell_type": "markdown",
            "source": [
                "#### Customizing Ranking Method:"
            ],
            "metadata": {
                "language": "python",
                "azdata_cell_guid": "6dd69d0c-44d0-4b1f-9e7a-f41f8772b9fd"
            },
            "attachments": {}
        },
        {
            "cell_type": "code",
            "source": [
                "# Customizing ranking method to assign the lowest rank to tied values\n",
                "df['Rank_Min'] = df['Score'].rank(method='min')\n",
                "\n",
                "# Displaying the DataFrame with the lowest ranks for ties\n",
                "print(\"\\nDataFrame with Lowest Ranks for Ties:\")\n",
                "print(df)"
            ],
            "metadata": {
                "language": "python",
                "azdata_cell_guid": "b6453234-74ea-4fcd-b880-4f386745c33b"
            },
            "outputs": [
                {
                    "name": "stdout",
                    "text": "\nDataFrame with Lowest Ranks for Ties:\n     Name  Score  Rank  Rank_Min\n0  Laxman     85   1.5       1.0\n1  Rajesh     90   3.0       3.0\n2   Ganga     85   1.5       1.0\n3  Jamuna     92   4.0       4.0\n",
                    "output_type": "stream"
                }
            ],
            "execution_count": 4
        },
        {
            "cell_type": "markdown",
            "source": [
                "#### Explanation:\n",
                "\n",
                "- **Basic Ranking:**\n",
                "  - `df['Score'].rank()` assigns ranks to values in the 'Score' column in ascending order.\n",
                "\n",
                "- **Handling Ties:**\n",
                "  - `method='average'` (default) averages ranks for tied values.\n",
                "  - Other methods include `'min'`, `'max'`, `'first'`, and `'dense'`.\n",
                "\n",
                "- **Customizing Ranking Method:**\n",
                "  - `method='min'` assigns the minimum rank to tied values.\n",
                "\n",
                "#### Scenarios for Ranking:\n",
                "\n",
                "1. **Competition Results:**\n",
                "   - Rank participants based on their scores in a competition.\n",
                "\n",
                "2. **Academic Performance:**\n",
                "   - Rank students based on their exam scores.\n",
                "\n",
                "3. **Sales Performance:**\n",
                "   - Rank sales representatives based on their sales figures.\n",
                "\n",
                "4. **Sporting Events:**\n",
                "   - Rank teams or athletes based on their performance.\n",
                "\n",
                "#### Considerations:\n",
                "\n",
                "- **Ties Handling:**\n",
                "  - Choose a tie-breaking method based on the nature of your analysis.\n",
                "\n",
                "- **Numeric vs. Lexicographic Ranking:**\n",
                "  - Understand the difference between numeric and lexicographic ranking for mixed data types.\n",
                "\n",
                "#### Tips:\n",
                "\n",
                "- **Ascending vs. Descending Order:**\n",
                "  - Use `ascending=False` to rank in descending order.\n",
                "\n",
                "- **Ranking Specific Columns:**\n",
                "  - Apply ranking to specific columns for targeted analysis.\n",
                "\n",
                "Ranking is a valuable tool for analyzing and comparing values within a dataset. Understanding the various ranking methods and how to handle ties provides flexibility in adapting ranking to different scenarios.\n",
                ""
            ],
            "metadata": {
                "language": "python",
                "azdata_cell_guid": "50fdbdd4-6f40-4d46-b4e6-9103ffc21990"
            },
            "attachments": {}
        },
        {
            "cell_type": "markdown",
            "source": [
                "### **`9. Grouping and Aggregation`**"
            ],
            "metadata": {
                "azdata_cell_guid": "5e7a5376-3b21-4582-8efc-540b5cddc31b"
            },
            "attachments": {}
        },
        {
            "cell_type": "markdown",
            "source": [
                "#### **`GroupBy Operations in Pandas`**"
            ],
            "metadata": {
                "azdata_cell_guid": "e3c771fb-4c38-4bd4-bbb7-418d338bac60"
            },
            "attachments": {}
        },
        {
            "cell_type": "markdown",
            "source": [
                "#### GroupBy Concept:\n",
                "\n",
                "The GroupBy operation in Pandas involves splitting a DataFrame into groups based on one or more criteria, applying a function to each group independently, and then combining the results. It is a powerful tool for aggregation and analysis of data subsets.\n",
                "\n",
                "#### Grouping by a Single Column:\n",
                ""
            ],
            "metadata": {
                "azdata_cell_guid": "c9c4aba2-1b50-4f1d-91e7-166aa92b9364"
            },
            "attachments": {}
        },
        {
            "cell_type": "code",
            "source": [
                "import pandas as pd\n",
                "\n",
                "# Sample DataFrame\n",
                "data = {'Name': ['Laxman', 'Padma', 'Harshita', 'Naina', 'Aanchal'],\n",
                "        'Department': ['HR', 'IT', 'Marketing', 'IT', 'Marketing'],\n",
                "        'Salary': [50000, 60000, 45000, 70000, 55000]}\n",
                "\n",
                "df = pd.DataFrame(data)\n",
                "\n",
                "# Grouping by 'Department'\n",
                "grouped_by_department = df.groupby('Department')\n",
                "\n",
                "# Displaying the GroupBy object\n",
                "print(\"GroupBy Object for Department:\")\n",
                "print(grouped_by_department)\n",
                ""
            ],
            "metadata": {
                "azdata_cell_guid": "ea2aa86c-a5f1-450e-955f-a9c1aafa436f",
                "language": "python"
            },
            "outputs": [
                {
                    "name": "stdout",
                    "text": "GroupBy Object for Department:\n<pandas.core.groupby.generic.DataFrameGroupBy object at 0x10f61dd80>\n",
                    "output_type": "stream"
                }
            ],
            "execution_count": 8
        },
        {
            "cell_type": "markdown",
            "source": [
                "#### Explanation of output:\n",
                "The output of the code that groups the DataFrame by a single column ('Department') and prints the GroupBy object would look like the following:\n",
                "\n",
                "```plaintext\n",
                "GroupBy Object for Department:\n",
                "<pandas.core.groupby.generic.DataFrameGroupBy object at 0xXXXXXXXX>\n",
                "```\n",
                "\n",
                "The actual memory address (indicated by `0xXXXXXXXX`) will vary. The output shows that a GroupBy object has been created, but it doesn't display the grouped data itself. The GroupBy object is an intermediate step, and you typically apply aggregation or transformation functions to extract meaningful information from the grouped data."
            ],
            "metadata": {
                "language": "python",
                "azdata_cell_guid": "94fe123e-f570-407e-a1f7-4493227ae87b"
            },
            "attachments": {}
        },
        {
            "cell_type": "markdown",
            "source": [
                "#### Grouping by Multiple Columns:"
            ],
            "metadata": {
                "language": "python",
                "azdata_cell_guid": "ce3280eb-106f-4801-81d6-7bbc4e070cf2"
            },
            "attachments": {}
        },
        {
            "cell_type": "code",
            "source": [
                "# Grouping by 'Department' and 'Name'\n",
                "grouped_by_department_name = df.groupby(['Department', 'Name'])\n",
                "\n",
                "# Displaying the GroupBy object with multiple columns\n",
                "print(\"\\nGroupBy Object for Department and Name:\")\n",
                "print(grouped_by_department_name)"
            ],
            "metadata": {
                "language": "python",
                "azdata_cell_guid": "e62cec31-4317-4501-ad4b-dcf85d2c8803"
            },
            "outputs": [
                {
                    "name": "stdout",
                    "text": "\nGroupBy Object for Department and Name:\n<pandas.core.groupby.generic.DataFrameGroupBy object at 0x10f61e050>\n",
                    "output_type": "stream"
                }
            ],
            "execution_count": 9
        },
        {
            "cell_type": "markdown",
            "source": [
                "#### Aggregation with GroupBy:"
            ],
            "metadata": {
                "language": "python",
                "azdata_cell_guid": "b6e972a8-a4ac-43ed-ad87-76b4433347a4"
            },
            "attachments": {}
        },
        {
            "cell_type": "code",
            "source": [
                "# Calculating the average salary for each department\n",
                "avg_salary_by_department = grouped_by_department['Salary'].mean()\n",
                "\n",
                "# Displaying the result of the aggregation\n",
                "print(\"\\nAverage Salary by Department:\")\n",
                "print(avg_salary_by_department)"
            ],
            "metadata": {
                "language": "python",
                "azdata_cell_guid": "7464c42a-7dc8-4dcf-aaab-1ad9f1ecc81d"
            },
            "outputs": [
                {
                    "name": "stdout",
                    "text": "\nAverage Salary by Department:\nDepartment\nHR           50000.0\nIT           65000.0\nMarketing    50000.0\nName: Salary, dtype: float64\n",
                    "output_type": "stream"
                }
            ],
            "execution_count": 10
        },
        {
            "cell_type": "markdown",
            "source": [
                "#### Explanation:\n",
                "\n",
                "- **GroupBy Object:**\n",
                "  - The `groupby()` function creates a GroupBy object, which is a special DataFrame with grouped data.\n",
                "  - It does not actually perform any computation until an aggregation function is applied.\n",
                "\n",
                "- **Grouping by Single and Multiple Columns:**\n",
                "  - Grouping can be done based on a single column (`df.groupby('Department')`) or multiple columns (`df.groupby(['Department', 'Name'])`).\n",
                "\n",
                "- **Aggregation with GroupBy:**\n",
                "  - After grouping, aggregation functions like `mean()`, `sum()`, `count()`, etc., can be applied to obtain summary statistics for each group.\n",
                "\n",
                "#### Scenarios for GroupBy:\n",
                "\n",
                "1. **Department-wise Analysis:**\n",
                "   - Analyze average salary, total employees, etc., for each department.\n",
                "\n",
                "2. **Customer Segmentation:**\n",
                "   - Group customers based on demographics for targeted marketing analysis.\n",
                "\n",
                "3. **Time Series Analysis:**\n",
                "   - Group time series data by month or year for temporal analysis.\n",
                "\n",
                "4. **Product Categories:**\n",
                "   - Group sales data by product categories to analyze performance.\n",
                "\n",
                "#### Considerations:\n",
                "\n",
                "- **Efficiency:**\n",
                "  - GroupBy operations can be memory-intensive. Use them judiciously, especially with large datasets.\n",
                "\n",
                "- **Aggregation Functions:**\n",
                "  - Choose appropriate aggregation functions based on the insights you seek.\n",
                "\n",
                "#### Tips:\n",
                "\n",
                "- **Resetting Index:**\n",
                "  - After aggregation, consider using `reset_index()` to bring the GroupBy result back to a regular DataFrame.\n",
                "\n",
                "- **Chaining Operations:**\n",
                "  - Chain multiple operations with GroupBy for comprehensive analysis.\n",
                "\n",
                "GroupBy operations are fundamental in Pandas for analyzing and summarizing data based on specific criteria. Whether you're working with categorical data, time series, or any other type of dataset, mastering GroupBy allows you to extract meaningful insights from your data.\n",
                ""
            ],
            "metadata": {
                "language": "python",
                "azdata_cell_guid": "f1cbf7b0-f518-486d-af27-740673c5607d"
            },
            "attachments": {}
        },
        {
            "cell_type": "markdown",
            "source": [
                "#### **`Aggregation Functions in Pandas and their Application`**"
            ],
            "metadata": {
                "azdata_cell_guid": "0c11bcd4-440d-46c9-8ff2-9bfc5d53684b"
            },
            "attachments": {}
        },
        {
            "cell_type": "markdown",
            "source": [
                "\n",
                "#### Common Aggregation Functions:\n",
                "\n",
                "Pandas provides various aggregation functions to summarize and analyze data. Here are some commonly used aggregation functions:\n",
                "\n",
                "1. **Sum:**\n",
                "   - Calculates the sum of values in a group.\n",
                "\n",
                "2. **Mean (Average):**\n",
                "   - Computes the average value in a group.\n",
                "\n",
                "3. **Median:**\n",
                "   - Finds the middle value in a group.\n",
                "\n",
                "4. **Count:**\n",
                "   - Counts the number of non-null values in a group.\n",
                "\n",
                "5. **Min and Max:**\n",
                "   - Identify the minimum and maximum values in a group.\n",
                "\n",
                "6. **Standard Deviation and Variance:**\n",
                "   - Measures the dispersion of values in a group."
            ],
            "metadata": {
                "azdata_cell_guid": "1e363852-fee3-43c8-8963-a390ee5e2a65"
            },
            "attachments": {}
        },
        {
            "cell_type": "markdown",
            "source": [
                "#### Application with GroupBy:"
            ],
            "metadata": {
                "azdata_cell_guid": "a8f6b250-e44d-42f6-a39d-8736101a7295"
            },
            "attachments": {}
        },
        {
            "cell_type": "code",
            "source": [
                "import pandas as pd\n",
                "\n",
                "# Sample DataFrame\n",
                "data = {'Department': ['HR', 'IT', 'Marketing', 'IT', 'Marketing'],\n",
                "        'Salary': [50000, 60000, 45000, 70000, 55000]}\n",
                "\n",
                "df = pd.DataFrame(data)\n",
                "\n",
                "# Grouping by 'Department'\n",
                "grouped_by_department = df.groupby('Department')\n",
                "\n",
                "# Applying Aggregation Functions\n",
                "agg_result = grouped_by_department['Salary'].agg(['sum', 'mean', 'count', 'min', 'max', 'std', 'var'])\n",
                "\n",
                "# Displaying the Aggregated Result\n",
                "print(\"Aggregated Result for Salary by Department:\")\n",
                "print(agg_result)"
            ],
            "metadata": {
                "azdata_cell_guid": "5e516c8a-57a3-491e-b543-462f8220d752",
                "language": "python"
            },
            "outputs": [
                {
                    "output_type": "stream",
                    "name": "stdout",
                    "text": "Aggregated Result for Salary by Department:\n               sum     mean  count    min    max          std         var\nDepartment                                                               \nHR           50000  50000.0      1  50000  50000          NaN         NaN\nIT          130000  65000.0      2  60000  70000  7071.067812  50000000.0\nMarketing   100000  50000.0      2  45000  55000  7071.067812  50000000.0\n"
                }
            ],
            "execution_count": 12
        },
        {
            "cell_type": "markdown",
            "source": [
                "#### Explanation:\n",
                "\n",
                "- **GroupBy Object:**\n",
                "  - The DataFrame is grouped by the 'Department' column using `groupby('Department')`.\n",
                "\n",
                "- **Aggregation Functions:**\n",
                "  - The `agg()` function is applied to the 'Salary' column within each group.\n",
                "  - Multiple aggregation functions (sum, mean, count, min, max, std, var) are used simultaneously.\n",
                "\n",
                "- **Result Display:**\n",
                "  - The result is a DataFrame showing aggregated values for each department.\n",
                "\n",
                "#### Insights Derived:\n",
                "\n",
                "- **Total Salary Expenditure:**\n",
                "  - `sum` provides the total salary expenditure for each department.\n",
                "\n",
                "- **Average Salary:**\n",
                "  - `mean` gives the average salary within each department.\n",
                "\n",
                "- **Employee Count:**\n",
                "  - `count` indicates the number of employees in each department.\n",
                "\n",
                "- **Salary Range:**\n",
                "  - `min` and `max` reveal the minimum and maximum salaries in each department.\n",
                "\n",
                "- **Salary Dispersion:**\n",
                "  - `std` and `var` quantify the dispersion (standard deviation and variance) of salaries within each department.\n",
                "\n",
                "#### Scenarios for Aggregation:\n",
                "\n",
                "1. **Financial Analysis:**\n",
                "   - Calculate total revenue, average transaction value, etc.\n",
                "\n",
                "2. **Population Statistics:**\n",
                "   - Analyze average age, population size, etc., for different regions.\n",
                "\n",
                "3. **Sales Performance:**\n",
                "   - Assess total sales, average sales, and variability in performance.\n",
                "\n",
                "4. **Quality Control:**\n",
                "   - Evaluate average quality, defects count, etc., in manufacturing.\n",
                "\n",
                "#### Tips:\n",
                "\n",
                "- **Custom Aggregation:**\n",
                "  - You can define custom aggregation functions using lambda functions.\n",
                "\n",
                "- **Applying Multiple Functions:**\n",
                "  - Apply multiple aggregation functions simultaneously for a comprehensive analysis.\n",
                "\n",
                "Aggregation functions are essential tools for summarizing data and extracting key insights. When combined with the GroupBy operation, they allow for efficient analysis and exploration of data within specific groups or categories.\n",
                ""
            ],
            "metadata": {
                "azdata_cell_guid": "74592f19-7ebd-4e05-a134-0d27bd0bba2c"
            },
            "attachments": {}
        },
        {
            "cell_type": "markdown",
            "source": [
                ""
            ],
            "metadata": {
                "azdata_cell_guid": "7f130358-aafd-4ef2-bc37-368c96bac4a5"
            }
        }
    ]
}