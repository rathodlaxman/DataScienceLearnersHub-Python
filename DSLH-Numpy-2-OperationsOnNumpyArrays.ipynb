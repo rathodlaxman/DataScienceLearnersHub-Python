{
    "metadata": {
        "kernelspec": {
            "name": "python3",
            "display_name": "Python 3",
            "language": "python"
        },
        "language_info": {
            "name": "python",
            "version": "3.10.9",
            "mimetype": "text/x-python",
            "codemirror_mode": {
                "name": "ipython",
                "version": 3
            },
            "pygments_lexer": "ipython3",
            "nbconvert_exporter": "python",
            "file_extension": ".py"
        }
    },
    "nbformat_minor": 2,
    "nbformat": 4,
    "cells": [
        {
            "cell_type": "markdown",
            "source": [
                "# **`Data Science Learners Hub`**\n",
                "\n",
                "**Module : Python**\n",
                "\n",
                "**email** : [datasciencelearnershub@gmail.com](mailto:datasciencelearnershub@gmail.com)"
            ],
            "metadata": {
                "azdata_cell_guid": "1c9d735c-382a-4e1b-ad76-44a1a9b7c9e4"
            },
            "attachments": {}
        },
        {
            "cell_type": "markdown",
            "source": [
                "### **`#2: Operations on NumPy Arrays`**\n",
                "\n",
                "1. **Element-wise Operations:**\n",
                "   - Performing basic arithmetic operations on arrays.\n",
                "   - Universal functions (ufuncs) in NumPy.\n",
                "\n",
                "2. **Aggregation and Statistics:**\n",
                "   - Sum, mean, median, variance, and standard deviation.\n",
                "   - Min, max, and other aggregation functions.\n",
                "\n",
                "3. **Array Comparison and Boolean Operations:**\n",
                "   - Comparing arrays element-wise.\n",
                "   - Boolean indexing and masking.\n",
                "\n",
                "4. **Array Manipulation:**\n",
                "   - Reshaping arrays.\n",
                "   - Concatenation and splitting arrays."
            ],
            "metadata": {
                "azdata_cell_guid": "b227b4e7-7cdd-42d6-ba15-9c712564337a"
            },
            "attachments": {}
        },
        {
            "cell_type": "markdown",
            "source": [
                "#### **`1. Element-wise Operations on NumPy Arrays:`**\n",
                "\n",
                "**Concept:**\n",
                "Element-wise operations in NumPy refer to performing operations on corresponding elements of two arrays. This means that each element in the result is obtained by applying the operation to the corresponding elements in the input arrays."
            ],
            "metadata": {
                "azdata_cell_guid": "4d8a46c8-5d7c-4db7-a860-4cc55d6d8cc0"
            },
            "attachments": {}
        },
        {
            "cell_type": "markdown",
            "source": [
                "**Examples:**\n",
                "Let's demonstrate basic arithmetic element-wise operations:\n",
                "\n",
                "1. **Addition (`+`):**\n",
                "   ```python\n",
                "   import numpy as np\n",
                "\n",
                "   arr1 = np.array([1, 2, 3])\n",
                "   arr2 = np.array([4, 5, 6])\n",
                "   result = arr1 + arr2\n",
                "   ```\n",
                "   Result:\n",
                "   ```\n",
                "   [5, 7, 9]\n",
                "   ```\n",
                "\n",
                "2. **Subtraction (`-`):**\n",
                "   ```python\n",
                "   import numpy as np\n",
                "\n",
                "   arr1 = np.array([4, 5, 6])\n",
                "   arr2 = np.array([1, 2, 3])\n",
                "   result = arr1 - arr2\n",
                "   ```\n",
                "   Result:\n",
                "   ```\n",
                "   [3, 3, 3]\n",
                "   ```\n",
                "\n",
                "3. **Multiplication (`*`):**\n",
                "   ```python\n",
                "   import numpy as np\n",
                "\n",
                "   arr1 = np.array([2, 3, 4])\n",
                "   arr2 = np.array([5, 2, 1])\n",
                "   result = arr1 * arr2\n",
                "   ```\n",
                "   Result:\n",
                "   ```\n",
                "   [10, 6, 4]\n",
                "   ```\n",
                "\n",
                "4. **Division (`/`):**\n",
                "   ```python\n",
                "   import numpy as np\n",
                "\n",
                "   arr1 = np.array([10, 15, 20])\n",
                "   arr2 = np.array([2, 3, 4])\n",
                "   result = arr1 / arr2\n",
                "   ```\n",
                "   Result:\n",
                "   ```\n",
                "   [5.0, 5.0, 5.0]\n",
                "   ```"
            ],
            "metadata": {
                "azdata_cell_guid": "81bb526e-46f6-48e8-9b36-198c07dfba9a"
            },
            "attachments": {}
        },
        {
            "cell_type": "markdown",
            "source": [
                "**Real-world Scenarios:**\n",
                "\n",
                "1. **Financial Analysis:**\n",
                "   - **Operation:** Calculating the return on investment for a series of investments.\n",
                "   - **Application:** Element-wise multiplication is used to calculate the returns for each investment, facilitating analysis.\n",
                "\n",
                "2. **Image Processing:**\n",
                "   - **Operation:** Adjusting the brightness of an image.\n",
                "   - **Application:** Element-wise addition or subtraction can be employed to change the brightness of each pixel in an image.\n",
                "\n",
                "3. **Scientific Experiments:**\n",
                "   - **Operation:** Analyzing experimental data collected at different time points.\n",
                "   - **Application:** Element-wise operations help compare and analyze data collected at different time intervals.\n",
                "\n",
                "4. **Weather Data Analysis:**\n",
                "   - **Operation:** Comparing temperatures recorded by different weather stations.\n",
                "   - **Application:** Element-wise subtraction allows for comparing temperature variations recorded by different stations.\n",
                "\n",
                "5. **Healthcare Data Analysis:**\n",
                "   - **Operation:** Analyzing patient vital signs over time.\n",
                "   - **Application:** Element-wise operations help analyze trends and changes in vital signs recorded at different time points.\n",
                "\n",
                "**Key Takeaway:**\n",
                "Element-wise operations in NumPy are fundamental for efficiently processing and analyzing numerical data, especially in scenarios where operations need to be performed on corresponding elements across arrays. They find wide application in fields such as finance, image processing, scientific research, meteorology, and healthcare."
            ],
            "metadata": {
                "azdata_cell_guid": "5c40304b-642e-4ec1-a12e-8eebbe721610"
            },
            "attachments": {}
        },
        {
            "cell_type": "markdown",
            "source": [
                "#### **`2. Aggregation and Statistics in NumPy:`**\n",
                "\n",
                "**Aggregation Functions:**\n",
                "\n",
                "NumPy provides various aggregation functions that summarize data by computing statistical measures. Here are some key aggregation functions:\n",
                ""
            ],
            "metadata": {
                "azdata_cell_guid": "6a02febc-6e7d-429f-927c-6096688724ea"
            },
            "attachments": {}
        },
        {
            "cell_type": "markdown",
            "source": [
                "1. **Sum (`np.sum()`):**\n",
                "   - Computes the sum of array elements along a specified axis or the entire array.\n",
                "   - Example:"
            ],
            "metadata": {
                "azdata_cell_guid": "606f94a8-3e35-47d3-b33b-b463c2a4f072"
            },
            "attachments": {}
        },
        {
            "cell_type": "code",
            "source": [
                "import numpy as np\n",
                "\n",
                "arr = np.array([1, 2, 3, 4, 5])\n",
                "total_sum = np.sum(arr)\n",
                "print(total_sum)"
            ],
            "metadata": {
                "azdata_cell_guid": "d3e25c37-5cb0-4c4a-9194-9c5c4e3880b5",
                "language": "python"
            },
            "outputs": [
                {
                    "output_type": "stream",
                    "name": "stdout",
                    "text": "15\n"
                }
            ],
            "execution_count": 1
        },
        {
            "cell_type": "markdown",
            "source": [
                "2. **Mean (`np.mean()`):**\n",
                "   - Calculates the arithmetic mean (average) of array elements.\n",
                "   - Example:"
            ],
            "metadata": {
                "language": "python",
                "azdata_cell_guid": "0b888443-2830-422c-b41f-5c056dd0f766"
            },
            "attachments": {}
        },
        {
            "cell_type": "code",
            "source": [
                "import numpy as np\n",
                "\n",
                "arr = np.array([10, 20, 30, 40, 50])\n",
                "average = np.mean(arr)\n",
                "print(average)"
            ],
            "metadata": {
                "language": "python",
                "azdata_cell_guid": "aec2bf91-3c3b-4023-ae6c-365146d7a2bc"
            },
            "outputs": [
                {
                    "output_type": "stream",
                    "name": "stdout",
                    "text": "30.0\n"
                }
            ],
            "execution_count": 2
        },
        {
            "cell_type": "markdown",
            "source": [
                "3. **Median (`np.median()`):**\n",
                "   - Computes the median value of array elements.\n",
                "   - Example:"
            ],
            "metadata": {
                "language": "python",
                "azdata_cell_guid": "14ad2e0d-109c-459e-9462-6417e2957546"
            },
            "attachments": {}
        },
        {
            "cell_type": "code",
            "source": [
                "import numpy as np\n",
                "\n",
                "arr = np.array([3, 1, 4, 1, 5, 9, 2, 6, 5])\n",
                "median_value = np.median(arr)\n",
                "print(median_value)"
            ],
            "metadata": {
                "language": "python",
                "azdata_cell_guid": "c20390d9-4597-4b4d-90b6-6ff3b2317bf9"
            },
            "outputs": [
                {
                    "output_type": "stream",
                    "name": "stdout",
                    "text": "4.0\n"
                }
            ],
            "execution_count": 3
        },
        {
            "cell_type": "markdown",
            "source": [
                "4. **Variance (`np.var()`):**\n",
                "   - Calculates the variance, a measure of the spread of array values.\n",
                "   - Example:"
            ],
            "metadata": {
                "language": "python",
                "azdata_cell_guid": "1b25b423-2fd5-43c5-908f-57bd042d4e9c"
            },
            "attachments": {}
        },
        {
            "cell_type": "code",
            "source": [
                "import numpy as np\n",
                "\n",
                "arr = np.array([2, 4, 4, 4, 5, 5, 7, 9])\n",
                "variance = np.var(arr)\n",
                "print(variance)"
            ],
            "metadata": {
                "language": "python",
                "azdata_cell_guid": "b7d32f27-290b-479a-9dbc-609ab6a00162"
            },
            "outputs": [
                {
                    "output_type": "stream",
                    "name": "stdout",
                    "text": "4.0\n"
                }
            ],
            "execution_count": 4
        },
        {
            "cell_type": "markdown",
            "source": [
                "5. **Standard Deviation (`np.std()`):**\n",
                "   - Computes the standard deviation, a measure of the amount of variation or dispersion.\n",
                "   - Example:"
            ],
            "metadata": {
                "language": "python",
                "azdata_cell_guid": "44222ce1-8c9e-4f40-843f-8d32f015787f"
            },
            "attachments": {}
        },
        {
            "cell_type": "code",
            "source": [
                "import numpy as np\n",
                "\n",
                "arr = np.array([1, 2, 3, 4, 5])\n",
                "std_deviation = np.std(arr)\n",
                "print(std_deviation)"
            ],
            "metadata": {
                "language": "python",
                "azdata_cell_guid": "e61f9389-0271-4144-8912-f9392492ae22",
                "tags": []
            },
            "outputs": [
                {
                    "output_type": "stream",
                    "name": "stdout",
                    "text": "1.4142135623730951\n"
                }
            ],
            "execution_count": 5
        },
        {
            "cell_type": "markdown",
            "source": [
                "\n",
                "**Real-world Examples:**\n",
                "\n",
                "1. **Healthcare Data Analysis:**\n",
                "    \n",
                "    - **Metric:** Mean heart rate over a population.\n",
                "    - **Application:** Calculate the mean heart rate using `np.mean()` to assess overall health trends.\n",
                "2. **Environmental Monitoring:**\n",
                "    \n",
                "    - **Metric:** Variance in temperature readings.\n",
                "    - **Application:** Evaluate the variance in temperature data using `np.var()` to understand temperature fluctuations.\n",
                "3. **Manufacturing Quality Control:**\n",
                "    \n",
                "    - **Metric:** Standard deviation of product dimensions.\n",
                "    - **Application:** Assess the consistency in product dimensions using `np.std()` to ensure quality control.\n",
                "4. **Social Sciences Research:**\n",
                "    \n",
                "    - **Metric:** Median income in a demographic study.\n",
                "    - **Application:** Determine the median income using `np.median()` to understand income distribution.\n",
                "\n",
                "**Key Takeaway:** Aggregation functions in NumPy play a crucial role in summarizing and analyzing datasets by providing key statistical measures. They are essential for gaining insights into data distribution, central tendency, and variability, contributing significantly to various fields, including finance, healthcare, environmental science, manufacturing, and social sciences."
            ],
            "metadata": {
                "language": "python",
                "azdata_cell_guid": "fd808ffd-7fc1-4aa4-b130-9ab7871ea8a4"
            },
            "attachments": {}
        },
        {
            "cell_type": "markdown",
            "source": [
                "#### **`3. Array Comparison and Boolean Operations in NumPy:`**\n",
                "\n",
                "**Importance:**\n",
                "\n",
                "Array comparison and boolean operations in NumPy are fundamental for creating conditions, filtering data, and making logical decisions. These operations involve comparing elements in arrays and generating boolean arrays as a result.\n",
                "\n",
                "**Scenarios:**"
            ],
            "metadata": {
                "azdata_cell_guid": "1f0f2bdf-d7ad-4ff9-a186-ef7b0d0384d7"
            },
            "attachments": {}
        },
        {
            "cell_type": "markdown",
            "source": [
                "1. **Filtering Data:**\n",
                "   - **Scenario:** Identifying temperatures above a certain threshold in weather data.\n",
                "   - **Application:** Use boolean operations to filter temperatures exceeding a specified threshold for further analysis."
            ],
            "metadata": {
                "azdata_cell_guid": "9e542ce9-01d6-4678-809d-78259f092af1"
            },
            "attachments": {}
        },
        {
            "cell_type": "code",
            "source": [
                "import numpy as np\n",
                "\n",
                "temperatures = np.array([22, 25, 30, 35, 28, 24, 32])\n",
                "above_threshold = temperatures > 25\n",
                "filtered_temperatures = temperatures[above_threshold]\n",
                "print(filtered_temperatures)"
            ],
            "metadata": {
                "azdata_cell_guid": "4db5a176-170c-4862-b15e-2114f88b57b1",
                "language": "python"
            },
            "outputs": [
                {
                    "output_type": "stream",
                    "name": "stdout",
                    "text": "[30 35 28 32]\n"
                }
            ],
            "execution_count": 6
        },
        {
            "cell_type": "markdown",
            "source": [
                "2. **Scientific Experiments:**\n",
                "   - **Scenario:** Analyzing experimental results based on specific criteria.\n",
                "   - **Application:** Use boolean operations to filter and analyze experimental data meeting specific conditions."
            ],
            "metadata": {
                "language": "python",
                "azdata_cell_guid": "abb43095-e7c7-41ef-bd2a-c368c9719f5a"
            },
            "attachments": {}
        },
        {
            "cell_type": "code",
            "source": [
                "import numpy as np\n",
                "\n",
                "experiment_results = np.array([12, 18, 22, 15, 30, 25, 20])\n",
                "successful_experiments = experiment_results >= 20\n",
                "analysis_data = experiment_results[successful_experiments]\n",
                "print(analysis_data)"
            ],
            "metadata": {
                "language": "python",
                "azdata_cell_guid": "4f4c712f-8ca4-4beb-aac3-f3f37886a8bc"
            },
            "outputs": [
                {
                    "output_type": "stream",
                    "name": "stdout",
                    "text": "[22 30 25 20]\n"
                }
            ],
            "execution_count": 7
        },
        {
            "cell_type": "markdown",
            "source": [
                "3. **Financial Analysis:**\n",
                "   - **Scenario:** Identifying profitable stock trades based on certain indicators.\n",
                "   - **Application:** Use boolean operations to filter stock trades with favorable conditions."
            ],
            "metadata": {
                "language": "python",
                "azdata_cell_guid": "9fe33f12-6627-4f06-944b-e01370a199b8"
            },
            "attachments": {}
        },
        {
            "cell_type": "code",
            "source": [
                "import numpy as np\n",
                "\n",
                "stock_prices = np.array([150, 160, 140, 170, 180, 130])\n",
                "profitable_trades = stock_prices > 150\n",
                "selected_trades = stock_prices[profitable_trades]\n",
                "print(selected_trades)"
            ],
            "metadata": {
                "language": "python",
                "azdata_cell_guid": "11cdb18a-ec3b-4449-b7d1-6160b31f676b"
            },
            "outputs": [
                {
                    "output_type": "stream",
                    "name": "stdout",
                    "text": "[160 170 180]\n"
                }
            ],
            "execution_count": 8
        },
        {
            "cell_type": "markdown",
            "source": [
                "**Real-world Examples:**\n",
                "\n",
                "1. **Medical Research:**\n",
                "   - **Scenario:** Analyzing patient data for specific conditions.\n",
                "   - **Application:** Identify patients with a certain health parameter above a threshold using boolean operations for targeted medical analysis.\n",
                "\n",
                "2. **Environmental Monitoring:**\n",
                "   - **Scenario:** Identifying pollution levels above safety standards.\n",
                "   - **Application:** Use boolean operations to filter data from environmental sensors, focusing on instances when pollution levels exceed acceptable standards.\n",
                "\n",
                "3. **Educational Assessment:**\n",
                "   - **Scenario:** Identifying students who scored above a passing grade.\n",
                "   - **Application:** Use boolean operations to filter and analyze student scores, focusing on those who met or exceeded passing criteria.\n",
                "\n",
                "**Key Takeaway:**\n",
                "\n",
                "Array comparison and boolean operations in NumPy provide a powerful mechanism for filtering and analyzing data based on specific conditions. These operations are crucial in various real-world applications, including weather analysis, scientific experiments, financial decision-making, medical research, environmental monitoring, and educational assessments. They enable users to focus on relevant data subsets, make informed decisions, and extract meaningful insights from datasets."
            ],
            "metadata": {
                "language": "python",
                "azdata_cell_guid": "29441d53-d7d8-417c-b644-09143102f509"
            },
            "attachments": {}
        },
        {
            "cell_type": "markdown",
            "source": [
                "#### **`4. Array Manipulation in NumPy:`**"
            ],
            "metadata": {
                "language": "python",
                "azdata_cell_guid": "58f9a725-c6c5-4ce4-8fd3-34771a1a3675"
            },
            "attachments": {}
        },
        {
            "cell_type": "markdown",
            "source": [
                "**1. Reshaping Arrays:**\n",
                "\n",
                "- **Scenario:** Image Processing\n",
                "- **Application:** Reshaping arrays is crucial in image processing, where images are represented as multi-dimensional arrays. Reshaping can be used to change the dimensions of an image array."
            ],
            "metadata": {
                "language": "python",
                "azdata_cell_guid": "20eeb1af-8bc3-456f-acb8-858630071eeb"
            },
            "attachments": {}
        },
        {
            "cell_type": "code",
            "source": [
                "import numpy as np\n",
                "\n",
                "image = np.array([[1, 2, 3], [4, 5, 6]])\n",
                "reshaped_image = np.reshape(image, (3, 2))\n",
                "print(reshaped_image)"
            ],
            "metadata": {
                "language": "python",
                "azdata_cell_guid": "4e0580fd-f1a2-4e2d-a815-50e07f87b8d8"
            },
            "outputs": [
                {
                    "output_type": "stream",
                    "name": "stdout",
                    "text": "[[1 2]\n [3 4]\n [5 6]]\n"
                }
            ],
            "execution_count": 9
        },
        {
            "cell_type": "markdown",
            "source": [
                "**2. Concatenation:**\n",
                "\n",
                "- **Scenario:** Combining Datasets\n",
                "- **Application:** Concatenation is useful when combining datasets, especially when datasets are collected separately but need to be analyzed together."
            ],
            "metadata": {
                "language": "python",
                "azdata_cell_guid": "203ddb75-b5c8-415d-8ce7-a329ad55ae38"
            },
            "attachments": {}
        },
        {
            "cell_type": "code",
            "source": [
                "import numpy as np\n",
                "\n",
                "data1 = np.array([1, 2, 3])\n",
                "data2 = np.array([3, 5, 6])\n",
                "concatenated_data = np.concatenate((data1, data2))\n",
                "print(concatenated_data)"
            ],
            "metadata": {
                "language": "python",
                "azdata_cell_guid": "8b76c576-70f3-4600-b2da-c72f5c98bd7b"
            },
            "outputs": [
                {
                    "output_type": "stream",
                    "name": "stdout",
                    "text": "[1 2 3 3 5 6]\n"
                }
            ],
            "execution_count": 12
        },
        {
            "cell_type": "code",
            "source": [
                "import numpy as np\n",
                "\n",
                "# axis = 0 is also called as first axis and it represents rows\n",
                "# axis = 1 is also called as second axis and it represents columns\n",
                "\n",
                "# What si the output of the following ?\n",
                "\n",
                "a = [1,2,4]\n",
                "b = [2,4,4]\n",
                "c = [1,2,4]\n",
                "\n",
                "print(\"Concatenate\")\n",
                "print(np.concatenate((a,b), axis=0))\n",
                "# print(\"Concatenate along axis =1 \") # NOTE : AxisError: axis 1 is out of bounds for array of dimension 1\n",
                "# print(np.concatenate((a,b), axis=1))\n",
                "print(\"hstack\")\n",
                "print(np.hstack((a,b))) # Why do we have to give (a,b) inside a parthesis in a paranthesis ? Because hstak takes tuple as an input\n",
                "print(\"vstack\")\n",
                "print(np.vstack((a,b)))\n",
                "print(\"column_stack\")\n",
                "print(np.column_stack((a,b)))"
            ],
            "metadata": {
                "language": "python",
                "azdata_cell_guid": "370474ac-1073-4511-b914-0e45633e0b4e"
            },
            "outputs": [
                {
                    "output_type": "stream",
                    "name": "stdout",
                    "text": "Concatenate\n[1 2 4 2 4 4]\nhstack\n[1 2 4 2 4 4]\nvstack\n[[1 2 4]\n [2 4 4]]\ncolumn_stack\n[[1 2]\n [2 4]\n [4 4]]\n"
                }
            ],
            "execution_count": 2
        },
        {
            "cell_type": "markdown",
            "source": [
                "**3. Splitting:**\n",
                "\n",
                "- **Scenario:** Separating Datasets\n",
                "- **Application:** Splitting is handy when you have a single dataset that needs to be divided into multiple parts for separate analysis or processing."
            ],
            "metadata": {
                "language": "python",
                "azdata_cell_guid": "ebc3e0f0-4d2f-4c54-b2db-1a95745e1b85"
            },
            "attachments": {}
        },
        {
            "cell_type": "code",
            "source": [
                "import numpy as np\n",
                "\n",
                "original_data = np.array([1, 2, 3, 4, 5, 6])\n",
                "split_data = np.split(original_data, 2)\n",
                "print(split_data)"
            ],
            "metadata": {
                "language": "python",
                "azdata_cell_guid": "3de6f4cf-6886-4dd8-bde3-fb2f15321c2e"
            },
            "outputs": [
                {
                    "output_type": "stream",
                    "name": "stdout",
                    "text": "[array([1, 2, 3]), array([4, 5, 6])]\n"
                }
            ],
            "execution_count": 13
        },
        {
            "cell_type": "code",
            "source": [
                "# help(np.split)\n",
                "\n",
                "    # See Also\n",
                "    # --------\n",
                "    # array_split : Split an array into multiple sub-arrays of equal or\n",
                "    #               near-equal size.  Does not raise an exception if\n",
                "    #               an equal division cannot be made.\n",
                "    # hsplit : Split array into multiple sub-arrays horizontally (column-wise).\n",
                "    # vsplit : Split array into multiple sub-arrays vertically (row wise).\n",
                "    # dsplit : Split array into multiple sub-arrays along the 3rd axis (depth).\n",
                "    # concatenate : Join a sequence of arrays along an existing axis.\n",
                "    # stack : Join a sequence of arrays along a new axis.\n",
                "    # hstack : Stack arrays in sequence horizontally (column wise).\n",
                "    # vstack : Stack arrays in sequence vertically (row wise).\n",
                "    # dstack : Stack arrays in sequence depth wise (along third dimension)."
            ],
            "metadata": {
                "language": "python",
                "azdata_cell_guid": "a02ac14d-6f08-4147-9d99-e7f356ef639e"
            },
            "outputs": [],
            "execution_count": 4
        },
        {
            "cell_type": "markdown",
            "source": [
                "**Real-world Examples:**"
            ],
            "metadata": {
                "language": "python",
                "azdata_cell_guid": "e505f727-6f3d-4ddd-b6bf-b08e693156a6"
            },
            "attachments": {}
        },
        {
            "cell_type": "markdown",
            "source": [
                "1. **Image Processing: Reshaping Arrays**\n",
                "\n",
                "   - **Scenario:** Color channels in an image represented as separate arrays.\n",
                "   - **Application:** Reshape the color channels into a single array for further image processing."
            ],
            "metadata": {
                "language": "python",
                "azdata_cell_guid": "469099ee-08d7-42f1-a1d6-9e4f00c0b054"
            },
            "attachments": {}
        },
        {
            "cell_type": "code",
            "source": [
                "    import numpy as np\n",
                "\n",
                "    red_channel = np.array([[255, 0], [0, 255]])\n",
                "    green_channel = np.array([[0, 255], [255, 0]])\n",
                "    blue_channel = np.array([[0, 0], [255, 255]])\n",
                "\n",
                "    # Combine color channels into a single image array\n",
                "    image = np.stack((red_channel, green_channel, blue_channel), axis=-1)\n",
                "    reshaped_image = np.reshape(image, (2, 6))\n",
                "    print(reshaped_image)"
            ],
            "metadata": {
                "language": "python",
                "azdata_cell_guid": "f33bb8a2-3eea-4c0c-85d0-41a273125fc2"
            },
            "outputs": [
                {
                    "output_type": "stream",
                    "name": "stdout",
                    "text": "[[255   0   0   0 255   0]\n [  0 255 255 255   0 255]]\n"
                }
            ],
            "execution_count": 14
        },
        {
            "cell_type": "markdown",
            "source": [
                "2. **Combining Financial Datasets: Concatenation**\n",
                "\n",
                "   - **Scenario:** Quarterly financial reports stored in separate arrays.\n",
                "   - **Application:** Concatenate quarterly reports into a single dataset for annual financial analysis."
            ],
            "metadata": {
                "language": "python",
                "azdata_cell_guid": "55a261ba-5da1-466d-89ea-efdd77ead113"
            },
            "attachments": {}
        },
        {
            "cell_type": "code",
            "source": [
                "import numpy as np\n",
                "\n",
                "q1_data = np.array([100, 150, 120])\n",
                "q2_data = np.array([130, 140, 110])\n",
                "\n",
                "# Combine quarterly data into a single dataset\n",
                "annual_data = np.concatenate((q1_data, q2_data))\n",
                "print(annual_data)"
            ],
            "metadata": {
                "language": "python",
                "azdata_cell_guid": "a764e071-d916-46f8-92c8-b886540264a6"
            },
            "outputs": [
                {
                    "output_type": "stream",
                    "name": "stdout",
                    "text": "[100 150 120 130 140 110]\n"
                }
            ],
            "execution_count": 15
        },
        {
            "cell_type": "markdown",
            "source": [
                "3. **Splitting Time Series Data: Splitting**\n",
                "\n",
                "   - **Scenario:** Time series data collected over a year.\n",
                "   - **Application:** Split the time series into monthly data for individual analysis."
            ],
            "metadata": {
                "language": "python",
                "azdata_cell_guid": "4cf18174-ba75-4761-b44e-948239db375b"
            },
            "attachments": {}
        },
        {
            "cell_type": "code",
            "source": [
                "import numpy as np\n",
                "\n",
                "yearly_data = np.array([10, 15, 20, 25, 30, 35, 40, 45, 50, 55, 60, 65])\n",
                "\n",
                "# Split yearly data into monthly data\n",
                "monthly_data = np.split(yearly_data, 12)\n",
                "print(monthly_data)"
            ],
            "metadata": {
                "language": "python",
                "azdata_cell_guid": "aa9c0571-1436-41b2-9f84-f4301e430013"
            },
            "outputs": [
                {
                    "output_type": "stream",
                    "name": "stdout",
                    "text": "[array([10]), array([15]), array([20]), array([25]), array([30]), array([35]), array([40]), array([45]), array([50]), array([55]), array([60]), array([65])]\n"
                }
            ],
            "execution_count": 16
        },
        {
            "cell_type": "markdown",
            "source": [
                "**Key Takeaway:**\n",
                "\n",
                "Array manipulation operations in NumPy, such as reshaping, concatenation, and splitting, are essential tools for organizing and preparing data for various applications. These operations find practical use in scenarios like image processing, financial analysis, and time series data management, allowing users to efficiently handle complex data structures."
            ],
            "metadata": {
                "language": "python",
                "azdata_cell_guid": "7b811eaf-a5e4-41d6-89b4-83945b4710d4"
            },
            "attachments": {}
        }
    ]
}