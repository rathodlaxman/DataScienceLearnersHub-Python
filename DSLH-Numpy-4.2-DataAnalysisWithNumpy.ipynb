{
    "metadata": {
        "kernelspec": {
            "name": "python3",
            "display_name": "Python 3",
            "language": "python"
        },
        "language_info": {
            "name": "python",
            "version": "3.10.9",
            "mimetype": "text/x-python",
            "codemirror_mode": {
                "name": "ipython",
                "version": 3
            },
            "pygments_lexer": "ipython3",
            "nbconvert_exporter": "python",
            "file_extension": ".py"
        }
    },
    "nbformat_minor": 2,
    "nbformat": 4,
    "cells": [
        {
            "cell_type": "markdown",
            "source": [
                "# **`Data Science Learners Hub`**\n",
                "\n",
                "**Module : Python**\n",
                "\n",
                "**email** : [datasciencelearnershub@gmail.com](mailto:datasciencelearnershub@gmail.com)"
            ],
            "metadata": {
                "azdata_cell_guid": "07e2fe17-5cdc-4f4b-a26c-e8aadd20f72f"
            },
            "attachments": {}
        },
        {
            "cell_type": "markdown",
            "source": [
                "### **`#4: Applications and Real-world Examples`**\n",
                "\n",
                "1. **Image Processing with NumPy:**\n",
                "    \n",
                "    - Loading images as arrays.\n",
                "    - Basic image manipulation using NumPy.\n",
                "2. **Data Analysis with NumPy:**\n",
                "    \n",
                "    - Using NumPy for data manipulation and analysis.\n",
                "    - Introduction to pandas for more advanced data manipulation.\n",
                "3. **Case Studies and Exercises:**\n",
                "    \n",
                "    - Real-world examples and exercises to reinforce concepts.\n",
                "    - Encourage students to work on small projects using NumPy."
            ],
            "metadata": {
                "azdata_cell_guid": "cdba764d-6101-467a-9fc8-a04ea86fe41f"
            },
            "attachments": {}
        },
        {
            "cell_type": "markdown",
            "source": [
                "### **`4.2. Data Analysis with NumPy:`**\n",
                "\n",
                "#### **1. Using NumPy for Data Manipulation and Analysis:**\n",
                "\n",
                "*`Explanation`:*\n",
                "NumPy plays a crucial role in data manipulation and analysis, particularly when handling numerical data efficiently. Its array-based operations and functions provide a foundation for statistical calculations, filtering, and transformations, making it a powerful tool for exploratory data analysis.\n",
                "\n",
                "*`Real-world Example`:*\n",
                "Consider a scenario in scientific research where a dataset of experimental measurements needs to be analyzed. NumPy allows scientists to efficiently calculate statistical measures such as mean, median, and standard deviation, providing insights into the data's central tendency and variability.\n",
                "\n",
                "*Example:*"
            ],
            "metadata": {
                "azdata_cell_guid": "5e8e153a-947f-4b5b-949f-29e29ffeaa38"
            },
            "attachments": {}
        },
        {
            "cell_type": "code",
            "source": [
                "import numpy as np\n",
                "\n",
                "# Example: Calculate mean and standard deviation\n",
                "data = np.array([10, 15, 20, 25, 30])\n",
                "mean_value = np.mean(data)\n",
                "std_deviation = np.std(data)\n",
                "print(f\"Mean : {mean_value}\")\n",
                "print(f\"Std Deviation : {std_deviation}\")"
            ],
            "metadata": {
                "azdata_cell_guid": "51120b50-82af-4439-b4a2-c2a1b9954dc2",
                "language": "python"
            },
            "outputs": [
                {
                    "output_type": "stream",
                    "name": "stdout",
                    "text": "Mean : 20.0\nStd Deviation : 7.0710678118654755\n"
                }
            ],
            "execution_count": 4
        },
        {
            "cell_type": "markdown",
            "source": [
                "\n",
                "#### **2. Introduction to pandas for More Advanced Data Manipulation:**\n",
                "\n",
                "*`Explanation`:*\n",
                "While NumPy excels at numerical operations, pandas extends its capabilities by introducing DataFrames—a two-dimensional, labeled data structure. DataFrames offer more flexibility and advanced functionality for handling structured data, making them valuable for tasks like data cleaning, exploration, and analysis.\n",
                "\n",
                "*`Real-world Scenario`:*\n",
                "In a business context, consider managing a sales dataset with information about products, sales dates, and revenue. Using pandas, this data can be efficiently organized into a DataFrame, enabling operations such as grouping by product category, calculating total revenue, and generating insightful visualizations.\n",
                "\n",
                "*Example:*"
            ],
            "metadata": {
                "language": "python",
                "azdata_cell_guid": "6512e6f5-03f6-471a-9130-6c9828e23d99"
            },
            "attachments": {}
        },
        {
            "cell_type": "code",
            "source": [
                "import pandas as pd\n",
                "# Creating a pandas DataFrame\n",
                "data = {'Product': ['A', 'B', 'C'],\n",
                "        'Sales': [100, 150, 120],\n",
                "        'Profit': [10, 15, 12]}\n",
                "df = pd.DataFrame(data)\n",
                "print(df)"
            ],
            "metadata": {
                "azdata_cell_guid": "9aa8d3a3-9c05-4646-841a-afab267a8112",
                "language": "python"
            },
            "outputs": [
                {
                    "output_type": "stream",
                    "name": "stdout",
                    "text": "  Product  Sales  Profit\n0       A    100      10\n1       B    150      15\n2       C    120      12\n"
                }
            ],
            "execution_count": 1
        },
        {
            "cell_type": "markdown",
            "source": [
                "\n",
                "**Key Takeaway:**\n",
                "NumPy serves as a foundational tool for numerical data manipulation and analysis, while pandas, with its DataFrame structure, extends these capabilities for more advanced operations on structured data. Combining both libraries enhances the data analysis workflow, addressing a wide range of real-world scenarios."
            ],
            "metadata": {
                "language": "python",
                "azdata_cell_guid": "f1c9edfc-e736-4d54-9aa4-08f25212c950"
            },
            "attachments": {}
        }
    ]
}